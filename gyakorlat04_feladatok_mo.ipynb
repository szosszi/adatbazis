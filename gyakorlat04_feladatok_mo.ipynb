{
    "metadata": {
        "kernelspec": {
            "name": "SQL",
            "display_name": "SQL",
            "language": "sql"
        },
        "language_info": {
            "name": "sql",
            "version": ""
        }
    },
    "nbformat_minor": 2,
    "nbformat": 4,
    "cells": [
        {
            "cell_type": "markdown",
            "source": [
                "1. <span style=\"background-color: rgb(255, 255, 255); color: rgb(0, 0, 0); font-family: &quot;Open Sans&quot;, sans-serif; font-size: 14.44px;\">Készítsünk listát arról, hogy ügyfelenként (LOGIN), azon belül szállítási módonként hány megrendelés történt!&nbsp;</span> \n",
                "\n",
                "a. A lista tartalmazza a részösszegeket és a végösszeget is!  \n",
                "b. Használjuk a ROLLUP záradékot!"
            ],
            "metadata": {
                "azdata_cell_guid": "363cd270-6577-449b-9c89-d4b7c7972d52"
            },
            "attachments": {}
        },
        {
            "cell_type": "code",
            "source": [
                "SELECT Login, SZALL_MOD, COUNT(SORSZAM) as hanyszor_rendelt\r\n",
                "FROM Rendeles\r\n",
                "GROUP BY ROLLUP ([LOGIN], SZALL_MOD)\r\n",
                "ORDER BY 1,2\r\n",
                ""
            ],
            "metadata": {
                "azdata_cell_guid": "6ab9f633-a3b5-48c9-a1dc-4fb8235ae85b",
                "language": "sql"
            },
            "outputs": [
                {
                    "output_type": "display_data",
                    "data": {
                        "text/html": "(763 rows affected)"
                    },
                    "metadata": {}
                },
                {
                    "output_type": "display_data",
                    "data": {
                        "text/html": "Total execution time: 00:00:00.072"
                    },
                    "metadata": {}
                },
                {
                    "output_type": "execute_result",
                    "execution_count": 6,
                    "data": {
                        "application/vnd.dataresource+json": {
                            "schema": {
                                "fields": [
                                    {
                                        "name": "Login"
                                    },
                                    {
                                        "name": "SZALL_MOD"
                                    },
                                    {
                                        "name": "hanyszor_rendelt"
                                    }
                                ]
                            },
                            "data": [
                                {
                                    "Login": "NULL",
                                    "SZALL_MOD": "NULL",
                                    "hanyszor_rendelt": "28085"
                                },
                                {
                                    "Login": "adam1",
                                    "SZALL_MOD": "NULL",
                                    "hanyszor_rendelt": "392"
                                },
                                {
                                    "Login": "adam1",
                                    "SZALL_MOD": "GLS",
                                    "hanyszor_rendelt": "129"
                                },
                                {
                                    "Login": "adam1",
                                    "SZALL_MOD": "Posta",
                                    "hanyszor_rendelt": "132"
                                },
                                {
                                    "Login": "adam1",
                                    "SZALL_MOD": "Személyes átvétel",
                                    "hanyszor_rendelt": "131"
                                },
                                {
                                    "Login": "adam3",
                                    "SZALL_MOD": "NULL",
                                    "hanyszor_rendelt": "15"
                                },
                                {
                                    "Login": "adam3",
                                    "SZALL_MOD": "GLS",
                                    "hanyszor_rendelt": "10"
                                },
                                {
                                    "Login": "adam3",
                                    "SZALL_MOD": "Posta",
                                    "hanyszor_rendelt": "3"
                                },
                                {
                                    "Login": "adam3",
                                    "SZALL_MOD": "Személyes átvétel",
                                    "hanyszor_rendelt": "2"
                                },
                                {
                                    "Login": "adam4",
                                    "SZALL_MOD": "NULL",
                                    "hanyszor_rendelt": "29"
                                },
                                {
                                    "Login": "adam4",
                                    "SZALL_MOD": "GLS",
                                    "hanyszor_rendelt": "12"
                                },
                                {
                                    "Login": "adam4",
                                    "SZALL_MOD": "Posta",
                                    "hanyszor_rendelt": "6"
                                },
                                {
                                    "Login": "adam4",
                                    "SZALL_MOD": "Személyes átvétel",
                                    "hanyszor_rendelt": "11"
                                },
                                {
                                    "Login": "agnes",
                                    "SZALL_MOD": "NULL",
                                    "hanyszor_rendelt": "418"
                                },
                                {
                                    "Login": "agnes",
                                    "SZALL_MOD": "GLS",
                                    "hanyszor_rendelt": "144"
                                },
                                {
                                    "Login": "agnes",
                                    "SZALL_MOD": "Posta",
                                    "hanyszor_rendelt": "130"
                                },
                                {
                                    "Login": "agnes",
                                    "SZALL_MOD": "Személyes átvétel",
                                    "hanyszor_rendelt": "144"
                                },
                                {
                                    "Login": "agnes3",
                                    "SZALL_MOD": "NULL",
                                    "hanyszor_rendelt": "430"
                                },
                                {
                                    "Login": "agnes3",
                                    "SZALL_MOD": "GLS",
                                    "hanyszor_rendelt": "148"
                                },
                                {
                                    "Login": "agnes3",
                                    "SZALL_MOD": "Posta",
                                    "hanyszor_rendelt": "146"
                                },
                                {
                                    "Login": "agnes3",
                                    "SZALL_MOD": "Személyes átvétel",
                                    "hanyszor_rendelt": "136"
                                },
                                {
                                    "Login": "AGNESH",
                                    "SZALL_MOD": "NULL",
                                    "hanyszor_rendelt": "11"
                                },
                                {
                                    "Login": "AGNESH",
                                    "SZALL_MOD": "GLS",
                                    "hanyszor_rendelt": "2"
                                },
                                {
                                    "Login": "AGNESH",
                                    "SZALL_MOD": "Posta",
                                    "hanyszor_rendelt": "3"
                                },
                                {
                                    "Login": "AGNESH",
                                    "SZALL_MOD": "Személyes átvétel",
                                    "hanyszor_rendelt": "6"
                                },
                                {
                                    "Login": "AGNESK",
                                    "SZALL_MOD": "NULL",
                                    "hanyszor_rendelt": "15"
                                },
                                {
                                    "Login": "AGNESK",
                                    "SZALL_MOD": "GLS",
                                    "hanyszor_rendelt": "1"
                                },
                                {
                                    "Login": "AGNESK",
                                    "SZALL_MOD": "Posta",
                                    "hanyszor_rendelt": "7"
                                },
                                {
                                    "Login": "AGNESK",
                                    "SZALL_MOD": "Személyes átvétel",
                                    "hanyszor_rendelt": "7"
                                },
                                {
                                    "Login": "akos",
                                    "SZALL_MOD": "NULL",
                                    "hanyszor_rendelt": "429"
                                },
                                {
                                    "Login": "akos",
                                    "SZALL_MOD": "GLS",
                                    "hanyszor_rendelt": "146"
                                },
                                {
                                    "Login": "akos",
                                    "SZALL_MOD": "Posta",
                                    "hanyszor_rendelt": "143"
                                },
                                {
                                    "Login": "akos",
                                    "SZALL_MOD": "Személyes átvétel",
                                    "hanyszor_rendelt": "140"
                                },
                                {
                                    "Login": "aladar",
                                    "SZALL_MOD": "NULL",
                                    "hanyszor_rendelt": "408"
                                },
                                {
                                    "Login": "aladar",
                                    "SZALL_MOD": "GLS",
                                    "hanyszor_rendelt": "156"
                                },
                                {
                                    "Login": "aladar",
                                    "SZALL_MOD": "Posta",
                                    "hanyszor_rendelt": "134"
                                },
                                {
                                    "Login": "aladar",
                                    "SZALL_MOD": "Személyes átvétel",
                                    "hanyszor_rendelt": "118"
                                },
                                {
                                    "Login": "alexandra",
                                    "SZALL_MOD": "NULL",
                                    "hanyszor_rendelt": "19"
                                },
                                {
                                    "Login": "alexandra",
                                    "SZALL_MOD": "GLS",
                                    "hanyszor_rendelt": "5"
                                },
                                {
                                    "Login": "alexandra",
                                    "SZALL_MOD": "Posta",
                                    "hanyszor_rendelt": "9"
                                },
                                {
                                    "Login": "alexandra",
                                    "SZALL_MOD": "Személyes átvétel",
                                    "hanyszor_rendelt": "5"
                                },
                                {
                                    "Login": "andi",
                                    "SZALL_MOD": "NULL",
                                    "hanyszor_rendelt": "18"
                                },
                                {
                                    "Login": "andi",
                                    "SZALL_MOD": "GLS",
                                    "hanyszor_rendelt": "7"
                                },
                                {
                                    "Login": "andi",
                                    "SZALL_MOD": "Posta",
                                    "hanyszor_rendelt": "4"
                                },
                                {
                                    "Login": "andi",
                                    "SZALL_MOD": "Személyes átvétel",
                                    "hanyszor_rendelt": "7"
                                },
                                {
                                    "Login": "andras2",
                                    "SZALL_MOD": "NULL",
                                    "hanyszor_rendelt": "22"
                                },
                                {
                                    "Login": "andras2",
                                    "SZALL_MOD": "GLS",
                                    "hanyszor_rendelt": "4"
                                },
                                {
                                    "Login": "andras2",
                                    "SZALL_MOD": "Posta",
                                    "hanyszor_rendelt": "7"
                                },
                                {
                                    "Login": "andras2",
                                    "SZALL_MOD": "Személyes átvétel",
                                    "hanyszor_rendelt": "11"
                                },
                                {
                                    "Login": "andras21",
                                    "SZALL_MOD": "NULL",
                                    "hanyszor_rendelt": "390"
                                },
                                {
                                    "Login": "andras21",
                                    "SZALL_MOD": "GLS",
                                    "hanyszor_rendelt": "140"
                                },
                                {
                                    "Login": "andras21",
                                    "SZALL_MOD": "Posta",
                                    "hanyszor_rendelt": "124"
                                },
                                {
                                    "Login": "andras21",
                                    "SZALL_MOD": "Személyes átvétel",
                                    "hanyszor_rendelt": "126"
                                },
                                {
                                    "Login": "andras3",
                                    "SZALL_MOD": "NULL",
                                    "hanyszor_rendelt": "9"
                                },
                                {
                                    "Login": "andras3",
                                    "SZALL_MOD": "GLS",
                                    "hanyszor_rendelt": "3"
                                },
                                {
                                    "Login": "andras3",
                                    "SZALL_MOD": "Posta",
                                    "hanyszor_rendelt": "1"
                                },
                                {
                                    "Login": "andras3",
                                    "SZALL_MOD": "Személyes átvétel",
                                    "hanyszor_rendelt": "5"
                                },
                                {
                                    "Login": "andras4",
                                    "SZALL_MOD": "NULL",
                                    "hanyszor_rendelt": "12"
                                },
                                {
                                    "Login": "andras4",
                                    "SZALL_MOD": "GLS",
                                    "hanyszor_rendelt": "4"
                                },
                                {
                                    "Login": "andras4",
                                    "SZALL_MOD": "Posta",
                                    "hanyszor_rendelt": "4"
                                },
                                {
                                    "Login": "andras4",
                                    "SZALL_MOD": "Személyes átvétel",
                                    "hanyszor_rendelt": "4"
                                },
                                {
                                    "Login": "andras41",
                                    "SZALL_MOD": "NULL",
                                    "hanyszor_rendelt": "419"
                                },
                                {
                                    "Login": "andras41",
                                    "SZALL_MOD": "GLS",
                                    "hanyszor_rendelt": "149"
                                },
                                {
                                    "Login": "andras41",
                                    "SZALL_MOD": "Posta",
                                    "hanyszor_rendelt": "137"
                                },
                                {
                                    "Login": "andras41",
                                    "SZALL_MOD": "Személyes átvétel",
                                    "hanyszor_rendelt": "133"
                                },
                                {
                                    "Login": "ANDRASE",
                                    "SZALL_MOD": "NULL",
                                    "hanyszor_rendelt": "436"
                                },
                                {
                                    "Login": "ANDRASE",
                                    "SZALL_MOD": "GLS",
                                    "hanyszor_rendelt": "159"
                                },
                                {
                                    "Login": "ANDRASE",
                                    "SZALL_MOD": "Posta",
                                    "hanyszor_rendelt": "141"
                                },
                                {
                                    "Login": "ANDRASE",
                                    "SZALL_MOD": "Személyes átvétel",
                                    "hanyszor_rendelt": "136"
                                },
                                {
                                    "Login": "ANDRASN",
                                    "SZALL_MOD": "NULL",
                                    "hanyszor_rendelt": "24"
                                },
                                {
                                    "Login": "ANDRASN",
                                    "SZALL_MOD": "GLS",
                                    "hanyszor_rendelt": "10"
                                },
                                {
                                    "Login": "ANDRASN",
                                    "SZALL_MOD": "Posta",
                                    "hanyszor_rendelt": "9"
                                },
                                {
                                    "Login": "ANDRASN",
                                    "SZALL_MOD": "Személyes átvétel",
                                    "hanyszor_rendelt": "5"
                                },
                                {
                                    "Login": "andrea",
                                    "SZALL_MOD": "NULL",
                                    "hanyszor_rendelt": "24"
                                },
                                {
                                    "Login": "andrea",
                                    "SZALL_MOD": "GLS",
                                    "hanyszor_rendelt": "12"
                                },
                                {
                                    "Login": "andrea",
                                    "SZALL_MOD": "Posta",
                                    "hanyszor_rendelt": "4"
                                },
                                {
                                    "Login": "andrea",
                                    "SZALL_MOD": "Személyes átvétel",
                                    "hanyszor_rendelt": "8"
                                },
                                {
                                    "Login": "andrea3",
                                    "SZALL_MOD": "NULL",
                                    "hanyszor_rendelt": "413"
                                },
                                {
                                    "Login": "andrea3",
                                    "SZALL_MOD": "GLS",
                                    "hanyszor_rendelt": "131"
                                },
                                {
                                    "Login": "andrea3",
                                    "SZALL_MOD": "Posta",
                                    "hanyszor_rendelt": "136"
                                },
                                {
                                    "Login": "andrea3",
                                    "SZALL_MOD": "Személyes átvétel",
                                    "hanyszor_rendelt": "146"
                                },
                                {
                                    "Login": "andrea4",
                                    "SZALL_MOD": "NULL",
                                    "hanyszor_rendelt": "18"
                                },
                                {
                                    "Login": "andrea4",
                                    "SZALL_MOD": "GLS",
                                    "hanyszor_rendelt": "7"
                                },
                                {
                                    "Login": "andrea4",
                                    "SZALL_MOD": "Posta",
                                    "hanyszor_rendelt": "4"
                                },
                                {
                                    "Login": "andrea4",
                                    "SZALL_MOD": "Személyes átvétel",
                                    "hanyszor_rendelt": "7"
                                },
                                {
                                    "Login": "ANDREAT",
                                    "SZALL_MOD": "NULL",
                                    "hanyszor_rendelt": "21"
                                },
                                {
                                    "Login": "ANDREAT",
                                    "SZALL_MOD": "GLS",
                                    "hanyszor_rendelt": "3"
                                },
                                {
                                    "Login": "ANDREAT",
                                    "SZALL_MOD": "Posta",
                                    "hanyszor_rendelt": "6"
                                },
                                {
                                    "Login": "ANDREAT",
                                    "SZALL_MOD": "Személyes átvétel",
                                    "hanyszor_rendelt": "12"
                                },
                                {
                                    "Login": "anett3",
                                    "SZALL_MOD": "NULL",
                                    "hanyszor_rendelt": "18"
                                },
                                {
                                    "Login": "anett3",
                                    "SZALL_MOD": "GLS",
                                    "hanyszor_rendelt": "3"
                                },
                                {
                                    "Login": "anett3",
                                    "SZALL_MOD": "Posta",
                                    "hanyszor_rendelt": "6"
                                },
                                {
                                    "Login": "anett3",
                                    "SZALL_MOD": "Személyes átvétel",
                                    "hanyszor_rendelt": "9"
                                },
                                {
                                    "Login": "aniko",
                                    "SZALL_MOD": "NULL",
                                    "hanyszor_rendelt": "403"
                                },
                                {
                                    "Login": "aniko",
                                    "SZALL_MOD": "GLS",
                                    "hanyszor_rendelt": "128"
                                },
                                {
                                    "Login": "aniko",
                                    "SZALL_MOD": "Posta",
                                    "hanyszor_rendelt": "137"
                                },
                                {
                                    "Login": "aniko",
                                    "SZALL_MOD": "Személyes átvétel",
                                    "hanyszor_rendelt": "138"
                                },
                                {
                                    "Login": "aniko4",
                                    "SZALL_MOD": "NULL",
                                    "hanyszor_rendelt": "15"
                                },
                                {
                                    "Login": "aniko4",
                                    "SZALL_MOD": "GLS",
                                    "hanyszor_rendelt": "6"
                                },
                                {
                                    "Login": "aniko4",
                                    "SZALL_MOD": "Posta",
                                    "hanyszor_rendelt": "6"
                                },
                                {
                                    "Login": "aniko4",
                                    "SZALL_MOD": "Személyes átvétel",
                                    "hanyszor_rendelt": "3"
                                },
                                {
                                    "Login": "ANIKOS",
                                    "SZALL_MOD": "NULL",
                                    "hanyszor_rendelt": "404"
                                },
                                {
                                    "Login": "ANIKOS",
                                    "SZALL_MOD": "GLS",
                                    "hanyszor_rendelt": "128"
                                },
                                {
                                    "Login": "ANIKOS",
                                    "SZALL_MOD": "Posta",
                                    "hanyszor_rendelt": "126"
                                },
                                {
                                    "Login": "ANIKOS",
                                    "SZALL_MOD": "Személyes átvétel",
                                    "hanyszor_rendelt": "150"
                                },
                                {
                                    "Login": "anita",
                                    "SZALL_MOD": "NULL",
                                    "hanyszor_rendelt": "12"
                                },
                                {
                                    "Login": "anita",
                                    "SZALL_MOD": "GLS",
                                    "hanyszor_rendelt": "5"
                                },
                                {
                                    "Login": "anita",
                                    "SZALL_MOD": "Posta",
                                    "hanyszor_rendelt": "2"
                                },
                                {
                                    "Login": "anita",
                                    "SZALL_MOD": "Személyes átvétel",
                                    "hanyszor_rendelt": "5"
                                },
                                {
                                    "Login": "annamaria1",
                                    "SZALL_MOD": "NULL",
                                    "hanyszor_rendelt": "16"
                                },
                                {
                                    "Login": "annamaria1",
                                    "SZALL_MOD": "GLS",
                                    "hanyszor_rendelt": "5"
                                },
                                {
                                    "Login": "annamaria1",
                                    "SZALL_MOD": "Posta",
                                    "hanyszor_rendelt": "4"
                                },
                                {
                                    "Login": "annamaria1",
                                    "SZALL_MOD": "Személyes átvétel",
                                    "hanyszor_rendelt": "7"
                                },
                                {
                                    "Login": "ANNAMARIAR",
                                    "SZALL_MOD": "NULL",
                                    "hanyszor_rendelt": "13"
                                },
                                {
                                    "Login": "ANNAMARIAR",
                                    "SZALL_MOD": "GLS",
                                    "hanyszor_rendelt": "8"
                                },
                                {
                                    "Login": "ANNAMARIAR",
                                    "SZALL_MOD": "Posta",
                                    "hanyszor_rendelt": "2"
                                },
                                {
                                    "Login": "ANNAMARIAR",
                                    "SZALL_MOD": "Személyes átvétel",
                                    "hanyszor_rendelt": "3"
                                },
                                {
                                    "Login": "aron2",
                                    "SZALL_MOD": "NULL",
                                    "hanyszor_rendelt": "409"
                                },
                                {
                                    "Login": "aron2",
                                    "SZALL_MOD": "GLS",
                                    "hanyszor_rendelt": "132"
                                },
                                {
                                    "Login": "aron2",
                                    "SZALL_MOD": "Posta",
                                    "hanyszor_rendelt": "133"
                                },
                                {
                                    "Login": "aron2",
                                    "SZALL_MOD": "Személyes átvétel",
                                    "hanyszor_rendelt": "144"
                                },
                                {
                                    "Login": "ARONK",
                                    "SZALL_MOD": "NULL",
                                    "hanyszor_rendelt": "430"
                                },
                                {
                                    "Login": "ARONK",
                                    "SZALL_MOD": "GLS",
                                    "hanyszor_rendelt": "155"
                                },
                                {
                                    "Login": "ARONK",
                                    "SZALL_MOD": "Posta",
                                    "hanyszor_rendelt": "120"
                                },
                                {
                                    "Login": "ARONK",
                                    "SZALL_MOD": "Személyes átvétel",
                                    "hanyszor_rendelt": "155"
                                },
                                {
                                    "Login": "arpad2",
                                    "SZALL_MOD": "NULL",
                                    "hanyszor_rendelt": "17"
                                },
                                {
                                    "Login": "arpad2",
                                    "SZALL_MOD": "GLS",
                                    "hanyszor_rendelt": "6"
                                },
                                {
                                    "Login": "arpad2",
                                    "SZALL_MOD": "Posta",
                                    "hanyszor_rendelt": "1"
                                },
                                {
                                    "Login": "arpad2",
                                    "SZALL_MOD": "Személyes átvétel",
                                    "hanyszor_rendelt": "10"
                                },
                                {
                                    "Login": "ARPADH",
                                    "SZALL_MOD": "NULL",
                                    "hanyszor_rendelt": "14"
                                },
                                {
                                    "Login": "ARPADH",
                                    "SZALL_MOD": "GLS",
                                    "hanyszor_rendelt": "6"
                                },
                                {
                                    "Login": "ARPADH",
                                    "SZALL_MOD": "Posta",
                                    "hanyszor_rendelt": "3"
                                },
                                {
                                    "Login": "ARPADH",
                                    "SZALL_MOD": "Személyes átvétel",
                                    "hanyszor_rendelt": "5"
                                },
                                {
                                    "Login": "ARPADM",
                                    "SZALL_MOD": "NULL",
                                    "hanyszor_rendelt": "16"
                                },
                                {
                                    "Login": "ARPADM",
                                    "SZALL_MOD": "GLS",
                                    "hanyszor_rendelt": "6"
                                },
                                {
                                    "Login": "ARPADM",
                                    "SZALL_MOD": "Posta",
                                    "hanyszor_rendelt": "3"
                                },
                                {
                                    "Login": "ARPADM",
                                    "SZALL_MOD": "Személyes átvétel",
                                    "hanyszor_rendelt": "7"
                                },
                                {
                                    "Login": "attila1",
                                    "SZALL_MOD": "NULL",
                                    "hanyszor_rendelt": "18"
                                },
                                {
                                    "Login": "attila1",
                                    "SZALL_MOD": "GLS",
                                    "hanyszor_rendelt": "5"
                                },
                                {
                                    "Login": "attila1",
                                    "SZALL_MOD": "Posta",
                                    "hanyszor_rendelt": "7"
                                },
                                {
                                    "Login": "attila1",
                                    "SZALL_MOD": "Személyes átvétel",
                                    "hanyszor_rendelt": "6"
                                },
                                {
                                    "Login": "attila4",
                                    "SZALL_MOD": "NULL",
                                    "hanyszor_rendelt": "401"
                                },
                                {
                                    "Login": "attila4",
                                    "SZALL_MOD": "GLS",
                                    "hanyszor_rendelt": "135"
                                },
                                {
                                    "Login": "attila4",
                                    "SZALL_MOD": "Posta",
                                    "hanyszor_rendelt": "125"
                                },
                                {
                                    "Login": "attila4",
                                    "SZALL_MOD": "Személyes átvétel",
                                    "hanyszor_rendelt": "141"
                                },
                                {
                                    "Login": "ATTILAO",
                                    "SZALL_MOD": "NULL",
                                    "hanyszor_rendelt": "14"
                                },
                                {
                                    "Login": "ATTILAO",
                                    "SZALL_MOD": "GLS",
                                    "hanyszor_rendelt": "4"
                                },
                                {
                                    "Login": "ATTILAO",
                                    "SZALL_MOD": "Posta",
                                    "hanyszor_rendelt": "4"
                                },
                                {
                                    "Login": "ATTILAO",
                                    "SZALL_MOD": "Személyes átvétel",
                                    "hanyszor_rendelt": "6"
                                },
                                {
                                    "Login": "balazs1",
                                    "SZALL_MOD": "NULL",
                                    "hanyszor_rendelt": "419"
                                },
                                {
                                    "Login": "balazs1",
                                    "SZALL_MOD": "GLS",
                                    "hanyszor_rendelt": "128"
                                },
                                {
                                    "Login": "balazs1",
                                    "SZALL_MOD": "Posta",
                                    "hanyszor_rendelt": "136"
                                },
                                {
                                    "Login": "balazs1",
                                    "SZALL_MOD": "Személyes átvétel",
                                    "hanyszor_rendelt": "155"
                                },
                                {
                                    "Login": "balazs2",
                                    "SZALL_MOD": "NULL",
                                    "hanyszor_rendelt": "17"
                                },
                                {
                                    "Login": "balazs2",
                                    "SZALL_MOD": "GLS",
                                    "hanyszor_rendelt": "5"
                                },
                                {
                                    "Login": "balazs2",
                                    "SZALL_MOD": "Posta",
                                    "hanyszor_rendelt": "7"
                                },
                                {
                                    "Login": "balazs2",
                                    "SZALL_MOD": "Személyes átvétel",
                                    "hanyszor_rendelt": "5"
                                },
                                {
                                    "Login": "balazs3",
                                    "SZALL_MOD": "NULL",
                                    "hanyszor_rendelt": "15"
                                },
                                {
                                    "Login": "balazs3",
                                    "SZALL_MOD": "GLS",
                                    "hanyszor_rendelt": "6"
                                },
                                {
                                    "Login": "balazs3",
                                    "SZALL_MOD": "Posta",
                                    "hanyszor_rendelt": "6"
                                },
                                {
                                    "Login": "balazs3",
                                    "SZALL_MOD": "Személyes átvétel",
                                    "hanyszor_rendelt": "3"
                                },
                                {
                                    "Login": "balint",
                                    "SZALL_MOD": "NULL",
                                    "hanyszor_rendelt": "16"
                                },
                                {
                                    "Login": "balint",
                                    "SZALL_MOD": "GLS",
                                    "hanyszor_rendelt": "10"
                                },
                                {
                                    "Login": "balint",
                                    "SZALL_MOD": "Posta",
                                    "hanyszor_rendelt": "4"
                                },
                                {
                                    "Login": "balint",
                                    "SZALL_MOD": "Személyes átvétel",
                                    "hanyszor_rendelt": "2"
                                },
                                {
                                    "Login": "balint1",
                                    "SZALL_MOD": "NULL",
                                    "hanyszor_rendelt": "462"
                                },
                                {
                                    "Login": "balint1",
                                    "SZALL_MOD": "GLS",
                                    "hanyszor_rendelt": "158"
                                },
                                {
                                    "Login": "balint1",
                                    "SZALL_MOD": "Posta",
                                    "hanyszor_rendelt": "152"
                                },
                                {
                                    "Login": "balint1",
                                    "SZALL_MOD": "Személyes átvétel",
                                    "hanyszor_rendelt": "152"
                                },
                                {
                                    "Login": "balint2",
                                    "SZALL_MOD": "NULL",
                                    "hanyszor_rendelt": "17"
                                },
                                {
                                    "Login": "balint2",
                                    "SZALL_MOD": "GLS",
                                    "hanyszor_rendelt": "8"
                                },
                                {
                                    "Login": "balint2",
                                    "SZALL_MOD": "Posta",
                                    "hanyszor_rendelt": "6"
                                },
                                {
                                    "Login": "balint2",
                                    "SZALL_MOD": "Személyes átvétel",
                                    "hanyszor_rendelt": "3"
                                },
                                {
                                    "Login": "balu",
                                    "SZALL_MOD": "NULL",
                                    "hanyszor_rendelt": "387"
                                },
                                {
                                    "Login": "balu",
                                    "SZALL_MOD": "GLS",
                                    "hanyszor_rendelt": "127"
                                },
                                {
                                    "Login": "balu",
                                    "SZALL_MOD": "Posta",
                                    "hanyszor_rendelt": "137"
                                },
                                {
                                    "Login": "balu",
                                    "SZALL_MOD": "Személyes átvétel",
                                    "hanyszor_rendelt": "123"
                                },
                                {
                                    "Login": "BEATRIXK",
                                    "SZALL_MOD": "NULL",
                                    "hanyszor_rendelt": "435"
                                },
                                {
                                    "Login": "BEATRIXK",
                                    "SZALL_MOD": "GLS",
                                    "hanyszor_rendelt": "135"
                                },
                                {
                                    "Login": "BEATRIXK",
                                    "SZALL_MOD": "Posta",
                                    "hanyszor_rendelt": "155"
                                },
                                {
                                    "Login": "BEATRIXK",
                                    "SZALL_MOD": "Személyes átvétel",
                                    "hanyszor_rendelt": "145"
                                },
                                {
                                    "Login": "BEATRIXS",
                                    "SZALL_MOD": "NULL",
                                    "hanyszor_rendelt": "420"
                                },
                                {
                                    "Login": "BEATRIXS",
                                    "SZALL_MOD": "GLS",
                                    "hanyszor_rendelt": "146"
                                },
                                {
                                    "Login": "BEATRIXS",
                                    "SZALL_MOD": "Posta",
                                    "hanyszor_rendelt": "141"
                                },
                                {
                                    "Login": "BEATRIXS",
                                    "SZALL_MOD": "Személyes átvétel",
                                    "hanyszor_rendelt": "133"
                                },
                                {
                                    "Login": "BELAF",
                                    "SZALL_MOD": "NULL",
                                    "hanyszor_rendelt": "18"
                                },
                                {
                                    "Login": "BELAF",
                                    "SZALL_MOD": "GLS",
                                    "hanyszor_rendelt": "11"
                                },
                                {
                                    "Login": "BELAF",
                                    "SZALL_MOD": "Posta",
                                    "hanyszor_rendelt": "2"
                                },
                                {
                                    "Login": "BELAF",
                                    "SZALL_MOD": "Személyes átvétel",
                                    "hanyszor_rendelt": "5"
                                },
                                {
                                    "Login": "bence",
                                    "SZALL_MOD": "NULL",
                                    "hanyszor_rendelt": "18"
                                },
                                {
                                    "Login": "bence",
                                    "SZALL_MOD": "GLS",
                                    "hanyszor_rendelt": "4"
                                },
                                {
                                    "Login": "bence",
                                    "SZALL_MOD": "Posta",
                                    "hanyszor_rendelt": "6"
                                },
                                {
                                    "Login": "bence",
                                    "SZALL_MOD": "Személyes átvétel",
                                    "hanyszor_rendelt": "8"
                                },
                                {
                                    "Login": "BENCEB",
                                    "SZALL_MOD": "NULL",
                                    "hanyszor_rendelt": "17"
                                },
                                {
                                    "Login": "BENCEB",
                                    "SZALL_MOD": "GLS",
                                    "hanyszor_rendelt": "5"
                                },
                                {
                                    "Login": "BENCEB",
                                    "SZALL_MOD": "Posta",
                                    "hanyszor_rendelt": "7"
                                },
                                {
                                    "Login": "BENCEB",
                                    "SZALL_MOD": "Személyes átvétel",
                                    "hanyszor_rendelt": "5"
                                },
                                {
                                    "Login": "bernadett1",
                                    "SZALL_MOD": "NULL",
                                    "hanyszor_rendelt": "20"
                                },
                                {
                                    "Login": "bernadett1",
                                    "SZALL_MOD": "GLS",
                                    "hanyszor_rendelt": "10"
                                },
                                {
                                    "Login": "bernadett1",
                                    "SZALL_MOD": "Posta",
                                    "hanyszor_rendelt": "5"
                                },
                                {
                                    "Login": "bernadett1",
                                    "SZALL_MOD": "Személyes átvétel",
                                    "hanyszor_rendelt": "5"
                                },
                                {
                                    "Login": "bernadett2",
                                    "SZALL_MOD": "NULL",
                                    "hanyszor_rendelt": "15"
                                },
                                {
                                    "Login": "bernadett2",
                                    "SZALL_MOD": "GLS",
                                    "hanyszor_rendelt": "6"
                                },
                                {
                                    "Login": "bernadett2",
                                    "SZALL_MOD": "Posta",
                                    "hanyszor_rendelt": "2"
                                },
                                {
                                    "Login": "bernadett2",
                                    "SZALL_MOD": "Személyes átvétel",
                                    "hanyszor_rendelt": "7"
                                },
                                {
                                    "Login": "BERNADETTO",
                                    "SZALL_MOD": "NULL",
                                    "hanyszor_rendelt": "16"
                                },
                                {
                                    "Login": "BERNADETTO",
                                    "SZALL_MOD": "GLS",
                                    "hanyszor_rendelt": "7"
                                },
                                {
                                    "Login": "BERNADETTO",
                                    "SZALL_MOD": "Posta",
                                    "hanyszor_rendelt": "2"
                                },
                                {
                                    "Login": "BERNADETTO",
                                    "SZALL_MOD": "Személyes átvétel",
                                    "hanyszor_rendelt": "7"
                                },
                                {
                                    "Login": "bertalan",
                                    "SZALL_MOD": "NULL",
                                    "hanyszor_rendelt": "353"
                                },
                                {
                                    "Login": "bertalan",
                                    "SZALL_MOD": "GLS",
                                    "hanyszor_rendelt": "128"
                                },
                                {
                                    "Login": "bertalan",
                                    "SZALL_MOD": "Posta",
                                    "hanyszor_rendelt": "124"
                                },
                                {
                                    "Login": "bertalan",
                                    "SZALL_MOD": "Személyes átvétel",
                                    "hanyszor_rendelt": "101"
                                },
                                {
                                    "Login": "brigitta",
                                    "SZALL_MOD": "NULL",
                                    "hanyszor_rendelt": "393"
                                },
                                {
                                    "Login": "brigitta",
                                    "SZALL_MOD": "GLS",
                                    "hanyszor_rendelt": "137"
                                },
                                {
                                    "Login": "brigitta",
                                    "SZALL_MOD": "Posta",
                                    "hanyszor_rendelt": "137"
                                },
                                {
                                    "Login": "brigitta",
                                    "SZALL_MOD": "Személyes átvétel",
                                    "hanyszor_rendelt": "119"
                                },
                                {
                                    "Login": "brigitta3",
                                    "SZALL_MOD": "NULL",
                                    "hanyszor_rendelt": "413"
                                },
                                {
                                    "Login": "brigitta3",
                                    "SZALL_MOD": "GLS",
                                    "hanyszor_rendelt": "144"
                                },
                                {
                                    "Login": "brigitta3",
                                    "SZALL_MOD": "Posta",
                                    "hanyszor_rendelt": "130"
                                },
                                {
                                    "Login": "brigitta3",
                                    "SZALL_MOD": "Személyes átvétel",
                                    "hanyszor_rendelt": "139"
                                },
                                {
                                    "Login": "csongor3",
                                    "SZALL_MOD": "NULL",
                                    "hanyszor_rendelt": "15"
                                },
                                {
                                    "Login": "csongor3",
                                    "SZALL_MOD": "GLS",
                                    "hanyszor_rendelt": "5"
                                },
                                {
                                    "Login": "csongor3",
                                    "SZALL_MOD": "Posta",
                                    "hanyszor_rendelt": "2"
                                },
                                {
                                    "Login": "csongor3",
                                    "SZALL_MOD": "Személyes átvétel",
                                    "hanyszor_rendelt": "8"
                                },
                                {
                                    "Login": "dani",
                                    "SZALL_MOD": "NULL",
                                    "hanyszor_rendelt": "13"
                                },
                                {
                                    "Login": "dani",
                                    "SZALL_MOD": "GLS",
                                    "hanyszor_rendelt": "5"
                                },
                                {
                                    "Login": "dani",
                                    "SZALL_MOD": "Személyes átvétel",
                                    "hanyszor_rendelt": "8"
                                },
                                {
                                    "Login": "daniel",
                                    "SZALL_MOD": "NULL",
                                    "hanyszor_rendelt": "13"
                                },
                                {
                                    "Login": "daniel",
                                    "SZALL_MOD": "GLS",
                                    "hanyszor_rendelt": "7"
                                },
                                {
                                    "Login": "daniel",
                                    "SZALL_MOD": "Posta",
                                    "hanyszor_rendelt": "2"
                                },
                                {
                                    "Login": "daniel",
                                    "SZALL_MOD": "Személyes átvétel",
                                    "hanyszor_rendelt": "4"
                                },
                                {
                                    "Login": "daniel1",
                                    "SZALL_MOD": "NULL",
                                    "hanyszor_rendelt": "419"
                                },
                                {
                                    "Login": "daniel1",
                                    "SZALL_MOD": "GLS",
                                    "hanyszor_rendelt": "156"
                                },
                                {
                                    "Login": "daniel1",
                                    "SZALL_MOD": "Posta",
                                    "hanyszor_rendelt": "131"
                                },
                                {
                                    "Login": "daniel1",
                                    "SZALL_MOD": "Személyes átvétel",
                                    "hanyszor_rendelt": "132"
                                },
                                {
                                    "Login": "david",
                                    "SZALL_MOD": "NULL",
                                    "hanyszor_rendelt": "451"
                                },
                                {
                                    "Login": "david",
                                    "SZALL_MOD": "GLS",
                                    "hanyszor_rendelt": "161"
                                },
                                {
                                    "Login": "david",
                                    "SZALL_MOD": "Posta",
                                    "hanyszor_rendelt": "144"
                                },
                                {
                                    "Login": "david",
                                    "SZALL_MOD": "Személyes átvétel",
                                    "hanyszor_rendelt": "146"
                                },
                                {
                                    "Login": "david1",
                                    "SZALL_MOD": "NULL",
                                    "hanyszor_rendelt": "17"
                                },
                                {
                                    "Login": "david1",
                                    "SZALL_MOD": "GLS",
                                    "hanyszor_rendelt": "8"
                                },
                                {
                                    "Login": "david1",
                                    "SZALL_MOD": "Posta",
                                    "hanyszor_rendelt": "1"
                                },
                                {
                                    "Login": "david1",
                                    "SZALL_MOD": "Személyes átvétel",
                                    "hanyszor_rendelt": "8"
                                },
                                {
                                    "Login": "david4",
                                    "SZALL_MOD": "NULL",
                                    "hanyszor_rendelt": "21"
                                },
                                {
                                    "Login": "david4",
                                    "SZALL_MOD": "GLS",
                                    "hanyszor_rendelt": "3"
                                },
                                {
                                    "Login": "david4",
                                    "SZALL_MOD": "Posta",
                                    "hanyszor_rendelt": "8"
                                },
                                {
                                    "Login": "david4",
                                    "SZALL_MOD": "Személyes átvétel",
                                    "hanyszor_rendelt": "10"
                                },
                                {
                                    "Login": "debora",
                                    "SZALL_MOD": "NULL",
                                    "hanyszor_rendelt": "16"
                                },
                                {
                                    "Login": "debora",
                                    "SZALL_MOD": "GLS",
                                    "hanyszor_rendelt": "7"
                                },
                                {
                                    "Login": "debora",
                                    "SZALL_MOD": "Posta",
                                    "hanyszor_rendelt": "6"
                                },
                                {
                                    "Login": "debora",
                                    "SZALL_MOD": "Személyes átvétel",
                                    "hanyszor_rendelt": "3"
                                },
                                {
                                    "Login": "denes",
                                    "SZALL_MOD": "NULL",
                                    "hanyszor_rendelt": "9"
                                },
                                {
                                    "Login": "denes",
                                    "SZALL_MOD": "GLS",
                                    "hanyszor_rendelt": "3"
                                },
                                {
                                    "Login": "denes",
                                    "SZALL_MOD": "Posta",
                                    "hanyszor_rendelt": "2"
                                },
                                {
                                    "Login": "denes",
                                    "SZALL_MOD": "Személyes átvétel",
                                    "hanyszor_rendelt": "4"
                                },
                                {
                                    "Login": "dora3",
                                    "SZALL_MOD": "NULL",
                                    "hanyszor_rendelt": "432"
                                },
                                {
                                    "Login": "dora3",
                                    "SZALL_MOD": "GLS",
                                    "hanyszor_rendelt": "144"
                                },
                                {
                                    "Login": "dora3",
                                    "SZALL_MOD": "Posta",
                                    "hanyszor_rendelt": "124"
                                },
                                {
                                    "Login": "dora3",
                                    "SZALL_MOD": "Személyes átvétel",
                                    "hanyszor_rendelt": "164"
                                },
                                {
                                    "Login": "edit",
                                    "SZALL_MOD": "NULL",
                                    "hanyszor_rendelt": "13"
                                },
                                {
                                    "Login": "edit",
                                    "SZALL_MOD": "GLS",
                                    "hanyszor_rendelt": "7"
                                },
                                {
                                    "Login": "edit",
                                    "SZALL_MOD": "Posta",
                                    "hanyszor_rendelt": "2"
                                },
                                {
                                    "Login": "edit",
                                    "SZALL_MOD": "Személyes átvétel",
                                    "hanyszor_rendelt": "4"
                                },
                                {
                                    "Login": "emese",
                                    "SZALL_MOD": "NULL",
                                    "hanyszor_rendelt": "406"
                                },
                                {
                                    "Login": "emese",
                                    "SZALL_MOD": "GLS",
                                    "hanyszor_rendelt": "128"
                                },
                                {
                                    "Login": "emese",
                                    "SZALL_MOD": "Posta",
                                    "hanyszor_rendelt": "136"
                                },
                                {
                                    "Login": "emese",
                                    "SZALL_MOD": "Személyes átvétel",
                                    "hanyszor_rendelt": "142"
                                },
                                {
                                    "Login": "eszter2",
                                    "SZALL_MOD": "NULL",
                                    "hanyszor_rendelt": "415"
                                },
                                {
                                    "Login": "eszter2",
                                    "SZALL_MOD": "GLS",
                                    "hanyszor_rendelt": "127"
                                },
                                {
                                    "Login": "eszter2",
                                    "SZALL_MOD": "Posta",
                                    "hanyszor_rendelt": "136"
                                },
                                {
                                    "Login": "eszter2",
                                    "SZALL_MOD": "Személyes átvétel",
                                    "hanyszor_rendelt": "152"
                                },
                                {
                                    "Login": "eszter4",
                                    "SZALL_MOD": "NULL",
                                    "hanyszor_rendelt": "424"
                                },
                                {
                                    "Login": "eszter4",
                                    "SZALL_MOD": "GLS",
                                    "hanyszor_rendelt": "141"
                                },
                                {
                                    "Login": "eszter4",
                                    "SZALL_MOD": "Posta",
                                    "hanyszor_rendelt": "134"
                                },
                                {
                                    "Login": "eszter4",
                                    "SZALL_MOD": "Személyes átvétel",
                                    "hanyszor_rendelt": "149"
                                },
                                {
                                    "Login": "ESZTERE",
                                    "SZALL_MOD": "NULL",
                                    "hanyszor_rendelt": "22"
                                },
                                {
                                    "Login": "ESZTERE",
                                    "SZALL_MOD": "GLS",
                                    "hanyszor_rendelt": "6"
                                },
                                {
                                    "Login": "ESZTERE",
                                    "SZALL_MOD": "Posta",
                                    "hanyszor_rendelt": "9"
                                },
                                {
                                    "Login": "ESZTERE",
                                    "SZALL_MOD": "Személyes átvétel",
                                    "hanyszor_rendelt": "7"
                                },
                                {
                                    "Login": "eva",
                                    "SZALL_MOD": "NULL",
                                    "hanyszor_rendelt": "404"
                                },
                                {
                                    "Login": "eva",
                                    "SZALL_MOD": "GLS",
                                    "hanyszor_rendelt": "125"
                                },
                                {
                                    "Login": "eva",
                                    "SZALL_MOD": "Posta",
                                    "hanyszor_rendelt": "140"
                                },
                                {
                                    "Login": "eva",
                                    "SZALL_MOD": "Személyes átvétel",
                                    "hanyszor_rendelt": "139"
                                },
                                {
                                    "Login": "eva2",
                                    "SZALL_MOD": "NULL",
                                    "hanyszor_rendelt": "462"
                                },
                                {
                                    "Login": "eva2",
                                    "SZALL_MOD": "GLS",
                                    "hanyszor_rendelt": "154"
                                },
                                {
                                    "Login": "eva2",
                                    "SZALL_MOD": "Posta",
                                    "hanyszor_rendelt": "138"
                                },
                                {
                                    "Login": "eva2",
                                    "SZALL_MOD": "Személyes átvétel",
                                    "hanyszor_rendelt": "170"
                                },
                                {
                                    "Login": "EVAV",
                                    "SZALL_MOD": "NULL",
                                    "hanyszor_rendelt": "7"
                                },
                                {
                                    "Login": "EVAV",
                                    "SZALL_MOD": "GLS",
                                    "hanyszor_rendelt": "2"
                                },
                                {
                                    "Login": "EVAV",
                                    "SZALL_MOD": "Posta",
                                    "hanyszor_rendelt": "1"
                                },
                                {
                                    "Login": "EVAV",
                                    "SZALL_MOD": "Személyes átvétel",
                                    "hanyszor_rendelt": "4"
                                },
                                {
                                    "Login": "ferenc1",
                                    "SZALL_MOD": "NULL",
                                    "hanyszor_rendelt": "437"
                                },
                                {
                                    "Login": "ferenc1",
                                    "SZALL_MOD": "GLS",
                                    "hanyszor_rendelt": "144"
                                },
                                {
                                    "Login": "ferenc1",
                                    "SZALL_MOD": "Posta",
                                    "hanyszor_rendelt": "158"
                                },
                                {
                                    "Login": "ferenc1",
                                    "SZALL_MOD": "Személyes átvétel",
                                    "hanyszor_rendelt": "135"
                                },
                                {
                                    "Login": "fruzsina4",
                                    "SZALL_MOD": "NULL",
                                    "hanyszor_rendelt": "18"
                                },
                                {
                                    "Login": "fruzsina4",
                                    "SZALL_MOD": "GLS",
                                    "hanyszor_rendelt": "8"
                                },
                                {
                                    "Login": "fruzsina4",
                                    "SZALL_MOD": "Posta",
                                    "hanyszor_rendelt": "3"
                                },
                                {
                                    "Login": "fruzsina4",
                                    "SZALL_MOD": "Személyes átvétel",
                                    "hanyszor_rendelt": "7"
                                },
                                {
                                    "Login": "gabor1",
                                    "SZALL_MOD": "NULL",
                                    "hanyszor_rendelt": "19"
                                },
                                {
                                    "Login": "gabor1",
                                    "SZALL_MOD": "GLS",
                                    "hanyszor_rendelt": "9"
                                },
                                {
                                    "Login": "gabor1",
                                    "SZALL_MOD": "Posta",
                                    "hanyszor_rendelt": "5"
                                },
                                {
                                    "Login": "gabor1",
                                    "SZALL_MOD": "Személyes átvétel",
                                    "hanyszor_rendelt": "5"
                                },
                                {
                                    "Login": "gabor4",
                                    "SZALL_MOD": "NULL",
                                    "hanyszor_rendelt": "20"
                                },
                                {
                                    "Login": "gabor4",
                                    "SZALL_MOD": "GLS",
                                    "hanyszor_rendelt": "7"
                                },
                                {
                                    "Login": "gabor4",
                                    "SZALL_MOD": "Posta",
                                    "hanyszor_rendelt": "9"
                                },
                                {
                                    "Login": "gabor4",
                                    "SZALL_MOD": "Személyes átvétel",
                                    "hanyszor_rendelt": "4"
                                },
                                {
                                    "Login": "GABORS",
                                    "SZALL_MOD": "NULL",
                                    "hanyszor_rendelt": "15"
                                },
                                {
                                    "Login": "GABORS",
                                    "SZALL_MOD": "GLS",
                                    "hanyszor_rendelt": "5"
                                },
                                {
                                    "Login": "GABORS",
                                    "SZALL_MOD": "Posta",
                                    "hanyszor_rendelt": "6"
                                },
                                {
                                    "Login": "GABORS",
                                    "SZALL_MOD": "Személyes átvétel",
                                    "hanyszor_rendelt": "4"
                                },
                                {
                                    "Login": "gabriella1",
                                    "SZALL_MOD": "NULL",
                                    "hanyszor_rendelt": "14"
                                },
                                {
                                    "Login": "gabriella1",
                                    "SZALL_MOD": "GLS",
                                    "hanyszor_rendelt": "5"
                                },
                                {
                                    "Login": "gabriella1",
                                    "SZALL_MOD": "Posta",
                                    "hanyszor_rendelt": "4"
                                },
                                {
                                    "Login": "gabriella1",
                                    "SZALL_MOD": "Személyes átvétel",
                                    "hanyszor_rendelt": "5"
                                },
                                {
                                    "Login": "gabriella10",
                                    "SZALL_MOD": "NULL",
                                    "hanyszor_rendelt": "16"
                                },
                                {
                                    "Login": "gabriella10",
                                    "SZALL_MOD": "GLS",
                                    "hanyszor_rendelt": "4"
                                },
                                {
                                    "Login": "gabriella10",
                                    "SZALL_MOD": "Posta",
                                    "hanyszor_rendelt": "5"
                                },
                                {
                                    "Login": "gabriella10",
                                    "SZALL_MOD": "Személyes átvétel",
                                    "hanyszor_rendelt": "7"
                                },
                                {
                                    "Login": "georgij",
                                    "SZALL_MOD": "NULL",
                                    "hanyszor_rendelt": "21"
                                },
                                {
                                    "Login": "georgij",
                                    "SZALL_MOD": "GLS",
                                    "hanyszor_rendelt": "9"
                                },
                                {
                                    "Login": "georgij",
                                    "SZALL_MOD": "Posta",
                                    "hanyszor_rendelt": "2"
                                },
                                {
                                    "Login": "georgij",
                                    "SZALL_MOD": "Személyes átvétel",
                                    "hanyszor_rendelt": "10"
                                },
                                {
                                    "Login": "gusztav",
                                    "SZALL_MOD": "NULL",
                                    "hanyszor_rendelt": "14"
                                },
                                {
                                    "Login": "gusztav",
                                    "SZALL_MOD": "GLS",
                                    "hanyszor_rendelt": "5"
                                },
                                {
                                    "Login": "gusztav",
                                    "SZALL_MOD": "Posta",
                                    "hanyszor_rendelt": "4"
                                },
                                {
                                    "Login": "gusztav",
                                    "SZALL_MOD": "Személyes átvétel",
                                    "hanyszor_rendelt": "5"
                                },
                                {
                                    "Login": "GYONGYIK",
                                    "SZALL_MOD": "NULL",
                                    "hanyszor_rendelt": "15"
                                },
                                {
                                    "Login": "GYONGYIK",
                                    "SZALL_MOD": "GLS",
                                    "hanyszor_rendelt": "6"
                                },
                                {
                                    "Login": "GYONGYIK",
                                    "SZALL_MOD": "Posta",
                                    "hanyszor_rendelt": "6"
                                },
                                {
                                    "Login": "GYONGYIK",
                                    "SZALL_MOD": "Személyes átvétel",
                                    "hanyszor_rendelt": "3"
                                },
                                {
                                    "Login": "GYORGYO",
                                    "SZALL_MOD": "NULL",
                                    "hanyszor_rendelt": "16"
                                },
                                {
                                    "Login": "GYORGYO",
                                    "SZALL_MOD": "GLS",
                                    "hanyszor_rendelt": "7"
                                },
                                {
                                    "Login": "GYORGYO",
                                    "SZALL_MOD": "Posta",
                                    "hanyszor_rendelt": "4"
                                },
                                {
                                    "Login": "GYORGYO",
                                    "SZALL_MOD": "Személyes átvétel",
                                    "hanyszor_rendelt": "5"
                                },
                                {
                                    "Login": "henrik3",
                                    "SZALL_MOD": "NULL",
                                    "hanyszor_rendelt": "16"
                                },
                                {
                                    "Login": "henrik3",
                                    "SZALL_MOD": "GLS",
                                    "hanyszor_rendelt": "7"
                                },
                                {
                                    "Login": "henrik3",
                                    "SZALL_MOD": "Posta",
                                    "hanyszor_rendelt": "4"
                                },
                                {
                                    "Login": "henrik3",
                                    "SZALL_MOD": "Személyes átvétel",
                                    "hanyszor_rendelt": "5"
                                },
                                {
                                    "Login": "IBOLYAA",
                                    "SZALL_MOD": "NULL",
                                    "hanyszor_rendelt": "422"
                                },
                                {
                                    "Login": "IBOLYAA",
                                    "SZALL_MOD": "GLS",
                                    "hanyszor_rendelt": "140"
                                },
                                {
                                    "Login": "IBOLYAA",
                                    "SZALL_MOD": "Posta",
                                    "hanyszor_rendelt": "125"
                                },
                                {
                                    "Login": "IBOLYAA",
                                    "SZALL_MOD": "Személyes átvétel",
                                    "hanyszor_rendelt": "157"
                                },
                                {
                                    "Login": "ilona3",
                                    "SZALL_MOD": "NULL",
                                    "hanyszor_rendelt": "18"
                                },
                                {
                                    "Login": "ilona3",
                                    "SZALL_MOD": "GLS",
                                    "hanyszor_rendelt": "9"
                                },
                                {
                                    "Login": "ilona3",
                                    "SZALL_MOD": "Posta",
                                    "hanyszor_rendelt": "2"
                                },
                                {
                                    "Login": "ilona3",
                                    "SZALL_MOD": "Személyes átvétel",
                                    "hanyszor_rendelt": "7"
                                },
                                {
                                    "Login": "imre",
                                    "SZALL_MOD": "NULL",
                                    "hanyszor_rendelt": "15"
                                },
                                {
                                    "Login": "imre",
                                    "SZALL_MOD": "GLS",
                                    "hanyszor_rendelt": "5"
                                },
                                {
                                    "Login": "imre",
                                    "SZALL_MOD": "Posta",
                                    "hanyszor_rendelt": "4"
                                },
                                {
                                    "Login": "imre",
                                    "SZALL_MOD": "Személyes átvétel",
                                    "hanyszor_rendelt": "6"
                                },
                                {
                                    "Login": "imre1",
                                    "SZALL_MOD": "NULL",
                                    "hanyszor_rendelt": "15"
                                },
                                {
                                    "Login": "imre1",
                                    "SZALL_MOD": "GLS",
                                    "hanyszor_rendelt": "8"
                                },
                                {
                                    "Login": "imre1",
                                    "SZALL_MOD": "Posta",
                                    "hanyszor_rendelt": "4"
                                },
                                {
                                    "Login": "imre1",
                                    "SZALL_MOD": "Személyes átvétel",
                                    "hanyszor_rendelt": "3"
                                },
                                {
                                    "Login": "istvan",
                                    "SZALL_MOD": "NULL",
                                    "hanyszor_rendelt": "11"
                                },
                                {
                                    "Login": "istvan",
                                    "SZALL_MOD": "GLS",
                                    "hanyszor_rendelt": "3"
                                },
                                {
                                    "Login": "istvan",
                                    "SZALL_MOD": "Posta",
                                    "hanyszor_rendelt": "4"
                                },
                                {
                                    "Login": "istvan",
                                    "SZALL_MOD": "Személyes átvétel",
                                    "hanyszor_rendelt": "4"
                                },
                                {
                                    "Login": "istvan1",
                                    "SZALL_MOD": "NULL",
                                    "hanyszor_rendelt": "19"
                                },
                                {
                                    "Login": "istvan1",
                                    "SZALL_MOD": "GLS",
                                    "hanyszor_rendelt": "8"
                                },
                                {
                                    "Login": "istvan1",
                                    "SZALL_MOD": "Posta",
                                    "hanyszor_rendelt": "4"
                                },
                                {
                                    "Login": "istvan1",
                                    "SZALL_MOD": "Személyes átvétel",
                                    "hanyszor_rendelt": "7"
                                },
                                {
                                    "Login": "ISTVANV",
                                    "SZALL_MOD": "NULL",
                                    "hanyszor_rendelt": "21"
                                },
                                {
                                    "Login": "ISTVANV",
                                    "SZALL_MOD": "GLS",
                                    "hanyszor_rendelt": "4"
                                },
                                {
                                    "Login": "ISTVANV",
                                    "SZALL_MOD": "Posta",
                                    "hanyszor_rendelt": "9"
                                },
                                {
                                    "Login": "ISTVANV",
                                    "SZALL_MOD": "Személyes átvétel",
                                    "hanyszor_rendelt": "8"
                                },
                                {
                                    "Login": "janos3",
                                    "SZALL_MOD": "NULL",
                                    "hanyszor_rendelt": "13"
                                },
                                {
                                    "Login": "janos3",
                                    "SZALL_MOD": "GLS",
                                    "hanyszor_rendelt": "5"
                                },
                                {
                                    "Login": "janos3",
                                    "SZALL_MOD": "Posta",
                                    "hanyszor_rendelt": "2"
                                },
                                {
                                    "Login": "janos3",
                                    "SZALL_MOD": "Személyes átvétel",
                                    "hanyszor_rendelt": "6"
                                },
                                {
                                    "Login": "JANOSG",
                                    "SZALL_MOD": "NULL",
                                    "hanyszor_rendelt": "10"
                                },
                                {
                                    "Login": "JANOSG",
                                    "SZALL_MOD": "GLS",
                                    "hanyszor_rendelt": "3"
                                },
                                {
                                    "Login": "JANOSG",
                                    "SZALL_MOD": "Posta",
                                    "hanyszor_rendelt": "3"
                                },
                                {
                                    "Login": "JANOSG",
                                    "SZALL_MOD": "Személyes átvétel",
                                    "hanyszor_rendelt": "4"
                                },
                                {
                                    "Login": "JANOSP",
                                    "SZALL_MOD": "NULL",
                                    "hanyszor_rendelt": "17"
                                },
                                {
                                    "Login": "JANOSP",
                                    "SZALL_MOD": "GLS",
                                    "hanyszor_rendelt": "7"
                                },
                                {
                                    "Login": "JANOSP",
                                    "SZALL_MOD": "Posta",
                                    "hanyszor_rendelt": "7"
                                },
                                {
                                    "Login": "JANOSP",
                                    "SZALL_MOD": "Személyes átvétel",
                                    "hanyszor_rendelt": "3"
                                },
                                {
                                    "Login": "jozsef",
                                    "SZALL_MOD": "NULL",
                                    "hanyszor_rendelt": "382"
                                },
                                {
                                    "Login": "jozsef",
                                    "SZALL_MOD": "GLS",
                                    "hanyszor_rendelt": "116"
                                },
                                {
                                    "Login": "jozsef",
                                    "SZALL_MOD": "Posta",
                                    "hanyszor_rendelt": "132"
                                },
                                {
                                    "Login": "jozsef",
                                    "SZALL_MOD": "Személyes átvétel",
                                    "hanyszor_rendelt": "134"
                                },
                                {
                                    "Login": "jozsef2",
                                    "SZALL_MOD": "NULL",
                                    "hanyszor_rendelt": "13"
                                },
                                {
                                    "Login": "jozsef2",
                                    "SZALL_MOD": "GLS",
                                    "hanyszor_rendelt": "7"
                                },
                                {
                                    "Login": "jozsef2",
                                    "SZALL_MOD": "Posta",
                                    "hanyszor_rendelt": "2"
                                },
                                {
                                    "Login": "jozsef2",
                                    "SZALL_MOD": "Személyes átvétel",
                                    "hanyszor_rendelt": "4"
                                },
                                {
                                    "Login": "JOZSEFG",
                                    "SZALL_MOD": "NULL",
                                    "hanyszor_rendelt": "21"
                                },
                                {
                                    "Login": "JOZSEFG",
                                    "SZALL_MOD": "GLS",
                                    "hanyszor_rendelt": "11"
                                },
                                {
                                    "Login": "JOZSEFG",
                                    "SZALL_MOD": "Posta",
                                    "hanyszor_rendelt": "1"
                                },
                                {
                                    "Login": "JOZSEFG",
                                    "SZALL_MOD": "Személyes átvétel",
                                    "hanyszor_rendelt": "9"
                                },
                                {
                                    "Login": "JUDITH",
                                    "SZALL_MOD": "NULL",
                                    "hanyszor_rendelt": "450"
                                },
                                {
                                    "Login": "JUDITH",
                                    "SZALL_MOD": "GLS",
                                    "hanyszor_rendelt": "170"
                                },
                                {
                                    "Login": "JUDITH",
                                    "SZALL_MOD": "Posta",
                                    "hanyszor_rendelt": "130"
                                },
                                {
                                    "Login": "JUDITH",
                                    "SZALL_MOD": "Személyes átvétel",
                                    "hanyszor_rendelt": "150"
                                },
                                {
                                    "Login": "julia",
                                    "SZALL_MOD": "NULL",
                                    "hanyszor_rendelt": "435"
                                },
                                {
                                    "Login": "julia",
                                    "SZALL_MOD": "GLS",
                                    "hanyszor_rendelt": "137"
                                },
                                {
                                    "Login": "julia",
                                    "SZALL_MOD": "Posta",
                                    "hanyszor_rendelt": "160"
                                },
                                {
                                    "Login": "julia",
                                    "SZALL_MOD": "Személyes átvétel",
                                    "hanyszor_rendelt": "138"
                                },
                                {
                                    "Login": "julia4",
                                    "SZALL_MOD": "NULL",
                                    "hanyszor_rendelt": "14"
                                },
                                {
                                    "Login": "julia4",
                                    "SZALL_MOD": "GLS",
                                    "hanyszor_rendelt": "2"
                                },
                                {
                                    "Login": "julia4",
                                    "SZALL_MOD": "Posta",
                                    "hanyszor_rendelt": "4"
                                },
                                {
                                    "Login": "julia4",
                                    "SZALL_MOD": "Személyes átvétel",
                                    "hanyszor_rendelt": "8"
                                },
                                {
                                    "Login": "julianna4",
                                    "SZALL_MOD": "NULL",
                                    "hanyszor_rendelt": "27"
                                },
                                {
                                    "Login": "julianna4",
                                    "SZALL_MOD": "GLS",
                                    "hanyszor_rendelt": "8"
                                },
                                {
                                    "Login": "julianna4",
                                    "SZALL_MOD": "Posta",
                                    "hanyszor_rendelt": "12"
                                },
                                {
                                    "Login": "julianna4",
                                    "SZALL_MOD": "Személyes átvétel",
                                    "hanyszor_rendelt": "7"
                                },
                                {
                                    "Login": "kata",
                                    "SZALL_MOD": "NULL",
                                    "hanyszor_rendelt": "12"
                                },
                                {
                                    "Login": "kata",
                                    "SZALL_MOD": "GLS",
                                    "hanyszor_rendelt": "5"
                                },
                                {
                                    "Login": "kata",
                                    "SZALL_MOD": "Posta",
                                    "hanyszor_rendelt": "4"
                                },
                                {
                                    "Login": "kata",
                                    "SZALL_MOD": "Személyes átvétel",
                                    "hanyszor_rendelt": "3"
                                },
                                {
                                    "Login": "katalin",
                                    "SZALL_MOD": "NULL",
                                    "hanyszor_rendelt": "19"
                                },
                                {
                                    "Login": "katalin",
                                    "SZALL_MOD": "GLS",
                                    "hanyszor_rendelt": "7"
                                },
                                {
                                    "Login": "katalin",
                                    "SZALL_MOD": "Posta",
                                    "hanyszor_rendelt": "7"
                                },
                                {
                                    "Login": "katalin",
                                    "SZALL_MOD": "Személyes átvétel",
                                    "hanyszor_rendelt": "5"
                                },
                                {
                                    "Login": "katalin4",
                                    "SZALL_MOD": "NULL",
                                    "hanyszor_rendelt": "23"
                                },
                                {
                                    "Login": "katalin4",
                                    "SZALL_MOD": "GLS",
                                    "hanyszor_rendelt": "7"
                                },
                                {
                                    "Login": "katalin4",
                                    "SZALL_MOD": "Posta",
                                    "hanyszor_rendelt": "5"
                                },
                                {
                                    "Login": "katalin4",
                                    "SZALL_MOD": "Személyes átvétel",
                                    "hanyszor_rendelt": "11"
                                },
                                {
                                    "Login": "kati",
                                    "SZALL_MOD": "NULL",
                                    "hanyszor_rendelt": "13"
                                },
                                {
                                    "Login": "kati",
                                    "SZALL_MOD": "GLS",
                                    "hanyszor_rendelt": "4"
                                },
                                {
                                    "Login": "kati",
                                    "SZALL_MOD": "Posta",
                                    "hanyszor_rendelt": "5"
                                },
                                {
                                    "Login": "kati",
                                    "SZALL_MOD": "Személyes átvétel",
                                    "hanyszor_rendelt": "4"
                                },
                                {
                                    "Login": "katka",
                                    "SZALL_MOD": "NULL",
                                    "hanyszor_rendelt": "22"
                                },
                                {
                                    "Login": "katka",
                                    "SZALL_MOD": "GLS",
                                    "hanyszor_rendelt": "6"
                                },
                                {
                                    "Login": "katka",
                                    "SZALL_MOD": "Posta",
                                    "hanyszor_rendelt": "6"
                                },
                                {
                                    "Login": "katka",
                                    "SZALL_MOD": "Személyes átvétel",
                                    "hanyszor_rendelt": "10"
                                },
                                {
                                    "Login": "klaudia2",
                                    "SZALL_MOD": "NULL",
                                    "hanyszor_rendelt": "17"
                                },
                                {
                                    "Login": "klaudia2",
                                    "SZALL_MOD": "GLS",
                                    "hanyszor_rendelt": "3"
                                },
                                {
                                    "Login": "klaudia2",
                                    "SZALL_MOD": "Posta",
                                    "hanyszor_rendelt": "9"
                                },
                                {
                                    "Login": "klaudia2",
                                    "SZALL_MOD": "Személyes átvétel",
                                    "hanyszor_rendelt": "5"
                                },
                                {
                                    "Login": "kornel4",
                                    "SZALL_MOD": "NULL",
                                    "hanyszor_rendelt": "11"
                                },
                                {
                                    "Login": "kornel4",
                                    "SZALL_MOD": "GLS",
                                    "hanyszor_rendelt": "3"
                                },
                                {
                                    "Login": "kornel4",
                                    "SZALL_MOD": "Posta",
                                    "hanyszor_rendelt": "1"
                                },
                                {
                                    "Login": "kornel4",
                                    "SZALL_MOD": "Személyes átvétel",
                                    "hanyszor_rendelt": "7"
                                },
                                {
                                    "Login": "kristof4",
                                    "SZALL_MOD": "NULL",
                                    "hanyszor_rendelt": "21"
                                },
                                {
                                    "Login": "kristof4",
                                    "SZALL_MOD": "GLS",
                                    "hanyszor_rendelt": "9"
                                },
                                {
                                    "Login": "kristof4",
                                    "SZALL_MOD": "Posta",
                                    "hanyszor_rendelt": "4"
                                },
                                {
                                    "Login": "kristof4",
                                    "SZALL_MOD": "Személyes átvétel",
                                    "hanyszor_rendelt": "8"
                                },
                                {
                                    "Login": "kriszti",
                                    "SZALL_MOD": "NULL",
                                    "hanyszor_rendelt": "13"
                                },
                                {
                                    "Login": "kriszti",
                                    "SZALL_MOD": "GLS",
                                    "hanyszor_rendelt": "3"
                                },
                                {
                                    "Login": "kriszti",
                                    "SZALL_MOD": "Posta",
                                    "hanyszor_rendelt": "5"
                                },
                                {
                                    "Login": "kriszti",
                                    "SZALL_MOD": "Személyes átvétel",
                                    "hanyszor_rendelt": "5"
                                },
                                {
                                    "Login": "krisztian4",
                                    "SZALL_MOD": "NULL",
                                    "hanyszor_rendelt": "17"
                                },
                                {
                                    "Login": "krisztian4",
                                    "SZALL_MOD": "GLS",
                                    "hanyszor_rendelt": "5"
                                },
                                {
                                    "Login": "krisztian4",
                                    "SZALL_MOD": "Posta",
                                    "hanyszor_rendelt": "6"
                                },
                                {
                                    "Login": "krisztian4",
                                    "SZALL_MOD": "Személyes átvétel",
                                    "hanyszor_rendelt": "6"
                                },
                                {
                                    "Login": "KRISZTIANM",
                                    "SZALL_MOD": "NULL",
                                    "hanyszor_rendelt": "384"
                                },
                                {
                                    "Login": "KRISZTIANM",
                                    "SZALL_MOD": "GLS",
                                    "hanyszor_rendelt": "118"
                                },
                                {
                                    "Login": "KRISZTIANM",
                                    "SZALL_MOD": "Posta",
                                    "hanyszor_rendelt": "136"
                                },
                                {
                                    "Login": "KRISZTIANM",
                                    "SZALL_MOD": "Személyes átvétel",
                                    "hanyszor_rendelt": "130"
                                },
                                {
                                    "Login": "krisztina",
                                    "SZALL_MOD": "NULL",
                                    "hanyszor_rendelt": "456"
                                },
                                {
                                    "Login": "krisztina",
                                    "SZALL_MOD": "GLS",
                                    "hanyszor_rendelt": "149"
                                },
                                {
                                    "Login": "krisztina",
                                    "SZALL_MOD": "Posta",
                                    "hanyszor_rendelt": "150"
                                },
                                {
                                    "Login": "krisztina",
                                    "SZALL_MOD": "Személyes átvétel",
                                    "hanyszor_rendelt": "157"
                                },
                                {
                                    "Login": "krisztina1",
                                    "SZALL_MOD": "NULL",
                                    "hanyszor_rendelt": "22"
                                },
                                {
                                    "Login": "krisztina1",
                                    "SZALL_MOD": "GLS",
                                    "hanyszor_rendelt": "10"
                                },
                                {
                                    "Login": "krisztina1",
                                    "SZALL_MOD": "Posta",
                                    "hanyszor_rendelt": "4"
                                },
                                {
                                    "Login": "krisztina1",
                                    "SZALL_MOD": "Személyes átvétel",
                                    "hanyszor_rendelt": "8"
                                },
                                {
                                    "Login": "KRISZTINAG",
                                    "SZALL_MOD": "NULL",
                                    "hanyszor_rendelt": "22"
                                },
                                {
                                    "Login": "KRISZTINAG",
                                    "SZALL_MOD": "GLS",
                                    "hanyszor_rendelt": "6"
                                },
                                {
                                    "Login": "KRISZTINAG",
                                    "SZALL_MOD": "Posta",
                                    "hanyszor_rendelt": "6"
                                },
                                {
                                    "Login": "KRISZTINAG",
                                    "SZALL_MOD": "Személyes átvétel",
                                    "hanyszor_rendelt": "10"
                                },
                                {
                                    "Login": "lajos",
                                    "SZALL_MOD": "NULL",
                                    "hanyszor_rendelt": "16"
                                },
                                {
                                    "Login": "lajos",
                                    "SZALL_MOD": "GLS",
                                    "hanyszor_rendelt": "5"
                                },
                                {
                                    "Login": "lajos",
                                    "SZALL_MOD": "Posta",
                                    "hanyszor_rendelt": "2"
                                },
                                {
                                    "Login": "lajos",
                                    "SZALL_MOD": "Személyes átvétel",
                                    "hanyszor_rendelt": "9"
                                },
                                {
                                    "Login": "lala",
                                    "SZALL_MOD": "NULL",
                                    "hanyszor_rendelt": "17"
                                },
                                {
                                    "Login": "lala",
                                    "SZALL_MOD": "GLS",
                                    "hanyszor_rendelt": "5"
                                },
                                {
                                    "Login": "lala",
                                    "SZALL_MOD": "Posta",
                                    "hanyszor_rendelt": "3"
                                },
                                {
                                    "Login": "lala",
                                    "SZALL_MOD": "Személyes átvétel",
                                    "hanyszor_rendelt": "9"
                                },
                                {
                                    "Login": "laszlo1",
                                    "SZALL_MOD": "NULL",
                                    "hanyszor_rendelt": "394"
                                },
                                {
                                    "Login": "laszlo1",
                                    "SZALL_MOD": "GLS",
                                    "hanyszor_rendelt": "130"
                                },
                                {
                                    "Login": "laszlo1",
                                    "SZALL_MOD": "Posta",
                                    "hanyszor_rendelt": "129"
                                },
                                {
                                    "Login": "laszlo1",
                                    "SZALL_MOD": "Személyes átvétel",
                                    "hanyszor_rendelt": "135"
                                },
                                {
                                    "Login": "laszlo2",
                                    "SZALL_MOD": "NULL",
                                    "hanyszor_rendelt": "25"
                                },
                                {
                                    "Login": "laszlo2",
                                    "SZALL_MOD": "GLS",
                                    "hanyszor_rendelt": "12"
                                },
                                {
                                    "Login": "laszlo2",
                                    "SZALL_MOD": "Posta",
                                    "hanyszor_rendelt": "6"
                                },
                                {
                                    "Login": "laszlo2",
                                    "SZALL_MOD": "Személyes átvétel",
                                    "hanyszor_rendelt": "7"
                                },
                                {
                                    "Login": "LASZLOA",
                                    "SZALL_MOD": "NULL",
                                    "hanyszor_rendelt": "446"
                                },
                                {
                                    "Login": "LASZLOA",
                                    "SZALL_MOD": "GLS",
                                    "hanyszor_rendelt": "156"
                                },
                                {
                                    "Login": "LASZLOA",
                                    "SZALL_MOD": "Posta",
                                    "hanyszor_rendelt": "136"
                                },
                                {
                                    "Login": "LASZLOA",
                                    "SZALL_MOD": "Személyes átvétel",
                                    "hanyszor_rendelt": "154"
                                },
                                {
                                    "Login": "LASZLON",
                                    "SZALL_MOD": "NULL",
                                    "hanyszor_rendelt": "400"
                                },
                                {
                                    "Login": "LASZLON",
                                    "SZALL_MOD": "GLS",
                                    "hanyszor_rendelt": "126"
                                },
                                {
                                    "Login": "LASZLON",
                                    "SZALL_MOD": "Posta",
                                    "hanyszor_rendelt": "131"
                                },
                                {
                                    "Login": "LASZLON",
                                    "SZALL_MOD": "Személyes átvétel",
                                    "hanyszor_rendelt": "143"
                                },
                                {
                                    "Login": "maria1",
                                    "SZALL_MOD": "NULL",
                                    "hanyszor_rendelt": "10"
                                },
                                {
                                    "Login": "maria1",
                                    "SZALL_MOD": "GLS",
                                    "hanyszor_rendelt": "4"
                                },
                                {
                                    "Login": "maria1",
                                    "SZALL_MOD": "Posta",
                                    "hanyszor_rendelt": "5"
                                },
                                {
                                    "Login": "maria1",
                                    "SZALL_MOD": "Személyes átvétel",
                                    "hanyszor_rendelt": "1"
                                },
                                {
                                    "Login": "MARKH",
                                    "SZALL_MOD": "NULL",
                                    "hanyszor_rendelt": "412"
                                },
                                {
                                    "Login": "MARKH",
                                    "SZALL_MOD": "GLS",
                                    "hanyszor_rendelt": "128"
                                },
                                {
                                    "Login": "MARKH",
                                    "SZALL_MOD": "Posta",
                                    "hanyszor_rendelt": "142"
                                },
                                {
                                    "Login": "MARKH",
                                    "SZALL_MOD": "Személyes átvétel",
                                    "hanyszor_rendelt": "142"
                                },
                                {
                                    "Login": "marton",
                                    "SZALL_MOD": "NULL",
                                    "hanyszor_rendelt": "14"
                                },
                                {
                                    "Login": "marton",
                                    "SZALL_MOD": "GLS",
                                    "hanyszor_rendelt": "5"
                                },
                                {
                                    "Login": "marton",
                                    "SZALL_MOD": "Posta",
                                    "hanyszor_rendelt": "4"
                                },
                                {
                                    "Login": "marton",
                                    "SZALL_MOD": "Személyes átvétel",
                                    "hanyszor_rendelt": "5"
                                },
                                {
                                    "Login": "MATEK",
                                    "SZALL_MOD": "NULL",
                                    "hanyszor_rendelt": "25"
                                },
                                {
                                    "Login": "MATEK",
                                    "SZALL_MOD": "GLS",
                                    "hanyszor_rendelt": "6"
                                },
                                {
                                    "Login": "MATEK",
                                    "SZALL_MOD": "Posta",
                                    "hanyszor_rendelt": "10"
                                },
                                {
                                    "Login": "MATEK",
                                    "SZALL_MOD": "Személyes átvétel",
                                    "hanyszor_rendelt": "9"
                                },
                                {
                                    "Login": "matyas2",
                                    "SZALL_MOD": "NULL",
                                    "hanyszor_rendelt": "433"
                                },
                                {
                                    "Login": "matyas2",
                                    "SZALL_MOD": "GLS",
                                    "hanyszor_rendelt": "138"
                                },
                                {
                                    "Login": "matyas2",
                                    "SZALL_MOD": "Posta",
                                    "hanyszor_rendelt": "131"
                                },
                                {
                                    "Login": "matyas2",
                                    "SZALL_MOD": "Személyes átvétel",
                                    "hanyszor_rendelt": "164"
                                },
                                {
                                    "Login": "MATYASS",
                                    "SZALL_MOD": "NULL",
                                    "hanyszor_rendelt": "12"
                                },
                                {
                                    "Login": "MATYASS",
                                    "SZALL_MOD": "GLS",
                                    "hanyszor_rendelt": "4"
                                },
                                {
                                    "Login": "MATYASS",
                                    "SZALL_MOD": "Posta",
                                    "hanyszor_rendelt": "5"
                                },
                                {
                                    "Login": "MATYASS",
                                    "SZALL_MOD": "Személyes átvétel",
                                    "hanyszor_rendelt": "3"
                                },
                                {
                                    "Login": "MIHALYJ",
                                    "SZALL_MOD": "NULL",
                                    "hanyszor_rendelt": "13"
                                },
                                {
                                    "Login": "MIHALYJ",
                                    "SZALL_MOD": "GLS",
                                    "hanyszor_rendelt": "3"
                                },
                                {
                                    "Login": "MIHALYJ",
                                    "SZALL_MOD": "Posta",
                                    "hanyszor_rendelt": "4"
                                },
                                {
                                    "Login": "MIHALYJ",
                                    "SZALL_MOD": "Személyes átvétel",
                                    "hanyszor_rendelt": "6"
                                },
                                {
                                    "Login": "miklos2",
                                    "SZALL_MOD": "NULL",
                                    "hanyszor_rendelt": "13"
                                },
                                {
                                    "Login": "miklos2",
                                    "SZALL_MOD": "GLS",
                                    "hanyszor_rendelt": "7"
                                },
                                {
                                    "Login": "miklos2",
                                    "SZALL_MOD": "Posta",
                                    "hanyszor_rendelt": "4"
                                },
                                {
                                    "Login": "miklos2",
                                    "SZALL_MOD": "Személyes átvétel",
                                    "hanyszor_rendelt": "2"
                                },
                                {
                                    "Login": "MIKLOSB",
                                    "SZALL_MOD": "NULL",
                                    "hanyszor_rendelt": "15"
                                },
                                {
                                    "Login": "MIKLOSB",
                                    "SZALL_MOD": "GLS",
                                    "hanyszor_rendelt": "6"
                                },
                                {
                                    "Login": "MIKLOSB",
                                    "SZALL_MOD": "Posta",
                                    "hanyszor_rendelt": "1"
                                },
                                {
                                    "Login": "MIKLOSB",
                                    "SZALL_MOD": "Személyes átvétel",
                                    "hanyszor_rendelt": "8"
                                },
                                {
                                    "Login": "MONIKAM",
                                    "SZALL_MOD": "NULL",
                                    "hanyszor_rendelt": "407"
                                },
                                {
                                    "Login": "MONIKAM",
                                    "SZALL_MOD": "GLS",
                                    "hanyszor_rendelt": "133"
                                },
                                {
                                    "Login": "MONIKAM",
                                    "SZALL_MOD": "Posta",
                                    "hanyszor_rendelt": "151"
                                },
                                {
                                    "Login": "MONIKAM",
                                    "SZALL_MOD": "Személyes átvétel",
                                    "hanyszor_rendelt": "123"
                                },
                                {
                                    "Login": "NANDORF",
                                    "SZALL_MOD": "NULL",
                                    "hanyszor_rendelt": "420"
                                },
                                {
                                    "Login": "NANDORF",
                                    "SZALL_MOD": "GLS",
                                    "hanyszor_rendelt": "147"
                                },
                                {
                                    "Login": "NANDORF",
                                    "SZALL_MOD": "Posta",
                                    "hanyszor_rendelt": "139"
                                },
                                {
                                    "Login": "NANDORF",
                                    "SZALL_MOD": "Személyes átvétel",
                                    "hanyszor_rendelt": "134"
                                },
                                {
                                    "Login": "nikolett3",
                                    "SZALL_MOD": "NULL",
                                    "hanyszor_rendelt": "17"
                                },
                                {
                                    "Login": "nikolett3",
                                    "SZALL_MOD": "GLS",
                                    "hanyszor_rendelt": "4"
                                },
                                {
                                    "Login": "nikolett3",
                                    "SZALL_MOD": "Posta",
                                    "hanyszor_rendelt": "3"
                                },
                                {
                                    "Login": "nikolett3",
                                    "SZALL_MOD": "Személyes átvétel",
                                    "hanyszor_rendelt": "10"
                                },
                                {
                                    "Login": "nikoletta4",
                                    "SZALL_MOD": "NULL",
                                    "hanyszor_rendelt": "414"
                                },
                                {
                                    "Login": "nikoletta4",
                                    "SZALL_MOD": "GLS",
                                    "hanyszor_rendelt": "137"
                                },
                                {
                                    "Login": "nikoletta4",
                                    "SZALL_MOD": "Posta",
                                    "hanyszor_rendelt": "158"
                                },
                                {
                                    "Login": "nikoletta4",
                                    "SZALL_MOD": "Személyes átvétel",
                                    "hanyszor_rendelt": "119"
                                },
                                {
                                    "Login": "NIKOLETTAT",
                                    "SZALL_MOD": "NULL",
                                    "hanyszor_rendelt": "25"
                                },
                                {
                                    "Login": "NIKOLETTAT",
                                    "SZALL_MOD": "GLS",
                                    "hanyszor_rendelt": "13"
                                },
                                {
                                    "Login": "NIKOLETTAT",
                                    "SZALL_MOD": "Posta",
                                    "hanyszor_rendelt": "7"
                                },
                                {
                                    "Login": "NIKOLETTAT",
                                    "SZALL_MOD": "Személyes átvétel",
                                    "hanyszor_rendelt": "5"
                                },
                                {
                                    "Login": "norbert2",
                                    "SZALL_MOD": "NULL",
                                    "hanyszor_rendelt": "11"
                                },
                                {
                                    "Login": "norbert2",
                                    "SZALL_MOD": "GLS",
                                    "hanyszor_rendelt": "7"
                                },
                                {
                                    "Login": "norbert2",
                                    "SZALL_MOD": "Posta",
                                    "hanyszor_rendelt": "4"
                                },
                                {
                                    "Login": "norbert4",
                                    "SZALL_MOD": "NULL",
                                    "hanyszor_rendelt": "13"
                                },
                                {
                                    "Login": "norbert4",
                                    "SZALL_MOD": "GLS",
                                    "hanyszor_rendelt": "1"
                                },
                                {
                                    "Login": "norbert4",
                                    "SZALL_MOD": "Posta",
                                    "hanyszor_rendelt": "3"
                                },
                                {
                                    "Login": "norbert4",
                                    "SZALL_MOD": "Személyes átvétel",
                                    "hanyszor_rendelt": "9"
                                },
                                {
                                    "Login": "norbert5",
                                    "SZALL_MOD": "NULL",
                                    "hanyszor_rendelt": "16"
                                },
                                {
                                    "Login": "norbert5",
                                    "SZALL_MOD": "GLS",
                                    "hanyszor_rendelt": "1"
                                },
                                {
                                    "Login": "norbert5",
                                    "SZALL_MOD": "Posta",
                                    "hanyszor_rendelt": "6"
                                },
                                {
                                    "Login": "norbert5",
                                    "SZALL_MOD": "Személyes átvétel",
                                    "hanyszor_rendelt": "9"
                                },
                                {
                                    "Login": "pal",
                                    "SZALL_MOD": "NULL",
                                    "hanyszor_rendelt": "438"
                                },
                                {
                                    "Login": "pal",
                                    "SZALL_MOD": "GLS",
                                    "hanyszor_rendelt": "152"
                                },
                                {
                                    "Login": "pal",
                                    "SZALL_MOD": "Posta",
                                    "hanyszor_rendelt": "132"
                                },
                                {
                                    "Login": "pal",
                                    "SZALL_MOD": "Személyes átvétel",
                                    "hanyszor_rendelt": "154"
                                },
                                {
                                    "Login": "peter1",
                                    "SZALL_MOD": "NULL",
                                    "hanyszor_rendelt": "412"
                                },
                                {
                                    "Login": "peter1",
                                    "SZALL_MOD": "GLS",
                                    "hanyszor_rendelt": "151"
                                },
                                {
                                    "Login": "peter1",
                                    "SZALL_MOD": "Posta",
                                    "hanyszor_rendelt": "135"
                                },
                                {
                                    "Login": "peter1",
                                    "SZALL_MOD": "Személyes átvétel",
                                    "hanyszor_rendelt": "126"
                                },
                                {
                                    "Login": "peter2",
                                    "SZALL_MOD": "NULL",
                                    "hanyszor_rendelt": "18"
                                },
                                {
                                    "Login": "peter2",
                                    "SZALL_MOD": "GLS",
                                    "hanyszor_rendelt": "7"
                                },
                                {
                                    "Login": "peter2",
                                    "SZALL_MOD": "Posta",
                                    "hanyszor_rendelt": "4"
                                },
                                {
                                    "Login": "peter2",
                                    "SZALL_MOD": "Személyes átvétel",
                                    "hanyszor_rendelt": "7"
                                },
                                {
                                    "Login": "peter3",
                                    "SZALL_MOD": "NULL",
                                    "hanyszor_rendelt": "25"
                                },
                                {
                                    "Login": "peter3",
                                    "SZALL_MOD": "GLS",
                                    "hanyszor_rendelt": "8"
                                },
                                {
                                    "Login": "peter3",
                                    "SZALL_MOD": "Posta",
                                    "hanyszor_rendelt": "7"
                                },
                                {
                                    "Login": "peter3",
                                    "SZALL_MOD": "Személyes átvétel",
                                    "hanyszor_rendelt": "10"
                                },
                                {
                                    "Login": "peter4",
                                    "SZALL_MOD": "NULL",
                                    "hanyszor_rendelt": "852"
                                },
                                {
                                    "Login": "peter4",
                                    "SZALL_MOD": "GLS",
                                    "hanyszor_rendelt": "266"
                                },
                                {
                                    "Login": "peter4",
                                    "SZALL_MOD": "Posta",
                                    "hanyszor_rendelt": "293"
                                },
                                {
                                    "Login": "peter4",
                                    "SZALL_MOD": "Személyes átvétel",
                                    "hanyszor_rendelt": "293"
                                },
                                {
                                    "Login": "PETERB",
                                    "SZALL_MOD": "NULL",
                                    "hanyszor_rendelt": "15"
                                },
                                {
                                    "Login": "PETERB",
                                    "SZALL_MOD": "GLS",
                                    "hanyszor_rendelt": "2"
                                },
                                {
                                    "Login": "PETERB",
                                    "SZALL_MOD": "Posta",
                                    "hanyszor_rendelt": "4"
                                },
                                {
                                    "Login": "PETERB",
                                    "SZALL_MOD": "Személyes átvétel",
                                    "hanyszor_rendelt": "9"
                                },
                                {
                                    "Login": "polla",
                                    "SZALL_MOD": "NULL",
                                    "hanyszor_rendelt": "22"
                                },
                                {
                                    "Login": "polla",
                                    "SZALL_MOD": "GLS",
                                    "hanyszor_rendelt": "9"
                                },
                                {
                                    "Login": "polla",
                                    "SZALL_MOD": "Posta",
                                    "hanyszor_rendelt": "6"
                                },
                                {
                                    "Login": "polla",
                                    "SZALL_MOD": "Személyes átvétel",
                                    "hanyszor_rendelt": "7"
                                },
                                {
                                    "Login": "rajmond4",
                                    "SZALL_MOD": "NULL",
                                    "hanyszor_rendelt": "17"
                                },
                                {
                                    "Login": "rajmond4",
                                    "SZALL_MOD": "GLS",
                                    "hanyszor_rendelt": "6"
                                },
                                {
                                    "Login": "rajmond4",
                                    "SZALL_MOD": "Posta",
                                    "hanyszor_rendelt": "5"
                                },
                                {
                                    "Login": "rajmond4",
                                    "SZALL_MOD": "Személyes átvétel",
                                    "hanyszor_rendelt": "6"
                                },
                                {
                                    "Login": "reka4",
                                    "SZALL_MOD": "NULL",
                                    "hanyszor_rendelt": "20"
                                },
                                {
                                    "Login": "reka4",
                                    "SZALL_MOD": "GLS",
                                    "hanyszor_rendelt": "5"
                                },
                                {
                                    "Login": "reka4",
                                    "SZALL_MOD": "Posta",
                                    "hanyszor_rendelt": "4"
                                },
                                {
                                    "Login": "reka4",
                                    "SZALL_MOD": "Személyes átvétel",
                                    "hanyszor_rendelt": "11"
                                },
                                {
                                    "Login": "RENATAK",
                                    "SZALL_MOD": "NULL",
                                    "hanyszor_rendelt": "422"
                                },
                                {
                                    "Login": "RENATAK",
                                    "SZALL_MOD": "GLS",
                                    "hanyszor_rendelt": "135"
                                },
                                {
                                    "Login": "RENATAK",
                                    "SZALL_MOD": "Posta",
                                    "hanyszor_rendelt": "140"
                                },
                                {
                                    "Login": "RENATAK",
                                    "SZALL_MOD": "Személyes átvétel",
                                    "hanyszor_rendelt": "147"
                                },
                                {
                                    "Login": "RENATAS",
                                    "SZALL_MOD": "NULL",
                                    "hanyszor_rendelt": "16"
                                },
                                {
                                    "Login": "RENATAS",
                                    "SZALL_MOD": "GLS",
                                    "hanyszor_rendelt": "6"
                                },
                                {
                                    "Login": "RENATAS",
                                    "SZALL_MOD": "Posta",
                                    "hanyszor_rendelt": "5"
                                },
                                {
                                    "Login": "RENATAS",
                                    "SZALL_MOD": "Személyes átvétel",
                                    "hanyszor_rendelt": "5"
                                },
                                {
                                    "Login": "robert2",
                                    "SZALL_MOD": "NULL",
                                    "hanyszor_rendelt": "13"
                                },
                                {
                                    "Login": "robert2",
                                    "SZALL_MOD": "GLS",
                                    "hanyszor_rendelt": "5"
                                },
                                {
                                    "Login": "robert2",
                                    "SZALL_MOD": "Posta",
                                    "hanyszor_rendelt": "1"
                                },
                                {
                                    "Login": "robert2",
                                    "SZALL_MOD": "Személyes átvétel",
                                    "hanyszor_rendelt": "7"
                                },
                                {
                                    "Login": "ROBERTI",
                                    "SZALL_MOD": "NULL",
                                    "hanyszor_rendelt": "13"
                                },
                                {
                                    "Login": "ROBERTI",
                                    "SZALL_MOD": "GLS",
                                    "hanyszor_rendelt": "5"
                                },
                                {
                                    "Login": "ROBERTI",
                                    "SZALL_MOD": "Posta",
                                    "hanyszor_rendelt": "3"
                                },
                                {
                                    "Login": "ROBERTI",
                                    "SZALL_MOD": "Személyes átvétel",
                                    "hanyszor_rendelt": "5"
                                },
                                {
                                    "Login": "ROBERTP",
                                    "SZALL_MOD": "NULL",
                                    "hanyszor_rendelt": "26"
                                },
                                {
                                    "Login": "ROBERTP",
                                    "SZALL_MOD": "GLS",
                                    "hanyszor_rendelt": "8"
                                },
                                {
                                    "Login": "ROBERTP",
                                    "SZALL_MOD": "Posta",
                                    "hanyszor_rendelt": "8"
                                },
                                {
                                    "Login": "ROBERTP",
                                    "SZALL_MOD": "Személyes átvétel",
                                    "hanyszor_rendelt": "10"
                                },
                                {
                                    "Login": "roland",
                                    "SZALL_MOD": "NULL",
                                    "hanyszor_rendelt": "414"
                                },
                                {
                                    "Login": "roland",
                                    "SZALL_MOD": "GLS",
                                    "hanyszor_rendelt": "132"
                                },
                                {
                                    "Login": "roland",
                                    "SZALL_MOD": "Posta",
                                    "hanyszor_rendelt": "157"
                                },
                                {
                                    "Login": "roland",
                                    "SZALL_MOD": "Személyes átvétel",
                                    "hanyszor_rendelt": "125"
                                },
                                {
                                    "Login": "roland1",
                                    "SZALL_MOD": "NULL",
                                    "hanyszor_rendelt": "432"
                                },
                                {
                                    "Login": "roland1",
                                    "SZALL_MOD": "GLS",
                                    "hanyszor_rendelt": "142"
                                },
                                {
                                    "Login": "roland1",
                                    "SZALL_MOD": "Posta",
                                    "hanyszor_rendelt": "155"
                                },
                                {
                                    "Login": "roland1",
                                    "SZALL_MOD": "Személyes átvétel",
                                    "hanyszor_rendelt": "135"
                                },
                                {
                                    "Login": "roza2",
                                    "SZALL_MOD": "NULL",
                                    "hanyszor_rendelt": "8"
                                },
                                {
                                    "Login": "roza2",
                                    "SZALL_MOD": "GLS",
                                    "hanyszor_rendelt": "3"
                                },
                                {
                                    "Login": "roza2",
                                    "SZALL_MOD": "Posta",
                                    "hanyszor_rendelt": "2"
                                },
                                {
                                    "Login": "roza2",
                                    "SZALL_MOD": "Személyes átvétel",
                                    "hanyszor_rendelt": "3"
                                },
                                {
                                    "Login": "sandor",
                                    "SZALL_MOD": "NULL",
                                    "hanyszor_rendelt": "17"
                                },
                                {
                                    "Login": "sandor",
                                    "SZALL_MOD": "GLS",
                                    "hanyszor_rendelt": "4"
                                },
                                {
                                    "Login": "sandor",
                                    "SZALL_MOD": "Posta",
                                    "hanyszor_rendelt": "6"
                                },
                                {
                                    "Login": "sandor",
                                    "SZALL_MOD": "Személyes átvétel",
                                    "hanyszor_rendelt": "7"
                                },
                                {
                                    "Login": "sandor3",
                                    "SZALL_MOD": "NULL",
                                    "hanyszor_rendelt": "14"
                                },
                                {
                                    "Login": "sandor3",
                                    "SZALL_MOD": "GLS",
                                    "hanyszor_rendelt": "4"
                                },
                                {
                                    "Login": "sandor3",
                                    "SZALL_MOD": "Posta",
                                    "hanyszor_rendelt": "4"
                                },
                                {
                                    "Login": "sandor3",
                                    "SZALL_MOD": "Személyes átvétel",
                                    "hanyszor_rendelt": "6"
                                },
                                {
                                    "Login": "sandor4",
                                    "SZALL_MOD": "NULL",
                                    "hanyszor_rendelt": "11"
                                },
                                {
                                    "Login": "sandor4",
                                    "SZALL_MOD": "GLS",
                                    "hanyszor_rendelt": "4"
                                },
                                {
                                    "Login": "sandor4",
                                    "SZALL_MOD": "Posta",
                                    "hanyszor_rendelt": "2"
                                },
                                {
                                    "Login": "sandor4",
                                    "SZALL_MOD": "Személyes átvétel",
                                    "hanyszor_rendelt": "5"
                                },
                                {
                                    "Login": "sara",
                                    "SZALL_MOD": "NULL",
                                    "hanyszor_rendelt": "20"
                                },
                                {
                                    "Login": "sara",
                                    "SZALL_MOD": "GLS",
                                    "hanyszor_rendelt": "4"
                                },
                                {
                                    "Login": "sara",
                                    "SZALL_MOD": "Posta",
                                    "hanyszor_rendelt": "7"
                                },
                                {
                                    "Login": "sara",
                                    "SZALL_MOD": "Személyes átvétel",
                                    "hanyszor_rendelt": "9"
                                },
                                {
                                    "Login": "SEBASTIANF",
                                    "SZALL_MOD": "NULL",
                                    "hanyszor_rendelt": "15"
                                },
                                {
                                    "Login": "SEBASTIANF",
                                    "SZALL_MOD": "GLS",
                                    "hanyszor_rendelt": "6"
                                },
                                {
                                    "Login": "SEBASTIANF",
                                    "SZALL_MOD": "Posta",
                                    "hanyszor_rendelt": "3"
                                },
                                {
                                    "Login": "SEBASTIANF",
                                    "SZALL_MOD": "Személyes átvétel",
                                    "hanyszor_rendelt": "6"
                                },
                                {
                                    "Login": "sebestyen",
                                    "SZALL_MOD": "NULL",
                                    "hanyszor_rendelt": "16"
                                },
                                {
                                    "Login": "sebestyen",
                                    "SZALL_MOD": "GLS",
                                    "hanyszor_rendelt": "4"
                                },
                                {
                                    "Login": "sebestyen",
                                    "SZALL_MOD": "Posta",
                                    "hanyszor_rendelt": "6"
                                },
                                {
                                    "Login": "sebestyen",
                                    "SZALL_MOD": "Személyes átvétel",
                                    "hanyszor_rendelt": "6"
                                },
                                {
                                    "Login": "szabolcs",
                                    "SZALL_MOD": "NULL",
                                    "hanyszor_rendelt": "471"
                                },
                                {
                                    "Login": "szabolcs",
                                    "SZALL_MOD": "GLS",
                                    "hanyszor_rendelt": "145"
                                },
                                {
                                    "Login": "szabolcs",
                                    "SZALL_MOD": "Posta",
                                    "hanyszor_rendelt": "157"
                                },
                                {
                                    "Login": "szabolcs",
                                    "SZALL_MOD": "Személyes átvétel",
                                    "hanyszor_rendelt": "169"
                                },
                                {
                                    "Login": "SZABOLCSM",
                                    "SZALL_MOD": "NULL",
                                    "hanyszor_rendelt": "408"
                                },
                                {
                                    "Login": "SZABOLCSM",
                                    "SZALL_MOD": "GLS",
                                    "hanyszor_rendelt": "126"
                                },
                                {
                                    "Login": "SZABOLCSM",
                                    "SZALL_MOD": "Posta",
                                    "hanyszor_rendelt": "153"
                                },
                                {
                                    "Login": "SZABOLCSM",
                                    "SZALL_MOD": "Személyes átvétel",
                                    "hanyszor_rendelt": "129"
                                },
                                {
                                    "Login": "SZILARDS",
                                    "SZALL_MOD": "NULL",
                                    "hanyszor_rendelt": "386"
                                },
                                {
                                    "Login": "SZILARDS",
                                    "SZALL_MOD": "GLS",
                                    "hanyszor_rendelt": "144"
                                },
                                {
                                    "Login": "SZILARDS",
                                    "SZALL_MOD": "Posta",
                                    "hanyszor_rendelt": "131"
                                },
                                {
                                    "Login": "SZILARDS",
                                    "SZALL_MOD": "Személyes átvétel",
                                    "hanyszor_rendelt": "111"
                                },
                                {
                                    "Login": "szilvia1",
                                    "SZALL_MOD": "NULL",
                                    "hanyszor_rendelt": "445"
                                },
                                {
                                    "Login": "szilvia1",
                                    "SZALL_MOD": "GLS",
                                    "hanyszor_rendelt": "156"
                                },
                                {
                                    "Login": "szilvia1",
                                    "SZALL_MOD": "Posta",
                                    "hanyszor_rendelt": "151"
                                },
                                {
                                    "Login": "szilvia1",
                                    "SZALL_MOD": "Személyes átvétel",
                                    "hanyszor_rendelt": "138"
                                },
                                {
                                    "Login": "tamara2",
                                    "SZALL_MOD": "NULL",
                                    "hanyszor_rendelt": "13"
                                },
                                {
                                    "Login": "tamara2",
                                    "SZALL_MOD": "GLS",
                                    "hanyszor_rendelt": "6"
                                },
                                {
                                    "Login": "tamara2",
                                    "SZALL_MOD": "Posta",
                                    "hanyszor_rendelt": "4"
                                },
                                {
                                    "Login": "tamara2",
                                    "SZALL_MOD": "Személyes átvétel",
                                    "hanyszor_rendelt": "3"
                                },
                                {
                                    "Login": "tamas",
                                    "SZALL_MOD": "NULL",
                                    "hanyszor_rendelt": "421"
                                },
                                {
                                    "Login": "tamas",
                                    "SZALL_MOD": "GLS",
                                    "hanyszor_rendelt": "143"
                                },
                                {
                                    "Login": "tamas",
                                    "SZALL_MOD": "Posta",
                                    "hanyszor_rendelt": "156"
                                },
                                {
                                    "Login": "tamas",
                                    "SZALL_MOD": "Személyes átvétel",
                                    "hanyszor_rendelt": "122"
                                },
                                {
                                    "Login": "TAMASF",
                                    "SZALL_MOD": "NULL",
                                    "hanyszor_rendelt": "433"
                                },
                                {
                                    "Login": "TAMASF",
                                    "SZALL_MOD": "GLS",
                                    "hanyszor_rendelt": "159"
                                },
                                {
                                    "Login": "TAMASF",
                                    "SZALL_MOD": "Posta",
                                    "hanyszor_rendelt": "145"
                                },
                                {
                                    "Login": "TAMASF",
                                    "SZALL_MOD": "Személyes átvétel",
                                    "hanyszor_rendelt": "129"
                                },
                                {
                                    "Login": "tibor",
                                    "SZALL_MOD": "NULL",
                                    "hanyszor_rendelt": "374"
                                },
                                {
                                    "Login": "tibor",
                                    "SZALL_MOD": "GLS",
                                    "hanyszor_rendelt": "115"
                                },
                                {
                                    "Login": "tibor",
                                    "SZALL_MOD": "Posta",
                                    "hanyszor_rendelt": "129"
                                },
                                {
                                    "Login": "tibor",
                                    "SZALL_MOD": "Személyes átvétel",
                                    "hanyszor_rendelt": "130"
                                },
                                {
                                    "Login": "tibor2",
                                    "SZALL_MOD": "NULL",
                                    "hanyszor_rendelt": "25"
                                },
                                {
                                    "Login": "tibor2",
                                    "SZALL_MOD": "GLS",
                                    "hanyszor_rendelt": "7"
                                },
                                {
                                    "Login": "tibor2",
                                    "SZALL_MOD": "Posta",
                                    "hanyszor_rendelt": "7"
                                },
                                {
                                    "Login": "tibor2",
                                    "SZALL_MOD": "Személyes átvétel",
                                    "hanyszor_rendelt": "11"
                                },
                                {
                                    "Login": "tihamer",
                                    "SZALL_MOD": "NULL",
                                    "hanyszor_rendelt": "20"
                                },
                                {
                                    "Login": "tihamer",
                                    "SZALL_MOD": "GLS",
                                    "hanyszor_rendelt": "9"
                                },
                                {
                                    "Login": "tihamer",
                                    "SZALL_MOD": "Posta",
                                    "hanyszor_rendelt": "6"
                                },
                                {
                                    "Login": "tihamer",
                                    "SZALL_MOD": "Személyes átvétel",
                                    "hanyszor_rendelt": "5"
                                },
                                {
                                    "Login": "timea",
                                    "SZALL_MOD": "NULL",
                                    "hanyszor_rendelt": "55"
                                },
                                {
                                    "Login": "timea",
                                    "SZALL_MOD": "GLS",
                                    "hanyszor_rendelt": "14"
                                },
                                {
                                    "Login": "timea",
                                    "SZALL_MOD": "Posta",
                                    "hanyszor_rendelt": "23"
                                },
                                {
                                    "Login": "timea",
                                    "SZALL_MOD": "Személyes átvétel",
                                    "hanyszor_rendelt": "18"
                                },
                                {
                                    "Login": "timea2",
                                    "SZALL_MOD": "NULL",
                                    "hanyszor_rendelt": "16"
                                },
                                {
                                    "Login": "timea2",
                                    "SZALL_MOD": "GLS",
                                    "hanyszor_rendelt": "1"
                                },
                                {
                                    "Login": "timea2",
                                    "SZALL_MOD": "Posta",
                                    "hanyszor_rendelt": "5"
                                },
                                {
                                    "Login": "timea2",
                                    "SZALL_MOD": "Személyes átvétel",
                                    "hanyszor_rendelt": "10"
                                },
                                {
                                    "Login": "tunde",
                                    "SZALL_MOD": "NULL",
                                    "hanyszor_rendelt": "16"
                                },
                                {
                                    "Login": "tunde",
                                    "SZALL_MOD": "GLS",
                                    "hanyszor_rendelt": "6"
                                },
                                {
                                    "Login": "tunde",
                                    "SZALL_MOD": "Posta",
                                    "hanyszor_rendelt": "6"
                                },
                                {
                                    "Login": "tunde",
                                    "SZALL_MOD": "Személyes átvétel",
                                    "hanyszor_rendelt": "4"
                                },
                                {
                                    "Login": "valentin",
                                    "SZALL_MOD": "NULL",
                                    "hanyszor_rendelt": "13"
                                },
                                {
                                    "Login": "valentin",
                                    "SZALL_MOD": "GLS",
                                    "hanyszor_rendelt": "5"
                                },
                                {
                                    "Login": "valentin",
                                    "SZALL_MOD": "Posta",
                                    "hanyszor_rendelt": "5"
                                },
                                {
                                    "Login": "valentin",
                                    "SZALL_MOD": "Személyes átvétel",
                                    "hanyszor_rendelt": "3"
                                },
                                {
                                    "Login": "veronika4",
                                    "SZALL_MOD": "NULL",
                                    "hanyszor_rendelt": "18"
                                },
                                {
                                    "Login": "veronika4",
                                    "SZALL_MOD": "GLS",
                                    "hanyszor_rendelt": "5"
                                },
                                {
                                    "Login": "veronika4",
                                    "SZALL_MOD": "Posta",
                                    "hanyszor_rendelt": "6"
                                },
                                {
                                    "Login": "veronika4",
                                    "SZALL_MOD": "Személyes átvétel",
                                    "hanyszor_rendelt": "7"
                                },
                                {
                                    "Login": "VIKTORIAU",
                                    "SZALL_MOD": "NULL",
                                    "hanyszor_rendelt": "14"
                                },
                                {
                                    "Login": "VIKTORIAU",
                                    "SZALL_MOD": "GLS",
                                    "hanyszor_rendelt": "5"
                                },
                                {
                                    "Login": "VIKTORIAU",
                                    "SZALL_MOD": "Posta",
                                    "hanyszor_rendelt": "4"
                                },
                                {
                                    "Login": "VIKTORIAU",
                                    "SZALL_MOD": "Személyes átvétel",
                                    "hanyszor_rendelt": "5"
                                },
                                {
                                    "Login": "VIKTORK",
                                    "SZALL_MOD": "NULL",
                                    "hanyszor_rendelt": "20"
                                },
                                {
                                    "Login": "VIKTORK",
                                    "SZALL_MOD": "GLS",
                                    "hanyszor_rendelt": "8"
                                },
                                {
                                    "Login": "VIKTORK",
                                    "SZALL_MOD": "Posta",
                                    "hanyszor_rendelt": "6"
                                },
                                {
                                    "Login": "VIKTORK",
                                    "SZALL_MOD": "Személyes átvétel",
                                    "hanyszor_rendelt": "6"
                                },
                                {
                                    "Login": "vivien3",
                                    "SZALL_MOD": "NULL",
                                    "hanyszor_rendelt": "22"
                                },
                                {
                                    "Login": "vivien3",
                                    "SZALL_MOD": "GLS",
                                    "hanyszor_rendelt": "9"
                                },
                                {
                                    "Login": "vivien3",
                                    "SZALL_MOD": "Posta",
                                    "hanyszor_rendelt": "6"
                                },
                                {
                                    "Login": "vivien3",
                                    "SZALL_MOD": "Személyes átvétel",
                                    "hanyszor_rendelt": "7"
                                },
                                {
                                    "Login": "zoltan",
                                    "SZALL_MOD": "NULL",
                                    "hanyszor_rendelt": "15"
                                },
                                {
                                    "Login": "zoltan",
                                    "SZALL_MOD": "GLS",
                                    "hanyszor_rendelt": "5"
                                },
                                {
                                    "Login": "zoltan",
                                    "SZALL_MOD": "Posta",
                                    "hanyszor_rendelt": "3"
                                },
                                {
                                    "Login": "zoltan",
                                    "SZALL_MOD": "Személyes átvétel",
                                    "hanyszor_rendelt": "7"
                                },
                                {
                                    "Login": "zoltan4",
                                    "SZALL_MOD": "NULL",
                                    "hanyszor_rendelt": "424"
                                },
                                {
                                    "Login": "zoltan4",
                                    "SZALL_MOD": "GLS",
                                    "hanyszor_rendelt": "129"
                                },
                                {
                                    "Login": "zoltan4",
                                    "SZALL_MOD": "Posta",
                                    "hanyszor_rendelt": "124"
                                },
                                {
                                    "Login": "zoltan4",
                                    "SZALL_MOD": "Személyes átvétel",
                                    "hanyszor_rendelt": "171"
                                },
                                {
                                    "Login": "ZOLTANP",
                                    "SZALL_MOD": "NULL",
                                    "hanyszor_rendelt": "13"
                                },
                                {
                                    "Login": "ZOLTANP",
                                    "SZALL_MOD": "GLS",
                                    "hanyszor_rendelt": "6"
                                },
                                {
                                    "Login": "ZOLTANP",
                                    "SZALL_MOD": "Posta",
                                    "hanyszor_rendelt": "3"
                                },
                                {
                                    "Login": "ZOLTANP",
                                    "SZALL_MOD": "Személyes átvétel",
                                    "hanyszor_rendelt": "4"
                                },
                                {
                                    "Login": "ZOLTANT",
                                    "SZALL_MOD": "NULL",
                                    "hanyszor_rendelt": "357"
                                },
                                {
                                    "Login": "ZOLTANT",
                                    "SZALL_MOD": "GLS",
                                    "hanyszor_rendelt": "127"
                                },
                                {
                                    "Login": "ZOLTANT",
                                    "SZALL_MOD": "Posta",
                                    "hanyszor_rendelt": "107"
                                },
                                {
                                    "Login": "ZOLTANT",
                                    "SZALL_MOD": "Személyes átvétel",
                                    "hanyszor_rendelt": "123"
                                },
                                {
                                    "Login": "zsofi1",
                                    "SZALL_MOD": "NULL",
                                    "hanyszor_rendelt": "19"
                                },
                                {
                                    "Login": "zsofi1",
                                    "SZALL_MOD": "GLS",
                                    "hanyszor_rendelt": "7"
                                },
                                {
                                    "Login": "zsofi1",
                                    "SZALL_MOD": "Posta",
                                    "hanyszor_rendelt": "6"
                                },
                                {
                                    "Login": "zsofi1",
                                    "SZALL_MOD": "Személyes átvétel",
                                    "hanyszor_rendelt": "6"
                                },
                                {
                                    "Login": "zsolt1",
                                    "SZALL_MOD": "NULL",
                                    "hanyszor_rendelt": "20"
                                },
                                {
                                    "Login": "zsolt1",
                                    "SZALL_MOD": "GLS",
                                    "hanyszor_rendelt": "11"
                                },
                                {
                                    "Login": "zsolt1",
                                    "SZALL_MOD": "Posta",
                                    "hanyszor_rendelt": "6"
                                },
                                {
                                    "Login": "zsolt1",
                                    "SZALL_MOD": "Személyes átvétel",
                                    "hanyszor_rendelt": "3"
                                },
                                {
                                    "Login": "ZSOLTJ",
                                    "SZALL_MOD": "NULL",
                                    "hanyszor_rendelt": "18"
                                },
                                {
                                    "Login": "ZSOLTJ",
                                    "SZALL_MOD": "GLS",
                                    "hanyszor_rendelt": "1"
                                },
                                {
                                    "Login": "ZSOLTJ",
                                    "SZALL_MOD": "Posta",
                                    "hanyszor_rendelt": "8"
                                },
                                {
                                    "Login": "ZSOLTJ",
                                    "SZALL_MOD": "Személyes átvétel",
                                    "hanyszor_rendelt": "9"
                                },
                                {
                                    "Login": "zsuzsa",
                                    "SZALL_MOD": "NULL",
                                    "hanyszor_rendelt": "16"
                                },
                                {
                                    "Login": "zsuzsa",
                                    "SZALL_MOD": "GLS",
                                    "hanyszor_rendelt": "8"
                                },
                                {
                                    "Login": "zsuzsa",
                                    "SZALL_MOD": "Posta",
                                    "hanyszor_rendelt": "5"
                                },
                                {
                                    "Login": "zsuzsa",
                                    "SZALL_MOD": "Személyes átvétel",
                                    "hanyszor_rendelt": "3"
                                },
                                {
                                    "Login": "zsuzsa3",
                                    "SZALL_MOD": "NULL",
                                    "hanyszor_rendelt": "16"
                                },
                                {
                                    "Login": "zsuzsa3",
                                    "SZALL_MOD": "GLS",
                                    "hanyszor_rendelt": "5"
                                },
                                {
                                    "Login": "zsuzsa3",
                                    "SZALL_MOD": "Posta",
                                    "hanyszor_rendelt": "5"
                                },
                                {
                                    "Login": "zsuzsa3",
                                    "SZALL_MOD": "Személyes átvétel",
                                    "hanyszor_rendelt": "6"
                                },
                                {
                                    "Login": "zsuzsanna",
                                    "SZALL_MOD": "NULL",
                                    "hanyszor_rendelt": "15"
                                },
                                {
                                    "Login": "zsuzsanna",
                                    "SZALL_MOD": "GLS",
                                    "hanyszor_rendelt": "7"
                                },
                                {
                                    "Login": "zsuzsanna",
                                    "SZALL_MOD": "Posta",
                                    "hanyszor_rendelt": "5"
                                },
                                {
                                    "Login": "zsuzsanna",
                                    "SZALL_MOD": "Személyes átvétel",
                                    "hanyszor_rendelt": "3"
                                },
                                {
                                    "Login": "ZSUZSAV",
                                    "SZALL_MOD": "NULL",
                                    "hanyszor_rendelt": "420"
                                },
                                {
                                    "Login": "ZSUZSAV",
                                    "SZALL_MOD": "GLS",
                                    "hanyszor_rendelt": "139"
                                },
                                {
                                    "Login": "ZSUZSAV",
                                    "SZALL_MOD": "Posta",
                                    "hanyszor_rendelt": "139"
                                },
                                {
                                    "Login": "ZSUZSAV",
                                    "SZALL_MOD": "Személyes átvétel",
                                    "hanyszor_rendelt": "142"
                                }
                            ]
                        },
                        "text/html": "<table><tr><th>Login</th><th>SZALL_MOD</th><th>hanyszor_rendelt</th></tr><tr><td>NULL</td><td>NULL</td><td>28085</td></tr><tr><td>adam1</td><td>NULL</td><td>392</td></tr><tr><td>adam1</td><td>GLS</td><td>129</td></tr><tr><td>adam1</td><td>Posta</td><td>132</td></tr><tr><td>adam1</td><td>Személyes átvétel</td><td>131</td></tr><tr><td>adam3</td><td>NULL</td><td>15</td></tr><tr><td>adam3</td><td>GLS</td><td>10</td></tr><tr><td>adam3</td><td>Posta</td><td>3</td></tr><tr><td>adam3</td><td>Személyes átvétel</td><td>2</td></tr><tr><td>adam4</td><td>NULL</td><td>29</td></tr><tr><td>adam4</td><td>GLS</td><td>12</td></tr><tr><td>adam4</td><td>Posta</td><td>6</td></tr><tr><td>adam4</td><td>Személyes átvétel</td><td>11</td></tr><tr><td>agnes</td><td>NULL</td><td>418</td></tr><tr><td>agnes</td><td>GLS</td><td>144</td></tr><tr><td>agnes</td><td>Posta</td><td>130</td></tr><tr><td>agnes</td><td>Személyes átvétel</td><td>144</td></tr><tr><td>agnes3</td><td>NULL</td><td>430</td></tr><tr><td>agnes3</td><td>GLS</td><td>148</td></tr><tr><td>agnes3</td><td>Posta</td><td>146</td></tr><tr><td>agnes3</td><td>Személyes átvétel</td><td>136</td></tr><tr><td>AGNESH</td><td>NULL</td><td>11</td></tr><tr><td>AGNESH</td><td>GLS</td><td>2</td></tr><tr><td>AGNESH</td><td>Posta</td><td>3</td></tr><tr><td>AGNESH</td><td>Személyes átvétel</td><td>6</td></tr><tr><td>AGNESK</td><td>NULL</td><td>15</td></tr><tr><td>AGNESK</td><td>GLS</td><td>1</td></tr><tr><td>AGNESK</td><td>Posta</td><td>7</td></tr><tr><td>AGNESK</td><td>Személyes átvétel</td><td>7</td></tr><tr><td>akos</td><td>NULL</td><td>429</td></tr><tr><td>akos</td><td>GLS</td><td>146</td></tr><tr><td>akos</td><td>Posta</td><td>143</td></tr><tr><td>akos</td><td>Személyes átvétel</td><td>140</td></tr><tr><td>aladar</td><td>NULL</td><td>408</td></tr><tr><td>aladar</td><td>GLS</td><td>156</td></tr><tr><td>aladar</td><td>Posta</td><td>134</td></tr><tr><td>aladar</td><td>Személyes átvétel</td><td>118</td></tr><tr><td>alexandra</td><td>NULL</td><td>19</td></tr><tr><td>alexandra</td><td>GLS</td><td>5</td></tr><tr><td>alexandra</td><td>Posta</td><td>9</td></tr><tr><td>alexandra</td><td>Személyes átvétel</td><td>5</td></tr><tr><td>andi</td><td>NULL</td><td>18</td></tr><tr><td>andi</td><td>GLS</td><td>7</td></tr><tr><td>andi</td><td>Posta</td><td>4</td></tr><tr><td>andi</td><td>Személyes átvétel</td><td>7</td></tr><tr><td>andras2</td><td>NULL</td><td>22</td></tr><tr><td>andras2</td><td>GLS</td><td>4</td></tr><tr><td>andras2</td><td>Posta</td><td>7</td></tr><tr><td>andras2</td><td>Személyes átvétel</td><td>11</td></tr><tr><td>andras21</td><td>NULL</td><td>390</td></tr><tr><td>andras21</td><td>GLS</td><td>140</td></tr><tr><td>andras21</td><td>Posta</td><td>124</td></tr><tr><td>andras21</td><td>Személyes átvétel</td><td>126</td></tr><tr><td>andras3</td><td>NULL</td><td>9</td></tr><tr><td>andras3</td><td>GLS</td><td>3</td></tr><tr><td>andras3</td><td>Posta</td><td>1</td></tr><tr><td>andras3</td><td>Személyes átvétel</td><td>5</td></tr><tr><td>andras4</td><td>NULL</td><td>12</td></tr><tr><td>andras4</td><td>GLS</td><td>4</td></tr><tr><td>andras4</td><td>Posta</td><td>4</td></tr><tr><td>andras4</td><td>Személyes átvétel</td><td>4</td></tr><tr><td>andras41</td><td>NULL</td><td>419</td></tr><tr><td>andras41</td><td>GLS</td><td>149</td></tr><tr><td>andras41</td><td>Posta</td><td>137</td></tr><tr><td>andras41</td><td>Személyes átvétel</td><td>133</td></tr><tr><td>ANDRASE</td><td>NULL</td><td>436</td></tr><tr><td>ANDRASE</td><td>GLS</td><td>159</td></tr><tr><td>ANDRASE</td><td>Posta</td><td>141</td></tr><tr><td>ANDRASE</td><td>Személyes átvétel</td><td>136</td></tr><tr><td>ANDRASN</td><td>NULL</td><td>24</td></tr><tr><td>ANDRASN</td><td>GLS</td><td>10</td></tr><tr><td>ANDRASN</td><td>Posta</td><td>9</td></tr><tr><td>ANDRASN</td><td>Személyes átvétel</td><td>5</td></tr><tr><td>andrea</td><td>NULL</td><td>24</td></tr><tr><td>andrea</td><td>GLS</td><td>12</td></tr><tr><td>andrea</td><td>Posta</td><td>4</td></tr><tr><td>andrea</td><td>Személyes átvétel</td><td>8</td></tr><tr><td>andrea3</td><td>NULL</td><td>413</td></tr><tr><td>andrea3</td><td>GLS</td><td>131</td></tr><tr><td>andrea3</td><td>Posta</td><td>136</td></tr><tr><td>andrea3</td><td>Személyes átvétel</td><td>146</td></tr><tr><td>andrea4</td><td>NULL</td><td>18</td></tr><tr><td>andrea4</td><td>GLS</td><td>7</td></tr><tr><td>andrea4</td><td>Posta</td><td>4</td></tr><tr><td>andrea4</td><td>Személyes átvétel</td><td>7</td></tr><tr><td>ANDREAT</td><td>NULL</td><td>21</td></tr><tr><td>ANDREAT</td><td>GLS</td><td>3</td></tr><tr><td>ANDREAT</td><td>Posta</td><td>6</td></tr><tr><td>ANDREAT</td><td>Személyes átvétel</td><td>12</td></tr><tr><td>anett3</td><td>NULL</td><td>18</td></tr><tr><td>anett3</td><td>GLS</td><td>3</td></tr><tr><td>anett3</td><td>Posta</td><td>6</td></tr><tr><td>anett3</td><td>Személyes átvétel</td><td>9</td></tr><tr><td>aniko</td><td>NULL</td><td>403</td></tr><tr><td>aniko</td><td>GLS</td><td>128</td></tr><tr><td>aniko</td><td>Posta</td><td>137</td></tr><tr><td>aniko</td><td>Személyes átvétel</td><td>138</td></tr><tr><td>aniko4</td><td>NULL</td><td>15</td></tr><tr><td>aniko4</td><td>GLS</td><td>6</td></tr><tr><td>aniko4</td><td>Posta</td><td>6</td></tr><tr><td>aniko4</td><td>Személyes átvétel</td><td>3</td></tr><tr><td>ANIKOS</td><td>NULL</td><td>404</td></tr><tr><td>ANIKOS</td><td>GLS</td><td>128</td></tr><tr><td>ANIKOS</td><td>Posta</td><td>126</td></tr><tr><td>ANIKOS</td><td>Személyes átvétel</td><td>150</td></tr><tr><td>anita</td><td>NULL</td><td>12</td></tr><tr><td>anita</td><td>GLS</td><td>5</td></tr><tr><td>anita</td><td>Posta</td><td>2</td></tr><tr><td>anita</td><td>Személyes átvétel</td><td>5</td></tr><tr><td>annamaria1</td><td>NULL</td><td>16</td></tr><tr><td>annamaria1</td><td>GLS</td><td>5</td></tr><tr><td>annamaria1</td><td>Posta</td><td>4</td></tr><tr><td>annamaria1</td><td>Személyes átvétel</td><td>7</td></tr><tr><td>ANNAMARIAR</td><td>NULL</td><td>13</td></tr><tr><td>ANNAMARIAR</td><td>GLS</td><td>8</td></tr><tr><td>ANNAMARIAR</td><td>Posta</td><td>2</td></tr><tr><td>ANNAMARIAR</td><td>Személyes átvétel</td><td>3</td></tr><tr><td>aron2</td><td>NULL</td><td>409</td></tr><tr><td>aron2</td><td>GLS</td><td>132</td></tr><tr><td>aron2</td><td>Posta</td><td>133</td></tr><tr><td>aron2</td><td>Személyes átvétel</td><td>144</td></tr><tr><td>ARONK</td><td>NULL</td><td>430</td></tr><tr><td>ARONK</td><td>GLS</td><td>155</td></tr><tr><td>ARONK</td><td>Posta</td><td>120</td></tr><tr><td>ARONK</td><td>Személyes átvétel</td><td>155</td></tr><tr><td>arpad2</td><td>NULL</td><td>17</td></tr><tr><td>arpad2</td><td>GLS</td><td>6</td></tr><tr><td>arpad2</td><td>Posta</td><td>1</td></tr><tr><td>arpad2</td><td>Személyes átvétel</td><td>10</td></tr><tr><td>ARPADH</td><td>NULL</td><td>14</td></tr><tr><td>ARPADH</td><td>GLS</td><td>6</td></tr><tr><td>ARPADH</td><td>Posta</td><td>3</td></tr><tr><td>ARPADH</td><td>Személyes átvétel</td><td>5</td></tr><tr><td>ARPADM</td><td>NULL</td><td>16</td></tr><tr><td>ARPADM</td><td>GLS</td><td>6</td></tr><tr><td>ARPADM</td><td>Posta</td><td>3</td></tr><tr><td>ARPADM</td><td>Személyes átvétel</td><td>7</td></tr><tr><td>attila1</td><td>NULL</td><td>18</td></tr><tr><td>attila1</td><td>GLS</td><td>5</td></tr><tr><td>attila1</td><td>Posta</td><td>7</td></tr><tr><td>attila1</td><td>Személyes átvétel</td><td>6</td></tr><tr><td>attila4</td><td>NULL</td><td>401</td></tr><tr><td>attila4</td><td>GLS</td><td>135</td></tr><tr><td>attila4</td><td>Posta</td><td>125</td></tr><tr><td>attila4</td><td>Személyes átvétel</td><td>141</td></tr><tr><td>ATTILAO</td><td>NULL</td><td>14</td></tr><tr><td>ATTILAO</td><td>GLS</td><td>4</td></tr><tr><td>ATTILAO</td><td>Posta</td><td>4</td></tr><tr><td>ATTILAO</td><td>Személyes átvétel</td><td>6</td></tr><tr><td>balazs1</td><td>NULL</td><td>419</td></tr><tr><td>balazs1</td><td>GLS</td><td>128</td></tr><tr><td>balazs1</td><td>Posta</td><td>136</td></tr><tr><td>balazs1</td><td>Személyes átvétel</td><td>155</td></tr><tr><td>balazs2</td><td>NULL</td><td>17</td></tr><tr><td>balazs2</td><td>GLS</td><td>5</td></tr><tr><td>balazs2</td><td>Posta</td><td>7</td></tr><tr><td>balazs2</td><td>Személyes átvétel</td><td>5</td></tr><tr><td>balazs3</td><td>NULL</td><td>15</td></tr><tr><td>balazs3</td><td>GLS</td><td>6</td></tr><tr><td>balazs3</td><td>Posta</td><td>6</td></tr><tr><td>balazs3</td><td>Személyes átvétel</td><td>3</td></tr><tr><td>balint</td><td>NULL</td><td>16</td></tr><tr><td>balint</td><td>GLS</td><td>10</td></tr><tr><td>balint</td><td>Posta</td><td>4</td></tr><tr><td>balint</td><td>Személyes átvétel</td><td>2</td></tr><tr><td>balint1</td><td>NULL</td><td>462</td></tr><tr><td>balint1</td><td>GLS</td><td>158</td></tr><tr><td>balint1</td><td>Posta</td><td>152</td></tr><tr><td>balint1</td><td>Személyes átvétel</td><td>152</td></tr><tr><td>balint2</td><td>NULL</td><td>17</td></tr><tr><td>balint2</td><td>GLS</td><td>8</td></tr><tr><td>balint2</td><td>Posta</td><td>6</td></tr><tr><td>balint2</td><td>Személyes átvétel</td><td>3</td></tr><tr><td>balu</td><td>NULL</td><td>387</td></tr><tr><td>balu</td><td>GLS</td><td>127</td></tr><tr><td>balu</td><td>Posta</td><td>137</td></tr><tr><td>balu</td><td>Személyes átvétel</td><td>123</td></tr><tr><td>BEATRIXK</td><td>NULL</td><td>435</td></tr><tr><td>BEATRIXK</td><td>GLS</td><td>135</td></tr><tr><td>BEATRIXK</td><td>Posta</td><td>155</td></tr><tr><td>BEATRIXK</td><td>Személyes átvétel</td><td>145</td></tr><tr><td>BEATRIXS</td><td>NULL</td><td>420</td></tr><tr><td>BEATRIXS</td><td>GLS</td><td>146</td></tr><tr><td>BEATRIXS</td><td>Posta</td><td>141</td></tr><tr><td>BEATRIXS</td><td>Személyes átvétel</td><td>133</td></tr><tr><td>BELAF</td><td>NULL</td><td>18</td></tr><tr><td>BELAF</td><td>GLS</td><td>11</td></tr><tr><td>BELAF</td><td>Posta</td><td>2</td></tr><tr><td>BELAF</td><td>Személyes átvétel</td><td>5</td></tr><tr><td>bence</td><td>NULL</td><td>18</td></tr><tr><td>bence</td><td>GLS</td><td>4</td></tr><tr><td>bence</td><td>Posta</td><td>6</td></tr><tr><td>bence</td><td>Személyes átvétel</td><td>8</td></tr><tr><td>BENCEB</td><td>NULL</td><td>17</td></tr><tr><td>BENCEB</td><td>GLS</td><td>5</td></tr><tr><td>BENCEB</td><td>Posta</td><td>7</td></tr><tr><td>BENCEB</td><td>Személyes átvétel</td><td>5</td></tr><tr><td>bernadett1</td><td>NULL</td><td>20</td></tr><tr><td>bernadett1</td><td>GLS</td><td>10</td></tr><tr><td>bernadett1</td><td>Posta</td><td>5</td></tr><tr><td>bernadett1</td><td>Személyes átvétel</td><td>5</td></tr><tr><td>bernadett2</td><td>NULL</td><td>15</td></tr><tr><td>bernadett2</td><td>GLS</td><td>6</td></tr><tr><td>bernadett2</td><td>Posta</td><td>2</td></tr><tr><td>bernadett2</td><td>Személyes átvétel</td><td>7</td></tr><tr><td>BERNADETTO</td><td>NULL</td><td>16</td></tr><tr><td>BERNADETTO</td><td>GLS</td><td>7</td></tr><tr><td>BERNADETTO</td><td>Posta</td><td>2</td></tr><tr><td>BERNADETTO</td><td>Személyes átvétel</td><td>7</td></tr><tr><td>bertalan</td><td>NULL</td><td>353</td></tr><tr><td>bertalan</td><td>GLS</td><td>128</td></tr><tr><td>bertalan</td><td>Posta</td><td>124</td></tr><tr><td>bertalan</td><td>Személyes átvétel</td><td>101</td></tr><tr><td>brigitta</td><td>NULL</td><td>393</td></tr><tr><td>brigitta</td><td>GLS</td><td>137</td></tr><tr><td>brigitta</td><td>Posta</td><td>137</td></tr><tr><td>brigitta</td><td>Személyes átvétel</td><td>119</td></tr><tr><td>brigitta3</td><td>NULL</td><td>413</td></tr><tr><td>brigitta3</td><td>GLS</td><td>144</td></tr><tr><td>brigitta3</td><td>Posta</td><td>130</td></tr><tr><td>brigitta3</td><td>Személyes átvétel</td><td>139</td></tr><tr><td>csongor3</td><td>NULL</td><td>15</td></tr><tr><td>csongor3</td><td>GLS</td><td>5</td></tr><tr><td>csongor3</td><td>Posta</td><td>2</td></tr><tr><td>csongor3</td><td>Személyes átvétel</td><td>8</td></tr><tr><td>dani</td><td>NULL</td><td>13</td></tr><tr><td>dani</td><td>GLS</td><td>5</td></tr><tr><td>dani</td><td>Személyes átvétel</td><td>8</td></tr><tr><td>daniel</td><td>NULL</td><td>13</td></tr><tr><td>daniel</td><td>GLS</td><td>7</td></tr><tr><td>daniel</td><td>Posta</td><td>2</td></tr><tr><td>daniel</td><td>Személyes átvétel</td><td>4</td></tr><tr><td>daniel1</td><td>NULL</td><td>419</td></tr><tr><td>daniel1</td><td>GLS</td><td>156</td></tr><tr><td>daniel1</td><td>Posta</td><td>131</td></tr><tr><td>daniel1</td><td>Személyes átvétel</td><td>132</td></tr><tr><td>david</td><td>NULL</td><td>451</td></tr><tr><td>david</td><td>GLS</td><td>161</td></tr><tr><td>david</td><td>Posta</td><td>144</td></tr><tr><td>david</td><td>Személyes átvétel</td><td>146</td></tr><tr><td>david1</td><td>NULL</td><td>17</td></tr><tr><td>david1</td><td>GLS</td><td>8</td></tr><tr><td>david1</td><td>Posta</td><td>1</td></tr><tr><td>david1</td><td>Személyes átvétel</td><td>8</td></tr><tr><td>david4</td><td>NULL</td><td>21</td></tr><tr><td>david4</td><td>GLS</td><td>3</td></tr><tr><td>david4</td><td>Posta</td><td>8</td></tr><tr><td>david4</td><td>Személyes átvétel</td><td>10</td></tr><tr><td>debora</td><td>NULL</td><td>16</td></tr><tr><td>debora</td><td>GLS</td><td>7</td></tr><tr><td>debora</td><td>Posta</td><td>6</td></tr><tr><td>debora</td><td>Személyes átvétel</td><td>3</td></tr><tr><td>denes</td><td>NULL</td><td>9</td></tr><tr><td>denes</td><td>GLS</td><td>3</td></tr><tr><td>denes</td><td>Posta</td><td>2</td></tr><tr><td>denes</td><td>Személyes átvétel</td><td>4</td></tr><tr><td>dora3</td><td>NULL</td><td>432</td></tr><tr><td>dora3</td><td>GLS</td><td>144</td></tr><tr><td>dora3</td><td>Posta</td><td>124</td></tr><tr><td>dora3</td><td>Személyes átvétel</td><td>164</td></tr><tr><td>edit</td><td>NULL</td><td>13</td></tr><tr><td>edit</td><td>GLS</td><td>7</td></tr><tr><td>edit</td><td>Posta</td><td>2</td></tr><tr><td>edit</td><td>Személyes átvétel</td><td>4</td></tr><tr><td>emese</td><td>NULL</td><td>406</td></tr><tr><td>emese</td><td>GLS</td><td>128</td></tr><tr><td>emese</td><td>Posta</td><td>136</td></tr><tr><td>emese</td><td>Személyes átvétel</td><td>142</td></tr><tr><td>eszter2</td><td>NULL</td><td>415</td></tr><tr><td>eszter2</td><td>GLS</td><td>127</td></tr><tr><td>eszter2</td><td>Posta</td><td>136</td></tr><tr><td>eszter2</td><td>Személyes átvétel</td><td>152</td></tr><tr><td>eszter4</td><td>NULL</td><td>424</td></tr><tr><td>eszter4</td><td>GLS</td><td>141</td></tr><tr><td>eszter4</td><td>Posta</td><td>134</td></tr><tr><td>eszter4</td><td>Személyes átvétel</td><td>149</td></tr><tr><td>ESZTERE</td><td>NULL</td><td>22</td></tr><tr><td>ESZTERE</td><td>GLS</td><td>6</td></tr><tr><td>ESZTERE</td><td>Posta</td><td>9</td></tr><tr><td>ESZTERE</td><td>Személyes átvétel</td><td>7</td></tr><tr><td>eva</td><td>NULL</td><td>404</td></tr><tr><td>eva</td><td>GLS</td><td>125</td></tr><tr><td>eva</td><td>Posta</td><td>140</td></tr><tr><td>eva</td><td>Személyes átvétel</td><td>139</td></tr><tr><td>eva2</td><td>NULL</td><td>462</td></tr><tr><td>eva2</td><td>GLS</td><td>154</td></tr><tr><td>eva2</td><td>Posta</td><td>138</td></tr><tr><td>eva2</td><td>Személyes átvétel</td><td>170</td></tr><tr><td>EVAV</td><td>NULL</td><td>7</td></tr><tr><td>EVAV</td><td>GLS</td><td>2</td></tr><tr><td>EVAV</td><td>Posta</td><td>1</td></tr><tr><td>EVAV</td><td>Személyes átvétel</td><td>4</td></tr><tr><td>ferenc1</td><td>NULL</td><td>437</td></tr><tr><td>ferenc1</td><td>GLS</td><td>144</td></tr><tr><td>ferenc1</td><td>Posta</td><td>158</td></tr><tr><td>ferenc1</td><td>Személyes átvétel</td><td>135</td></tr><tr><td>fruzsina4</td><td>NULL</td><td>18</td></tr><tr><td>fruzsina4</td><td>GLS</td><td>8</td></tr><tr><td>fruzsina4</td><td>Posta</td><td>3</td></tr><tr><td>fruzsina4</td><td>Személyes átvétel</td><td>7</td></tr><tr><td>gabor1</td><td>NULL</td><td>19</td></tr><tr><td>gabor1</td><td>GLS</td><td>9</td></tr><tr><td>gabor1</td><td>Posta</td><td>5</td></tr><tr><td>gabor1</td><td>Személyes átvétel</td><td>5</td></tr><tr><td>gabor4</td><td>NULL</td><td>20</td></tr><tr><td>gabor4</td><td>GLS</td><td>7</td></tr><tr><td>gabor4</td><td>Posta</td><td>9</td></tr><tr><td>gabor4</td><td>Személyes átvétel</td><td>4</td></tr><tr><td>GABORS</td><td>NULL</td><td>15</td></tr><tr><td>GABORS</td><td>GLS</td><td>5</td></tr><tr><td>GABORS</td><td>Posta</td><td>6</td></tr><tr><td>GABORS</td><td>Személyes átvétel</td><td>4</td></tr><tr><td>gabriella1</td><td>NULL</td><td>14</td></tr><tr><td>gabriella1</td><td>GLS</td><td>5</td></tr><tr><td>gabriella1</td><td>Posta</td><td>4</td></tr><tr><td>gabriella1</td><td>Személyes átvétel</td><td>5</td></tr><tr><td>gabriella10</td><td>NULL</td><td>16</td></tr><tr><td>gabriella10</td><td>GLS</td><td>4</td></tr><tr><td>gabriella10</td><td>Posta</td><td>5</td></tr><tr><td>gabriella10</td><td>Személyes átvétel</td><td>7</td></tr><tr><td>georgij</td><td>NULL</td><td>21</td></tr><tr><td>georgij</td><td>GLS</td><td>9</td></tr><tr><td>georgij</td><td>Posta</td><td>2</td></tr><tr><td>georgij</td><td>Személyes átvétel</td><td>10</td></tr><tr><td>gusztav</td><td>NULL</td><td>14</td></tr><tr><td>gusztav</td><td>GLS</td><td>5</td></tr><tr><td>gusztav</td><td>Posta</td><td>4</td></tr><tr><td>gusztav</td><td>Személyes átvétel</td><td>5</td></tr><tr><td>GYONGYIK</td><td>NULL</td><td>15</td></tr><tr><td>GYONGYIK</td><td>GLS</td><td>6</td></tr><tr><td>GYONGYIK</td><td>Posta</td><td>6</td></tr><tr><td>GYONGYIK</td><td>Személyes átvétel</td><td>3</td></tr><tr><td>GYORGYO</td><td>NULL</td><td>16</td></tr><tr><td>GYORGYO</td><td>GLS</td><td>7</td></tr><tr><td>GYORGYO</td><td>Posta</td><td>4</td></tr><tr><td>GYORGYO</td><td>Személyes átvétel</td><td>5</td></tr><tr><td>henrik3</td><td>NULL</td><td>16</td></tr><tr><td>henrik3</td><td>GLS</td><td>7</td></tr><tr><td>henrik3</td><td>Posta</td><td>4</td></tr><tr><td>henrik3</td><td>Személyes átvétel</td><td>5</td></tr><tr><td>IBOLYAA</td><td>NULL</td><td>422</td></tr><tr><td>IBOLYAA</td><td>GLS</td><td>140</td></tr><tr><td>IBOLYAA</td><td>Posta</td><td>125</td></tr><tr><td>IBOLYAA</td><td>Személyes átvétel</td><td>157</td></tr><tr><td>ilona3</td><td>NULL</td><td>18</td></tr><tr><td>ilona3</td><td>GLS</td><td>9</td></tr><tr><td>ilona3</td><td>Posta</td><td>2</td></tr><tr><td>ilona3</td><td>Személyes átvétel</td><td>7</td></tr><tr><td>imre</td><td>NULL</td><td>15</td></tr><tr><td>imre</td><td>GLS</td><td>5</td></tr><tr><td>imre</td><td>Posta</td><td>4</td></tr><tr><td>imre</td><td>Személyes átvétel</td><td>6</td></tr><tr><td>imre1</td><td>NULL</td><td>15</td></tr><tr><td>imre1</td><td>GLS</td><td>8</td></tr><tr><td>imre1</td><td>Posta</td><td>4</td></tr><tr><td>imre1</td><td>Személyes átvétel</td><td>3</td></tr><tr><td>istvan</td><td>NULL</td><td>11</td></tr><tr><td>istvan</td><td>GLS</td><td>3</td></tr><tr><td>istvan</td><td>Posta</td><td>4</td></tr><tr><td>istvan</td><td>Személyes átvétel</td><td>4</td></tr><tr><td>istvan1</td><td>NULL</td><td>19</td></tr><tr><td>istvan1</td><td>GLS</td><td>8</td></tr><tr><td>istvan1</td><td>Posta</td><td>4</td></tr><tr><td>istvan1</td><td>Személyes átvétel</td><td>7</td></tr><tr><td>ISTVANV</td><td>NULL</td><td>21</td></tr><tr><td>ISTVANV</td><td>GLS</td><td>4</td></tr><tr><td>ISTVANV</td><td>Posta</td><td>9</td></tr><tr><td>ISTVANV</td><td>Személyes átvétel</td><td>8</td></tr><tr><td>janos3</td><td>NULL</td><td>13</td></tr><tr><td>janos3</td><td>GLS</td><td>5</td></tr><tr><td>janos3</td><td>Posta</td><td>2</td></tr><tr><td>janos3</td><td>Személyes átvétel</td><td>6</td></tr><tr><td>JANOSG</td><td>NULL</td><td>10</td></tr><tr><td>JANOSG</td><td>GLS</td><td>3</td></tr><tr><td>JANOSG</td><td>Posta</td><td>3</td></tr><tr><td>JANOSG</td><td>Személyes átvétel</td><td>4</td></tr><tr><td>JANOSP</td><td>NULL</td><td>17</td></tr><tr><td>JANOSP</td><td>GLS</td><td>7</td></tr><tr><td>JANOSP</td><td>Posta</td><td>7</td></tr><tr><td>JANOSP</td><td>Személyes átvétel</td><td>3</td></tr><tr><td>jozsef</td><td>NULL</td><td>382</td></tr><tr><td>jozsef</td><td>GLS</td><td>116</td></tr><tr><td>jozsef</td><td>Posta</td><td>132</td></tr><tr><td>jozsef</td><td>Személyes átvétel</td><td>134</td></tr><tr><td>jozsef2</td><td>NULL</td><td>13</td></tr><tr><td>jozsef2</td><td>GLS</td><td>7</td></tr><tr><td>jozsef2</td><td>Posta</td><td>2</td></tr><tr><td>jozsef2</td><td>Személyes átvétel</td><td>4</td></tr><tr><td>JOZSEFG</td><td>NULL</td><td>21</td></tr><tr><td>JOZSEFG</td><td>GLS</td><td>11</td></tr><tr><td>JOZSEFG</td><td>Posta</td><td>1</td></tr><tr><td>JOZSEFG</td><td>Személyes átvétel</td><td>9</td></tr><tr><td>JUDITH</td><td>NULL</td><td>450</td></tr><tr><td>JUDITH</td><td>GLS</td><td>170</td></tr><tr><td>JUDITH</td><td>Posta</td><td>130</td></tr><tr><td>JUDITH</td><td>Személyes átvétel</td><td>150</td></tr><tr><td>julia</td><td>NULL</td><td>435</td></tr><tr><td>julia</td><td>GLS</td><td>137</td></tr><tr><td>julia</td><td>Posta</td><td>160</td></tr><tr><td>julia</td><td>Személyes átvétel</td><td>138</td></tr><tr><td>julia4</td><td>NULL</td><td>14</td></tr><tr><td>julia4</td><td>GLS</td><td>2</td></tr><tr><td>julia4</td><td>Posta</td><td>4</td></tr><tr><td>julia4</td><td>Személyes átvétel</td><td>8</td></tr><tr><td>julianna4</td><td>NULL</td><td>27</td></tr><tr><td>julianna4</td><td>GLS</td><td>8</td></tr><tr><td>julianna4</td><td>Posta</td><td>12</td></tr><tr><td>julianna4</td><td>Személyes átvétel</td><td>7</td></tr><tr><td>kata</td><td>NULL</td><td>12</td></tr><tr><td>kata</td><td>GLS</td><td>5</td></tr><tr><td>kata</td><td>Posta</td><td>4</td></tr><tr><td>kata</td><td>Személyes átvétel</td><td>3</td></tr><tr><td>katalin</td><td>NULL</td><td>19</td></tr><tr><td>katalin</td><td>GLS</td><td>7</td></tr><tr><td>katalin</td><td>Posta</td><td>7</td></tr><tr><td>katalin</td><td>Személyes átvétel</td><td>5</td></tr><tr><td>katalin4</td><td>NULL</td><td>23</td></tr><tr><td>katalin4</td><td>GLS</td><td>7</td></tr><tr><td>katalin4</td><td>Posta</td><td>5</td></tr><tr><td>katalin4</td><td>Személyes átvétel</td><td>11</td></tr><tr><td>kati</td><td>NULL</td><td>13</td></tr><tr><td>kati</td><td>GLS</td><td>4</td></tr><tr><td>kati</td><td>Posta</td><td>5</td></tr><tr><td>kati</td><td>Személyes átvétel</td><td>4</td></tr><tr><td>katka</td><td>NULL</td><td>22</td></tr><tr><td>katka</td><td>GLS</td><td>6</td></tr><tr><td>katka</td><td>Posta</td><td>6</td></tr><tr><td>katka</td><td>Személyes átvétel</td><td>10</td></tr><tr><td>klaudia2</td><td>NULL</td><td>17</td></tr><tr><td>klaudia2</td><td>GLS</td><td>3</td></tr><tr><td>klaudia2</td><td>Posta</td><td>9</td></tr><tr><td>klaudia2</td><td>Személyes átvétel</td><td>5</td></tr><tr><td>kornel4</td><td>NULL</td><td>11</td></tr><tr><td>kornel4</td><td>GLS</td><td>3</td></tr><tr><td>kornel4</td><td>Posta</td><td>1</td></tr><tr><td>kornel4</td><td>Személyes átvétel</td><td>7</td></tr><tr><td>kristof4</td><td>NULL</td><td>21</td></tr><tr><td>kristof4</td><td>GLS</td><td>9</td></tr><tr><td>kristof4</td><td>Posta</td><td>4</td></tr><tr><td>kristof4</td><td>Személyes átvétel</td><td>8</td></tr><tr><td>kriszti</td><td>NULL</td><td>13</td></tr><tr><td>kriszti</td><td>GLS</td><td>3</td></tr><tr><td>kriszti</td><td>Posta</td><td>5</td></tr><tr><td>kriszti</td><td>Személyes átvétel</td><td>5</td></tr><tr><td>krisztian4</td><td>NULL</td><td>17</td></tr><tr><td>krisztian4</td><td>GLS</td><td>5</td></tr><tr><td>krisztian4</td><td>Posta</td><td>6</td></tr><tr><td>krisztian4</td><td>Személyes átvétel</td><td>6</td></tr><tr><td>KRISZTIANM</td><td>NULL</td><td>384</td></tr><tr><td>KRISZTIANM</td><td>GLS</td><td>118</td></tr><tr><td>KRISZTIANM</td><td>Posta</td><td>136</td></tr><tr><td>KRISZTIANM</td><td>Személyes átvétel</td><td>130</td></tr><tr><td>krisztina</td><td>NULL</td><td>456</td></tr><tr><td>krisztina</td><td>GLS</td><td>149</td></tr><tr><td>krisztina</td><td>Posta</td><td>150</td></tr><tr><td>krisztina</td><td>Személyes átvétel</td><td>157</td></tr><tr><td>krisztina1</td><td>NULL</td><td>22</td></tr><tr><td>krisztina1</td><td>GLS</td><td>10</td></tr><tr><td>krisztina1</td><td>Posta</td><td>4</td></tr><tr><td>krisztina1</td><td>Személyes átvétel</td><td>8</td></tr><tr><td>KRISZTINAG</td><td>NULL</td><td>22</td></tr><tr><td>KRISZTINAG</td><td>GLS</td><td>6</td></tr><tr><td>KRISZTINAG</td><td>Posta</td><td>6</td></tr><tr><td>KRISZTINAG</td><td>Személyes átvétel</td><td>10</td></tr><tr><td>lajos</td><td>NULL</td><td>16</td></tr><tr><td>lajos</td><td>GLS</td><td>5</td></tr><tr><td>lajos</td><td>Posta</td><td>2</td></tr><tr><td>lajos</td><td>Személyes átvétel</td><td>9</td></tr><tr><td>lala</td><td>NULL</td><td>17</td></tr><tr><td>lala</td><td>GLS</td><td>5</td></tr><tr><td>lala</td><td>Posta</td><td>3</td></tr><tr><td>lala</td><td>Személyes átvétel</td><td>9</td></tr><tr><td>laszlo1</td><td>NULL</td><td>394</td></tr><tr><td>laszlo1</td><td>GLS</td><td>130</td></tr><tr><td>laszlo1</td><td>Posta</td><td>129</td></tr><tr><td>laszlo1</td><td>Személyes átvétel</td><td>135</td></tr><tr><td>laszlo2</td><td>NULL</td><td>25</td></tr><tr><td>laszlo2</td><td>GLS</td><td>12</td></tr><tr><td>laszlo2</td><td>Posta</td><td>6</td></tr><tr><td>laszlo2</td><td>Személyes átvétel</td><td>7</td></tr><tr><td>LASZLOA</td><td>NULL</td><td>446</td></tr><tr><td>LASZLOA</td><td>GLS</td><td>156</td></tr><tr><td>LASZLOA</td><td>Posta</td><td>136</td></tr><tr><td>LASZLOA</td><td>Személyes átvétel</td><td>154</td></tr><tr><td>LASZLON</td><td>NULL</td><td>400</td></tr><tr><td>LASZLON</td><td>GLS</td><td>126</td></tr><tr><td>LASZLON</td><td>Posta</td><td>131</td></tr><tr><td>LASZLON</td><td>Személyes átvétel</td><td>143</td></tr><tr><td>maria1</td><td>NULL</td><td>10</td></tr><tr><td>maria1</td><td>GLS</td><td>4</td></tr><tr><td>maria1</td><td>Posta</td><td>5</td></tr><tr><td>maria1</td><td>Személyes átvétel</td><td>1</td></tr><tr><td>MARKH</td><td>NULL</td><td>412</td></tr><tr><td>MARKH</td><td>GLS</td><td>128</td></tr><tr><td>MARKH</td><td>Posta</td><td>142</td></tr><tr><td>MARKH</td><td>Személyes átvétel</td><td>142</td></tr><tr><td>marton</td><td>NULL</td><td>14</td></tr><tr><td>marton</td><td>GLS</td><td>5</td></tr><tr><td>marton</td><td>Posta</td><td>4</td></tr><tr><td>marton</td><td>Személyes átvétel</td><td>5</td></tr><tr><td>MATEK</td><td>NULL</td><td>25</td></tr><tr><td>MATEK</td><td>GLS</td><td>6</td></tr><tr><td>MATEK</td><td>Posta</td><td>10</td></tr><tr><td>MATEK</td><td>Személyes átvétel</td><td>9</td></tr><tr><td>matyas2</td><td>NULL</td><td>433</td></tr><tr><td>matyas2</td><td>GLS</td><td>138</td></tr><tr><td>matyas2</td><td>Posta</td><td>131</td></tr><tr><td>matyas2</td><td>Személyes átvétel</td><td>164</td></tr><tr><td>MATYASS</td><td>NULL</td><td>12</td></tr><tr><td>MATYASS</td><td>GLS</td><td>4</td></tr><tr><td>MATYASS</td><td>Posta</td><td>5</td></tr><tr><td>MATYASS</td><td>Személyes átvétel</td><td>3</td></tr><tr><td>MIHALYJ</td><td>NULL</td><td>13</td></tr><tr><td>MIHALYJ</td><td>GLS</td><td>3</td></tr><tr><td>MIHALYJ</td><td>Posta</td><td>4</td></tr><tr><td>MIHALYJ</td><td>Személyes átvétel</td><td>6</td></tr><tr><td>miklos2</td><td>NULL</td><td>13</td></tr><tr><td>miklos2</td><td>GLS</td><td>7</td></tr><tr><td>miklos2</td><td>Posta</td><td>4</td></tr><tr><td>miklos2</td><td>Személyes átvétel</td><td>2</td></tr><tr><td>MIKLOSB</td><td>NULL</td><td>15</td></tr><tr><td>MIKLOSB</td><td>GLS</td><td>6</td></tr><tr><td>MIKLOSB</td><td>Posta</td><td>1</td></tr><tr><td>MIKLOSB</td><td>Személyes átvétel</td><td>8</td></tr><tr><td>MONIKAM</td><td>NULL</td><td>407</td></tr><tr><td>MONIKAM</td><td>GLS</td><td>133</td></tr><tr><td>MONIKAM</td><td>Posta</td><td>151</td></tr><tr><td>MONIKAM</td><td>Személyes átvétel</td><td>123</td></tr><tr><td>NANDORF</td><td>NULL</td><td>420</td></tr><tr><td>NANDORF</td><td>GLS</td><td>147</td></tr><tr><td>NANDORF</td><td>Posta</td><td>139</td></tr><tr><td>NANDORF</td><td>Személyes átvétel</td><td>134</td></tr><tr><td>nikolett3</td><td>NULL</td><td>17</td></tr><tr><td>nikolett3</td><td>GLS</td><td>4</td></tr><tr><td>nikolett3</td><td>Posta</td><td>3</td></tr><tr><td>nikolett3</td><td>Személyes átvétel</td><td>10</td></tr><tr><td>nikoletta4</td><td>NULL</td><td>414</td></tr><tr><td>nikoletta4</td><td>GLS</td><td>137</td></tr><tr><td>nikoletta4</td><td>Posta</td><td>158</td></tr><tr><td>nikoletta4</td><td>Személyes átvétel</td><td>119</td></tr><tr><td>NIKOLETTAT</td><td>NULL</td><td>25</td></tr><tr><td>NIKOLETTAT</td><td>GLS</td><td>13</td></tr><tr><td>NIKOLETTAT</td><td>Posta</td><td>7</td></tr><tr><td>NIKOLETTAT</td><td>Személyes átvétel</td><td>5</td></tr><tr><td>norbert2</td><td>NULL</td><td>11</td></tr><tr><td>norbert2</td><td>GLS</td><td>7</td></tr><tr><td>norbert2</td><td>Posta</td><td>4</td></tr><tr><td>norbert4</td><td>NULL</td><td>13</td></tr><tr><td>norbert4</td><td>GLS</td><td>1</td></tr><tr><td>norbert4</td><td>Posta</td><td>3</td></tr><tr><td>norbert4</td><td>Személyes átvétel</td><td>9</td></tr><tr><td>norbert5</td><td>NULL</td><td>16</td></tr><tr><td>norbert5</td><td>GLS</td><td>1</td></tr><tr><td>norbert5</td><td>Posta</td><td>6</td></tr><tr><td>norbert5</td><td>Személyes átvétel</td><td>9</td></tr><tr><td>pal</td><td>NULL</td><td>438</td></tr><tr><td>pal</td><td>GLS</td><td>152</td></tr><tr><td>pal</td><td>Posta</td><td>132</td></tr><tr><td>pal</td><td>Személyes átvétel</td><td>154</td></tr><tr><td>peter1</td><td>NULL</td><td>412</td></tr><tr><td>peter1</td><td>GLS</td><td>151</td></tr><tr><td>peter1</td><td>Posta</td><td>135</td></tr><tr><td>peter1</td><td>Személyes átvétel</td><td>126</td></tr><tr><td>peter2</td><td>NULL</td><td>18</td></tr><tr><td>peter2</td><td>GLS</td><td>7</td></tr><tr><td>peter2</td><td>Posta</td><td>4</td></tr><tr><td>peter2</td><td>Személyes átvétel</td><td>7</td></tr><tr><td>peter3</td><td>NULL</td><td>25</td></tr><tr><td>peter3</td><td>GLS</td><td>8</td></tr><tr><td>peter3</td><td>Posta</td><td>7</td></tr><tr><td>peter3</td><td>Személyes átvétel</td><td>10</td></tr><tr><td>peter4</td><td>NULL</td><td>852</td></tr><tr><td>peter4</td><td>GLS</td><td>266</td></tr><tr><td>peter4</td><td>Posta</td><td>293</td></tr><tr><td>peter4</td><td>Személyes átvétel</td><td>293</td></tr><tr><td>PETERB</td><td>NULL</td><td>15</td></tr><tr><td>PETERB</td><td>GLS</td><td>2</td></tr><tr><td>PETERB</td><td>Posta</td><td>4</td></tr><tr><td>PETERB</td><td>Személyes átvétel</td><td>9</td></tr><tr><td>polla</td><td>NULL</td><td>22</td></tr><tr><td>polla</td><td>GLS</td><td>9</td></tr><tr><td>polla</td><td>Posta</td><td>6</td></tr><tr><td>polla</td><td>Személyes átvétel</td><td>7</td></tr><tr><td>rajmond4</td><td>NULL</td><td>17</td></tr><tr><td>rajmond4</td><td>GLS</td><td>6</td></tr><tr><td>rajmond4</td><td>Posta</td><td>5</td></tr><tr><td>rajmond4</td><td>Személyes átvétel</td><td>6</td></tr><tr><td>reka4</td><td>NULL</td><td>20</td></tr><tr><td>reka4</td><td>GLS</td><td>5</td></tr><tr><td>reka4</td><td>Posta</td><td>4</td></tr><tr><td>reka4</td><td>Személyes átvétel</td><td>11</td></tr><tr><td>RENATAK</td><td>NULL</td><td>422</td></tr><tr><td>RENATAK</td><td>GLS</td><td>135</td></tr><tr><td>RENATAK</td><td>Posta</td><td>140</td></tr><tr><td>RENATAK</td><td>Személyes átvétel</td><td>147</td></tr><tr><td>RENATAS</td><td>NULL</td><td>16</td></tr><tr><td>RENATAS</td><td>GLS</td><td>6</td></tr><tr><td>RENATAS</td><td>Posta</td><td>5</td></tr><tr><td>RENATAS</td><td>Személyes átvétel</td><td>5</td></tr><tr><td>robert2</td><td>NULL</td><td>13</td></tr><tr><td>robert2</td><td>GLS</td><td>5</td></tr><tr><td>robert2</td><td>Posta</td><td>1</td></tr><tr><td>robert2</td><td>Személyes átvétel</td><td>7</td></tr><tr><td>ROBERTI</td><td>NULL</td><td>13</td></tr><tr><td>ROBERTI</td><td>GLS</td><td>5</td></tr><tr><td>ROBERTI</td><td>Posta</td><td>3</td></tr><tr><td>ROBERTI</td><td>Személyes átvétel</td><td>5</td></tr><tr><td>ROBERTP</td><td>NULL</td><td>26</td></tr><tr><td>ROBERTP</td><td>GLS</td><td>8</td></tr><tr><td>ROBERTP</td><td>Posta</td><td>8</td></tr><tr><td>ROBERTP</td><td>Személyes átvétel</td><td>10</td></tr><tr><td>roland</td><td>NULL</td><td>414</td></tr><tr><td>roland</td><td>GLS</td><td>132</td></tr><tr><td>roland</td><td>Posta</td><td>157</td></tr><tr><td>roland</td><td>Személyes átvétel</td><td>125</td></tr><tr><td>roland1</td><td>NULL</td><td>432</td></tr><tr><td>roland1</td><td>GLS</td><td>142</td></tr><tr><td>roland1</td><td>Posta</td><td>155</td></tr><tr><td>roland1</td><td>Személyes átvétel</td><td>135</td></tr><tr><td>roza2</td><td>NULL</td><td>8</td></tr><tr><td>roza2</td><td>GLS</td><td>3</td></tr><tr><td>roza2</td><td>Posta</td><td>2</td></tr><tr><td>roza2</td><td>Személyes átvétel</td><td>3</td></tr><tr><td>sandor</td><td>NULL</td><td>17</td></tr><tr><td>sandor</td><td>GLS</td><td>4</td></tr><tr><td>sandor</td><td>Posta</td><td>6</td></tr><tr><td>sandor</td><td>Személyes átvétel</td><td>7</td></tr><tr><td>sandor3</td><td>NULL</td><td>14</td></tr><tr><td>sandor3</td><td>GLS</td><td>4</td></tr><tr><td>sandor3</td><td>Posta</td><td>4</td></tr><tr><td>sandor3</td><td>Személyes átvétel</td><td>6</td></tr><tr><td>sandor4</td><td>NULL</td><td>11</td></tr><tr><td>sandor4</td><td>GLS</td><td>4</td></tr><tr><td>sandor4</td><td>Posta</td><td>2</td></tr><tr><td>sandor4</td><td>Személyes átvétel</td><td>5</td></tr><tr><td>sara</td><td>NULL</td><td>20</td></tr><tr><td>sara</td><td>GLS</td><td>4</td></tr><tr><td>sara</td><td>Posta</td><td>7</td></tr><tr><td>sara</td><td>Személyes átvétel</td><td>9</td></tr><tr><td>SEBASTIANF</td><td>NULL</td><td>15</td></tr><tr><td>SEBASTIANF</td><td>GLS</td><td>6</td></tr><tr><td>SEBASTIANF</td><td>Posta</td><td>3</td></tr><tr><td>SEBASTIANF</td><td>Személyes átvétel</td><td>6</td></tr><tr><td>sebestyen</td><td>NULL</td><td>16</td></tr><tr><td>sebestyen</td><td>GLS</td><td>4</td></tr><tr><td>sebestyen</td><td>Posta</td><td>6</td></tr><tr><td>sebestyen</td><td>Személyes átvétel</td><td>6</td></tr><tr><td>szabolcs</td><td>NULL</td><td>471</td></tr><tr><td>szabolcs</td><td>GLS</td><td>145</td></tr><tr><td>szabolcs</td><td>Posta</td><td>157</td></tr><tr><td>szabolcs</td><td>Személyes átvétel</td><td>169</td></tr><tr><td>SZABOLCSM</td><td>NULL</td><td>408</td></tr><tr><td>SZABOLCSM</td><td>GLS</td><td>126</td></tr><tr><td>SZABOLCSM</td><td>Posta</td><td>153</td></tr><tr><td>SZABOLCSM</td><td>Személyes átvétel</td><td>129</td></tr><tr><td>SZILARDS</td><td>NULL</td><td>386</td></tr><tr><td>SZILARDS</td><td>GLS</td><td>144</td></tr><tr><td>SZILARDS</td><td>Posta</td><td>131</td></tr><tr><td>SZILARDS</td><td>Személyes átvétel</td><td>111</td></tr><tr><td>szilvia1</td><td>NULL</td><td>445</td></tr><tr><td>szilvia1</td><td>GLS</td><td>156</td></tr><tr><td>szilvia1</td><td>Posta</td><td>151</td></tr><tr><td>szilvia1</td><td>Személyes átvétel</td><td>138</td></tr><tr><td>tamara2</td><td>NULL</td><td>13</td></tr><tr><td>tamara2</td><td>GLS</td><td>6</td></tr><tr><td>tamara2</td><td>Posta</td><td>4</td></tr><tr><td>tamara2</td><td>Személyes átvétel</td><td>3</td></tr><tr><td>tamas</td><td>NULL</td><td>421</td></tr><tr><td>tamas</td><td>GLS</td><td>143</td></tr><tr><td>tamas</td><td>Posta</td><td>156</td></tr><tr><td>tamas</td><td>Személyes átvétel</td><td>122</td></tr><tr><td>TAMASF</td><td>NULL</td><td>433</td></tr><tr><td>TAMASF</td><td>GLS</td><td>159</td></tr><tr><td>TAMASF</td><td>Posta</td><td>145</td></tr><tr><td>TAMASF</td><td>Személyes átvétel</td><td>129</td></tr><tr><td>tibor</td><td>NULL</td><td>374</td></tr><tr><td>tibor</td><td>GLS</td><td>115</td></tr><tr><td>tibor</td><td>Posta</td><td>129</td></tr><tr><td>tibor</td><td>Személyes átvétel</td><td>130</td></tr><tr><td>tibor2</td><td>NULL</td><td>25</td></tr><tr><td>tibor2</td><td>GLS</td><td>7</td></tr><tr><td>tibor2</td><td>Posta</td><td>7</td></tr><tr><td>tibor2</td><td>Személyes átvétel</td><td>11</td></tr><tr><td>tihamer</td><td>NULL</td><td>20</td></tr><tr><td>tihamer</td><td>GLS</td><td>9</td></tr><tr><td>tihamer</td><td>Posta</td><td>6</td></tr><tr><td>tihamer</td><td>Személyes átvétel</td><td>5</td></tr><tr><td>timea</td><td>NULL</td><td>55</td></tr><tr><td>timea</td><td>GLS</td><td>14</td></tr><tr><td>timea</td><td>Posta</td><td>23</td></tr><tr><td>timea</td><td>Személyes átvétel</td><td>18</td></tr><tr><td>timea2</td><td>NULL</td><td>16</td></tr><tr><td>timea2</td><td>GLS</td><td>1</td></tr><tr><td>timea2</td><td>Posta</td><td>5</td></tr><tr><td>timea2</td><td>Személyes átvétel</td><td>10</td></tr><tr><td>tunde</td><td>NULL</td><td>16</td></tr><tr><td>tunde</td><td>GLS</td><td>6</td></tr><tr><td>tunde</td><td>Posta</td><td>6</td></tr><tr><td>tunde</td><td>Személyes átvétel</td><td>4</td></tr><tr><td>valentin</td><td>NULL</td><td>13</td></tr><tr><td>valentin</td><td>GLS</td><td>5</td></tr><tr><td>valentin</td><td>Posta</td><td>5</td></tr><tr><td>valentin</td><td>Személyes átvétel</td><td>3</td></tr><tr><td>veronika4</td><td>NULL</td><td>18</td></tr><tr><td>veronika4</td><td>GLS</td><td>5</td></tr><tr><td>veronika4</td><td>Posta</td><td>6</td></tr><tr><td>veronika4</td><td>Személyes átvétel</td><td>7</td></tr><tr><td>VIKTORIAU</td><td>NULL</td><td>14</td></tr><tr><td>VIKTORIAU</td><td>GLS</td><td>5</td></tr><tr><td>VIKTORIAU</td><td>Posta</td><td>4</td></tr><tr><td>VIKTORIAU</td><td>Személyes átvétel</td><td>5</td></tr><tr><td>VIKTORK</td><td>NULL</td><td>20</td></tr><tr><td>VIKTORK</td><td>GLS</td><td>8</td></tr><tr><td>VIKTORK</td><td>Posta</td><td>6</td></tr><tr><td>VIKTORK</td><td>Személyes átvétel</td><td>6</td></tr><tr><td>vivien3</td><td>NULL</td><td>22</td></tr><tr><td>vivien3</td><td>GLS</td><td>9</td></tr><tr><td>vivien3</td><td>Posta</td><td>6</td></tr><tr><td>vivien3</td><td>Személyes átvétel</td><td>7</td></tr><tr><td>zoltan</td><td>NULL</td><td>15</td></tr><tr><td>zoltan</td><td>GLS</td><td>5</td></tr><tr><td>zoltan</td><td>Posta</td><td>3</td></tr><tr><td>zoltan</td><td>Személyes átvétel</td><td>7</td></tr><tr><td>zoltan4</td><td>NULL</td><td>424</td></tr><tr><td>zoltan4</td><td>GLS</td><td>129</td></tr><tr><td>zoltan4</td><td>Posta</td><td>124</td></tr><tr><td>zoltan4</td><td>Személyes átvétel</td><td>171</td></tr><tr><td>ZOLTANP</td><td>NULL</td><td>13</td></tr><tr><td>ZOLTANP</td><td>GLS</td><td>6</td></tr><tr><td>ZOLTANP</td><td>Posta</td><td>3</td></tr><tr><td>ZOLTANP</td><td>Személyes átvétel</td><td>4</td></tr><tr><td>ZOLTANT</td><td>NULL</td><td>357</td></tr><tr><td>ZOLTANT</td><td>GLS</td><td>127</td></tr><tr><td>ZOLTANT</td><td>Posta</td><td>107</td></tr><tr><td>ZOLTANT</td><td>Személyes átvétel</td><td>123</td></tr><tr><td>zsofi1</td><td>NULL</td><td>19</td></tr><tr><td>zsofi1</td><td>GLS</td><td>7</td></tr><tr><td>zsofi1</td><td>Posta</td><td>6</td></tr><tr><td>zsofi1</td><td>Személyes átvétel</td><td>6</td></tr><tr><td>zsolt1</td><td>NULL</td><td>20</td></tr><tr><td>zsolt1</td><td>GLS</td><td>11</td></tr><tr><td>zsolt1</td><td>Posta</td><td>6</td></tr><tr><td>zsolt1</td><td>Személyes átvétel</td><td>3</td></tr><tr><td>ZSOLTJ</td><td>NULL</td><td>18</td></tr><tr><td>ZSOLTJ</td><td>GLS</td><td>1</td></tr><tr><td>ZSOLTJ</td><td>Posta</td><td>8</td></tr><tr><td>ZSOLTJ</td><td>Személyes átvétel</td><td>9</td></tr><tr><td>zsuzsa</td><td>NULL</td><td>16</td></tr><tr><td>zsuzsa</td><td>GLS</td><td>8</td></tr><tr><td>zsuzsa</td><td>Posta</td><td>5</td></tr><tr><td>zsuzsa</td><td>Személyes átvétel</td><td>3</td></tr><tr><td>zsuzsa3</td><td>NULL</td><td>16</td></tr><tr><td>zsuzsa3</td><td>GLS</td><td>5</td></tr><tr><td>zsuzsa3</td><td>Posta</td><td>5</td></tr><tr><td>zsuzsa3</td><td>Személyes átvétel</td><td>6</td></tr><tr><td>zsuzsanna</td><td>NULL</td><td>15</td></tr><tr><td>zsuzsanna</td><td>GLS</td><td>7</td></tr><tr><td>zsuzsanna</td><td>Posta</td><td>5</td></tr><tr><td>zsuzsanna</td><td>Személyes átvétel</td><td>3</td></tr><tr><td>ZSUZSAV</td><td>NULL</td><td>420</td></tr><tr><td>ZSUZSAV</td><td>GLS</td><td>139</td></tr><tr><td>ZSUZSAV</td><td>Posta</td><td>139</td></tr><tr><td>ZSUZSAV</td><td>Személyes átvétel</td><td>142</td></tr></table>"
                    },
                    "metadata": {}
                }
            ],
            "execution_count": 6
        },
        {
            "cell_type": "markdown",
            "source": [
                "2. <span style=\"background-color: rgb(255, 255, 255); color: rgb(0, 0, 0); font-family: &quot;Open Sans&quot;, sans-serif; font-size: 14.44px;\">Készítsünk listát a termékek számáról a következő csoportosítási szempontok szerint:<br>kategória azonosító, raktárkód, raktárkód+mennyiségi egység!</span>\n",
                "\n",
                "a. A listát szűrjük azokra a csoportokra, ahol a termékek száma legalább 6!"
            ],
            "metadata": {
                "azdata_cell_guid": "ea75c103-911f-41a3-a32c-3d40fb3e4e4a"
            },
            "attachments": {}
        },
        {
            "cell_type": "code",
            "source": [
                "SELECT KAT_ID, RAKTAR_KOD, MEGYS, COUNT(TERMEKKOD)\r\n",
                "FROM Termek\r\n",
                "GROUP BY grouping SETS (KAT_ID, RAKTAR_KOD, (RAKTAR_KOD, MEGYS))\r\n",
                "HAVING COUNT(TERMEKKOD)>= 6\r\n",
                "\r\n",
                ""
            ],
            "metadata": {
                "azdata_cell_guid": "222b9618-a8e8-42b4-a8e8-d002257122b7",
                "language": "sql"
            },
            "outputs": [
                {
                    "output_type": "display_data",
                    "data": {
                        "text/html": "(49 rows affected)"
                    },
                    "metadata": {}
                },
                {
                    "output_type": "display_data",
                    "data": {
                        "text/html": "Total execution time: 00:00:00.033"
                    },
                    "metadata": {}
                },
                {
                    "output_type": "execute_result",
                    "execution_count": 15,
                    "data": {
                        "application/vnd.dataresource+json": {
                            "schema": {
                                "fields": [
                                    {
                                        "name": "KAT_ID"
                                    },
                                    {
                                        "name": "RAKTAR_KOD"
                                    },
                                    {
                                        "name": "MEGYS"
                                    },
                                    {
                                        "name": "(No column name)"
                                    }
                                ]
                            },
                            "data": [
                                {
                                    "KAT_ID": "NULL",
                                    "RAKTAR_KOD": "1",
                                    "MEGYS": "db",
                                    "(No column name)": "11"
                                },
                                {
                                    "KAT_ID": "NULL",
                                    "RAKTAR_KOD": "1",
                                    "MEGYS": "NULL",
                                    "(No column name)": "11"
                                },
                                {
                                    "KAT_ID": "NULL",
                                    "RAKTAR_KOD": "3",
                                    "MEGYS": "db",
                                    "(No column name)": "14"
                                },
                                {
                                    "KAT_ID": "NULL",
                                    "RAKTAR_KOD": "3",
                                    "MEGYS": "NULL",
                                    "(No column name)": "14"
                                },
                                {
                                    "KAT_ID": "NULL",
                                    "RAKTAR_KOD": "5",
                                    "MEGYS": "csomag",
                                    "(No column name)": "7"
                                },
                                {
                                    "KAT_ID": "NULL",
                                    "RAKTAR_KOD": "5",
                                    "MEGYS": "db",
                                    "(No column name)": "72"
                                },
                                {
                                    "KAT_ID": "NULL",
                                    "RAKTAR_KOD": "5",
                                    "MEGYS": "NULL",
                                    "(No column name)": "86"
                                },
                                {
                                    "KAT_ID": "NULL",
                                    "RAKTAR_KOD": "6",
                                    "MEGYS": "csomag",
                                    "(No column name)": "9"
                                },
                                {
                                    "KAT_ID": "NULL",
                                    "RAKTAR_KOD": "6",
                                    "MEGYS": "db",
                                    "(No column name)": "94"
                                },
                                {
                                    "KAT_ID": "NULL",
                                    "RAKTAR_KOD": "6",
                                    "MEGYS": "NULL",
                                    "(No column name)": "106"
                                },
                                {
                                    "KAT_ID": "NULL",
                                    "RAKTAR_KOD": "7",
                                    "MEGYS": "csomag",
                                    "(No column name)": "9"
                                },
                                {
                                    "KAT_ID": "NULL",
                                    "RAKTAR_KOD": "7",
                                    "MEGYS": "db",
                                    "(No column name)": "88"
                                },
                                {
                                    "KAT_ID": "NULL",
                                    "RAKTAR_KOD": "7",
                                    "MEGYS": "NULL",
                                    "(No column name)": "100"
                                },
                                {
                                    "KAT_ID": "NULL",
                                    "RAKTAR_KOD": "8",
                                    "MEGYS": "csomag",
                                    "(No column name)": "8"
                                },
                                {
                                    "KAT_ID": "NULL",
                                    "RAKTAR_KOD": "8",
                                    "MEGYS": "db",
                                    "(No column name)": "109"
                                },
                                {
                                    "KAT_ID": "NULL",
                                    "RAKTAR_KOD": "8",
                                    "MEGYS": "ív",
                                    "(No column name)": "6"
                                },
                                {
                                    "KAT_ID": "NULL",
                                    "RAKTAR_KOD": "8",
                                    "MEGYS": "NULL",
                                    "(No column name)": "123"
                                },
                                {
                                    "KAT_ID": "NULL",
                                    "RAKTAR_KOD": "9",
                                    "MEGYS": "csomag",
                                    "(No column name)": "11"
                                },
                                {
                                    "KAT_ID": "NULL",
                                    "RAKTAR_KOD": "9",
                                    "MEGYS": "db",
                                    "(No column name)": "86"
                                },
                                {
                                    "KAT_ID": "NULL",
                                    "RAKTAR_KOD": "9",
                                    "MEGYS": "NULL",
                                    "(No column name)": "102"
                                },
                                {
                                    "KAT_ID": "4",
                                    "RAKTAR_KOD": "NULL",
                                    "MEGYS": "NULL",
                                    "(No column name)": "15"
                                },
                                {
                                    "KAT_ID": "6",
                                    "RAKTAR_KOD": "NULL",
                                    "MEGYS": "NULL",
                                    "(No column name)": "20"
                                },
                                {
                                    "KAT_ID": "16",
                                    "RAKTAR_KOD": "NULL",
                                    "MEGYS": "NULL",
                                    "(No column name)": "7"
                                },
                                {
                                    "KAT_ID": "19",
                                    "RAKTAR_KOD": "NULL",
                                    "MEGYS": "NULL",
                                    "(No column name)": "19"
                                },
                                {
                                    "KAT_ID": "24",
                                    "RAKTAR_KOD": "NULL",
                                    "MEGYS": "NULL",
                                    "(No column name)": "7"
                                },
                                {
                                    "KAT_ID": "30",
                                    "RAKTAR_KOD": "NULL",
                                    "MEGYS": "NULL",
                                    "(No column name)": "7"
                                },
                                {
                                    "KAT_ID": "35",
                                    "RAKTAR_KOD": "NULL",
                                    "MEGYS": "NULL",
                                    "(No column name)": "7"
                                },
                                {
                                    "KAT_ID": "41",
                                    "RAKTAR_KOD": "NULL",
                                    "MEGYS": "NULL",
                                    "(No column name)": "13"
                                },
                                {
                                    "KAT_ID": "45",
                                    "RAKTAR_KOD": "NULL",
                                    "MEGYS": "NULL",
                                    "(No column name)": "11"
                                },
                                {
                                    "KAT_ID": "46",
                                    "RAKTAR_KOD": "NULL",
                                    "MEGYS": "NULL",
                                    "(No column name)": "7"
                                },
                                {
                                    "KAT_ID": "52",
                                    "RAKTAR_KOD": "NULL",
                                    "MEGYS": "NULL",
                                    "(No column name)": "26"
                                },
                                {
                                    "KAT_ID": "54",
                                    "RAKTAR_KOD": "NULL",
                                    "MEGYS": "NULL",
                                    "(No column name)": "6"
                                },
                                {
                                    "KAT_ID": "66",
                                    "RAKTAR_KOD": "NULL",
                                    "MEGYS": "NULL",
                                    "(No column name)": "7"
                                },
                                {
                                    "KAT_ID": "78",
                                    "RAKTAR_KOD": "NULL",
                                    "MEGYS": "NULL",
                                    "(No column name)": "24"
                                },
                                {
                                    "KAT_ID": "83",
                                    "RAKTAR_KOD": "NULL",
                                    "MEGYS": "NULL",
                                    "(No column name)": "6"
                                },
                                {
                                    "KAT_ID": "85",
                                    "RAKTAR_KOD": "NULL",
                                    "MEGYS": "NULL",
                                    "(No column name)": "16"
                                },
                                {
                                    "KAT_ID": "91",
                                    "RAKTAR_KOD": "NULL",
                                    "MEGYS": "NULL",
                                    "(No column name)": "7"
                                },
                                {
                                    "KAT_ID": "93",
                                    "RAKTAR_KOD": "NULL",
                                    "MEGYS": "NULL",
                                    "(No column name)": "7"
                                },
                                {
                                    "KAT_ID": "96",
                                    "RAKTAR_KOD": "NULL",
                                    "MEGYS": "NULL",
                                    "(No column name)": "9"
                                },
                                {
                                    "KAT_ID": "97",
                                    "RAKTAR_KOD": "NULL",
                                    "MEGYS": "NULL",
                                    "(No column name)": "10"
                                },
                                {
                                    "KAT_ID": "100",
                                    "RAKTAR_KOD": "NULL",
                                    "MEGYS": "NULL",
                                    "(No column name)": "9"
                                },
                                {
                                    "KAT_ID": "118",
                                    "RAKTAR_KOD": "NULL",
                                    "MEGYS": "NULL",
                                    "(No column name)": "9"
                                },
                                {
                                    "KAT_ID": "122",
                                    "RAKTAR_KOD": "NULL",
                                    "MEGYS": "NULL",
                                    "(No column name)": "7"
                                },
                                {
                                    "KAT_ID": "124",
                                    "RAKTAR_KOD": "NULL",
                                    "MEGYS": "NULL",
                                    "(No column name)": "10"
                                },
                                {
                                    "KAT_ID": "133",
                                    "RAKTAR_KOD": "NULL",
                                    "MEGYS": "NULL",
                                    "(No column name)": "6"
                                },
                                {
                                    "KAT_ID": "145",
                                    "RAKTAR_KOD": "NULL",
                                    "MEGYS": "NULL",
                                    "(No column name)": "18"
                                },
                                {
                                    "KAT_ID": "146",
                                    "RAKTAR_KOD": "NULL",
                                    "MEGYS": "NULL",
                                    "(No column name)": "7"
                                },
                                {
                                    "KAT_ID": "149",
                                    "RAKTAR_KOD": "NULL",
                                    "MEGYS": "NULL",
                                    "(No column name)": "6"
                                },
                                {
                                    "KAT_ID": "152",
                                    "RAKTAR_KOD": "NULL",
                                    "MEGYS": "NULL",
                                    "(No column name)": "6"
                                }
                            ]
                        },
                        "text/html": "<table><tr><th>KAT_ID</th><th>RAKTAR_KOD</th><th>MEGYS</th><th>(No column name)</th></tr><tr><td>NULL</td><td>1</td><td>db</td><td>11</td></tr><tr><td>NULL</td><td>1</td><td>NULL</td><td>11</td></tr><tr><td>NULL</td><td>3</td><td>db</td><td>14</td></tr><tr><td>NULL</td><td>3</td><td>NULL</td><td>14</td></tr><tr><td>NULL</td><td>5</td><td>csomag</td><td>7</td></tr><tr><td>NULL</td><td>5</td><td>db</td><td>72</td></tr><tr><td>NULL</td><td>5</td><td>NULL</td><td>86</td></tr><tr><td>NULL</td><td>6</td><td>csomag</td><td>9</td></tr><tr><td>NULL</td><td>6</td><td>db</td><td>94</td></tr><tr><td>NULL</td><td>6</td><td>NULL</td><td>106</td></tr><tr><td>NULL</td><td>7</td><td>csomag</td><td>9</td></tr><tr><td>NULL</td><td>7</td><td>db</td><td>88</td></tr><tr><td>NULL</td><td>7</td><td>NULL</td><td>100</td></tr><tr><td>NULL</td><td>8</td><td>csomag</td><td>8</td></tr><tr><td>NULL</td><td>8</td><td>db</td><td>109</td></tr><tr><td>NULL</td><td>8</td><td>ív</td><td>6</td></tr><tr><td>NULL</td><td>8</td><td>NULL</td><td>123</td></tr><tr><td>NULL</td><td>9</td><td>csomag</td><td>11</td></tr><tr><td>NULL</td><td>9</td><td>db</td><td>86</td></tr><tr><td>NULL</td><td>9</td><td>NULL</td><td>102</td></tr><tr><td>4</td><td>NULL</td><td>NULL</td><td>15</td></tr><tr><td>6</td><td>NULL</td><td>NULL</td><td>20</td></tr><tr><td>16</td><td>NULL</td><td>NULL</td><td>7</td></tr><tr><td>19</td><td>NULL</td><td>NULL</td><td>19</td></tr><tr><td>24</td><td>NULL</td><td>NULL</td><td>7</td></tr><tr><td>30</td><td>NULL</td><td>NULL</td><td>7</td></tr><tr><td>35</td><td>NULL</td><td>NULL</td><td>7</td></tr><tr><td>41</td><td>NULL</td><td>NULL</td><td>13</td></tr><tr><td>45</td><td>NULL</td><td>NULL</td><td>11</td></tr><tr><td>46</td><td>NULL</td><td>NULL</td><td>7</td></tr><tr><td>52</td><td>NULL</td><td>NULL</td><td>26</td></tr><tr><td>54</td><td>NULL</td><td>NULL</td><td>6</td></tr><tr><td>66</td><td>NULL</td><td>NULL</td><td>7</td></tr><tr><td>78</td><td>NULL</td><td>NULL</td><td>24</td></tr><tr><td>83</td><td>NULL</td><td>NULL</td><td>6</td></tr><tr><td>85</td><td>NULL</td><td>NULL</td><td>16</td></tr><tr><td>91</td><td>NULL</td><td>NULL</td><td>7</td></tr><tr><td>93</td><td>NULL</td><td>NULL</td><td>7</td></tr><tr><td>96</td><td>NULL</td><td>NULL</td><td>9</td></tr><tr><td>97</td><td>NULL</td><td>NULL</td><td>10</td></tr><tr><td>100</td><td>NULL</td><td>NULL</td><td>9</td></tr><tr><td>118</td><td>NULL</td><td>NULL</td><td>9</td></tr><tr><td>122</td><td>NULL</td><td>NULL</td><td>7</td></tr><tr><td>124</td><td>NULL</td><td>NULL</td><td>10</td></tr><tr><td>133</td><td>NULL</td><td>NULL</td><td>6</td></tr><tr><td>145</td><td>NULL</td><td>NULL</td><td>18</td></tr><tr><td>146</td><td>NULL</td><td>NULL</td><td>7</td></tr><tr><td>149</td><td>NULL</td><td>NULL</td><td>6</td></tr><tr><td>152</td><td>NULL</td><td>NULL</td><td>6</td></tr></table>"
                    },
                    "metadata": {}
                }
            ],
            "execution_count": 15
        },
        {
            "cell_type": "markdown",
            "source": [
                "```\n",
                "3. Készítsünk listát az egyes termékkategóriákban lévő termékek számáról! \n",
                "\n",
                "```\n",
                "\n",
                "a. Elég megjeleníteni a kategóriák azonosítóit és a darabszámokat!   \n",
                "<span style=\"color: var(--vscode-foreground);\">b. A lista megfelelően jelölve tartalmazza a végösszeget is!&nbsp;<br></span> <span style=\"color: var(--vscode-foreground);\">c. Az oszlopokat nevezzük el értelemszerűen!&nbsp;<br></span> <span style=\"color: var(--vscode-foreground);\">d. A listát rendezzük a darabszám szerint növekvő sorrendbe!</span>\n",
                "\n",
                "  \n",
                "\n",
                "![](https://moodle.uni-corvinus.hu/theme/image.php/adaptable/atto_h5p/1709548862/icon)"
            ],
            "metadata": {
                "azdata_cell_guid": "d7876bb9-76d0-4d07-baed-3cb17b2f96c3"
            },
            "attachments": {}
        },
        {
            "cell_type": "code",
            "source": [
                "SELECT IIF(KAT_ID IS NULL, 'Végösszeg', CAST(KAT_ID AS nvarchar(10))), GROUPING(KAT_ID), COUNT(TERMEKKOD) AS 'darabszam'\r\n",
                "FROM Termek\r\n",
                "GROUP BY CUBE (KAT_ID)\r\n",
                "ORDER BY 3\r\n",
                ""
            ],
            "metadata": {
                "azdata_cell_guid": "56ec19ce-e249-4551-b2a8-f17569765acc",
                "language": "sql"
            },
            "outputs": [
                {
                    "output_type": "display_data",
                    "data": {
                        "text/html": "(144 rows affected)"
                    },
                    "metadata": {}
                },
                {
                    "output_type": "display_data",
                    "data": {
                        "text/html": "Total execution time: 00:00:00.253"
                    },
                    "metadata": {}
                },
                {
                    "output_type": "execute_result",
                    "execution_count": 27,
                    "data": {
                        "application/vnd.dataresource+json": {
                            "schema": {
                                "fields": [
                                    {
                                        "name": "(No column name)"
                                    },
                                    {
                                        "name": "(No column name)"
                                    },
                                    {
                                        "name": "darabszam"
                                    }
                                ]
                            },
                            "data": [
                                {
                                    "(No column name)": "0",
                                    "darabszam": "1"
                                },
                                {
                                    "(No column name)": "0",
                                    "darabszam": "1"
                                },
                                {
                                    "(No column name)": "0",
                                    "darabszam": "1"
                                },
                                {
                                    "(No column name)": "0",
                                    "darabszam": "1"
                                },
                                {
                                    "(No column name)": "0",
                                    "darabszam": "1"
                                },
                                {
                                    "(No column name)": "0",
                                    "darabszam": "1"
                                },
                                {
                                    "(No column name)": "0",
                                    "darabszam": "1"
                                },
                                {
                                    "(No column name)": "0",
                                    "darabszam": "1"
                                },
                                {
                                    "(No column name)": "0",
                                    "darabszam": "1"
                                },
                                {
                                    "(No column name)": "0",
                                    "darabszam": "1"
                                },
                                {
                                    "(No column name)": "0",
                                    "darabszam": "1"
                                },
                                {
                                    "(No column name)": "0",
                                    "darabszam": "1"
                                },
                                {
                                    "(No column name)": "0",
                                    "darabszam": "1"
                                },
                                {
                                    "(No column name)": "0",
                                    "darabszam": "1"
                                },
                                {
                                    "(No column name)": "0",
                                    "darabszam": "1"
                                },
                                {
                                    "(No column name)": "0",
                                    "darabszam": "1"
                                },
                                {
                                    "(No column name)": "0",
                                    "darabszam": "1"
                                },
                                {
                                    "(No column name)": "0",
                                    "darabszam": "1"
                                },
                                {
                                    "(No column name)": "0",
                                    "darabszam": "1"
                                },
                                {
                                    "(No column name)": "0",
                                    "darabszam": "1"
                                },
                                {
                                    "(No column name)": "0",
                                    "darabszam": "1"
                                },
                                {
                                    "(No column name)": "0",
                                    "darabszam": "1"
                                },
                                {
                                    "(No column name)": "0",
                                    "darabszam": "1"
                                },
                                {
                                    "(No column name)": "0",
                                    "darabszam": "1"
                                },
                                {
                                    "(No column name)": "0",
                                    "darabszam": "1"
                                },
                                {
                                    "(No column name)": "0",
                                    "darabszam": "1"
                                },
                                {
                                    "(No column name)": "0",
                                    "darabszam": "1"
                                },
                                {
                                    "(No column name)": "0",
                                    "darabszam": "1"
                                },
                                {
                                    "(No column name)": "0",
                                    "darabszam": "1"
                                },
                                {
                                    "(No column name)": "0",
                                    "darabszam": "1"
                                },
                                {
                                    "(No column name)": "0",
                                    "darabszam": "1"
                                },
                                {
                                    "(No column name)": "0",
                                    "darabszam": "1"
                                },
                                {
                                    "(No column name)": "0",
                                    "darabszam": "1"
                                },
                                {
                                    "(No column name)": "0",
                                    "darabszam": "1"
                                },
                                {
                                    "(No column name)": "0",
                                    "darabszam": "1"
                                },
                                {
                                    "(No column name)": "0",
                                    "darabszam": "1"
                                },
                                {
                                    "(No column name)": "0",
                                    "darabszam": "1"
                                },
                                {
                                    "(No column name)": "0",
                                    "darabszam": "1"
                                },
                                {
                                    "(No column name)": "0",
                                    "darabszam": "1"
                                },
                                {
                                    "(No column name)": "0",
                                    "darabszam": "1"
                                },
                                {
                                    "(No column name)": "0",
                                    "darabszam": "1"
                                },
                                {
                                    "(No column name)": "0",
                                    "darabszam": "1"
                                },
                                {
                                    "(No column name)": "0",
                                    "darabszam": "1"
                                },
                                {
                                    "(No column name)": "0",
                                    "darabszam": "1"
                                },
                                {
                                    "(No column name)": "0",
                                    "darabszam": "2"
                                },
                                {
                                    "(No column name)": "0",
                                    "darabszam": "2"
                                },
                                {
                                    "(No column name)": "0",
                                    "darabszam": "2"
                                },
                                {
                                    "(No column name)": "0",
                                    "darabszam": "2"
                                },
                                {
                                    "(No column name)": "0",
                                    "darabszam": "2"
                                },
                                {
                                    "(No column name)": "0",
                                    "darabszam": "2"
                                },
                                {
                                    "(No column name)": "0",
                                    "darabszam": "2"
                                },
                                {
                                    "(No column name)": "0",
                                    "darabszam": "2"
                                },
                                {
                                    "(No column name)": "0",
                                    "darabszam": "2"
                                },
                                {
                                    "(No column name)": "0",
                                    "darabszam": "2"
                                },
                                {
                                    "(No column name)": "0",
                                    "darabszam": "2"
                                },
                                {
                                    "(No column name)": "0",
                                    "darabszam": "2"
                                },
                                {
                                    "(No column name)": "0",
                                    "darabszam": "2"
                                },
                                {
                                    "(No column name)": "0",
                                    "darabszam": "2"
                                },
                                {
                                    "(No column name)": "0",
                                    "darabszam": "2"
                                },
                                {
                                    "(No column name)": "0",
                                    "darabszam": "2"
                                },
                                {
                                    "(No column name)": "0",
                                    "darabszam": "2"
                                },
                                {
                                    "(No column name)": "0",
                                    "darabszam": "2"
                                },
                                {
                                    "(No column name)": "0",
                                    "darabszam": "2"
                                },
                                {
                                    "(No column name)": "0",
                                    "darabszam": "2"
                                },
                                {
                                    "(No column name)": "0",
                                    "darabszam": "2"
                                },
                                {
                                    "(No column name)": "0",
                                    "darabszam": "2"
                                },
                                {
                                    "(No column name)": "0",
                                    "darabszam": "2"
                                },
                                {
                                    "(No column name)": "0",
                                    "darabszam": "2"
                                },
                                {
                                    "(No column name)": "0",
                                    "darabszam": "2"
                                },
                                {
                                    "(No column name)": "0",
                                    "darabszam": "2"
                                },
                                {
                                    "(No column name)": "0",
                                    "darabszam": "2"
                                },
                                {
                                    "(No column name)": "0",
                                    "darabszam": "2"
                                },
                                {
                                    "(No column name)": "0",
                                    "darabszam": "2"
                                },
                                {
                                    "(No column name)": "0",
                                    "darabszam": "2"
                                },
                                {
                                    "(No column name)": "0",
                                    "darabszam": "2"
                                },
                                {
                                    "(No column name)": "0",
                                    "darabszam": "2"
                                },
                                {
                                    "(No column name)": "0",
                                    "darabszam": "2"
                                },
                                {
                                    "(No column name)": "0",
                                    "darabszam": "2"
                                },
                                {
                                    "(No column name)": "0",
                                    "darabszam": "2"
                                },
                                {
                                    "(No column name)": "0",
                                    "darabszam": "2"
                                },
                                {
                                    "(No column name)": "0",
                                    "darabszam": "2"
                                },
                                {
                                    "(No column name)": "0",
                                    "darabszam": "3"
                                },
                                {
                                    "(No column name)": "0",
                                    "darabszam": "3"
                                },
                                {
                                    "(No column name)": "0",
                                    "darabszam": "3"
                                },
                                {
                                    "(No column name)": "0",
                                    "darabszam": "3"
                                },
                                {
                                    "(No column name)": "0",
                                    "darabszam": "3"
                                },
                                {
                                    "(No column name)": "0",
                                    "darabszam": "3"
                                },
                                {
                                    "(No column name)": "0",
                                    "darabszam": "3"
                                },
                                {
                                    "(No column name)": "0",
                                    "darabszam": "3"
                                },
                                {
                                    "(No column name)": "0",
                                    "darabszam": "3"
                                },
                                {
                                    "(No column name)": "0",
                                    "darabszam": "3"
                                },
                                {
                                    "(No column name)": "0",
                                    "darabszam": "3"
                                },
                                {
                                    "(No column name)": "0",
                                    "darabszam": "3"
                                },
                                {
                                    "(No column name)": "0",
                                    "darabszam": "3"
                                },
                                {
                                    "(No column name)": "0",
                                    "darabszam": "3"
                                },
                                {
                                    "(No column name)": "0",
                                    "darabszam": "3"
                                },
                                {
                                    "(No column name)": "0",
                                    "darabszam": "4"
                                },
                                {
                                    "(No column name)": "0",
                                    "darabszam": "4"
                                },
                                {
                                    "(No column name)": "0",
                                    "darabszam": "4"
                                },
                                {
                                    "(No column name)": "0",
                                    "darabszam": "4"
                                },
                                {
                                    "(No column name)": "0",
                                    "darabszam": "4"
                                },
                                {
                                    "(No column name)": "0",
                                    "darabszam": "4"
                                },
                                {
                                    "(No column name)": "0",
                                    "darabszam": "4"
                                },
                                {
                                    "(No column name)": "0",
                                    "darabszam": "4"
                                },
                                {
                                    "(No column name)": "0",
                                    "darabszam": "4"
                                },
                                {
                                    "(No column name)": "0",
                                    "darabszam": "4"
                                },
                                {
                                    "(No column name)": "0",
                                    "darabszam": "4"
                                },
                                {
                                    "(No column name)": "0",
                                    "darabszam": "5"
                                },
                                {
                                    "(No column name)": "0",
                                    "darabszam": "5"
                                },
                                {
                                    "(No column name)": "0",
                                    "darabszam": "5"
                                },
                                {
                                    "(No column name)": "0",
                                    "darabszam": "5"
                                },
                                {
                                    "(No column name)": "0",
                                    "darabszam": "5"
                                },
                                {
                                    "(No column name)": "0",
                                    "darabszam": "5"
                                },
                                {
                                    "(No column name)": "0",
                                    "darabszam": "5"
                                },
                                {
                                    "(No column name)": "0",
                                    "darabszam": "6"
                                },
                                {
                                    "(No column name)": "0",
                                    "darabszam": "6"
                                },
                                {
                                    "(No column name)": "0",
                                    "darabszam": "6"
                                },
                                {
                                    "(No column name)": "0",
                                    "darabszam": "6"
                                },
                                {
                                    "(No column name)": "0",
                                    "darabszam": "6"
                                },
                                {
                                    "(No column name)": "0",
                                    "darabszam": "7"
                                },
                                {
                                    "(No column name)": "0",
                                    "darabszam": "7"
                                },
                                {
                                    "(No column name)": "0",
                                    "darabszam": "7"
                                },
                                {
                                    "(No column name)": "0",
                                    "darabszam": "7"
                                },
                                {
                                    "(No column name)": "0",
                                    "darabszam": "7"
                                },
                                {
                                    "(No column name)": "0",
                                    "darabszam": "7"
                                },
                                {
                                    "(No column name)": "0",
                                    "darabszam": "7"
                                },
                                {
                                    "(No column name)": "0",
                                    "darabszam": "7"
                                },
                                {
                                    "(No column name)": "0",
                                    "darabszam": "7"
                                },
                                {
                                    "(No column name)": "0",
                                    "darabszam": "7"
                                },
                                {
                                    "(No column name)": "0",
                                    "darabszam": "9"
                                },
                                {
                                    "(No column name)": "0",
                                    "darabszam": "9"
                                },
                                {
                                    "(No column name)": "0",
                                    "darabszam": "9"
                                },
                                {
                                    "(No column name)": "0",
                                    "darabszam": "10"
                                },
                                {
                                    "(No column name)": "0",
                                    "darabszam": "10"
                                },
                                {
                                    "(No column name)": "0",
                                    "darabszam": "11"
                                },
                                {
                                    "(No column name)": "0",
                                    "darabszam": "13"
                                },
                                {
                                    "(No column name)": "0",
                                    "darabszam": "15"
                                },
                                {
                                    "(No column name)": "0",
                                    "darabszam": "16"
                                },
                                {
                                    "(No column name)": "0",
                                    "darabszam": "18"
                                },
                                {
                                    "(No column name)": "0",
                                    "darabszam": "19"
                                },
                                {
                                    "(No column name)": "0",
                                    "darabszam": "20"
                                },
                                {
                                    "(No column name)": "0",
                                    "darabszam": "24"
                                },
                                {
                                    "(No column name)": "0",
                                    "darabszam": "26"
                                },
                                {
                                    "(No column name)": "1",
                                    "darabszam": "551"
                                }
                            ]
                        },
                        "text/html": "<table><tr><th>(No column name)</th><th>(No column name)</th><th>darabszam</th></tr><tr><td>10</td><td>0</td><td>1</td></tr><tr><td>11</td><td>0</td><td>1</td></tr><tr><td>12</td><td>0</td><td>1</td></tr><tr><td>15</td><td>0</td><td>1</td></tr><tr><td>17</td><td>0</td><td>1</td></tr><tr><td>26</td><td>0</td><td>1</td></tr><tr><td>29</td><td>0</td><td>1</td></tr><tr><td>31</td><td>0</td><td>1</td></tr><tr><td>33</td><td>0</td><td>1</td></tr><tr><td>34</td><td>0</td><td>1</td></tr><tr><td>37</td><td>0</td><td>1</td></tr><tr><td>38</td><td>0</td><td>1</td></tr><tr><td>40</td><td>0</td><td>1</td></tr><tr><td>42</td><td>0</td><td>1</td></tr><tr><td>44</td><td>0</td><td>1</td></tr><tr><td>50</td><td>0</td><td>1</td></tr><tr><td>53</td><td>0</td><td>1</td></tr><tr><td>61</td><td>0</td><td>1</td></tr><tr><td>74</td><td>0</td><td>1</td></tr><tr><td>80</td><td>0</td><td>1</td></tr><tr><td>82</td><td>0</td><td>1</td></tr><tr><td>84</td><td>0</td><td>1</td></tr><tr><td>86</td><td>0</td><td>1</td></tr><tr><td>99</td><td>0</td><td>1</td></tr><tr><td>101</td><td>0</td><td>1</td></tr><tr><td>103</td><td>0</td><td>1</td></tr><tr><td>105</td><td>0</td><td>1</td></tr><tr><td>107</td><td>0</td><td>1</td></tr><tr><td>108</td><td>0</td><td>1</td></tr><tr><td>109</td><td>0</td><td>1</td></tr><tr><td>114</td><td>0</td><td>1</td></tr><tr><td>115</td><td>0</td><td>1</td></tr><tr><td>126</td><td>0</td><td>1</td></tr><tr><td>130</td><td>0</td><td>1</td></tr><tr><td>131</td><td>0</td><td>1</td></tr><tr><td>132</td><td>0</td><td>1</td></tr><tr><td>135</td><td>0</td><td>1</td></tr><tr><td>139</td><td>0</td><td>1</td></tr><tr><td>140</td><td>0</td><td>1</td></tr><tr><td>142</td><td>0</td><td>1</td></tr><tr><td>147</td><td>0</td><td>1</td></tr><tr><td>148</td><td>0</td><td>1</td></tr><tr><td>153</td><td>0</td><td>1</td></tr><tr><td>155</td><td>0</td><td>1</td></tr><tr><td>150</td><td>0</td><td>2</td></tr><tr><td>144</td><td>0</td><td>2</td></tr><tr><td>141</td><td>0</td><td>2</td></tr><tr><td>136</td><td>0</td><td>2</td></tr><tr><td>123</td><td>0</td><td>2</td></tr><tr><td>134</td><td>0</td><td>2</td></tr><tr><td>127</td><td>0</td><td>2</td></tr><tr><td>128</td><td>0</td><td>2</td></tr><tr><td>129</td><td>0</td><td>2</td></tr><tr><td>116</td><td>0</td><td>2</td></tr><tr><td>117</td><td>0</td><td>2</td></tr><tr><td>112</td><td>0</td><td>2</td></tr><tr><td>121</td><td>0</td><td>2</td></tr><tr><td>110</td><td>0</td><td>2</td></tr><tr><td>104</td><td>0</td><td>2</td></tr><tr><td>94</td><td>0</td><td>2</td></tr><tr><td>95</td><td>0</td><td>2</td></tr><tr><td>88</td><td>0</td><td>2</td></tr><tr><td>90</td><td>0</td><td>2</td></tr><tr><td>92</td><td>0</td><td>2</td></tr><tr><td>71</td><td>0</td><td>2</td></tr><tr><td>72</td><td>0</td><td>2</td></tr><tr><td>73</td><td>0</td><td>2</td></tr><tr><td>75</td><td>0</td><td>2</td></tr><tr><td>62</td><td>0</td><td>2</td></tr><tr><td>55</td><td>0</td><td>2</td></tr><tr><td>65</td><td>0</td><td>2</td></tr><tr><td>67</td><td>0</td><td>2</td></tr><tr><td>68</td><td>0</td><td>2</td></tr><tr><td>57</td><td>0</td><td>2</td></tr><tr><td>48</td><td>0</td><td>2</td></tr><tr><td>49</td><td>0</td><td>2</td></tr><tr><td>39</td><td>0</td><td>2</td></tr><tr><td>22</td><td>0</td><td>2</td></tr><tr><td>18</td><td>0</td><td>2</td></tr><tr><td>9</td><td>0</td><td>2</td></tr><tr><td>13</td><td>0</td><td>2</td></tr><tr><td>5</td><td>0</td><td>3</td></tr><tr><td>7</td><td>0</td><td>3</td></tr><tr><td>8</td><td>0</td><td>3</td></tr><tr><td>20</td><td>0</td><td>3</td></tr><tr><td>27</td><td>0</td><td>3</td></tr><tr><td>32</td><td>0</td><td>3</td></tr><tr><td>43</td><td>0</td><td>3</td></tr><tr><td>58</td><td>0</td><td>3</td></tr><tr><td>51</td><td>0</td><td>3</td></tr><tr><td>70</td><td>0</td><td>3</td></tr><tr><td>89</td><td>0</td><td>3</td></tr><tr><td>111</td><td>0</td><td>3</td></tr><tr><td>119</td><td>0</td><td>3</td></tr><tr><td>137</td><td>0</td><td>3</td></tr><tr><td>143</td><td>0</td><td>3</td></tr><tr><td>151</td><td>0</td><td>4</td></tr><tr><td>154</td><td>0</td><td>4</td></tr><tr><td>125</td><td>0</td><td>4</td></tr><tr><td>79</td><td>0</td><td>4</td></tr><tr><td>98</td><td>0</td><td>4</td></tr><tr><td>56</td><td>0</td><td>4</td></tr><tr><td>64</td><td>0</td><td>4</td></tr><tr><td>59</td><td>0</td><td>4</td></tr><tr><td>47</td><td>0</td><td>4</td></tr><tr><td>25</td><td>0</td><td>4</td></tr><tr><td>14</td><td>0</td><td>4</td></tr><tr><td>21</td><td>0</td><td>5</td></tr><tr><td>36</td><td>0</td><td>5</td></tr><tr><td>28</td><td>0</td><td>5</td></tr><tr><td>60</td><td>0</td><td>5</td></tr><tr><td>76</td><td>0</td><td>5</td></tr><tr><td>106</td><td>0</td><td>5</td></tr><tr><td>138</td><td>0</td><td>5</td></tr><tr><td>133</td><td>0</td><td>6</td></tr><tr><td>152</td><td>0</td><td>6</td></tr><tr><td>149</td><td>0</td><td>6</td></tr><tr><td>83</td><td>0</td><td>6</td></tr><tr><td>54</td><td>0</td><td>6</td></tr><tr><td>46</td><td>0</td><td>7</td></tr><tr><td>66</td><td>0</td><td>7</td></tr><tr><td>24</td><td>0</td><td>7</td></tr><tr><td>30</td><td>0</td><td>7</td></tr><tr><td>35</td><td>0</td><td>7</td></tr><tr><td>16</td><td>0</td><td>7</td></tr><tr><td>146</td><td>0</td><td>7</td></tr><tr><td>122</td><td>0</td><td>7</td></tr><tr><td>93</td><td>0</td><td>7</td></tr><tr><td>91</td><td>0</td><td>7</td></tr><tr><td>100</td><td>0</td><td>9</td></tr><tr><td>96</td><td>0</td><td>9</td></tr><tr><td>118</td><td>0</td><td>9</td></tr><tr><td>97</td><td>0</td><td>10</td></tr><tr><td>124</td><td>0</td><td>10</td></tr><tr><td>45</td><td>0</td><td>11</td></tr><tr><td>41</td><td>0</td><td>13</td></tr><tr><td>4</td><td>0</td><td>15</td></tr><tr><td>85</td><td>0</td><td>16</td></tr><tr><td>145</td><td>0</td><td>18</td></tr><tr><td>19</td><td>0</td><td>19</td></tr><tr><td>6</td><td>0</td><td>20</td></tr><tr><td>78</td><td>0</td><td>24</td></tr><tr><td>52</td><td>0</td><td>26</td></tr><tr><td>Végösszeg</td><td>1</td><td>551</td></tr></table>"
                    },
                    "metadata": {}
                }
            ],
            "execution_count": 27
        },
        {
            "cell_type": "code",
            "source": [
                "\r\n",
                "SELECT IIF(GROUPING_ID(KAT_ID) = 1, 'Végösszeg', CAST(KAT_ID AS nvarchar(10))),\r\n",
                "\r\n",
                "GROUPING(KAT_ID), COunt(*)\r\n",
                "FROM Termek\r\n",
                "GROUP BY ROLLUP (KAT_ID)\r\n",
                "order by 3"
            ],
            "metadata": {
                "azdata_cell_guid": "17cf6024-2bcc-4e75-821c-0a8aa2d61ab7",
                "language": "sql"
            },
            "outputs": [
                {
                    "output_type": "display_data",
                    "data": {
                        "text/html": "(144 rows affected)"
                    },
                    "metadata": {}
                },
                {
                    "output_type": "display_data",
                    "data": {
                        "text/html": "Total execution time: 00:00:00.034"
                    },
                    "metadata": {}
                },
                {
                    "output_type": "execute_result",
                    "execution_count": 25,
                    "data": {
                        "application/vnd.dataresource+json": {
                            "schema": {
                                "fields": [
                                    {
                                        "name": "(No column name)"
                                    },
                                    {
                                        "name": "(No column name)"
                                    },
                                    {
                                        "name": "(No column name)"
                                    }
                                ]
                            },
                            "data": [
                                {
                                    "(No column name)": "1"
                                },
                                {
                                    "(No column name)": "1"
                                },
                                {
                                    "(No column name)": "1"
                                },
                                {
                                    "(No column name)": "1"
                                },
                                {
                                    "(No column name)": "1"
                                },
                                {
                                    "(No column name)": "1"
                                },
                                {
                                    "(No column name)": "1"
                                },
                                {
                                    "(No column name)": "1"
                                },
                                {
                                    "(No column name)": "1"
                                },
                                {
                                    "(No column name)": "1"
                                },
                                {
                                    "(No column name)": "1"
                                },
                                {
                                    "(No column name)": "1"
                                },
                                {
                                    "(No column name)": "1"
                                },
                                {
                                    "(No column name)": "1"
                                },
                                {
                                    "(No column name)": "1"
                                },
                                {
                                    "(No column name)": "1"
                                },
                                {
                                    "(No column name)": "1"
                                },
                                {
                                    "(No column name)": "1"
                                },
                                {
                                    "(No column name)": "1"
                                },
                                {
                                    "(No column name)": "1"
                                },
                                {
                                    "(No column name)": "1"
                                },
                                {
                                    "(No column name)": "1"
                                },
                                {
                                    "(No column name)": "1"
                                },
                                {
                                    "(No column name)": "1"
                                },
                                {
                                    "(No column name)": "1"
                                },
                                {
                                    "(No column name)": "1"
                                },
                                {
                                    "(No column name)": "1"
                                },
                                {
                                    "(No column name)": "1"
                                },
                                {
                                    "(No column name)": "1"
                                },
                                {
                                    "(No column name)": "1"
                                },
                                {
                                    "(No column name)": "1"
                                },
                                {
                                    "(No column name)": "1"
                                },
                                {
                                    "(No column name)": "1"
                                },
                                {
                                    "(No column name)": "1"
                                },
                                {
                                    "(No column name)": "1"
                                },
                                {
                                    "(No column name)": "1"
                                },
                                {
                                    "(No column name)": "1"
                                },
                                {
                                    "(No column name)": "1"
                                },
                                {
                                    "(No column name)": "1"
                                },
                                {
                                    "(No column name)": "1"
                                },
                                {
                                    "(No column name)": "1"
                                },
                                {
                                    "(No column name)": "1"
                                },
                                {
                                    "(No column name)": "1"
                                },
                                {
                                    "(No column name)": "1"
                                },
                                {
                                    "(No column name)": "2"
                                },
                                {
                                    "(No column name)": "2"
                                },
                                {
                                    "(No column name)": "2"
                                },
                                {
                                    "(No column name)": "2"
                                },
                                {
                                    "(No column name)": "2"
                                },
                                {
                                    "(No column name)": "2"
                                },
                                {
                                    "(No column name)": "2"
                                },
                                {
                                    "(No column name)": "2"
                                },
                                {
                                    "(No column name)": "2"
                                },
                                {
                                    "(No column name)": "2"
                                },
                                {
                                    "(No column name)": "2"
                                },
                                {
                                    "(No column name)": "2"
                                },
                                {
                                    "(No column name)": "2"
                                },
                                {
                                    "(No column name)": "2"
                                },
                                {
                                    "(No column name)": "2"
                                },
                                {
                                    "(No column name)": "2"
                                },
                                {
                                    "(No column name)": "2"
                                },
                                {
                                    "(No column name)": "2"
                                },
                                {
                                    "(No column name)": "2"
                                },
                                {
                                    "(No column name)": "2"
                                },
                                {
                                    "(No column name)": "2"
                                },
                                {
                                    "(No column name)": "2"
                                },
                                {
                                    "(No column name)": "2"
                                },
                                {
                                    "(No column name)": "2"
                                },
                                {
                                    "(No column name)": "2"
                                },
                                {
                                    "(No column name)": "2"
                                },
                                {
                                    "(No column name)": "2"
                                },
                                {
                                    "(No column name)": "2"
                                },
                                {
                                    "(No column name)": "2"
                                },
                                {
                                    "(No column name)": "2"
                                },
                                {
                                    "(No column name)": "2"
                                },
                                {
                                    "(No column name)": "2"
                                },
                                {
                                    "(No column name)": "2"
                                },
                                {
                                    "(No column name)": "2"
                                },
                                {
                                    "(No column name)": "2"
                                },
                                {
                                    "(No column name)": "2"
                                },
                                {
                                    "(No column name)": "2"
                                },
                                {
                                    "(No column name)": "3"
                                },
                                {
                                    "(No column name)": "3"
                                },
                                {
                                    "(No column name)": "3"
                                },
                                {
                                    "(No column name)": "3"
                                },
                                {
                                    "(No column name)": "3"
                                },
                                {
                                    "(No column name)": "3"
                                },
                                {
                                    "(No column name)": "3"
                                },
                                {
                                    "(No column name)": "3"
                                },
                                {
                                    "(No column name)": "3"
                                },
                                {
                                    "(No column name)": "3"
                                },
                                {
                                    "(No column name)": "3"
                                },
                                {
                                    "(No column name)": "3"
                                },
                                {
                                    "(No column name)": "3"
                                },
                                {
                                    "(No column name)": "3"
                                },
                                {
                                    "(No column name)": "3"
                                },
                                {
                                    "(No column name)": "4"
                                },
                                {
                                    "(No column name)": "4"
                                },
                                {
                                    "(No column name)": "4"
                                },
                                {
                                    "(No column name)": "4"
                                },
                                {
                                    "(No column name)": "4"
                                },
                                {
                                    "(No column name)": "4"
                                },
                                {
                                    "(No column name)": "4"
                                },
                                {
                                    "(No column name)": "4"
                                },
                                {
                                    "(No column name)": "4"
                                },
                                {
                                    "(No column name)": "4"
                                },
                                {
                                    "(No column name)": "4"
                                },
                                {
                                    "(No column name)": "5"
                                },
                                {
                                    "(No column name)": "5"
                                },
                                {
                                    "(No column name)": "5"
                                },
                                {
                                    "(No column name)": "5"
                                },
                                {
                                    "(No column name)": "5"
                                },
                                {
                                    "(No column name)": "5"
                                },
                                {
                                    "(No column name)": "5"
                                },
                                {
                                    "(No column name)": "6"
                                },
                                {
                                    "(No column name)": "6"
                                },
                                {
                                    "(No column name)": "6"
                                },
                                {
                                    "(No column name)": "6"
                                },
                                {
                                    "(No column name)": "6"
                                },
                                {
                                    "(No column name)": "7"
                                },
                                {
                                    "(No column name)": "7"
                                },
                                {
                                    "(No column name)": "7"
                                },
                                {
                                    "(No column name)": "7"
                                },
                                {
                                    "(No column name)": "7"
                                },
                                {
                                    "(No column name)": "7"
                                },
                                {
                                    "(No column name)": "7"
                                },
                                {
                                    "(No column name)": "7"
                                },
                                {
                                    "(No column name)": "7"
                                },
                                {
                                    "(No column name)": "7"
                                },
                                {
                                    "(No column name)": "9"
                                },
                                {
                                    "(No column name)": "9"
                                },
                                {
                                    "(No column name)": "9"
                                },
                                {
                                    "(No column name)": "10"
                                },
                                {
                                    "(No column name)": "10"
                                },
                                {
                                    "(No column name)": "11"
                                },
                                {
                                    "(No column name)": "13"
                                },
                                {
                                    "(No column name)": "15"
                                },
                                {
                                    "(No column name)": "16"
                                },
                                {
                                    "(No column name)": "18"
                                },
                                {
                                    "(No column name)": "19"
                                },
                                {
                                    "(No column name)": "20"
                                },
                                {
                                    "(No column name)": "24"
                                },
                                {
                                    "(No column name)": "26"
                                },
                                {
                                    "(No column name)": "551"
                                }
                            ]
                        },
                        "text/html": "<table><tr><th>(No column name)</th><th>(No column name)</th><th>(No column name)</th></tr><tr><td>10</td><td>0</td><td>1</td></tr><tr><td>11</td><td>0</td><td>1</td></tr><tr><td>12</td><td>0</td><td>1</td></tr><tr><td>15</td><td>0</td><td>1</td></tr><tr><td>17</td><td>0</td><td>1</td></tr><tr><td>26</td><td>0</td><td>1</td></tr><tr><td>29</td><td>0</td><td>1</td></tr><tr><td>31</td><td>0</td><td>1</td></tr><tr><td>33</td><td>0</td><td>1</td></tr><tr><td>34</td><td>0</td><td>1</td></tr><tr><td>37</td><td>0</td><td>1</td></tr><tr><td>38</td><td>0</td><td>1</td></tr><tr><td>40</td><td>0</td><td>1</td></tr><tr><td>42</td><td>0</td><td>1</td></tr><tr><td>44</td><td>0</td><td>1</td></tr><tr><td>50</td><td>0</td><td>1</td></tr><tr><td>53</td><td>0</td><td>1</td></tr><tr><td>61</td><td>0</td><td>1</td></tr><tr><td>74</td><td>0</td><td>1</td></tr><tr><td>80</td><td>0</td><td>1</td></tr><tr><td>82</td><td>0</td><td>1</td></tr><tr><td>84</td><td>0</td><td>1</td></tr><tr><td>86</td><td>0</td><td>1</td></tr><tr><td>99</td><td>0</td><td>1</td></tr><tr><td>101</td><td>0</td><td>1</td></tr><tr><td>103</td><td>0</td><td>1</td></tr><tr><td>105</td><td>0</td><td>1</td></tr><tr><td>107</td><td>0</td><td>1</td></tr><tr><td>108</td><td>0</td><td>1</td></tr><tr><td>109</td><td>0</td><td>1</td></tr><tr><td>114</td><td>0</td><td>1</td></tr><tr><td>115</td><td>0</td><td>1</td></tr><tr><td>126</td><td>0</td><td>1</td></tr><tr><td>130</td><td>0</td><td>1</td></tr><tr><td>131</td><td>0</td><td>1</td></tr><tr><td>132</td><td>0</td><td>1</td></tr><tr><td>135</td><td>0</td><td>1</td></tr><tr><td>139</td><td>0</td><td>1</td></tr><tr><td>140</td><td>0</td><td>1</td></tr><tr><td>142</td><td>0</td><td>1</td></tr><tr><td>147</td><td>0</td><td>1</td></tr><tr><td>148</td><td>0</td><td>1</td></tr><tr><td>153</td><td>0</td><td>1</td></tr><tr><td>155</td><td>0</td><td>1</td></tr><tr><td>150</td><td>0</td><td>2</td></tr><tr><td>144</td><td>0</td><td>2</td></tr><tr><td>141</td><td>0</td><td>2</td></tr><tr><td>136</td><td>0</td><td>2</td></tr><tr><td>123</td><td>0</td><td>2</td></tr><tr><td>134</td><td>0</td><td>2</td></tr><tr><td>127</td><td>0</td><td>2</td></tr><tr><td>128</td><td>0</td><td>2</td></tr><tr><td>129</td><td>0</td><td>2</td></tr><tr><td>116</td><td>0</td><td>2</td></tr><tr><td>117</td><td>0</td><td>2</td></tr><tr><td>112</td><td>0</td><td>2</td></tr><tr><td>121</td><td>0</td><td>2</td></tr><tr><td>110</td><td>0</td><td>2</td></tr><tr><td>104</td><td>0</td><td>2</td></tr><tr><td>94</td><td>0</td><td>2</td></tr><tr><td>95</td><td>0</td><td>2</td></tr><tr><td>88</td><td>0</td><td>2</td></tr><tr><td>90</td><td>0</td><td>2</td></tr><tr><td>92</td><td>0</td><td>2</td></tr><tr><td>71</td><td>0</td><td>2</td></tr><tr><td>72</td><td>0</td><td>2</td></tr><tr><td>73</td><td>0</td><td>2</td></tr><tr><td>75</td><td>0</td><td>2</td></tr><tr><td>62</td><td>0</td><td>2</td></tr><tr><td>55</td><td>0</td><td>2</td></tr><tr><td>65</td><td>0</td><td>2</td></tr><tr><td>67</td><td>0</td><td>2</td></tr><tr><td>68</td><td>0</td><td>2</td></tr><tr><td>57</td><td>0</td><td>2</td></tr><tr><td>48</td><td>0</td><td>2</td></tr><tr><td>49</td><td>0</td><td>2</td></tr><tr><td>39</td><td>0</td><td>2</td></tr><tr><td>22</td><td>0</td><td>2</td></tr><tr><td>18</td><td>0</td><td>2</td></tr><tr><td>9</td><td>0</td><td>2</td></tr><tr><td>13</td><td>0</td><td>2</td></tr><tr><td>5</td><td>0</td><td>3</td></tr><tr><td>7</td><td>0</td><td>3</td></tr><tr><td>8</td><td>0</td><td>3</td></tr><tr><td>20</td><td>0</td><td>3</td></tr><tr><td>27</td><td>0</td><td>3</td></tr><tr><td>32</td><td>0</td><td>3</td></tr><tr><td>43</td><td>0</td><td>3</td></tr><tr><td>58</td><td>0</td><td>3</td></tr><tr><td>51</td><td>0</td><td>3</td></tr><tr><td>70</td><td>0</td><td>3</td></tr><tr><td>89</td><td>0</td><td>3</td></tr><tr><td>111</td><td>0</td><td>3</td></tr><tr><td>119</td><td>0</td><td>3</td></tr><tr><td>137</td><td>0</td><td>3</td></tr><tr><td>143</td><td>0</td><td>3</td></tr><tr><td>151</td><td>0</td><td>4</td></tr><tr><td>154</td><td>0</td><td>4</td></tr><tr><td>125</td><td>0</td><td>4</td></tr><tr><td>79</td><td>0</td><td>4</td></tr><tr><td>98</td><td>0</td><td>4</td></tr><tr><td>56</td><td>0</td><td>4</td></tr><tr><td>64</td><td>0</td><td>4</td></tr><tr><td>59</td><td>0</td><td>4</td></tr><tr><td>47</td><td>0</td><td>4</td></tr><tr><td>25</td><td>0</td><td>4</td></tr><tr><td>14</td><td>0</td><td>4</td></tr><tr><td>21</td><td>0</td><td>5</td></tr><tr><td>36</td><td>0</td><td>5</td></tr><tr><td>28</td><td>0</td><td>5</td></tr><tr><td>60</td><td>0</td><td>5</td></tr><tr><td>76</td><td>0</td><td>5</td></tr><tr><td>106</td><td>0</td><td>5</td></tr><tr><td>138</td><td>0</td><td>5</td></tr><tr><td>133</td><td>0</td><td>6</td></tr><tr><td>152</td><td>0</td><td>6</td></tr><tr><td>149</td><td>0</td><td>6</td></tr><tr><td>83</td><td>0</td><td>6</td></tr><tr><td>54</td><td>0</td><td>6</td></tr><tr><td>46</td><td>0</td><td>7</td></tr><tr><td>66</td><td>0</td><td>7</td></tr><tr><td>24</td><td>0</td><td>7</td></tr><tr><td>30</td><td>0</td><td>7</td></tr><tr><td>35</td><td>0</td><td>7</td></tr><tr><td>16</td><td>0</td><td>7</td></tr><tr><td>146</td><td>0</td><td>7</td></tr><tr><td>122</td><td>0</td><td>7</td></tr><tr><td>93</td><td>0</td><td>7</td></tr><tr><td>91</td><td>0</td><td>7</td></tr><tr><td>100</td><td>0</td><td>9</td></tr><tr><td>96</td><td>0</td><td>9</td></tr><tr><td>118</td><td>0</td><td>9</td></tr><tr><td>97</td><td>0</td><td>10</td></tr><tr><td>124</td><td>0</td><td>10</td></tr><tr><td>45</td><td>0</td><td>11</td></tr><tr><td>41</td><td>0</td><td>13</td></tr><tr><td>4</td><td>0</td><td>15</td></tr><tr><td>85</td><td>0</td><td>16</td></tr><tr><td>145</td><td>0</td><td>18</td></tr><tr><td>19</td><td>0</td><td>19</td></tr><tr><td>6</td><td>0</td><td>20</td></tr><tr><td>78</td><td>0</td><td>24</td></tr><tr><td>52</td><td>0</td><td>26</td></tr><tr><td>Végösszeg</td><td>1</td><td>551</td></tr></table>"
                    },
                    "metadata": {}
                }
            ],
            "execution_count": 25
        },
        {
            "cell_type": "markdown",
            "source": [
                "4. <span style=\"background-color: rgb(255, 255, 255); color: rgb(0, 0, 0); font-family: &quot;Open Sans&quot;, sans-serif; font-size: 14.44px;\">Készítsünk listát az ügyfelek számáról születési év szerint, azon belül nem szerinti bontásban!&nbsp;</span> \n",
                "\n",
                "a. A lista megfelelően jelölve tartalmazza a részösszegeket és a végösszeget is!  \n",
                "b. Az oszlopoknak adjunk nevet értelemszerűen!"
            ],
            "metadata": {
                "azdata_cell_guid": "8e7fef82-8022-49a0-8255-fc2846c2134b"
            },
            "attachments": {}
        },
        {
            "cell_type": "code",
            "source": [
                "SELECT \r\n",
                "IIF(GROUPING_ID(SZULEV) = 1, 'Végösszeg', CAST(SZULEV AS nvarchar(10))), \r\n",
                "IIF(GROUPING_ID(NEM)=1, 'Részösszeg', CAST(NEM AS nvarchar(10))),\r\n",
                "COUNT(LOGIN)\r\n",
                "FROM Ugyfel\r\n",
                "GROUP BY ROLLUP (SZULEV, NEM)\r\n",
                "ORDER BY 1,2"
            ],
            "metadata": {
                "azdata_cell_guid": "415a1655-6e8e-4c5b-ade2-03eae5d9ace5",
                "language": "sql"
            },
            "outputs": [
                {
                    "output_type": "display_data",
                    "data": {
                        "text/html": "(96 rows affected)"
                    },
                    "metadata": {}
                },
                {
                    "output_type": "display_data",
                    "data": {
                        "text/html": "Total execution time: 00:00:00.063"
                    },
                    "metadata": {}
                },
                {
                    "output_type": "execute_result",
                    "execution_count": 6,
                    "data": {
                        "application/vnd.dataresource+json": {
                            "schema": {
                                "fields": [
                                    {
                                        "name": "(No column name)"
                                    },
                                    {
                                        "name": "(No column name)"
                                    },
                                    {
                                        "name": "(No column name)"
                                    }
                                ]
                            },
                            "data": [
                                {
                                    "(No column name)": "5"
                                },
                                {
                                    "(No column name)": "3"
                                },
                                {
                                    "(No column name)": "8"
                                },
                                {
                                    "(No column name)": "5"
                                },
                                {
                                    "(No column name)": "3"
                                },
                                {
                                    "(No column name)": "8"
                                },
                                {
                                    "(No column name)": "5"
                                },
                                {
                                    "(No column name)": "3"
                                },
                                {
                                    "(No column name)": "8"
                                },
                                {
                                    "(No column name)": "4"
                                },
                                {
                                    "(No column name)": "4"
                                },
                                {
                                    "(No column name)": "2"
                                },
                                {
                                    "(No column name)": "3"
                                },
                                {
                                    "(No column name)": "5"
                                },
                                {
                                    "(No column name)": "2"
                                },
                                {
                                    "(No column name)": "2"
                                },
                                {
                                    "(No column name)": "4"
                                },
                                {
                                    "(No column name)": "2"
                                },
                                {
                                    "(No column name)": "2"
                                },
                                {
                                    "(No column name)": "4"
                                },
                                {
                                    "(No column name)": "1"
                                },
                                {
                                    "(No column name)": "3"
                                },
                                {
                                    "(No column name)": "4"
                                },
                                {
                                    "(No column name)": "8"
                                },
                                {
                                    "(No column name)": "3"
                                },
                                {
                                    "(No column name)": "11"
                                },
                                {
                                    "(No column name)": "5"
                                },
                                {
                                    "(No column name)": "2"
                                },
                                {
                                    "(No column name)": "7"
                                },
                                {
                                    "(No column name)": "4"
                                },
                                {
                                    "(No column name)": "1"
                                },
                                {
                                    "(No column name)": "5"
                                },
                                {
                                    "(No column name)": "3"
                                },
                                {
                                    "(No column name)": "4"
                                },
                                {
                                    "(No column name)": "7"
                                },
                                {
                                    "(No column name)": "4"
                                },
                                {
                                    "(No column name)": "3"
                                },
                                {
                                    "(No column name)": "7"
                                },
                                {
                                    "(No column name)": "4"
                                },
                                {
                                    "(No column name)": "3"
                                },
                                {
                                    "(No column name)": "7"
                                },
                                {
                                    "(No column name)": "4"
                                },
                                {
                                    "(No column name)": "4"
                                },
                                {
                                    "(No column name)": "2"
                                },
                                {
                                    "(No column name)": "2"
                                },
                                {
                                    "(No column name)": "4"
                                },
                                {
                                    "(No column name)": "5"
                                },
                                {
                                    "(No column name)": "3"
                                },
                                {
                                    "(No column name)": "8"
                                },
                                {
                                    "(No column name)": "6"
                                },
                                {
                                    "(No column name)": "2"
                                },
                                {
                                    "(No column name)": "8"
                                },
                                {
                                    "(No column name)": "5"
                                },
                                {
                                    "(No column name)": "1"
                                },
                                {
                                    "(No column name)": "6"
                                },
                                {
                                    "(No column name)": "7"
                                },
                                {
                                    "(No column name)": "2"
                                },
                                {
                                    "(No column name)": "9"
                                },
                                {
                                    "(No column name)": "2"
                                },
                                {
                                    "(No column name)": "3"
                                },
                                {
                                    "(No column name)": "5"
                                },
                                {
                                    "(No column name)": "2"
                                },
                                {
                                    "(No column name)": "4"
                                },
                                {
                                    "(No column name)": "6"
                                },
                                {
                                    "(No column name)": "6"
                                },
                                {
                                    "(No column name)": "1"
                                },
                                {
                                    "(No column name)": "7"
                                },
                                {
                                    "(No column name)": "5"
                                },
                                {
                                    "(No column name)": "3"
                                },
                                {
                                    "(No column name)": "8"
                                },
                                {
                                    "(No column name)": "3"
                                },
                                {
                                    "(No column name)": "3"
                                },
                                {
                                    "(No column name)": "6"
                                },
                                {
                                    "(No column name)": "3"
                                },
                                {
                                    "(No column name)": "1"
                                },
                                {
                                    "(No column name)": "4"
                                },
                                {
                                    "(No column name)": "2"
                                },
                                {
                                    "(No column name)": "3"
                                },
                                {
                                    "(No column name)": "5"
                                },
                                {
                                    "(No column name)": "3"
                                },
                                {
                                    "(No column name)": "3"
                                },
                                {
                                    "(No column name)": "3"
                                },
                                {
                                    "(No column name)": "3"
                                },
                                {
                                    "(No column name)": "6"
                                },
                                {
                                    "(No column name)": "2"
                                },
                                {
                                    "(No column name)": "5"
                                },
                                {
                                    "(No column name)": "7"
                                },
                                {
                                    "(No column name)": "10"
                                },
                                {
                                    "(No column name)": "2"
                                },
                                {
                                    "(No column name)": "12"
                                },
                                {
                                    "(No column name)": "1"
                                },
                                {
                                    "(No column name)": "1"
                                },
                                {
                                    "(No column name)": "2"
                                },
                                {
                                    "(No column name)": "1"
                                },
                                {
                                    "(No column name)": "1"
                                },
                                {
                                    "(No column name)": "200"
                                }
                            ]
                        },
                        "text/html": "<table><tr><th>(No column name)</th><th>(No column name)</th><th>(No column name)</th></tr><tr><td>1967</td><td>F</td><td>5</td></tr><tr><td>1967</td><td>N</td><td>3</td></tr><tr><td>1967</td><td>Részösszeg</td><td>8</td></tr><tr><td>1968</td><td>F</td><td>5</td></tr><tr><td>1968</td><td>N</td><td>3</td></tr><tr><td>1968</td><td>Részösszeg</td><td>8</td></tr><tr><td>1969</td><td>F</td><td>5</td></tr><tr><td>1969</td><td>N</td><td>3</td></tr><tr><td>1969</td><td>Részösszeg</td><td>8</td></tr><tr><td>1970</td><td>F</td><td>4</td></tr><tr><td>1970</td><td>Részösszeg</td><td>4</td></tr><tr><td>1971</td><td>F</td><td>2</td></tr><tr><td>1971</td><td>N</td><td>3</td></tr><tr><td>1971</td><td>Részösszeg</td><td>5</td></tr><tr><td>1972</td><td>F</td><td>2</td></tr><tr><td>1972</td><td>N</td><td>2</td></tr><tr><td>1972</td><td>Részösszeg</td><td>4</td></tr><tr><td>1973</td><td>F</td><td>2</td></tr><tr><td>1973</td><td>N</td><td>2</td></tr><tr><td>1973</td><td>Részösszeg</td><td>4</td></tr><tr><td>1974</td><td>F</td><td>1</td></tr><tr><td>1974</td><td>N</td><td>3</td></tr><tr><td>1974</td><td>Részösszeg</td><td>4</td></tr><tr><td>1975</td><td>F</td><td>8</td></tr><tr><td>1975</td><td>N</td><td>3</td></tr><tr><td>1975</td><td>Részösszeg</td><td>11</td></tr><tr><td>1976</td><td>F</td><td>5</td></tr><tr><td>1976</td><td>N</td><td>2</td></tr><tr><td>1976</td><td>Részösszeg</td><td>7</td></tr><tr><td>1977</td><td>F</td><td>4</td></tr><tr><td>1977</td><td>N</td><td>1</td></tr><tr><td>1977</td><td>Részösszeg</td><td>5</td></tr><tr><td>1978</td><td>F</td><td>3</td></tr><tr><td>1978</td><td>N</td><td>4</td></tr><tr><td>1978</td><td>Részösszeg</td><td>7</td></tr><tr><td>1979</td><td>F</td><td>4</td></tr><tr><td>1979</td><td>N</td><td>3</td></tr><tr><td>1979</td><td>Részösszeg</td><td>7</td></tr><tr><td>1980</td><td>F</td><td>4</td></tr><tr><td>1980</td><td>N</td><td>3</td></tr><tr><td>1980</td><td>Részösszeg</td><td>7</td></tr><tr><td>1981</td><td>N</td><td>4</td></tr><tr><td>1981</td><td>Részösszeg</td><td>4</td></tr><tr><td>1982</td><td>F</td><td>2</td></tr><tr><td>1982</td><td>N</td><td>2</td></tr><tr><td>1982</td><td>Részösszeg</td><td>4</td></tr><tr><td>1983</td><td>F</td><td>5</td></tr><tr><td>1983</td><td>N</td><td>3</td></tr><tr><td>1983</td><td>Részösszeg</td><td>8</td></tr><tr><td>1984</td><td>F</td><td>6</td></tr><tr><td>1984</td><td>N</td><td>2</td></tr><tr><td>1984</td><td>Részösszeg</td><td>8</td></tr><tr><td>1985</td><td>F</td><td>5</td></tr><tr><td>1985</td><td>N</td><td>1</td></tr><tr><td>1985</td><td>Részösszeg</td><td>6</td></tr><tr><td>1986</td><td>F</td><td>7</td></tr><tr><td>1986</td><td>N</td><td>2</td></tr><tr><td>1986</td><td>Részösszeg</td><td>9</td></tr><tr><td>1987</td><td>F</td><td>2</td></tr><tr><td>1987</td><td>N</td><td>3</td></tr><tr><td>1987</td><td>Részösszeg</td><td>5</td></tr><tr><td>1988</td><td>F</td><td>2</td></tr><tr><td>1988</td><td>N</td><td>4</td></tr><tr><td>1988</td><td>Részösszeg</td><td>6</td></tr><tr><td>1989</td><td>F</td><td>6</td></tr><tr><td>1989</td><td>N</td><td>1</td></tr><tr><td>1989</td><td>Részösszeg</td><td>7</td></tr><tr><td>1990</td><td>F</td><td>5</td></tr><tr><td>1990</td><td>N</td><td>3</td></tr><tr><td>1990</td><td>Részösszeg</td><td>8</td></tr><tr><td>1991</td><td>F</td><td>3</td></tr><tr><td>1991</td><td>N</td><td>3</td></tr><tr><td>1991</td><td>Részösszeg</td><td>6</td></tr><tr><td>1992</td><td>F</td><td>3</td></tr><tr><td>1992</td><td>N</td><td>1</td></tr><tr><td>1992</td><td>Részösszeg</td><td>4</td></tr><tr><td>1993</td><td>F</td><td>2</td></tr><tr><td>1993</td><td>N</td><td>3</td></tr><tr><td>1993</td><td>Részösszeg</td><td>5</td></tr><tr><td>1994</td><td>N</td><td>3</td></tr><tr><td>1994</td><td>Részösszeg</td><td>3</td></tr><tr><td>1995</td><td>F</td><td>3</td></tr><tr><td>1995</td><td>N</td><td>3</td></tr><tr><td>1995</td><td>Részösszeg</td><td>6</td></tr><tr><td>1996</td><td>F</td><td>2</td></tr><tr><td>1996</td><td>N</td><td>5</td></tr><tr><td>1996</td><td>Részösszeg</td><td>7</td></tr><tr><td>1997</td><td>F</td><td>10</td></tr><tr><td>1997</td><td>N</td><td>2</td></tr><tr><td>1997</td><td>Részösszeg</td><td>12</td></tr><tr><td>1998</td><td>F</td><td>1</td></tr><tr><td>1998</td><td>N</td><td>1</td></tr><tr><td>1998</td><td>Részösszeg</td><td>2</td></tr><tr><td>2000</td><td>F</td><td>1</td></tr><tr><td>2000</td><td>Részösszeg</td><td>1</td></tr><tr><td>Végösszeg</td><td>Részösszeg</td><td>200</td></tr></table>"
                    },
                    "metadata": {}
                }
            ],
            "execution_count": 6
        },
        {
            "cell_type": "code",
            "source": [
                "\r\n",
                "SELECT IIF(GROUPING_ID(szulev) = 1, 'Végösszeg', CAST(szulev as nvarchar(4))) AS 'Születési év',\r\n",
                "       CASE \r\n",
                "         WHEN GROUPING_ID(szulev, nem) = 1 THEN 'Részösszeg'\r\n",
                "         WHEN GROUPING_ID(szulev, nem) = 3 THEN 'Végösszeg'\r\n",
                "         ELSE nem \r\n",
                "         END AS 'Nem',\r\n",
                "       count(*) AS 'Ügyfelek száma'\r\n",
                "FROM ugyfel\r\n",
                "GROUP BY ROLLUP(szulev, nem)"
            ],
            "metadata": {
                "azdata_cell_guid": "36f7b396-4a1f-45e5-8720-2302537c91bc",
                "language": "sql",
                "tags": []
            },
            "outputs": [
                {
                    "output_type": "display_data",
                    "data": {
                        "text/html": "(96 rows affected)"
                    },
                    "metadata": {}
                },
                {
                    "output_type": "display_data",
                    "data": {
                        "text/html": "Total execution time: 00:00:00.398"
                    },
                    "metadata": {}
                },
                {
                    "output_type": "execute_result",
                    "execution_count": 7,
                    "data": {
                        "application/vnd.dataresource+json": {
                            "schema": {
                                "fields": [
                                    {
                                        "name": "Születési év"
                                    },
                                    {
                                        "name": "Nem"
                                    },
                                    {
                                        "name": "Ügyfelek száma"
                                    }
                                ]
                            },
                            "data": [
                                {
                                    "Születési év": "1967",
                                    "Nem": "F",
                                    "Ügyfelek száma": "5"
                                },
                                {
                                    "Születési év": "1967",
                                    "Nem": "N",
                                    "Ügyfelek száma": "3"
                                },
                                {
                                    "Születési év": "1967",
                                    "Nem": "Részösszeg",
                                    "Ügyfelek száma": "8"
                                },
                                {
                                    "Születési év": "1968",
                                    "Nem": "F",
                                    "Ügyfelek száma": "5"
                                },
                                {
                                    "Születési év": "1968",
                                    "Nem": "N",
                                    "Ügyfelek száma": "3"
                                },
                                {
                                    "Születési év": "1968",
                                    "Nem": "Részösszeg",
                                    "Ügyfelek száma": "8"
                                },
                                {
                                    "Születési év": "1969",
                                    "Nem": "F",
                                    "Ügyfelek száma": "5"
                                },
                                {
                                    "Születési év": "1969",
                                    "Nem": "N",
                                    "Ügyfelek száma": "3"
                                },
                                {
                                    "Születési év": "1969",
                                    "Nem": "Részösszeg",
                                    "Ügyfelek száma": "8"
                                },
                                {
                                    "Születési év": "1970",
                                    "Nem": "F",
                                    "Ügyfelek száma": "4"
                                },
                                {
                                    "Születési év": "1970",
                                    "Nem": "Részösszeg",
                                    "Ügyfelek száma": "4"
                                },
                                {
                                    "Születési év": "1971",
                                    "Nem": "F",
                                    "Ügyfelek száma": "2"
                                },
                                {
                                    "Születési év": "1971",
                                    "Nem": "N",
                                    "Ügyfelek száma": "3"
                                },
                                {
                                    "Születési év": "1971",
                                    "Nem": "Részösszeg",
                                    "Ügyfelek száma": "5"
                                },
                                {
                                    "Születési év": "1972",
                                    "Nem": "F",
                                    "Ügyfelek száma": "2"
                                },
                                {
                                    "Születési év": "1972",
                                    "Nem": "N",
                                    "Ügyfelek száma": "2"
                                },
                                {
                                    "Születési év": "1972",
                                    "Nem": "Részösszeg",
                                    "Ügyfelek száma": "4"
                                },
                                {
                                    "Születési év": "1973",
                                    "Nem": "F",
                                    "Ügyfelek száma": "2"
                                },
                                {
                                    "Születési év": "1973",
                                    "Nem": "N",
                                    "Ügyfelek száma": "2"
                                },
                                {
                                    "Születési év": "1973",
                                    "Nem": "Részösszeg",
                                    "Ügyfelek száma": "4"
                                },
                                {
                                    "Születési év": "1974",
                                    "Nem": "F",
                                    "Ügyfelek száma": "1"
                                },
                                {
                                    "Születési év": "1974",
                                    "Nem": "N",
                                    "Ügyfelek száma": "3"
                                },
                                {
                                    "Születési év": "1974",
                                    "Nem": "Részösszeg",
                                    "Ügyfelek száma": "4"
                                },
                                {
                                    "Születési év": "1975",
                                    "Nem": "F",
                                    "Ügyfelek száma": "8"
                                },
                                {
                                    "Születési év": "1975",
                                    "Nem": "N",
                                    "Ügyfelek száma": "3"
                                },
                                {
                                    "Születési év": "1975",
                                    "Nem": "Részösszeg",
                                    "Ügyfelek száma": "11"
                                },
                                {
                                    "Születési év": "1976",
                                    "Nem": "F",
                                    "Ügyfelek száma": "5"
                                },
                                {
                                    "Születési év": "1976",
                                    "Nem": "N",
                                    "Ügyfelek száma": "2"
                                },
                                {
                                    "Születési év": "1976",
                                    "Nem": "Részösszeg",
                                    "Ügyfelek száma": "7"
                                },
                                {
                                    "Születési év": "1977",
                                    "Nem": "F",
                                    "Ügyfelek száma": "4"
                                },
                                {
                                    "Születési év": "1977",
                                    "Nem": "N",
                                    "Ügyfelek száma": "1"
                                },
                                {
                                    "Születési év": "1977",
                                    "Nem": "Részösszeg",
                                    "Ügyfelek száma": "5"
                                },
                                {
                                    "Születési év": "1978",
                                    "Nem": "F",
                                    "Ügyfelek száma": "3"
                                },
                                {
                                    "Születési év": "1978",
                                    "Nem": "N",
                                    "Ügyfelek száma": "4"
                                },
                                {
                                    "Születési év": "1978",
                                    "Nem": "Részösszeg",
                                    "Ügyfelek száma": "7"
                                },
                                {
                                    "Születési év": "1979",
                                    "Nem": "F",
                                    "Ügyfelek száma": "4"
                                },
                                {
                                    "Születési év": "1979",
                                    "Nem": "N",
                                    "Ügyfelek száma": "3"
                                },
                                {
                                    "Születési év": "1979",
                                    "Nem": "Részösszeg",
                                    "Ügyfelek száma": "7"
                                },
                                {
                                    "Születési év": "1980",
                                    "Nem": "F",
                                    "Ügyfelek száma": "4"
                                },
                                {
                                    "Születési év": "1980",
                                    "Nem": "N",
                                    "Ügyfelek száma": "3"
                                },
                                {
                                    "Születési év": "1980",
                                    "Nem": "Részösszeg",
                                    "Ügyfelek száma": "7"
                                },
                                {
                                    "Születési év": "1981",
                                    "Nem": "N",
                                    "Ügyfelek száma": "4"
                                },
                                {
                                    "Születési év": "1981",
                                    "Nem": "Részösszeg",
                                    "Ügyfelek száma": "4"
                                },
                                {
                                    "Születési év": "1982",
                                    "Nem": "F",
                                    "Ügyfelek száma": "2"
                                },
                                {
                                    "Születési év": "1982",
                                    "Nem": "N",
                                    "Ügyfelek száma": "2"
                                },
                                {
                                    "Születési év": "1982",
                                    "Nem": "Részösszeg",
                                    "Ügyfelek száma": "4"
                                },
                                {
                                    "Születési év": "1983",
                                    "Nem": "F",
                                    "Ügyfelek száma": "5"
                                },
                                {
                                    "Születési év": "1983",
                                    "Nem": "N",
                                    "Ügyfelek száma": "3"
                                },
                                {
                                    "Születési év": "1983",
                                    "Nem": "Részösszeg",
                                    "Ügyfelek száma": "8"
                                },
                                {
                                    "Születési év": "1984",
                                    "Nem": "F",
                                    "Ügyfelek száma": "6"
                                },
                                {
                                    "Születési év": "1984",
                                    "Nem": "N",
                                    "Ügyfelek száma": "2"
                                },
                                {
                                    "Születési év": "1984",
                                    "Nem": "Részösszeg",
                                    "Ügyfelek száma": "8"
                                },
                                {
                                    "Születési év": "1985",
                                    "Nem": "F",
                                    "Ügyfelek száma": "5"
                                },
                                {
                                    "Születési év": "1985",
                                    "Nem": "N",
                                    "Ügyfelek száma": "1"
                                },
                                {
                                    "Születési év": "1985",
                                    "Nem": "Részösszeg",
                                    "Ügyfelek száma": "6"
                                },
                                {
                                    "Születési év": "1986",
                                    "Nem": "F",
                                    "Ügyfelek száma": "7"
                                },
                                {
                                    "Születési év": "1986",
                                    "Nem": "N",
                                    "Ügyfelek száma": "2"
                                },
                                {
                                    "Születési év": "1986",
                                    "Nem": "Részösszeg",
                                    "Ügyfelek száma": "9"
                                },
                                {
                                    "Születési év": "1987",
                                    "Nem": "F",
                                    "Ügyfelek száma": "2"
                                },
                                {
                                    "Születési év": "1987",
                                    "Nem": "N",
                                    "Ügyfelek száma": "3"
                                },
                                {
                                    "Születési év": "1987",
                                    "Nem": "Részösszeg",
                                    "Ügyfelek száma": "5"
                                },
                                {
                                    "Születési év": "1988",
                                    "Nem": "F",
                                    "Ügyfelek száma": "2"
                                },
                                {
                                    "Születési év": "1988",
                                    "Nem": "N",
                                    "Ügyfelek száma": "4"
                                },
                                {
                                    "Születési év": "1988",
                                    "Nem": "Részösszeg",
                                    "Ügyfelek száma": "6"
                                },
                                {
                                    "Születési év": "1989",
                                    "Nem": "F",
                                    "Ügyfelek száma": "6"
                                },
                                {
                                    "Születési év": "1989",
                                    "Nem": "N",
                                    "Ügyfelek száma": "1"
                                },
                                {
                                    "Születési év": "1989",
                                    "Nem": "Részösszeg",
                                    "Ügyfelek száma": "7"
                                },
                                {
                                    "Születési év": "1990",
                                    "Nem": "F",
                                    "Ügyfelek száma": "5"
                                },
                                {
                                    "Születési év": "1990",
                                    "Nem": "N",
                                    "Ügyfelek száma": "3"
                                },
                                {
                                    "Születési év": "1990",
                                    "Nem": "Részösszeg",
                                    "Ügyfelek száma": "8"
                                },
                                {
                                    "Születési év": "1991",
                                    "Nem": "F",
                                    "Ügyfelek száma": "3"
                                },
                                {
                                    "Születési év": "1991",
                                    "Nem": "N",
                                    "Ügyfelek száma": "3"
                                },
                                {
                                    "Születési év": "1991",
                                    "Nem": "Részösszeg",
                                    "Ügyfelek száma": "6"
                                },
                                {
                                    "Születési év": "1992",
                                    "Nem": "F",
                                    "Ügyfelek száma": "3"
                                },
                                {
                                    "Születési év": "1992",
                                    "Nem": "N",
                                    "Ügyfelek száma": "1"
                                },
                                {
                                    "Születési év": "1992",
                                    "Nem": "Részösszeg",
                                    "Ügyfelek száma": "4"
                                },
                                {
                                    "Születési év": "1993",
                                    "Nem": "F",
                                    "Ügyfelek száma": "2"
                                },
                                {
                                    "Születési év": "1993",
                                    "Nem": "N",
                                    "Ügyfelek száma": "3"
                                },
                                {
                                    "Születési év": "1993",
                                    "Nem": "Részösszeg",
                                    "Ügyfelek száma": "5"
                                },
                                {
                                    "Születési év": "1994",
                                    "Nem": "N",
                                    "Ügyfelek száma": "3"
                                },
                                {
                                    "Születési év": "1994",
                                    "Nem": "Részösszeg",
                                    "Ügyfelek száma": "3"
                                },
                                {
                                    "Születési év": "1995",
                                    "Nem": "F",
                                    "Ügyfelek száma": "3"
                                },
                                {
                                    "Születési év": "1995",
                                    "Nem": "N",
                                    "Ügyfelek száma": "3"
                                },
                                {
                                    "Születési év": "1995",
                                    "Nem": "Részösszeg",
                                    "Ügyfelek száma": "6"
                                },
                                {
                                    "Születési év": "1996",
                                    "Nem": "F",
                                    "Ügyfelek száma": "2"
                                },
                                {
                                    "Születési év": "1996",
                                    "Nem": "N",
                                    "Ügyfelek száma": "5"
                                },
                                {
                                    "Születési év": "1996",
                                    "Nem": "Részösszeg",
                                    "Ügyfelek száma": "7"
                                },
                                {
                                    "Születési év": "1997",
                                    "Nem": "F",
                                    "Ügyfelek száma": "10"
                                },
                                {
                                    "Születési év": "1997",
                                    "Nem": "N",
                                    "Ügyfelek száma": "2"
                                },
                                {
                                    "Születési év": "1997",
                                    "Nem": "Részösszeg",
                                    "Ügyfelek száma": "12"
                                },
                                {
                                    "Születési év": "1998",
                                    "Nem": "F",
                                    "Ügyfelek száma": "1"
                                },
                                {
                                    "Születési év": "1998",
                                    "Nem": "N",
                                    "Ügyfelek száma": "1"
                                },
                                {
                                    "Születési év": "1998",
                                    "Nem": "Részösszeg",
                                    "Ügyfelek száma": "2"
                                },
                                {
                                    "Születési év": "2000",
                                    "Nem": "F",
                                    "Ügyfelek száma": "1"
                                },
                                {
                                    "Születési év": "2000",
                                    "Nem": "Részösszeg",
                                    "Ügyfelek száma": "1"
                                },
                                {
                                    "Születési év": "Végösszeg",
                                    "Nem": "Végösszeg",
                                    "Ügyfelek száma": "200"
                                }
                            ]
                        },
                        "text/html": "<table><tr><th>Születési év</th><th>Nem</th><th>Ügyfelek száma</th></tr><tr><td>1967</td><td>F</td><td>5</td></tr><tr><td>1967</td><td>N</td><td>3</td></tr><tr><td>1967</td><td>Részösszeg</td><td>8</td></tr><tr><td>1968</td><td>F</td><td>5</td></tr><tr><td>1968</td><td>N</td><td>3</td></tr><tr><td>1968</td><td>Részösszeg</td><td>8</td></tr><tr><td>1969</td><td>F</td><td>5</td></tr><tr><td>1969</td><td>N</td><td>3</td></tr><tr><td>1969</td><td>Részösszeg</td><td>8</td></tr><tr><td>1970</td><td>F</td><td>4</td></tr><tr><td>1970</td><td>Részösszeg</td><td>4</td></tr><tr><td>1971</td><td>F</td><td>2</td></tr><tr><td>1971</td><td>N</td><td>3</td></tr><tr><td>1971</td><td>Részösszeg</td><td>5</td></tr><tr><td>1972</td><td>F</td><td>2</td></tr><tr><td>1972</td><td>N</td><td>2</td></tr><tr><td>1972</td><td>Részösszeg</td><td>4</td></tr><tr><td>1973</td><td>F</td><td>2</td></tr><tr><td>1973</td><td>N</td><td>2</td></tr><tr><td>1973</td><td>Részösszeg</td><td>4</td></tr><tr><td>1974</td><td>F</td><td>1</td></tr><tr><td>1974</td><td>N</td><td>3</td></tr><tr><td>1974</td><td>Részösszeg</td><td>4</td></tr><tr><td>1975</td><td>F</td><td>8</td></tr><tr><td>1975</td><td>N</td><td>3</td></tr><tr><td>1975</td><td>Részösszeg</td><td>11</td></tr><tr><td>1976</td><td>F</td><td>5</td></tr><tr><td>1976</td><td>N</td><td>2</td></tr><tr><td>1976</td><td>Részösszeg</td><td>7</td></tr><tr><td>1977</td><td>F</td><td>4</td></tr><tr><td>1977</td><td>N</td><td>1</td></tr><tr><td>1977</td><td>Részösszeg</td><td>5</td></tr><tr><td>1978</td><td>F</td><td>3</td></tr><tr><td>1978</td><td>N</td><td>4</td></tr><tr><td>1978</td><td>Részösszeg</td><td>7</td></tr><tr><td>1979</td><td>F</td><td>4</td></tr><tr><td>1979</td><td>N</td><td>3</td></tr><tr><td>1979</td><td>Részösszeg</td><td>7</td></tr><tr><td>1980</td><td>F</td><td>4</td></tr><tr><td>1980</td><td>N</td><td>3</td></tr><tr><td>1980</td><td>Részösszeg</td><td>7</td></tr><tr><td>1981</td><td>N</td><td>4</td></tr><tr><td>1981</td><td>Részösszeg</td><td>4</td></tr><tr><td>1982</td><td>F</td><td>2</td></tr><tr><td>1982</td><td>N</td><td>2</td></tr><tr><td>1982</td><td>Részösszeg</td><td>4</td></tr><tr><td>1983</td><td>F</td><td>5</td></tr><tr><td>1983</td><td>N</td><td>3</td></tr><tr><td>1983</td><td>Részösszeg</td><td>8</td></tr><tr><td>1984</td><td>F</td><td>6</td></tr><tr><td>1984</td><td>N</td><td>2</td></tr><tr><td>1984</td><td>Részösszeg</td><td>8</td></tr><tr><td>1985</td><td>F</td><td>5</td></tr><tr><td>1985</td><td>N</td><td>1</td></tr><tr><td>1985</td><td>Részösszeg</td><td>6</td></tr><tr><td>1986</td><td>F</td><td>7</td></tr><tr><td>1986</td><td>N</td><td>2</td></tr><tr><td>1986</td><td>Részösszeg</td><td>9</td></tr><tr><td>1987</td><td>F</td><td>2</td></tr><tr><td>1987</td><td>N</td><td>3</td></tr><tr><td>1987</td><td>Részösszeg</td><td>5</td></tr><tr><td>1988</td><td>F</td><td>2</td></tr><tr><td>1988</td><td>N</td><td>4</td></tr><tr><td>1988</td><td>Részösszeg</td><td>6</td></tr><tr><td>1989</td><td>F</td><td>6</td></tr><tr><td>1989</td><td>N</td><td>1</td></tr><tr><td>1989</td><td>Részösszeg</td><td>7</td></tr><tr><td>1990</td><td>F</td><td>5</td></tr><tr><td>1990</td><td>N</td><td>3</td></tr><tr><td>1990</td><td>Részösszeg</td><td>8</td></tr><tr><td>1991</td><td>F</td><td>3</td></tr><tr><td>1991</td><td>N</td><td>3</td></tr><tr><td>1991</td><td>Részösszeg</td><td>6</td></tr><tr><td>1992</td><td>F</td><td>3</td></tr><tr><td>1992</td><td>N</td><td>1</td></tr><tr><td>1992</td><td>Részösszeg</td><td>4</td></tr><tr><td>1993</td><td>F</td><td>2</td></tr><tr><td>1993</td><td>N</td><td>3</td></tr><tr><td>1993</td><td>Részösszeg</td><td>5</td></tr><tr><td>1994</td><td>N</td><td>3</td></tr><tr><td>1994</td><td>Részösszeg</td><td>3</td></tr><tr><td>1995</td><td>F</td><td>3</td></tr><tr><td>1995</td><td>N</td><td>3</td></tr><tr><td>1995</td><td>Részösszeg</td><td>6</td></tr><tr><td>1996</td><td>F</td><td>2</td></tr><tr><td>1996</td><td>N</td><td>5</td></tr><tr><td>1996</td><td>Részösszeg</td><td>7</td></tr><tr><td>1997</td><td>F</td><td>10</td></tr><tr><td>1997</td><td>N</td><td>2</td></tr><tr><td>1997</td><td>Részösszeg</td><td>12</td></tr><tr><td>1998</td><td>F</td><td>1</td></tr><tr><td>1998</td><td>N</td><td>1</td></tr><tr><td>1998</td><td>Részösszeg</td><td>2</td></tr><tr><td>2000</td><td>F</td><td>1</td></tr><tr><td>2000</td><td>Részösszeg</td><td>1</td></tr><tr><td>Végösszeg</td><td>Végösszeg</td><td>200</td></tr></table>"
                    },
                    "metadata": {}
                }
            ],
            "execution_count": 7
        },
        {
            "cell_type": "markdown",
            "source": [
                "5. <span style=\"background-color: rgb(255, 255, 255); color: rgb(0, 0, 0); font-family: &quot;Open Sans&quot;, sans-serif; font-size: 14.44px;\">Készítsünk listát a termékek számáról a felvitel hónapja, azon belül napja szerint csoportosítva.&nbsp;</span> \n",
                "\n",
                "a. A lista csak a részösszegeket és a végösszeget tartalmazza!  \n",
                "b. Az oszlopoknak adjunk megfelelő nevet!  \n",
                "c. Ötlet: HAVING + GROUPING\\_ID fv együttes használata"
            ],
            "metadata": {
                "azdata_cell_guid": "84239ca2-6b5e-49f5-9860-d44c11d6de32"
            },
            "attachments": {}
        },
        {
            "cell_type": "code",
            "source": [
                "SELECT IIF(GROUPING_ID(MONTH(FELVITEL)) = 1, 'Végösszeg', CAST(MONTH(felvitel) AS nvarchar(3))) AS 'hónap', \r\n",
                "IIF(GROUPING_ID(DAY(FELVITEL))=1, 'Részösszeg', CAST(DAY(FELVITEL) AS nvarchar(3))) AS 'nap',\r\n",
                "COUNT(TERMEKKOD) AS 'darabszám'\r\n",
                "FROM Termek\r\n",
                "GROUP BY ROLLUP (MONTH(FELVITEL), DAY(FELVITEL))\r\n",
                "HAVING GROUPING_ID(MONTH(FELVITEL), DAY(FELVITEL)) > 0"
            ],
            "metadata": {
                "azdata_cell_guid": "1691aed2-d995-4fa4-95ed-43ac80903219",
                "language": "sql"
            },
            "outputs": [
                {
                    "output_type": "display_data",
                    "data": {
                        "text/html": "(5 rows affected)"
                    },
                    "metadata": {}
                },
                {
                    "output_type": "display_data",
                    "data": {
                        "text/html": "Total execution time: 00:00:00.030"
                    },
                    "metadata": {}
                },
                {
                    "output_type": "execute_result",
                    "metadata": {},
                    "execution_count": 15,
                    "data": {
                        "application/vnd.dataresource+json": {
                            "schema": {
                                "fields": [
                                    {
                                        "name": "hónap"
                                    },
                                    {
                                        "name": "nap"
                                    },
                                    {
                                        "name": "darabszám"
                                    }
                                ]
                            },
                            "data": [
                                {
                                    "hónap": "7",
                                    "nap": "Részösszeg",
                                    "darabszám": "355"
                                },
                                {
                                    "hónap": "8",
                                    "nap": "Részösszeg",
                                    "darabszám": "194"
                                },
                                {
                                    "hónap": "9",
                                    "nap": "Részösszeg",
                                    "darabszám": "1"
                                },
                                {
                                    "hónap": "12",
                                    "nap": "Részösszeg",
                                    "darabszám": "1"
                                },
                                {
                                    "hónap": "Végösszeg",
                                    "nap": "Részösszeg",
                                    "darabszám": "551"
                                }
                            ]
                        },
                        "text/html": [
                            "<table>",
                            "<tr><th>hónap</th><th>nap</th><th>darabszám</th></tr>",
                            "<tr><td>7</td><td>Részösszeg</td><td>355</td></tr>",
                            "<tr><td>8</td><td>Részösszeg</td><td>194</td></tr>",
                            "<tr><td>9</td><td>Részösszeg</td><td>1</td></tr>",
                            "<tr><td>12</td><td>Részösszeg</td><td>1</td></tr>",
                            "<tr><td>Végösszeg</td><td>Részösszeg</td><td>551</td></tr>",
                            "</table>"
                        ]
                    }
                }
            ],
            "execution_count": 15
        },
        {
            "cell_type": "code",
            "source": [
                "\r\n",
                "SELECT MONTH(felvitel) AS 'hónap',\r\n",
                "       DAY(felvitel) AS 'nap',\r\n",
                "       COUNT(*) AS 'termékek száma'\r\n",
                "FROM Termek\r\n",
                "GROUP BY ROLLUP(MONTH(felvitel), DAY(felvitel))\r\n",
                "HAVING GROUPING_ID(MONTH(felvitel), DAY(felvitel)) > 0"
            ],
            "metadata": {
                "azdata_cell_guid": "06d9a62b-9430-424b-a135-d80e675f0eb3",
                "language": "sql",
                "tags": []
            },
            "outputs": [
                {
                    "output_type": "display_data",
                    "data": {
                        "text/html": "(5 rows affected)"
                    },
                    "metadata": {}
                },
                {
                    "output_type": "display_data",
                    "data": {
                        "text/html": "Total execution time: 00:00:00.042"
                    },
                    "metadata": {}
                },
                {
                    "output_type": "execute_result",
                    "execution_count": 9,
                    "data": {
                        "application/vnd.dataresource+json": {
                            "schema": {
                                "fields": [
                                    {
                                        "name": "hónap"
                                    },
                                    {
                                        "name": "nap"
                                    },
                                    {
                                        "name": "termékek száma"
                                    }
                                ]
                            },
                            "data": [
                                {
                                    "hónap": "7",
                                    "nap": "NULL",
                                    "termékek száma": "355"
                                },
                                {
                                    "hónap": "8",
                                    "nap": "NULL",
                                    "termékek száma": "194"
                                },
                                {
                                    "hónap": "9",
                                    "nap": "NULL",
                                    "termékek száma": "1"
                                },
                                {
                                    "hónap": "12",
                                    "nap": "NULL",
                                    "termékek száma": "1"
                                },
                                {
                                    "hónap": "NULL",
                                    "nap": "NULL",
                                    "termékek száma": "551"
                                }
                            ]
                        },
                        "text/html": "<table><tr><th>hónap</th><th>nap</th><th>termékek száma</th></tr><tr><td>7</td><td>NULL</td><td>355</td></tr><tr><td>8</td><td>NULL</td><td>194</td></tr><tr><td>9</td><td>NULL</td><td>1</td></tr><tr><td>12</td><td>NULL</td><td>1</td></tr><tr><td>NULL</td><td>NULL</td><td>551</td></tr></table>"
                    },
                    "metadata": {}
                }
            ],
            "execution_count": 9
        }
    ]
}