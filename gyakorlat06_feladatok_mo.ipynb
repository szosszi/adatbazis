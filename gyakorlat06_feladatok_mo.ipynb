{
    "metadata": {
        "kernelspec": {
            "name": "SQL",
            "display_name": "SQL",
            "language": "sql"
        },
        "language_info": {
            "name": "sql",
            "version": ""
        }
    },
    "nbformat_minor": 2,
    "nbformat": 4,
    "cells": [
        {
            "cell_type": "markdown",
            "source": [
                "1. <span style=\"background-color: rgb(255, 255, 255); color: rgb(0, 0, 0); font-family: &quot;Open Sans&quot;, sans-serif; font-size: 14.44px;\">Készítsünk sorszámozott listát a szálláshelyek adatairól!&nbsp;</span> \n",
                "\n",
                "a. A lista legyen a szálláshely típusa szerint, azon belül hely szerint, majd a neve szerint növekvően rendezve! \n",
                "\n",
                "b. A számozás típusonként kezdődjön újra!"
            ],
            "metadata": {
                "azdata_cell_guid": "363cd270-6577-449b-9c89-d4b7c7972d52"
            },
            "attachments": {}
        },
        {
            "cell_type": "code",
            "source": [
                "SELECT ROW_NUMBER() \r\n",
                "       OVER(PARTITION BY TIPUS ORDER BY HELY, SZALLAS_NEV) AS 'Sorsz',\r\n",
                "       *\r\n",
                "FROM Szallashely\r\n",
                "ORDER BY TIPUS, HELY, SZALLAS_NEV"
            ],
            "metadata": {
                "azdata_cell_guid": "6ab9f633-a3b5-48c9-a1dc-4fb8235ae85b",
                "language": "sql"
            },
            "outputs": [],
            "execution_count": null
        },
        {
            "cell_type": "markdown",
            "source": [
                "2. <span style=\"background-color: rgb(255, 255, 255); color: rgb(0, 0, 0); font-family: &quot;Open Sans&quot;, sans-serif; font-size: 14.44px;\">Készítsünk lekérdezést, amely a foglalások adatait jeleníti meg!&nbsp;</span> \n",
                "\n",
                "a. A lista tartalmazzon két új oszlopot, amelyek az adott ügyfél legrövidebb, illetve leghosszabb foglalásának hosszát (a foglalt napok számát) mutatják meg! \n",
                "\n",
                "b. Az oszlopokat nevezzük el értelemszerűen!"
            ],
            "metadata": {
                "azdata_cell_guid": "ea75c103-911f-41a3-a32c-3d40fb3e4e4a"
            },
            "attachments": {}
        },
        {
            "cell_type": "code",
            "source": [
                "SELECT *, MIN(DATEDIFF(DAY, METTOL, METTOL)) OVER (PARTITION BY UGYFEL_FK) AS 'legrövidebb foglalás',\r\n",
                "MAX(DATEDIFF(DAY, METTOL, MEDDIG)) OVER (PARTItiON BY UGYFEL_FK) AS ' leghosszabb'\r\n",
                "FROM Foglalas"
            ],
            "metadata": {
                "azdata_cell_guid": "8d668732-d4cb-4138-a7fd-1bc3dc3e0190",
                "language": "sql"
            },
            "outputs": [],
            "execution_count": null
        },
        {
            "cell_type": "code",
            "source": [
                "SELECT *,\r\n",
                "       MIN(DATEDIFF(DAY, METTOL, MEDDIG)) \r\n",
                "\t   OVER(PARTITION BY UGYFEL_FK) AS 'Legrövidebb foglalás',\r\n",
                "\t   MAX(DATEDIFF(DAY, METTOL, MEDDIG)) \r\n",
                "\t   OVER(PARTITION BY UGYFEL_FK) AS 'Leghosszabb foglalás'\r\n",
                "FROM Foglalas"
            ],
            "metadata": {
                "azdata_cell_guid": "222b9618-a8e8-42b4-a8e8-d002257122b7",
                "language": "sql"
            },
            "outputs": [],
            "execution_count": null
        },
        {
            "cell_type": "markdown",
            "source": [
                "```\n",
                "3. Készítsük listát, amely megjeleníti az ügyfelek azonosítóját, nevét és a foglalásainak kezdő- és befejező dátumát, valamint azt, hogy a foglalás összesen hány főre történt! \n",
                "```\n",
                "\n",
                "a. Egy új oszlopban jelenítsük meg azt is, hogy az ügyfél előző három foglalása összesen hány főre történt!\n",
                "\n",
                "![](https://moodle.uni-corvinus.hu/theme/image.php/adaptable/atto_h5p/1709548862/icon)"
            ],
            "metadata": {
                "azdata_cell_guid": "d7876bb9-76d0-4d07-baed-3cb17b2f96c3"
            },
            "attachments": {}
        },
        {
            "cell_type": "code",
            "source": [
                "SELECT f.UGYFEL_FK, v.nev, f.METTOL, f.meddig, (f.felnott_szam)+(f.GYERMEK_SZAM), \r\n",
                "SUM((f.felnott_szam)+(f.GYERMEK_SZAM)) OVER (PARTITION  BY UGYFEL_FK ORDER BY METTOL ROWS BETWEEN 3 PRECEDING AND 1 PRECEDING)\r\n",
                "FROM Foglalas f JOIN Vendeg v ON f.UGYFEL_FK=v.USERNEV\r\n",
                "\r\n",
                "\r\n",
                ""
            ],
            "metadata": {
                "azdata_cell_guid": "30109273-88a6-4085-a0c1-1d004539f41a",
                "language": "sql"
            },
            "outputs": [
                {
                    "output_type": "display_data",
                    "data": {
                        "text/html": "(1027 rows affected)"
                    },
                    "metadata": {}
                },
                {
                    "output_type": "display_data",
                    "data": {
                        "text/html": "Total execution time: 00:00:00.093"
                    },
                    "metadata": {}
                },
                {
                    "output_type": "execute_result",
                    "metadata": {},
                    "execution_count": 5,
                    "data": {
                        "application/vnd.dataresource+json": {
                            "schema": {
                                "fields": [
                                    {
                                        "name": "UGYFEL_FK"
                                    },
                                    {
                                        "name": "nev"
                                    },
                                    {
                                        "name": "METTOL"
                                    },
                                    {
                                        "name": "meddig"
                                    },
                                    {
                                        "name": "(No column name)"
                                    },
                                    {
                                        "name": "(No column name)"
                                    }
                                ]
                            },
                            "data": [
                                {
                                    "UGYFEL_FK": "adam1",
                                    "nev": "Kiss Ádám",
                                    "METTOL": "2016-05-28",
                                    "meddig": "2016-06-03",
                                    "(No column name)": "NULL"
                                },
                                {
                                    "UGYFEL_FK": "adam1",
                                    "nev": "Kiss Ádám",
                                    "METTOL": "2016-08-20",
                                    "meddig": "2016-08-24",
                                    "(No column name)": "3"
                                },
                                {
                                    "UGYFEL_FK": "adam1",
                                    "nev": "Kiss Ádám",
                                    "METTOL": "2016-10-19",
                                    "meddig": "2016-10-24",
                                    "(No column name)": "4"
                                },
                                {
                                    "UGYFEL_FK": "adam3",
                                    "nev": "Barkóci Ádám",
                                    "METTOL": "2016-09-12",
                                    "meddig": "2016-09-16",
                                    "(No column name)": "NULL"
                                },
                                {
                                    "UGYFEL_FK": "adam3",
                                    "nev": "Barkóci Ádám",
                                    "METTOL": "2017-02-06",
                                    "meddig": "2017-02-10",
                                    "(No column name)": "2"
                                },
                                {
                                    "UGYFEL_FK": "adam4",
                                    "nev": "Bieniek Ádám",
                                    "METTOL": "2016-08-28",
                                    "meddig": "2016-08-30",
                                    "(No column name)": "NULL"
                                },
                                {
                                    "UGYFEL_FK": "adam4",
                                    "nev": "Bieniek Ádám",
                                    "METTOL": "2016-10-27",
                                    "meddig": "2016-11-02",
                                    "(No column name)": "3"
                                },
                                {
                                    "UGYFEL_FK": "adam4",
                                    "nev": "Bieniek Ádám",
                                    "METTOL": "2016-11-15",
                                    "meddig": "2016-11-18",
                                    "(No column name)": "6"
                                },
                                {
                                    "UGYFEL_FK": "adam4",
                                    "nev": "Bieniek Ádám",
                                    "METTOL": "2016-12-06",
                                    "meddig": "2016-12-09",
                                    "(No column name)": "8"
                                },
                                {
                                    "UGYFEL_FK": "adam4",
                                    "nev": "Bieniek Ádám",
                                    "METTOL": "2017-01-12",
                                    "meddig": "2017-01-19",
                                    "(No column name)": "8"
                                },
                                {
                                    "UGYFEL_FK": "adam4",
                                    "nev": "Bieniek Ádám",
                                    "METTOL": "2017-02-23",
                                    "meddig": "2017-02-27",
                                    "(No column name)": "7"
                                },
                                {
                                    "UGYFEL_FK": "agnes",
                                    "nev": "Lengyel Ágnes",
                                    "METTOL": "2016-05-09",
                                    "meddig": "2016-05-11",
                                    "(No column name)": "NULL"
                                },
                                {
                                    "UGYFEL_FK": "agnes",
                                    "nev": "Lengyel Ágnes",
                                    "METTOL": "2016-05-25",
                                    "meddig": "2016-05-30",
                                    "(No column name)": "3"
                                },
                                {
                                    "UGYFEL_FK": "agnes",
                                    "nev": "Lengyel Ágnes",
                                    "METTOL": "2016-07-13",
                                    "meddig": "2016-07-19",
                                    "(No column name)": "4"
                                },
                                {
                                    "UGYFEL_FK": "agnes",
                                    "nev": "Lengyel Ágnes",
                                    "METTOL": "2016-07-30",
                                    "meddig": "2016-08-06",
                                    "(No column name)": "7"
                                },
                                {
                                    "UGYFEL_FK": "agnes",
                                    "nev": "Lengyel Ágnes",
                                    "METTOL": "2016-11-07",
                                    "meddig": "2016-11-13",
                                    "(No column name)": "7"
                                },
                                {
                                    "UGYFEL_FK": "agnes3",
                                    "nev": "Hartyánszky Ágnes",
                                    "METTOL": "2016-08-04",
                                    "meddig": "2016-08-10",
                                    "(No column name)": "NULL"
                                },
                                {
                                    "UGYFEL_FK": "agnes3",
                                    "nev": "Hartyánszky Ágnes",
                                    "METTOL": "2016-10-22",
                                    "meddig": "2016-10-23",
                                    "(No column name)": "1"
                                },
                                {
                                    "UGYFEL_FK": "agnes3",
                                    "nev": "Hartyánszky Ágnes",
                                    "METTOL": "2017-02-16",
                                    "meddig": "2017-02-21",
                                    "(No column name)": "4"
                                },
                                {
                                    "UGYFEL_FK": "AGNESH",
                                    "nev": "Horváth Ágnes",
                                    "METTOL": "2016-04-10",
                                    "meddig": "2016-04-12",
                                    "(No column name)": "NULL"
                                },
                                {
                                    "UGYFEL_FK": "AGNESH",
                                    "nev": "Horváth Ágnes",
                                    "METTOL": "2016-04-27",
                                    "meddig": "2016-04-28",
                                    "(No column name)": "2"
                                },
                                {
                                    "UGYFEL_FK": "AGNESH",
                                    "nev": "Horváth Ágnes",
                                    "METTOL": "2016-06-23",
                                    "meddig": "2016-06-26",
                                    "(No column name)": "6"
                                },
                                {
                                    "UGYFEL_FK": "AGNESH",
                                    "nev": "Horváth Ágnes",
                                    "METTOL": "2016-10-30",
                                    "meddig": "2016-11-04",
                                    "(No column name)": "7"
                                },
                                {
                                    "UGYFEL_FK": "AGNESH",
                                    "nev": "Horváth Ágnes",
                                    "METTOL": "2017-01-03",
                                    "meddig": "2017-01-10",
                                    "(No column name)": "6"
                                },
                                {
                                    "UGYFEL_FK": "AGNESH",
                                    "nev": "Horváth Ágnes",
                                    "METTOL": "2017-01-16",
                                    "meddig": "2017-01-23",
                                    "(No column name)": "4"
                                },
                                {
                                    "UGYFEL_FK": "AGNESK",
                                    "nev": "Kovács Ágnes",
                                    "METTOL": "2016-07-29",
                                    "meddig": "2016-08-01",
                                    "(No column name)": "NULL"
                                },
                                {
                                    "UGYFEL_FK": "AGNESK",
                                    "nev": "Kovács Ágnes",
                                    "METTOL": "2016-10-17",
                                    "meddig": "2016-10-19",
                                    "(No column name)": "3"
                                },
                                {
                                    "UGYFEL_FK": "AGNESK",
                                    "nev": "Kovács Ágnes",
                                    "METTOL": "2016-12-17",
                                    "meddig": "2016-12-18",
                                    "(No column name)": "5"
                                },
                                {
                                    "UGYFEL_FK": "akos",
                                    "nev": "Bíró Ákos",
                                    "METTOL": "2016-05-18",
                                    "meddig": "2016-05-19",
                                    "(No column name)": "NULL"
                                },
                                {
                                    "UGYFEL_FK": "akos",
                                    "nev": "Bíró Ákos",
                                    "METTOL": "2016-07-14",
                                    "meddig": "2016-07-19",
                                    "(No column name)": "2"
                                },
                                {
                                    "UGYFEL_FK": "akos",
                                    "nev": "Bíró Ákos",
                                    "METTOL": "2016-07-16",
                                    "meddig": "2016-07-18",
                                    "(No column name)": "4"
                                },
                                {
                                    "UGYFEL_FK": "akos",
                                    "nev": "Bíró Ákos",
                                    "METTOL": "2016-07-22",
                                    "meddig": "2016-07-26",
                                    "(No column name)": "6"
                                },
                                {
                                    "UGYFEL_FK": "akos",
                                    "nev": "Bíró Ákos",
                                    "METTOL": "2016-09-06",
                                    "meddig": "2016-09-12",
                                    "(No column name)": "5"
                                },
                                {
                                    "UGYFEL_FK": "akos",
                                    "nev": "Bíró Ákos",
                                    "METTOL": "2016-10-05",
                                    "meddig": "2016-10-09",
                                    "(No column name)": "4"
                                },
                                {
                                    "UGYFEL_FK": "akos",
                                    "nev": "Bíró Ákos",
                                    "METTOL": "2016-10-18",
                                    "meddig": "2016-10-23",
                                    "(No column name)": "4"
                                },
                                {
                                    "UGYFEL_FK": "akos",
                                    "nev": "Bíró Ákos",
                                    "METTOL": "2016-11-21",
                                    "meddig": "2016-11-27",
                                    "(No column name)": "5"
                                },
                                {
                                    "UGYFEL_FK": "akos",
                                    "nev": "Bíró Ákos",
                                    "METTOL": "2016-12-15",
                                    "meddig": "2016-12-21",
                                    "(No column name)": "6"
                                },
                                {
                                    "UGYFEL_FK": "akos",
                                    "nev": "Bíró Ákos",
                                    "METTOL": "2016-12-29",
                                    "meddig": "2016-12-30",
                                    "(No column name)": "6"
                                },
                                {
                                    "UGYFEL_FK": "aladar",
                                    "nev": "Dunai Aladár",
                                    "METTOL": "2016-05-17",
                                    "meddig": "2016-05-24",
                                    "(No column name)": "NULL"
                                },
                                {
                                    "UGYFEL_FK": "aladar",
                                    "nev": "Dunai Aladár",
                                    "METTOL": "2016-09-24",
                                    "meddig": "2016-09-28",
                                    "(No column name)": "1"
                                },
                                {
                                    "UGYFEL_FK": "aladar",
                                    "nev": "Dunai Aladár",
                                    "METTOL": "2016-11-22",
                                    "meddig": "2016-11-23",
                                    "(No column name)": "2"
                                },
                                {
                                    "UGYFEL_FK": "alexandra",
                                    "nev": "Bagóczki Alexandra",
                                    "METTOL": "2016-05-21",
                                    "meddig": "2016-05-27",
                                    "(No column name)": "NULL"
                                },
                                {
                                    "UGYFEL_FK": "alexandra",
                                    "nev": "Bagóczki Alexandra",
                                    "METTOL": "2016-06-08",
                                    "meddig": "2016-06-11",
                                    "(No column name)": "3"
                                },
                                {
                                    "UGYFEL_FK": "alexandra",
                                    "nev": "Bagóczki Alexandra",
                                    "METTOL": "2016-07-27",
                                    "meddig": "2016-07-30",
                                    "(No column name)": "6"
                                },
                                {
                                    "UGYFEL_FK": "alexandra",
                                    "nev": "Bagóczki Alexandra",
                                    "METTOL": "2016-10-21",
                                    "meddig": "2016-10-25",
                                    "(No column name)": "8"
                                },
                                {
                                    "UGYFEL_FK": "alexandra",
                                    "nev": "Bagóczki Alexandra",
                                    "METTOL": "2016-11-29",
                                    "meddig": "2016-12-05",
                                    "(No column name)": "7"
                                },
                                {
                                    "UGYFEL_FK": "alexandra",
                                    "nev": "Bagóczki Alexandra",
                                    "METTOL": "2017-01-13",
                                    "meddig": "2017-01-14",
                                    "(No column name)": "6"
                                },
                                {
                                    "UGYFEL_FK": "alexandra",
                                    "nev": "Bagóczki Alexandra",
                                    "METTOL": "2017-01-19",
                                    "meddig": "2017-01-26",
                                    "(No column name)": "5"
                                },
                                {
                                    "UGYFEL_FK": "andi",
                                    "nev": "Maródi Andrea",
                                    "METTOL": "2016-05-08",
                                    "meddig": "2016-05-14",
                                    "(No column name)": "NULL"
                                },
                                {
                                    "UGYFEL_FK": "andi",
                                    "nev": "Maródi Andrea",
                                    "METTOL": "2016-06-13",
                                    "meddig": "2016-06-14",
                                    "(No column name)": "4"
                                },
                                {
                                    "UGYFEL_FK": "andi",
                                    "nev": "Maródi Andrea",
                                    "METTOL": "2016-09-13",
                                    "meddig": "2016-09-16",
                                    "(No column name)": "5"
                                },
                                {
                                    "UGYFEL_FK": "andi",
                                    "nev": "Maródi Andrea",
                                    "METTOL": "2016-11-16",
                                    "meddig": "2016-11-17",
                                    "(No column name)": "7"
                                },
                                {
                                    "UGYFEL_FK": "andi",
                                    "nev": "Maródi Andrea",
                                    "METTOL": "2017-01-13",
                                    "meddig": "2017-01-17",
                                    "(No column name)": "6"
                                },
                                {
                                    "UGYFEL_FK": "andras2",
                                    "nev": "Tóth András",
                                    "METTOL": "2016-05-30",
                                    "meddig": "2016-06-04",
                                    "(No column name)": "NULL"
                                },
                                {
                                    "UGYFEL_FK": "andras2",
                                    "nev": "Tóth András",
                                    "METTOL": "2016-07-20",
                                    "meddig": "2016-07-22",
                                    "(No column name)": "1"
                                },
                                {
                                    "UGYFEL_FK": "andras2",
                                    "nev": "Tóth András",
                                    "METTOL": "2016-09-30",
                                    "meddig": "2016-10-03",
                                    "(No column name)": "3"
                                },
                                {
                                    "UGYFEL_FK": "andras2",
                                    "nev": "Tóth András",
                                    "METTOL": "2016-10-07",
                                    "meddig": "2016-10-10",
                                    "(No column name)": "5"
                                },
                                {
                                    "UGYFEL_FK": "andras2",
                                    "nev": "Tóth András",
                                    "METTOL": "2017-02-08",
                                    "meddig": "2017-02-10",
                                    "(No column name)": "7"
                                },
                                {
                                    "UGYFEL_FK": "andras21",
                                    "nev": "Molnár András",
                                    "METTOL": "2016-06-21",
                                    "meddig": "2016-06-26",
                                    "(No column name)": "NULL"
                                },
                                {
                                    "UGYFEL_FK": "andras21",
                                    "nev": "Molnár András",
                                    "METTOL": "2016-07-04",
                                    "meddig": "2016-07-05",
                                    "(No column name)": "2"
                                },
                                {
                                    "UGYFEL_FK": "andras21",
                                    "nev": "Molnár András",
                                    "METTOL": "2016-07-20",
                                    "meddig": "2016-07-22",
                                    "(No column name)": "5"
                                },
                                {
                                    "UGYFEL_FK": "andras21",
                                    "nev": "Molnár András",
                                    "METTOL": "2016-10-01",
                                    "meddig": "2016-10-06",
                                    "(No column name)": "6"
                                },
                                {
                                    "UGYFEL_FK": "andras21",
                                    "nev": "Molnár András",
                                    "METTOL": "2016-10-04",
                                    "meddig": "2016-10-11",
                                    "(No column name)": "7"
                                },
                                {
                                    "UGYFEL_FK": "andras21",
                                    "nev": "Molnár András",
                                    "METTOL": "2016-11-23",
                                    "meddig": "2016-11-24",
                                    "(No column name)": "7"
                                },
                                {
                                    "UGYFEL_FK": "andras21",
                                    "nev": "Molnár András",
                                    "METTOL": "2017-01-28",
                                    "meddig": "2017-02-01",
                                    "(No column name)": "10"
                                },
                                {
                                    "UGYFEL_FK": "andras3",
                                    "nev": "Vígh András",
                                    "METTOL": "2016-05-01",
                                    "meddig": "2016-05-06",
                                    "(No column name)": "NULL"
                                },
                                {
                                    "UGYFEL_FK": "andras3",
                                    "nev": "Vígh András",
                                    "METTOL": "2016-05-30",
                                    "meddig": "2016-06-03",
                                    "(No column name)": "2"
                                },
                                {
                                    "UGYFEL_FK": "andras3",
                                    "nev": "Vígh András",
                                    "METTOL": "2016-06-10",
                                    "meddig": "2016-06-11",
                                    "(No column name)": "3"
                                },
                                {
                                    "UGYFEL_FK": "andras3",
                                    "nev": "Vígh András",
                                    "METTOL": "2016-07-15",
                                    "meddig": "2016-07-19",
                                    "(No column name)": "4"
                                },
                                {
                                    "UGYFEL_FK": "andras3",
                                    "nev": "Vígh András",
                                    "METTOL": "2016-07-21",
                                    "meddig": "2016-07-23",
                                    "(No column name)": "5"
                                },
                                {
                                    "UGYFEL_FK": "andras3",
                                    "nev": "Vígh András",
                                    "METTOL": "2016-08-29",
                                    "meddig": "2016-09-02",
                                    "(No column name)": "6"
                                },
                                {
                                    "UGYFEL_FK": "andras3",
                                    "nev": "Vígh András",
                                    "METTOL": "2016-11-28",
                                    "meddig": "2016-12-02",
                                    "(No column name)": "8"
                                },
                                {
                                    "UGYFEL_FK": "andras3",
                                    "nev": "Vígh András",
                                    "METTOL": "2017-02-02",
                                    "meddig": "2017-02-08",
                                    "(No column name)": "7"
                                },
                                {
                                    "UGYFEL_FK": "andras4",
                                    "nev": "Back András",
                                    "METTOL": "2016-09-17",
                                    "meddig": "2016-09-20",
                                    "(No column name)": "NULL"
                                },
                                {
                                    "UGYFEL_FK": "andras4",
                                    "nev": "Back András",
                                    "METTOL": "2016-11-25",
                                    "meddig": "2016-11-28",
                                    "(No column name)": "2"
                                },
                                {
                                    "UGYFEL_FK": "andras4",
                                    "nev": "Back András",
                                    "METTOL": "2017-01-09",
                                    "meddig": "2017-01-10",
                                    "(No column name)": "4"
                                },
                                {
                                    "UGYFEL_FK": "andras41",
                                    "nev": "Komjáti András",
                                    "METTOL": "2016-05-14",
                                    "meddig": "2016-05-16",
                                    "(No column name)": "NULL"
                                },
                                {
                                    "UGYFEL_FK": "andras41",
                                    "nev": "Komjáti András",
                                    "METTOL": "2016-05-21",
                                    "meddig": "2016-05-23",
                                    "(No column name)": "2"
                                },
                                {
                                    "UGYFEL_FK": "andras41",
                                    "nev": "Komjáti András",
                                    "METTOL": "2016-06-07",
                                    "meddig": "2016-06-11",
                                    "(No column name)": "6"
                                },
                                {
                                    "UGYFEL_FK": "andras41",
                                    "nev": "Komjáti András",
                                    "METTOL": "2016-06-23",
                                    "meddig": "2016-06-29",
                                    "(No column name)": "9"
                                },
                                {
                                    "UGYFEL_FK": "andras41",
                                    "nev": "Komjáti András",
                                    "METTOL": "2016-07-28",
                                    "meddig": "2016-08-03",
                                    "(No column name)": "9"
                                },
                                {
                                    "UGYFEL_FK": "andras41",
                                    "nev": "Komjáti András",
                                    "METTOL": "2016-08-17",
                                    "meddig": "2016-08-21",
                                    "(No column name)": "8"
                                },
                                {
                                    "UGYFEL_FK": "andras41",
                                    "nev": "Komjáti András",
                                    "METTOL": "2016-08-19",
                                    "meddig": "2016-08-23",
                                    "(No column name)": "8"
                                },
                                {
                                    "UGYFEL_FK": "andras41",
                                    "nev": "Komjáti András",
                                    "METTOL": "2016-09-22",
                                    "meddig": "2016-09-29",
                                    "(No column name)": "7"
                                },
                                {
                                    "UGYFEL_FK": "andras41",
                                    "nev": "Komjáti András",
                                    "METTOL": "2016-09-30",
                                    "meddig": "2016-10-05",
                                    "(No column name)": "5"
                                },
                                {
                                    "UGYFEL_FK": "andras41",
                                    "nev": "Komjáti András",
                                    "METTOL": "2016-10-09",
                                    "meddig": "2016-10-13",
                                    "(No column name)": "4"
                                },
                                {
                                    "UGYFEL_FK": "andras41",
                                    "nev": "Komjáti András",
                                    "METTOL": "2016-10-15",
                                    "meddig": "2016-10-18",
                                    "(No column name)": "5"
                                },
                                {
                                    "UGYFEL_FK": "andras41",
                                    "nev": "Komjáti András",
                                    "METTOL": "2016-11-20",
                                    "meddig": "2016-11-24",
                                    "(No column name)": "7"
                                },
                                {
                                    "UGYFEL_FK": "andras41",
                                    "nev": "Komjáti András",
                                    "METTOL": "2016-11-23",
                                    "meddig": "2016-11-24",
                                    "(No column name)": "8"
                                },
                                {
                                    "UGYFEL_FK": "ANDRASE",
                                    "nev": "Erdei András",
                                    "METTOL": "2016-04-24",
                                    "meddig": "2016-05-01",
                                    "(No column name)": "NULL"
                                },
                                {
                                    "UGYFEL_FK": "ANDRASE",
                                    "nev": "Erdei András",
                                    "METTOL": "2016-07-06",
                                    "meddig": "2016-07-07",
                                    "(No column name)": "1"
                                },
                                {
                                    "UGYFEL_FK": "ANDRASE",
                                    "nev": "Erdei András",
                                    "METTOL": "2016-08-16",
                                    "meddig": "2016-08-20",
                                    "(No column name)": "3"
                                },
                                {
                                    "UGYFEL_FK": "ANDRASE",
                                    "nev": "Erdei András",
                                    "METTOL": "2016-11-19",
                                    "meddig": "2016-11-20",
                                    "(No column name)": "5"
                                },
                                {
                                    "UGYFEL_FK": "ANDRASE",
                                    "nev": "Erdei András",
                                    "METTOL": "2016-11-29",
                                    "meddig": "2016-12-06",
                                    "(No column name)": "8"
                                },
                                {
                                    "UGYFEL_FK": "ANDRASN",
                                    "nev": "Nagy András",
                                    "METTOL": "2016-11-25",
                                    "meddig": "2016-12-01",
                                    "(No column name)": "NULL"
                                },
                                {
                                    "UGYFEL_FK": "andrea",
                                    "nev": "Kiss Andrea",
                                    "METTOL": "2016-07-27",
                                    "meddig": "2016-07-28",
                                    "(No column name)": "NULL"
                                },
                                {
                                    "UGYFEL_FK": "andrea",
                                    "nev": "Kiss Andrea",
                                    "METTOL": "2016-08-01",
                                    "meddig": "2016-08-02",
                                    "(No column name)": "2"
                                },
                                {
                                    "UGYFEL_FK": "andrea",
                                    "nev": "Kiss Andrea",
                                    "METTOL": "2016-08-23",
                                    "meddig": "2016-08-26",
                                    "(No column name)": "4"
                                },
                                {
                                    "UGYFEL_FK": "andrea",
                                    "nev": "Kiss Andrea",
                                    "METTOL": "2016-08-26",
                                    "meddig": "2016-08-30",
                                    "(No column name)": "7"
                                },
                                {
                                    "UGYFEL_FK": "andrea",
                                    "nev": "Kiss Andrea",
                                    "METTOL": "2016-10-21",
                                    "meddig": "2016-10-27",
                                    "(No column name)": "7"
                                },
                                {
                                    "UGYFEL_FK": "andrea",
                                    "nev": "Kiss Andrea",
                                    "METTOL": "2017-02-09",
                                    "meddig": "2017-02-14",
                                    "(No column name)": "9"
                                },
                                {
                                    "UGYFEL_FK": "andrea3",
                                    "nev": "Szomor Andrea",
                                    "METTOL": "2016-11-19",
                                    "meddig": "2016-11-21",
                                    "(No column name)": "NULL"
                                },
                                {
                                    "UGYFEL_FK": "andrea4",
                                    "nev": "Neizer Andrea",
                                    "METTOL": "2016-05-27",
                                    "meddig": "2016-05-29",
                                    "(No column name)": "NULL"
                                },
                                {
                                    "UGYFEL_FK": "andrea4",
                                    "nev": "Neizer Andrea",
                                    "METTOL": "2016-09-13",
                                    "meddig": "2016-09-17",
                                    "(No column name)": "1"
                                },
                                {
                                    "UGYFEL_FK": "andrea4",
                                    "nev": "Neizer Andrea",
                                    "METTOL": "2016-10-30",
                                    "meddig": "2016-11-06",
                                    "(No column name)": "3"
                                },
                                {
                                    "UGYFEL_FK": "andrea4",
                                    "nev": "Neizer Andrea",
                                    "METTOL": "2017-01-22",
                                    "meddig": "2017-01-29",
                                    "(No column name)": "6"
                                },
                                {
                                    "UGYFEL_FK": "ANDREAT",
                                    "nev": "Tornyos Andrea",
                                    "METTOL": "2016-07-27",
                                    "meddig": "2016-08-01",
                                    "(No column name)": "NULL"
                                },
                                {
                                    "UGYFEL_FK": "ANDREAT",
                                    "nev": "Tornyos Andrea",
                                    "METTOL": "2016-09-15",
                                    "meddig": "2016-09-16",
                                    "(No column name)": "2"
                                },
                                {
                                    "UGYFEL_FK": "ANDREAT",
                                    "nev": "Tornyos Andrea",
                                    "METTOL": "2016-10-08",
                                    "meddig": "2016-10-12",
                                    "(No column name)": "4"
                                },
                                {
                                    "UGYFEL_FK": "anett3",
                                    "nev": "Pivarcsi Anett",
                                    "METTOL": "2016-04-10",
                                    "meddig": "2016-04-17",
                                    "(No column name)": "NULL"
                                },
                                {
                                    "UGYFEL_FK": "anett3",
                                    "nev": "Pivarcsi Anett",
                                    "METTOL": "2016-04-13",
                                    "meddig": "2016-04-19",
                                    "(No column name)": "1"
                                },
                                {
                                    "UGYFEL_FK": "anett3",
                                    "nev": "Pivarcsi Anett",
                                    "METTOL": "2016-04-15",
                                    "meddig": "2016-04-19",
                                    "(No column name)": "4"
                                },
                                {
                                    "UGYFEL_FK": "anett3",
                                    "nev": "Pivarcsi Anett",
                                    "METTOL": "2016-04-28",
                                    "meddig": "2016-05-02",
                                    "(No column name)": "7"
                                },
                                {
                                    "UGYFEL_FK": "anett3",
                                    "nev": "Pivarcsi Anett",
                                    "METTOL": "2016-08-15",
                                    "meddig": "2016-08-16",
                                    "(No column name)": "9"
                                },
                                {
                                    "UGYFEL_FK": "anett3",
                                    "nev": "Pivarcsi Anett",
                                    "METTOL": "2016-08-17",
                                    "meddig": "2016-08-23",
                                    "(No column name)": "8"
                                },
                                {
                                    "UGYFEL_FK": "anett3",
                                    "nev": "Pivarcsi Anett",
                                    "METTOL": "2016-10-12",
                                    "meddig": "2016-10-19",
                                    "(No column name)": "8"
                                },
                                {
                                    "UGYFEL_FK": "anett3",
                                    "nev": "Pivarcsi Anett",
                                    "METTOL": "2016-10-16",
                                    "meddig": "2016-10-21",
                                    "(No column name)": "8"
                                },
                                {
                                    "UGYFEL_FK": "aniko",
                                    "nev": "Tóth Anikó",
                                    "METTOL": "2016-06-25",
                                    "meddig": "2016-06-30",
                                    "(No column name)": "NULL"
                                },
                                {
                                    "UGYFEL_FK": "aniko",
                                    "nev": "Tóth Anikó",
                                    "METTOL": "2017-02-12",
                                    "meddig": "2017-02-14",
                                    "(No column name)": "3"
                                },
                                {
                                    "UGYFEL_FK": "aniko",
                                    "nev": "Tóth Anikó",
                                    "METTOL": "2017-02-23",
                                    "meddig": "2017-02-24",
                                    "(No column name)": "6"
                                },
                                {
                                    "UGYFEL_FK": "aniko4",
                                    "nev": "Böröcz Anikó",
                                    "METTOL": "2016-07-02",
                                    "meddig": "2016-07-09",
                                    "(No column name)": "NULL"
                                },
                                {
                                    "UGYFEL_FK": "aniko4",
                                    "nev": "Böröcz Anikó",
                                    "METTOL": "2016-07-22",
                                    "meddig": "2016-07-25",
                                    "(No column name)": "1"
                                },
                                {
                                    "UGYFEL_FK": "aniko4",
                                    "nev": "Böröcz Anikó",
                                    "METTOL": "2016-09-05",
                                    "meddig": "2016-09-07",
                                    "(No column name)": "4"
                                },
                                {
                                    "UGYFEL_FK": "aniko4",
                                    "nev": "Böröcz Anikó",
                                    "METTOL": "2016-10-16",
                                    "meddig": "2016-10-18",
                                    "(No column name)": "8"
                                },
                                {
                                    "UGYFEL_FK": "ANIKOS",
                                    "nev": "Simon Anikó",
                                    "METTOL": "2016-04-19",
                                    "meddig": "2016-04-24",
                                    "(No column name)": "NULL"
                                },
                                {
                                    "UGYFEL_FK": "ANIKOS",
                                    "nev": "Simon Anikó",
                                    "METTOL": "2016-05-24",
                                    "meddig": "2016-05-25",
                                    "(No column name)": "2"
                                },
                                {
                                    "UGYFEL_FK": "ANIKOS",
                                    "nev": "Simon Anikó",
                                    "METTOL": "2016-06-16",
                                    "meddig": "2016-06-23",
                                    "(No column name)": "5"
                                },
                                {
                                    "UGYFEL_FK": "ANIKOS",
                                    "nev": "Simon Anikó",
                                    "METTOL": "2016-06-27",
                                    "meddig": "2016-06-30",
                                    "(No column name)": "6"
                                },
                                {
                                    "UGYFEL_FK": "ANIKOS",
                                    "nev": "Simon Anikó",
                                    "METTOL": "2016-07-17",
                                    "meddig": "2016-07-22",
                                    "(No column name)": "6"
                                },
                                {
                                    "UGYFEL_FK": "ANIKOS",
                                    "nev": "Simon Anikó",
                                    "METTOL": "2016-08-26",
                                    "meddig": "2016-09-02",
                                    "(No column name)": "6"
                                },
                                {
                                    "UGYFEL_FK": "ANIKOS",
                                    "nev": "Simon Anikó",
                                    "METTOL": "2016-10-08",
                                    "meddig": "2016-10-14",
                                    "(No column name)": "7"
                                },
                                {
                                    "UGYFEL_FK": "ANIKOS",
                                    "nev": "Simon Anikó",
                                    "METTOL": "2016-10-29",
                                    "meddig": "2016-11-05",
                                    "(No column name)": "7"
                                },
                                {
                                    "UGYFEL_FK": "ANIKOS",
                                    "nev": "Simon Anikó",
                                    "METTOL": "2016-11-10",
                                    "meddig": "2016-11-15",
                                    "(No column name)": "7"
                                },
                                {
                                    "UGYFEL_FK": "anita",
                                    "nev": "Hamvay-Kovács Anita",
                                    "METTOL": "2016-09-28",
                                    "meddig": "2016-10-02",
                                    "(No column name)": "NULL"
                                },
                                {
                                    "UGYFEL_FK": "anita",
                                    "nev": "Hamvay-Kovács Anita",
                                    "METTOL": "2016-10-01",
                                    "meddig": "2016-10-04",
                                    "(No column name)": "4"
                                },
                                {
                                    "UGYFEL_FK": "anita",
                                    "nev": "Hamvay-Kovács Anita",
                                    "METTOL": "2017-02-19",
                                    "meddig": "2017-02-22",
                                    "(No column name)": "6"
                                },
                                {
                                    "UGYFEL_FK": "anita",
                                    "nev": "Hamvay-Kovács Anita",
                                    "METTOL": "2017-02-20",
                                    "meddig": "2017-02-25",
                                    "(No column name)": "8"
                                },
                                {
                                    "UGYFEL_FK": "annamaria1",
                                    "nev": "Szűcs Annamária",
                                    "METTOL": "2016-06-06",
                                    "meddig": "2016-06-07",
                                    "(No column name)": "NULL"
                                },
                                {
                                    "UGYFEL_FK": "annamaria1",
                                    "nev": "Szűcs Annamária",
                                    "METTOL": "2017-01-30",
                                    "meddig": "2017-01-31",
                                    "(No column name)": "3"
                                },
                                {
                                    "UGYFEL_FK": "ANNAMARIAR",
                                    "nev": "Regős Annamária",
                                    "METTOL": "2016-06-08",
                                    "meddig": "2016-06-11",
                                    "(No column name)": "NULL"
                                },
                                {
                                    "UGYFEL_FK": "ANNAMARIAR",
                                    "nev": "Regős Annamária",
                                    "METTOL": "2016-07-18",
                                    "meddig": "2016-07-21",
                                    "(No column name)": "2"
                                },
                                {
                                    "UGYFEL_FK": "ANNAMARIAR",
                                    "nev": "Regős Annamária",
                                    "METTOL": "2016-09-23",
                                    "meddig": "2016-09-27",
                                    "(No column name)": "3"
                                },
                                {
                                    "UGYFEL_FK": "ANNAMARIAR",
                                    "nev": "Regős Annamária",
                                    "METTOL": "2016-11-11",
                                    "meddig": "2016-11-12",
                                    "(No column name)": "5"
                                },
                                {
                                    "UGYFEL_FK": "ANNAMARIAR",
                                    "nev": "Regős Annamária",
                                    "METTOL": "2017-01-10",
                                    "meddig": "2017-01-13",
                                    "(No column name)": "6"
                                },
                                {
                                    "UGYFEL_FK": "ANNAMARIAR",
                                    "nev": "Regős Annamária",
                                    "METTOL": "2017-02-16",
                                    "meddig": "2017-02-18",
                                    "(No column name)": "7"
                                },
                                {
                                    "UGYFEL_FK": "aron2",
                                    "nev": "Jakab Áron",
                                    "METTOL": "2016-04-11",
                                    "meddig": "2016-04-12",
                                    "(No column name)": "NULL"
                                },
                                {
                                    "UGYFEL_FK": "aron2",
                                    "nev": "Jakab Áron",
                                    "METTOL": "2016-07-04",
                                    "meddig": "2016-07-06",
                                    "(No column name)": "3"
                                },
                                {
                                    "UGYFEL_FK": "aron2",
                                    "nev": "Jakab Áron",
                                    "METTOL": "2016-10-23",
                                    "meddig": "2016-10-27",
                                    "(No column name)": "6"
                                },
                                {
                                    "UGYFEL_FK": "aron2",
                                    "nev": "Jakab Áron",
                                    "METTOL": "2016-11-05",
                                    "meddig": "2016-11-09",
                                    "(No column name)": "8"
                                },
                                {
                                    "UGYFEL_FK": "aron2",
                                    "nev": "Jakab Áron",
                                    "METTOL": "2017-01-17",
                                    "meddig": "2017-01-18",
                                    "(No column name)": "7"
                                },
                                {
                                    "UGYFEL_FK": "aron2",
                                    "nev": "Jakab Áron",
                                    "METTOL": "2017-02-26",
                                    "meddig": "2017-02-27",
                                    "(No column name)": "7"
                                },
                                {
                                    "UGYFEL_FK": "ARONK",
                                    "nev": "Kelemen Áron",
                                    "METTOL": "2016-04-06",
                                    "meddig": "2016-04-08",
                                    "(No column name)": "NULL"
                                },
                                {
                                    "UGYFEL_FK": "ARONK",
                                    "nev": "Kelemen Áron",
                                    "METTOL": "2016-05-14",
                                    "meddig": "2016-05-20",
                                    "(No column name)": "2"
                                },
                                {
                                    "UGYFEL_FK": "ARONK",
                                    "nev": "Kelemen Áron",
                                    "METTOL": "2016-06-04",
                                    "meddig": "2016-06-09",
                                    "(No column name)": "6"
                                },
                                {
                                    "UGYFEL_FK": "ARONK",
                                    "nev": "Kelemen Áron",
                                    "METTOL": "2016-06-07",
                                    "meddig": "2016-06-13",
                                    "(No column name)": "8"
                                },
                                {
                                    "UGYFEL_FK": "ARONK",
                                    "nev": "Kelemen Áron",
                                    "METTOL": "2016-07-03",
                                    "meddig": "2016-07-07",
                                    "(No column name)": "9"
                                },
                                {
                                    "UGYFEL_FK": "ARONK",
                                    "nev": "Kelemen Áron",
                                    "METTOL": "2016-08-05",
                                    "meddig": "2016-08-08",
                                    "(No column name)": "7"
                                },
                                {
                                    "UGYFEL_FK": "ARONK",
                                    "nev": "Kelemen Áron",
                                    "METTOL": "2016-09-08",
                                    "meddig": "2016-09-15",
                                    "(No column name)": "9"
                                },
                                {
                                    "UGYFEL_FK": "ARONK",
                                    "nev": "Kelemen Áron",
                                    "METTOL": "2016-11-03",
                                    "meddig": "2016-11-10",
                                    "(No column name)": "8"
                                },
                                {
                                    "UGYFEL_FK": "ARONK",
                                    "nev": "Kelemen Áron",
                                    "METTOL": "2016-11-05",
                                    "meddig": "2016-11-07",
                                    "(No column name)": "8"
                                },
                                {
                                    "UGYFEL_FK": "ARONK",
                                    "nev": "Kelemen Áron",
                                    "METTOL": "2016-12-07",
                                    "meddig": "2016-12-12",
                                    "(No column name)": "6"
                                },
                                {
                                    "UGYFEL_FK": "ARONK",
                                    "nev": "Kelemen Áron",
                                    "METTOL": "2017-01-01",
                                    "meddig": "2017-01-03",
                                    "(No column name)": "7"
                                },
                                {
                                    "UGYFEL_FK": "ARONK",
                                    "nev": "Kelemen Áron",
                                    "METTOL": "2017-01-30",
                                    "meddig": "2017-02-03",
                                    "(No column name)": "7"
                                },
                                {
                                    "UGYFEL_FK": "ARONK",
                                    "nev": "Kelemen Áron",
                                    "METTOL": "2017-02-21",
                                    "meddig": "2017-02-23",
                                    "(No column name)": "7"
                                },
                                {
                                    "UGYFEL_FK": "arpad2",
                                    "nev": "Ötvös Árpád",
                                    "METTOL": "2016-06-05",
                                    "meddig": "2016-06-07",
                                    "(No column name)": "NULL"
                                },
                                {
                                    "UGYFEL_FK": "arpad2",
                                    "nev": "Ötvös Árpád",
                                    "METTOL": "2016-08-23",
                                    "meddig": "2016-08-25",
                                    "(No column name)": "2"
                                },
                                {
                                    "UGYFEL_FK": "arpad2",
                                    "nev": "Ötvös Árpád",
                                    "METTOL": "2016-09-28",
                                    "meddig": "2016-09-30",
                                    "(No column name)": "4"
                                },
                                {
                                    "UGYFEL_FK": "arpad2",
                                    "nev": "Ötvös Árpád",
                                    "METTOL": "2016-10-13",
                                    "meddig": "2016-10-19",
                                    "(No column name)": "6"
                                },
                                {
                                    "UGYFEL_FK": "arpad2",
                                    "nev": "Ötvös Árpád",
                                    "METTOL": "2016-11-06",
                                    "meddig": "2016-11-10",
                                    "(No column name)": "7"
                                },
                                {
                                    "UGYFEL_FK": "arpad2",
                                    "nev": "Ötvös Árpád",
                                    "METTOL": "2016-12-24",
                                    "meddig": "2016-12-27",
                                    "(No column name)": "7"
                                },
                                {
                                    "UGYFEL_FK": "arpad2",
                                    "nev": "Ötvös Árpád",
                                    "METTOL": "2017-02-18",
                                    "meddig": "2017-02-19",
                                    "(No column name)": "8"
                                },
                                {
                                    "UGYFEL_FK": "ARPADH",
                                    "nev": "Horváth Árpád",
                                    "METTOL": "2016-06-06",
                                    "meddig": "2016-06-07",
                                    "(No column name)": "NULL"
                                },
                                {
                                    "UGYFEL_FK": "ARPADH",
                                    "nev": "Horváth Árpád",
                                    "METTOL": "2016-07-14",
                                    "meddig": "2016-07-18",
                                    "(No column name)": "3"
                                },
                                {
                                    "UGYFEL_FK": "ARPADH",
                                    "nev": "Horváth Árpád",
                                    "METTOL": "2016-09-16",
                                    "meddig": "2016-09-23",
                                    "(No column name)": "5"
                                },
                                {
                                    "UGYFEL_FK": "ARPADH",
                                    "nev": "Horváth Árpád",
                                    "METTOL": "2016-09-18",
                                    "meddig": "2016-09-25",
                                    "(No column name)": "6"
                                },
                                {
                                    "UGYFEL_FK": "ARPADH",
                                    "nev": "Horváth Árpád",
                                    "METTOL": "2016-12-04",
                                    "meddig": "2016-12-10",
                                    "(No column name)": "4"
                                },
                                {
                                    "UGYFEL_FK": "ARPADH",
                                    "nev": "Horváth Árpád",
                                    "METTOL": "2016-12-18",
                                    "meddig": "2016-12-19",
                                    "(No column name)": "3"
                                },
                                {
                                    "UGYFEL_FK": "ARPADH",
                                    "nev": "Horváth Árpád",
                                    "METTOL": "2017-02-16",
                                    "meddig": "2017-02-18",
                                    "(No column name)": "5"
                                },
                                {
                                    "UGYFEL_FK": "ARPADM",
                                    "nev": "Móricz Árpád",
                                    "METTOL": "2016-05-29",
                                    "meddig": "2016-06-01",
                                    "(No column name)": "NULL"
                                },
                                {
                                    "UGYFEL_FK": "ARPADM",
                                    "nev": "Móricz Árpád",
                                    "METTOL": "2016-08-12",
                                    "meddig": "2016-08-16",
                                    "(No column name)": "2"
                                },
                                {
                                    "UGYFEL_FK": "ARPADM",
                                    "nev": "Móricz Árpád",
                                    "METTOL": "2016-11-09",
                                    "meddig": "2016-11-11",
                                    "(No column name)": "4"
                                },
                                {
                                    "UGYFEL_FK": "ARPADM",
                                    "nev": "Móricz Árpád",
                                    "METTOL": "2016-12-14",
                                    "meddig": "2016-12-17",
                                    "(No column name)": "6"
                                },
                                {
                                    "UGYFEL_FK": "ARPADM",
                                    "nev": "Móricz Árpád",
                                    "METTOL": "2017-01-05",
                                    "meddig": "2017-01-10",
                                    "(No column name)": "7"
                                },
                                {
                                    "UGYFEL_FK": "ARPADM",
                                    "nev": "Móricz Árpád",
                                    "METTOL": "2017-02-12",
                                    "meddig": "2017-02-14",
                                    "(No column name)": "6"
                                },
                                {
                                    "UGYFEL_FK": "attila",
                                    "nev": "Csóti Attila",
                                    "METTOL": "2016-09-30",
                                    "meddig": "2016-10-07",
                                    "(No column name)": "NULL"
                                },
                                {
                                    "UGYFEL_FK": "attila",
                                    "nev": "Csóti Attila",
                                    "METTOL": "2016-10-15",
                                    "meddig": "2016-10-19",
                                    "(No column name)": "3"
                                },
                                {
                                    "UGYFEL_FK": "attila",
                                    "nev": "Csóti Attila",
                                    "METTOL": "2016-12-22",
                                    "meddig": "2016-12-26",
                                    "(No column name)": "4"
                                },
                                {
                                    "UGYFEL_FK": "attila1",
                                    "nev": "Gulyás Attila",
                                    "METTOL": "2016-05-20",
                                    "meddig": "2016-05-26",
                                    "(No column name)": "NULL"
                                },
                                {
                                    "UGYFEL_FK": "attila1",
                                    "nev": "Gulyás Attila",
                                    "METTOL": "2016-10-09",
                                    "meddig": "2016-10-12",
                                    "(No column name)": "1"
                                },
                                {
                                    "UGYFEL_FK": "attila1",
                                    "nev": "Gulyás Attila",
                                    "METTOL": "2016-10-15",
                                    "meddig": "2016-10-16",
                                    "(No column name)": "3"
                                },
                                {
                                    "UGYFEL_FK": "attila1",
                                    "nev": "Gulyás Attila",
                                    "METTOL": "2016-10-30",
                                    "meddig": "2016-11-05",
                                    "(No column name)": "6"
                                },
                                {
                                    "UGYFEL_FK": "attila1",
                                    "nev": "Gulyás Attila",
                                    "METTOL": "2016-11-10",
                                    "meddig": "2016-11-14",
                                    "(No column name)": "7"
                                },
                                {
                                    "UGYFEL_FK": "attila1",
                                    "nev": "Gulyás Attila",
                                    "METTOL": "2017-01-23",
                                    "meddig": "2017-01-30",
                                    "(No column name)": "7"
                                },
                                {
                                    "UGYFEL_FK": "attila4",
                                    "nev": "Baróti Attila",
                                    "METTOL": "2016-08-18",
                                    "meddig": "2016-08-23",
                                    "(No column name)": "NULL"
                                },
                                {
                                    "UGYFEL_FK": "attila4",
                                    "nev": "Baróti Attila",
                                    "METTOL": "2016-12-31",
                                    "meddig": "2017-01-01",
                                    "(No column name)": "4"
                                },
                                {
                                    "UGYFEL_FK": "attila4",
                                    "nev": "Baróti Attila",
                                    "METTOL": "2017-02-15",
                                    "meddig": "2017-02-22",
                                    "(No column name)": "6"
                                },
                                {
                                    "UGYFEL_FK": "ATTILAO",
                                    "nev": "Opra Attila",
                                    "METTOL": "2016-05-21",
                                    "meddig": "2016-05-26",
                                    "(No column name)": "NULL"
                                },
                                {
                                    "UGYFEL_FK": "ATTILAO",
                                    "nev": "Opra Attila",
                                    "METTOL": "2016-06-04",
                                    "meddig": "2016-06-11",
                                    "(No column name)": "3"
                                },
                                {
                                    "UGYFEL_FK": "ATTILAO",
                                    "nev": "Opra Attila",
                                    "METTOL": "2016-10-30",
                                    "meddig": "2016-11-03",
                                    "(No column name)": "6"
                                },
                                {
                                    "UGYFEL_FK": "ATTILAO",
                                    "nev": "Opra Attila",
                                    "METTOL": "2017-02-22",
                                    "meddig": "2017-02-25",
                                    "(No column name)": "8"
                                },
                                {
                                    "UGYFEL_FK": "balazs1",
                                    "nev": "Bozsik Balázs",
                                    "METTOL": "2016-05-07",
                                    "meddig": "2016-05-14",
                                    "(No column name)": "NULL"
                                },
                                {
                                    "UGYFEL_FK": "balazs1",
                                    "nev": "Bozsik Balázs",
                                    "METTOL": "2016-07-22",
                                    "meddig": "2016-07-26",
                                    "(No column name)": "2"
                                },
                                {
                                    "UGYFEL_FK": "balazs1",
                                    "nev": "Bozsik Balázs",
                                    "METTOL": "2016-12-26",
                                    "meddig": "2016-12-28",
                                    "(No column name)": "6"
                                },
                                {
                                    "UGYFEL_FK": "balazs1",
                                    "nev": "Bozsik Balázs",
                                    "METTOL": "2017-01-01",
                                    "meddig": "2017-01-05",
                                    "(No column name)": "9"
                                },
                                {
                                    "UGYFEL_FK": "balazs1",
                                    "nev": "Bozsik Balázs",
                                    "METTOL": "2017-02-10",
                                    "meddig": "2017-02-14",
                                    "(No column name)": "9"
                                },
                                {
                                    "UGYFEL_FK": "balazs1",
                                    "nev": "Bozsik Balázs",
                                    "METTOL": "2017-02-12",
                                    "meddig": "2017-02-14",
                                    "(No column name)": "8"
                                },
                                {
                                    "UGYFEL_FK": "balazs2",
                                    "nev": "Szűcs Balázs",
                                    "METTOL": "2016-04-16",
                                    "meddig": "2016-04-19",
                                    "(No column name)": "NULL"
                                },
                                {
                                    "UGYFEL_FK": "balazs2",
                                    "nev": "Szűcs Balázs",
                                    "METTOL": "2016-05-22",
                                    "meddig": "2016-05-29",
                                    "(No column name)": "2"
                                },
                                {
                                    "UGYFEL_FK": "balazs2",
                                    "nev": "Szűcs Balázs",
                                    "METTOL": "2016-05-28",
                                    "meddig": "2016-06-01",
                                    "(No column name)": "5"
                                },
                                {
                                    "UGYFEL_FK": "balazs2",
                                    "nev": "Szűcs Balázs",
                                    "METTOL": "2016-07-08",
                                    "meddig": "2016-07-12",
                                    "(No column name)": "8"
                                },
                                {
                                    "UGYFEL_FK": "balazs2",
                                    "nev": "Szűcs Balázs",
                                    "METTOL": "2016-07-10",
                                    "meddig": "2016-07-17",
                                    "(No column name)": "9"
                                },
                                {
                                    "UGYFEL_FK": "balazs2",
                                    "nev": "Szűcs Balázs",
                                    "METTOL": "2016-07-20",
                                    "meddig": "2016-07-25",
                                    "(No column name)": "9"
                                },
                                {
                                    "UGYFEL_FK": "balazs2",
                                    "nev": "Szűcs Balázs",
                                    "METTOL": "2016-08-21",
                                    "meddig": "2016-08-22",
                                    "(No column name)": "8"
                                },
                                {
                                    "UGYFEL_FK": "balazs2",
                                    "nev": "Szűcs Balázs",
                                    "METTOL": "2016-09-12",
                                    "meddig": "2016-09-14",
                                    "(No column name)": "8"
                                },
                                {
                                    "UGYFEL_FK": "balazs2",
                                    "nev": "Szűcs Balázs",
                                    "METTOL": "2016-11-03",
                                    "meddig": "2016-11-05",
                                    "(No column name)": "8"
                                },
                                {
                                    "UGYFEL_FK": "balazs2",
                                    "nev": "Szűcs Balázs",
                                    "METTOL": "2017-02-27",
                                    "meddig": "2017-03-06",
                                    "(No column name)": "9"
                                },
                                {
                                    "UGYFEL_FK": "balazs3",
                                    "nev": "Bakódy Balázs",
                                    "METTOL": "2016-07-17",
                                    "meddig": "2016-07-21",
                                    "(No column name)": "NULL"
                                },
                                {
                                    "UGYFEL_FK": "balazs3",
                                    "nev": "Bakódy Balázs",
                                    "METTOL": "2016-07-27",
                                    "meddig": "2016-07-31",
                                    "(No column name)": "2"
                                },
                                {
                                    "UGYFEL_FK": "balazs3",
                                    "nev": "Bakódy Balázs",
                                    "METTOL": "2016-08-24",
                                    "meddig": "2016-08-28",
                                    "(No column name)": "6"
                                },
                                {
                                    "UGYFEL_FK": "balazs3",
                                    "nev": "Bakódy Balázs",
                                    "METTOL": "2016-09-15",
                                    "meddig": "2016-09-16",
                                    "(No column name)": "9"
                                },
                                {
                                    "UGYFEL_FK": "balazs3",
                                    "nev": "Bakódy Balázs",
                                    "METTOL": "2016-12-05",
                                    "meddig": "2016-12-11",
                                    "(No column name)": "10"
                                },
                                {
                                    "UGYFEL_FK": "balazs3",
                                    "nev": "Bakódy Balázs",
                                    "METTOL": "2017-01-20",
                                    "meddig": "2017-01-22",
                                    "(No column name)": "9"
                                },
                                {
                                    "UGYFEL_FK": "balint",
                                    "nev": "Horváth Bálint",
                                    "METTOL": "2016-04-22",
                                    "meddig": "2016-04-29",
                                    "(No column name)": "NULL"
                                },
                                {
                                    "UGYFEL_FK": "balint",
                                    "nev": "Horváth Bálint",
                                    "METTOL": "2016-10-09",
                                    "meddig": "2016-10-11",
                                    "(No column name)": "2"
                                },
                                {
                                    "UGYFEL_FK": "balint",
                                    "nev": "Horváth Bálint",
                                    "METTOL": "2016-11-24",
                                    "meddig": "2016-11-29",
                                    "(No column name)": "4"
                                },
                                {
                                    "UGYFEL_FK": "balint1",
                                    "nev": "Molnár Bálint",
                                    "METTOL": "2016-06-07",
                                    "meddig": "2016-06-11",
                                    "(No column name)": "NULL"
                                },
                                {
                                    "UGYFEL_FK": "balint1",
                                    "nev": "Molnár Bálint",
                                    "METTOL": "2016-06-07",
                                    "meddig": "2016-06-12",
                                    "(No column name)": "3"
                                },
                                {
                                    "UGYFEL_FK": "balint1",
                                    "nev": "Molnár Bálint",
                                    "METTOL": "2016-06-10",
                                    "meddig": "2016-06-12",
                                    "(No column name)": "6"
                                },
                                {
                                    "UGYFEL_FK": "balint1",
                                    "nev": "Molnár Bálint",
                                    "METTOL": "2016-07-26",
                                    "meddig": "2016-07-28",
                                    "(No column name)": "7"
                                },
                                {
                                    "UGYFEL_FK": "balint1",
                                    "nev": "Molnár Bálint",
                                    "METTOL": "2016-08-03",
                                    "meddig": "2016-08-08",
                                    "(No column name)": "6"
                                },
                                {
                                    "UGYFEL_FK": "balint1",
                                    "nev": "Molnár Bálint",
                                    "METTOL": "2016-09-16",
                                    "meddig": "2016-09-21",
                                    "(No column name)": "5"
                                },
                                {
                                    "UGYFEL_FK": "balint1",
                                    "nev": "Molnár Bálint",
                                    "METTOL": "2016-11-07",
                                    "meddig": "2016-11-10",
                                    "(No column name)": "5"
                                },
                                {
                                    "UGYFEL_FK": "balint1",
                                    "nev": "Molnár Bálint",
                                    "METTOL": "2016-12-17",
                                    "meddig": "2016-12-22",
                                    "(No column name)": "5"
                                },
                                {
                                    "UGYFEL_FK": "balint1",
                                    "nev": "Molnár Bálint",
                                    "METTOL": "2016-12-29",
                                    "meddig": "2016-12-31",
                                    "(No column name)": "6"
                                },
                                {
                                    "UGYFEL_FK": "balint1",
                                    "nev": "Molnár Bálint",
                                    "METTOL": "2017-01-03",
                                    "meddig": "2017-01-08",
                                    "(No column name)": "8"
                                },
                                {
                                    "UGYFEL_FK": "balint2",
                                    "nev": "Vukasinovity Bálint",
                                    "METTOL": "2016-07-21",
                                    "meddig": "2016-07-26",
                                    "(No column name)": "NULL"
                                },
                                {
                                    "UGYFEL_FK": "balint2",
                                    "nev": "Vukasinovity Bálint",
                                    "METTOL": "2016-12-04",
                                    "meddig": "2016-12-06",
                                    "(No column name)": "1"
                                },
                                {
                                    "UGYFEL_FK": "balu",
                                    "nev": "Endresz Bálint",
                                    "METTOL": "2016-08-06",
                                    "meddig": "2016-08-10",
                                    "(No column name)": "NULL"
                                },
                                {
                                    "UGYFEL_FK": "balu",
                                    "nev": "Endresz Bálint",
                                    "METTOL": "2016-12-22",
                                    "meddig": "2016-12-23",
                                    "(No column name)": "2"
                                },
                                {
                                    "UGYFEL_FK": "beata4",
                                    "nev": "Bagi Beáta",
                                    "METTOL": "2016-04-20",
                                    "meddig": "2016-04-21",
                                    "(No column name)": "NULL"
                                },
                                {
                                    "UGYFEL_FK": "beata4",
                                    "nev": "Bagi Beáta",
                                    "METTOL": "2016-06-03",
                                    "meddig": "2016-06-04",
                                    "(No column name)": "2"
                                },
                                {
                                    "UGYFEL_FK": "beata4",
                                    "nev": "Bagi Beáta",
                                    "METTOL": "2016-07-03",
                                    "meddig": "2016-07-06",
                                    "(No column name)": "4"
                                },
                                {
                                    "UGYFEL_FK": "beata4",
                                    "nev": "Bagi Beáta",
                                    "METTOL": "2016-08-25",
                                    "meddig": "2016-08-27",
                                    "(No column name)": "5"
                                },
                                {
                                    "UGYFEL_FK": "beata4",
                                    "nev": "Bagi Beáta",
                                    "METTOL": "2016-10-01",
                                    "meddig": "2016-10-05",
                                    "(No column name)": "6"
                                },
                                {
                                    "UGYFEL_FK": "beata4",
                                    "nev": "Bagi Beáta",
                                    "METTOL": "2016-10-03",
                                    "meddig": "2016-10-06",
                                    "(No column name)": "5"
                                },
                                {
                                    "UGYFEL_FK": "BEATRIXK",
                                    "nev": "Kerényi Beatrix",
                                    "METTOL": "2016-06-10",
                                    "meddig": "2016-06-11",
                                    "(No column name)": "NULL"
                                },
                                {
                                    "UGYFEL_FK": "BEATRIXK",
                                    "nev": "Kerényi Beatrix",
                                    "METTOL": "2016-06-10",
                                    "meddig": "2016-06-14",
                                    "(No column name)": "2"
                                },
                                {
                                    "UGYFEL_FK": "BEATRIXK",
                                    "nev": "Kerényi Beatrix",
                                    "METTOL": "2016-06-19",
                                    "meddig": "2016-06-21",
                                    "(No column name)": "4"
                                },
                                {
                                    "UGYFEL_FK": "BEATRIXK",
                                    "nev": "Kerényi Beatrix",
                                    "METTOL": "2016-08-12",
                                    "meddig": "2016-08-18",
                                    "(No column name)": "7"
                                },
                                {
                                    "UGYFEL_FK": "BEATRIXK",
                                    "nev": "Kerényi Beatrix",
                                    "METTOL": "2016-10-23",
                                    "meddig": "2016-10-28",
                                    "(No column name)": "9"
                                },
                                {
                                    "UGYFEL_FK": "BEATRIXK",
                                    "nev": "Kerényi Beatrix",
                                    "METTOL": "2016-11-14",
                                    "meddig": "2016-11-19",
                                    "(No column name)": "9"
                                },
                                {
                                    "UGYFEL_FK": "BEATRIXK",
                                    "nev": "Kerényi Beatrix",
                                    "METTOL": "2016-12-12",
                                    "meddig": "2016-12-14",
                                    "(No column name)": "8"
                                },
                                {
                                    "UGYFEL_FK": "BEATRIXK",
                                    "nev": "Kerényi Beatrix",
                                    "METTOL": "2016-12-17",
                                    "meddig": "2016-12-22",
                                    "(No column name)": "7"
                                },
                                {
                                    "UGYFEL_FK": "BEATRIXK",
                                    "nev": "Kerényi Beatrix",
                                    "METTOL": "2017-02-08",
                                    "meddig": "2017-02-09",
                                    "(No column name)": "9"
                                },
                                {
                                    "UGYFEL_FK": "BEATRIXS",
                                    "nev": "Szekendi Beatrix",
                                    "METTOL": "2016-04-18",
                                    "meddig": "2016-04-24",
                                    "(No column name)": "NULL"
                                },
                                {
                                    "UGYFEL_FK": "BEATRIXS",
                                    "nev": "Szekendi Beatrix",
                                    "METTOL": "2016-06-11",
                                    "meddig": "2016-06-14",
                                    "(No column name)": "1"
                                },
                                {
                                    "UGYFEL_FK": "BEATRIXS",
                                    "nev": "Szekendi Beatrix",
                                    "METTOL": "2016-10-01",
                                    "meddig": "2016-10-03",
                                    "(No column name)": "4"
                                },
                                {
                                    "UGYFEL_FK": "BEATRIXS",
                                    "nev": "Szekendi Beatrix",
                                    "METTOL": "2016-10-01",
                                    "meddig": "2016-10-05",
                                    "(No column name)": "7"
                                },
                                {
                                    "UGYFEL_FK": "BEATRIXS",
                                    "nev": "Szekendi Beatrix",
                                    "METTOL": "2016-12-21",
                                    "meddig": "2016-12-27",
                                    "(No column name)": "9"
                                },
                                {
                                    "UGYFEL_FK": "BEATRIXS",
                                    "nev": "Szekendi Beatrix",
                                    "METTOL": "2017-02-03",
                                    "meddig": "2017-02-04",
                                    "(No column name)": "8"
                                },
                                {
                                    "UGYFEL_FK": "BELAF",
                                    "nev": "Farkas Béla",
                                    "METTOL": "2016-07-27",
                                    "meddig": "2016-07-30",
                                    "(No column name)": "NULL"
                                },
                                {
                                    "UGYFEL_FK": "BELAF",
                                    "nev": "Farkas Béla",
                                    "METTOL": "2016-07-29",
                                    "meddig": "2016-07-31",
                                    "(No column name)": "3"
                                },
                                {
                                    "UGYFEL_FK": "BELAF",
                                    "nev": "Farkas Béla",
                                    "METTOL": "2016-08-29",
                                    "meddig": "2016-08-31",
                                    "(No column name)": "5"
                                },
                                {
                                    "UGYFEL_FK": "BELAF",
                                    "nev": "Farkas Béla",
                                    "METTOL": "2016-11-03",
                                    "meddig": "2016-11-09",
                                    "(No column name)": "7"
                                },
                                {
                                    "UGYFEL_FK": "BELAF",
                                    "nev": "Farkas Béla",
                                    "METTOL": "2016-12-02",
                                    "meddig": "2016-12-04",
                                    "(No column name)": "8"
                                },
                                {
                                    "UGYFEL_FK": "BELAF",
                                    "nev": "Farkas Béla",
                                    "METTOL": "2016-12-06",
                                    "meddig": "2016-12-09",
                                    "(No column name)": "9"
                                },
                                {
                                    "UGYFEL_FK": "bence",
                                    "nev": "Győrffy Bence",
                                    "METTOL": "2016-05-08",
                                    "meddig": "2016-05-11",
                                    "(No column name)": "NULL"
                                },
                                {
                                    "UGYFEL_FK": "bence",
                                    "nev": "Győrffy Bence",
                                    "METTOL": "2016-05-29",
                                    "meddig": "2016-06-03",
                                    "(No column name)": "2"
                                },
                                {
                                    "UGYFEL_FK": "bence",
                                    "nev": "Győrffy Bence",
                                    "METTOL": "2016-07-24",
                                    "meddig": "2016-07-30",
                                    "(No column name)": "3"
                                },
                                {
                                    "UGYFEL_FK": "bence",
                                    "nev": "Győrffy Bence",
                                    "METTOL": "2016-07-25",
                                    "meddig": "2016-08-01",
                                    "(No column name)": "5"
                                },
                                {
                                    "UGYFEL_FK": "bence",
                                    "nev": "Győrffy Bence",
                                    "METTOL": "2016-09-03",
                                    "meddig": "2016-09-06",
                                    "(No column name)": "6"
                                },
                                {
                                    "UGYFEL_FK": "bence",
                                    "nev": "Győrffy Bence",
                                    "METTOL": "2016-10-30",
                                    "meddig": "2016-11-02",
                                    "(No column name)": "8"
                                },
                                {
                                    "UGYFEL_FK": "bence",
                                    "nev": "Győrffy Bence",
                                    "METTOL": "2016-12-17",
                                    "meddig": "2016-12-18",
                                    "(No column name)": "10"
                                },
                                {
                                    "UGYFEL_FK": "bence",
                                    "nev": "Győrffy Bence",
                                    "METTOL": "2016-12-26",
                                    "meddig": "2016-12-27",
                                    "(No column name)": "9"
                                },
                                {
                                    "UGYFEL_FK": "bence",
                                    "nev": "Győrffy Bence",
                                    "METTOL": "2017-02-05",
                                    "meddig": "2017-02-09",
                                    "(No column name)": "8"
                                },
                                {
                                    "UGYFEL_FK": "BENCEB",
                                    "nev": "Bajusz Bence",
                                    "METTOL": "2016-05-14",
                                    "meddig": "2016-05-17",
                                    "(No column name)": "NULL"
                                },
                                {
                                    "UGYFEL_FK": "BENCEB",
                                    "nev": "Bajusz Bence",
                                    "METTOL": "2016-06-03",
                                    "meddig": "2016-06-09",
                                    "(No column name)": "3"
                                },
                                {
                                    "UGYFEL_FK": "BENCEB",
                                    "nev": "Bajusz Bence",
                                    "METTOL": "2016-08-01",
                                    "meddig": "2016-08-02",
                                    "(No column name)": "5"
                                },
                                {
                                    "UGYFEL_FK": "BENCEB",
                                    "nev": "Bajusz Bence",
                                    "METTOL": "2016-10-22",
                                    "meddig": "2016-10-29",
                                    "(No column name)": "7"
                                },
                                {
                                    "UGYFEL_FK": "BENCEB",
                                    "nev": "Bajusz Bence",
                                    "METTOL": "2016-11-28",
                                    "meddig": "2016-12-02",
                                    "(No column name)": "7"
                                },
                                {
                                    "UGYFEL_FK": "BENCEB",
                                    "nev": "Bajusz Bence",
                                    "METTOL": "2017-02-12",
                                    "meddig": "2017-02-19",
                                    "(No column name)": "7"
                                },
                                {
                                    "UGYFEL_FK": "bernadett1",
                                    "nev": "Simon Bernadett",
                                    "METTOL": "2016-06-12",
                                    "meddig": "2016-06-17",
                                    "(No column name)": "NULL"
                                },
                                {
                                    "UGYFEL_FK": "bernadett1",
                                    "nev": "Simon Bernadett",
                                    "METTOL": "2016-10-08",
                                    "meddig": "2016-10-09",
                                    "(No column name)": "3"
                                },
                                {
                                    "UGYFEL_FK": "bernadett1",
                                    "nev": "Simon Bernadett",
                                    "METTOL": "2016-10-15",
                                    "meddig": "2016-10-22",
                                    "(No column name)": "7"
                                },
                                {
                                    "UGYFEL_FK": "bernadett1",
                                    "nev": "Simon Bernadett",
                                    "METTOL": "2016-10-26",
                                    "meddig": "2016-11-02",
                                    "(No column name)": "10"
                                },
                                {
                                    "UGYFEL_FK": "bernadett1",
                                    "nev": "Simon Bernadett",
                                    "METTOL": "2016-10-28",
                                    "meddig": "2016-11-01",
                                    "(No column name)": "10"
                                },
                                {
                                    "UGYFEL_FK": "bernadett1",
                                    "nev": "Simon Bernadett",
                                    "METTOL": "2017-02-14",
                                    "meddig": "2017-02-15",
                                    "(No column name)": "9"
                                },
                                {
                                    "UGYFEL_FK": "bernadett1",
                                    "nev": "Simon Bernadett",
                                    "METTOL": "2017-02-24",
                                    "meddig": "2017-03-03",
                                    "(No column name)": "9"
                                },
                                {
                                    "UGYFEL_FK": "bernadett2",
                                    "nev": "Kovács Bernadett",
                                    "METTOL": "2016-05-01",
                                    "meddig": "2016-05-03",
                                    "(No column name)": "NULL"
                                },
                                {
                                    "UGYFEL_FK": "bernadett2",
                                    "nev": "Kovács Bernadett",
                                    "METTOL": "2016-06-17",
                                    "meddig": "2016-06-23",
                                    "(No column name)": "2"
                                },
                                {
                                    "UGYFEL_FK": "bernadett2",
                                    "nev": "Kovács Bernadett",
                                    "METTOL": "2016-08-23",
                                    "meddig": "2016-08-29",
                                    "(No column name)": "5"
                                },
                                {
                                    "UGYFEL_FK": "bernadett2",
                                    "nev": "Kovács Bernadett",
                                    "METTOL": "2016-08-25",
                                    "meddig": "2016-08-27",
                                    "(No column name)": "7"
                                },
                                {
                                    "UGYFEL_FK": "bernadett2",
                                    "nev": "Kovács Bernadett",
                                    "METTOL": "2016-09-07",
                                    "meddig": "2016-09-13",
                                    "(No column name)": "8"
                                },
                                {
                                    "UGYFEL_FK": "bernadett2",
                                    "nev": "Kovács Bernadett",
                                    "METTOL": "2016-10-30",
                                    "meddig": "2016-11-06",
                                    "(No column name)": "8"
                                },
                                {
                                    "UGYFEL_FK": "bernadett2",
                                    "nev": "Kovács Bernadett",
                                    "METTOL": "2016-12-17",
                                    "meddig": "2016-12-20",
                                    "(No column name)": "9"
                                },
                                {
                                    "UGYFEL_FK": "bernadett2",
                                    "nev": "Kovács Bernadett",
                                    "METTOL": "2017-01-24",
                                    "meddig": "2017-01-30",
                                    "(No column name)": "7"
                                },
                                {
                                    "UGYFEL_FK": "BERNADETTO",
                                    "nev": "Orbán Bernadett",
                                    "METTOL": "2016-04-10",
                                    "meddig": "2016-04-17",
                                    "(No column name)": "NULL"
                                },
                                {
                                    "UGYFEL_FK": "BERNADETTO",
                                    "nev": "Orbán Bernadett",
                                    "METTOL": "2016-04-17",
                                    "meddig": "2016-04-19",
                                    "(No column name)": "2"
                                },
                                {
                                    "UGYFEL_FK": "BERNADETTO",
                                    "nev": "Orbán Bernadett",
                                    "METTOL": "2016-06-07",
                                    "meddig": "2016-06-13",
                                    "(No column name)": "4"
                                },
                                {
                                    "UGYFEL_FK": "BERNADETTO",
                                    "nev": "Orbán Bernadett",
                                    "METTOL": "2016-06-10",
                                    "meddig": "2016-06-16",
                                    "(No column name)": "7"
                                },
                                {
                                    "UGYFEL_FK": "BERNADETTO",
                                    "nev": "Orbán Bernadett",
                                    "METTOL": "2016-10-04",
                                    "meddig": "2016-10-05",
                                    "(No column name)": "9"
                                },
                                {
                                    "UGYFEL_FK": "BERNADETTO",
                                    "nev": "Orbán Bernadett",
                                    "METTOL": "2017-01-01",
                                    "meddig": "2017-01-02",
                                    "(No column name)": "9"
                                },
                                {
                                    "UGYFEL_FK": "BERNADETTO",
                                    "nev": "Orbán Bernadett",
                                    "METTOL": "2017-01-28",
                                    "meddig": "2017-02-03",
                                    "(No column name)": "9"
                                },
                                {
                                    "UGYFEL_FK": "bertalan",
                                    "nev": "Csiger Bertalan",
                                    "METTOL": "2016-05-18",
                                    "meddig": "2016-05-23",
                                    "(No column name)": "NULL"
                                },
                                {
                                    "UGYFEL_FK": "bertalan",
                                    "nev": "Csiger Bertalan",
                                    "METTOL": "2016-06-20",
                                    "meddig": "2016-06-21",
                                    "(No column name)": "2"
                                },
                                {
                                    "UGYFEL_FK": "bertalan",
                                    "nev": "Csiger Bertalan",
                                    "METTOL": "2016-11-03",
                                    "meddig": "2016-11-10",
                                    "(No column name)": "3"
                                },
                                {
                                    "UGYFEL_FK": "bertalan",
                                    "nev": "Csiger Bertalan",
                                    "METTOL": "2016-11-26",
                                    "meddig": "2016-11-29",
                                    "(No column name)": "5"
                                },
                                {
                                    "UGYFEL_FK": "bertalan",
                                    "nev": "Csiger Bertalan",
                                    "METTOL": "2017-02-16",
                                    "meddig": "2017-02-22",
                                    "(No column name)": "6"
                                },
                                {
                                    "UGYFEL_FK": "bertalan",
                                    "nev": "Csiger Bertalan",
                                    "METTOL": "2017-02-20",
                                    "meddig": "2017-02-24",
                                    "(No column name)": "7"
                                },
                                {
                                    "UGYFEL_FK": "brigitta",
                                    "nev": "Székely Brigitta",
                                    "METTOL": "2016-05-30",
                                    "meddig": "2016-06-06",
                                    "(No column name)": "NULL"
                                },
                                {
                                    "UGYFEL_FK": "brigitta",
                                    "nev": "Székely Brigitta",
                                    "METTOL": "2016-08-28",
                                    "meddig": "2016-09-01",
                                    "(No column name)": "3"
                                },
                                {
                                    "UGYFEL_FK": "brigitta",
                                    "nev": "Székely Brigitta",
                                    "METTOL": "2016-10-21",
                                    "meddig": "2016-10-28",
                                    "(No column name)": "6"
                                },
                                {
                                    "UGYFEL_FK": "brigitta",
                                    "nev": "Székely Brigitta",
                                    "METTOL": "2016-12-17",
                                    "meddig": "2016-12-22",
                                    "(No column name)": "9"
                                },
                                {
                                    "UGYFEL_FK": "brigitta",
                                    "nev": "Székely Brigitta",
                                    "METTOL": "2017-01-23",
                                    "meddig": "2017-01-25",
                                    "(No column name)": "8"
                                },
                                {
                                    "UGYFEL_FK": "brigitta3",
                                    "nev": "Pataki Brigitta",
                                    "METTOL": "2016-06-01",
                                    "meddig": "2016-06-05",
                                    "(No column name)": "NULL"
                                },
                                {
                                    "UGYFEL_FK": "brigitta3",
                                    "nev": "Pataki Brigitta",
                                    "METTOL": "2016-06-13",
                                    "meddig": "2016-06-17",
                                    "(No column name)": "2"
                                },
                                {
                                    "UGYFEL_FK": "brigitta3",
                                    "nev": "Pataki Brigitta",
                                    "METTOL": "2016-10-10",
                                    "meddig": "2016-10-14",
                                    "(No column name)": "5"
                                },
                                {
                                    "UGYFEL_FK": "brigitta3",
                                    "nev": "Pataki Brigitta",
                                    "METTOL": "2016-11-03",
                                    "meddig": "2016-11-09",
                                    "(No column name)": "7"
                                },
                                {
                                    "UGYFEL_FK": "brigitta3",
                                    "nev": "Pataki Brigitta",
                                    "METTOL": "2017-02-09",
                                    "meddig": "2017-02-16",
                                    "(No column name)": "8"
                                },
                                {
                                    "UGYFEL_FK": "csongor3",
                                    "nev": "Nagymihály Csongor",
                                    "METTOL": "2016-05-01",
                                    "meddig": "2016-05-04",
                                    "(No column name)": "NULL"
                                },
                                {
                                    "UGYFEL_FK": "csongor3",
                                    "nev": "Nagymihály Csongor",
                                    "METTOL": "2016-05-08",
                                    "meddig": "2016-05-15",
                                    "(No column name)": "2"
                                },
                                {
                                    "UGYFEL_FK": "csongor3",
                                    "nev": "Nagymihály Csongor",
                                    "METTOL": "2016-06-04",
                                    "meddig": "2016-06-05",
                                    "(No column name)": "5"
                                },
                                {
                                    "UGYFEL_FK": "csongor3",
                                    "nev": "Nagymihály Csongor",
                                    "METTOL": "2016-06-10",
                                    "meddig": "2016-06-17",
                                    "(No column name)": "7"
                                },
                                {
                                    "UGYFEL_FK": "csongor3",
                                    "nev": "Nagymihály Csongor",
                                    "METTOL": "2016-06-11",
                                    "meddig": "2016-06-14",
                                    "(No column name)": "8"
                                },
                                {
                                    "UGYFEL_FK": "csongor3",
                                    "nev": "Nagymihály Csongor",
                                    "METTOL": "2016-07-09",
                                    "meddig": "2016-07-10",
                                    "(No column name)": "7"
                                },
                                {
                                    "UGYFEL_FK": "csongor3",
                                    "nev": "Nagymihály Csongor",
                                    "METTOL": "2016-11-12",
                                    "meddig": "2016-11-17",
                                    "(No column name)": "9"
                                },
                                {
                                    "UGYFEL_FK": "csongor3",
                                    "nev": "Nagymihály Csongor",
                                    "METTOL": "2017-02-13",
                                    "meddig": "2017-02-19",
                                    "(No column name)": "9"
                                },
                                {
                                    "UGYFEL_FK": "dani",
                                    "nev": "Vörös Dániel",
                                    "METTOL": "2016-06-06",
                                    "meddig": "2016-06-10",
                                    "(No column name)": "NULL"
                                },
                                {
                                    "UGYFEL_FK": "dani",
                                    "nev": "Vörös Dániel",
                                    "METTOL": "2016-07-11",
                                    "meddig": "2016-07-12",
                                    "(No column name)": "3"
                                },
                                {
                                    "UGYFEL_FK": "dani",
                                    "nev": "Vörös Dániel",
                                    "METTOL": "2016-08-06",
                                    "meddig": "2016-08-09",
                                    "(No column name)": "6"
                                },
                                {
                                    "UGYFEL_FK": "dani",
                                    "nev": "Vörös Dániel",
                                    "METTOL": "2016-09-19",
                                    "meddig": "2016-09-25",
                                    "(No column name)": "8"
                                },
                                {
                                    "UGYFEL_FK": "dani",
                                    "nev": "Vörös Dániel",
                                    "METTOL": "2016-10-01",
                                    "meddig": "2016-10-02",
                                    "(No column name)": "9"
                                },
                                {
                                    "UGYFEL_FK": "dani",
                                    "nev": "Vörös Dániel",
                                    "METTOL": "2016-11-22",
                                    "meddig": "2016-11-24",
                                    "(No column name)": "7"
                                },
                                {
                                    "UGYFEL_FK": "dani",
                                    "nev": "Vörös Dániel",
                                    "METTOL": "2017-01-17",
                                    "meddig": "2017-01-23",
                                    "(No column name)": "7"
                                },
                                {
                                    "UGYFEL_FK": "dani",
                                    "nev": "Vörös Dániel",
                                    "METTOL": "2017-01-22",
                                    "meddig": "2017-01-29",
                                    "(No column name)": "5"
                                },
                                {
                                    "UGYFEL_FK": "dani",
                                    "nev": "Vörös Dániel",
                                    "METTOL": "2017-02-25",
                                    "meddig": "2017-03-01",
                                    "(No column name)": "5"
                                },
                                {
                                    "UGYFEL_FK": "daniel",
                                    "nev": "Rácz Dániel",
                                    "METTOL": "2016-04-10",
                                    "meddig": "2016-04-11",
                                    "(No column name)": "NULL"
                                },
                                {
                                    "UGYFEL_FK": "daniel",
                                    "nev": "Rácz Dániel",
                                    "METTOL": "2016-04-22",
                                    "meddig": "2016-04-25",
                                    "(No column name)": "4"
                                },
                                {
                                    "UGYFEL_FK": "daniel",
                                    "nev": "Rácz Dániel",
                                    "METTOL": "2016-05-09",
                                    "meddig": "2016-05-13",
                                    "(No column name)": "6"
                                },
                                {
                                    "UGYFEL_FK": "daniel",
                                    "nev": "Rácz Dániel",
                                    "METTOL": "2016-09-08",
                                    "meddig": "2016-09-10",
                                    "(No column name)": "9"
                                },
                                {
                                    "UGYFEL_FK": "daniel",
                                    "nev": "Rácz Dániel",
                                    "METTOL": "2016-11-13",
                                    "meddig": "2016-11-19",
                                    "(No column name)": "9"
                                },
                                {
                                    "UGYFEL_FK": "daniel",
                                    "nev": "Rácz Dániel",
                                    "METTOL": "2016-12-25",
                                    "meddig": "2016-12-26",
                                    "(No column name)": "10"
                                },
                                {
                                    "UGYFEL_FK": "daniel",
                                    "nev": "Rácz Dániel",
                                    "METTOL": "2017-01-09",
                                    "meddig": "2017-01-11",
                                    "(No column name)": "10"
                                },
                                {
                                    "UGYFEL_FK": "daniel",
                                    "nev": "Rácz Dániel",
                                    "METTOL": "2017-02-12",
                                    "meddig": "2017-02-13",
                                    "(No column name)": "7"
                                },
                                {
                                    "UGYFEL_FK": "daniel",
                                    "nev": "Rácz Dániel",
                                    "METTOL": "2017-02-20",
                                    "meddig": "2017-02-23",
                                    "(No column name)": "7"
                                },
                                {
                                    "UGYFEL_FK": "daniel1",
                                    "nev": "Keszler Dániel",
                                    "METTOL": "2016-04-10",
                                    "meddig": "2016-04-15",
                                    "(No column name)": "NULL"
                                },
                                {
                                    "UGYFEL_FK": "daniel1",
                                    "nev": "Keszler Dániel",
                                    "METTOL": "2016-05-10",
                                    "meddig": "2016-05-13",
                                    "(No column name)": "2"
                                },
                                {
                                    "UGYFEL_FK": "daniel1",
                                    "nev": "Keszler Dániel",
                                    "METTOL": "2016-05-26",
                                    "meddig": "2016-05-27",
                                    "(No column name)": "6"
                                },
                                {
                                    "UGYFEL_FK": "daniel1",
                                    "nev": "Keszler Dániel",
                                    "METTOL": "2016-11-09",
                                    "meddig": "2016-11-11",
                                    "(No column name)": "9"
                                },
                                {
                                    "UGYFEL_FK": "daniel1",
                                    "nev": "Keszler Dániel",
                                    "METTOL": "2016-11-23",
                                    "meddig": "2016-11-25",
                                    "(No column name)": "9"
                                },
                                {
                                    "UGYFEL_FK": "daniel1",
                                    "nev": "Keszler Dániel",
                                    "METTOL": "2017-01-05",
                                    "meddig": "2017-01-08",
                                    "(No column name)": "7"
                                },
                                {
                                    "UGYFEL_FK": "daniel1",
                                    "nev": "Keszler Dániel",
                                    "METTOL": "2017-03-01",
                                    "meddig": "2017-03-06",
                                    "(No column name)": "7"
                                },
                                {
                                    "UGYFEL_FK": "david",
                                    "nev": "Ambrus Dávid",
                                    "METTOL": "2016-05-18",
                                    "meddig": "2016-05-25",
                                    "(No column name)": "NULL"
                                },
                                {
                                    "UGYFEL_FK": "david",
                                    "nev": "Ambrus Dávid",
                                    "METTOL": "2016-06-09",
                                    "meddig": "2016-06-10",
                                    "(No column name)": "2"
                                },
                                {
                                    "UGYFEL_FK": "david",
                                    "nev": "Ambrus Dávid",
                                    "METTOL": "2016-06-30",
                                    "meddig": "2016-07-07",
                                    "(No column name)": "4"
                                },
                                {
                                    "UGYFEL_FK": "david",
                                    "nev": "Ambrus Dávid",
                                    "METTOL": "2016-07-18",
                                    "meddig": "2016-07-21",
                                    "(No column name)": "6"
                                },
                                {
                                    "UGYFEL_FK": "david",
                                    "nev": "Ambrus Dávid",
                                    "METTOL": "2016-08-05",
                                    "meddig": "2016-08-12",
                                    "(No column name)": "6"
                                },
                                {
                                    "UGYFEL_FK": "david",
                                    "nev": "Ambrus Dávid",
                                    "METTOL": "2016-08-20",
                                    "meddig": "2016-08-25",
                                    "(No column name)": "5"
                                },
                                {
                                    "UGYFEL_FK": "david",
                                    "nev": "Ambrus Dávid",
                                    "METTOL": "2016-08-22",
                                    "meddig": "2016-08-24",
                                    "(No column name)": "6"
                                },
                                {
                                    "UGYFEL_FK": "david",
                                    "nev": "Ambrus Dávid",
                                    "METTOL": "2016-10-30",
                                    "meddig": "2016-11-04",
                                    "(No column name)": "7"
                                },
                                {
                                    "UGYFEL_FK": "david",
                                    "nev": "Ambrus Dávid",
                                    "METTOL": "2017-01-18",
                                    "meddig": "2017-01-19",
                                    "(No column name)": "8"
                                },
                                {
                                    "UGYFEL_FK": "david1",
                                    "nev": "Sobják Dávid",
                                    "METTOL": "2016-09-20",
                                    "meddig": "2016-09-21",
                                    "(No column name)": "NULL"
                                },
                                {
                                    "UGYFEL_FK": "david1",
                                    "nev": "Sobják Dávid",
                                    "METTOL": "2016-10-01",
                                    "meddig": "2016-10-02",
                                    "(No column name)": "2"
                                },
                                {
                                    "UGYFEL_FK": "david1",
                                    "nev": "Sobják Dávid",
                                    "METTOL": "2016-11-19",
                                    "meddig": "2016-11-22",
                                    "(No column name)": "4"
                                },
                                {
                                    "UGYFEL_FK": "david1",
                                    "nev": "Sobják Dávid",
                                    "METTOL": "2016-12-30",
                                    "meddig": "2017-01-06",
                                    "(No column name)": "6"
                                },
                                {
                                    "UGYFEL_FK": "david1",
                                    "nev": "Sobják Dávid",
                                    "METTOL": "2017-02-17",
                                    "meddig": "2017-02-20",
                                    "(No column name)": "6"
                                },
                                {
                                    "UGYFEL_FK": "david1",
                                    "nev": "Sobják Dávid",
                                    "METTOL": "2017-02-25",
                                    "meddig": "2017-02-27",
                                    "(No column name)": "7"
                                },
                                {
                                    "UGYFEL_FK": "david4",
                                    "nev": "Berta Dávid",
                                    "METTOL": "2017-02-16",
                                    "meddig": "2017-02-19",
                                    "(No column name)": "NULL"
                                },
                                {
                                    "UGYFEL_FK": "debora",
                                    "nev": "Barna Debóra",
                                    "METTOL": "2016-06-22",
                                    "meddig": "2016-06-24",
                                    "(No column name)": "NULL"
                                },
                                {
                                    "UGYFEL_FK": "debora",
                                    "nev": "Barna Debóra",
                                    "METTOL": "2016-10-29",
                                    "meddig": "2016-11-03",
                                    "(No column name)": "5"
                                },
                                {
                                    "UGYFEL_FK": "debora",
                                    "nev": "Barna Debóra",
                                    "METTOL": "2017-01-23",
                                    "meddig": "2017-01-28",
                                    "(No column name)": "7"
                                },
                                {
                                    "UGYFEL_FK": "debora",
                                    "nev": "Barna Debóra",
                                    "METTOL": "2017-02-04",
                                    "meddig": "2017-02-06",
                                    "(No column name)": "10"
                                },
                                {
                                    "UGYFEL_FK": "denes",
                                    "nev": "Tömböly Dénes",
                                    "METTOL": "2016-05-27",
                                    "meddig": "2016-05-31",
                                    "(No column name)": "NULL"
                                },
                                {
                                    "UGYFEL_FK": "denes",
                                    "nev": "Tömböly Dénes",
                                    "METTOL": "2016-07-19",
                                    "meddig": "2016-07-23",
                                    "(No column name)": "3"
                                },
                                {
                                    "UGYFEL_FK": "denes",
                                    "nev": "Tömböly Dénes",
                                    "METTOL": "2016-08-01",
                                    "meddig": "2016-08-08",
                                    "(No column name)": "5"
                                },
                                {
                                    "UGYFEL_FK": "denes",
                                    "nev": "Tömböly Dénes",
                                    "METTOL": "2016-08-16",
                                    "meddig": "2016-08-23",
                                    "(No column name)": "8"
                                },
                                {
                                    "UGYFEL_FK": "denes",
                                    "nev": "Tömböly Dénes",
                                    "METTOL": "2016-08-20",
                                    "meddig": "2016-08-27",
                                    "(No column name)": "7"
                                },
                                {
                                    "UGYFEL_FK": "denes",
                                    "nev": "Tömböly Dénes",
                                    "METTOL": "2016-11-06",
                                    "meddig": "2016-11-10",
                                    "(No column name)": "8"
                                },
                                {
                                    "UGYFEL_FK": "dora3",
                                    "nev": "Sarodi Dóra",
                                    "METTOL": "2016-08-16",
                                    "meddig": "2016-08-19",
                                    "(No column name)": "NULL"
                                },
                                {
                                    "UGYFEL_FK": "dora3",
                                    "nev": "Sarodi Dóra",
                                    "METTOL": "2016-08-25",
                                    "meddig": "2016-08-29",
                                    "(No column name)": "4"
                                },
                                {
                                    "UGYFEL_FK": "dora3",
                                    "nev": "Sarodi Dóra",
                                    "METTOL": "2016-10-09",
                                    "meddig": "2016-10-12",
                                    "(No column name)": "7"
                                },
                                {
                                    "UGYFEL_FK": "dora3",
                                    "nev": "Sarodi Dóra",
                                    "METTOL": "2016-10-29",
                                    "meddig": "2016-11-02",
                                    "(No column name)": "10"
                                },
                                {
                                    "UGYFEL_FK": "dora3",
                                    "nev": "Sarodi Dóra",
                                    "METTOL": "2016-11-22",
                                    "meddig": "2016-11-29",
                                    "(No column name)": "9"
                                },
                                {
                                    "UGYFEL_FK": "edit",
                                    "nev": "Bittmann Edit",
                                    "METTOL": "2016-07-14",
                                    "meddig": "2016-07-17",
                                    "(No column name)": "NULL"
                                },
                                {
                                    "UGYFEL_FK": "edit",
                                    "nev": "Bittmann Edit",
                                    "METTOL": "2016-08-03",
                                    "meddig": "2016-08-09",
                                    "(No column name)": "3"
                                },
                                {
                                    "UGYFEL_FK": "edit",
                                    "nev": "Bittmann Edit",
                                    "METTOL": "2016-08-12",
                                    "meddig": "2016-08-14",
                                    "(No column name)": "7"
                                },
                                {
                                    "UGYFEL_FK": "edit",
                                    "nev": "Bittmann Edit",
                                    "METTOL": "2016-09-17",
                                    "meddig": "2016-09-24",
                                    "(No column name)": "9"
                                },
                                {
                                    "UGYFEL_FK": "edit",
                                    "nev": "Bittmann Edit",
                                    "METTOL": "2016-09-18",
                                    "meddig": "2016-09-21",
                                    "(No column name)": "8"
                                },
                                {
                                    "UGYFEL_FK": "edit",
                                    "nev": "Bittmann Edit",
                                    "METTOL": "2017-01-15",
                                    "meddig": "2017-01-18",
                                    "(No column name)": "7"
                                },
                                {
                                    "UGYFEL_FK": "edit",
                                    "nev": "Bittmann Edit",
                                    "METTOL": "2017-02-08",
                                    "meddig": "2017-02-14",
                                    "(No column name)": "9"
                                },
                                {
                                    "UGYFEL_FK": "emese",
                                    "nev": "Kuruc Emese",
                                    "METTOL": "2016-07-22",
                                    "meddig": "2016-07-24",
                                    "(No column name)": "NULL"
                                },
                                {
                                    "UGYFEL_FK": "emese",
                                    "nev": "Kuruc Emese",
                                    "METTOL": "2016-08-09",
                                    "meddig": "2016-08-12",
                                    "(No column name)": "2"
                                },
                                {
                                    "UGYFEL_FK": "emese",
                                    "nev": "Kuruc Emese",
                                    "METTOL": "2016-09-27",
                                    "meddig": "2016-09-28",
                                    "(No column name)": "4"
                                },
                                {
                                    "UGYFEL_FK": "emese",
                                    "nev": "Kuruc Emese",
                                    "METTOL": "2016-11-05",
                                    "meddig": "2016-11-09",
                                    "(No column name)": "7"
                                },
                                {
                                    "UGYFEL_FK": "emese",
                                    "nev": "Kuruc Emese",
                                    "METTOL": "2016-11-23",
                                    "meddig": "2016-11-27",
                                    "(No column name)": "6"
                                },
                                {
                                    "UGYFEL_FK": "emese",
                                    "nev": "Kuruc Emese",
                                    "METTOL": "2016-12-07",
                                    "meddig": "2016-12-08",
                                    "(No column name)": "8"
                                },
                                {
                                    "UGYFEL_FK": "emese",
                                    "nev": "Kuruc Emese",
                                    "METTOL": "2017-01-30",
                                    "meddig": "2017-01-31",
                                    "(No column name)": "8"
                                },
                                {
                                    "UGYFEL_FK": "eszter",
                                    "nev": "Molnár Eszter",
                                    "METTOL": "2016-08-12",
                                    "meddig": "2016-08-18",
                                    "(No column name)": "NULL"
                                },
                                {
                                    "UGYFEL_FK": "eszter",
                                    "nev": "Molnár Eszter",
                                    "METTOL": "2016-10-04",
                                    "meddig": "2016-10-10",
                                    "(No column name)": "3"
                                },
                                {
                                    "UGYFEL_FK": "eszter",
                                    "nev": "Molnár Eszter",
                                    "METTOL": "2016-10-26",
                                    "meddig": "2016-11-01",
                                    "(No column name)": "6"
                                },
                                {
                                    "UGYFEL_FK": "eszter",
                                    "nev": "Molnár Eszter",
                                    "METTOL": "2016-12-23",
                                    "meddig": "2016-12-28",
                                    "(No column name)": "9"
                                },
                                {
                                    "UGYFEL_FK": "eszter2",
                                    "nev": "Balogh Eszter",
                                    "METTOL": "2016-06-30",
                                    "meddig": "2016-07-07",
                                    "(No column name)": "NULL"
                                },
                                {
                                    "UGYFEL_FK": "eszter2",
                                    "nev": "Balogh Eszter",
                                    "METTOL": "2016-07-08",
                                    "meddig": "2016-07-09",
                                    "(No column name)": "3"
                                },
                                {
                                    "UGYFEL_FK": "eszter2",
                                    "nev": "Balogh Eszter",
                                    "METTOL": "2016-10-01",
                                    "meddig": "2016-10-05",
                                    "(No column name)": "4"
                                },
                                {
                                    "UGYFEL_FK": "eszter2",
                                    "nev": "Balogh Eszter",
                                    "METTOL": "2016-10-01",
                                    "meddig": "2016-10-06",
                                    "(No column name)": "7"
                                },
                                {
                                    "UGYFEL_FK": "eszter2",
                                    "nev": "Balogh Eszter",
                                    "METTOL": "2016-10-20",
                                    "meddig": "2016-10-25",
                                    "(No column name)": "5"
                                },
                                {
                                    "UGYFEL_FK": "eszter2",
                                    "nev": "Balogh Eszter",
                                    "METTOL": "2016-10-23",
                                    "meddig": "2016-10-30",
                                    "(No column name)": "5"
                                },
                                {
                                    "UGYFEL_FK": "eszter2",
                                    "nev": "Balogh Eszter",
                                    "METTOL": "2016-11-05",
                                    "meddig": "2016-11-12",
                                    "(No column name)": "3"
                                },
                                {
                                    "UGYFEL_FK": "eszter2",
                                    "nev": "Balogh Eszter",
                                    "METTOL": "2016-12-02",
                                    "meddig": "2016-12-07",
                                    "(No column name)": "6"
                                },
                                {
                                    "UGYFEL_FK": "eszter2",
                                    "nev": "Balogh Eszter",
                                    "METTOL": "2016-12-05",
                                    "meddig": "2016-12-08",
                                    "(No column name)": "6"
                                },
                                {
                                    "UGYFEL_FK": "eszter2",
                                    "nev": "Balogh Eszter",
                                    "METTOL": "2016-12-29",
                                    "meddig": "2017-02-04",
                                    "(No column name)": "7"
                                },
                                {
                                    "UGYFEL_FK": "eszter4",
                                    "nev": "Fülöp Eszter",
                                    "METTOL": "2017-01-05",
                                    "meddig": "2017-01-10",
                                    "(No column name)": "NULL"
                                },
                                {
                                    "UGYFEL_FK": "eszter4",
                                    "nev": "Fülöp Eszter",
                                    "METTOL": "2017-01-26",
                                    "meddig": "2017-02-02",
                                    "(No column name)": "2"
                                },
                                {
                                    "UGYFEL_FK": "eszter4",
                                    "nev": "Fülöp Eszter",
                                    "METTOL": "2017-02-26",
                                    "meddig": "2017-02-27",
                                    "(No column name)": "4"
                                },
                                {
                                    "UGYFEL_FK": "ESZTERE",
                                    "nev": "Érsek Eszter",
                                    "METTOL": "2016-05-30",
                                    "meddig": "2016-06-05",
                                    "(No column name)": "NULL"
                                },
                                {
                                    "UGYFEL_FK": "ESZTERE",
                                    "nev": "Érsek Eszter",
                                    "METTOL": "2016-07-19",
                                    "meddig": "2016-07-21",
                                    "(No column name)": "2"
                                },
                                {
                                    "UGYFEL_FK": "ESZTERE",
                                    "nev": "Érsek Eszter",
                                    "METTOL": "2016-11-01",
                                    "meddig": "2016-11-08",
                                    "(No column name)": "4"
                                },
                                {
                                    "UGYFEL_FK": "ESZTERE",
                                    "nev": "Érsek Eszter",
                                    "METTOL": "2017-02-10",
                                    "meddig": "2017-02-14",
                                    "(No column name)": "6"
                                },
                                {
                                    "UGYFEL_FK": "eva",
                                    "nev": "Enyedi Éva",
                                    "METTOL": "2016-10-06",
                                    "meddig": "2016-10-09",
                                    "(No column name)": "NULL"
                                },
                                {
                                    "UGYFEL_FK": "eva",
                                    "nev": "Enyedi Éva",
                                    "METTOL": "2017-01-14",
                                    "meddig": "2017-01-16",
                                    "(No column name)": "3"
                                },
                                {
                                    "UGYFEL_FK": "eva2",
                                    "nev": "Perlinger Éva",
                                    "METTOL": "2016-09-02",
                                    "meddig": "2016-09-03",
                                    "(No column name)": "NULL"
                                },
                                {
                                    "UGYFEL_FK": "eva2",
                                    "nev": "Perlinger Éva",
                                    "METTOL": "2016-11-06",
                                    "meddig": "2016-11-13",
                                    "(No column name)": "1"
                                },
                                {
                                    "UGYFEL_FK": "eva2",
                                    "nev": "Perlinger Éva",
                                    "METTOL": "2016-12-06",
                                    "meddig": "2016-12-11",
                                    "(No column name)": "3"
                                },
                                {
                                    "UGYFEL_FK": "eva2",
                                    "nev": "Perlinger Éva",
                                    "METTOL": "2017-01-06",
                                    "meddig": "2017-01-09",
                                    "(No column name)": "5"
                                },
                                {
                                    "UGYFEL_FK": "EVAV",
                                    "nev": "Viktor Éva",
                                    "METTOL": "2016-05-01",
                                    "meddig": "2016-05-05",
                                    "(No column name)": "NULL"
                                },
                                {
                                    "UGYFEL_FK": "EVAV",
                                    "nev": "Viktor Éva",
                                    "METTOL": "2016-08-31",
                                    "meddig": "2016-09-04",
                                    "(No column name)": "3"
                                },
                                {
                                    "UGYFEL_FK": "EVAV",
                                    "nev": "Viktor Éva",
                                    "METTOL": "2016-10-15",
                                    "meddig": "2016-10-21",
                                    "(No column name)": "5"
                                },
                                {
                                    "UGYFEL_FK": "EVAV",
                                    "nev": "Viktor Éva",
                                    "METTOL": "2016-10-16",
                                    "meddig": "2016-10-23",
                                    "(No column name)": "8"
                                },
                                {
                                    "UGYFEL_FK": "EVAV",
                                    "nev": "Viktor Éva",
                                    "METTOL": "2017-02-04",
                                    "meddig": "2017-02-11",
                                    "(No column name)": "7"
                                },
                                {
                                    "UGYFEL_FK": "ferenc1",
                                    "nev": "Orosz Ferenc",
                                    "METTOL": "2016-05-08",
                                    "meddig": "2016-05-11",
                                    "(No column name)": "NULL"
                                },
                                {
                                    "UGYFEL_FK": "ferenc1",
                                    "nev": "Orosz Ferenc",
                                    "METTOL": "2016-06-16",
                                    "meddig": "2016-06-22",
                                    "(No column name)": "2"
                                },
                                {
                                    "UGYFEL_FK": "ferenc1",
                                    "nev": "Orosz Ferenc",
                                    "METTOL": "2016-10-08",
                                    "meddig": "2016-10-09",
                                    "(No column name)": "4"
                                },
                                {
                                    "UGYFEL_FK": "ferenc1",
                                    "nev": "Orosz Ferenc",
                                    "METTOL": "2016-11-07",
                                    "meddig": "2016-11-08",
                                    "(No column name)": "6"
                                },
                                {
                                    "UGYFEL_FK": "fruzsina4",
                                    "nev": "Frank Fruzsina",
                                    "METTOL": "2016-06-02",
                                    "meddig": "2016-06-04",
                                    "(No column name)": "NULL"
                                },
                                {
                                    "UGYFEL_FK": "fruzsina4",
                                    "nev": "Frank Fruzsina",
                                    "METTOL": "2016-07-01",
                                    "meddig": "2016-07-04",
                                    "(No column name)": "2"
                                },
                                {
                                    "UGYFEL_FK": "fruzsina4",
                                    "nev": "Frank Fruzsina",
                                    "METTOL": "2016-07-13",
                                    "meddig": "2016-07-19",
                                    "(No column name)": "5"
                                },
                                {
                                    "UGYFEL_FK": "fruzsina4",
                                    "nev": "Frank Fruzsina",
                                    "METTOL": "2016-08-27",
                                    "meddig": "2016-08-30",
                                    "(No column name)": "8"
                                },
                                {
                                    "UGYFEL_FK": "fruzsina4",
                                    "nev": "Frank Fruzsina",
                                    "METTOL": "2016-09-29",
                                    "meddig": "2016-10-01",
                                    "(No column name)": "10"
                                },
                                {
                                    "UGYFEL_FK": "fruzsina4",
                                    "nev": "Frank Fruzsina",
                                    "METTOL": "2016-11-22",
                                    "meddig": "2016-11-24",
                                    "(No column name)": "10"
                                },
                                {
                                    "UGYFEL_FK": "fruzsina4",
                                    "nev": "Frank Fruzsina",
                                    "METTOL": "2016-12-16",
                                    "meddig": "2016-12-21",
                                    "(No column name)": "9"
                                },
                                {
                                    "UGYFEL_FK": "fruzsina4",
                                    "nev": "Frank Fruzsina",
                                    "METTOL": "2017-01-22",
                                    "meddig": "2017-01-25",
                                    "(No column name)": "6"
                                },
                                {
                                    "UGYFEL_FK": "gabor1",
                                    "nev": "Köves Gábor",
                                    "METTOL": "2016-06-20",
                                    "meddig": "2016-06-21",
                                    "(No column name)": "NULL"
                                },
                                {
                                    "UGYFEL_FK": "gabor1",
                                    "nev": "Köves Gábor",
                                    "METTOL": "2016-07-12",
                                    "meddig": "2016-07-15",
                                    "(No column name)": "4"
                                },
                                {
                                    "UGYFEL_FK": "gabor1",
                                    "nev": "Köves Gábor",
                                    "METTOL": "2016-07-28",
                                    "meddig": "2016-07-30",
                                    "(No column name)": "5"
                                },
                                {
                                    "UGYFEL_FK": "gabor1",
                                    "nev": "Köves Gábor",
                                    "METTOL": "2016-09-02",
                                    "meddig": "2016-09-03",
                                    "(No column name)": "7"
                                },
                                {
                                    "UGYFEL_FK": "gabor1",
                                    "nev": "Köves Gábor",
                                    "METTOL": "2016-10-20",
                                    "meddig": "2016-10-24",
                                    "(No column name)": "6"
                                },
                                {
                                    "UGYFEL_FK": "gabor1",
                                    "nev": "Köves Gábor",
                                    "METTOL": "2016-11-19",
                                    "meddig": "2016-11-22",
                                    "(No column name)": "6"
                                },
                                {
                                    "UGYFEL_FK": "gabor4",
                                    "nev": "Telek Gábor",
                                    "METTOL": "2016-04-26",
                                    "meddig": "2016-04-29",
                                    "(No column name)": "NULL"
                                },
                                {
                                    "UGYFEL_FK": "gabor4",
                                    "nev": "Telek Gábor",
                                    "METTOL": "2016-05-30",
                                    "meddig": "2016-06-05",
                                    "(No column name)": "3"
                                },
                                {
                                    "UGYFEL_FK": "gabor4",
                                    "nev": "Telek Gábor",
                                    "METTOL": "2016-08-31",
                                    "meddig": "2016-09-06",
                                    "(No column name)": "4"
                                },
                                {
                                    "UGYFEL_FK": "gabor4",
                                    "nev": "Telek Gábor",
                                    "METTOL": "2016-11-07",
                                    "meddig": "2016-11-13",
                                    "(No column name)": "8"
                                },
                                {
                                    "UGYFEL_FK": "gabriella1",
                                    "nev": "Nagy Gabriella",
                                    "METTOL": "2016-04-21",
                                    "meddig": "2016-04-24",
                                    "(No column name)": "NULL"
                                },
                                {
                                    "UGYFEL_FK": "gabriella1",
                                    "nev": "Nagy Gabriella",
                                    "METTOL": "2016-07-10",
                                    "meddig": "2016-07-11",
                                    "(No column name)": "3"
                                },
                                {
                                    "UGYFEL_FK": "gabriella1",
                                    "nev": "Nagy Gabriella",
                                    "METTOL": "2016-07-24",
                                    "meddig": "2016-07-31",
                                    "(No column name)": "6"
                                },
                                {
                                    "UGYFEL_FK": "gabriella1",
                                    "nev": "Nagy Gabriella",
                                    "METTOL": "2017-02-04",
                                    "meddig": "2017-02-11",
                                    "(No column name)": "8"
                                },
                                {
                                    "UGYFEL_FK": "gabriella1",
                                    "nev": "Nagy Gabriella",
                                    "METTOL": "2017-02-12",
                                    "meddig": "2017-02-13",
                                    "(No column name)": "8"
                                },
                                {
                                    "UGYFEL_FK": "gabriella1",
                                    "nev": "Nagy Gabriella",
                                    "METTOL": "2017-02-21",
                                    "meddig": "2017-02-27",
                                    "(No column name)": "7"
                                },
                                {
                                    "UGYFEL_FK": "gabriella10",
                                    "nev": "Vida Gabriella",
                                    "METTOL": "2016-10-01",
                                    "meddig": "2016-10-06",
                                    "(No column name)": "NULL"
                                },
                                {
                                    "UGYFEL_FK": "georgij",
                                    "nev": "Nyíri Georgij",
                                    "METTOL": "2016-06-16",
                                    "meddig": "2016-06-20",
                                    "(No column name)": "NULL"
                                },
                                {
                                    "UGYFEL_FK": "georgij",
                                    "nev": "Nyíri Georgij",
                                    "METTOL": "2016-08-16",
                                    "meddig": "2016-08-22",
                                    "(No column name)": "3"
                                },
                                {
                                    "UGYFEL_FK": "georgij",
                                    "nev": "Nyíri Georgij",
                                    "METTOL": "2016-08-28",
                                    "meddig": "2016-09-04",
                                    "(No column name)": "7"
                                },
                                {
                                    "UGYFEL_FK": "georgij",
                                    "nev": "Nyíri Georgij",
                                    "METTOL": "2016-09-18",
                                    "meddig": "2016-09-24",
                                    "(No column name)": "9"
                                },
                                {
                                    "UGYFEL_FK": "gusztav",
                                    "nev": "Bárci Gusztáv",
                                    "METTOL": "2016-05-06",
                                    "meddig": "2016-05-13",
                                    "(No column name)": "NULL"
                                },
                                {
                                    "UGYFEL_FK": "gusztav",
                                    "nev": "Bárci Gusztáv",
                                    "METTOL": "2016-08-05",
                                    "meddig": "2016-08-11",
                                    "(No column name)": "2"
                                },
                                {
                                    "UGYFEL_FK": "gusztav",
                                    "nev": "Bárci Gusztáv",
                                    "METTOL": "2016-10-01",
                                    "meddig": "2016-10-03",
                                    "(No column name)": "5"
                                },
                                {
                                    "UGYFEL_FK": "gusztav",
                                    "nev": "Bárci Gusztáv",
                                    "METTOL": "2017-02-03",
                                    "meddig": "2017-02-09",
                                    "(No column name)": "8"
                                },
                                {
                                    "UGYFEL_FK": "gusztav",
                                    "nev": "Bárci Gusztáv",
                                    "METTOL": "2017-02-23",
                                    "meddig": "2017-03-01",
                                    "(No column name)": "8"
                                },
                                {
                                    "UGYFEL_FK": "GYONGYIK",
                                    "nev": "Kornseé Gyöngyi",
                                    "METTOL": "2016-06-02",
                                    "meddig": "2016-06-05",
                                    "(No column name)": "NULL"
                                },
                                {
                                    "UGYFEL_FK": "GYONGYIK",
                                    "nev": "Kornseé Gyöngyi",
                                    "METTOL": "2016-06-10",
                                    "meddig": "2016-06-17",
                                    "(No column name)": "3"
                                },
                                {
                                    "UGYFEL_FK": "GYONGYIK",
                                    "nev": "Kornseé Gyöngyi",
                                    "METTOL": "2016-07-01",
                                    "meddig": "2016-07-05",
                                    "(No column name)": "4"
                                },
                                {
                                    "UGYFEL_FK": "GYONGYIK",
                                    "nev": "Kornseé Gyöngyi",
                                    "METTOL": "2016-08-17",
                                    "meddig": "2016-08-21",
                                    "(No column name)": "6"
                                },
                                {
                                    "UGYFEL_FK": "GYONGYIK",
                                    "nev": "Kornseé Gyöngyi",
                                    "METTOL": "2016-11-08",
                                    "meddig": "2016-11-13",
                                    "(No column name)": "6"
                                },
                                {
                                    "UGYFEL_FK": "GYONGYIK",
                                    "nev": "Kornseé Gyöngyi",
                                    "METTOL": "2016-12-01",
                                    "meddig": "2016-12-08",
                                    "(No column name)": "7"
                                },
                                {
                                    "UGYFEL_FK": "GYONGYIK",
                                    "nev": "Kornseé Gyöngyi",
                                    "METTOL": "2017-01-22",
                                    "meddig": "2017-01-29",
                                    "(No column name)": "7"
                                },
                                {
                                    "UGYFEL_FK": "GYORGYO",
                                    "nev": "Oroszi György",
                                    "METTOL": "2016-05-27",
                                    "meddig": "2016-05-28",
                                    "(No column name)": "NULL"
                                },
                                {
                                    "UGYFEL_FK": "GYORGYO",
                                    "nev": "Oroszi György",
                                    "METTOL": "2016-06-01",
                                    "meddig": "2016-06-07",
                                    "(No column name)": "3"
                                },
                                {
                                    "UGYFEL_FK": "GYORGYO",
                                    "nev": "Oroszi György",
                                    "METTOL": "2016-06-10",
                                    "meddig": "2016-06-15",
                                    "(No column name)": "5"
                                },
                                {
                                    "UGYFEL_FK": "GYORGYO",
                                    "nev": "Oroszi György",
                                    "METTOL": "2016-07-18",
                                    "meddig": "2016-07-25",
                                    "(No column name)": "7"
                                },
                                {
                                    "UGYFEL_FK": "GYORGYO",
                                    "nev": "Oroszi György",
                                    "METTOL": "2016-07-28",
                                    "meddig": "2016-08-03",
                                    "(No column name)": "6"
                                },
                                {
                                    "UGYFEL_FK": "GYORGYO",
                                    "nev": "Oroszi György",
                                    "METTOL": "2016-10-28",
                                    "meddig": "2016-10-31",
                                    "(No column name)": "7"
                                },
                                {
                                    "UGYFEL_FK": "GYORGYO",
                                    "nev": "Oroszi György",
                                    "METTOL": "2017-02-13",
                                    "meddig": "2017-02-15",
                                    "(No column name)": "6"
                                },
                                {
                                    "UGYFEL_FK": "GYORGYO",
                                    "nev": "Oroszi György",
                                    "METTOL": "2017-02-24",
                                    "meddig": "2017-02-25",
                                    "(No column name)": "6"
                                },
                                {
                                    "UGYFEL_FK": "henrik3",
                                    "nev": "Nádudvari Henrik",
                                    "METTOL": "2016-08-24",
                                    "meddig": "2016-08-28",
                                    "(No column name)": "NULL"
                                },
                                {
                                    "UGYFEL_FK": "henrik3",
                                    "nev": "Nádudvari Henrik",
                                    "METTOL": "2016-12-29",
                                    "meddig": "2017-01-03",
                                    "(No column name)": "1"
                                },
                                {
                                    "UGYFEL_FK": "henrik3",
                                    "nev": "Nádudvari Henrik",
                                    "METTOL": "2017-01-27",
                                    "meddig": "2017-01-28",
                                    "(No column name)": "4"
                                },
                                {
                                    "UGYFEL_FK": "IBOLYAA",
                                    "nev": "Andor Ibolya",
                                    "METTOL": "2016-08-29",
                                    "meddig": "2016-08-31",
                                    "(No column name)": "NULL"
                                },
                                {
                                    "UGYFEL_FK": "IBOLYAA",
                                    "nev": "Andor Ibolya",
                                    "METTOL": "2016-10-23",
                                    "meddig": "2016-10-28",
                                    "(No column name)": "5"
                                },
                                {
                                    "UGYFEL_FK": "IBOLYAA",
                                    "nev": "Andor Ibolya",
                                    "METTOL": "2017-01-17",
                                    "meddig": "2017-01-23",
                                    "(No column name)": "7"
                                },
                                {
                                    "UGYFEL_FK": "ilona3",
                                    "nev": "Bosnyák Ilona",
                                    "METTOL": "2016-07-31",
                                    "meddig": "2016-08-06",
                                    "(No column name)": "NULL"
                                },
                                {
                                    "UGYFEL_FK": "ilona3",
                                    "nev": "Bosnyák Ilona",
                                    "METTOL": "2016-08-04",
                                    "meddig": "2016-08-08",
                                    "(No column name)": "2"
                                },
                                {
                                    "UGYFEL_FK": "ilona3",
                                    "nev": "Bosnyák Ilona",
                                    "METTOL": "2016-11-04",
                                    "meddig": "2016-11-06",
                                    "(No column name)": "5"
                                },
                                {
                                    "UGYFEL_FK": "ilona3",
                                    "nev": "Bosnyák Ilona",
                                    "METTOL": "2016-12-25",
                                    "meddig": "2016-12-31",
                                    "(No column name)": "9"
                                },
                                {
                                    "UGYFEL_FK": "imre",
                                    "nev": "Búza Imre",
                                    "METTOL": "2016-09-17",
                                    "meddig": "2016-09-19",
                                    "(No column name)": "NULL"
                                },
                                {
                                    "UGYFEL_FK": "imre",
                                    "nev": "Búza Imre",
                                    "METTOL": "2016-10-28",
                                    "meddig": "2016-10-29",
                                    "(No column name)": "3"
                                },
                                {
                                    "UGYFEL_FK": "imre1",
                                    "nev": "Papp Imre",
                                    "METTOL": "2016-06-23",
                                    "meddig": "2016-06-26",
                                    "(No column name)": "NULL"
                                },
                                {
                                    "UGYFEL_FK": "imre1",
                                    "nev": "Papp Imre",
                                    "METTOL": "2016-06-27",
                                    "meddig": "2016-06-28",
                                    "(No column name)": "4"
                                },
                                {
                                    "UGYFEL_FK": "imre1",
                                    "nev": "Papp Imre",
                                    "METTOL": "2016-08-21",
                                    "meddig": "2016-08-27",
                                    "(No column name)": "6"
                                },
                                {
                                    "UGYFEL_FK": "imre1",
                                    "nev": "Papp Imre",
                                    "METTOL": "2016-08-23",
                                    "meddig": "2016-08-25",
                                    "(No column name)": "8"
                                },
                                {
                                    "UGYFEL_FK": "imre1",
                                    "nev": "Papp Imre",
                                    "METTOL": "2016-08-29",
                                    "meddig": "2016-08-31",
                                    "(No column name)": "7"
                                },
                                {
                                    "UGYFEL_FK": "imre1",
                                    "nev": "Papp Imre",
                                    "METTOL": "2017-02-01",
                                    "meddig": "2017-02-04",
                                    "(No column name)": "7"
                                },
                                {
                                    "UGYFEL_FK": "imre1",
                                    "nev": "Papp Imre",
                                    "METTOL": "2017-02-05",
                                    "meddig": "2017-02-07",
                                    "(No column name)": "7"
                                },
                                {
                                    "UGYFEL_FK": "istvan",
                                    "nev": "Soós István",
                                    "METTOL": "2016-10-07",
                                    "meddig": "2016-10-10",
                                    "(No column name)": "NULL"
                                },
                                {
                                    "UGYFEL_FK": "istvan",
                                    "nev": "Soós István",
                                    "METTOL": "2016-11-22",
                                    "meddig": "2016-11-24",
                                    "(No column name)": "2"
                                },
                                {
                                    "UGYFEL_FK": "istvan",
                                    "nev": "Soós István",
                                    "METTOL": "2017-01-02",
                                    "meddig": "2017-01-05",
                                    "(No column name)": "5"
                                },
                                {
                                    "UGYFEL_FK": "istvan1",
                                    "nev": "Vizi István",
                                    "METTOL": "2016-04-16",
                                    "meddig": "2016-04-22",
                                    "(No column name)": "NULL"
                                },
                                {
                                    "UGYFEL_FK": "istvan1",
                                    "nev": "Vizi István",
                                    "METTOL": "2016-04-24",
                                    "meddig": "2016-04-28",
                                    "(No column name)": "3"
                                },
                                {
                                    "UGYFEL_FK": "istvan1",
                                    "nev": "Vizi István",
                                    "METTOL": "2016-07-19",
                                    "meddig": "2016-07-24",
                                    "(No column name)": "6"
                                },
                                {
                                    "UGYFEL_FK": "istvan1",
                                    "nev": "Vizi István",
                                    "METTOL": "2017-02-07",
                                    "meddig": "2017-02-10",
                                    "(No column name)": "7"
                                },
                                {
                                    "UGYFEL_FK": "ISTVANV",
                                    "nev": "Varga István",
                                    "METTOL": "2016-07-01",
                                    "meddig": "2016-07-04",
                                    "(No column name)": "NULL"
                                },
                                {
                                    "UGYFEL_FK": "ISTVANV",
                                    "nev": "Varga István",
                                    "METTOL": "2016-09-29",
                                    "meddig": "2016-10-01",
                                    "(No column name)": "4"
                                },
                                {
                                    "UGYFEL_FK": "janos3",
                                    "nev": "Harangozó János",
                                    "METTOL": "2016-06-04",
                                    "meddig": "2016-06-06",
                                    "(No column name)": "NULL"
                                },
                                {
                                    "UGYFEL_FK": "janos3",
                                    "nev": "Harangozó János",
                                    "METTOL": "2016-08-24",
                                    "meddig": "2016-08-25",
                                    "(No column name)": "1"
                                },
                                {
                                    "UGYFEL_FK": "janos3",
                                    "nev": "Harangozó János",
                                    "METTOL": "2016-10-03",
                                    "meddig": "2016-10-08",
                                    "(No column name)": "4"
                                },
                                {
                                    "UGYFEL_FK": "janos3",
                                    "nev": "Harangozó János",
                                    "METTOL": "2016-10-22",
                                    "meddig": "2016-10-23",
                                    "(No column name)": "7"
                                },
                                {
                                    "UGYFEL_FK": "janos3",
                                    "nev": "Harangozó János",
                                    "METTOL": "2017-02-12",
                                    "meddig": "2017-02-14",
                                    "(No column name)": "7"
                                },
                                {
                                    "UGYFEL_FK": "JANOSG",
                                    "nev": "Giliga János",
                                    "METTOL": "2016-05-09",
                                    "meddig": "2016-05-15",
                                    "(No column name)": "NULL"
                                },
                                {
                                    "UGYFEL_FK": "JANOSG",
                                    "nev": "Giliga János",
                                    "METTOL": "2016-08-16",
                                    "meddig": "2016-08-23",
                                    "(No column name)": "1"
                                },
                                {
                                    "UGYFEL_FK": "JANOSG",
                                    "nev": "Giliga János",
                                    "METTOL": "2016-08-30",
                                    "meddig": "2016-09-03",
                                    "(No column name)": "4"
                                },
                                {
                                    "UGYFEL_FK": "JANOSG",
                                    "nev": "Giliga János",
                                    "METTOL": "2016-11-07",
                                    "meddig": "2016-11-14",
                                    "(No column name)": "7"
                                },
                                {
                                    "UGYFEL_FK": "JANOSG",
                                    "nev": "Giliga János",
                                    "METTOL": "2016-12-28",
                                    "meddig": "2016-12-30",
                                    "(No column name)": "9"
                                },
                                {
                                    "UGYFEL_FK": "JANOSG",
                                    "nev": "Giliga János",
                                    "METTOL": "2017-01-10",
                                    "meddig": "2017-01-15",
                                    "(No column name)": "8"
                                },
                                {
                                    "UGYFEL_FK": "JANOSG",
                                    "nev": "Giliga János",
                                    "METTOL": "2017-01-31",
                                    "meddig": "2017-02-05",
                                    "(No column name)": "7"
                                },
                                {
                                    "UGYFEL_FK": "JANOSP",
                                    "nev": "Pálinkás János",
                                    "METTOL": "2016-07-04",
                                    "meddig": "2016-07-11",
                                    "(No column name)": "NULL"
                                },
                                {
                                    "UGYFEL_FK": "JANOSP",
                                    "nev": "Pálinkás János",
                                    "METTOL": "2016-11-23",
                                    "meddig": "2016-11-28",
                                    "(No column name)": "3"
                                },
                                {
                                    "UGYFEL_FK": "JANOSP",
                                    "nev": "Pálinkás János",
                                    "METTOL": "2016-11-25",
                                    "meddig": "2016-11-27",
                                    "(No column name)": "5"
                                },
                                {
                                    "UGYFEL_FK": "JANOSP",
                                    "nev": "Pálinkás János",
                                    "METTOL": "2016-12-18",
                                    "meddig": "2016-12-21",
                                    "(No column name)": "7"
                                },
                                {
                                    "UGYFEL_FK": "jozsef",
                                    "nev": "Gergely József",
                                    "METTOL": "2016-09-13",
                                    "meddig": "2016-09-19",
                                    "(No column name)": "NULL"
                                },
                                {
                                    "UGYFEL_FK": "jozsef",
                                    "nev": "Gergely József",
                                    "METTOL": "2016-10-08",
                                    "meddig": "2016-10-10",
                                    "(No column name)": "2"
                                },
                                {
                                    "UGYFEL_FK": "jozsef",
                                    "nev": "Gergely József",
                                    "METTOL": "2016-12-06",
                                    "meddig": "2016-12-07",
                                    "(No column name)": "4"
                                },
                                {
                                    "UGYFEL_FK": "jozsef2",
                                    "nev": "Vajda József",
                                    "METTOL": "2016-07-06",
                                    "meddig": "2016-07-11",
                                    "(No column name)": "NULL"
                                },
                                {
                                    "UGYFEL_FK": "jozsef2",
                                    "nev": "Vajda József",
                                    "METTOL": "2016-07-16",
                                    "meddig": "2016-07-20",
                                    "(No column name)": "2"
                                },
                                {
                                    "UGYFEL_FK": "jozsef2",
                                    "nev": "Vajda József",
                                    "METTOL": "2016-09-09",
                                    "meddig": "2016-09-15",
                                    "(No column name)": "5"
                                },
                                {
                                    "UGYFEL_FK": "jozsef2",
                                    "nev": "Vajda József",
                                    "METTOL": "2016-11-23",
                                    "meddig": "2016-11-29",
                                    "(No column name)": "7"
                                },
                                {
                                    "UGYFEL_FK": "jozsef2",
                                    "nev": "Vajda József",
                                    "METTOL": "2016-11-25",
                                    "meddig": "2016-11-29",
                                    "(No column name)": "8"
                                },
                                {
                                    "UGYFEL_FK": "JOZSEFG",
                                    "nev": "Gyuris József",
                                    "METTOL": "2016-05-02",
                                    "meddig": "2016-05-06",
                                    "(No column name)": "NULL"
                                },
                                {
                                    "UGYFEL_FK": "JOZSEFG",
                                    "nev": "Gyuris József",
                                    "METTOL": "2016-05-23",
                                    "meddig": "2016-05-25",
                                    "(No column name)": "2"
                                },
                                {
                                    "UGYFEL_FK": "JOZSEFG",
                                    "nev": "Gyuris József",
                                    "METTOL": "2016-06-04",
                                    "meddig": "2016-06-09",
                                    "(No column name)": "3"
                                },
                                {
                                    "UGYFEL_FK": "JOZSEFG",
                                    "nev": "Gyuris József",
                                    "METTOL": "2016-08-24",
                                    "meddig": "2016-08-27",
                                    "(No column name)": "7"
                                },
                                {
                                    "UGYFEL_FK": "JOZSEFG",
                                    "nev": "Gyuris József",
                                    "METTOL": "2017-01-09",
                                    "meddig": "2017-01-13",
                                    "(No column name)": "8"
                                },
                                {
                                    "UGYFEL_FK": "JOZSEFG",
                                    "nev": "Gyuris József",
                                    "METTOL": "2017-01-22",
                                    "meddig": "2017-01-26",
                                    "(No column name)": "9"
                                },
                                {
                                    "UGYFEL_FK": "JOZSEFG",
                                    "nev": "Gyuris József",
                                    "METTOL": "2017-02-24",
                                    "meddig": "2017-03-03",
                                    "(No column name)": "6"
                                },
                                {
                                    "UGYFEL_FK": "JUDITH",
                                    "nev": "Hídasi Judit",
                                    "METTOL": "2016-06-06",
                                    "meddig": "2016-06-10",
                                    "(No column name)": "NULL"
                                },
                                {
                                    "UGYFEL_FK": "JUDITH",
                                    "nev": "Hídasi Judit",
                                    "METTOL": "2016-07-28",
                                    "meddig": "2016-07-30",
                                    "(No column name)": "2"
                                },
                                {
                                    "UGYFEL_FK": "JUDITH",
                                    "nev": "Hídasi Judit",
                                    "METTOL": "2016-12-19",
                                    "meddig": "2016-12-26",
                                    "(No column name)": "4"
                                },
                                {
                                    "UGYFEL_FK": "julia",
                                    "nev": "Tóth Júlia",
                                    "METTOL": "2016-04-21",
                                    "meddig": "2016-04-26",
                                    "(No column name)": "NULL"
                                },
                                {
                                    "UGYFEL_FK": "julia",
                                    "nev": "Tóth Júlia",
                                    "METTOL": "2016-05-12",
                                    "meddig": "2016-05-17",
                                    "(No column name)": "2"
                                },
                                {
                                    "UGYFEL_FK": "julia",
                                    "nev": "Tóth Júlia",
                                    "METTOL": "2016-06-07",
                                    "meddig": "2016-06-08",
                                    "(No column name)": "3"
                                },
                                {
                                    "UGYFEL_FK": "julia",
                                    "nev": "Tóth Júlia",
                                    "METTOL": "2016-07-20",
                                    "meddig": "2016-07-22",
                                    "(No column name)": "8"
                                },
                                {
                                    "UGYFEL_FK": "julia",
                                    "nev": "Tóth Júlia",
                                    "METTOL": "2017-02-27",
                                    "meddig": "2017-03-06",
                                    "(No column name)": "8"
                                },
                                {
                                    "UGYFEL_FK": "julia4",
                                    "nev": "Nagy Júlia",
                                    "METTOL": "2016-11-07",
                                    "meddig": "2016-11-12",
                                    "(No column name)": "NULL"
                                },
                                {
                                    "UGYFEL_FK": "julia4",
                                    "nev": "Nagy Júlia",
                                    "METTOL": "2017-02-04",
                                    "meddig": "2017-02-11",
                                    "(No column name)": "1"
                                },
                                {
                                    "UGYFEL_FK": "julianna4",
                                    "nev": "Szabó Julianna",
                                    "METTOL": "2016-07-20",
                                    "meddig": "2016-07-26",
                                    "(No column name)": "NULL"
                                },
                                {
                                    "UGYFEL_FK": "julianna4",
                                    "nev": "Szabó Julianna",
                                    "METTOL": "2016-10-29",
                                    "meddig": "2016-10-31",
                                    "(No column name)": "2"
                                },
                                {
                                    "UGYFEL_FK": "julianna4",
                                    "nev": "Szabó Julianna",
                                    "METTOL": "2016-11-03",
                                    "meddig": "2016-11-04",
                                    "(No column name)": "5"
                                },
                                {
                                    "UGYFEL_FK": "julianna4",
                                    "nev": "Szabó Julianna",
                                    "METTOL": "2016-11-27",
                                    "meddig": "2016-12-04",
                                    "(No column name)": "7"
                                },
                                {
                                    "UGYFEL_FK": "kata",
                                    "nev": "Gondos Katalin",
                                    "METTOL": "2016-04-10",
                                    "meddig": "2016-04-11",
                                    "(No column name)": "NULL"
                                },
                                {
                                    "UGYFEL_FK": "kata",
                                    "nev": "Gondos Katalin",
                                    "METTOL": "2016-04-25",
                                    "meddig": "2016-05-01",
                                    "(No column name)": "2"
                                },
                                {
                                    "UGYFEL_FK": "kata",
                                    "nev": "Gondos Katalin",
                                    "METTOL": "2016-05-31",
                                    "meddig": "2016-06-01",
                                    "(No column name)": "3"
                                },
                                {
                                    "UGYFEL_FK": "kata",
                                    "nev": "Gondos Katalin",
                                    "METTOL": "2016-06-07",
                                    "meddig": "2016-06-12",
                                    "(No column name)": "6"
                                },
                                {
                                    "UGYFEL_FK": "kata",
                                    "nev": "Gondos Katalin",
                                    "METTOL": "2016-07-01",
                                    "meddig": "2016-07-07",
                                    "(No column name)": "6"
                                },
                                {
                                    "UGYFEL_FK": "kata",
                                    "nev": "Gondos Katalin",
                                    "METTOL": "2016-07-03",
                                    "meddig": "2016-07-06",
                                    "(No column name)": "7"
                                },
                                {
                                    "UGYFEL_FK": "kata",
                                    "nev": "Gondos Katalin",
                                    "METTOL": "2016-07-07",
                                    "meddig": "2016-07-09",
                                    "(No column name)": "5"
                                },
                                {
                                    "UGYFEL_FK": "kata",
                                    "nev": "Gondos Katalin",
                                    "METTOL": "2016-08-24",
                                    "meddig": "2016-08-27",
                                    "(No column name)": "6"
                                },
                                {
                                    "UGYFEL_FK": "kata",
                                    "nev": "Gondos Katalin",
                                    "METTOL": "2016-09-19",
                                    "meddig": "2016-09-20",
                                    "(No column name)": "7"
                                },
                                {
                                    "UGYFEL_FK": "kata",
                                    "nev": "Gondos Katalin",
                                    "METTOL": "2017-01-15",
                                    "meddig": "2017-01-21",
                                    "(No column name)": "9"
                                },
                                {
                                    "UGYFEL_FK": "katalin",
                                    "nev": "Horváth Katalin",
                                    "METTOL": "2016-04-10",
                                    "meddig": "2016-04-17",
                                    "(No column name)": "NULL"
                                },
                                {
                                    "UGYFEL_FK": "katalin",
                                    "nev": "Horváth Katalin",
                                    "METTOL": "2016-05-21",
                                    "meddig": "2016-05-26",
                                    "(No column name)": "2"
                                },
                                {
                                    "UGYFEL_FK": "katalin",
                                    "nev": "Horváth Katalin",
                                    "METTOL": "2016-07-06",
                                    "meddig": "2016-07-11",
                                    "(No column name)": "3"
                                },
                                {
                                    "UGYFEL_FK": "katalin",
                                    "nev": "Horváth Katalin",
                                    "METTOL": "2016-07-28",
                                    "meddig": "2016-07-29",
                                    "(No column name)": "4"
                                },
                                {
                                    "UGYFEL_FK": "katalin",
                                    "nev": "Horváth Katalin",
                                    "METTOL": "2016-10-26",
                                    "meddig": "2016-10-30",
                                    "(No column name)": "3"
                                },
                                {
                                    "UGYFEL_FK": "katalin",
                                    "nev": "Horváth Katalin",
                                    "METTOL": "2016-12-13",
                                    "meddig": "2016-12-19",
                                    "(No column name)": "4"
                                },
                                {
                                    "UGYFEL_FK": "katalin",
                                    "nev": "Horváth Katalin",
                                    "METTOL": "2016-12-17",
                                    "meddig": "2016-12-24",
                                    "(No column name)": "5"
                                },
                                {
                                    "UGYFEL_FK": "katalin",
                                    "nev": "Horváth Katalin",
                                    "METTOL": "2016-12-24",
                                    "meddig": "2016-12-27",
                                    "(No column name)": "5"
                                },
                                {
                                    "UGYFEL_FK": "katalin",
                                    "nev": "Horváth Katalin",
                                    "METTOL": "2017-02-24",
                                    "meddig": "2017-02-27",
                                    "(No column name)": "5"
                                },
                                {
                                    "UGYFEL_FK": "katalin4",
                                    "nev": "Kertész Katalin",
                                    "METTOL": "2016-07-01",
                                    "meddig": "2016-07-07",
                                    "(No column name)": "NULL"
                                },
                                {
                                    "UGYFEL_FK": "katalin4",
                                    "nev": "Kertész Katalin",
                                    "METTOL": "2016-07-03",
                                    "meddig": "2016-07-04",
                                    "(No column name)": "1"
                                },
                                {
                                    "UGYFEL_FK": "katalin4",
                                    "nev": "Kertész Katalin",
                                    "METTOL": "2016-11-27",
                                    "meddig": "2016-12-04",
                                    "(No column name)": "5"
                                },
                                {
                                    "UGYFEL_FK": "katalin4",
                                    "nev": "Kertész Katalin",
                                    "METTOL": "2016-12-04",
                                    "meddig": "2016-12-09",
                                    "(No column name)": "8"
                                },
                                {
                                    "UGYFEL_FK": "katalin4",
                                    "nev": "Kertész Katalin",
                                    "METTOL": "2017-01-18",
                                    "meddig": "2017-01-20",
                                    "(No column name)": "10"
                                },
                                {
                                    "UGYFEL_FK": "katalin4",
                                    "nev": "Kertész Katalin",
                                    "METTOL": "2017-01-24",
                                    "meddig": "2017-01-31",
                                    "(No column name)": "8"
                                },
                                {
                                    "UGYFEL_FK": "kati",
                                    "nev": "Zatykó Katalin",
                                    "METTOL": "2016-06-06",
                                    "meddig": "2016-06-10",
                                    "(No column name)": "NULL"
                                },
                                {
                                    "UGYFEL_FK": "kati",
                                    "nev": "Zatykó Katalin",
                                    "METTOL": "2016-06-06",
                                    "meddig": "2016-06-11",
                                    "(No column name)": "2"
                                },
                                {
                                    "UGYFEL_FK": "kati",
                                    "nev": "Zatykó Katalin",
                                    "METTOL": "2016-07-13",
                                    "meddig": "2016-07-20",
                                    "(No column name)": "5"
                                },
                                {
                                    "UGYFEL_FK": "kati",
                                    "nev": "Zatykó Katalin",
                                    "METTOL": "2016-07-27",
                                    "meddig": "2016-08-03",
                                    "(No column name)": "7"
                                },
                                {
                                    "UGYFEL_FK": "kati",
                                    "nev": "Zatykó Katalin",
                                    "METTOL": "2016-08-03",
                                    "meddig": "2016-08-07",
                                    "(No column name)": "7"
                                },
                                {
                                    "UGYFEL_FK": "kati",
                                    "nev": "Zatykó Katalin",
                                    "METTOL": "2016-10-26",
                                    "meddig": "2016-10-28",
                                    "(No column name)": "6"
                                },
                                {
                                    "UGYFEL_FK": "kati",
                                    "nev": "Zatykó Katalin",
                                    "METTOL": "2016-10-30",
                                    "meddig": "2016-11-01",
                                    "(No column name)": "6"
                                },
                                {
                                    "UGYFEL_FK": "katka",
                                    "nev": "Kovács Katalin",
                                    "METTOL": "2016-04-10",
                                    "meddig": "2016-04-12",
                                    "(No column name)": "NULL"
                                },
                                {
                                    "UGYFEL_FK": "katka",
                                    "nev": "Kovács Katalin",
                                    "METTOL": "2016-05-09",
                                    "meddig": "2016-05-15",
                                    "(No column name)": "2"
                                },
                                {
                                    "UGYFEL_FK": "katka",
                                    "nev": "Kovács Katalin",
                                    "METTOL": "2016-06-13",
                                    "meddig": "2016-06-18",
                                    "(No column name)": "5"
                                },
                                {
                                    "UGYFEL_FK": "katka",
                                    "nev": "Kovács Katalin",
                                    "METTOL": "2016-06-13",
                                    "meddig": "2016-06-19",
                                    "(No column name)": "6"
                                },
                                {
                                    "UGYFEL_FK": "katka",
                                    "nev": "Kovács Katalin",
                                    "METTOL": "2016-08-24",
                                    "meddig": "2016-08-26",
                                    "(No column name)": "8"
                                },
                                {
                                    "UGYFEL_FK": "katka",
                                    "nev": "Kovács Katalin",
                                    "METTOL": "2016-09-05",
                                    "meddig": "2016-09-10",
                                    "(No column name)": "7"
                                },
                                {
                                    "UGYFEL_FK": "katka",
                                    "nev": "Kovács Katalin",
                                    "METTOL": "2016-11-05",
                                    "meddig": "2016-11-08",
                                    "(No column name)": "10"
                                },
                                {
                                    "UGYFEL_FK": "katka",
                                    "nev": "Kovács Katalin",
                                    "METTOL": "2017-01-02",
                                    "meddig": "2017-01-05",
                                    "(No column name)": "9"
                                },
                                {
                                    "UGYFEL_FK": "katka",
                                    "nev": "Kovács Katalin",
                                    "METTOL": "2017-01-19",
                                    "meddig": "2017-01-20",
                                    "(No column name)": "10"
                                },
                                {
                                    "UGYFEL_FK": "klaudia2",
                                    "nev": "Bakó Klaudia",
                                    "METTOL": "2016-06-06",
                                    "meddig": "2016-06-08",
                                    "(No column name)": "NULL"
                                },
                                {
                                    "UGYFEL_FK": "klaudia2",
                                    "nev": "Bakó Klaudia",
                                    "METTOL": "2016-10-01",
                                    "meddig": "2016-10-02",
                                    "(No column name)": "4"
                                },
                                {
                                    "UGYFEL_FK": "klaudia2",
                                    "nev": "Bakó Klaudia",
                                    "METTOL": "2016-10-02",
                                    "meddig": "2016-10-05",
                                    "(No column name)": "6"
                                },
                                {
                                    "UGYFEL_FK": "kornel4",
                                    "nev": "Lukács Kornél",
                                    "METTOL": "2016-05-08",
                                    "meddig": "2016-05-14",
                                    "(No column name)": "NULL"
                                },
                                {
                                    "UGYFEL_FK": "kornel4",
                                    "nev": "Lukács Kornél",
                                    "METTOL": "2016-06-02",
                                    "meddig": "2016-06-09",
                                    "(No column name)": "3"
                                },
                                {
                                    "UGYFEL_FK": "kornel4",
                                    "nev": "Lukács Kornél",
                                    "METTOL": "2016-09-23",
                                    "meddig": "2016-09-24",
                                    "(No column name)": "6"
                                },
                                {
                                    "UGYFEL_FK": "kristof4",
                                    "nev": "Poprádi Kristóf",
                                    "METTOL": "2016-04-08",
                                    "meddig": "2016-04-14",
                                    "(No column name)": "NULL"
                                },
                                {
                                    "UGYFEL_FK": "kristof4",
                                    "nev": "Poprádi Kristóf",
                                    "METTOL": "2016-09-30",
                                    "meddig": "2016-10-04",
                                    "(No column name)": "2"
                                },
                                {
                                    "UGYFEL_FK": "kriszti",
                                    "nev": "Horváth Krisztina",
                                    "METTOL": "2016-05-19",
                                    "meddig": "2016-05-26",
                                    "(No column name)": "NULL"
                                },
                                {
                                    "UGYFEL_FK": "kriszti",
                                    "nev": "Horváth Krisztina",
                                    "METTOL": "2016-08-24",
                                    "meddig": "2016-08-25",
                                    "(No column name)": "2"
                                },
                                {
                                    "UGYFEL_FK": "kriszti",
                                    "nev": "Horváth Krisztina",
                                    "METTOL": "2016-09-30",
                                    "meddig": "2016-10-05",
                                    "(No column name)": "5"
                                },
                                {
                                    "UGYFEL_FK": "kriszti",
                                    "nev": "Horváth Krisztina",
                                    "METTOL": "2016-10-01",
                                    "meddig": "2016-10-02",
                                    "(No column name)": "8"
                                },
                                {
                                    "UGYFEL_FK": "kriszti",
                                    "nev": "Horváth Krisztina",
                                    "METTOL": "2017-02-04",
                                    "meddig": "2017-02-11",
                                    "(No column name)": "9"
                                },
                                {
                                    "UGYFEL_FK": "kriszti",
                                    "nev": "Horváth Krisztina",
                                    "METTOL": "2017-03-03",
                                    "meddig": "2017-03-04",
                                    "(No column name)": "9"
                                },
                                {
                                    "UGYFEL_FK": "krisztian4",
                                    "nev": "Czérna Krisztián",
                                    "METTOL": "2016-06-03",
                                    "meddig": "2016-06-04",
                                    "(No column name)": "NULL"
                                },
                                {
                                    "UGYFEL_FK": "krisztian4",
                                    "nev": "Czérna Krisztián",
                                    "METTOL": "2016-06-07",
                                    "meddig": "2016-06-09",
                                    "(No column name)": "2"
                                },
                                {
                                    "UGYFEL_FK": "krisztian4",
                                    "nev": "Czérna Krisztián",
                                    "METTOL": "2016-07-28",
                                    "meddig": "2016-08-01",
                                    "(No column name)": "4"
                                },
                                {
                                    "UGYFEL_FK": "krisztian4",
                                    "nev": "Czérna Krisztián",
                                    "METTOL": "2016-08-01",
                                    "meddig": "2016-08-04",
                                    "(No column name)": "6"
                                },
                                {
                                    "UGYFEL_FK": "krisztian4",
                                    "nev": "Czérna Krisztián",
                                    "METTOL": "2016-08-16",
                                    "meddig": "2016-08-19",
                                    "(No column name)": "7"
                                },
                                {
                                    "UGYFEL_FK": "krisztian4",
                                    "nev": "Czérna Krisztián",
                                    "METTOL": "2016-08-29",
                                    "meddig": "2016-09-03",
                                    "(No column name)": "6"
                                },
                                {
                                    "UGYFEL_FK": "krisztian4",
                                    "nev": "Czérna Krisztián",
                                    "METTOL": "2016-10-17",
                                    "meddig": "2016-10-22",
                                    "(No column name)": "5"
                                },
                                {
                                    "UGYFEL_FK": "krisztian4",
                                    "nev": "Czérna Krisztián",
                                    "METTOL": "2016-11-02",
                                    "meddig": "2016-11-03",
                                    "(No column name)": "5"
                                },
                                {
                                    "UGYFEL_FK": "krisztian4",
                                    "nev": "Czérna Krisztián",
                                    "METTOL": "2016-12-11",
                                    "meddig": "2016-12-18",
                                    "(No column name)": "6"
                                },
                                {
                                    "UGYFEL_FK": "krisztian4",
                                    "nev": "Czérna Krisztián",
                                    "METTOL": "2017-01-06",
                                    "meddig": "2017-01-09",
                                    "(No column name)": "7"
                                },
                                {
                                    "UGYFEL_FK": "krisztian4",
                                    "nev": "Czérna Krisztián",
                                    "METTOL": "2017-01-16",
                                    "meddig": "2017-01-23",
                                    "(No column name)": "5"
                                },
                                {
                                    "UGYFEL_FK": "krisztian4",
                                    "nev": "Czérna Krisztián",
                                    "METTOL": "2017-02-23",
                                    "meddig": "2017-03-02",
                                    "(No column name)": "6"
                                },
                                {
                                    "UGYFEL_FK": "KRISZTIANM",
                                    "nev": "Mogyródi Krisztián",
                                    "METTOL": "2016-04-09",
                                    "meddig": "2016-04-15",
                                    "(No column name)": "NULL"
                                },
                                {
                                    "UGYFEL_FK": "KRISZTIANM",
                                    "nev": "Mogyródi Krisztián",
                                    "METTOL": "2016-06-04",
                                    "meddig": "2016-06-08",
                                    "(No column name)": "2"
                                },
                                {
                                    "UGYFEL_FK": "KRISZTIANM",
                                    "nev": "Mogyródi Krisztián",
                                    "METTOL": "2016-07-09",
                                    "meddig": "2016-07-14",
                                    "(No column name)": "4"
                                },
                                {
                                    "UGYFEL_FK": "KRISZTIANM",
                                    "nev": "Mogyródi Krisztián",
                                    "METTOL": "2016-08-02",
                                    "meddig": "2016-08-08",
                                    "(No column name)": "7"
                                },
                                {
                                    "UGYFEL_FK": "KRISZTIANM",
                                    "nev": "Mogyródi Krisztián",
                                    "METTOL": "2016-12-25",
                                    "meddig": "2016-12-31",
                                    "(No column name)": "9"
                                },
                                {
                                    "UGYFEL_FK": "KRISZTIANM",
                                    "nev": "Mogyródi Krisztián",
                                    "METTOL": "2017-01-16",
                                    "meddig": "2017-01-23",
                                    "(No column name)": "9"
                                },
                                {
                                    "UGYFEL_FK": "krisztina",
                                    "nev": "Szedlár Krisztina",
                                    "METTOL": "2016-05-21",
                                    "meddig": "2016-05-27",
                                    "(No column name)": "NULL"
                                },
                                {
                                    "UGYFEL_FK": "krisztina",
                                    "nev": "Szedlár Krisztina",
                                    "METTOL": "2016-07-05",
                                    "meddig": "2016-07-12",
                                    "(No column name)": "2"
                                },
                                {
                                    "UGYFEL_FK": "krisztina",
                                    "nev": "Szedlár Krisztina",
                                    "METTOL": "2016-09-13",
                                    "meddig": "2016-09-16",
                                    "(No column name)": "5"
                                },
                                {
                                    "UGYFEL_FK": "krisztina",
                                    "nev": "Szedlár Krisztina",
                                    "METTOL": "2016-09-19",
                                    "meddig": "2016-09-26",
                                    "(No column name)": "6"
                                },
                                {
                                    "UGYFEL_FK": "krisztina",
                                    "nev": "Szedlár Krisztina",
                                    "METTOL": "2016-11-08",
                                    "meddig": "2016-11-12",
                                    "(No column name)": "6"
                                },
                                {
                                    "UGYFEL_FK": "krisztina",
                                    "nev": "Szedlár Krisztina",
                                    "METTOL": "2016-11-22",
                                    "meddig": "2016-11-25",
                                    "(No column name)": "5"
                                },
                                {
                                    "UGYFEL_FK": "krisztina",
                                    "nev": "Szedlár Krisztina",
                                    "METTOL": "2017-02-05",
                                    "meddig": "2017-02-07",
                                    "(No column name)": "5"
                                },
                                {
                                    "UGYFEL_FK": "krisztina",
                                    "nev": "Szedlár Krisztina",
                                    "METTOL": "2017-02-16",
                                    "meddig": "2017-02-20",
                                    "(No column name)": "5"
                                },
                                {
                                    "UGYFEL_FK": "krisztina1",
                                    "nev": "Bori Krisztina",
                                    "METTOL": "2016-04-28",
                                    "meddig": "2016-04-30",
                                    "(No column name)": "NULL"
                                },
                                {
                                    "UGYFEL_FK": "krisztina1",
                                    "nev": "Bori Krisztina",
                                    "METTOL": "2016-05-16",
                                    "meddig": "2016-05-20",
                                    "(No column name)": "2"
                                },
                                {
                                    "UGYFEL_FK": "krisztina1",
                                    "nev": "Bori Krisztina",
                                    "METTOL": "2016-06-16",
                                    "meddig": "2016-06-22",
                                    "(No column name)": "3"
                                },
                                {
                                    "UGYFEL_FK": "krisztina1",
                                    "nev": "Bori Krisztina",
                                    "METTOL": "2016-09-15",
                                    "meddig": "2016-09-20",
                                    "(No column name)": "5"
                                },
                                {
                                    "UGYFEL_FK": "krisztina1",
                                    "nev": "Bori Krisztina",
                                    "METTOL": "2016-10-29",
                                    "meddig": "2016-10-30",
                                    "(No column name)": "6"
                                },
                                {
                                    "UGYFEL_FK": "krisztina1",
                                    "nev": "Bori Krisztina",
                                    "METTOL": "2017-01-21",
                                    "meddig": "2017-01-24",
                                    "(No column name)": "9"
                                },
                                {
                                    "UGYFEL_FK": "KRISZTINAG",
                                    "nev": "Gyárfás Krisztina",
                                    "METTOL": "2016-04-23",
                                    "meddig": "2016-04-24",
                                    "(No column name)": "NULL"
                                },
                                {
                                    "UGYFEL_FK": "KRISZTINAG",
                                    "nev": "Gyárfás Krisztina",
                                    "METTOL": "2016-05-24",
                                    "meddig": "2016-05-31",
                                    "(No column name)": "2"
                                },
                                {
                                    "UGYFEL_FK": "KRISZTINAG",
                                    "nev": "Gyárfás Krisztina",
                                    "METTOL": "2016-06-08",
                                    "meddig": "2016-06-12",
                                    "(No column name)": "3"
                                },
                                {
                                    "UGYFEL_FK": "KRISZTINAG",
                                    "nev": "Gyárfás Krisztina",
                                    "METTOL": "2016-08-08",
                                    "meddig": "2016-08-12",
                                    "(No column name)": "4"
                                },
                                {
                                    "UGYFEL_FK": "KRISZTINAG",
                                    "nev": "Gyárfás Krisztina",
                                    "METTOL": "2017-01-25",
                                    "meddig": "2017-01-30",
                                    "(No column name)": "5"
                                },
                                {
                                    "UGYFEL_FK": "lajos",
                                    "nev": "Kiss Lajos",
                                    "METTOL": "2016-07-18",
                                    "meddig": "2016-07-21",
                                    "(No column name)": "NULL"
                                },
                                {
                                    "UGYFEL_FK": "lajos",
                                    "nev": "Kiss Lajos",
                                    "METTOL": "2016-12-25",
                                    "meddig": "2016-12-28",
                                    "(No column name)": "2"
                                },
                                {
                                    "UGYFEL_FK": "lajos",
                                    "nev": "Kiss Lajos",
                                    "METTOL": "2017-02-12",
                                    "meddig": "2017-02-13",
                                    "(No column name)": "6"
                                },
                                {
                                    "UGYFEL_FK": "lala",
                                    "nev": "Nagymihály Lajos",
                                    "METTOL": "2016-06-16",
                                    "meddig": "2016-06-22",
                                    "(No column name)": "NULL"
                                },
                                {
                                    "UGYFEL_FK": "lala",
                                    "nev": "Nagymihály Lajos",
                                    "METTOL": "2016-07-20",
                                    "meddig": "2016-07-21",
                                    "(No column name)": "2"
                                },
                                {
                                    "UGYFEL_FK": "lala",
                                    "nev": "Nagymihály Lajos",
                                    "METTOL": "2016-07-26",
                                    "meddig": "2016-07-27",
                                    "(No column name)": "5"
                                },
                                {
                                    "UGYFEL_FK": "lala",
                                    "nev": "Nagymihály Lajos",
                                    "METTOL": "2016-10-30",
                                    "meddig": "2016-10-31",
                                    "(No column name)": "8"
                                },
                                {
                                    "UGYFEL_FK": "lala",
                                    "nev": "Nagymihály Lajos",
                                    "METTOL": "2017-01-08",
                                    "meddig": "2017-01-10",
                                    "(No column name)": "9"
                                },
                                {
                                    "UGYFEL_FK": "lala",
                                    "nev": "Nagymihály Lajos",
                                    "METTOL": "2017-01-17",
                                    "meddig": "2017-01-19",
                                    "(No column name)": "9"
                                },
                                {
                                    "UGYFEL_FK": "laszlo1",
                                    "nev": "Farkas László",
                                    "METTOL": "2016-09-23",
                                    "meddig": "2016-09-30",
                                    "(No column name)": "NULL"
                                },
                                {
                                    "UGYFEL_FK": "laszlo2",
                                    "nev": "Móra László",
                                    "METTOL": "2016-04-06",
                                    "meddig": "2016-04-10",
                                    "(No column name)": "NULL"
                                },
                                {
                                    "UGYFEL_FK": "laszlo2",
                                    "nev": "Móra László",
                                    "METTOL": "2016-04-27",
                                    "meddig": "2016-04-29",
                                    "(No column name)": "2"
                                },
                                {
                                    "UGYFEL_FK": "laszlo2",
                                    "nev": "Móra László",
                                    "METTOL": "2016-08-14",
                                    "meddig": "2016-08-15",
                                    "(No column name)": "4"
                                },
                                {
                                    "UGYFEL_FK": "laszlo2",
                                    "nev": "Móra László",
                                    "METTOL": "2016-09-05",
                                    "meddig": "2016-09-10",
                                    "(No column name)": "7"
                                },
                                {
                                    "UGYFEL_FK": "laszlo2",
                                    "nev": "Móra László",
                                    "METTOL": "2016-11-25",
                                    "meddig": "2016-11-26",
                                    "(No column name)": "8"
                                },
                                {
                                    "UGYFEL_FK": "LASZLOA",
                                    "nev": "Antal László",
                                    "METTOL": "2016-06-03",
                                    "meddig": "2016-06-09",
                                    "(No column name)": "NULL"
                                },
                                {
                                    "UGYFEL_FK": "LASZLOA",
                                    "nev": "Antal László",
                                    "METTOL": "2016-06-07",
                                    "meddig": "2016-06-11",
                                    "(No column name)": "2"
                                },
                                {
                                    "UGYFEL_FK": "LASZLOA",
                                    "nev": "Antal László",
                                    "METTOL": "2016-06-10",
                                    "meddig": "2016-06-13",
                                    "(No column name)": "3"
                                },
                                {
                                    "UGYFEL_FK": "LASZLOA",
                                    "nev": "Antal László",
                                    "METTOL": "2017-02-08",
                                    "meddig": "2017-02-14",
                                    "(No column name)": "6"
                                },
                                {
                                    "UGYFEL_FK": "LASZLON",
                                    "nev": "Nagy László",
                                    "METTOL": "2016-06-03",
                                    "meddig": "2016-06-06",
                                    "(No column name)": "NULL"
                                },
                                {
                                    "UGYFEL_FK": "LASZLON",
                                    "nev": "Nagy László",
                                    "METTOL": "2016-06-08",
                                    "meddig": "2016-06-09",
                                    "(No column name)": "1"
                                },
                                {
                                    "UGYFEL_FK": "LASZLON",
                                    "nev": "Nagy László",
                                    "METTOL": "2016-10-01",
                                    "meddig": "2016-10-04",
                                    "(No column name)": "3"
                                },
                                {
                                    "UGYFEL_FK": "LASZLON",
                                    "nev": "Nagy László",
                                    "METTOL": "2016-10-09",
                                    "meddig": "2016-10-14",
                                    "(No column name)": "6"
                                },
                                {
                                    "UGYFEL_FK": "LASZLON",
                                    "nev": "Nagy László",
                                    "METTOL": "2016-11-29",
                                    "meddig": "2016-12-04",
                                    "(No column name)": "6"
                                },
                                {
                                    "UGYFEL_FK": "LASZLON",
                                    "nev": "Nagy László",
                                    "METTOL": "2017-02-18",
                                    "meddig": "2017-02-25",
                                    "(No column name)": "5"
                                },
                                {
                                    "UGYFEL_FK": "maria1",
                                    "nev": "Baráth Mária",
                                    "METTOL": "2016-05-13",
                                    "meddig": "2016-05-18",
                                    "(No column name)": "NULL"
                                },
                                {
                                    "UGYFEL_FK": "maria1",
                                    "nev": "Baráth Mária",
                                    "METTOL": "2016-05-18",
                                    "meddig": "2016-05-19",
                                    "(No column name)": "2"
                                },
                                {
                                    "UGYFEL_FK": "maria1",
                                    "nev": "Baráth Mária",
                                    "METTOL": "2016-05-28",
                                    "meddig": "2016-06-03",
                                    "(No column name)": "3"
                                },
                                {
                                    "UGYFEL_FK": "maria1",
                                    "nev": "Baráth Mária",
                                    "METTOL": "2016-06-23",
                                    "meddig": "2016-06-27",
                                    "(No column name)": "5"
                                },
                                {
                                    "UGYFEL_FK": "maria1",
                                    "nev": "Baráth Mária",
                                    "METTOL": "2016-08-11",
                                    "meddig": "2016-08-14",
                                    "(No column name)": "4"
                                },
                                {
                                    "UGYFEL_FK": "maria1",
                                    "nev": "Baráth Mária",
                                    "METTOL": "2016-09-02",
                                    "meddig": "2016-09-05",
                                    "(No column name)": "6"
                                },
                                {
                                    "UGYFEL_FK": "maria1",
                                    "nev": "Baráth Mária",
                                    "METTOL": "2016-11-08",
                                    "meddig": "2016-11-12",
                                    "(No column name)": "5"
                                },
                                {
                                    "UGYFEL_FK": "maria1",
                                    "nev": "Baráth Mária",
                                    "METTOL": "2017-02-24",
                                    "meddig": "2017-03-02",
                                    "(No column name)": "7"
                                },
                                {
                                    "UGYFEL_FK": "mark",
                                    "nev": "Kispál Márk",
                                    "METTOL": "2016-04-19",
                                    "meddig": "2016-04-26",
                                    "(No column name)": "NULL"
                                },
                                {
                                    "UGYFEL_FK": "mark",
                                    "nev": "Kispál Márk",
                                    "METTOL": "2016-06-13",
                                    "meddig": "2016-06-18",
                                    "(No column name)": "4"
                                },
                                {
                                    "UGYFEL_FK": "mark",
                                    "nev": "Kispál Márk",
                                    "METTOL": "2016-08-09",
                                    "meddig": "2016-08-16",
                                    "(No column name)": "7"
                                },
                                {
                                    "UGYFEL_FK": "mark",
                                    "nev": "Kispál Márk",
                                    "METTOL": "2016-10-20",
                                    "meddig": "2016-10-27",
                                    "(No column name)": "10"
                                },
                                {
                                    "UGYFEL_FK": "mark",
                                    "nev": "Kispál Márk",
                                    "METTOL": "2016-11-19",
                                    "meddig": "2016-11-22",
                                    "(No column name)": "7"
                                },
                                {
                                    "UGYFEL_FK": "MARKH",
                                    "nev": "Horváth Márk",
                                    "METTOL": "2016-09-14",
                                    "meddig": "2016-09-17",
                                    "(No column name)": "NULL"
                                },
                                {
                                    "UGYFEL_FK": "MARKH",
                                    "nev": "Horváth Márk",
                                    "METTOL": "2016-09-23",
                                    "meddig": "2016-09-30",
                                    "(No column name)": "3"
                                },
                                {
                                    "UGYFEL_FK": "MARKH",
                                    "nev": "Horváth Márk",
                                    "METTOL": "2016-09-26",
                                    "meddig": "2016-10-01",
                                    "(No column name)": "5"
                                },
                                {
                                    "UGYFEL_FK": "MARKH",
                                    "nev": "Horváth Márk",
                                    "METTOL": "2017-01-22",
                                    "meddig": "2017-01-29",
                                    "(No column name)": "9"
                                },
                                {
                                    "UGYFEL_FK": "marton",
                                    "nev": "Kalacsi Márton",
                                    "METTOL": "2016-04-27",
                                    "meddig": "2016-05-04",
                                    "(No column name)": "NULL"
                                },
                                {
                                    "UGYFEL_FK": "marton",
                                    "nev": "Kalacsi Márton",
                                    "METTOL": "2016-05-05",
                                    "meddig": "2016-05-10",
                                    "(No column name)": "3"
                                },
                                {
                                    "UGYFEL_FK": "marton",
                                    "nev": "Kalacsi Márton",
                                    "METTOL": "2016-06-06",
                                    "meddig": "2016-06-08",
                                    "(No column name)": "4"
                                },
                                {
                                    "UGYFEL_FK": "marton",
                                    "nev": "Kalacsi Márton",
                                    "METTOL": "2016-06-22",
                                    "meddig": "2016-06-29",
                                    "(No column name)": "7"
                                },
                                {
                                    "UGYFEL_FK": "marton",
                                    "nev": "Kalacsi Márton",
                                    "METTOL": "2016-08-12",
                                    "meddig": "2016-08-17",
                                    "(No column name)": "6"
                                },
                                {
                                    "UGYFEL_FK": "marton",
                                    "nev": "Kalacsi Márton",
                                    "METTOL": "2016-09-10",
                                    "meddig": "2016-09-12",
                                    "(No column name)": "7"
                                },
                                {
                                    "UGYFEL_FK": "marton",
                                    "nev": "Kalacsi Márton",
                                    "METTOL": "2017-03-02",
                                    "meddig": "2017-03-03",
                                    "(No column name)": "6"
                                },
                                {
                                    "UGYFEL_FK": "MATEK",
                                    "nev": "Koza Máté",
                                    "METTOL": "2016-08-17",
                                    "meddig": "2016-08-21",
                                    "(No column name)": "NULL"
                                },
                                {
                                    "UGYFEL_FK": "MATEK",
                                    "nev": "Koza Máté",
                                    "METTOL": "2016-10-01",
                                    "meddig": "2016-10-04",
                                    "(No column name)": "4"
                                },
                                {
                                    "UGYFEL_FK": "MATEK",
                                    "nev": "Koza Máté",
                                    "METTOL": "2017-01-16",
                                    "meddig": "2017-01-22",
                                    "(No column name)": "6"
                                },
                                {
                                    "UGYFEL_FK": "matyas2",
                                    "nev": "Botka Mátyás",
                                    "METTOL": "2016-07-13",
                                    "meddig": "2016-07-16",
                                    "(No column name)": "NULL"
                                },
                                {
                                    "UGYFEL_FK": "matyas2",
                                    "nev": "Botka Mátyás",
                                    "METTOL": "2016-12-09",
                                    "meddig": "2016-12-13",
                                    "(No column name)": "2"
                                },
                                {
                                    "UGYFEL_FK": "MATYASS",
                                    "nev": "Szilágyi Mátyás",
                                    "METTOL": "2016-05-10",
                                    "meddig": "2016-05-16",
                                    "(No column name)": "NULL"
                                },
                                {
                                    "UGYFEL_FK": "MATYASS",
                                    "nev": "Szilágyi Mátyás",
                                    "METTOL": "2016-06-02",
                                    "meddig": "2016-06-08",
                                    "(No column name)": "2"
                                },
                                {
                                    "UGYFEL_FK": "MATYASS",
                                    "nev": "Szilágyi Mátyás",
                                    "METTOL": "2016-07-23",
                                    "meddig": "2016-07-25",
                                    "(No column name)": "3"
                                },
                                {
                                    "UGYFEL_FK": "MATYASS",
                                    "nev": "Szilágyi Mátyás",
                                    "METTOL": "2016-10-09",
                                    "meddig": "2016-10-15",
                                    "(No column name)": "6"
                                },
                                {
                                    "UGYFEL_FK": "MATYASS",
                                    "nev": "Szilágyi Mátyás",
                                    "METTOL": "2016-10-24",
                                    "meddig": "2016-10-31",
                                    "(No column name)": "7"
                                },
                                {
                                    "UGYFEL_FK": "MATYASS",
                                    "nev": "Szilágyi Mátyás",
                                    "METTOL": "2016-10-30",
                                    "meddig": "2016-11-04",
                                    "(No column name)": "7"
                                },
                                {
                                    "UGYFEL_FK": "MATYASS",
                                    "nev": "Szilágyi Mátyás",
                                    "METTOL": "2016-12-20",
                                    "meddig": "2016-12-25",
                                    "(No column name)": "7"
                                },
                                {
                                    "UGYFEL_FK": "MATYASS",
                                    "nev": "Szilágyi Mátyás",
                                    "METTOL": "2017-01-09",
                                    "meddig": "2017-01-13",
                                    "(No column name)": "6"
                                },
                                {
                                    "UGYFEL_FK": "MIHALYJ",
                                    "nev": "Juhász Mihály",
                                    "METTOL": "2016-05-30",
                                    "meddig": "2016-06-01",
                                    "(No column name)": "NULL"
                                },
                                {
                                    "UGYFEL_FK": "MIHALYJ",
                                    "nev": "Juhász Mihály",
                                    "METTOL": "2016-06-27",
                                    "meddig": "2016-07-01",
                                    "(No column name)": "2"
                                },
                                {
                                    "UGYFEL_FK": "MIHALYJ",
                                    "nev": "Juhász Mihály",
                                    "METTOL": "2016-08-29",
                                    "meddig": "2016-09-03",
                                    "(No column name)": "3"
                                },
                                {
                                    "UGYFEL_FK": "MIHALYJ",
                                    "nev": "Juhász Mihály",
                                    "METTOL": "2016-11-01",
                                    "meddig": "2016-11-04",
                                    "(No column name)": "4"
                                },
                                {
                                    "UGYFEL_FK": "MIHALYJ",
                                    "nev": "Juhász Mihály",
                                    "METTOL": "2017-02-06",
                                    "meddig": "2017-02-12",
                                    "(No column name)": "5"
                                },
                                {
                                    "UGYFEL_FK": "miklos2",
                                    "nev": "Gondos Miklós",
                                    "METTOL": "2016-04-19",
                                    "meddig": "2016-04-21",
                                    "(No column name)": "NULL"
                                },
                                {
                                    "UGYFEL_FK": "miklos2",
                                    "nev": "Gondos Miklós",
                                    "METTOL": "2016-10-08",
                                    "meddig": "2016-10-09",
                                    "(No column name)": "3"
                                },
                                {
                                    "UGYFEL_FK": "miklos2",
                                    "nev": "Gondos Miklós",
                                    "METTOL": "2016-11-16",
                                    "meddig": "2016-11-18",
                                    "(No column name)": "4"
                                },
                                {
                                    "UGYFEL_FK": "MIKLOSB",
                                    "nev": "Balla Miklós",
                                    "METTOL": "2016-06-26",
                                    "meddig": "2016-06-30",
                                    "(No column name)": "NULL"
                                },
                                {
                                    "UGYFEL_FK": "MIKLOSB",
                                    "nev": "Balla Miklós",
                                    "METTOL": "2016-07-18",
                                    "meddig": "2016-07-21",
                                    "(No column name)": "2"
                                },
                                {
                                    "UGYFEL_FK": "MIKLOSB",
                                    "nev": "Balla Miklós",
                                    "METTOL": "2016-12-05",
                                    "meddig": "2016-12-10",
                                    "(No column name)": "4"
                                },
                                {
                                    "UGYFEL_FK": "MONIKAM",
                                    "nev": "Mohos Mónika",
                                    "METTOL": "2016-04-29",
                                    "meddig": "2016-05-01",
                                    "(No column name)": "NULL"
                                },
                                {
                                    "UGYFEL_FK": "MONIKAM",
                                    "nev": "Mohos Mónika",
                                    "METTOL": "2016-07-23",
                                    "meddig": "2016-07-30",
                                    "(No column name)": "2"
                                },
                                {
                                    "UGYFEL_FK": "MONIKAM",
                                    "nev": "Mohos Mónika",
                                    "METTOL": "2016-11-09",
                                    "meddig": "2016-11-16",
                                    "(No column name)": "3"
                                },
                                {
                                    "UGYFEL_FK": "MONIKAM",
                                    "nev": "Mohos Mónika",
                                    "METTOL": "2017-01-17",
                                    "meddig": "2017-01-24",
                                    "(No column name)": "5"
                                },
                                {
                                    "UGYFEL_FK": "MONIKAM",
                                    "nev": "Mohos Mónika",
                                    "METTOL": "2017-02-06",
                                    "meddig": "2017-02-09",
                                    "(No column name)": "4"
                                },
                                {
                                    "UGYFEL_FK": "MONIKAM",
                                    "nev": "Mohos Mónika",
                                    "METTOL": "2017-02-23",
                                    "meddig": "2017-02-26",
                                    "(No column name)": "5"
                                },
                                {
                                    "UGYFEL_FK": "NANDORF",
                                    "nev": "Fő Nándor",
                                    "METTOL": "2016-04-06",
                                    "meddig": "2016-04-10",
                                    "(No column name)": "NULL"
                                },
                                {
                                    "UGYFEL_FK": "NANDORF",
                                    "nev": "Fő Nándor",
                                    "METTOL": "2016-11-03",
                                    "meddig": "2016-11-04",
                                    "(No column name)": "3"
                                },
                                {
                                    "UGYFEL_FK": "NANDORF",
                                    "nev": "Fő Nándor",
                                    "METTOL": "2017-02-05",
                                    "meddig": "2017-02-08",
                                    "(No column name)": "6"
                                },
                                {
                                    "UGYFEL_FK": "nikolett3",
                                    "nev": "Horváth Nikolett",
                                    "METTOL": "2016-05-24",
                                    "meddig": "2016-05-29",
                                    "(No column name)": "NULL"
                                },
                                {
                                    "UGYFEL_FK": "nikolett3",
                                    "nev": "Horváth Nikolett",
                                    "METTOL": "2016-06-03",
                                    "meddig": "2016-06-09",
                                    "(No column name)": "2"
                                },
                                {
                                    "UGYFEL_FK": "nikolett3",
                                    "nev": "Horváth Nikolett",
                                    "METTOL": "2016-06-22",
                                    "meddig": "2016-06-24",
                                    "(No column name)": "3"
                                },
                                {
                                    "UGYFEL_FK": "nikolett3",
                                    "nev": "Horváth Nikolett",
                                    "METTOL": "2016-10-22",
                                    "meddig": "2016-10-29",
                                    "(No column name)": "4"
                                },
                                {
                                    "UGYFEL_FK": "nikoletta4",
                                    "nev": "Kő Nikoletta",
                                    "METTOL": "2016-04-08",
                                    "meddig": "2016-04-10",
                                    "(No column name)": "NULL"
                                },
                                {
                                    "UGYFEL_FK": "nikoletta4",
                                    "nev": "Kő Nikoletta",
                                    "METTOL": "2016-05-09",
                                    "meddig": "2016-05-15",
                                    "(No column name)": "2"
                                },
                                {
                                    "UGYFEL_FK": "nikoletta4",
                                    "nev": "Kő Nikoletta",
                                    "METTOL": "2016-05-30",
                                    "meddig": "2016-06-03",
                                    "(No column name)": "4"
                                },
                                {
                                    "UGYFEL_FK": "nikoletta4",
                                    "nev": "Kő Nikoletta",
                                    "METTOL": "2016-06-29",
                                    "meddig": "2016-07-06",
                                    "(No column name)": "7"
                                },
                                {
                                    "UGYFEL_FK": "nikoletta4",
                                    "nev": "Kő Nikoletta",
                                    "METTOL": "2016-08-13",
                                    "meddig": "2016-08-17",
                                    "(No column name)": "7"
                                },
                                {
                                    "UGYFEL_FK": "nikoletta4",
                                    "nev": "Kő Nikoletta",
                                    "METTOL": "2016-12-08",
                                    "meddig": "2016-12-10",
                                    "(No column name)": "8"
                                },
                                {
                                    "UGYFEL_FK": "nikoletta4",
                                    "nev": "Kő Nikoletta",
                                    "METTOL": "2017-02-01",
                                    "meddig": "2017-02-04",
                                    "(No column name)": "10"
                                },
                                {
                                    "UGYFEL_FK": "NIKOLETTAT",
                                    "nev": "Tatár Nikoletta",
                                    "METTOL": "2016-05-22",
                                    "meddig": "2016-05-23",
                                    "(No column name)": "NULL"
                                },
                                {
                                    "UGYFEL_FK": "NIKOLETTAT",
                                    "nev": "Tatár Nikoletta",
                                    "METTOL": "2016-06-07",
                                    "meddig": "2016-06-09",
                                    "(No column name)": "4"
                                },
                                {
                                    "UGYFEL_FK": "NIKOLETTAT",
                                    "nev": "Tatár Nikoletta",
                                    "METTOL": "2016-07-27",
                                    "meddig": "2016-07-29",
                                    "(No column name)": "6"
                                },
                                {
                                    "UGYFEL_FK": "NIKOLETTAT",
                                    "nev": "Tatár Nikoletta",
                                    "METTOL": "2016-09-21",
                                    "meddig": "2016-09-26",
                                    "(No column name)": "10"
                                },
                                {
                                    "UGYFEL_FK": "norbert",
                                    "nev": "Szűcs Norbert",
                                    "METTOL": "2016-07-08",
                                    "meddig": "2016-07-13",
                                    "(No column name)": "NULL"
                                },
                                {
                                    "UGYFEL_FK": "norbert",
                                    "nev": "Szűcs Norbert",
                                    "METTOL": "2016-11-16",
                                    "meddig": "2016-11-23",
                                    "(No column name)": "1"
                                },
                                {
                                    "UGYFEL_FK": "norbert",
                                    "nev": "Szűcs Norbert",
                                    "METTOL": "2016-12-15",
                                    "meddig": "2016-12-18",
                                    "(No column name)": "4"
                                },
                                {
                                    "UGYFEL_FK": "norbert",
                                    "nev": "Szűcs Norbert",
                                    "METTOL": "2017-02-13",
                                    "meddig": "2017-02-15",
                                    "(No column name)": "6"
                                },
                                {
                                    "UGYFEL_FK": "norbert",
                                    "nev": "Szűcs Norbert",
                                    "METTOL": "2017-02-26",
                                    "meddig": "2017-03-01",
                                    "(No column name)": "8"
                                },
                                {
                                    "UGYFEL_FK": "norbert2",
                                    "nev": "Hegedűs Norbert",
                                    "METTOL": "2016-04-19",
                                    "meddig": "2016-04-26",
                                    "(No column name)": "NULL"
                                },
                                {
                                    "UGYFEL_FK": "norbert2",
                                    "nev": "Hegedűs Norbert",
                                    "METTOL": "2016-05-09",
                                    "meddig": "2016-05-10",
                                    "(No column name)": "1"
                                },
                                {
                                    "UGYFEL_FK": "norbert2",
                                    "nev": "Hegedűs Norbert",
                                    "METTOL": "2016-07-13",
                                    "meddig": "2016-07-15",
                                    "(No column name)": "3"
                                },
                                {
                                    "UGYFEL_FK": "norbert2",
                                    "nev": "Hegedűs Norbert",
                                    "METTOL": "2016-07-27",
                                    "meddig": "2016-08-02",
                                    "(No column name)": "6"
                                },
                                {
                                    "UGYFEL_FK": "norbert2",
                                    "nev": "Hegedűs Norbert",
                                    "METTOL": "2016-08-16",
                                    "meddig": "2016-08-19",
                                    "(No column name)": "7"
                                },
                                {
                                    "UGYFEL_FK": "norbert2",
                                    "nev": "Hegedűs Norbert",
                                    "METTOL": "2016-10-31",
                                    "meddig": "2016-11-07",
                                    "(No column name)": "6"
                                },
                                {
                                    "UGYFEL_FK": "norbert2",
                                    "nev": "Hegedűs Norbert",
                                    "METTOL": "2017-01-29",
                                    "meddig": "2017-02-05",
                                    "(No column name)": "5"
                                },
                                {
                                    "UGYFEL_FK": "norbert4",
                                    "nev": "Mile Norbert",
                                    "METTOL": "2016-04-10",
                                    "meddig": "2016-04-13",
                                    "(No column name)": "NULL"
                                },
                                {
                                    "UGYFEL_FK": "norbert4",
                                    "nev": "Mile Norbert",
                                    "METTOL": "2016-05-29",
                                    "meddig": "2016-06-03",
                                    "(No column name)": "2"
                                },
                                {
                                    "UGYFEL_FK": "norbert4",
                                    "nev": "Mile Norbert",
                                    "METTOL": "2016-06-16",
                                    "meddig": "2016-06-17",
                                    "(No column name)": "5"
                                },
                                {
                                    "UGYFEL_FK": "norbert4",
                                    "nev": "Mile Norbert",
                                    "METTOL": "2016-06-16",
                                    "meddig": "2016-06-21",
                                    "(No column name)": "9"
                                },
                                {
                                    "UGYFEL_FK": "norbert4",
                                    "nev": "Mile Norbert",
                                    "METTOL": "2016-10-05",
                                    "meddig": "2016-10-10",
                                    "(No column name)": "10"
                                },
                                {
                                    "UGYFEL_FK": "norbert4",
                                    "nev": "Mile Norbert",
                                    "METTOL": "2016-10-28",
                                    "meddig": "2016-10-31",
                                    "(No column name)": "10"
                                },
                                {
                                    "UGYFEL_FK": "norbert4",
                                    "nev": "Mile Norbert",
                                    "METTOL": "2016-11-30",
                                    "meddig": "2016-12-06",
                                    "(No column name)": "9"
                                },
                                {
                                    "UGYFEL_FK": "norbert4",
                                    "nev": "Mile Norbert",
                                    "METTOL": "2017-02-16",
                                    "meddig": "2017-02-17",
                                    "(No column name)": "9"
                                },
                                {
                                    "UGYFEL_FK": "norbert4",
                                    "nev": "Mile Norbert",
                                    "METTOL": "2017-03-03",
                                    "meddig": "2017-03-07",
                                    "(No column name)": "7"
                                },
                                {
                                    "UGYFEL_FK": "norbert5",
                                    "nev": "Béres Norbert",
                                    "METTOL": "2016-06-24",
                                    "meddig": "2016-06-28",
                                    "(No column name)": "NULL"
                                },
                                {
                                    "UGYFEL_FK": "norbert5",
                                    "nev": "Béres Norbert",
                                    "METTOL": "2016-08-10",
                                    "meddig": "2016-08-11",
                                    "(No column name)": "2"
                                },
                                {
                                    "UGYFEL_FK": "norbert5",
                                    "nev": "Béres Norbert",
                                    "METTOL": "2016-11-05",
                                    "meddig": "2016-11-07",
                                    "(No column name)": "4"
                                },
                                {
                                    "UGYFEL_FK": "pal",
                                    "nev": "Barabás Pál",
                                    "METTOL": "2016-08-14",
                                    "meddig": "2016-08-18",
                                    "(No column name)": "NULL"
                                },
                                {
                                    "UGYFEL_FK": "pal",
                                    "nev": "Barabás Pál",
                                    "METTOL": "2016-09-16",
                                    "meddig": "2016-09-19",
                                    "(No column name)": "3"
                                },
                                {
                                    "UGYFEL_FK": "pal",
                                    "nev": "Barabás Pál",
                                    "METTOL": "2016-12-17",
                                    "meddig": "2016-12-23",
                                    "(No column name)": "5"
                                },
                                {
                                    "UGYFEL_FK": "pal",
                                    "nev": "Barabás Pál",
                                    "METTOL": "2017-02-13",
                                    "meddig": "2017-02-19",
                                    "(No column name)": "8"
                                },
                                {
                                    "UGYFEL_FK": "pal",
                                    "nev": "Barabás Pál",
                                    "METTOL": "2017-02-20",
                                    "meddig": "2017-02-22",
                                    "(No column name)": "8"
                                },
                                {
                                    "UGYFEL_FK": "peter1",
                                    "nev": "Kozma Péter",
                                    "METTOL": "2016-07-14",
                                    "meddig": "2016-07-18",
                                    "(No column name)": "NULL"
                                },
                                {
                                    "UGYFEL_FK": "peter1",
                                    "nev": "Kozma Péter",
                                    "METTOL": "2016-10-26",
                                    "meddig": "2016-11-01",
                                    "(No column name)": "3"
                                },
                                {
                                    "UGYFEL_FK": "peter1",
                                    "nev": "Kozma Péter",
                                    "METTOL": "2017-02-23",
                                    "meddig": "2017-02-26",
                                    "(No column name)": "6"
                                },
                                {
                                    "UGYFEL_FK": "peter1",
                                    "nev": "Kozma Péter",
                                    "METTOL": "2017-02-28",
                                    "meddig": "2017-03-05",
                                    "(No column name)": "9"
                                },
                                {
                                    "UGYFEL_FK": "peter2",
                                    "nev": "Bozsó Péter",
                                    "METTOL": "2016-07-03",
                                    "meddig": "2016-07-08",
                                    "(No column name)": "NULL"
                                },
                                {
                                    "UGYFEL_FK": "peter2",
                                    "nev": "Bozsó Péter",
                                    "METTOL": "2016-10-10",
                                    "meddig": "2016-10-16",
                                    "(No column name)": "2"
                                },
                                {
                                    "UGYFEL_FK": "peter2",
                                    "nev": "Bozsó Péter",
                                    "METTOL": "2016-11-01",
                                    "meddig": "2016-11-02",
                                    "(No column name)": "4"
                                },
                                {
                                    "UGYFEL_FK": "peter2",
                                    "nev": "Bozsó Péter",
                                    "METTOL": "2016-11-15",
                                    "meddig": "2016-11-21",
                                    "(No column name)": "6"
                                },
                                {
                                    "UGYFEL_FK": "peter3",
                                    "nev": "Szalai Péter",
                                    "METTOL": "2016-06-30",
                                    "meddig": "2016-07-05",
                                    "(No column name)": "NULL"
                                },
                                {
                                    "UGYFEL_FK": "peter3",
                                    "nev": "Szalai Péter",
                                    "METTOL": "2016-07-27",
                                    "meddig": "2016-07-31",
                                    "(No column name)": "3"
                                },
                                {
                                    "UGYFEL_FK": "peter3",
                                    "nev": "Szalai Péter",
                                    "METTOL": "2016-10-30",
                                    "meddig": "2016-11-06",
                                    "(No column name)": "7"
                                },
                                {
                                    "UGYFEL_FK": "peter3",
                                    "nev": "Szalai Péter",
                                    "METTOL": "2016-12-25",
                                    "meddig": "2016-12-28",
                                    "(No column name)": "9"
                                },
                                {
                                    "UGYFEL_FK": "peter3",
                                    "nev": "Szalai Péter",
                                    "METTOL": "2017-01-12",
                                    "meddig": "2017-01-17",
                                    "(No column name)": "7"
                                },
                                {
                                    "UGYFEL_FK": "peter3",
                                    "nev": "Szalai Péter",
                                    "METTOL": "2017-02-21",
                                    "meddig": "2017-02-24",
                                    "(No column name)": "4"
                                },
                                {
                                    "UGYFEL_FK": "peter4",
                                    "nev": "Bíró Péter",
                                    "METTOL": "2016-04-12",
                                    "meddig": "2016-04-15",
                                    "(No column name)": "NULL"
                                },
                                {
                                    "UGYFEL_FK": "peter4",
                                    "nev": "Bíró Péter",
                                    "METTOL": "2016-08-06",
                                    "meddig": "2016-08-13",
                                    "(No column name)": "3"
                                },
                                {
                                    "UGYFEL_FK": "peter4",
                                    "nev": "Bíró Péter",
                                    "METTOL": "2016-08-24",
                                    "meddig": "2016-08-25",
                                    "(No column name)": "5"
                                },
                                {
                                    "UGYFEL_FK": "peter4",
                                    "nev": "Bíró Péter",
                                    "METTOL": "2016-09-11",
                                    "meddig": "2016-09-17",
                                    "(No column name)": "8"
                                },
                                {
                                    "UGYFEL_FK": "peter4",
                                    "nev": "Bíró Péter",
                                    "METTOL": "2016-09-25",
                                    "meddig": "2016-09-26",
                                    "(No column name)": "9"
                                },
                                {
                                    "UGYFEL_FK": "peter4",
                                    "nev": "Bíró Péter",
                                    "METTOL": "2016-09-30",
                                    "meddig": "2016-10-06",
                                    "(No column name)": "10"
                                },
                                {
                                    "UGYFEL_FK": "peter4",
                                    "nev": "Bíró Péter",
                                    "METTOL": "2016-10-09",
                                    "meddig": "2016-10-16",
                                    "(No column name)": "10"
                                },
                                {
                                    "UGYFEL_FK": "peter4",
                                    "nev": "Bíró Péter",
                                    "METTOL": "2016-10-24",
                                    "meddig": "2016-10-25",
                                    "(No column name)": "9"
                                },
                                {
                                    "UGYFEL_FK": "peter4",
                                    "nev": "Bíró Péter",
                                    "METTOL": "2016-10-30",
                                    "meddig": "2016-11-01",
                                    "(No column name)": "8"
                                },
                                {
                                    "UGYFEL_FK": "peter4",
                                    "nev": "Bíró Péter",
                                    "METTOL": "2016-11-10",
                                    "meddig": "2016-11-17",
                                    "(No column name)": "8"
                                },
                                {
                                    "UGYFEL_FK": "peter4",
                                    "nev": "Bíró Péter",
                                    "METTOL": "2016-11-25",
                                    "meddig": "2016-11-30",
                                    "(No column name)": "8"
                                },
                                {
                                    "UGYFEL_FK": "peter4",
                                    "nev": "Bíró Péter",
                                    "METTOL": "2017-02-05",
                                    "meddig": "2017-02-09",
                                    "(No column name)": "9"
                                },
                                {
                                    "UGYFEL_FK": "PETERB",
                                    "nev": "Berendi Péter",
                                    "METTOL": "2016-04-06",
                                    "meddig": "2016-04-10",
                                    "(No column name)": "NULL"
                                },
                                {
                                    "UGYFEL_FK": "PETERB",
                                    "nev": "Berendi Péter",
                                    "METTOL": "2016-07-20",
                                    "meddig": "2016-07-24",
                                    "(No column name)": "1"
                                },
                                {
                                    "UGYFEL_FK": "PETERB",
                                    "nev": "Berendi Péter",
                                    "METTOL": "2016-08-16",
                                    "meddig": "2016-08-23",
                                    "(No column name)": "3"
                                },
                                {
                                    "UGYFEL_FK": "PETERB",
                                    "nev": "Berendi Péter",
                                    "METTOL": "2016-10-19",
                                    "meddig": "2016-10-20",
                                    "(No column name)": "4"
                                },
                                {
                                    "UGYFEL_FK": "PETERB",
                                    "nev": "Berendi Péter",
                                    "METTOL": "2016-11-17",
                                    "meddig": "2016-11-20",
                                    "(No column name)": "7"
                                },
                                {
                                    "UGYFEL_FK": "polla",
                                    "nev": "Palágyi Polla",
                                    "METTOL": "2016-04-17",
                                    "meddig": "2016-04-22",
                                    "(No column name)": "NULL"
                                },
                                {
                                    "UGYFEL_FK": "polla",
                                    "nev": "Palágyi Polla",
                                    "METTOL": "2016-05-28",
                                    "meddig": "2016-06-04",
                                    "(No column name)": "3"
                                },
                                {
                                    "UGYFEL_FK": "polla",
                                    "nev": "Palágyi Polla",
                                    "METTOL": "2016-08-14",
                                    "meddig": "2016-08-17",
                                    "(No column name)": "5"
                                },
                                {
                                    "UGYFEL_FK": "polla",
                                    "nev": "Palágyi Polla",
                                    "METTOL": "2016-08-16",
                                    "meddig": "2016-08-19",
                                    "(No column name)": "7"
                                },
                                {
                                    "UGYFEL_FK": "polla",
                                    "nev": "Palágyi Polla",
                                    "METTOL": "2017-01-29",
                                    "meddig": "2017-02-01",
                                    "(No column name)": "8"
                                },
                                {
                                    "UGYFEL_FK": "polla",
                                    "nev": "Palágyi Polla",
                                    "METTOL": "2017-02-11",
                                    "meddig": "2017-02-16",
                                    "(No column name)": "8"
                                },
                                {
                                    "UGYFEL_FK": "rajmond4",
                                    "nev": "Rácz Rajmond",
                                    "METTOL": "2016-09-05",
                                    "meddig": "2016-09-07",
                                    "(No column name)": "NULL"
                                },
                                {
                                    "UGYFEL_FK": "rajmond4",
                                    "nev": "Rácz Rajmond",
                                    "METTOL": "2016-10-03",
                                    "meddig": "2016-10-04",
                                    "(No column name)": "3"
                                },
                                {
                                    "UGYFEL_FK": "rajmond4",
                                    "nev": "Rácz Rajmond",
                                    "METTOL": "2016-11-08",
                                    "meddig": "2016-11-09",
                                    "(No column name)": "6"
                                },
                                {
                                    "UGYFEL_FK": "rajmond4",
                                    "nev": "Rácz Rajmond",
                                    "METTOL": "2016-11-16",
                                    "meddig": "2016-11-20",
                                    "(No column name)": "10"
                                },
                                {
                                    "UGYFEL_FK": "reka4",
                                    "nev": "Szikszai Réka",
                                    "METTOL": "2016-07-27",
                                    "meddig": "2016-07-31",
                                    "(No column name)": "NULL"
                                },
                                {
                                    "UGYFEL_FK": "reka4",
                                    "nev": "Szikszai Réka",
                                    "METTOL": "2016-08-02",
                                    "meddig": "2016-08-04",
                                    "(No column name)": "2"
                                },
                                {
                                    "UGYFEL_FK": "reka4",
                                    "nev": "Szikszai Réka",
                                    "METTOL": "2016-09-05",
                                    "meddig": "2016-09-07",
                                    "(No column name)": "6"
                                },
                                {
                                    "UGYFEL_FK": "reka4",
                                    "nev": "Szikszai Réka",
                                    "METTOL": "2016-09-30",
                                    "meddig": "2016-10-06",
                                    "(No column name)": "9"
                                },
                                {
                                    "UGYFEL_FK": "reka4",
                                    "nev": "Szikszai Réka",
                                    "METTOL": "2017-02-26",
                                    "meddig": "2017-03-04",
                                    "(No column name)": "9"
                                },
                                {
                                    "UGYFEL_FK": "RENATAK",
                                    "nev": "Kardos Renáta",
                                    "METTOL": "2016-10-27",
                                    "meddig": "2016-10-29",
                                    "(No column name)": "NULL"
                                },
                                {
                                    "UGYFEL_FK": "RENATAK",
                                    "nev": "Kardos Renáta",
                                    "METTOL": "2016-10-30",
                                    "meddig": "2016-10-31",
                                    "(No column name)": "4"
                                },
                                {
                                    "UGYFEL_FK": "RENATAK",
                                    "nev": "Kardos Renáta",
                                    "METTOL": "2016-11-23",
                                    "meddig": "2016-11-26",
                                    "(No column name)": "5"
                                },
                                {
                                    "UGYFEL_FK": "RENATAK",
                                    "nev": "Kardos Renáta",
                                    "METTOL": "2017-01-23",
                                    "meddig": "2017-01-24",
                                    "(No column name)": "6"
                                },
                                {
                                    "UGYFEL_FK": "RENATAK",
                                    "nev": "Kardos Renáta",
                                    "METTOL": "2017-02-16",
                                    "meddig": "2017-02-23",
                                    "(No column name)": "5"
                                },
                                {
                                    "UGYFEL_FK": "RENATAK",
                                    "nev": "Kardos Renáta",
                                    "METTOL": "2017-03-01",
                                    "meddig": "2017-03-06",
                                    "(No column name)": "5"
                                },
                                {
                                    "UGYFEL_FK": "RENATAS",
                                    "nev": "Szirmai Renáta",
                                    "METTOL": "2016-05-04",
                                    "meddig": "2016-05-11",
                                    "(No column name)": "NULL"
                                },
                                {
                                    "UGYFEL_FK": "RENATAS",
                                    "nev": "Szirmai Renáta",
                                    "METTOL": "2016-05-11",
                                    "meddig": "2016-05-16",
                                    "(No column name)": "2"
                                },
                                {
                                    "UGYFEL_FK": "RENATAS",
                                    "nev": "Szirmai Renáta",
                                    "METTOL": "2016-06-24",
                                    "meddig": "2016-06-30",
                                    "(No column name)": "4"
                                },
                                {
                                    "UGYFEL_FK": "RENATAS",
                                    "nev": "Szirmai Renáta",
                                    "METTOL": "2017-02-13",
                                    "meddig": "2017-02-17",
                                    "(No column name)": "9"
                                },
                                {
                                    "UGYFEL_FK": "RENATAS",
                                    "nev": "Szirmai Renáta",
                                    "METTOL": "2017-02-14",
                                    "meddig": "2017-02-17",
                                    "(No column name)": "8"
                                },
                                {
                                    "UGYFEL_FK": "robert2",
                                    "nev": "Patay Róbert",
                                    "METTOL": "2016-05-15",
                                    "meddig": "2016-05-18",
                                    "(No column name)": "NULL"
                                },
                                {
                                    "UGYFEL_FK": "robert2",
                                    "nev": "Patay Róbert",
                                    "METTOL": "2016-08-20",
                                    "meddig": "2016-08-27",
                                    "(No column name)": "2"
                                },
                                {
                                    "UGYFEL_FK": "robert2",
                                    "nev": "Patay Róbert",
                                    "METTOL": "2016-10-23",
                                    "meddig": "2016-10-28",
                                    "(No column name)": "4"
                                },
                                {
                                    "UGYFEL_FK": "robert2",
                                    "nev": "Patay Róbert",
                                    "METTOL": "2016-12-17",
                                    "meddig": "2016-12-22",
                                    "(No column name)": "7"
                                },
                                {
                                    "UGYFEL_FK": "ROBERTI",
                                    "nev": "Iván Róbert",
                                    "METTOL": "2016-07-12",
                                    "meddig": "2016-07-19",
                                    "(No column name)": "NULL"
                                },
                                {
                                    "UGYFEL_FK": "ROBERTI",
                                    "nev": "Iván Róbert",
                                    "METTOL": "2016-08-16",
                                    "meddig": "2016-08-21",
                                    "(No column name)": "4"
                                },
                                {
                                    "UGYFEL_FK": "ROBERTI",
                                    "nev": "Iván Róbert",
                                    "METTOL": "2016-08-23",
                                    "meddig": "2016-08-25",
                                    "(No column name)": "6"
                                },
                                {
                                    "UGYFEL_FK": "ROBERTI",
                                    "nev": "Iván Róbert",
                                    "METTOL": "2016-10-08",
                                    "meddig": "2016-10-12",
                                    "(No column name)": "8"
                                },
                                {
                                    "UGYFEL_FK": "ROBERTI",
                                    "nev": "Iván Róbert",
                                    "METTOL": "2016-10-09",
                                    "meddig": "2016-10-10",
                                    "(No column name)": "7"
                                },
                                {
                                    "UGYFEL_FK": "ROBERTI",
                                    "nev": "Iván Róbert",
                                    "METTOL": "2016-10-23",
                                    "meddig": "2016-10-29",
                                    "(No column name)": "7"
                                },
                                {
                                    "UGYFEL_FK": "ROBERTI",
                                    "nev": "Iván Róbert",
                                    "METTOL": "2016-10-26",
                                    "meddig": "2016-11-01",
                                    "(No column name)": "6"
                                },
                                {
                                    "UGYFEL_FK": "ROBERTI",
                                    "nev": "Iván Róbert",
                                    "METTOL": "2017-02-17",
                                    "meddig": "2017-02-20",
                                    "(No column name)": "5"
                                },
                                {
                                    "UGYFEL_FK": "ROBERTP",
                                    "nev": "Pásztor Róbert",
                                    "METTOL": "2016-07-30",
                                    "meddig": "2016-08-05",
                                    "(No column name)": "NULL"
                                },
                                {
                                    "UGYFEL_FK": "ROBERTP",
                                    "nev": "Pásztor Róbert",
                                    "METTOL": "2016-09-08",
                                    "meddig": "2016-09-11",
                                    "(No column name)": "2"
                                },
                                {
                                    "UGYFEL_FK": "roland",
                                    "nev": "Tóth Roland",
                                    "METTOL": "2016-06-09",
                                    "meddig": "2016-06-13",
                                    "(No column name)": "NULL"
                                },
                                {
                                    "UGYFEL_FK": "roland",
                                    "nev": "Tóth Roland",
                                    "METTOL": "2016-06-22",
                                    "meddig": "2016-06-23",
                                    "(No column name)": "3"
                                },
                                {
                                    "UGYFEL_FK": "roland",
                                    "nev": "Tóth Roland",
                                    "METTOL": "2016-09-04",
                                    "meddig": "2016-09-05",
                                    "(No column name)": "6"
                                },
                                {
                                    "UGYFEL_FK": "roland",
                                    "nev": "Tóth Roland",
                                    "METTOL": "2016-11-19",
                                    "meddig": "2016-11-24",
                                    "(No column name)": "8"
                                },
                                {
                                    "UGYFEL_FK": "roland1",
                                    "nev": "Ferencz Roland",
                                    "METTOL": "2016-11-05",
                                    "meddig": "2016-11-07",
                                    "(No column name)": "NULL"
                                },
                                {
                                    "UGYFEL_FK": "roland1",
                                    "nev": "Ferencz Roland",
                                    "METTOL": "2016-12-22",
                                    "meddig": "2016-12-29",
                                    "(No column name)": "3"
                                },
                                {
                                    "UGYFEL_FK": "roland1",
                                    "nev": "Ferencz Roland",
                                    "METTOL": "2017-01-04",
                                    "meddig": "2017-01-08",
                                    "(No column name)": "4"
                                },
                                {
                                    "UGYFEL_FK": "roland1",
                                    "nev": "Ferencz Roland",
                                    "METTOL": "2017-01-16",
                                    "meddig": "2017-01-22",
                                    "(No column name)": "7"
                                },
                                {
                                    "UGYFEL_FK": "roza2",
                                    "nev": "Bucskó Róza",
                                    "METTOL": "2016-09-10",
                                    "meddig": "2016-09-13",
                                    "(No column name)": "NULL"
                                },
                                {
                                    "UGYFEL_FK": "roza2",
                                    "nev": "Bucskó Róza",
                                    "METTOL": "2017-01-11",
                                    "meddig": "2017-01-17",
                                    "(No column name)": "2"
                                },
                                {
                                    "UGYFEL_FK": "roza2",
                                    "nev": "Bucskó Róza",
                                    "METTOL": "2017-02-18",
                                    "meddig": "2017-02-21",
                                    "(No column name)": "5"
                                },
                                {
                                    "UGYFEL_FK": "sandor",
                                    "nev": "Karasz Sándor",
                                    "METTOL": "2016-07-04",
                                    "meddig": "2016-07-06",
                                    "(No column name)": "NULL"
                                },
                                {
                                    "UGYFEL_FK": "sandor",
                                    "nev": "Karasz Sándor",
                                    "METTOL": "2016-07-18",
                                    "meddig": "2016-07-24",
                                    "(No column name)": "2"
                                },
                                {
                                    "UGYFEL_FK": "sandor",
                                    "nev": "Karasz Sándor",
                                    "METTOL": "2016-08-20",
                                    "meddig": "2016-08-25",
                                    "(No column name)": "4"
                                },
                                {
                                    "UGYFEL_FK": "sandor",
                                    "nev": "Karasz Sándor",
                                    "METTOL": "2016-09-19",
                                    "meddig": "2016-09-26",
                                    "(No column name)": "6"
                                },
                                {
                                    "UGYFEL_FK": "sandor3",
                                    "nev": "Farkas Sándor",
                                    "METTOL": "2016-05-12",
                                    "meddig": "2016-05-15",
                                    "(No column name)": "NULL"
                                },
                                {
                                    "UGYFEL_FK": "sandor3",
                                    "nev": "Farkas Sándor",
                                    "METTOL": "2016-05-25",
                                    "meddig": "2016-05-30",
                                    "(No column name)": "2"
                                },
                                {
                                    "UGYFEL_FK": "sandor3",
                                    "nev": "Farkas Sándor",
                                    "METTOL": "2016-10-09",
                                    "meddig": "2016-10-14",
                                    "(No column name)": "3"
                                },
                                {
                                    "UGYFEL_FK": "sandor3",
                                    "nev": "Farkas Sándor",
                                    "METTOL": "2016-10-23",
                                    "meddig": "2016-10-29",
                                    "(No column name)": "5"
                                },
                                {
                                    "UGYFEL_FK": "sandor3",
                                    "nev": "Farkas Sándor",
                                    "METTOL": "2016-11-10",
                                    "meddig": "2016-11-11",
                                    "(No column name)": "6"
                                },
                                {
                                    "UGYFEL_FK": "sandor4",
                                    "nev": "Nagy Sándor",
                                    "METTOL": "2016-10-15",
                                    "meddig": "2016-10-18",
                                    "(No column name)": "NULL"
                                },
                                {
                                    "UGYFEL_FK": "sandor4",
                                    "nev": "Nagy Sándor",
                                    "METTOL": "2016-11-29",
                                    "meddig": "2016-12-03",
                                    "(No column name)": "1"
                                },
                                {
                                    "UGYFEL_FK": "sandor4",
                                    "nev": "Nagy Sándor",
                                    "METTOL": "2016-12-03",
                                    "meddig": "2016-12-09",
                                    "(No column name)": "3"
                                },
                                {
                                    "UGYFEL_FK": "sandor4",
                                    "nev": "Nagy Sándor",
                                    "METTOL": "2017-01-22",
                                    "meddig": "2017-01-26",
                                    "(No column name)": "4"
                                },
                                {
                                    "UGYFEL_FK": "sara",
                                    "nev": "Farkas Sára",
                                    "METTOL": "2016-05-28",
                                    "meddig": "2016-05-30",
                                    "(No column name)": "NULL"
                                },
                                {
                                    "UGYFEL_FK": "sara",
                                    "nev": "Farkas Sára",
                                    "METTOL": "2016-05-30",
                                    "meddig": "2016-05-31",
                                    "(No column name)": "2"
                                },
                                {
                                    "UGYFEL_FK": "sara",
                                    "nev": "Farkas Sára",
                                    "METTOL": "2016-06-06",
                                    "meddig": "2016-06-08",
                                    "(No column name)": "4"
                                },
                                {
                                    "UGYFEL_FK": "sara",
                                    "nev": "Farkas Sára",
                                    "METTOL": "2016-07-15",
                                    "meddig": "2016-07-17",
                                    "(No column name)": "6"
                                },
                                {
                                    "UGYFEL_FK": "sara",
                                    "nev": "Farkas Sára",
                                    "METTOL": "2016-07-24",
                                    "meddig": "2016-07-27",
                                    "(No column name)": "7"
                                },
                                {
                                    "UGYFEL_FK": "sara",
                                    "nev": "Farkas Sára",
                                    "METTOL": "2016-10-06",
                                    "meddig": "2016-10-12",
                                    "(No column name)": "8"
                                },
                                {
                                    "UGYFEL_FK": "sara",
                                    "nev": "Farkas Sára",
                                    "METTOL": "2016-10-11",
                                    "meddig": "2016-10-14",
                                    "(No column name)": "9"
                                },
                                {
                                    "UGYFEL_FK": "sara",
                                    "nev": "Farkas Sára",
                                    "METTOL": "2016-10-28",
                                    "meddig": "2016-11-03",
                                    "(No column name)": "9"
                                },
                                {
                                    "UGYFEL_FK": "sara",
                                    "nev": "Farkas Sára",
                                    "METTOL": "2016-11-18",
                                    "meddig": "2016-11-21",
                                    "(No column name)": "8"
                                },
                                {
                                    "UGYFEL_FK": "sara",
                                    "nev": "Farkas Sára",
                                    "METTOL": "2016-11-23",
                                    "meddig": "2016-11-30",
                                    "(No column name)": "8"
                                },
                                {
                                    "UGYFEL_FK": "sara",
                                    "nev": "Farkas Sára",
                                    "METTOL": "2016-12-06",
                                    "meddig": "2016-12-10",
                                    "(No column name)": "9"
                                },
                                {
                                    "UGYFEL_FK": "sara",
                                    "nev": "Farkas Sára",
                                    "METTOL": "2016-12-25",
                                    "meddig": "2016-12-30",
                                    "(No column name)": "8"
                                },
                                {
                                    "UGYFEL_FK": "SEBASTIANF",
                                    "nev": "Foltényi Sebastián",
                                    "METTOL": "2016-04-06",
                                    "meddig": "2016-04-12",
                                    "(No column name)": "NULL"
                                },
                                {
                                    "UGYFEL_FK": "SEBASTIANF",
                                    "nev": "Foltényi Sebastián",
                                    "METTOL": "2016-07-17",
                                    "meddig": "2016-07-21",
                                    "(No column name)": "2"
                                },
                                {
                                    "UGYFEL_FK": "SEBASTIANF",
                                    "nev": "Foltényi Sebastián",
                                    "METTOL": "2016-07-30",
                                    "meddig": "2016-08-06",
                                    "(No column name)": "4"
                                },
                                {
                                    "UGYFEL_FK": "SEBASTIANF",
                                    "nev": "Foltényi Sebastián",
                                    "METTOL": "2016-09-14",
                                    "meddig": "2016-09-15",
                                    "(No column name)": "8"
                                },
                                {
                                    "UGYFEL_FK": "SEBASTIANF",
                                    "nev": "Foltényi Sebastián",
                                    "METTOL": "2016-09-17",
                                    "meddig": "2016-09-20",
                                    "(No column name)": "9"
                                },
                                {
                                    "UGYFEL_FK": "sebestyen",
                                    "nev": "Rab Sebestyén",
                                    "METTOL": "2016-04-07",
                                    "meddig": "2016-04-12",
                                    "(No column name)": "NULL"
                                },
                                {
                                    "UGYFEL_FK": "sebestyen",
                                    "nev": "Rab Sebestyén",
                                    "METTOL": "2016-04-26",
                                    "meddig": "2016-05-02",
                                    "(No column name)": "4"
                                },
                                {
                                    "UGYFEL_FK": "sebestyen",
                                    "nev": "Rab Sebestyén",
                                    "METTOL": "2016-06-09",
                                    "meddig": "2016-06-14",
                                    "(No column name)": "8"
                                },
                                {
                                    "UGYFEL_FK": "sebestyen",
                                    "nev": "Rab Sebestyén",
                                    "METTOL": "2016-10-26",
                                    "meddig": "2016-11-01",
                                    "(No column name)": "12"
                                },
                                {
                                    "UGYFEL_FK": "szabolcs",
                                    "nev": "Bodor Szabolcs",
                                    "METTOL": "2016-12-05",
                                    "meddig": "2016-12-07",
                                    "(No column name)": "NULL"
                                },
                                {
                                    "UGYFEL_FK": "SZABOLCSM",
                                    "nev": "Miklós Szabolcs",
                                    "METTOL": "2016-06-18",
                                    "meddig": "2016-06-21",
                                    "(No column name)": "NULL"
                                },
                                {
                                    "UGYFEL_FK": "SZABOLCSM",
                                    "nev": "Miklós Szabolcs",
                                    "METTOL": "2016-07-28",
                                    "meddig": "2016-08-03",
                                    "(No column name)": "3"
                                },
                                {
                                    "UGYFEL_FK": "SZABOLCSM",
                                    "nev": "Miklós Szabolcs",
                                    "METTOL": "2016-10-17",
                                    "meddig": "2016-10-19",
                                    "(No column name)": "5"
                                },
                                {
                                    "UGYFEL_FK": "SZABOLCSM",
                                    "nev": "Miklós Szabolcs",
                                    "METTOL": "2016-10-28",
                                    "meddig": "2016-11-03",
                                    "(No column name)": "7"
                                },
                                {
                                    "UGYFEL_FK": "SZABOLCSM",
                                    "nev": "Miklós Szabolcs",
                                    "METTOL": "2016-11-12",
                                    "meddig": "2016-11-13",
                                    "(No column name)": "7"
                                },
                                {
                                    "UGYFEL_FK": "SZABOLCSM",
                                    "nev": "Miklós Szabolcs",
                                    "METTOL": "2017-01-07",
                                    "meddig": "2017-01-08",
                                    "(No column name)": "7"
                                },
                                {
                                    "UGYFEL_FK": "SZABOLCSM",
                                    "nev": "Miklós Szabolcs",
                                    "METTOL": "2017-02-04",
                                    "meddig": "2017-02-05",
                                    "(No column name)": "7"
                                },
                                {
                                    "UGYFEL_FK": "SZILARDS",
                                    "nev": "Szalai Szilárd",
                                    "METTOL": "2016-04-23",
                                    "meddig": "2016-04-30",
                                    "(No column name)": "NULL"
                                },
                                {
                                    "UGYFEL_FK": "SZILARDS",
                                    "nev": "Szalai Szilárd",
                                    "METTOL": "2016-07-27",
                                    "meddig": "2016-08-03",
                                    "(No column name)": "3"
                                },
                                {
                                    "UGYFEL_FK": "SZILARDS",
                                    "nev": "Szalai Szilárd",
                                    "METTOL": "2016-08-28",
                                    "meddig": "2016-08-29",
                                    "(No column name)": "8"
                                },
                                {
                                    "UGYFEL_FK": "SZILARDS",
                                    "nev": "Szalai Szilárd",
                                    "METTOL": "2016-09-20",
                                    "meddig": "2016-09-24",
                                    "(No column name)": "12"
                                },
                                {
                                    "UGYFEL_FK": "SZILARDS",
                                    "nev": "Szalai Szilárd",
                                    "METTOL": "2016-10-01",
                                    "meddig": "2016-10-08",
                                    "(No column name)": "12"
                                },
                                {
                                    "UGYFEL_FK": "SZILARDS",
                                    "nev": "Szalai Szilárd",
                                    "METTOL": "2017-01-16",
                                    "meddig": "2017-01-19",
                                    "(No column name)": "10"
                                },
                                {
                                    "UGYFEL_FK": "SZILARDS",
                                    "nev": "Szalai Szilárd",
                                    "METTOL": "2017-02-08",
                                    "meddig": "2017-02-15",
                                    "(No column name)": "9"
                                },
                                {
                                    "UGYFEL_FK": "szilvia1",
                                    "nev": "Tari Szilvia",
                                    "METTOL": "2016-05-14",
                                    "meddig": "2016-05-21",
                                    "(No column name)": "NULL"
                                },
                                {
                                    "UGYFEL_FK": "szilvia1",
                                    "nev": "Tari Szilvia",
                                    "METTOL": "2016-05-28",
                                    "meddig": "2016-06-03",
                                    "(No column name)": "2"
                                },
                                {
                                    "UGYFEL_FK": "szilvia1",
                                    "nev": "Tari Szilvia",
                                    "METTOL": "2016-07-25",
                                    "meddig": "2016-07-28",
                                    "(No column name)": "4"
                                },
                                {
                                    "UGYFEL_FK": "szilvia1",
                                    "nev": "Tari Szilvia",
                                    "METTOL": "2016-10-09",
                                    "meddig": "2016-10-10",
                                    "(No column name)": "6"
                                },
                                {
                                    "UGYFEL_FK": "szilvia1",
                                    "nev": "Tari Szilvia",
                                    "METTOL": "2016-10-25",
                                    "meddig": "2016-10-31",
                                    "(No column name)": "7"
                                },
                                {
                                    "UGYFEL_FK": "szilvia1",
                                    "nev": "Tari Szilvia",
                                    "METTOL": "2016-10-27",
                                    "meddig": "2016-10-28",
                                    "(No column name)": "8"
                                },
                                {
                                    "UGYFEL_FK": "szilvia1",
                                    "nev": "Tari Szilvia",
                                    "METTOL": "2016-12-25",
                                    "meddig": "2016-12-29",
                                    "(No column name)": "8"
                                },
                                {
                                    "UGYFEL_FK": "szilvia1",
                                    "nev": "Tari Szilvia",
                                    "METTOL": "2016-12-27",
                                    "meddig": "2017-01-02",
                                    "(No column name)": "10"
                                },
                                {
                                    "UGYFEL_FK": "szilvia1",
                                    "nev": "Tari Szilvia",
                                    "METTOL": "2017-01-28",
                                    "meddig": "2017-02-03",
                                    "(No column name)": "9"
                                },
                                {
                                    "UGYFEL_FK": "tamara2",
                                    "nev": "Miklós Tamara",
                                    "METTOL": "2016-08-12",
                                    "meddig": "2016-08-15",
                                    "(No column name)": "NULL"
                                },
                                {
                                    "UGYFEL_FK": "tamara2",
                                    "nev": "Miklós Tamara",
                                    "METTOL": "2016-11-15",
                                    "meddig": "2016-11-18",
                                    "(No column name)": "3"
                                },
                                {
                                    "UGYFEL_FK": "tamas",
                                    "nev": "Antal Tamás",
                                    "METTOL": "2016-05-17",
                                    "meddig": "2016-05-22",
                                    "(No column name)": "NULL"
                                },
                                {
                                    "UGYFEL_FK": "tamas",
                                    "nev": "Antal Tamás",
                                    "METTOL": "2016-06-14",
                                    "meddig": "2016-06-21",
                                    "(No column name)": "2"
                                },
                                {
                                    "UGYFEL_FK": "tamas",
                                    "nev": "Antal Tamás",
                                    "METTOL": "2016-08-24",
                                    "meddig": "2016-08-27",
                                    "(No column name)": "4"
                                },
                                {
                                    "UGYFEL_FK": "tamas",
                                    "nev": "Antal Tamás",
                                    "METTOL": "2017-02-14",
                                    "meddig": "2017-02-19",
                                    "(No column name)": "7"
                                },
                                {
                                    "UGYFEL_FK": "TAMASF",
                                    "nev": "Fényes Tamás",
                                    "METTOL": "2016-05-03",
                                    "meddig": "2016-05-04",
                                    "(No column name)": "NULL"
                                },
                                {
                                    "UGYFEL_FK": "TAMASF",
                                    "nev": "Fényes Tamás",
                                    "METTOL": "2016-06-10",
                                    "meddig": "2016-06-13",
                                    "(No column name)": "2"
                                },
                                {
                                    "UGYFEL_FK": "TAMASF",
                                    "nev": "Fényes Tamás",
                                    "METTOL": "2016-06-28",
                                    "meddig": "2016-07-05",
                                    "(No column name)": "5"
                                },
                                {
                                    "UGYFEL_FK": "TAMASF",
                                    "nev": "Fényes Tamás",
                                    "METTOL": "2016-07-04",
                                    "meddig": "2016-07-10",
                                    "(No column name)": "8"
                                },
                                {
                                    "UGYFEL_FK": "TAMASF",
                                    "nev": "Fényes Tamás",
                                    "METTOL": "2016-09-12",
                                    "meddig": "2016-09-18",
                                    "(No column name)": "8"
                                },
                                {
                                    "UGYFEL_FK": "TAMASF",
                                    "nev": "Fényes Tamás",
                                    "METTOL": "2016-12-02",
                                    "meddig": "2016-12-04",
                                    "(No column name)": "8"
                                },
                                {
                                    "UGYFEL_FK": "TAMASF",
                                    "nev": "Fényes Tamás",
                                    "METTOL": "2016-12-10",
                                    "meddig": "2016-12-14",
                                    "(No column name)": "6"
                                },
                                {
                                    "UGYFEL_FK": "TAMASF",
                                    "nev": "Fényes Tamás",
                                    "METTOL": "2017-02-12",
                                    "meddig": "2017-02-17",
                                    "(No column name)": "7"
                                },
                                {
                                    "UGYFEL_FK": "TAMASF",
                                    "nev": "Fényes Tamás",
                                    "METTOL": "2017-02-16",
                                    "meddig": "2017-02-19",
                                    "(No column name)": "6"
                                },
                                {
                                    "UGYFEL_FK": "tibor",
                                    "nev": "Gombos Tibor",
                                    "METTOL": "2016-10-09",
                                    "meddig": "2016-10-13",
                                    "(No column name)": "NULL"
                                },
                                {
                                    "UGYFEL_FK": "tibor",
                                    "nev": "Gombos Tibor",
                                    "METTOL": "2016-11-05",
                                    "meddig": "2016-11-09",
                                    "(No column name)": "2"
                                },
                                {
                                    "UGYFEL_FK": "tibor2",
                                    "nev": "Dániel Tibor",
                                    "METTOL": "2016-10-20",
                                    "meddig": "2016-10-25",
                                    "(No column name)": "NULL"
                                },
                                {
                                    "UGYFEL_FK": "tihamer",
                                    "nev": "Kazy Tihamér",
                                    "METTOL": "2016-05-30",
                                    "meddig": "2016-06-05",
                                    "(No column name)": "NULL"
                                },
                                {
                                    "UGYFEL_FK": "tihamer",
                                    "nev": "Kazy Tihamér",
                                    "METTOL": "2016-06-03",
                                    "meddig": "2016-06-08",
                                    "(No column name)": "1"
                                },
                                {
                                    "UGYFEL_FK": "tihamer",
                                    "nev": "Kazy Tihamér",
                                    "METTOL": "2016-07-20",
                                    "meddig": "2016-07-24",
                                    "(No column name)": "6"
                                },
                                {
                                    "UGYFEL_FK": "tihamer",
                                    "nev": "Kazy Tihamér",
                                    "METTOL": "2016-08-18",
                                    "meddig": "2016-08-22",
                                    "(No column name)": "9"
                                },
                                {
                                    "UGYFEL_FK": "tihamer",
                                    "nev": "Kazy Tihamér",
                                    "METTOL": "2016-10-19",
                                    "meddig": "2016-10-23",
                                    "(No column name)": "11"
                                },
                                {
                                    "UGYFEL_FK": "tihamer",
                                    "nev": "Kazy Tihamér",
                                    "METTOL": "2016-12-25",
                                    "meddig": "2016-12-26",
                                    "(No column name)": "8"
                                },
                                {
                                    "UGYFEL_FK": "timea",
                                    "nev": "Papós Tímea",
                                    "METTOL": "2016-12-26",
                                    "meddig": "2016-12-27",
                                    "(No column name)": "NULL"
                                },
                                {
                                    "UGYFEL_FK": "timea2",
                                    "nev": "Dusha Tímea",
                                    "METTOL": "2016-06-06",
                                    "meddig": "2016-06-07",
                                    "(No column name)": "NULL"
                                },
                                {
                                    "UGYFEL_FK": "timea2",
                                    "nev": "Dusha Tímea",
                                    "METTOL": "2016-08-07",
                                    "meddig": "2016-08-10",
                                    "(No column name)": "2"
                                },
                                {
                                    "UGYFEL_FK": "timea2",
                                    "nev": "Dusha Tímea",
                                    "METTOL": "2016-10-26",
                                    "meddig": "2016-10-29",
                                    "(No column name)": "5"
                                },
                                {
                                    "UGYFEL_FK": "timea2",
                                    "nev": "Dusha Tímea",
                                    "METTOL": "2016-11-27",
                                    "meddig": "2016-12-01",
                                    "(No column name)": "8"
                                },
                                {
                                    "UGYFEL_FK": "timea2",
                                    "nev": "Dusha Tímea",
                                    "METTOL": "2016-12-14",
                                    "meddig": "2016-12-16",
                                    "(No column name)": "10"
                                },
                                {
                                    "UGYFEL_FK": "tunde",
                                    "nev": "Turcsik Tünde",
                                    "METTOL": "2016-06-03",
                                    "meddig": "2016-06-07",
                                    "(No column name)": "NULL"
                                },
                                {
                                    "UGYFEL_FK": "tunde",
                                    "nev": "Turcsik Tünde",
                                    "METTOL": "2016-06-06",
                                    "meddig": "2016-06-12",
                                    "(No column name)": "3"
                                },
                                {
                                    "UGYFEL_FK": "tunde",
                                    "nev": "Turcsik Tünde",
                                    "METTOL": "2016-07-14",
                                    "meddig": "2016-07-21",
                                    "(No column name)": "6"
                                },
                                {
                                    "UGYFEL_FK": "tunde",
                                    "nev": "Turcsik Tünde",
                                    "METTOL": "2016-09-05",
                                    "meddig": "2016-09-12",
                                    "(No column name)": "7"
                                },
                                {
                                    "UGYFEL_FK": "tunde",
                                    "nev": "Turcsik Tünde",
                                    "METTOL": "2016-10-24",
                                    "meddig": "2016-10-30",
                                    "(No column name)": "6"
                                },
                                {
                                    "UGYFEL_FK": "tunde",
                                    "nev": "Turcsik Tünde",
                                    "METTOL": "2016-11-19",
                                    "meddig": "2016-11-20",
                                    "(No column name)": "6"
                                },
                                {
                                    "UGYFEL_FK": "tunde",
                                    "nev": "Turcsik Tünde",
                                    "METTOL": "2016-12-15",
                                    "meddig": "2016-12-20",
                                    "(No column name)": "8"
                                },
                                {
                                    "UGYFEL_FK": "tunde",
                                    "nev": "Turcsik Tünde",
                                    "METTOL": "2017-01-03",
                                    "meddig": "2017-01-06",
                                    "(No column name)": "9"
                                },
                                {
                                    "UGYFEL_FK": "valentin",
                                    "nev": "Feró Valentin",
                                    "METTOL": "2016-05-24",
                                    "meddig": "2016-05-30",
                                    "(No column name)": "NULL"
                                },
                                {
                                    "UGYFEL_FK": "valentin",
                                    "nev": "Feró Valentin",
                                    "METTOL": "2016-07-24",
                                    "meddig": "2016-07-29",
                                    "(No column name)": "4"
                                },
                                {
                                    "UGYFEL_FK": "valentin",
                                    "nev": "Feró Valentin",
                                    "METTOL": "2016-10-26",
                                    "meddig": "2016-10-30",
                                    "(No column name)": "5"
                                },
                                {
                                    "UGYFEL_FK": "valentin",
                                    "nev": "Feró Valentin",
                                    "METTOL": "2016-11-11",
                                    "meddig": "2016-11-17",
                                    "(No column name)": "8"
                                },
                                {
                                    "UGYFEL_FK": "valentin",
                                    "nev": "Feró Valentin",
                                    "METTOL": "2016-12-01",
                                    "meddig": "2016-12-05",
                                    "(No column name)": "7"
                                },
                                {
                                    "UGYFEL_FK": "veronika4",
                                    "nev": "Tankó Veronika",
                                    "METTOL": "2016-05-30",
                                    "meddig": "2016-06-04",
                                    "(No column name)": "NULL"
                                },
                                {
                                    "UGYFEL_FK": "veronika4",
                                    "nev": "Tankó Veronika",
                                    "METTOL": "2016-07-20",
                                    "meddig": "2016-07-26",
                                    "(No column name)": "2"
                                },
                                {
                                    "UGYFEL_FK": "veronika4",
                                    "nev": "Tankó Veronika",
                                    "METTOL": "2016-08-16",
                                    "meddig": "2016-08-21",
                                    "(No column name)": "5"
                                },
                                {
                                    "UGYFEL_FK": "veronika4",
                                    "nev": "Tankó Veronika",
                                    "METTOL": "2016-09-26",
                                    "meddig": "2016-10-03",
                                    "(No column name)": "6"
                                },
                                {
                                    "UGYFEL_FK": "veronika4",
                                    "nev": "Tankó Veronika",
                                    "METTOL": "2017-01-19",
                                    "meddig": "2017-01-24",
                                    "(No column name)": "6"
                                },
                                {
                                    "UGYFEL_FK": "veronika4",
                                    "nev": "Tankó Veronika",
                                    "METTOL": "2017-02-03",
                                    "meddig": "2017-02-05",
                                    "(No column name)": "6"
                                },
                                {
                                    "UGYFEL_FK": "VIKTORIAU",
                                    "nev": "Urbán Viktoria",
                                    "METTOL": "2016-04-30",
                                    "meddig": "2016-05-03",
                                    "(No column name)": "NULL"
                                },
                                {
                                    "UGYFEL_FK": "VIKTORIAU",
                                    "nev": "Urbán Viktoria",
                                    "METTOL": "2016-08-03",
                                    "meddig": "2016-08-04",
                                    "(No column name)": "1"
                                },
                                {
                                    "UGYFEL_FK": "VIKTORIAU",
                                    "nev": "Urbán Viktoria",
                                    "METTOL": "2016-10-14",
                                    "meddig": "2016-10-15",
                                    "(No column name)": "3"
                                },
                                {
                                    "UGYFEL_FK": "VIKTORIAU",
                                    "nev": "Urbán Viktoria",
                                    "METTOL": "2016-10-26",
                                    "meddig": "2016-11-02",
                                    "(No column name)": "6"
                                },
                                {
                                    "UGYFEL_FK": "VIKTORK",
                                    "nev": "Keresztúri Viktor",
                                    "METTOL": "2016-05-30",
                                    "meddig": "2016-06-01",
                                    "(No column name)": "NULL"
                                },
                                {
                                    "UGYFEL_FK": "VIKTORK",
                                    "nev": "Keresztúri Viktor",
                                    "METTOL": "2016-06-06",
                                    "meddig": "2016-06-07",
                                    "(No column name)": "2"
                                },
                                {
                                    "UGYFEL_FK": "vivien3",
                                    "nev": "Boros Vivien",
                                    "METTOL": "2016-05-02",
                                    "meddig": "2016-05-05",
                                    "(No column name)": "NULL"
                                },
                                {
                                    "UGYFEL_FK": "vivien3",
                                    "nev": "Boros Vivien",
                                    "METTOL": "2016-08-13",
                                    "meddig": "2016-08-18",
                                    "(No column name)": "3"
                                },
                                {
                                    "UGYFEL_FK": "vivien3",
                                    "nev": "Boros Vivien",
                                    "METTOL": "2016-09-01",
                                    "meddig": "2016-09-05",
                                    "(No column name)": "5"
                                },
                                {
                                    "UGYFEL_FK": "vivien3",
                                    "nev": "Boros Vivien",
                                    "METTOL": "2016-10-01",
                                    "meddig": "2016-10-04",
                                    "(No column name)": "7"
                                },
                                {
                                    "UGYFEL_FK": "vivien3",
                                    "nev": "Boros Vivien",
                                    "METTOL": "2016-11-17",
                                    "meddig": "2016-11-20",
                                    "(No column name)": "5"
                                },
                                {
                                    "UGYFEL_FK": "vivien3",
                                    "nev": "Boros Vivien",
                                    "METTOL": "2016-12-17",
                                    "meddig": "2016-12-21",
                                    "(No column name)": "5"
                                },
                                {
                                    "UGYFEL_FK": "vivien3",
                                    "nev": "Boros Vivien",
                                    "METTOL": "2016-12-24",
                                    "meddig": "2016-12-26",
                                    "(No column name)": "5"
                                },
                                {
                                    "UGYFEL_FK": "zoltan",
                                    "nev": "Fodor Zoltán",
                                    "METTOL": "2016-08-24",
                                    "meddig": "2016-08-31",
                                    "(No column name)": "NULL"
                                },
                                {
                                    "UGYFEL_FK": "zoltan",
                                    "nev": "Fodor Zoltán",
                                    "METTOL": "2016-09-05",
                                    "meddig": "2016-09-09",
                                    "(No column name)": "2"
                                },
                                {
                                    "UGYFEL_FK": "zoltan4",
                                    "nev": "Barna Zoltán",
                                    "METTOL": "2016-05-12",
                                    "meddig": "2016-05-16",
                                    "(No column name)": "NULL"
                                },
                                {
                                    "UGYFEL_FK": "zoltan4",
                                    "nev": "Barna Zoltán",
                                    "METTOL": "2016-05-13",
                                    "meddig": "2016-05-16",
                                    "(No column name)": "3"
                                },
                                {
                                    "UGYFEL_FK": "zoltan4",
                                    "nev": "Barna Zoltán",
                                    "METTOL": "2016-06-03",
                                    "meddig": "2016-06-06",
                                    "(No column name)": "6"
                                },
                                {
                                    "UGYFEL_FK": "zoltan4",
                                    "nev": "Barna Zoltán",
                                    "METTOL": "2016-08-15",
                                    "meddig": "2016-08-21",
                                    "(No column name)": "7"
                                },
                                {
                                    "UGYFEL_FK": "zoltan4",
                                    "nev": "Barna Zoltán",
                                    "METTOL": "2016-08-16",
                                    "meddig": "2016-08-23",
                                    "(No column name)": "5"
                                },
                                {
                                    "UGYFEL_FK": "zoltan4",
                                    "nev": "Barna Zoltán",
                                    "METTOL": "2016-09-30",
                                    "meddig": "2016-10-07",
                                    "(No column name)": "4"
                                },
                                {
                                    "UGYFEL_FK": "zoltan4",
                                    "nev": "Barna Zoltán",
                                    "METTOL": "2016-10-21",
                                    "meddig": "2016-10-24",
                                    "(No column name)": "6"
                                },
                                {
                                    "UGYFEL_FK": "zoltan4",
                                    "nev": "Barna Zoltán",
                                    "METTOL": "2016-10-26",
                                    "meddig": "2016-10-30",
                                    "(No column name)": "10"
                                },
                                {
                                    "UGYFEL_FK": "zoltan4",
                                    "nev": "Barna Zoltán",
                                    "METTOL": "2016-10-30",
                                    "meddig": "2016-11-06",
                                    "(No column name)": "10"
                                },
                                {
                                    "UGYFEL_FK": "zoltan4",
                                    "nev": "Barna Zoltán",
                                    "METTOL": "2016-11-19",
                                    "meddig": "2016-11-21",
                                    "(No column name)": "8"
                                },
                                {
                                    "UGYFEL_FK": "zoltan4",
                                    "nev": "Barna Zoltán",
                                    "METTOL": "2016-12-29",
                                    "meddig": "2017-01-04",
                                    "(No column name)": "5"
                                },
                                {
                                    "UGYFEL_FK": "zoltan4",
                                    "nev": "Barna Zoltán",
                                    "METTOL": "2017-01-01",
                                    "meddig": "2017-01-02",
                                    "(No column name)": "4"
                                },
                                {
                                    "UGYFEL_FK": "ZOLTANP",
                                    "nev": "Pintér Zoltán",
                                    "METTOL": "2016-06-05",
                                    "meddig": "2016-06-08",
                                    "(No column name)": "NULL"
                                },
                                {
                                    "UGYFEL_FK": "ZOLTANP",
                                    "nev": "Pintér Zoltán",
                                    "METTOL": "2016-06-06",
                                    "meddig": "2016-06-08",
                                    "(No column name)": "2"
                                },
                                {
                                    "UGYFEL_FK": "ZOLTANP",
                                    "nev": "Pintér Zoltán",
                                    "METTOL": "2016-07-20",
                                    "meddig": "2016-07-25",
                                    "(No column name)": "4"
                                },
                                {
                                    "UGYFEL_FK": "ZOLTANP",
                                    "nev": "Pintér Zoltán",
                                    "METTOL": "2016-10-19",
                                    "meddig": "2016-10-25",
                                    "(No column name)": "7"
                                },
                                {
                                    "UGYFEL_FK": "ZOLTANP",
                                    "nev": "Pintér Zoltán",
                                    "METTOL": "2016-12-07",
                                    "meddig": "2016-12-10",
                                    "(No column name)": "7"
                                },
                                {
                                    "UGYFEL_FK": "ZOLTANP",
                                    "nev": "Pintér Zoltán",
                                    "METTOL": "2016-12-25",
                                    "meddig": "2016-12-29",
                                    "(No column name)": "8"
                                },
                                {
                                    "UGYFEL_FK": "ZOLTANT",
                                    "nev": "Tóth Zoltán",
                                    "METTOL": "2016-05-01",
                                    "meddig": "2016-05-04",
                                    "(No column name)": "NULL"
                                },
                                {
                                    "UGYFEL_FK": "ZOLTANT",
                                    "nev": "Tóth Zoltán",
                                    "METTOL": "2016-07-14",
                                    "meddig": "2016-07-15",
                                    "(No column name)": "3"
                                },
                                {
                                    "UGYFEL_FK": "ZOLTANT",
                                    "nev": "Tóth Zoltán",
                                    "METTOL": "2017-01-16",
                                    "meddig": "2017-01-20",
                                    "(No column name)": "6"
                                },
                                {
                                    "UGYFEL_FK": "zsofi1",
                                    "nev": "Molnár Zsófi",
                                    "METTOL": "2016-06-16",
                                    "meddig": "2016-06-17",
                                    "(No column name)": "NULL"
                                },
                                {
                                    "UGYFEL_FK": "zsofi1",
                                    "nev": "Molnár Zsófi",
                                    "METTOL": "2017-02-18",
                                    "meddig": "2017-02-19",
                                    "(No column name)": "2"
                                },
                                {
                                    "UGYFEL_FK": "zsolt1",
                                    "nev": "Pulai Zsolt",
                                    "METTOL": "2016-04-14",
                                    "meddig": "2016-04-17",
                                    "(No column name)": "NULL"
                                },
                                {
                                    "UGYFEL_FK": "zsolt1",
                                    "nev": "Pulai Zsolt",
                                    "METTOL": "2016-06-06",
                                    "meddig": "2016-06-08",
                                    "(No column name)": "2"
                                },
                                {
                                    "UGYFEL_FK": "zsolt1",
                                    "nev": "Pulai Zsolt",
                                    "METTOL": "2016-06-07",
                                    "meddig": "2016-06-10",
                                    "(No column name)": "4"
                                },
                                {
                                    "UGYFEL_FK": "zsolt1",
                                    "nev": "Pulai Zsolt",
                                    "METTOL": "2016-07-31",
                                    "meddig": "2016-08-02",
                                    "(No column name)": "8"
                                },
                                {
                                    "UGYFEL_FK": "ZSOLTJ",
                                    "nev": "Józsa Zsolt",
                                    "METTOL": "2016-04-24",
                                    "meddig": "2016-04-26",
                                    "(No column name)": "NULL"
                                },
                                {
                                    "UGYFEL_FK": "ZSOLTJ",
                                    "nev": "Józsa Zsolt",
                                    "METTOL": "2016-05-09",
                                    "meddig": "2016-05-11",
                                    "(No column name)": "4"
                                },
                                {
                                    "UGYFEL_FK": "ZSOLTJ",
                                    "nev": "Józsa Zsolt",
                                    "METTOL": "2016-05-28",
                                    "meddig": "2016-06-03",
                                    "(No column name)": "6"
                                },
                                {
                                    "UGYFEL_FK": "ZSOLTJ",
                                    "nev": "Józsa Zsolt",
                                    "METTOL": "2016-06-17",
                                    "meddig": "2016-06-19",
                                    "(No column name)": "7"
                                },
                                {
                                    "UGYFEL_FK": "ZSOLTJ",
                                    "nev": "Józsa Zsolt",
                                    "METTOL": "2016-07-18",
                                    "meddig": "2016-07-19",
                                    "(No column name)": "5"
                                },
                                {
                                    "UGYFEL_FK": "ZSOLTJ",
                                    "nev": "Józsa Zsolt",
                                    "METTOL": "2016-10-01",
                                    "meddig": "2016-10-06",
                                    "(No column name)": "5"
                                },
                                {
                                    "UGYFEL_FK": "zsuzsa",
                                    "nev": "Pusztai Zsuzsanna",
                                    "METTOL": "2016-07-24",
                                    "meddig": "2016-07-25",
                                    "(No column name)": "NULL"
                                },
                                {
                                    "UGYFEL_FK": "zsuzsa",
                                    "nev": "Pusztai Zsuzsanna",
                                    "METTOL": "2016-08-28",
                                    "meddig": "2016-08-30",
                                    "(No column name)": "3"
                                },
                                {
                                    "UGYFEL_FK": "zsuzsa",
                                    "nev": "Pusztai Zsuzsanna",
                                    "METTOL": "2016-11-28",
                                    "meddig": "2016-12-04",
                                    "(No column name)": "5"
                                },
                                {
                                    "UGYFEL_FK": "zsuzsa3",
                                    "nev": "Varsányi Zsuzsa",
                                    "METTOL": "2016-07-30",
                                    "meddig": "2016-08-02",
                                    "(No column name)": "NULL"
                                },
                                {
                                    "UGYFEL_FK": "zsuzsa3",
                                    "nev": "Varsányi Zsuzsa",
                                    "METTOL": "2016-09-09",
                                    "meddig": "2016-09-10",
                                    "(No column name)": "2"
                                },
                                {
                                    "UGYFEL_FK": "zsuzsa3",
                                    "nev": "Varsányi Zsuzsa",
                                    "METTOL": "2016-09-28",
                                    "meddig": "2016-10-03",
                                    "(No column name)": "4"
                                },
                                {
                                    "UGYFEL_FK": "zsuzsa3",
                                    "nev": "Varsányi Zsuzsa",
                                    "METTOL": "2016-10-27",
                                    "meddig": "2016-11-03",
                                    "(No column name)": "6"
                                },
                                {
                                    "UGYFEL_FK": "zsuzsanna",
                                    "nev": "Barta Zsuzsanna",
                                    "METTOL": "2016-05-17",
                                    "meddig": "2016-05-23",
                                    "(No column name)": "NULL"
                                },
                                {
                                    "UGYFEL_FK": "zsuzsanna",
                                    "nev": "Barta Zsuzsanna",
                                    "METTOL": "2016-07-12",
                                    "meddig": "2016-07-15",
                                    "(No column name)": "2"
                                },
                                {
                                    "UGYFEL_FK": "zsuzsanna",
                                    "nev": "Barta Zsuzsanna",
                                    "METTOL": "2017-01-09",
                                    "meddig": "2017-01-16",
                                    "(No column name)": "4"
                                },
                                {
                                    "UGYFEL_FK": "zsuzsanna",
                                    "nev": "Barta Zsuzsanna",
                                    "METTOL": "2017-01-16",
                                    "meddig": "2017-01-22",
                                    "(No column name)": "5"
                                },
                                {
                                    "UGYFEL_FK": "ZSUZSAV",
                                    "nev": "Vajda Zsuzsa",
                                    "METTOL": "2016-04-14",
                                    "meddig": "2016-04-16",
                                    "(No column name)": "NULL"
                                },
                                {
                                    "UGYFEL_FK": "ZSUZSAV",
                                    "nev": "Vajda Zsuzsa",
                                    "METTOL": "2016-05-28",
                                    "meddig": "2016-06-01",
                                    "(No column name)": "2"
                                },
                                {
                                    "UGYFEL_FK": "ZSUZSAV",
                                    "nev": "Vajda Zsuzsa",
                                    "METTOL": "2016-06-15",
                                    "meddig": "2016-06-21",
                                    "(No column name)": "6"
                                },
                                {
                                    "UGYFEL_FK": "ZSUZSAV",
                                    "nev": "Vajda Zsuzsa",
                                    "METTOL": "2016-09-18",
                                    "meddig": "2016-09-20",
                                    "(No column name)": "9"
                                },
                                {
                                    "UGYFEL_FK": "ZSUZSAV",
                                    "nev": "Vajda Zsuzsa",
                                    "METTOL": "2016-10-26",
                                    "meddig": "2016-10-28",
                                    "(No column name)": "9"
                                },
                                {
                                    "UGYFEL_FK": "ZSUZSAV",
                                    "nev": "Vajda Zsuzsa",
                                    "METTOL": "2016-11-21",
                                    "meddig": "2016-11-24",
                                    "(No column name)": "6"
                                }
                            ]
                        },
                        "text/html": [
                            "<table>",
                            "<tr><th>UGYFEL_FK</th><th>nev</th><th>METTOL</th><th>meddig</th><th>(No column name)</th><th>(No column name)</th></tr>",
                            "<tr><td>adam1</td><td>Kiss Ádám</td><td>2016-05-28</td><td>2016-06-03</td><td>3</td><td>NULL</td></tr>",
                            "<tr><td>adam1</td><td>Kiss Ádám</td><td>2016-08-20</td><td>2016-08-24</td><td>1</td><td>3</td></tr>",
                            "<tr><td>adam1</td><td>Kiss Ádám</td><td>2016-10-19</td><td>2016-10-24</td><td>2</td><td>4</td></tr>",
                            "<tr><td>adam3</td><td>Barkóci Ádám</td><td>2016-09-12</td><td>2016-09-16</td><td>2</td><td>NULL</td></tr>",
                            "<tr><td>adam3</td><td>Barkóci Ádám</td><td>2017-02-06</td><td>2017-02-10</td><td>1</td><td>2</td></tr>",
                            "<tr><td>adam4</td><td>Bieniek Ádám</td><td>2016-08-28</td><td>2016-08-30</td><td>3</td><td>NULL</td></tr>",
                            "<tr><td>adam4</td><td>Bieniek Ádám</td><td>2016-10-27</td><td>2016-11-02</td><td>3</td><td>3</td></tr>",
                            "<tr><td>adam4</td><td>Bieniek Ádám</td><td>2016-11-15</td><td>2016-11-18</td><td>2</td><td>6</td></tr>",
                            "<tr><td>adam4</td><td>Bieniek Ádám</td><td>2016-12-06</td><td>2016-12-09</td><td>3</td><td>8</td></tr>",
                            "<tr><td>adam4</td><td>Bieniek Ádám</td><td>2017-01-12</td><td>2017-01-19</td><td>2</td><td>8</td></tr>",
                            "<tr><td>adam4</td><td>Bieniek Ádám</td><td>2017-02-23</td><td>2017-02-27</td><td>3</td><td>7</td></tr>",
                            "<tr><td>agnes</td><td>Lengyel Ágnes</td><td>2016-05-09</td><td>2016-05-11</td><td>3</td><td>NULL</td></tr>",
                            "<tr><td>agnes</td><td>Lengyel Ágnes</td><td>2016-05-25</td><td>2016-05-30</td><td>1</td><td>3</td></tr>",
                            "<tr><td>agnes</td><td>Lengyel Ágnes</td><td>2016-07-13</td><td>2016-07-19</td><td>3</td><td>4</td></tr>",
                            "<tr><td>agnes</td><td>Lengyel Ágnes</td><td>2016-07-30</td><td>2016-08-06</td><td>3</td><td>7</td></tr>",
                            "<tr><td>agnes</td><td>Lengyel Ágnes</td><td>2016-11-07</td><td>2016-11-13</td><td>2</td><td>7</td></tr>",
                            "<tr><td>agnes3</td><td>Hartyánszky Ágnes</td><td>2016-08-04</td><td>2016-08-10</td><td>1</td><td>NULL</td></tr>",
                            "<tr><td>agnes3</td><td>Hartyánszky Ágnes</td><td>2016-10-22</td><td>2016-10-23</td><td>3</td><td>1</td></tr>",
                            "<tr><td>agnes3</td><td>Hartyánszky Ágnes</td><td>2017-02-16</td><td>2017-02-21</td><td>3</td><td>4</td></tr>",
                            "<tr><td>AGNESH</td><td>Horváth Ágnes</td><td>2016-04-10</td><td>2016-04-12</td><td>2</td><td>NULL</td></tr>",
                            "<tr><td>AGNESH</td><td>Horváth Ágnes</td><td>2016-04-27</td><td>2016-04-28</td><td>4</td><td>2</td></tr>",
                            "<tr><td>AGNESH</td><td>Horváth Ágnes</td><td>2016-06-23</td><td>2016-06-26</td><td>1</td><td>6</td></tr>",
                            "<tr><td>AGNESH</td><td>Horváth Ágnes</td><td>2016-10-30</td><td>2016-11-04</td><td>1</td><td>7</td></tr>",
                            "<tr><td>AGNESH</td><td>Horváth Ágnes</td><td>2017-01-03</td><td>2017-01-10</td><td>2</td><td>6</td></tr>",
                            "<tr><td>AGNESH</td><td>Horváth Ágnes</td><td>2017-01-16</td><td>2017-01-23</td><td>3</td><td>4</td></tr>",
                            "<tr><td>AGNESK</td><td>Kovács Ágnes</td><td>2016-07-29</td><td>2016-08-01</td><td>3</td><td>NULL</td></tr>",
                            "<tr><td>AGNESK</td><td>Kovács Ágnes</td><td>2016-10-17</td><td>2016-10-19</td><td>2</td><td>3</td></tr>",
                            "<tr><td>AGNESK</td><td>Kovács Ágnes</td><td>2016-12-17</td><td>2016-12-18</td><td>2</td><td>5</td></tr>",
                            "<tr><td>akos</td><td>Bíró Ákos</td><td>2016-05-18</td><td>2016-05-19</td><td>2</td><td>NULL</td></tr>",
                            "<tr><td>akos</td><td>Bíró Ákos</td><td>2016-07-14</td><td>2016-07-19</td><td>2</td><td>2</td></tr>",
                            "<tr><td>akos</td><td>Bíró Ákos</td><td>2016-07-16</td><td>2016-07-18</td><td>2</td><td>4</td></tr>",
                            "<tr><td>akos</td><td>Bíró Ákos</td><td>2016-07-22</td><td>2016-07-26</td><td>1</td><td>6</td></tr>",
                            "<tr><td>akos</td><td>Bíró Ákos</td><td>2016-09-06</td><td>2016-09-12</td><td>1</td><td>5</td></tr>",
                            "<tr><td>akos</td><td>Bíró Ákos</td><td>2016-10-05</td><td>2016-10-09</td><td>2</td><td>4</td></tr>",
                            "<tr><td>akos</td><td>Bíró Ákos</td><td>2016-10-18</td><td>2016-10-23</td><td>2</td><td>4</td></tr>",
                            "<tr><td>akos</td><td>Bíró Ákos</td><td>2016-11-21</td><td>2016-11-27</td><td>2</td><td>5</td></tr>",
                            "<tr><td>akos</td><td>Bíró Ákos</td><td>2016-12-15</td><td>2016-12-21</td><td>2</td><td>6</td></tr>",
                            "<tr><td>akos</td><td>Bíró Ákos</td><td>2016-12-29</td><td>2016-12-30</td><td>3</td><td>6</td></tr>",
                            "<tr><td>aladar</td><td>Dunai Aladár</td><td>2016-05-17</td><td>2016-05-24</td><td>1</td><td>NULL</td></tr>",
                            "<tr><td>aladar</td><td>Dunai Aladár</td><td>2016-09-24</td><td>2016-09-28</td><td>1</td><td>1</td></tr>",
                            "<tr><td>aladar</td><td>Dunai Aladár</td><td>2016-11-22</td><td>2016-11-23</td><td>2</td><td>2</td></tr>",
                            "<tr><td>alexandra</td><td>Bagóczki Alexandra</td><td>2016-05-21</td><td>2016-05-27</td><td>3</td><td>NULL</td></tr>",
                            "<tr><td>alexandra</td><td>Bagóczki Alexandra</td><td>2016-06-08</td><td>2016-06-11</td><td>3</td><td>3</td></tr>",
                            "<tr><td>alexandra</td><td>Bagóczki Alexandra</td><td>2016-07-27</td><td>2016-07-30</td><td>2</td><td>6</td></tr>",
                            "<tr><td>alexandra</td><td>Bagóczki Alexandra</td><td>2016-10-21</td><td>2016-10-25</td><td>2</td><td>8</td></tr>",
                            "<tr><td>alexandra</td><td>Bagóczki Alexandra</td><td>2016-11-29</td><td>2016-12-05</td><td>2</td><td>7</td></tr>",
                            "<tr><td>alexandra</td><td>Bagóczki Alexandra</td><td>2017-01-13</td><td>2017-01-14</td><td>1</td><td>6</td></tr>",
                            "<tr><td>alexandra</td><td>Bagóczki Alexandra</td><td>2017-01-19</td><td>2017-01-26</td><td>2</td><td>5</td></tr>",
                            "<tr><td>andi</td><td>Maródi Andrea</td><td>2016-05-08</td><td>2016-05-14</td><td>4</td><td>NULL</td></tr>",
                            "<tr><td>andi</td><td>Maródi Andrea</td><td>2016-06-13</td><td>2016-06-14</td><td>1</td><td>4</td></tr>",
                            "<tr><td>andi</td><td>Maródi Andrea</td><td>2016-09-13</td><td>2016-09-16</td><td>2</td><td>5</td></tr>",
                            "<tr><td>andi</td><td>Maródi Andrea</td><td>2016-11-16</td><td>2016-11-17</td><td>3</td><td>7</td></tr>",
                            "<tr><td>andi</td><td>Maródi Andrea</td><td>2017-01-13</td><td>2017-01-17</td><td>3</td><td>6</td></tr>",
                            "<tr><td>andras2</td><td>Tóth András</td><td>2016-05-30</td><td>2016-06-04</td><td>1</td><td>NULL</td></tr>",
                            "<tr><td>andras2</td><td>Tóth András</td><td>2016-07-20</td><td>2016-07-22</td><td>2</td><td>1</td></tr>",
                            "<tr><td>andras2</td><td>Tóth András</td><td>2016-09-30</td><td>2016-10-03</td><td>2</td><td>3</td></tr>",
                            "<tr><td>andras2</td><td>Tóth András</td><td>2016-10-07</td><td>2016-10-10</td><td>3</td><td>5</td></tr>",
                            "<tr><td>andras2</td><td>Tóth András</td><td>2017-02-08</td><td>2017-02-10</td><td>4</td><td>7</td></tr>",
                            "<tr><td>andras21</td><td>Molnár András</td><td>2016-06-21</td><td>2016-06-26</td><td>2</td><td>NULL</td></tr>",
                            "<tr><td>andras21</td><td>Molnár András</td><td>2016-07-04</td><td>2016-07-05</td><td>3</td><td>2</td></tr>",
                            "<tr><td>andras21</td><td>Molnár András</td><td>2016-07-20</td><td>2016-07-22</td><td>1</td><td>5</td></tr>",
                            "<tr><td>andras21</td><td>Molnár András</td><td>2016-10-01</td><td>2016-10-06</td><td>3</td><td>6</td></tr>",
                            "<tr><td>andras21</td><td>Molnár András</td><td>2016-10-04</td><td>2016-10-11</td><td>3</td><td>7</td></tr>",
                            "<tr><td>andras21</td><td>Molnár András</td><td>2016-11-23</td><td>2016-11-24</td><td>4</td><td>7</td></tr>",
                            "<tr><td>andras21</td><td>Molnár András</td><td>2017-01-28</td><td>2017-02-01</td><td>2</td><td>10</td></tr>",
                            "<tr><td>andras3</td><td>Vígh András</td><td>2016-05-01</td><td>2016-05-06</td><td>2</td><td>NULL</td></tr>",
                            "<tr><td>andras3</td><td>Vígh András</td><td>2016-05-30</td><td>2016-06-03</td><td>1</td><td>2</td></tr>",
                            "<tr><td>andras3</td><td>Vígh András</td><td>2016-06-10</td><td>2016-06-11</td><td>1</td><td>3</td></tr>",
                            "<tr><td>andras3</td><td>Vígh András</td><td>2016-07-15</td><td>2016-07-19</td><td>3</td><td>4</td></tr>",
                            "<tr><td>andras3</td><td>Vígh András</td><td>2016-07-21</td><td>2016-07-23</td><td>2</td><td>5</td></tr>",
                            "<tr><td>andras3</td><td>Vígh András</td><td>2016-08-29</td><td>2016-09-02</td><td>3</td><td>6</td></tr>",
                            "<tr><td>andras3</td><td>Vígh András</td><td>2016-11-28</td><td>2016-12-02</td><td>2</td><td>8</td></tr>",
                            "<tr><td>andras3</td><td>Vígh András</td><td>2017-02-02</td><td>2017-02-08</td><td>2</td><td>7</td></tr>",
                            "<tr><td>andras4</td><td>Back András</td><td>2016-09-17</td><td>2016-09-20</td><td>2</td><td>NULL</td></tr>",
                            "<tr><td>andras4</td><td>Back András</td><td>2016-11-25</td><td>2016-11-28</td><td>2</td><td>2</td></tr>",
                            "<tr><td>andras4</td><td>Back András</td><td>2017-01-09</td><td>2017-01-10</td><td>2</td><td>4</td></tr>",
                            "<tr><td>andras41</td><td>Komjáti András</td><td>2016-05-14</td><td>2016-05-16</td><td>2</td><td>NULL</td></tr>",
                            "<tr><td>andras41</td><td>Komjáti András</td><td>2016-05-21</td><td>2016-05-23</td><td>4</td><td>2</td></tr>",
                            "<tr><td>andras41</td><td>Komjáti András</td><td>2016-06-07</td><td>2016-06-11</td><td>3</td><td>6</td></tr>",
                            "<tr><td>andras41</td><td>Komjáti András</td><td>2016-06-23</td><td>2016-06-29</td><td>2</td><td>9</td></tr>",
                            "<tr><td>andras41</td><td>Komjáti András</td><td>2016-07-28</td><td>2016-08-03</td><td>3</td><td>9</td></tr>",
                            "<tr><td>andras41</td><td>Komjáti András</td><td>2016-08-17</td><td>2016-08-21</td><td>3</td><td>8</td></tr>",
                            "<tr><td>andras41</td><td>Komjáti András</td><td>2016-08-19</td><td>2016-08-23</td><td>1</td><td>8</td></tr>",
                            "<tr><td>andras41</td><td>Komjáti András</td><td>2016-09-22</td><td>2016-09-29</td><td>1</td><td>7</td></tr>",
                            "<tr><td>andras41</td><td>Komjáti András</td><td>2016-09-30</td><td>2016-10-05</td><td>2</td><td>5</td></tr>",
                            "<tr><td>andras41</td><td>Komjáti András</td><td>2016-10-09</td><td>2016-10-13</td><td>2</td><td>4</td></tr>",
                            "<tr><td>andras41</td><td>Komjáti András</td><td>2016-10-15</td><td>2016-10-18</td><td>3</td><td>5</td></tr>",
                            "<tr><td>andras41</td><td>Komjáti András</td><td>2016-11-20</td><td>2016-11-24</td><td>3</td><td>7</td></tr>",
                            "<tr><td>andras41</td><td>Komjáti András</td><td>2016-11-23</td><td>2016-11-24</td><td>1</td><td>8</td></tr>",
                            "<tr><td>ANDRASE</td><td>Erdei András</td><td>2016-04-24</td><td>2016-05-01</td><td>1</td><td>NULL</td></tr>",
                            "<tr><td>ANDRASE</td><td>Erdei András</td><td>2016-07-06</td><td>2016-07-07</td><td>2</td><td>1</td></tr>",
                            "<tr><td>ANDRASE</td><td>Erdei András</td><td>2016-08-16</td><td>2016-08-20</td><td>2</td><td>3</td></tr>",
                            "<tr><td>ANDRASE</td><td>Erdei András</td><td>2016-11-19</td><td>2016-11-20</td><td>4</td><td>5</td></tr>",
                            "<tr><td>ANDRASE</td><td>Erdei András</td><td>2016-11-29</td><td>2016-12-06</td><td>3</td><td>8</td></tr>",
                            "<tr><td>ANDRASN</td><td>Nagy András</td><td>2016-11-25</td><td>2016-12-01</td><td>2</td><td>NULL</td></tr>",
                            "<tr><td>andrea</td><td>Kiss Andrea</td><td>2016-07-27</td><td>2016-07-28</td><td>2</td><td>NULL</td></tr>",
                            "<tr><td>andrea</td><td>Kiss Andrea</td><td>2016-08-01</td><td>2016-08-02</td><td>2</td><td>2</td></tr>",
                            "<tr><td>andrea</td><td>Kiss Andrea</td><td>2016-08-23</td><td>2016-08-26</td><td>3</td><td>4</td></tr>",
                            "<tr><td>andrea</td><td>Kiss Andrea</td><td>2016-08-26</td><td>2016-08-30</td><td>2</td><td>7</td></tr>",
                            "<tr><td>andrea</td><td>Kiss Andrea</td><td>2016-10-21</td><td>2016-10-27</td><td>4</td><td>7</td></tr>",
                            "<tr><td>andrea</td><td>Kiss Andrea</td><td>2017-02-09</td><td>2017-02-14</td><td>2</td><td>9</td></tr>",
                            "<tr><td>andrea3</td><td>Szomor Andrea</td><td>2016-11-19</td><td>2016-11-21</td><td>3</td><td>NULL</td></tr>",
                            "<tr><td>andrea4</td><td>Neizer Andrea</td><td>2016-05-27</td><td>2016-05-29</td><td>1</td><td>NULL</td></tr>",
                            "<tr><td>andrea4</td><td>Neizer Andrea</td><td>2016-09-13</td><td>2016-09-17</td><td>2</td><td>1</td></tr>",
                            "<tr><td>andrea4</td><td>Neizer Andrea</td><td>2016-10-30</td><td>2016-11-06</td><td>3</td><td>3</td></tr>",
                            "<tr><td>andrea4</td><td>Neizer Andrea</td><td>2017-01-22</td><td>2017-01-29</td><td>2</td><td>6</td></tr>",
                            "<tr><td>ANDREAT</td><td>Tornyos Andrea</td><td>2016-07-27</td><td>2016-08-01</td><td>2</td><td>NULL</td></tr>",
                            "<tr><td>ANDREAT</td><td>Tornyos Andrea</td><td>2016-09-15</td><td>2016-09-16</td><td>2</td><td>2</td></tr>",
                            "<tr><td>ANDREAT</td><td>Tornyos Andrea</td><td>2016-10-08</td><td>2016-10-12</td><td>3</td><td>4</td></tr>",
                            "<tr><td>anett3</td><td>Pivarcsi Anett</td><td>2016-04-10</td><td>2016-04-17</td><td>1</td><td>NULL</td></tr>",
                            "<tr><td>anett3</td><td>Pivarcsi Anett</td><td>2016-04-13</td><td>2016-04-19</td><td>3</td><td>1</td></tr>",
                            "<tr><td>anett3</td><td>Pivarcsi Anett</td><td>2016-04-15</td><td>2016-04-19</td><td>3</td><td>4</td></tr>",
                            "<tr><td>anett3</td><td>Pivarcsi Anett</td><td>2016-04-28</td><td>2016-05-02</td><td>3</td><td>7</td></tr>",
                            "<tr><td>anett3</td><td>Pivarcsi Anett</td><td>2016-08-15</td><td>2016-08-16</td><td>2</td><td>9</td></tr>",
                            "<tr><td>anett3</td><td>Pivarcsi Anett</td><td>2016-08-17</td><td>2016-08-23</td><td>3</td><td>8</td></tr>",
                            "<tr><td>anett3</td><td>Pivarcsi Anett</td><td>2016-10-12</td><td>2016-10-19</td><td>3</td><td>8</td></tr>",
                            "<tr><td>anett3</td><td>Pivarcsi Anett</td><td>2016-10-16</td><td>2016-10-21</td><td>1</td><td>8</td></tr>",
                            "<tr><td>aniko</td><td>Tóth Anikó</td><td>2016-06-25</td><td>2016-06-30</td><td>3</td><td>NULL</td></tr>",
                            "<tr><td>aniko</td><td>Tóth Anikó</td><td>2017-02-12</td><td>2017-02-14</td><td>3</td><td>3</td></tr>",
                            "<tr><td>aniko</td><td>Tóth Anikó</td><td>2017-02-23</td><td>2017-02-24</td><td>2</td><td>6</td></tr>",
                            "<tr><td>aniko4</td><td>Böröcz Anikó</td><td>2016-07-02</td><td>2016-07-09</td><td>1</td><td>NULL</td></tr>",
                            "<tr><td>aniko4</td><td>Böröcz Anikó</td><td>2016-07-22</td><td>2016-07-25</td><td>3</td><td>1</td></tr>",
                            "<tr><td>aniko4</td><td>Böröcz Anikó</td><td>2016-09-05</td><td>2016-09-07</td><td>4</td><td>4</td></tr>",
                            "<tr><td>aniko4</td><td>Böröcz Anikó</td><td>2016-10-16</td><td>2016-10-18</td><td>3</td><td>8</td></tr>",
                            "<tr><td>ANIKOS</td><td>Simon Anikó</td><td>2016-04-19</td><td>2016-04-24</td><td>2</td><td>NULL</td></tr>",
                            "<tr><td>ANIKOS</td><td>Simon Anikó</td><td>2016-05-24</td><td>2016-05-25</td><td>3</td><td>2</td></tr>",
                            "<tr><td>ANIKOS</td><td>Simon Anikó</td><td>2016-06-16</td><td>2016-06-23</td><td>1</td><td>5</td></tr>",
                            "<tr><td>ANIKOS</td><td>Simon Anikó</td><td>2016-06-27</td><td>2016-06-30</td><td>2</td><td>6</td></tr>",
                            "<tr><td>ANIKOS</td><td>Simon Anikó</td><td>2016-07-17</td><td>2016-07-22</td><td>3</td><td>6</td></tr>",
                            "<tr><td>ANIKOS</td><td>Simon Anikó</td><td>2016-08-26</td><td>2016-09-02</td><td>2</td><td>6</td></tr>",
                            "<tr><td>ANIKOS</td><td>Simon Anikó</td><td>2016-10-08</td><td>2016-10-14</td><td>2</td><td>7</td></tr>",
                            "<tr><td>ANIKOS</td><td>Simon Anikó</td><td>2016-10-29</td><td>2016-11-05</td><td>3</td><td>7</td></tr>",
                            "<tr><td>ANIKOS</td><td>Simon Anikó</td><td>2016-11-10</td><td>2016-11-15</td><td>2</td><td>7</td></tr>",
                            "<tr><td>anita</td><td>Hamvay-Kovács Anita</td><td>2016-09-28</td><td>2016-10-02</td><td>4</td><td>NULL</td></tr>",
                            "<tr><td>anita</td><td>Hamvay-Kovács Anita</td><td>2016-10-01</td><td>2016-10-04</td><td>2</td><td>4</td></tr>",
                            "<tr><td>anita</td><td>Hamvay-Kovács Anita</td><td>2017-02-19</td><td>2017-02-22</td><td>2</td><td>6</td></tr>",
                            "<tr><td>anita</td><td>Hamvay-Kovács Anita</td><td>2017-02-20</td><td>2017-02-25</td><td>2</td><td>8</td></tr>",
                            "<tr><td>annamaria1</td><td>Szűcs Annamária</td><td>2016-06-06</td><td>2016-06-07</td><td>3</td><td>NULL</td></tr>",
                            "<tr><td>annamaria1</td><td>Szűcs Annamária</td><td>2017-01-30</td><td>2017-01-31</td><td>4</td><td>3</td></tr>",
                            "<tr><td>ANNAMARIAR</td><td>Regős Annamária</td><td>2016-06-08</td><td>2016-06-11</td><td>2</td><td>NULL</td></tr>",
                            "<tr><td>ANNAMARIAR</td><td>Regős Annamária</td><td>2016-07-18</td><td>2016-07-21</td><td>1</td><td>2</td></tr>",
                            "<tr><td>ANNAMARIAR</td><td>Regős Annamária</td><td>2016-09-23</td><td>2016-09-27</td><td>2</td><td>3</td></tr>",
                            "<tr><td>ANNAMARIAR</td><td>Regős Annamária</td><td>2016-11-11</td><td>2016-11-12</td><td>3</td><td>5</td></tr>",
                            "<tr><td>ANNAMARIAR</td><td>Regős Annamária</td><td>2017-01-10</td><td>2017-01-13</td><td>2</td><td>6</td></tr>",
                            "<tr><td>ANNAMARIAR</td><td>Regős Annamária</td><td>2017-02-16</td><td>2017-02-18</td><td>2</td><td>7</td></tr>",
                            "<tr><td>aron2</td><td>Jakab Áron</td><td>2016-04-11</td><td>2016-04-12</td><td>3</td><td>NULL</td></tr>",
                            "<tr><td>aron2</td><td>Jakab Áron</td><td>2016-07-04</td><td>2016-07-06</td><td>3</td><td>3</td></tr>",
                            "<tr><td>aron2</td><td>Jakab Áron</td><td>2016-10-23</td><td>2016-10-27</td><td>2</td><td>6</td></tr>",
                            "<tr><td>aron2</td><td>Jakab Áron</td><td>2016-11-05</td><td>2016-11-09</td><td>2</td><td>8</td></tr>",
                            "<tr><td>aron2</td><td>Jakab Áron</td><td>2017-01-17</td><td>2017-01-18</td><td>3</td><td>7</td></tr>",
                            "<tr><td>aron2</td><td>Jakab Áron</td><td>2017-02-26</td><td>2017-02-27</td><td>3</td><td>7</td></tr>",
                            "<tr><td>ARONK</td><td>Kelemen Áron</td><td>2016-04-06</td><td>2016-04-08</td><td>2</td><td>NULL</td></tr>",
                            "<tr><td>ARONK</td><td>Kelemen Áron</td><td>2016-05-14</td><td>2016-05-20</td><td>4</td><td>2</td></tr>",
                            "<tr><td>ARONK</td><td>Kelemen Áron</td><td>2016-06-04</td><td>2016-06-09</td><td>2</td><td>6</td></tr>",
                            "<tr><td>ARONK</td><td>Kelemen Áron</td><td>2016-06-07</td><td>2016-06-13</td><td>3</td><td>8</td></tr>",
                            "<tr><td>ARONK</td><td>Kelemen Áron</td><td>2016-07-03</td><td>2016-07-07</td><td>2</td><td>9</td></tr>",
                            "<tr><td>ARONK</td><td>Kelemen Áron</td><td>2016-08-05</td><td>2016-08-08</td><td>4</td><td>7</td></tr>",
                            "<tr><td>ARONK</td><td>Kelemen Áron</td><td>2016-09-08</td><td>2016-09-15</td><td>2</td><td>9</td></tr>",
                            "<tr><td>ARONK</td><td>Kelemen Áron</td><td>2016-11-03</td><td>2016-11-10</td><td>2</td><td>8</td></tr>",
                            "<tr><td>ARONK</td><td>Kelemen Áron</td><td>2016-11-05</td><td>2016-11-07</td><td>2</td><td>8</td></tr>",
                            "<tr><td>ARONK</td><td>Kelemen Áron</td><td>2016-12-07</td><td>2016-12-12</td><td>3</td><td>6</td></tr>",
                            "<tr><td>ARONK</td><td>Kelemen Áron</td><td>2017-01-01</td><td>2017-01-03</td><td>2</td><td>7</td></tr>",
                            "<tr><td>ARONK</td><td>Kelemen Áron</td><td>2017-01-30</td><td>2017-02-03</td><td>2</td><td>7</td></tr>",
                            "<tr><td>ARONK</td><td>Kelemen Áron</td><td>2017-02-21</td><td>2017-02-23</td><td>2</td><td>7</td></tr>",
                            "<tr><td>arpad2</td><td>Ötvös Árpád</td><td>2016-06-05</td><td>2016-06-07</td><td>2</td><td>NULL</td></tr>",
                            "<tr><td>arpad2</td><td>Ötvös Árpád</td><td>2016-08-23</td><td>2016-08-25</td><td>2</td><td>2</td></tr>",
                            "<tr><td>arpad2</td><td>Ötvös Árpád</td><td>2016-09-28</td><td>2016-09-30</td><td>2</td><td>4</td></tr>",
                            "<tr><td>arpad2</td><td>Ötvös Árpád</td><td>2016-10-13</td><td>2016-10-19</td><td>3</td><td>6</td></tr>",
                            "<tr><td>arpad2</td><td>Ötvös Árpád</td><td>2016-11-06</td><td>2016-11-10</td><td>2</td><td>7</td></tr>",
                            "<tr><td>arpad2</td><td>Ötvös Árpád</td><td>2016-12-24</td><td>2016-12-27</td><td>3</td><td>7</td></tr>",
                            "<tr><td>arpad2</td><td>Ötvös Árpád</td><td>2017-02-18</td><td>2017-02-19</td><td>4</td><td>8</td></tr>",
                            "<tr><td>ARPADH</td><td>Horváth Árpád</td><td>2016-06-06</td><td>2016-06-07</td><td>3</td><td>NULL</td></tr>",
                            "<tr><td>ARPADH</td><td>Horváth Árpád</td><td>2016-07-14</td><td>2016-07-18</td><td>2</td><td>3</td></tr>",
                            "<tr><td>ARPADH</td><td>Horváth Árpád</td><td>2016-09-16</td><td>2016-09-23</td><td>1</td><td>5</td></tr>",
                            "<tr><td>ARPADH</td><td>Horváth Árpád</td><td>2016-09-18</td><td>2016-09-25</td><td>1</td><td>6</td></tr>",
                            "<tr><td>ARPADH</td><td>Horváth Árpád</td><td>2016-12-04</td><td>2016-12-10</td><td>1</td><td>4</td></tr>",
                            "<tr><td>ARPADH</td><td>Horváth Árpád</td><td>2016-12-18</td><td>2016-12-19</td><td>3</td><td>3</td></tr>",
                            "<tr><td>ARPADH</td><td>Horváth Árpád</td><td>2017-02-16</td><td>2017-02-18</td><td>2</td><td>5</td></tr>",
                            "<tr><td>ARPADM</td><td>Móricz Árpád</td><td>2016-05-29</td><td>2016-06-01</td><td>2</td><td>NULL</td></tr>",
                            "<tr><td>ARPADM</td><td>Móricz Árpád</td><td>2016-08-12</td><td>2016-08-16</td><td>2</td><td>2</td></tr>",
                            "<tr><td>ARPADM</td><td>Móricz Árpád</td><td>2016-11-09</td><td>2016-11-11</td><td>2</td><td>4</td></tr>",
                            "<tr><td>ARPADM</td><td>Móricz Árpád</td><td>2016-12-14</td><td>2016-12-17</td><td>3</td><td>6</td></tr>",
                            "<tr><td>ARPADM</td><td>Móricz Árpád</td><td>2017-01-05</td><td>2017-01-10</td><td>1</td><td>7</td></tr>",
                            "<tr><td>ARPADM</td><td>Móricz Árpád</td><td>2017-02-12</td><td>2017-02-14</td><td>3</td><td>6</td></tr>",
                            "<tr><td>attila</td><td>Csóti Attila</td><td>2016-09-30</td><td>2016-10-07</td><td>3</td><td>NULL</td></tr>",
                            "<tr><td>attila</td><td>Csóti Attila</td><td>2016-10-15</td><td>2016-10-19</td><td>1</td><td>3</td></tr>",
                            "<tr><td>attila</td><td>Csóti Attila</td><td>2016-12-22</td><td>2016-12-26</td><td>2</td><td>4</td></tr>",
                            "<tr><td>attila1</td><td>Gulyás Attila</td><td>2016-05-20</td><td>2016-05-26</td><td>1</td><td>NULL</td></tr>",
                            "<tr><td>attila1</td><td>Gulyás Attila</td><td>2016-10-09</td><td>2016-10-12</td><td>2</td><td>1</td></tr>",
                            "<tr><td>attila1</td><td>Gulyás Attila</td><td>2016-10-15</td><td>2016-10-16</td><td>3</td><td>3</td></tr>",
                            "<tr><td>attila1</td><td>Gulyás Attila</td><td>2016-10-30</td><td>2016-11-05</td><td>2</td><td>6</td></tr>",
                            "<tr><td>attila1</td><td>Gulyás Attila</td><td>2016-11-10</td><td>2016-11-14</td><td>2</td><td>7</td></tr>",
                            "<tr><td>attila1</td><td>Gulyás Attila</td><td>2017-01-23</td><td>2017-01-30</td><td>4</td><td>7</td></tr>",
                            "<tr><td>attila4</td><td>Baróti Attila</td><td>2016-08-18</td><td>2016-08-23</td><td>4</td><td>NULL</td></tr>",
                            "<tr><td>attila4</td><td>Baróti Attila</td><td>2016-12-31</td><td>2017-01-01</td><td>2</td><td>4</td></tr>",
                            "<tr><td>attila4</td><td>Baróti Attila</td><td>2017-02-15</td><td>2017-02-22</td><td>2</td><td>6</td></tr>",
                            "<tr><td>ATTILAO</td><td>Opra Attila</td><td>2016-05-21</td><td>2016-05-26</td><td>3</td><td>NULL</td></tr>",
                            "<tr><td>ATTILAO</td><td>Opra Attila</td><td>2016-06-04</td><td>2016-06-11</td><td>3</td><td>3</td></tr>",
                            "<tr><td>ATTILAO</td><td>Opra Attila</td><td>2016-10-30</td><td>2016-11-03</td><td>2</td><td>6</td></tr>",
                            "<tr><td>ATTILAO</td><td>Opra Attila</td><td>2017-02-22</td><td>2017-02-25</td><td>3</td><td>8</td></tr>",
                            "<tr><td>balazs1</td><td>Bozsik Balázs</td><td>2016-05-07</td><td>2016-05-14</td><td>2</td><td>NULL</td></tr>",
                            "<tr><td>balazs1</td><td>Bozsik Balázs</td><td>2016-07-22</td><td>2016-07-26</td><td>4</td><td>2</td></tr>",
                            "<tr><td>balazs1</td><td>Bozsik Balázs</td><td>2016-12-26</td><td>2016-12-28</td><td>3</td><td>6</td></tr>",
                            "<tr><td>balazs1</td><td>Bozsik Balázs</td><td>2017-01-01</td><td>2017-01-05</td><td>2</td><td>9</td></tr>",
                            "<tr><td>balazs1</td><td>Bozsik Balázs</td><td>2017-02-10</td><td>2017-02-14</td><td>3</td><td>9</td></tr>",
                            "<tr><td>balazs1</td><td>Bozsik Balázs</td><td>2017-02-12</td><td>2017-02-14</td><td>2</td><td>8</td></tr>",
                            "<tr><td>balazs2</td><td>Szűcs Balázs</td><td>2016-04-16</td><td>2016-04-19</td><td>2</td><td>NULL</td></tr>",
                            "<tr><td>balazs2</td><td>Szűcs Balázs</td><td>2016-05-22</td><td>2016-05-29</td><td>3</td><td>2</td></tr>",
                            "<tr><td>balazs2</td><td>Szűcs Balázs</td><td>2016-05-28</td><td>2016-06-01</td><td>3</td><td>5</td></tr>",
                            "<tr><td>balazs2</td><td>Szűcs Balázs</td><td>2016-07-08</td><td>2016-07-12</td><td>3</td><td>8</td></tr>",
                            "<tr><td>balazs2</td><td>Szűcs Balázs</td><td>2016-07-10</td><td>2016-07-17</td><td>3</td><td>9</td></tr>",
                            "<tr><td>balazs2</td><td>Szűcs Balázs</td><td>2016-07-20</td><td>2016-07-25</td><td>2</td><td>9</td></tr>",
                            "<tr><td>balazs2</td><td>Szűcs Balázs</td><td>2016-08-21</td><td>2016-08-22</td><td>3</td><td>8</td></tr>",
                            "<tr><td>balazs2</td><td>Szűcs Balázs</td><td>2016-09-12</td><td>2016-09-14</td><td>3</td><td>8</td></tr>",
                            "<tr><td>balazs2</td><td>Szűcs Balázs</td><td>2016-11-03</td><td>2016-11-05</td><td>3</td><td>8</td></tr>",
                            "<tr><td>balazs2</td><td>Szűcs Balázs</td><td>2017-02-27</td><td>2017-03-06</td><td>1</td><td>9</td></tr>",
                            "<tr><td>balazs3</td><td>Bakódy Balázs</td><td>2016-07-17</td><td>2016-07-21</td><td>2</td><td>NULL</td></tr>",
                            "<tr><td>balazs3</td><td>Bakódy Balázs</td><td>2016-07-27</td><td>2016-07-31</td><td>4</td><td>2</td></tr>",
                            "<tr><td>balazs3</td><td>Bakódy Balázs</td><td>2016-08-24</td><td>2016-08-28</td><td>3</td><td>6</td></tr>",
                            "<tr><td>balazs3</td><td>Bakódy Balázs</td><td>2016-09-15</td><td>2016-09-16</td><td>3</td><td>9</td></tr>",
                            "<tr><td>balazs3</td><td>Bakódy Balázs</td><td>2016-12-05</td><td>2016-12-11</td><td>3</td><td>10</td></tr>",
                            "<tr><td>balazs3</td><td>Bakódy Balázs</td><td>2017-01-20</td><td>2017-01-22</td><td>2</td><td>9</td></tr>",
                            "<tr><td>balint</td><td>Horváth Bálint</td><td>2016-04-22</td><td>2016-04-29</td><td>2</td><td>NULL</td></tr>",
                            "<tr><td>balint</td><td>Horváth Bálint</td><td>2016-10-09</td><td>2016-10-11</td><td>2</td><td>2</td></tr>",
                            "<tr><td>balint</td><td>Horváth Bálint</td><td>2016-11-24</td><td>2016-11-29</td><td>3</td><td>4</td></tr>",
                            "<tr><td>balint1</td><td>Molnár Bálint</td><td>2016-06-07</td><td>2016-06-11</td><td>3</td><td>NULL</td></tr>",
                            "<tr><td>balint1</td><td>Molnár Bálint</td><td>2016-06-07</td><td>2016-06-12</td><td>3</td><td>3</td></tr>",
                            "<tr><td>balint1</td><td>Molnár Bálint</td><td>2016-06-10</td><td>2016-06-12</td><td>1</td><td>6</td></tr>",
                            "<tr><td>balint1</td><td>Molnár Bálint</td><td>2016-07-26</td><td>2016-07-28</td><td>2</td><td>7</td></tr>",
                            "<tr><td>balint1</td><td>Molnár Bálint</td><td>2016-08-03</td><td>2016-08-08</td><td>2</td><td>6</td></tr>",
                            "<tr><td>balint1</td><td>Molnár Bálint</td><td>2016-09-16</td><td>2016-09-21</td><td>1</td><td>5</td></tr>",
                            "<tr><td>balint1</td><td>Molnár Bálint</td><td>2016-11-07</td><td>2016-11-10</td><td>2</td><td>5</td></tr>",
                            "<tr><td>balint1</td><td>Molnár Bálint</td><td>2016-12-17</td><td>2016-12-22</td><td>3</td><td>5</td></tr>",
                            "<tr><td>balint1</td><td>Molnár Bálint</td><td>2016-12-29</td><td>2016-12-31</td><td>3</td><td>6</td></tr>",
                            "<tr><td>balint1</td><td>Molnár Bálint</td><td>2017-01-03</td><td>2017-01-08</td><td>2</td><td>8</td></tr>",
                            "<tr><td>balint2</td><td>Vukasinovity Bálint</td><td>2016-07-21</td><td>2016-07-26</td><td>1</td><td>NULL</td></tr>",
                            "<tr><td>balint2</td><td>Vukasinovity Bálint</td><td>2016-12-04</td><td>2016-12-06</td><td>3</td><td>1</td></tr>",
                            "<tr><td>balu</td><td>Endresz Bálint</td><td>2016-08-06</td><td>2016-08-10</td><td>2</td><td>NULL</td></tr>",
                            "<tr><td>balu</td><td>Endresz Bálint</td><td>2016-12-22</td><td>2016-12-23</td><td>2</td><td>2</td></tr>",
                            "<tr><td>beata4</td><td>Bagi Beáta</td><td>2016-04-20</td><td>2016-04-21</td><td>2</td><td>NULL</td></tr>",
                            "<tr><td>beata4</td><td>Bagi Beáta</td><td>2016-06-03</td><td>2016-06-04</td><td>2</td><td>2</td></tr>",
                            "<tr><td>beata4</td><td>Bagi Beáta</td><td>2016-07-03</td><td>2016-07-06</td><td>1</td><td>4</td></tr>",
                            "<tr><td>beata4</td><td>Bagi Beáta</td><td>2016-08-25</td><td>2016-08-27</td><td>3</td><td>5</td></tr>",
                            "<tr><td>beata4</td><td>Bagi Beáta</td><td>2016-10-01</td><td>2016-10-05</td><td>1</td><td>6</td></tr>",
                            "<tr><td>beata4</td><td>Bagi Beáta</td><td>2016-10-03</td><td>2016-10-06</td><td>3</td><td>5</td></tr>",
                            "<tr><td>BEATRIXK</td><td>Kerényi Beatrix</td><td>2016-06-10</td><td>2016-06-11</td><td>2</td><td>NULL</td></tr>",
                            "<tr><td>BEATRIXK</td><td>Kerényi Beatrix</td><td>2016-06-10</td><td>2016-06-14</td><td>2</td><td>2</td></tr>",
                            "<tr><td>BEATRIXK</td><td>Kerényi Beatrix</td><td>2016-06-19</td><td>2016-06-21</td><td>3</td><td>4</td></tr>",
                            "<tr><td>BEATRIXK</td><td>Kerényi Beatrix</td><td>2016-08-12</td><td>2016-08-18</td><td>4</td><td>7</td></tr>",
                            "<tr><td>BEATRIXK</td><td>Kerényi Beatrix</td><td>2016-10-23</td><td>2016-10-28</td><td>2</td><td>9</td></tr>",
                            "<tr><td>BEATRIXK</td><td>Kerényi Beatrix</td><td>2016-11-14</td><td>2016-11-19</td><td>2</td><td>9</td></tr>",
                            "<tr><td>BEATRIXK</td><td>Kerényi Beatrix</td><td>2016-12-12</td><td>2016-12-14</td><td>3</td><td>8</td></tr>",
                            "<tr><td>BEATRIXK</td><td>Kerényi Beatrix</td><td>2016-12-17</td><td>2016-12-22</td><td>4</td><td>7</td></tr>",
                            "<tr><td>BEATRIXK</td><td>Kerényi Beatrix</td><td>2017-02-08</td><td>2017-02-09</td><td>3</td><td>9</td></tr>",
                            "<tr><td>BEATRIXS</td><td>Szekendi Beatrix</td><td>2016-04-18</td><td>2016-04-24</td><td>1</td><td>NULL</td></tr>",
                            "<tr><td>BEATRIXS</td><td>Szekendi Beatrix</td><td>2016-06-11</td><td>2016-06-14</td><td>3</td><td>1</td></tr>",
                            "<tr><td>BEATRIXS</td><td>Szekendi Beatrix</td><td>2016-10-01</td><td>2016-10-03</td><td>3</td><td>4</td></tr>",
                            "<tr><td>BEATRIXS</td><td>Szekendi Beatrix</td><td>2016-10-01</td><td>2016-10-05</td><td>3</td><td>7</td></tr>",
                            "<tr><td>BEATRIXS</td><td>Szekendi Beatrix</td><td>2016-12-21</td><td>2016-12-27</td><td>2</td><td>9</td></tr>",
                            "<tr><td>BEATRIXS</td><td>Szekendi Beatrix</td><td>2017-02-03</td><td>2017-02-04</td><td>2</td><td>8</td></tr>",
                            "<tr><td>BELAF</td><td>Farkas Béla</td><td>2016-07-27</td><td>2016-07-30</td><td>3</td><td>NULL</td></tr>",
                            "<tr><td>BELAF</td><td>Farkas Béla</td><td>2016-07-29</td><td>2016-07-31</td><td>2</td><td>3</td></tr>",
                            "<tr><td>BELAF</td><td>Farkas Béla</td><td>2016-08-29</td><td>2016-08-31</td><td>2</td><td>5</td></tr>",
                            "<tr><td>BELAF</td><td>Farkas Béla</td><td>2016-11-03</td><td>2016-11-09</td><td>4</td><td>7</td></tr>",
                            "<tr><td>BELAF</td><td>Farkas Béla</td><td>2016-12-02</td><td>2016-12-04</td><td>3</td><td>8</td></tr>",
                            "<tr><td>BELAF</td><td>Farkas Béla</td><td>2016-12-06</td><td>2016-12-09</td><td>1</td><td>9</td></tr>",
                            "<tr><td>bence</td><td>Győrffy Bence</td><td>2016-05-08</td><td>2016-05-11</td><td>2</td><td>NULL</td></tr>",
                            "<tr><td>bence</td><td>Győrffy Bence</td><td>2016-05-29</td><td>2016-06-03</td><td>1</td><td>2</td></tr>",
                            "<tr><td>bence</td><td>Győrffy Bence</td><td>2016-07-24</td><td>2016-07-30</td><td>2</td><td>3</td></tr>",
                            "<tr><td>bence</td><td>Győrffy Bence</td><td>2016-07-25</td><td>2016-08-01</td><td>3</td><td>5</td></tr>",
                            "<tr><td>bence</td><td>Győrffy Bence</td><td>2016-09-03</td><td>2016-09-06</td><td>3</td><td>6</td></tr>",
                            "<tr><td>bence</td><td>Győrffy Bence</td><td>2016-10-30</td><td>2016-11-02</td><td>4</td><td>8</td></tr>",
                            "<tr><td>bence</td><td>Győrffy Bence</td><td>2016-12-17</td><td>2016-12-18</td><td>2</td><td>10</td></tr>",
                            "<tr><td>bence</td><td>Győrffy Bence</td><td>2016-12-26</td><td>2016-12-27</td><td>2</td><td>9</td></tr>",
                            "<tr><td>bence</td><td>Győrffy Bence</td><td>2017-02-05</td><td>2017-02-09</td><td>3</td><td>8</td></tr>",
                            "<tr><td>BENCEB</td><td>Bajusz Bence</td><td>2016-05-14</td><td>2016-05-17</td><td>3</td><td>NULL</td></tr>",
                            "<tr><td>BENCEB</td><td>Bajusz Bence</td><td>2016-06-03</td><td>2016-06-09</td><td>2</td><td>3</td></tr>",
                            "<tr><td>BENCEB</td><td>Bajusz Bence</td><td>2016-08-01</td><td>2016-08-02</td><td>2</td><td>5</td></tr>",
                            "<tr><td>BENCEB</td><td>Bajusz Bence</td><td>2016-10-22</td><td>2016-10-29</td><td>3</td><td>7</td></tr>",
                            "<tr><td>BENCEB</td><td>Bajusz Bence</td><td>2016-11-28</td><td>2016-12-02</td><td>2</td><td>7</td></tr>",
                            "<tr><td>BENCEB</td><td>Bajusz Bence</td><td>2017-02-12</td><td>2017-02-19</td><td>3</td><td>7</td></tr>",
                            "<tr><td>bernadett1</td><td>Simon Bernadett</td><td>2016-06-12</td><td>2016-06-17</td><td>3</td><td>NULL</td></tr>",
                            "<tr><td>bernadett1</td><td>Simon Bernadett</td><td>2016-10-08</td><td>2016-10-09</td><td>4</td><td>3</td></tr>",
                            "<tr><td>bernadett1</td><td>Simon Bernadett</td><td>2016-10-15</td><td>2016-10-22</td><td>3</td><td>7</td></tr>",
                            "<tr><td>bernadett1</td><td>Simon Bernadett</td><td>2016-10-26</td><td>2016-11-02</td><td>3</td><td>10</td></tr>",
                            "<tr><td>bernadett1</td><td>Simon Bernadett</td><td>2016-10-28</td><td>2016-11-01</td><td>3</td><td>10</td></tr>",
                            "<tr><td>bernadett1</td><td>Simon Bernadett</td><td>2017-02-14</td><td>2017-02-15</td><td>3</td><td>9</td></tr>",
                            "<tr><td>bernadett1</td><td>Simon Bernadett</td><td>2017-02-24</td><td>2017-03-03</td><td>1</td><td>9</td></tr>",
                            "<tr><td>bernadett2</td><td>Kovács Bernadett</td><td>2016-05-01</td><td>2016-05-03</td><td>2</td><td>NULL</td></tr>",
                            "<tr><td>bernadett2</td><td>Kovács Bernadett</td><td>2016-06-17</td><td>2016-06-23</td><td>3</td><td>2</td></tr>",
                            "<tr><td>bernadett2</td><td>Kovács Bernadett</td><td>2016-08-23</td><td>2016-08-29</td><td>2</td><td>5</td></tr>",
                            "<tr><td>bernadett2</td><td>Kovács Bernadett</td><td>2016-08-25</td><td>2016-08-27</td><td>3</td><td>7</td></tr>",
                            "<tr><td>bernadett2</td><td>Kovács Bernadett</td><td>2016-09-07</td><td>2016-09-13</td><td>3</td><td>8</td></tr>",
                            "<tr><td>bernadett2</td><td>Kovács Bernadett</td><td>2016-10-30</td><td>2016-11-06</td><td>3</td><td>8</td></tr>",
                            "<tr><td>bernadett2</td><td>Kovács Bernadett</td><td>2016-12-17</td><td>2016-12-20</td><td>1</td><td>9</td></tr>",
                            "<tr><td>bernadett2</td><td>Kovács Bernadett</td><td>2017-01-24</td><td>2017-01-30</td><td>3</td><td>7</td></tr>",
                            "<tr><td>BERNADETTO</td><td>Orbán Bernadett</td><td>2016-04-10</td><td>2016-04-17</td><td>2</td><td>NULL</td></tr>",
                            "<tr><td>BERNADETTO</td><td>Orbán Bernadett</td><td>2016-04-17</td><td>2016-04-19</td><td>2</td><td>2</td></tr>",
                            "<tr><td>BERNADETTO</td><td>Orbán Bernadett</td><td>2016-06-07</td><td>2016-06-13</td><td>3</td><td>4</td></tr>",
                            "<tr><td>BERNADETTO</td><td>Orbán Bernadett</td><td>2016-06-10</td><td>2016-06-16</td><td>4</td><td>7</td></tr>",
                            "<tr><td>BERNADETTO</td><td>Orbán Bernadett</td><td>2016-10-04</td><td>2016-10-05</td><td>2</td><td>9</td></tr>",
                            "<tr><td>BERNADETTO</td><td>Orbán Bernadett</td><td>2017-01-01</td><td>2017-01-02</td><td>3</td><td>9</td></tr>",
                            "<tr><td>BERNADETTO</td><td>Orbán Bernadett</td><td>2017-01-28</td><td>2017-02-03</td><td>2</td><td>9</td></tr>",
                            "<tr><td>bertalan</td><td>Csiger Bertalan</td><td>2016-05-18</td><td>2016-05-23</td><td>2</td><td>NULL</td></tr>",
                            "<tr><td>bertalan</td><td>Csiger Bertalan</td><td>2016-06-20</td><td>2016-06-21</td><td>1</td><td>2</td></tr>",
                            "<tr><td>bertalan</td><td>Csiger Bertalan</td><td>2016-11-03</td><td>2016-11-10</td><td>2</td><td>3</td></tr>",
                            "<tr><td>bertalan</td><td>Csiger Bertalan</td><td>2016-11-26</td><td>2016-11-29</td><td>3</td><td>5</td></tr>",
                            "<tr><td>bertalan</td><td>Csiger Bertalan</td><td>2017-02-16</td><td>2017-02-22</td><td>2</td><td>6</td></tr>",
                            "<tr><td>bertalan</td><td>Csiger Bertalan</td><td>2017-02-20</td><td>2017-02-24</td><td>4</td><td>7</td></tr>",
                            "<tr><td>brigitta</td><td>Székely Brigitta</td><td>2016-05-30</td><td>2016-06-06</td><td>3</td><td>NULL</td></tr>",
                            "<tr><td>brigitta</td><td>Székely Brigitta</td><td>2016-08-28</td><td>2016-09-01</td><td>3</td><td>3</td></tr>",
                            "<tr><td>brigitta</td><td>Székely Brigitta</td><td>2016-10-21</td><td>2016-10-28</td><td>3</td><td>6</td></tr>",
                            "<tr><td>brigitta</td><td>Székely Brigitta</td><td>2016-12-17</td><td>2016-12-22</td><td>2</td><td>9</td></tr>",
                            "<tr><td>brigitta</td><td>Székely Brigitta</td><td>2017-01-23</td><td>2017-01-25</td><td>1</td><td>8</td></tr>",
                            "<tr><td>brigitta3</td><td>Pataki Brigitta</td><td>2016-06-01</td><td>2016-06-05</td><td>2</td><td>NULL</td></tr>",
                            "<tr><td>brigitta3</td><td>Pataki Brigitta</td><td>2016-06-13</td><td>2016-06-17</td><td>3</td><td>2</td></tr>",
                            "<tr><td>brigitta3</td><td>Pataki Brigitta</td><td>2016-10-10</td><td>2016-10-14</td><td>2</td><td>5</td></tr>",
                            "<tr><td>brigitta3</td><td>Pataki Brigitta</td><td>2016-11-03</td><td>2016-11-09</td><td>3</td><td>7</td></tr>",
                            "<tr><td>brigitta3</td><td>Pataki Brigitta</td><td>2017-02-09</td><td>2017-02-16</td><td>2</td><td>8</td></tr>",
                            "<tr><td>csongor3</td><td>Nagymihály Csongor</td><td>2016-05-01</td><td>2016-05-04</td><td>2</td><td>NULL</td></tr>",
                            "<tr><td>csongor3</td><td>Nagymihály Csongor</td><td>2016-05-08</td><td>2016-05-15</td><td>3</td><td>2</td></tr>",
                            "<tr><td>csongor3</td><td>Nagymihály Csongor</td><td>2016-06-04</td><td>2016-06-05</td><td>2</td><td>5</td></tr>",
                            "<tr><td>csongor3</td><td>Nagymihály Csongor</td><td>2016-06-10</td><td>2016-06-17</td><td>3</td><td>7</td></tr>",
                            "<tr><td>csongor3</td><td>Nagymihály Csongor</td><td>2016-06-11</td><td>2016-06-14</td><td>2</td><td>8</td></tr>",
                            "<tr><td>csongor3</td><td>Nagymihály Csongor</td><td>2016-07-09</td><td>2016-07-10</td><td>4</td><td>7</td></tr>",
                            "<tr><td>csongor3</td><td>Nagymihály Csongor</td><td>2016-11-12</td><td>2016-11-17</td><td>3</td><td>9</td></tr>",
                            "<tr><td>csongor3</td><td>Nagymihály Csongor</td><td>2017-02-13</td><td>2017-02-19</td><td>3</td><td>9</td></tr>",
                            "<tr><td>dani</td><td>Vörös Dániel</td><td>2016-06-06</td><td>2016-06-10</td><td>3</td><td>NULL</td></tr>",
                            "<tr><td>dani</td><td>Vörös Dániel</td><td>2016-07-11</td><td>2016-07-12</td><td>3</td><td>3</td></tr>",
                            "<tr><td>dani</td><td>Vörös Dániel</td><td>2016-08-06</td><td>2016-08-09</td><td>2</td><td>6</td></tr>",
                            "<tr><td>dani</td><td>Vörös Dániel</td><td>2016-09-19</td><td>2016-09-25</td><td>4</td><td>8</td></tr>",
                            "<tr><td>dani</td><td>Vörös Dániel</td><td>2016-10-01</td><td>2016-10-02</td><td>1</td><td>9</td></tr>",
                            "<tr><td>dani</td><td>Vörös Dániel</td><td>2016-11-22</td><td>2016-11-24</td><td>2</td><td>7</td></tr>",
                            "<tr><td>dani</td><td>Vörös Dániel</td><td>2017-01-17</td><td>2017-01-23</td><td>2</td><td>7</td></tr>",
                            "<tr><td>dani</td><td>Vörös Dániel</td><td>2017-01-22</td><td>2017-01-29</td><td>1</td><td>5</td></tr>",
                            "<tr><td>dani</td><td>Vörös Dániel</td><td>2017-02-25</td><td>2017-03-01</td><td>3</td><td>5</td></tr>",
                            "<tr><td>daniel</td><td>Rácz Dániel</td><td>2016-04-10</td><td>2016-04-11</td><td>4</td><td>NULL</td></tr>",
                            "<tr><td>daniel</td><td>Rácz Dániel</td><td>2016-04-22</td><td>2016-04-25</td><td>2</td><td>4</td></tr>",
                            "<tr><td>daniel</td><td>Rácz Dániel</td><td>2016-05-09</td><td>2016-05-13</td><td>3</td><td>6</td></tr>",
                            "<tr><td>daniel</td><td>Rácz Dániel</td><td>2016-09-08</td><td>2016-09-10</td><td>4</td><td>9</td></tr>",
                            "<tr><td>daniel</td><td>Rácz Dániel</td><td>2016-11-13</td><td>2016-11-19</td><td>3</td><td>9</td></tr>",
                            "<tr><td>daniel</td><td>Rácz Dániel</td><td>2016-12-25</td><td>2016-12-26</td><td>3</td><td>10</td></tr>",
                            "<tr><td>daniel</td><td>Rácz Dániel</td><td>2017-01-09</td><td>2017-01-11</td><td>1</td><td>10</td></tr>",
                            "<tr><td>daniel</td><td>Rácz Dániel</td><td>2017-02-12</td><td>2017-02-13</td><td>3</td><td>7</td></tr>",
                            "<tr><td>daniel</td><td>Rácz Dániel</td><td>2017-02-20</td><td>2017-02-23</td><td>3</td><td>7</td></tr>",
                            "<tr><td>daniel1</td><td>Keszler Dániel</td><td>2016-04-10</td><td>2016-04-15</td><td>2</td><td>NULL</td></tr>",
                            "<tr><td>daniel1</td><td>Keszler Dániel</td><td>2016-05-10</td><td>2016-05-13</td><td>4</td><td>2</td></tr>",
                            "<tr><td>daniel1</td><td>Keszler Dániel</td><td>2016-05-26</td><td>2016-05-27</td><td>3</td><td>6</td></tr>",
                            "<tr><td>daniel1</td><td>Keszler Dániel</td><td>2016-11-09</td><td>2016-11-11</td><td>2</td><td>9</td></tr>",
                            "<tr><td>daniel1</td><td>Keszler Dániel</td><td>2016-11-23</td><td>2016-11-25</td><td>2</td><td>9</td></tr>",
                            "<tr><td>daniel1</td><td>Keszler Dániel</td><td>2017-01-05</td><td>2017-01-08</td><td>3</td><td>7</td></tr>",
                            "<tr><td>daniel1</td><td>Keszler Dániel</td><td>2017-03-01</td><td>2017-03-06</td><td>4</td><td>7</td></tr>",
                            "<tr><td>david</td><td>Ambrus Dávid</td><td>2016-05-18</td><td>2016-05-25</td><td>2</td><td>NULL</td></tr>",
                            "<tr><td>david</td><td>Ambrus Dávid</td><td>2016-06-09</td><td>2016-06-10</td><td>2</td><td>2</td></tr>",
                            "<tr><td>david</td><td>Ambrus Dávid</td><td>2016-06-30</td><td>2016-07-07</td><td>2</td><td>4</td></tr>",
                            "<tr><td>david</td><td>Ambrus Dávid</td><td>2016-07-18</td><td>2016-07-21</td><td>2</td><td>6</td></tr>",
                            "<tr><td>david</td><td>Ambrus Dávid</td><td>2016-08-05</td><td>2016-08-12</td><td>1</td><td>6</td></tr>",
                            "<tr><td>david</td><td>Ambrus Dávid</td><td>2016-08-20</td><td>2016-08-25</td><td>3</td><td>5</td></tr>",
                            "<tr><td>david</td><td>Ambrus Dávid</td><td>2016-08-22</td><td>2016-08-24</td><td>3</td><td>6</td></tr>",
                            "<tr><td>david</td><td>Ambrus Dávid</td><td>2016-10-30</td><td>2016-11-04</td><td>2</td><td>7</td></tr>",
                            "<tr><td>david</td><td>Ambrus Dávid</td><td>2017-01-18</td><td>2017-01-19</td><td>2</td><td>8</td></tr>",
                            "<tr><td>david1</td><td>Sobják Dávid</td><td>2016-09-20</td><td>2016-09-21</td><td>2</td><td>NULL</td></tr>",
                            "<tr><td>david1</td><td>Sobják Dávid</td><td>2016-10-01</td><td>2016-10-02</td><td>2</td><td>2</td></tr>",
                            "<tr><td>david1</td><td>Sobják Dávid</td><td>2016-11-19</td><td>2016-11-22</td><td>2</td><td>4</td></tr>",
                            "<tr><td>david1</td><td>Sobják Dávid</td><td>2016-12-30</td><td>2017-01-06</td><td>2</td><td>6</td></tr>",
                            "<tr><td>david1</td><td>Sobják Dávid</td><td>2017-02-17</td><td>2017-02-20</td><td>3</td><td>6</td></tr>",
                            "<tr><td>david1</td><td>Sobják Dávid</td><td>2017-02-25</td><td>2017-02-27</td><td>4</td><td>7</td></tr>",
                            "<tr><td>david4</td><td>Berta Dávid</td><td>2017-02-16</td><td>2017-02-19</td><td>3</td><td>NULL</td></tr>",
                            "<tr><td>debora</td><td>Barna Debóra</td><td>2016-06-22</td><td>2016-06-24</td><td>5</td><td>NULL</td></tr>",
                            "<tr><td>debora</td><td>Barna Debóra</td><td>2016-10-29</td><td>2016-11-03</td><td>2</td><td>5</td></tr>",
                            "<tr><td>debora</td><td>Barna Debóra</td><td>2017-01-23</td><td>2017-01-28</td><td>3</td><td>7</td></tr>",
                            "<tr><td>debora</td><td>Barna Debóra</td><td>2017-02-04</td><td>2017-02-06</td><td>3</td><td>10</td></tr>",
                            "<tr><td>denes</td><td>Tömböly Dénes</td><td>2016-05-27</td><td>2016-05-31</td><td>3</td><td>NULL</td></tr>",
                            "<tr><td>denes</td><td>Tömböly Dénes</td><td>2016-07-19</td><td>2016-07-23</td><td>2</td><td>3</td></tr>",
                            "<tr><td>denes</td><td>Tömböly Dénes</td><td>2016-08-01</td><td>2016-08-08</td><td>3</td><td>5</td></tr>",
                            "<tr><td>denes</td><td>Tömböly Dénes</td><td>2016-08-16</td><td>2016-08-23</td><td>2</td><td>8</td></tr>",
                            "<tr><td>denes</td><td>Tömböly Dénes</td><td>2016-08-20</td><td>2016-08-27</td><td>3</td><td>7</td></tr>",
                            "<tr><td>denes</td><td>Tömböly Dénes</td><td>2016-11-06</td><td>2016-11-10</td><td>2</td><td>8</td></tr>",
                            "<tr><td>dora3</td><td>Sarodi Dóra</td><td>2016-08-16</td><td>2016-08-19</td><td>4</td><td>NULL</td></tr>",
                            "<tr><td>dora3</td><td>Sarodi Dóra</td><td>2016-08-25</td><td>2016-08-29</td><td>3</td><td>4</td></tr>",
                            "<tr><td>dora3</td><td>Sarodi Dóra</td><td>2016-10-09</td><td>2016-10-12</td><td>3</td><td>7</td></tr>",
                            "<tr><td>dora3</td><td>Sarodi Dóra</td><td>2016-10-29</td><td>2016-11-02</td><td>3</td><td>10</td></tr>",
                            "<tr><td>dora3</td><td>Sarodi Dóra</td><td>2016-11-22</td><td>2016-11-29</td><td>3</td><td>9</td></tr>",
                            "<tr><td>edit</td><td>Bittmann Edit</td><td>2016-07-14</td><td>2016-07-17</td><td>3</td><td>NULL</td></tr>",
                            "<tr><td>edit</td><td>Bittmann Edit</td><td>2016-08-03</td><td>2016-08-09</td><td>4</td><td>3</td></tr>",
                            "<tr><td>edit</td><td>Bittmann Edit</td><td>2016-08-12</td><td>2016-08-14</td><td>2</td><td>7</td></tr>",
                            "<tr><td>edit</td><td>Bittmann Edit</td><td>2016-09-17</td><td>2016-09-24</td><td>2</td><td>9</td></tr>",
                            "<tr><td>edit</td><td>Bittmann Edit</td><td>2016-09-18</td><td>2016-09-21</td><td>3</td><td>8</td></tr>",
                            "<tr><td>edit</td><td>Bittmann Edit</td><td>2017-01-15</td><td>2017-01-18</td><td>4</td><td>7</td></tr>",
                            "<tr><td>edit</td><td>Bittmann Edit</td><td>2017-02-08</td><td>2017-02-14</td><td>3</td><td>9</td></tr>",
                            "<tr><td>emese</td><td>Kuruc Emese</td><td>2016-07-22</td><td>2016-07-24</td><td>2</td><td>NULL</td></tr>",
                            "<tr><td>emese</td><td>Kuruc Emese</td><td>2016-08-09</td><td>2016-08-12</td><td>2</td><td>2</td></tr>",
                            "<tr><td>emese</td><td>Kuruc Emese</td><td>2016-09-27</td><td>2016-09-28</td><td>3</td><td>4</td></tr>",
                            "<tr><td>emese</td><td>Kuruc Emese</td><td>2016-11-05</td><td>2016-11-09</td><td>1</td><td>7</td></tr>",
                            "<tr><td>emese</td><td>Kuruc Emese</td><td>2016-11-23</td><td>2016-11-27</td><td>4</td><td>6</td></tr>",
                            "<tr><td>emese</td><td>Kuruc Emese</td><td>2016-12-07</td><td>2016-12-08</td><td>3</td><td>8</td></tr>",
                            "<tr><td>emese</td><td>Kuruc Emese</td><td>2017-01-30</td><td>2017-01-31</td><td>2</td><td>8</td></tr>",
                            "<tr><td>eszter</td><td>Molnár Eszter</td><td>2016-08-12</td><td>2016-08-18</td><td>3</td><td>NULL</td></tr>",
                            "<tr><td>eszter</td><td>Molnár Eszter</td><td>2016-10-04</td><td>2016-10-10</td><td>3</td><td>3</td></tr>",
                            "<tr><td>eszter</td><td>Molnár Eszter</td><td>2016-10-26</td><td>2016-11-01</td><td>3</td><td>6</td></tr>",
                            "<tr><td>eszter</td><td>Molnár Eszter</td><td>2016-12-23</td><td>2016-12-28</td><td>2</td><td>9</td></tr>",
                            "<tr><td>eszter2</td><td>Balogh Eszter</td><td>2016-06-30</td><td>2016-07-07</td><td>3</td><td>NULL</td></tr>",
                            "<tr><td>eszter2</td><td>Balogh Eszter</td><td>2016-07-08</td><td>2016-07-09</td><td>1</td><td>3</td></tr>",
                            "<tr><td>eszter2</td><td>Balogh Eszter</td><td>2016-10-01</td><td>2016-10-05</td><td>3</td><td>4</td></tr>",
                            "<tr><td>eszter2</td><td>Balogh Eszter</td><td>2016-10-01</td><td>2016-10-06</td><td>1</td><td>7</td></tr>",
                            "<tr><td>eszter2</td><td>Balogh Eszter</td><td>2016-10-20</td><td>2016-10-25</td><td>1</td><td>5</td></tr>",
                            "<tr><td>eszter2</td><td>Balogh Eszter</td><td>2016-10-23</td><td>2016-10-30</td><td>1</td><td>5</td></tr>",
                            "<tr><td>eszter2</td><td>Balogh Eszter</td><td>2016-11-05</td><td>2016-11-12</td><td>4</td><td>3</td></tr>",
                            "<tr><td>eszter2</td><td>Balogh Eszter</td><td>2016-12-02</td><td>2016-12-07</td><td>1</td><td>6</td></tr>",
                            "<tr><td>eszter2</td><td>Balogh Eszter</td><td>2016-12-05</td><td>2016-12-08</td><td>2</td><td>6</td></tr>",
                            "<tr><td>eszter2</td><td>Balogh Eszter</td><td>2016-12-29</td><td>2017-02-04</td><td>1</td><td>7</td></tr>",
                            "<tr><td>eszter4</td><td>Fülöp Eszter</td><td>2017-01-05</td><td>2017-01-10</td><td>2</td><td>NULL</td></tr>",
                            "<tr><td>eszter4</td><td>Fülöp Eszter</td><td>2017-01-26</td><td>2017-02-02</td><td>2</td><td>2</td></tr>",
                            "<tr><td>eszter4</td><td>Fülöp Eszter</td><td>2017-02-26</td><td>2017-02-27</td><td>3</td><td>4</td></tr>",
                            "<tr><td>ESZTERE</td><td>Érsek Eszter</td><td>2016-05-30</td><td>2016-06-05</td><td>2</td><td>NULL</td></tr>",
                            "<tr><td>ESZTERE</td><td>Érsek Eszter</td><td>2016-07-19</td><td>2016-07-21</td><td>2</td><td>2</td></tr>",
                            "<tr><td>ESZTERE</td><td>Érsek Eszter</td><td>2016-11-01</td><td>2016-11-08</td><td>2</td><td>4</td></tr>",
                            "<tr><td>ESZTERE</td><td>Érsek Eszter</td><td>2017-02-10</td><td>2017-02-14</td><td>2</td><td>6</td></tr>",
                            "<tr><td>eva</td><td>Enyedi Éva</td><td>2016-10-06</td><td>2016-10-09</td><td>3</td><td>NULL</td></tr>",
                            "<tr><td>eva</td><td>Enyedi Éva</td><td>2017-01-14</td><td>2017-01-16</td><td>2</td><td>3</td></tr>",
                            "<tr><td>eva2</td><td>Perlinger Éva</td><td>2016-09-02</td><td>2016-09-03</td><td>1</td><td>NULL</td></tr>",
                            "<tr><td>eva2</td><td>Perlinger Éva</td><td>2016-11-06</td><td>2016-11-13</td><td>2</td><td>1</td></tr>",
                            "<tr><td>eva2</td><td>Perlinger Éva</td><td>2016-12-06</td><td>2016-12-11</td><td>2</td><td>3</td></tr>",
                            "<tr><td>eva2</td><td>Perlinger Éva</td><td>2017-01-06</td><td>2017-01-09</td><td>4</td><td>5</td></tr>",
                            "<tr><td>EVAV</td><td>Viktor Éva</td><td>2016-05-01</td><td>2016-05-05</td><td>3</td><td>NULL</td></tr>",
                            "<tr><td>EVAV</td><td>Viktor Éva</td><td>2016-08-31</td><td>2016-09-04</td><td>2</td><td>3</td></tr>",
                            "<tr><td>EVAV</td><td>Viktor Éva</td><td>2016-10-15</td><td>2016-10-21</td><td>3</td><td>5</td></tr>",
                            "<tr><td>EVAV</td><td>Viktor Éva</td><td>2016-10-16</td><td>2016-10-23</td><td>2</td><td>8</td></tr>",
                            "<tr><td>EVAV</td><td>Viktor Éva</td><td>2017-02-04</td><td>2017-02-11</td><td>5</td><td>7</td></tr>",
                            "<tr><td>ferenc1</td><td>Orosz Ferenc</td><td>2016-05-08</td><td>2016-05-11</td><td>2</td><td>NULL</td></tr>",
                            "<tr><td>ferenc1</td><td>Orosz Ferenc</td><td>2016-06-16</td><td>2016-06-22</td><td>2</td><td>2</td></tr>",
                            "<tr><td>ferenc1</td><td>Orosz Ferenc</td><td>2016-10-08</td><td>2016-10-09</td><td>2</td><td>4</td></tr>",
                            "<tr><td>ferenc1</td><td>Orosz Ferenc</td><td>2016-11-07</td><td>2016-11-08</td><td>3</td><td>6</td></tr>",
                            "<tr><td>fruzsina4</td><td>Frank Fruzsina</td><td>2016-06-02</td><td>2016-06-04</td><td>2</td><td>NULL</td></tr>",
                            "<tr><td>fruzsina4</td><td>Frank Fruzsina</td><td>2016-07-01</td><td>2016-07-04</td><td>3</td><td>2</td></tr>",
                            "<tr><td>fruzsina4</td><td>Frank Fruzsina</td><td>2016-07-13</td><td>2016-07-19</td><td>3</td><td>5</td></tr>",
                            "<tr><td>fruzsina4</td><td>Frank Fruzsina</td><td>2016-08-27</td><td>2016-08-30</td><td>4</td><td>8</td></tr>",
                            "<tr><td>fruzsina4</td><td>Frank Fruzsina</td><td>2016-09-29</td><td>2016-10-01</td><td>3</td><td>10</td></tr>",
                            "<tr><td>fruzsina4</td><td>Frank Fruzsina</td><td>2016-11-22</td><td>2016-11-24</td><td>2</td><td>10</td></tr>",
                            "<tr><td>fruzsina4</td><td>Frank Fruzsina</td><td>2016-12-16</td><td>2016-12-21</td><td>1</td><td>9</td></tr>",
                            "<tr><td>fruzsina4</td><td>Frank Fruzsina</td><td>2017-01-22</td><td>2017-01-25</td><td>4</td><td>6</td></tr>",
                            "<tr><td>gabor1</td><td>Köves Gábor</td><td>2016-06-20</td><td>2016-06-21</td><td>4</td><td>NULL</td></tr>",
                            "<tr><td>gabor1</td><td>Köves Gábor</td><td>2016-07-12</td><td>2016-07-15</td><td>1</td><td>4</td></tr>",
                            "<tr><td>gabor1</td><td>Köves Gábor</td><td>2016-07-28</td><td>2016-07-30</td><td>2</td><td>5</td></tr>",
                            "<tr><td>gabor1</td><td>Köves Gábor</td><td>2016-09-02</td><td>2016-09-03</td><td>3</td><td>7</td></tr>",
                            "<tr><td>gabor1</td><td>Köves Gábor</td><td>2016-10-20</td><td>2016-10-24</td><td>1</td><td>6</td></tr>",
                            "<tr><td>gabor1</td><td>Köves Gábor</td><td>2016-11-19</td><td>2016-11-22</td><td>2</td><td>6</td></tr>",
                            "<tr><td>gabor4</td><td>Telek Gábor</td><td>2016-04-26</td><td>2016-04-29</td><td>3</td><td>NULL</td></tr>",
                            "<tr><td>gabor4</td><td>Telek Gábor</td><td>2016-05-30</td><td>2016-06-05</td><td>1</td><td>3</td></tr>",
                            "<tr><td>gabor4</td><td>Telek Gábor</td><td>2016-08-31</td><td>2016-09-06</td><td>4</td><td>4</td></tr>",
                            "<tr><td>gabor4</td><td>Telek Gábor</td><td>2016-11-07</td><td>2016-11-13</td><td>4</td><td>8</td></tr>",
                            "<tr><td>gabriella1</td><td>Nagy Gabriella</td><td>2016-04-21</td><td>2016-04-24</td><td>3</td><td>NULL</td></tr>",
                            "<tr><td>gabriella1</td><td>Nagy Gabriella</td><td>2016-07-10</td><td>2016-07-11</td><td>3</td><td>3</td></tr>",
                            "<tr><td>gabriella1</td><td>Nagy Gabriella</td><td>2016-07-24</td><td>2016-07-31</td><td>2</td><td>6</td></tr>",
                            "<tr><td>gabriella1</td><td>Nagy Gabriella</td><td>2017-02-04</td><td>2017-02-11</td><td>3</td><td>8</td></tr>",
                            "<tr><td>gabriella1</td><td>Nagy Gabriella</td><td>2017-02-12</td><td>2017-02-13</td><td>2</td><td>8</td></tr>",
                            "<tr><td>gabriella1</td><td>Nagy Gabriella</td><td>2017-02-21</td><td>2017-02-27</td><td>3</td><td>7</td></tr>",
                            "<tr><td>gabriella10</td><td>Vida Gabriella</td><td>2016-10-01</td><td>2016-10-06</td><td>3</td><td>NULL</td></tr>",
                            "<tr><td>georgij</td><td>Nyíri Georgij</td><td>2016-06-16</td><td>2016-06-20</td><td>3</td><td>NULL</td></tr>",
                            "<tr><td>georgij</td><td>Nyíri Georgij</td><td>2016-08-16</td><td>2016-08-22</td><td>4</td><td>3</td></tr>",
                            "<tr><td>georgij</td><td>Nyíri Georgij</td><td>2016-08-28</td><td>2016-09-04</td><td>2</td><td>7</td></tr>",
                            "<tr><td>georgij</td><td>Nyíri Georgij</td><td>2016-09-18</td><td>2016-09-24</td><td>3</td><td>9</td></tr>",
                            "<tr><td>gusztav</td><td>Bárci Gusztáv</td><td>2016-05-06</td><td>2016-05-13</td><td>2</td><td>NULL</td></tr>",
                            "<tr><td>gusztav</td><td>Bárci Gusztáv</td><td>2016-08-05</td><td>2016-08-11</td><td>3</td><td>2</td></tr>",
                            "<tr><td>gusztav</td><td>Bárci Gusztáv</td><td>2016-10-01</td><td>2016-10-03</td><td>3</td><td>5</td></tr>",
                            "<tr><td>gusztav</td><td>Bárci Gusztáv</td><td>2017-02-03</td><td>2017-02-09</td><td>2</td><td>8</td></tr>",
                            "<tr><td>gusztav</td><td>Bárci Gusztáv</td><td>2017-02-23</td><td>2017-03-01</td><td>4</td><td>8</td></tr>",
                            "<tr><td>GYONGYIK</td><td>Kornseé Gyöngyi</td><td>2016-06-02</td><td>2016-06-05</td><td>3</td><td>NULL</td></tr>",
                            "<tr><td>GYONGYIK</td><td>Kornseé Gyöngyi</td><td>2016-06-10</td><td>2016-06-17</td><td>1</td><td>3</td></tr>",
                            "<tr><td>GYONGYIK</td><td>Kornseé Gyöngyi</td><td>2016-07-01</td><td>2016-07-05</td><td>2</td><td>4</td></tr>",
                            "<tr><td>GYONGYIK</td><td>Kornseé Gyöngyi</td><td>2016-08-17</td><td>2016-08-21</td><td>3</td><td>6</td></tr>",
                            "<tr><td>GYONGYIK</td><td>Kornseé Gyöngyi</td><td>2016-11-08</td><td>2016-11-13</td><td>2</td><td>6</td></tr>",
                            "<tr><td>GYONGYIK</td><td>Kornseé Gyöngyi</td><td>2016-12-01</td><td>2016-12-08</td><td>2</td><td>7</td></tr>",
                            "<tr><td>GYONGYIK</td><td>Kornseé Gyöngyi</td><td>2017-01-22</td><td>2017-01-29</td><td>3</td><td>7</td></tr>",
                            "<tr><td>GYORGYO</td><td>Oroszi György</td><td>2016-05-27</td><td>2016-05-28</td><td>3</td><td>NULL</td></tr>",
                            "<tr><td>GYORGYO</td><td>Oroszi György</td><td>2016-06-01</td><td>2016-06-07</td><td>2</td><td>3</td></tr>",
                            "<tr><td>GYORGYO</td><td>Oroszi György</td><td>2016-06-10</td><td>2016-06-15</td><td>2</td><td>5</td></tr>",
                            "<tr><td>GYORGYO</td><td>Oroszi György</td><td>2016-07-18</td><td>2016-07-25</td><td>2</td><td>7</td></tr>",
                            "<tr><td>GYORGYO</td><td>Oroszi György</td><td>2016-07-28</td><td>2016-08-03</td><td>3</td><td>6</td></tr>",
                            "<tr><td>GYORGYO</td><td>Oroszi György</td><td>2016-10-28</td><td>2016-10-31</td><td>1</td><td>7</td></tr>",
                            "<tr><td>GYORGYO</td><td>Oroszi György</td><td>2017-02-13</td><td>2017-02-15</td><td>2</td><td>6</td></tr>",
                            "<tr><td>GYORGYO</td><td>Oroszi György</td><td>2017-02-24</td><td>2017-02-25</td><td>3</td><td>6</td></tr>",
                            "<tr><td>henrik3</td><td>Nádudvari Henrik</td><td>2016-08-24</td><td>2016-08-28</td><td>1</td><td>NULL</td></tr>",
                            "<tr><td>henrik3</td><td>Nádudvari Henrik</td><td>2016-12-29</td><td>2017-01-03</td><td>3</td><td>1</td></tr>",
                            "<tr><td>henrik3</td><td>Nádudvari Henrik</td><td>2017-01-27</td><td>2017-01-28</td><td>3</td><td>4</td></tr>",
                            "<tr><td>IBOLYAA</td><td>Andor Ibolya</td><td>2016-08-29</td><td>2016-08-31</td><td>5</td><td>NULL</td></tr>",
                            "<tr><td>IBOLYAA</td><td>Andor Ibolya</td><td>2016-10-23</td><td>2016-10-28</td><td>2</td><td>5</td></tr>",
                            "<tr><td>IBOLYAA</td><td>Andor Ibolya</td><td>2017-01-17</td><td>2017-01-23</td><td>3</td><td>7</td></tr>",
                            "<tr><td>ilona3</td><td>Bosnyák Ilona</td><td>2016-07-31</td><td>2016-08-06</td><td>2</td><td>NULL</td></tr>",
                            "<tr><td>ilona3</td><td>Bosnyák Ilona</td><td>2016-08-04</td><td>2016-08-08</td><td>3</td><td>2</td></tr>",
                            "<tr><td>ilona3</td><td>Bosnyák Ilona</td><td>2016-11-04</td><td>2016-11-06</td><td>4</td><td>5</td></tr>",
                            "<tr><td>ilona3</td><td>Bosnyák Ilona</td><td>2016-12-25</td><td>2016-12-31</td><td>3</td><td>9</td></tr>",
                            "<tr><td>imre</td><td>Búza Imre</td><td>2016-09-17</td><td>2016-09-19</td><td>3</td><td>NULL</td></tr>",
                            "<tr><td>imre</td><td>Búza Imre</td><td>2016-10-28</td><td>2016-10-29</td><td>4</td><td>3</td></tr>",
                            "<tr><td>imre1</td><td>Papp Imre</td><td>2016-06-23</td><td>2016-06-26</td><td>4</td><td>NULL</td></tr>",
                            "<tr><td>imre1</td><td>Papp Imre</td><td>2016-06-27</td><td>2016-06-28</td><td>2</td><td>4</td></tr>",
                            "<tr><td>imre1</td><td>Papp Imre</td><td>2016-08-21</td><td>2016-08-27</td><td>2</td><td>6</td></tr>",
                            "<tr><td>imre1</td><td>Papp Imre</td><td>2016-08-23</td><td>2016-08-25</td><td>3</td><td>8</td></tr>",
                            "<tr><td>imre1</td><td>Papp Imre</td><td>2016-08-29</td><td>2016-08-31</td><td>2</td><td>7</td></tr>",
                            "<tr><td>imre1</td><td>Papp Imre</td><td>2017-02-01</td><td>2017-02-04</td><td>2</td><td>7</td></tr>",
                            "<tr><td>imre1</td><td>Papp Imre</td><td>2017-02-05</td><td>2017-02-07</td><td>4</td><td>7</td></tr>",
                            "<tr><td>istvan</td><td>Soós István</td><td>2016-10-07</td><td>2016-10-10</td><td>2</td><td>NULL</td></tr>",
                            "<tr><td>istvan</td><td>Soós István</td><td>2016-11-22</td><td>2016-11-24</td><td>3</td><td>2</td></tr>",
                            "<tr><td>istvan</td><td>Soós István</td><td>2017-01-02</td><td>2017-01-05</td><td>2</td><td>5</td></tr>",
                            "<tr><td>istvan1</td><td>Vizi István</td><td>2016-04-16</td><td>2016-04-22</td><td>3</td><td>NULL</td></tr>",
                            "<tr><td>istvan1</td><td>Vizi István</td><td>2016-04-24</td><td>2016-04-28</td><td>3</td><td>3</td></tr>",
                            "<tr><td>istvan1</td><td>Vizi István</td><td>2016-07-19</td><td>2016-07-24</td><td>1</td><td>6</td></tr>",
                            "<tr><td>istvan1</td><td>Vizi István</td><td>2017-02-07</td><td>2017-02-10</td><td>3</td><td>7</td></tr>",
                            "<tr><td>ISTVANV</td><td>Varga István</td><td>2016-07-01</td><td>2016-07-04</td><td>4</td><td>NULL</td></tr>",
                            "<tr><td>ISTVANV</td><td>Varga István</td><td>2016-09-29</td><td>2016-10-01</td><td>3</td><td>4</td></tr>",
                            "<tr><td>janos3</td><td>Harangozó János</td><td>2016-06-04</td><td>2016-06-06</td><td>1</td><td>NULL</td></tr>",
                            "<tr><td>janos3</td><td>Harangozó János</td><td>2016-08-24</td><td>2016-08-25</td><td>3</td><td>1</td></tr>",
                            "<tr><td>janos3</td><td>Harangozó János</td><td>2016-10-03</td><td>2016-10-08</td><td>3</td><td>4</td></tr>",
                            "<tr><td>janos3</td><td>Harangozó János</td><td>2016-10-22</td><td>2016-10-23</td><td>1</td><td>7</td></tr>",
                            "<tr><td>janos3</td><td>Harangozó János</td><td>2017-02-12</td><td>2017-02-14</td><td>3</td><td>7</td></tr>",
                            "<tr><td>JANOSG</td><td>Giliga János</td><td>2016-05-09</td><td>2016-05-15</td><td>1</td><td>NULL</td></tr>",
                            "<tr><td>JANOSG</td><td>Giliga János</td><td>2016-08-16</td><td>2016-08-23</td><td>3</td><td>1</td></tr>",
                            "<tr><td>JANOSG</td><td>Giliga János</td><td>2016-08-30</td><td>2016-09-03</td><td>3</td><td>4</td></tr>",
                            "<tr><td>JANOSG</td><td>Giliga János</td><td>2016-11-07</td><td>2016-11-14</td><td>3</td><td>7</td></tr>",
                            "<tr><td>JANOSG</td><td>Giliga János</td><td>2016-12-28</td><td>2016-12-30</td><td>2</td><td>9</td></tr>",
                            "<tr><td>JANOSG</td><td>Giliga János</td><td>2017-01-10</td><td>2017-01-15</td><td>2</td><td>8</td></tr>",
                            "<tr><td>JANOSG</td><td>Giliga János</td><td>2017-01-31</td><td>2017-02-05</td><td>2</td><td>7</td></tr>",
                            "<tr><td>JANOSP</td><td>Pálinkás János</td><td>2016-07-04</td><td>2016-07-11</td><td>3</td><td>NULL</td></tr>",
                            "<tr><td>JANOSP</td><td>Pálinkás János</td><td>2016-11-23</td><td>2016-11-28</td><td>2</td><td>3</td></tr>",
                            "<tr><td>JANOSP</td><td>Pálinkás János</td><td>2016-11-25</td><td>2016-11-27</td><td>2</td><td>5</td></tr>",
                            "<tr><td>JANOSP</td><td>Pálinkás János</td><td>2016-12-18</td><td>2016-12-21</td><td>2</td><td>7</td></tr>",
                            "<tr><td>jozsef</td><td>Gergely József</td><td>2016-09-13</td><td>2016-09-19</td><td>2</td><td>NULL</td></tr>",
                            "<tr><td>jozsef</td><td>Gergely József</td><td>2016-10-08</td><td>2016-10-10</td><td>2</td><td>2</td></tr>",
                            "<tr><td>jozsef</td><td>Gergely József</td><td>2016-12-06</td><td>2016-12-07</td><td>2</td><td>4</td></tr>",
                            "<tr><td>jozsef2</td><td>Vajda József</td><td>2016-07-06</td><td>2016-07-11</td><td>2</td><td>NULL</td></tr>",
                            "<tr><td>jozsef2</td><td>Vajda József</td><td>2016-07-16</td><td>2016-07-20</td><td>3</td><td>2</td></tr>",
                            "<tr><td>jozsef2</td><td>Vajda József</td><td>2016-09-09</td><td>2016-09-15</td><td>2</td><td>5</td></tr>",
                            "<tr><td>jozsef2</td><td>Vajda József</td><td>2016-11-23</td><td>2016-11-29</td><td>3</td><td>7</td></tr>",
                            "<tr><td>jozsef2</td><td>Vajda József</td><td>2016-11-25</td><td>2016-11-29</td><td>3</td><td>8</td></tr>",
                            "<tr><td>JOZSEFG</td><td>Gyuris József</td><td>2016-05-02</td><td>2016-05-06</td><td>2</td><td>NULL</td></tr>",
                            "<tr><td>JOZSEFG</td><td>Gyuris József</td><td>2016-05-23</td><td>2016-05-25</td><td>1</td><td>2</td></tr>",
                            "<tr><td>JOZSEFG</td><td>Gyuris József</td><td>2016-06-04</td><td>2016-06-09</td><td>4</td><td>3</td></tr>",
                            "<tr><td>JOZSEFG</td><td>Gyuris József</td><td>2016-08-24</td><td>2016-08-27</td><td>3</td><td>7</td></tr>",
                            "<tr><td>JOZSEFG</td><td>Gyuris József</td><td>2017-01-09</td><td>2017-01-13</td><td>2</td><td>8</td></tr>",
                            "<tr><td>JOZSEFG</td><td>Gyuris József</td><td>2017-01-22</td><td>2017-01-26</td><td>1</td><td>9</td></tr>",
                            "<tr><td>JOZSEFG</td><td>Gyuris József</td><td>2017-02-24</td><td>2017-03-03</td><td>3</td><td>6</td></tr>",
                            "<tr><td>JUDITH</td><td>Hídasi Judit</td><td>2016-06-06</td><td>2016-06-10</td><td>2</td><td>NULL</td></tr>",
                            "<tr><td>JUDITH</td><td>Hídasi Judit</td><td>2016-07-28</td><td>2016-07-30</td><td>2</td><td>2</td></tr>",
                            "<tr><td>JUDITH</td><td>Hídasi Judit</td><td>2016-12-19</td><td>2016-12-26</td><td>1</td><td>4</td></tr>",
                            "<tr><td>julia</td><td>Tóth Júlia</td><td>2016-04-21</td><td>2016-04-26</td><td>2</td><td>NULL</td></tr>",
                            "<tr><td>julia</td><td>Tóth Júlia</td><td>2016-05-12</td><td>2016-05-17</td><td>1</td><td>2</td></tr>",
                            "<tr><td>julia</td><td>Tóth Júlia</td><td>2016-06-07</td><td>2016-06-08</td><td>5</td><td>3</td></tr>",
                            "<tr><td>julia</td><td>Tóth Júlia</td><td>2016-07-20</td><td>2016-07-22</td><td>2</td><td>8</td></tr>",
                            "<tr><td>julia</td><td>Tóth Júlia</td><td>2017-02-27</td><td>2017-03-06</td><td>3</td><td>8</td></tr>",
                            "<tr><td>julia4</td><td>Nagy Júlia</td><td>2016-11-07</td><td>2016-11-12</td><td>1</td><td>NULL</td></tr>",
                            "<tr><td>julia4</td><td>Nagy Júlia</td><td>2017-02-04</td><td>2017-02-11</td><td>4</td><td>1</td></tr>",
                            "<tr><td>julianna4</td><td>Szabó Julianna</td><td>2016-07-20</td><td>2016-07-26</td><td>2</td><td>NULL</td></tr>",
                            "<tr><td>julianna4</td><td>Szabó Julianna</td><td>2016-10-29</td><td>2016-10-31</td><td>3</td><td>2</td></tr>",
                            "<tr><td>julianna4</td><td>Szabó Julianna</td><td>2016-11-03</td><td>2016-11-04</td><td>2</td><td>5</td></tr>",
                            "<tr><td>julianna4</td><td>Szabó Julianna</td><td>2016-11-27</td><td>2016-12-04</td><td>3</td><td>7</td></tr>",
                            "<tr><td>kata</td><td>Gondos Katalin</td><td>2016-04-10</td><td>2016-04-11</td><td>2</td><td>NULL</td></tr>",
                            "<tr><td>kata</td><td>Gondos Katalin</td><td>2016-04-25</td><td>2016-05-01</td><td>1</td><td>2</td></tr>",
                            "<tr><td>kata</td><td>Gondos Katalin</td><td>2016-05-31</td><td>2016-06-01</td><td>3</td><td>3</td></tr>",
                            "<tr><td>kata</td><td>Gondos Katalin</td><td>2016-06-07</td><td>2016-06-12</td><td>2</td><td>6</td></tr>",
                            "<tr><td>kata</td><td>Gondos Katalin</td><td>2016-07-01</td><td>2016-07-07</td><td>2</td><td>6</td></tr>",
                            "<tr><td>kata</td><td>Gondos Katalin</td><td>2016-07-03</td><td>2016-07-06</td><td>1</td><td>7</td></tr>",
                            "<tr><td>kata</td><td>Gondos Katalin</td><td>2016-07-07</td><td>2016-07-09</td><td>3</td><td>5</td></tr>",
                            "<tr><td>kata</td><td>Gondos Katalin</td><td>2016-08-24</td><td>2016-08-27</td><td>3</td><td>6</td></tr>",
                            "<tr><td>kata</td><td>Gondos Katalin</td><td>2016-09-19</td><td>2016-09-20</td><td>3</td><td>7</td></tr>",
                            "<tr><td>kata</td><td>Gondos Katalin</td><td>2017-01-15</td><td>2017-01-21</td><td>3</td><td>9</td></tr>",
                            "<tr><td>katalin</td><td>Horváth Katalin</td><td>2016-04-10</td><td>2016-04-17</td><td>2</td><td>NULL</td></tr>",
                            "<tr><td>katalin</td><td>Horváth Katalin</td><td>2016-05-21</td><td>2016-05-26</td><td>1</td><td>2</td></tr>",
                            "<tr><td>katalin</td><td>Horváth Katalin</td><td>2016-07-06</td><td>2016-07-11</td><td>1</td><td>3</td></tr>",
                            "<tr><td>katalin</td><td>Horváth Katalin</td><td>2016-07-28</td><td>2016-07-29</td><td>1</td><td>4</td></tr>",
                            "<tr><td>katalin</td><td>Horváth Katalin</td><td>2016-10-26</td><td>2016-10-30</td><td>2</td><td>3</td></tr>",
                            "<tr><td>katalin</td><td>Horváth Katalin</td><td>2016-12-13</td><td>2016-12-19</td><td>2</td><td>4</td></tr>",
                            "<tr><td>katalin</td><td>Horváth Katalin</td><td>2016-12-17</td><td>2016-12-24</td><td>1</td><td>5</td></tr>",
                            "<tr><td>katalin</td><td>Horváth Katalin</td><td>2016-12-24</td><td>2016-12-27</td><td>2</td><td>5</td></tr>",
                            "<tr><td>katalin</td><td>Horváth Katalin</td><td>2017-02-24</td><td>2017-02-27</td><td>3</td><td>5</td></tr>",
                            "<tr><td>katalin4</td><td>Kertész Katalin</td><td>2016-07-01</td><td>2016-07-07</td><td>1</td><td>NULL</td></tr>",
                            "<tr><td>katalin4</td><td>Kertész Katalin</td><td>2016-07-03</td><td>2016-07-04</td><td>4</td><td>1</td></tr>",
                            "<tr><td>katalin4</td><td>Kertész Katalin</td><td>2016-11-27</td><td>2016-12-04</td><td>3</td><td>5</td></tr>",
                            "<tr><td>katalin4</td><td>Kertész Katalin</td><td>2016-12-04</td><td>2016-12-09</td><td>3</td><td>8</td></tr>",
                            "<tr><td>katalin4</td><td>Kertész Katalin</td><td>2017-01-18</td><td>2017-01-20</td><td>2</td><td>10</td></tr>",
                            "<tr><td>katalin4</td><td>Kertész Katalin</td><td>2017-01-24</td><td>2017-01-31</td><td>2</td><td>8</td></tr>",
                            "<tr><td>kati</td><td>Zatykó Katalin</td><td>2016-06-06</td><td>2016-06-10</td><td>2</td><td>NULL</td></tr>",
                            "<tr><td>kati</td><td>Zatykó Katalin</td><td>2016-06-06</td><td>2016-06-11</td><td>3</td><td>2</td></tr>",
                            "<tr><td>kati</td><td>Zatykó Katalin</td><td>2016-07-13</td><td>2016-07-20</td><td>2</td><td>5</td></tr>",
                            "<tr><td>kati</td><td>Zatykó Katalin</td><td>2016-07-27</td><td>2016-08-03</td><td>2</td><td>7</td></tr>",
                            "<tr><td>kati</td><td>Zatykó Katalin</td><td>2016-08-03</td><td>2016-08-07</td><td>2</td><td>7</td></tr>",
                            "<tr><td>kati</td><td>Zatykó Katalin</td><td>2016-10-26</td><td>2016-10-28</td><td>2</td><td>6</td></tr>",
                            "<tr><td>kati</td><td>Zatykó Katalin</td><td>2016-10-30</td><td>2016-11-01</td><td>3</td><td>6</td></tr>",
                            "<tr><td>katka</td><td>Kovács Katalin</td><td>2016-04-10</td><td>2016-04-12</td><td>2</td><td>NULL</td></tr>",
                            "<tr><td>katka</td><td>Kovács Katalin</td><td>2016-05-09</td><td>2016-05-15</td><td>3</td><td>2</td></tr>",
                            "<tr><td>katka</td><td>Kovács Katalin</td><td>2016-06-13</td><td>2016-06-18</td><td>1</td><td>5</td></tr>",
                            "<tr><td>katka</td><td>Kovács Katalin</td><td>2016-06-13</td><td>2016-06-19</td><td>4</td><td>6</td></tr>",
                            "<tr><td>katka</td><td>Kovács Katalin</td><td>2016-08-24</td><td>2016-08-26</td><td>2</td><td>8</td></tr>",
                            "<tr><td>katka</td><td>Kovács Katalin</td><td>2016-09-05</td><td>2016-09-10</td><td>4</td><td>7</td></tr>",
                            "<tr><td>katka</td><td>Kovács Katalin</td><td>2016-11-05</td><td>2016-11-08</td><td>3</td><td>10</td></tr>",
                            "<tr><td>katka</td><td>Kovács Katalin</td><td>2017-01-02</td><td>2017-01-05</td><td>3</td><td>9</td></tr>",
                            "<tr><td>katka</td><td>Kovács Katalin</td><td>2017-01-19</td><td>2017-01-20</td><td>3</td><td>10</td></tr>",
                            "<tr><td>klaudia2</td><td>Bakó Klaudia</td><td>2016-06-06</td><td>2016-06-08</td><td>4</td><td>NULL</td></tr>",
                            "<tr><td>klaudia2</td><td>Bakó Klaudia</td><td>2016-10-01</td><td>2016-10-02</td><td>2</td><td>4</td></tr>",
                            "<tr><td>klaudia2</td><td>Bakó Klaudia</td><td>2016-10-02</td><td>2016-10-05</td><td>2</td><td>6</td></tr>",
                            "<tr><td>kornel4</td><td>Lukács Kornél</td><td>2016-05-08</td><td>2016-05-14</td><td>3</td><td>NULL</td></tr>",
                            "<tr><td>kornel4</td><td>Lukács Kornél</td><td>2016-06-02</td><td>2016-06-09</td><td>3</td><td>3</td></tr>",
                            "<tr><td>kornel4</td><td>Lukács Kornél</td><td>2016-09-23</td><td>2016-09-24</td><td>3</td><td>6</td></tr>",
                            "<tr><td>kristof4</td><td>Poprádi Kristóf</td><td>2016-04-08</td><td>2016-04-14</td><td>2</td><td>NULL</td></tr>",
                            "<tr><td>kristof4</td><td>Poprádi Kristóf</td><td>2016-09-30</td><td>2016-10-04</td><td>2</td><td>2</td></tr>",
                            "<tr><td>kriszti</td><td>Horváth Krisztina</td><td>2016-05-19</td><td>2016-05-26</td><td>2</td><td>NULL</td></tr>",
                            "<tr><td>kriszti</td><td>Horváth Krisztina</td><td>2016-08-24</td><td>2016-08-25</td><td>3</td><td>2</td></tr>",
                            "<tr><td>kriszti</td><td>Horváth Krisztina</td><td>2016-09-30</td><td>2016-10-05</td><td>3</td><td>5</td></tr>",
                            "<tr><td>kriszti</td><td>Horváth Krisztina</td><td>2016-10-01</td><td>2016-10-02</td><td>3</td><td>8</td></tr>",
                            "<tr><td>kriszti</td><td>Horváth Krisztina</td><td>2017-02-04</td><td>2017-02-11</td><td>3</td><td>9</td></tr>",
                            "<tr><td>kriszti</td><td>Horváth Krisztina</td><td>2017-03-03</td><td>2017-03-04</td><td>3</td><td>9</td></tr>",
                            "<tr><td>krisztian4</td><td>Czérna Krisztián</td><td>2016-06-03</td><td>2016-06-04</td><td>2</td><td>NULL</td></tr>",
                            "<tr><td>krisztian4</td><td>Czérna Krisztián</td><td>2016-06-07</td><td>2016-06-09</td><td>2</td><td>2</td></tr>",
                            "<tr><td>krisztian4</td><td>Czérna Krisztián</td><td>2016-07-28</td><td>2016-08-01</td><td>2</td><td>4</td></tr>",
                            "<tr><td>krisztian4</td><td>Czérna Krisztián</td><td>2016-08-01</td><td>2016-08-04</td><td>3</td><td>6</td></tr>",
                            "<tr><td>krisztian4</td><td>Czérna Krisztián</td><td>2016-08-16</td><td>2016-08-19</td><td>1</td><td>7</td></tr>",
                            "<tr><td>krisztian4</td><td>Czérna Krisztián</td><td>2016-08-29</td><td>2016-09-03</td><td>1</td><td>6</td></tr>",
                            "<tr><td>krisztian4</td><td>Czérna Krisztián</td><td>2016-10-17</td><td>2016-10-22</td><td>3</td><td>5</td></tr>",
                            "<tr><td>krisztian4</td><td>Czérna Krisztián</td><td>2016-11-02</td><td>2016-11-03</td><td>2</td><td>5</td></tr>",
                            "<tr><td>krisztian4</td><td>Czérna Krisztián</td><td>2016-12-11</td><td>2016-12-18</td><td>2</td><td>6</td></tr>",
                            "<tr><td>krisztian4</td><td>Czérna Krisztián</td><td>2017-01-06</td><td>2017-01-09</td><td>1</td><td>7</td></tr>",
                            "<tr><td>krisztian4</td><td>Czérna Krisztián</td><td>2017-01-16</td><td>2017-01-23</td><td>3</td><td>5</td></tr>",
                            "<tr><td>krisztian4</td><td>Czérna Krisztián</td><td>2017-02-23</td><td>2017-03-02</td><td>2</td><td>6</td></tr>",
                            "<tr><td>KRISZTIANM</td><td>Mogyródi Krisztián</td><td>2016-04-09</td><td>2016-04-15</td><td>2</td><td>NULL</td></tr>",
                            "<tr><td>KRISZTIANM</td><td>Mogyródi Krisztián</td><td>2016-06-04</td><td>2016-06-08</td><td>2</td><td>2</td></tr>",
                            "<tr><td>KRISZTIANM</td><td>Mogyródi Krisztián</td><td>2016-07-09</td><td>2016-07-14</td><td>3</td><td>4</td></tr>",
                            "<tr><td>KRISZTIANM</td><td>Mogyródi Krisztián</td><td>2016-08-02</td><td>2016-08-08</td><td>4</td><td>7</td></tr>",
                            "<tr><td>KRISZTIANM</td><td>Mogyródi Krisztián</td><td>2016-12-25</td><td>2016-12-31</td><td>2</td><td>9</td></tr>",
                            "<tr><td>KRISZTIANM</td><td>Mogyródi Krisztián</td><td>2017-01-16</td><td>2017-01-23</td><td>1</td><td>9</td></tr>",
                            "<tr><td>krisztina</td><td>Szedlár Krisztina</td><td>2016-05-21</td><td>2016-05-27</td><td>2</td><td>NULL</td></tr>",
                            "<tr><td>krisztina</td><td>Szedlár Krisztina</td><td>2016-07-05</td><td>2016-07-12</td><td>3</td><td>2</td></tr>",
                            "<tr><td>krisztina</td><td>Szedlár Krisztina</td><td>2016-09-13</td><td>2016-09-16</td><td>1</td><td>5</td></tr>",
                            "<tr><td>krisztina</td><td>Szedlár Krisztina</td><td>2016-09-19</td><td>2016-09-26</td><td>2</td><td>6</td></tr>",
                            "<tr><td>krisztina</td><td>Szedlár Krisztina</td><td>2016-11-08</td><td>2016-11-12</td><td>2</td><td>6</td></tr>",
                            "<tr><td>krisztina</td><td>Szedlár Krisztina</td><td>2016-11-22</td><td>2016-11-25</td><td>1</td><td>5</td></tr>",
                            "<tr><td>krisztina</td><td>Szedlár Krisztina</td><td>2017-02-05</td><td>2017-02-07</td><td>2</td><td>5</td></tr>",
                            "<tr><td>krisztina</td><td>Szedlár Krisztina</td><td>2017-02-16</td><td>2017-02-20</td><td>4</td><td>5</td></tr>",
                            "<tr><td>krisztina1</td><td>Bori Krisztina</td><td>2016-04-28</td><td>2016-04-30</td><td>2</td><td>NULL</td></tr>",
                            "<tr><td>krisztina1</td><td>Bori Krisztina</td><td>2016-05-16</td><td>2016-05-20</td><td>1</td><td>2</td></tr>",
                            "<tr><td>krisztina1</td><td>Bori Krisztina</td><td>2016-06-16</td><td>2016-06-22</td><td>2</td><td>3</td></tr>",
                            "<tr><td>krisztina1</td><td>Bori Krisztina</td><td>2016-09-15</td><td>2016-09-20</td><td>3</td><td>5</td></tr>",
                            "<tr><td>krisztina1</td><td>Bori Krisztina</td><td>2016-10-29</td><td>2016-10-30</td><td>4</td><td>6</td></tr>",
                            "<tr><td>krisztina1</td><td>Bori Krisztina</td><td>2017-01-21</td><td>2017-01-24</td><td>2</td><td>9</td></tr>",
                            "<tr><td>KRISZTINAG</td><td>Gyárfás Krisztina</td><td>2016-04-23</td><td>2016-04-24</td><td>2</td><td>NULL</td></tr>",
                            "<tr><td>KRISZTINAG</td><td>Gyárfás Krisztina</td><td>2016-05-24</td><td>2016-05-31</td><td>1</td><td>2</td></tr>",
                            "<tr><td>KRISZTINAG</td><td>Gyárfás Krisztina</td><td>2016-06-08</td><td>2016-06-12</td><td>1</td><td>3</td></tr>",
                            "<tr><td>KRISZTINAG</td><td>Gyárfás Krisztina</td><td>2016-08-08</td><td>2016-08-12</td><td>3</td><td>4</td></tr>",
                            "<tr><td>KRISZTINAG</td><td>Gyárfás Krisztina</td><td>2017-01-25</td><td>2017-01-30</td><td>2</td><td>5</td></tr>",
                            "<tr><td>lajos</td><td>Kiss Lajos</td><td>2016-07-18</td><td>2016-07-21</td><td>2</td><td>NULL</td></tr>",
                            "<tr><td>lajos</td><td>Kiss Lajos</td><td>2016-12-25</td><td>2016-12-28</td><td>4</td><td>2</td></tr>",
                            "<tr><td>lajos</td><td>Kiss Lajos</td><td>2017-02-12</td><td>2017-02-13</td><td>1</td><td>6</td></tr>",
                            "<tr><td>lala</td><td>Nagymihály Lajos</td><td>2016-06-16</td><td>2016-06-22</td><td>2</td><td>NULL</td></tr>",
                            "<tr><td>lala</td><td>Nagymihály Lajos</td><td>2016-07-20</td><td>2016-07-21</td><td>3</td><td>2</td></tr>",
                            "<tr><td>lala</td><td>Nagymihály Lajos</td><td>2016-07-26</td><td>2016-07-27</td><td>3</td><td>5</td></tr>",
                            "<tr><td>lala</td><td>Nagymihály Lajos</td><td>2016-10-30</td><td>2016-10-31</td><td>3</td><td>8</td></tr>",
                            "<tr><td>lala</td><td>Nagymihály Lajos</td><td>2017-01-08</td><td>2017-01-10</td><td>3</td><td>9</td></tr>",
                            "<tr><td>lala</td><td>Nagymihály Lajos</td><td>2017-01-17</td><td>2017-01-19</td><td>2</td><td>9</td></tr>",
                            "<tr><td>laszlo1</td><td>Farkas László</td><td>2016-09-23</td><td>2016-09-30</td><td>3</td><td>NULL</td></tr>",
                            "<tr><td>laszlo2</td><td>Móra László</td><td>2016-04-06</td><td>2016-04-10</td><td>2</td><td>NULL</td></tr>",
                            "<tr><td>laszlo2</td><td>Móra László</td><td>2016-04-27</td><td>2016-04-29</td><td>2</td><td>2</td></tr>",
                            "<tr><td>laszlo2</td><td>Móra László</td><td>2016-08-14</td><td>2016-08-15</td><td>3</td><td>4</td></tr>",
                            "<tr><td>laszlo2</td><td>Móra László</td><td>2016-09-05</td><td>2016-09-10</td><td>3</td><td>7</td></tr>",
                            "<tr><td>laszlo2</td><td>Móra László</td><td>2016-11-25</td><td>2016-11-26</td><td>3</td><td>8</td></tr>",
                            "<tr><td>LASZLOA</td><td>Antal László</td><td>2016-06-03</td><td>2016-06-09</td><td>2</td><td>NULL</td></tr>",
                            "<tr><td>LASZLOA</td><td>Antal László</td><td>2016-06-07</td><td>2016-06-11</td><td>1</td><td>2</td></tr>",
                            "<tr><td>LASZLOA</td><td>Antal László</td><td>2016-06-10</td><td>2016-06-13</td><td>3</td><td>3</td></tr>",
                            "<tr><td>LASZLOA</td><td>Antal László</td><td>2017-02-08</td><td>2017-02-14</td><td>2</td><td>6</td></tr>",
                            "<tr><td>LASZLON</td><td>Nagy László</td><td>2016-06-03</td><td>2016-06-06</td><td>1</td><td>NULL</td></tr>",
                            "<tr><td>LASZLON</td><td>Nagy László</td><td>2016-06-08</td><td>2016-06-09</td><td>2</td><td>1</td></tr>",
                            "<tr><td>LASZLON</td><td>Nagy László</td><td>2016-10-01</td><td>2016-10-04</td><td>3</td><td>3</td></tr>",
                            "<tr><td>LASZLON</td><td>Nagy László</td><td>2016-10-09</td><td>2016-10-14</td><td>1</td><td>6</td></tr>",
                            "<tr><td>LASZLON</td><td>Nagy László</td><td>2016-11-29</td><td>2016-12-04</td><td>1</td><td>6</td></tr>",
                            "<tr><td>LASZLON</td><td>Nagy László</td><td>2017-02-18</td><td>2017-02-25</td><td>3</td><td>5</td></tr>",
                            "<tr><td>maria1</td><td>Baráth Mária</td><td>2016-05-13</td><td>2016-05-18</td><td>2</td><td>NULL</td></tr>",
                            "<tr><td>maria1</td><td>Baráth Mária</td><td>2016-05-18</td><td>2016-05-19</td><td>1</td><td>2</td></tr>",
                            "<tr><td>maria1</td><td>Baráth Mária</td><td>2016-05-28</td><td>2016-06-03</td><td>2</td><td>3</td></tr>",
                            "<tr><td>maria1</td><td>Baráth Mária</td><td>2016-06-23</td><td>2016-06-27</td><td>1</td><td>5</td></tr>",
                            "<tr><td>maria1</td><td>Baráth Mária</td><td>2016-08-11</td><td>2016-08-14</td><td>3</td><td>4</td></tr>",
                            "<tr><td>maria1</td><td>Baráth Mária</td><td>2016-09-02</td><td>2016-09-05</td><td>1</td><td>6</td></tr>",
                            "<tr><td>maria1</td><td>Baráth Mária</td><td>2016-11-08</td><td>2016-11-12</td><td>3</td><td>5</td></tr>",
                            "<tr><td>maria1</td><td>Baráth Mária</td><td>2017-02-24</td><td>2017-03-02</td><td>2</td><td>7</td></tr>",
                            "<tr><td>mark</td><td>Kispál Márk</td><td>2016-04-19</td><td>2016-04-26</td><td>4</td><td>NULL</td></tr>",
                            "<tr><td>mark</td><td>Kispál Márk</td><td>2016-06-13</td><td>2016-06-18</td><td>3</td><td>4</td></tr>",
                            "<tr><td>mark</td><td>Kispál Márk</td><td>2016-08-09</td><td>2016-08-16</td><td>3</td><td>7</td></tr>",
                            "<tr><td>mark</td><td>Kispál Márk</td><td>2016-10-20</td><td>2016-10-27</td><td>1</td><td>10</td></tr>",
                            "<tr><td>mark</td><td>Kispál Márk</td><td>2016-11-19</td><td>2016-11-22</td><td>2</td><td>7</td></tr>",
                            "<tr><td>MARKH</td><td>Horváth Márk</td><td>2016-09-14</td><td>2016-09-17</td><td>3</td><td>NULL</td></tr>",
                            "<tr><td>MARKH</td><td>Horváth Márk</td><td>2016-09-23</td><td>2016-09-30</td><td>2</td><td>3</td></tr>",
                            "<tr><td>MARKH</td><td>Horváth Márk</td><td>2016-09-26</td><td>2016-10-01</td><td>4</td><td>5</td></tr>",
                            "<tr><td>MARKH</td><td>Horváth Márk</td><td>2017-01-22</td><td>2017-01-29</td><td>4</td><td>9</td></tr>",
                            "<tr><td>marton</td><td>Kalacsi Márton</td><td>2016-04-27</td><td>2016-05-04</td><td>3</td><td>NULL</td></tr>",
                            "<tr><td>marton</td><td>Kalacsi Márton</td><td>2016-05-05</td><td>2016-05-10</td><td>1</td><td>3</td></tr>",
                            "<tr><td>marton</td><td>Kalacsi Márton</td><td>2016-06-06</td><td>2016-06-08</td><td>3</td><td>4</td></tr>",
                            "<tr><td>marton</td><td>Kalacsi Márton</td><td>2016-06-22</td><td>2016-06-29</td><td>2</td><td>7</td></tr>",
                            "<tr><td>marton</td><td>Kalacsi Márton</td><td>2016-08-12</td><td>2016-08-17</td><td>2</td><td>6</td></tr>",
                            "<tr><td>marton</td><td>Kalacsi Márton</td><td>2016-09-10</td><td>2016-09-12</td><td>2</td><td>7</td></tr>",
                            "<tr><td>marton</td><td>Kalacsi Márton</td><td>2017-03-02</td><td>2017-03-03</td><td>2</td><td>6</td></tr>",
                            "<tr><td>MATEK</td><td>Koza Máté</td><td>2016-08-17</td><td>2016-08-21</td><td>4</td><td>NULL</td></tr>",
                            "<tr><td>MATEK</td><td>Koza Máté</td><td>2016-10-01</td><td>2016-10-04</td><td>2</td><td>4</td></tr>",
                            "<tr><td>MATEK</td><td>Koza Máté</td><td>2017-01-16</td><td>2017-01-22</td><td>2</td><td>6</td></tr>",
                            "<tr><td>matyas2</td><td>Botka Mátyás</td><td>2016-07-13</td><td>2016-07-16</td><td>2</td><td>NULL</td></tr>",
                            "<tr><td>matyas2</td><td>Botka Mátyás</td><td>2016-12-09</td><td>2016-12-13</td><td>3</td><td>2</td></tr>",
                            "<tr><td>MATYASS</td><td>Szilágyi Mátyás</td><td>2016-05-10</td><td>2016-05-16</td><td>2</td><td>NULL</td></tr>",
                            "<tr><td>MATYASS</td><td>Szilágyi Mátyás</td><td>2016-06-02</td><td>2016-06-08</td><td>1</td><td>2</td></tr>",
                            "<tr><td>MATYASS</td><td>Szilágyi Mátyás</td><td>2016-07-23</td><td>2016-07-25</td><td>3</td><td>3</td></tr>",
                            "<tr><td>MATYASS</td><td>Szilágyi Mátyás</td><td>2016-10-09</td><td>2016-10-15</td><td>3</td><td>6</td></tr>",
                            "<tr><td>MATYASS</td><td>Szilágyi Mátyás</td><td>2016-10-24</td><td>2016-10-31</td><td>1</td><td>7</td></tr>",
                            "<tr><td>MATYASS</td><td>Szilágyi Mátyás</td><td>2016-10-30</td><td>2016-11-04</td><td>3</td><td>7</td></tr>",
                            "<tr><td>MATYASS</td><td>Szilágyi Mátyás</td><td>2016-12-20</td><td>2016-12-25</td><td>2</td><td>7</td></tr>",
                            "<tr><td>MATYASS</td><td>Szilágyi Mátyás</td><td>2017-01-09</td><td>2017-01-13</td><td>2</td><td>6</td></tr>",
                            "<tr><td>MIHALYJ</td><td>Juhász Mihály</td><td>2016-05-30</td><td>2016-06-01</td><td>2</td><td>NULL</td></tr>",
                            "<tr><td>MIHALYJ</td><td>Juhász Mihály</td><td>2016-06-27</td><td>2016-07-01</td><td>1</td><td>2</td></tr>",
                            "<tr><td>MIHALYJ</td><td>Juhász Mihály</td><td>2016-08-29</td><td>2016-09-03</td><td>1</td><td>3</td></tr>",
                            "<tr><td>MIHALYJ</td><td>Juhász Mihály</td><td>2016-11-01</td><td>2016-11-04</td><td>3</td><td>4</td></tr>",
                            "<tr><td>MIHALYJ</td><td>Juhász Mihály</td><td>2017-02-06</td><td>2017-02-12</td><td>4</td><td>5</td></tr>",
                            "<tr><td>miklos2</td><td>Gondos Miklós</td><td>2016-04-19</td><td>2016-04-21</td><td>3</td><td>NULL</td></tr>",
                            "<tr><td>miklos2</td><td>Gondos Miklós</td><td>2016-10-08</td><td>2016-10-09</td><td>1</td><td>3</td></tr>",
                            "<tr><td>miklos2</td><td>Gondos Miklós</td><td>2016-11-16</td><td>2016-11-18</td><td>3</td><td>4</td></tr>",
                            "<tr><td>MIKLOSB</td><td>Balla Miklós</td><td>2016-06-26</td><td>2016-06-30</td><td>2</td><td>NULL</td></tr>",
                            "<tr><td>MIKLOSB</td><td>Balla Miklós</td><td>2016-07-18</td><td>2016-07-21</td><td>2</td><td>2</td></tr>",
                            "<tr><td>MIKLOSB</td><td>Balla Miklós</td><td>2016-12-05</td><td>2016-12-10</td><td>2</td><td>4</td></tr>",
                            "<tr><td>MONIKAM</td><td>Mohos Mónika</td><td>2016-04-29</td><td>2016-05-01</td><td>2</td><td>NULL</td></tr>",
                            "<tr><td>MONIKAM</td><td>Mohos Mónika</td><td>2016-07-23</td><td>2016-07-30</td><td>1</td><td>2</td></tr>",
                            "<tr><td>MONIKAM</td><td>Mohos Mónika</td><td>2016-11-09</td><td>2016-11-16</td><td>2</td><td>3</td></tr>",
                            "<tr><td>MONIKAM</td><td>Mohos Mónika</td><td>2017-01-17</td><td>2017-01-24</td><td>1</td><td>5</td></tr>",
                            "<tr><td>MONIKAM</td><td>Mohos Mónika</td><td>2017-02-06</td><td>2017-02-09</td><td>2</td><td>4</td></tr>",
                            "<tr><td>MONIKAM</td><td>Mohos Mónika</td><td>2017-02-23</td><td>2017-02-26</td><td>2</td><td>5</td></tr>",
                            "<tr><td>NANDORF</td><td>Fő Nándor</td><td>2016-04-06</td><td>2016-04-10</td><td>3</td><td>NULL</td></tr>",
                            "<tr><td>NANDORF</td><td>Fő Nándor</td><td>2016-11-03</td><td>2016-11-04</td><td>3</td><td>3</td></tr>",
                            "<tr><td>NANDORF</td><td>Fő Nándor</td><td>2017-02-05</td><td>2017-02-08</td><td>3</td><td>6</td></tr>",
                            "<tr><td>nikolett3</td><td>Horváth Nikolett</td><td>2016-05-24</td><td>2016-05-29</td><td>2</td><td>NULL</td></tr>",
                            "<tr><td>nikolett3</td><td>Horváth Nikolett</td><td>2016-06-03</td><td>2016-06-09</td><td>1</td><td>2</td></tr>",
                            "<tr><td>nikolett3</td><td>Horváth Nikolett</td><td>2016-06-22</td><td>2016-06-24</td><td>1</td><td>3</td></tr>",
                            "<tr><td>nikolett3</td><td>Horváth Nikolett</td><td>2016-10-22</td><td>2016-10-29</td><td>3</td><td>4</td></tr>",
                            "<tr><td>nikoletta4</td><td>Kő Nikoletta</td><td>2016-04-08</td><td>2016-04-10</td><td>2</td><td>NULL</td></tr>",
                            "<tr><td>nikoletta4</td><td>Kő Nikoletta</td><td>2016-05-09</td><td>2016-05-15</td><td>2</td><td>2</td></tr>",
                            "<tr><td>nikoletta4</td><td>Kő Nikoletta</td><td>2016-05-30</td><td>2016-06-03</td><td>3</td><td>4</td></tr>",
                            "<tr><td>nikoletta4</td><td>Kő Nikoletta</td><td>2016-06-29</td><td>2016-07-06</td><td>2</td><td>7</td></tr>",
                            "<tr><td>nikoletta4</td><td>Kő Nikoletta</td><td>2016-08-13</td><td>2016-08-17</td><td>3</td><td>7</td></tr>",
                            "<tr><td>nikoletta4</td><td>Kő Nikoletta</td><td>2016-12-08</td><td>2016-12-10</td><td>5</td><td>8</td></tr>",
                            "<tr><td>nikoletta4</td><td>Kő Nikoletta</td><td>2017-02-01</td><td>2017-02-04</td><td>2</td><td>10</td></tr>",
                            "<tr><td>NIKOLETTAT</td><td>Tatár Nikoletta</td><td>2016-05-22</td><td>2016-05-23</td><td>4</td><td>NULL</td></tr>",
                            "<tr><td>NIKOLETTAT</td><td>Tatár Nikoletta</td><td>2016-06-07</td><td>2016-06-09</td><td>2</td><td>4</td></tr>",
                            "<tr><td>NIKOLETTAT</td><td>Tatár Nikoletta</td><td>2016-07-27</td><td>2016-07-29</td><td>4</td><td>6</td></tr>",
                            "<tr><td>NIKOLETTAT</td><td>Tatár Nikoletta</td><td>2016-09-21</td><td>2016-09-26</td><td>2</td><td>10</td></tr>",
                            "<tr><td>norbert</td><td>Szűcs Norbert</td><td>2016-07-08</td><td>2016-07-13</td><td>1</td><td>NULL</td></tr>",
                            "<tr><td>norbert</td><td>Szűcs Norbert</td><td>2016-11-16</td><td>2016-11-23</td><td>3</td><td>1</td></tr>",
                            "<tr><td>norbert</td><td>Szűcs Norbert</td><td>2016-12-15</td><td>2016-12-18</td><td>2</td><td>4</td></tr>",
                            "<tr><td>norbert</td><td>Szűcs Norbert</td><td>2017-02-13</td><td>2017-02-15</td><td>3</td><td>6</td></tr>",
                            "<tr><td>norbert</td><td>Szűcs Norbert</td><td>2017-02-26</td><td>2017-03-01</td><td>1</td><td>8</td></tr>",
                            "<tr><td>norbert2</td><td>Hegedűs Norbert</td><td>2016-04-19</td><td>2016-04-26</td><td>1</td><td>NULL</td></tr>",
                            "<tr><td>norbert2</td><td>Hegedűs Norbert</td><td>2016-05-09</td><td>2016-05-10</td><td>2</td><td>1</td></tr>",
                            "<tr><td>norbert2</td><td>Hegedűs Norbert</td><td>2016-07-13</td><td>2016-07-15</td><td>3</td><td>3</td></tr>",
                            "<tr><td>norbert2</td><td>Hegedűs Norbert</td><td>2016-07-27</td><td>2016-08-02</td><td>2</td><td>6</td></tr>",
                            "<tr><td>norbert2</td><td>Hegedűs Norbert</td><td>2016-08-16</td><td>2016-08-19</td><td>1</td><td>7</td></tr>",
                            "<tr><td>norbert2</td><td>Hegedűs Norbert</td><td>2016-10-31</td><td>2016-11-07</td><td>2</td><td>6</td></tr>",
                            "<tr><td>norbert2</td><td>Hegedűs Norbert</td><td>2017-01-29</td><td>2017-02-05</td><td>3</td><td>5</td></tr>",
                            "<tr><td>norbert4</td><td>Mile Norbert</td><td>2016-04-10</td><td>2016-04-13</td><td>2</td><td>NULL</td></tr>",
                            "<tr><td>norbert4</td><td>Mile Norbert</td><td>2016-05-29</td><td>2016-06-03</td><td>3</td><td>2</td></tr>",
                            "<tr><td>norbert4</td><td>Mile Norbert</td><td>2016-06-16</td><td>2016-06-17</td><td>4</td><td>5</td></tr>",
                            "<tr><td>norbert4</td><td>Mile Norbert</td><td>2016-06-16</td><td>2016-06-21</td><td>3</td><td>9</td></tr>",
                            "<tr><td>norbert4</td><td>Mile Norbert</td><td>2016-10-05</td><td>2016-10-10</td><td>3</td><td>10</td></tr>",
                            "<tr><td>norbert4</td><td>Mile Norbert</td><td>2016-10-28</td><td>2016-10-31</td><td>3</td><td>10</td></tr>",
                            "<tr><td>norbert4</td><td>Mile Norbert</td><td>2016-11-30</td><td>2016-12-06</td><td>3</td><td>9</td></tr>",
                            "<tr><td>norbert4</td><td>Mile Norbert</td><td>2017-02-16</td><td>2017-02-17</td><td>1</td><td>9</td></tr>",
                            "<tr><td>norbert4</td><td>Mile Norbert</td><td>2017-03-03</td><td>2017-03-07</td><td>2</td><td>7</td></tr>",
                            "<tr><td>norbert5</td><td>Béres Norbert</td><td>2016-06-24</td><td>2016-06-28</td><td>2</td><td>NULL</td></tr>",
                            "<tr><td>norbert5</td><td>Béres Norbert</td><td>2016-08-10</td><td>2016-08-11</td><td>2</td><td>2</td></tr>",
                            "<tr><td>norbert5</td><td>Béres Norbert</td><td>2016-11-05</td><td>2016-11-07</td><td>1</td><td>4</td></tr>",
                            "<tr><td>pal</td><td>Barabás Pál</td><td>2016-08-14</td><td>2016-08-18</td><td>3</td><td>NULL</td></tr>",
                            "<tr><td>pal</td><td>Barabás Pál</td><td>2016-09-16</td><td>2016-09-19</td><td>2</td><td>3</td></tr>",
                            "<tr><td>pal</td><td>Barabás Pál</td><td>2016-12-17</td><td>2016-12-23</td><td>3</td><td>5</td></tr>",
                            "<tr><td>pal</td><td>Barabás Pál</td><td>2017-02-13</td><td>2017-02-19</td><td>3</td><td>8</td></tr>",
                            "<tr><td>pal</td><td>Barabás Pál</td><td>2017-02-20</td><td>2017-02-22</td><td>3</td><td>8</td></tr>",
                            "<tr><td>peter1</td><td>Kozma Péter</td><td>2016-07-14</td><td>2016-07-18</td><td>3</td><td>NULL</td></tr>",
                            "<tr><td>peter1</td><td>Kozma Péter</td><td>2016-10-26</td><td>2016-11-01</td><td>3</td><td>3</td></tr>",
                            "<tr><td>peter1</td><td>Kozma Péter</td><td>2017-02-23</td><td>2017-02-26</td><td>3</td><td>6</td></tr>",
                            "<tr><td>peter1</td><td>Kozma Péter</td><td>2017-02-28</td><td>2017-03-05</td><td>3</td><td>9</td></tr>",
                            "<tr><td>peter2</td><td>Bozsó Péter</td><td>2016-07-03</td><td>2016-07-08</td><td>2</td><td>NULL</td></tr>",
                            "<tr><td>peter2</td><td>Bozsó Péter</td><td>2016-10-10</td><td>2016-10-16</td><td>2</td><td>2</td></tr>",
                            "<tr><td>peter2</td><td>Bozsó Péter</td><td>2016-11-01</td><td>2016-11-02</td><td>2</td><td>4</td></tr>",
                            "<tr><td>peter2</td><td>Bozsó Péter</td><td>2016-11-15</td><td>2016-11-21</td><td>3</td><td>6</td></tr>",
                            "<tr><td>peter3</td><td>Szalai Péter</td><td>2016-06-30</td><td>2016-07-05</td><td>3</td><td>NULL</td></tr>",
                            "<tr><td>peter3</td><td>Szalai Péter</td><td>2016-07-27</td><td>2016-07-31</td><td>4</td><td>3</td></tr>",
                            "<tr><td>peter3</td><td>Szalai Péter</td><td>2016-10-30</td><td>2016-11-06</td><td>2</td><td>7</td></tr>",
                            "<tr><td>peter3</td><td>Szalai Péter</td><td>2016-12-25</td><td>2016-12-28</td><td>1</td><td>9</td></tr>",
                            "<tr><td>peter3</td><td>Szalai Péter</td><td>2017-01-12</td><td>2017-01-17</td><td>1</td><td>7</td></tr>",
                            "<tr><td>peter3</td><td>Szalai Péter</td><td>2017-02-21</td><td>2017-02-24</td><td>2</td><td>4</td></tr>",
                            "<tr><td>peter4</td><td>Bíró Péter</td><td>2016-04-12</td><td>2016-04-15</td><td>3</td><td>NULL</td></tr>",
                            "<tr><td>peter4</td><td>Bíró Péter</td><td>2016-08-06</td><td>2016-08-13</td><td>2</td><td>3</td></tr>",
                            "<tr><td>peter4</td><td>Bíró Péter</td><td>2016-08-24</td><td>2016-08-25</td><td>3</td><td>5</td></tr>",
                            "<tr><td>peter4</td><td>Bíró Péter</td><td>2016-09-11</td><td>2016-09-17</td><td>4</td><td>8</td></tr>",
                            "<tr><td>peter4</td><td>Bíró Péter</td><td>2016-09-25</td><td>2016-09-26</td><td>3</td><td>9</td></tr>",
                            "<tr><td>peter4</td><td>Bíró Péter</td><td>2016-09-30</td><td>2016-10-06</td><td>3</td><td>10</td></tr>",
                            "<tr><td>peter4</td><td>Bíró Péter</td><td>2016-10-09</td><td>2016-10-16</td><td>3</td><td>10</td></tr>",
                            "<tr><td>peter4</td><td>Bíró Péter</td><td>2016-10-24</td><td>2016-10-25</td><td>2</td><td>9</td></tr>",
                            "<tr><td>peter4</td><td>Bíró Péter</td><td>2016-10-30</td><td>2016-11-01</td><td>3</td><td>8</td></tr>",
                            "<tr><td>peter4</td><td>Bíró Péter</td><td>2016-11-10</td><td>2016-11-17</td><td>3</td><td>8</td></tr>",
                            "<tr><td>peter4</td><td>Bíró Péter</td><td>2016-11-25</td><td>2016-11-30</td><td>3</td><td>8</td></tr>",
                            "<tr><td>peter4</td><td>Bíró Péter</td><td>2017-02-05</td><td>2017-02-09</td><td>3</td><td>9</td></tr>",
                            "<tr><td>PETERB</td><td>Berendi Péter</td><td>2016-04-06</td><td>2016-04-10</td><td>1</td><td>NULL</td></tr>",
                            "<tr><td>PETERB</td><td>Berendi Péter</td><td>2016-07-20</td><td>2016-07-24</td><td>2</td><td>1</td></tr>",
                            "<tr><td>PETERB</td><td>Berendi Péter</td><td>2016-08-16</td><td>2016-08-23</td><td>1</td><td>3</td></tr>",
                            "<tr><td>PETERB</td><td>Berendi Péter</td><td>2016-10-19</td><td>2016-10-20</td><td>4</td><td>4</td></tr>",
                            "<tr><td>PETERB</td><td>Berendi Péter</td><td>2016-11-17</td><td>2016-11-20</td><td>2</td><td>7</td></tr>",
                            "<tr><td>polla</td><td>Palágyi Polla</td><td>2016-04-17</td><td>2016-04-22</td><td>3</td><td>NULL</td></tr>",
                            "<tr><td>polla</td><td>Palágyi Polla</td><td>2016-05-28</td><td>2016-06-04</td><td>2</td><td>3</td></tr>",
                            "<tr><td>polla</td><td>Palágyi Polla</td><td>2016-08-14</td><td>2016-08-17</td><td>2</td><td>5</td></tr>",
                            "<tr><td>polla</td><td>Palágyi Polla</td><td>2016-08-16</td><td>2016-08-19</td><td>4</td><td>7</td></tr>",
                            "<tr><td>polla</td><td>Palágyi Polla</td><td>2017-01-29</td><td>2017-02-01</td><td>2</td><td>8</td></tr>",
                            "<tr><td>polla</td><td>Palágyi Polla</td><td>2017-02-11</td><td>2017-02-16</td><td>2</td><td>8</td></tr>",
                            "<tr><td>rajmond4</td><td>Rácz Rajmond</td><td>2016-09-05</td><td>2016-09-07</td><td>3</td><td>NULL</td></tr>",
                            "<tr><td>rajmond4</td><td>Rácz Rajmond</td><td>2016-10-03</td><td>2016-10-04</td><td>3</td><td>3</td></tr>",
                            "<tr><td>rajmond4</td><td>Rácz Rajmond</td><td>2016-11-08</td><td>2016-11-09</td><td>4</td><td>6</td></tr>",
                            "<tr><td>rajmond4</td><td>Rácz Rajmond</td><td>2016-11-16</td><td>2016-11-20</td><td>2</td><td>10</td></tr>",
                            "<tr><td>reka4</td><td>Szikszai Réka</td><td>2016-07-27</td><td>2016-07-31</td><td>2</td><td>NULL</td></tr>",
                            "<tr><td>reka4</td><td>Szikszai Réka</td><td>2016-08-02</td><td>2016-08-04</td><td>4</td><td>2</td></tr>",
                            "<tr><td>reka4</td><td>Szikszai Réka</td><td>2016-09-05</td><td>2016-09-07</td><td>3</td><td>6</td></tr>",
                            "<tr><td>reka4</td><td>Szikszai Réka</td><td>2016-09-30</td><td>2016-10-06</td><td>2</td><td>9</td></tr>",
                            "<tr><td>reka4</td><td>Szikszai Réka</td><td>2017-02-26</td><td>2017-03-04</td><td>2</td><td>9</td></tr>",
                            "<tr><td>RENATAK</td><td>Kardos Renáta</td><td>2016-10-27</td><td>2016-10-29</td><td>4</td><td>NULL</td></tr>",
                            "<tr><td>RENATAK</td><td>Kardos Renáta</td><td>2016-10-30</td><td>2016-10-31</td><td>1</td><td>4</td></tr>",
                            "<tr><td>RENATAK</td><td>Kardos Renáta</td><td>2016-11-23</td><td>2016-11-26</td><td>1</td><td>5</td></tr>",
                            "<tr><td>RENATAK</td><td>Kardos Renáta</td><td>2017-01-23</td><td>2017-01-24</td><td>3</td><td>6</td></tr>",
                            "<tr><td>RENATAK</td><td>Kardos Renáta</td><td>2017-02-16</td><td>2017-02-23</td><td>1</td><td>5</td></tr>",
                            "<tr><td>RENATAK</td><td>Kardos Renáta</td><td>2017-03-01</td><td>2017-03-06</td><td>1</td><td>5</td></tr>",
                            "<tr><td>RENATAS</td><td>Szirmai Renáta</td><td>2016-05-04</td><td>2016-05-11</td><td>2</td><td>NULL</td></tr>",
                            "<tr><td>RENATAS</td><td>Szirmai Renáta</td><td>2016-05-11</td><td>2016-05-16</td><td>2</td><td>2</td></tr>",
                            "<tr><td>RENATAS</td><td>Szirmai Renáta</td><td>2016-06-24</td><td>2016-06-30</td><td>5</td><td>4</td></tr>",
                            "<tr><td>RENATAS</td><td>Szirmai Renáta</td><td>2017-02-13</td><td>2017-02-17</td><td>1</td><td>9</td></tr>",
                            "<tr><td>RENATAS</td><td>Szirmai Renáta</td><td>2017-02-14</td><td>2017-02-17</td><td>2</td><td>8</td></tr>",
                            "<tr><td>robert2</td><td>Patay Róbert</td><td>2016-05-15</td><td>2016-05-18</td><td>2</td><td>NULL</td></tr>",
                            "<tr><td>robert2</td><td>Patay Róbert</td><td>2016-08-20</td><td>2016-08-27</td><td>2</td><td>2</td></tr>",
                            "<tr><td>robert2</td><td>Patay Róbert</td><td>2016-10-23</td><td>2016-10-28</td><td>3</td><td>4</td></tr>",
                            "<tr><td>robert2</td><td>Patay Róbert</td><td>2016-12-17</td><td>2016-12-22</td><td>1</td><td>7</td></tr>",
                            "<tr><td>ROBERTI</td><td>Iván Róbert</td><td>2016-07-12</td><td>2016-07-19</td><td>4</td><td>NULL</td></tr>",
                            "<tr><td>ROBERTI</td><td>Iván Róbert</td><td>2016-08-16</td><td>2016-08-21</td><td>2</td><td>4</td></tr>",
                            "<tr><td>ROBERTI</td><td>Iván Róbert</td><td>2016-08-23</td><td>2016-08-25</td><td>2</td><td>6</td></tr>",
                            "<tr><td>ROBERTI</td><td>Iván Róbert</td><td>2016-10-08</td><td>2016-10-12</td><td>3</td><td>8</td></tr>",
                            "<tr><td>ROBERTI</td><td>Iván Róbert</td><td>2016-10-09</td><td>2016-10-10</td><td>2</td><td>7</td></tr>",
                            "<tr><td>ROBERTI</td><td>Iván Róbert</td><td>2016-10-23</td><td>2016-10-29</td><td>1</td><td>7</td></tr>",
                            "<tr><td>ROBERTI</td><td>Iván Róbert</td><td>2016-10-26</td><td>2016-11-01</td><td>2</td><td>6</td></tr>",
                            "<tr><td>ROBERTI</td><td>Iván Róbert</td><td>2017-02-17</td><td>2017-02-20</td><td>2</td><td>5</td></tr>",
                            "<tr><td>ROBERTP</td><td>Pásztor Róbert</td><td>2016-07-30</td><td>2016-08-05</td><td>2</td><td>NULL</td></tr>",
                            "<tr><td>ROBERTP</td><td>Pásztor Róbert</td><td>2016-09-08</td><td>2016-09-11</td><td>4</td><td>2</td></tr>",
                            "<tr><td>roland</td><td>Tóth Roland</td><td>2016-06-09</td><td>2016-06-13</td><td>3</td><td>NULL</td></tr>",
                            "<tr><td>roland</td><td>Tóth Roland</td><td>2016-06-22</td><td>2016-06-23</td><td>3</td><td>3</td></tr>",
                            "<tr><td>roland</td><td>Tóth Roland</td><td>2016-09-04</td><td>2016-09-05</td><td>2</td><td>6</td></tr>",
                            "<tr><td>roland</td><td>Tóth Roland</td><td>2016-11-19</td><td>2016-11-24</td><td>2</td><td>8</td></tr>",
                            "<tr><td>roland1</td><td>Ferencz Roland</td><td>2016-11-05</td><td>2016-11-07</td><td>3</td><td>NULL</td></tr>",
                            "<tr><td>roland1</td><td>Ferencz Roland</td><td>2016-12-22</td><td>2016-12-29</td><td>1</td><td>3</td></tr>",
                            "<tr><td>roland1</td><td>Ferencz Roland</td><td>2017-01-04</td><td>2017-01-08</td><td>3</td><td>4</td></tr>",
                            "<tr><td>roland1</td><td>Ferencz Roland</td><td>2017-01-16</td><td>2017-01-22</td><td>2</td><td>7</td></tr>",
                            "<tr><td>roza2</td><td>Bucskó Róza</td><td>2016-09-10</td><td>2016-09-13</td><td>2</td><td>NULL</td></tr>",
                            "<tr><td>roza2</td><td>Bucskó Róza</td><td>2017-01-11</td><td>2017-01-17</td><td>3</td><td>2</td></tr>",
                            "<tr><td>roza2</td><td>Bucskó Róza</td><td>2017-02-18</td><td>2017-02-21</td><td>3</td><td>5</td></tr>",
                            "<tr><td>sandor</td><td>Karasz Sándor</td><td>2016-07-04</td><td>2016-07-06</td><td>2</td><td>NULL</td></tr>",
                            "<tr><td>sandor</td><td>Karasz Sándor</td><td>2016-07-18</td><td>2016-07-24</td><td>2</td><td>2</td></tr>",
                            "<tr><td>sandor</td><td>Karasz Sándor</td><td>2016-08-20</td><td>2016-08-25</td><td>2</td><td>4</td></tr>",
                            "<tr><td>sandor</td><td>Karasz Sándor</td><td>2016-09-19</td><td>2016-09-26</td><td>4</td><td>6</td></tr>",
                            "<tr><td>sandor3</td><td>Farkas Sándor</td><td>2016-05-12</td><td>2016-05-15</td><td>2</td><td>NULL</td></tr>",
                            "<tr><td>sandor3</td><td>Farkas Sándor</td><td>2016-05-25</td><td>2016-05-30</td><td>1</td><td>2</td></tr>",
                            "<tr><td>sandor3</td><td>Farkas Sándor</td><td>2016-10-09</td><td>2016-10-14</td><td>2</td><td>3</td></tr>",
                            "<tr><td>sandor3</td><td>Farkas Sándor</td><td>2016-10-23</td><td>2016-10-29</td><td>3</td><td>5</td></tr>",
                            "<tr><td>sandor3</td><td>Farkas Sándor</td><td>2016-11-10</td><td>2016-11-11</td><td>2</td><td>6</td></tr>",
                            "<tr><td>sandor4</td><td>Nagy Sándor</td><td>2016-10-15</td><td>2016-10-18</td><td>1</td><td>NULL</td></tr>",
                            "<tr><td>sandor4</td><td>Nagy Sándor</td><td>2016-11-29</td><td>2016-12-03</td><td>2</td><td>1</td></tr>",
                            "<tr><td>sandor4</td><td>Nagy Sándor</td><td>2016-12-03</td><td>2016-12-09</td><td>1</td><td>3</td></tr>",
                            "<tr><td>sandor4</td><td>Nagy Sándor</td><td>2017-01-22</td><td>2017-01-26</td><td>2</td><td>4</td></tr>",
                            "<tr><td>sara</td><td>Farkas Sára</td><td>2016-05-28</td><td>2016-05-30</td><td>2</td><td>NULL</td></tr>",
                            "<tr><td>sara</td><td>Farkas Sára</td><td>2016-05-30</td><td>2016-05-31</td><td>2</td><td>2</td></tr>",
                            "<tr><td>sara</td><td>Farkas Sára</td><td>2016-06-06</td><td>2016-06-08</td><td>2</td><td>4</td></tr>",
                            "<tr><td>sara</td><td>Farkas Sára</td><td>2016-07-15</td><td>2016-07-17</td><td>3</td><td>6</td></tr>",
                            "<tr><td>sara</td><td>Farkas Sára</td><td>2016-07-24</td><td>2016-07-27</td><td>3</td><td>7</td></tr>",
                            "<tr><td>sara</td><td>Farkas Sára</td><td>2016-10-06</td><td>2016-10-12</td><td>3</td><td>8</td></tr>",
                            "<tr><td>sara</td><td>Farkas Sára</td><td>2016-10-11</td><td>2016-10-14</td><td>3</td><td>9</td></tr>",
                            "<tr><td>sara</td><td>Farkas Sára</td><td>2016-10-28</td><td>2016-11-03</td><td>2</td><td>9</td></tr>",
                            "<tr><td>sara</td><td>Farkas Sára</td><td>2016-11-18</td><td>2016-11-21</td><td>3</td><td>8</td></tr>",
                            "<tr><td>sara</td><td>Farkas Sára</td><td>2016-11-23</td><td>2016-11-30</td><td>4</td><td>8</td></tr>",
                            "<tr><td>sara</td><td>Farkas Sára</td><td>2016-12-06</td><td>2016-12-10</td><td>1</td><td>9</td></tr>",
                            "<tr><td>sara</td><td>Farkas Sára</td><td>2016-12-25</td><td>2016-12-30</td><td>2</td><td>8</td></tr>",
                            "<tr><td>SEBASTIANF</td><td>Foltényi Sebastián</td><td>2016-04-06</td><td>2016-04-12</td><td>2</td><td>NULL</td></tr>",
                            "<tr><td>SEBASTIANF</td><td>Foltényi Sebastián</td><td>2016-07-17</td><td>2016-07-21</td><td>2</td><td>2</td></tr>",
                            "<tr><td>SEBASTIANF</td><td>Foltényi Sebastián</td><td>2016-07-30</td><td>2016-08-06</td><td>4</td><td>4</td></tr>",
                            "<tr><td>SEBASTIANF</td><td>Foltényi Sebastián</td><td>2016-09-14</td><td>2016-09-15</td><td>3</td><td>8</td></tr>",
                            "<tr><td>SEBASTIANF</td><td>Foltényi Sebastián</td><td>2016-09-17</td><td>2016-09-20</td><td>3</td><td>9</td></tr>",
                            "<tr><td>sebestyen</td><td>Rab Sebestyén</td><td>2016-04-07</td><td>2016-04-12</td><td>4</td><td>NULL</td></tr>",
                            "<tr><td>sebestyen</td><td>Rab Sebestyén</td><td>2016-04-26</td><td>2016-05-02</td><td>4</td><td>4</td></tr>",
                            "<tr><td>sebestyen</td><td>Rab Sebestyén</td><td>2016-06-09</td><td>2016-06-14</td><td>4</td><td>8</td></tr>",
                            "<tr><td>sebestyen</td><td>Rab Sebestyén</td><td>2016-10-26</td><td>2016-11-01</td><td>5</td><td>12</td></tr>",
                            "<tr><td>szabolcs</td><td>Bodor Szabolcs</td><td>2016-12-05</td><td>2016-12-07</td><td>2</td><td>NULL</td></tr>",
                            "<tr><td>SZABOLCSM</td><td>Miklós Szabolcs</td><td>2016-06-18</td><td>2016-06-21</td><td>3</td><td>NULL</td></tr>",
                            "<tr><td>SZABOLCSM</td><td>Miklós Szabolcs</td><td>2016-07-28</td><td>2016-08-03</td><td>2</td><td>3</td></tr>",
                            "<tr><td>SZABOLCSM</td><td>Miklós Szabolcs</td><td>2016-10-17</td><td>2016-10-19</td><td>2</td><td>5</td></tr>",
                            "<tr><td>SZABOLCSM</td><td>Miklós Szabolcs</td><td>2016-10-28</td><td>2016-11-03</td><td>3</td><td>7</td></tr>",
                            "<tr><td>SZABOLCSM</td><td>Miklós Szabolcs</td><td>2016-11-12</td><td>2016-11-13</td><td>2</td><td>7</td></tr>",
                            "<tr><td>SZABOLCSM</td><td>Miklós Szabolcs</td><td>2017-01-07</td><td>2017-01-08</td><td>2</td><td>7</td></tr>",
                            "<tr><td>SZABOLCSM</td><td>Miklós Szabolcs</td><td>2017-02-04</td><td>2017-02-05</td><td>3</td><td>7</td></tr>",
                            "<tr><td>SZILARDS</td><td>Szalai Szilárd</td><td>2016-04-23</td><td>2016-04-30</td><td>3</td><td>NULL</td></tr>",
                            "<tr><td>SZILARDS</td><td>Szalai Szilárd</td><td>2016-07-27</td><td>2016-08-03</td><td>5</td><td>3</td></tr>",
                            "<tr><td>SZILARDS</td><td>Szalai Szilárd</td><td>2016-08-28</td><td>2016-08-29</td><td>4</td><td>8</td></tr>",
                            "<tr><td>SZILARDS</td><td>Szalai Szilárd</td><td>2016-09-20</td><td>2016-09-24</td><td>3</td><td>12</td></tr>",
                            "<tr><td>SZILARDS</td><td>Szalai Szilárd</td><td>2016-10-01</td><td>2016-10-08</td><td>3</td><td>12</td></tr>",
                            "<tr><td>SZILARDS</td><td>Szalai Szilárd</td><td>2017-01-16</td><td>2017-01-19</td><td>3</td><td>10</td></tr>",
                            "<tr><td>SZILARDS</td><td>Szalai Szilárd</td><td>2017-02-08</td><td>2017-02-15</td><td>1</td><td>9</td></tr>",
                            "<tr><td>szilvia1</td><td>Tari Szilvia</td><td>2016-05-14</td><td>2016-05-21</td><td>2</td><td>NULL</td></tr>",
                            "<tr><td>szilvia1</td><td>Tari Szilvia</td><td>2016-05-28</td><td>2016-06-03</td><td>2</td><td>2</td></tr>",
                            "<tr><td>szilvia1</td><td>Tari Szilvia</td><td>2016-07-25</td><td>2016-07-28</td><td>2</td><td>4</td></tr>",
                            "<tr><td>szilvia1</td><td>Tari Szilvia</td><td>2016-10-09</td><td>2016-10-10</td><td>3</td><td>6</td></tr>",
                            "<tr><td>szilvia1</td><td>Tari Szilvia</td><td>2016-10-25</td><td>2016-10-31</td><td>3</td><td>7</td></tr>",
                            "<tr><td>szilvia1</td><td>Tari Szilvia</td><td>2016-10-27</td><td>2016-10-28</td><td>2</td><td>8</td></tr>",
                            "<tr><td>szilvia1</td><td>Tari Szilvia</td><td>2016-12-25</td><td>2016-12-29</td><td>5</td><td>8</td></tr>",
                            "<tr><td>szilvia1</td><td>Tari Szilvia</td><td>2016-12-27</td><td>2017-01-02</td><td>2</td><td>10</td></tr>",
                            "<tr><td>szilvia1</td><td>Tari Szilvia</td><td>2017-01-28</td><td>2017-02-03</td><td>2</td><td>9</td></tr>",
                            "<tr><td>tamara2</td><td>Miklós Tamara</td><td>2016-08-12</td><td>2016-08-15</td><td>3</td><td>NULL</td></tr>",
                            "<tr><td>tamara2</td><td>Miklós Tamara</td><td>2016-11-15</td><td>2016-11-18</td><td>2</td><td>3</td></tr>",
                            "<tr><td>tamas</td><td>Antal Tamás</td><td>2016-05-17</td><td>2016-05-22</td><td>2</td><td>NULL</td></tr>",
                            "<tr><td>tamas</td><td>Antal Tamás</td><td>2016-06-14</td><td>2016-06-21</td><td>2</td><td>2</td></tr>",
                            "<tr><td>tamas</td><td>Antal Tamás</td><td>2016-08-24</td><td>2016-08-27</td><td>3</td><td>4</td></tr>",
                            "<tr><td>tamas</td><td>Antal Tamás</td><td>2017-02-14</td><td>2017-02-19</td><td>3</td><td>7</td></tr>",
                            "<tr><td>TAMASF</td><td>Fényes Tamás</td><td>2016-05-03</td><td>2016-05-04</td><td>2</td><td>NULL</td></tr>",
                            "<tr><td>TAMASF</td><td>Fényes Tamás</td><td>2016-06-10</td><td>2016-06-13</td><td>3</td><td>2</td></tr>",
                            "<tr><td>TAMASF</td><td>Fényes Tamás</td><td>2016-06-28</td><td>2016-07-05</td><td>3</td><td>5</td></tr>",
                            "<tr><td>TAMASF</td><td>Fényes Tamás</td><td>2016-07-04</td><td>2016-07-10</td><td>2</td><td>8</td></tr>",
                            "<tr><td>TAMASF</td><td>Fényes Tamás</td><td>2016-09-12</td><td>2016-09-18</td><td>3</td><td>8</td></tr>",
                            "<tr><td>TAMASF</td><td>Fényes Tamás</td><td>2016-12-02</td><td>2016-12-04</td><td>1</td><td>8</td></tr>",
                            "<tr><td>TAMASF</td><td>Fényes Tamás</td><td>2016-12-10</td><td>2016-12-14</td><td>3</td><td>6</td></tr>",
                            "<tr><td>TAMASF</td><td>Fényes Tamás</td><td>2017-02-12</td><td>2017-02-17</td><td>2</td><td>7</td></tr>",
                            "<tr><td>TAMASF</td><td>Fényes Tamás</td><td>2017-02-16</td><td>2017-02-19</td><td>4</td><td>6</td></tr>",
                            "<tr><td>tibor</td><td>Gombos Tibor</td><td>2016-10-09</td><td>2016-10-13</td><td>2</td><td>NULL</td></tr>",
                            "<tr><td>tibor</td><td>Gombos Tibor</td><td>2016-11-05</td><td>2016-11-09</td><td>1</td><td>2</td></tr>",
                            "<tr><td>tibor2</td><td>Dániel Tibor</td><td>2016-10-20</td><td>2016-10-25</td><td>2</td><td>NULL</td></tr>",
                            "<tr><td>tihamer</td><td>Kazy Tihamér</td><td>2016-05-30</td><td>2016-06-05</td><td>1</td><td>NULL</td></tr>",
                            "<tr><td>tihamer</td><td>Kazy Tihamér</td><td>2016-06-03</td><td>2016-06-08</td><td>5</td><td>1</td></tr>",
                            "<tr><td>tihamer</td><td>Kazy Tihamér</td><td>2016-07-20</td><td>2016-07-24</td><td>3</td><td>6</td></tr>",
                            "<tr><td>tihamer</td><td>Kazy Tihamér</td><td>2016-08-18</td><td>2016-08-22</td><td>3</td><td>9</td></tr>",
                            "<tr><td>tihamer</td><td>Kazy Tihamér</td><td>2016-10-19</td><td>2016-10-23</td><td>2</td><td>11</td></tr>",
                            "<tr><td>tihamer</td><td>Kazy Tihamér</td><td>2016-12-25</td><td>2016-12-26</td><td>2</td><td>8</td></tr>",
                            "<tr><td>timea</td><td>Papós Tímea</td><td>2016-12-26</td><td>2016-12-27</td><td>2</td><td>NULL</td></tr>",
                            "<tr><td>timea2</td><td>Dusha Tímea</td><td>2016-06-06</td><td>2016-06-07</td><td>2</td><td>NULL</td></tr>",
                            "<tr><td>timea2</td><td>Dusha Tímea</td><td>2016-08-07</td><td>2016-08-10</td><td>3</td><td>2</td></tr>",
                            "<tr><td>timea2</td><td>Dusha Tímea</td><td>2016-10-26</td><td>2016-10-29</td><td>3</td><td>5</td></tr>",
                            "<tr><td>timea2</td><td>Dusha Tímea</td><td>2016-11-27</td><td>2016-12-01</td><td>4</td><td>8</td></tr>",
                            "<tr><td>timea2</td><td>Dusha Tímea</td><td>2016-12-14</td><td>2016-12-16</td><td>4</td><td>10</td></tr>",
                            "<tr><td>tunde</td><td>Turcsik Tünde</td><td>2016-06-03</td><td>2016-06-07</td><td>3</td><td>NULL</td></tr>",
                            "<tr><td>tunde</td><td>Turcsik Tünde</td><td>2016-06-06</td><td>2016-06-12</td><td>3</td><td>3</td></tr>",
                            "<tr><td>tunde</td><td>Turcsik Tünde</td><td>2016-07-14</td><td>2016-07-21</td><td>1</td><td>6</td></tr>",
                            "<tr><td>tunde</td><td>Turcsik Tünde</td><td>2016-09-05</td><td>2016-09-12</td><td>2</td><td>7</td></tr>",
                            "<tr><td>tunde</td><td>Turcsik Tünde</td><td>2016-10-24</td><td>2016-10-30</td><td>3</td><td>6</td></tr>",
                            "<tr><td>tunde</td><td>Turcsik Tünde</td><td>2016-11-19</td><td>2016-11-20</td><td>3</td><td>6</td></tr>",
                            "<tr><td>tunde</td><td>Turcsik Tünde</td><td>2016-12-15</td><td>2016-12-20</td><td>3</td><td>8</td></tr>",
                            "<tr><td>tunde</td><td>Turcsik Tünde</td><td>2017-01-03</td><td>2017-01-06</td><td>5</td><td>9</td></tr>",
                            "<tr><td>valentin</td><td>Feró Valentin</td><td>2016-05-24</td><td>2016-05-30</td><td>4</td><td>NULL</td></tr>",
                            "<tr><td>valentin</td><td>Feró Valentin</td><td>2016-07-24</td><td>2016-07-29</td><td>1</td><td>4</td></tr>",
                            "<tr><td>valentin</td><td>Feró Valentin</td><td>2016-10-26</td><td>2016-10-30</td><td>3</td><td>5</td></tr>",
                            "<tr><td>valentin</td><td>Feró Valentin</td><td>2016-11-11</td><td>2016-11-17</td><td>3</td><td>8</td></tr>",
                            "<tr><td>valentin</td><td>Feró Valentin</td><td>2016-12-01</td><td>2016-12-05</td><td>3</td><td>7</td></tr>",
                            "<tr><td>veronika4</td><td>Tankó Veronika</td><td>2016-05-30</td><td>2016-06-04</td><td>2</td><td>NULL</td></tr>",
                            "<tr><td>veronika4</td><td>Tankó Veronika</td><td>2016-07-20</td><td>2016-07-26</td><td>3</td><td>2</td></tr>",
                            "<tr><td>veronika4</td><td>Tankó Veronika</td><td>2016-08-16</td><td>2016-08-21</td><td>1</td><td>5</td></tr>",
                            "<tr><td>veronika4</td><td>Tankó Veronika</td><td>2016-09-26</td><td>2016-10-03</td><td>2</td><td>6</td></tr>",
                            "<tr><td>veronika4</td><td>Tankó Veronika</td><td>2017-01-19</td><td>2017-01-24</td><td>3</td><td>6</td></tr>",
                            "<tr><td>veronika4</td><td>Tankó Veronika</td><td>2017-02-03</td><td>2017-02-05</td><td>2</td><td>6</td></tr>",
                            "<tr><td>VIKTORIAU</td><td>Urbán Viktoria</td><td>2016-04-30</td><td>2016-05-03</td><td>1</td><td>NULL</td></tr>",
                            "<tr><td>VIKTORIAU</td><td>Urbán Viktoria</td><td>2016-08-03</td><td>2016-08-04</td><td>2</td><td>1</td></tr>",
                            "<tr><td>VIKTORIAU</td><td>Urbán Viktoria</td><td>2016-10-14</td><td>2016-10-15</td><td>3</td><td>3</td></tr>",
                            "<tr><td>VIKTORIAU</td><td>Urbán Viktoria</td><td>2016-10-26</td><td>2016-11-02</td><td>4</td><td>6</td></tr>",
                            "<tr><td>VIKTORK</td><td>Keresztúri Viktor</td><td>2016-05-30</td><td>2016-06-01</td><td>2</td><td>NULL</td></tr>",
                            "<tr><td>VIKTORK</td><td>Keresztúri Viktor</td><td>2016-06-06</td><td>2016-06-07</td><td>4</td><td>2</td></tr>",
                            "<tr><td>vivien3</td><td>Boros Vivien</td><td>2016-05-02</td><td>2016-05-05</td><td>3</td><td>NULL</td></tr>",
                            "<tr><td>vivien3</td><td>Boros Vivien</td><td>2016-08-13</td><td>2016-08-18</td><td>2</td><td>3</td></tr>",
                            "<tr><td>vivien3</td><td>Boros Vivien</td><td>2016-09-01</td><td>2016-09-05</td><td>2</td><td>5</td></tr>",
                            "<tr><td>vivien3</td><td>Boros Vivien</td><td>2016-10-01</td><td>2016-10-04</td><td>1</td><td>7</td></tr>",
                            "<tr><td>vivien3</td><td>Boros Vivien</td><td>2016-11-17</td><td>2016-11-20</td><td>2</td><td>5</td></tr>",
                            "<tr><td>vivien3</td><td>Boros Vivien</td><td>2016-12-17</td><td>2016-12-21</td><td>2</td><td>5</td></tr>",
                            "<tr><td>vivien3</td><td>Boros Vivien</td><td>2016-12-24</td><td>2016-12-26</td><td>3</td><td>5</td></tr>",
                            "<tr><td>zoltan</td><td>Fodor Zoltán</td><td>2016-08-24</td><td>2016-08-31</td><td>2</td><td>NULL</td></tr>",
                            "<tr><td>zoltan</td><td>Fodor Zoltán</td><td>2016-09-05</td><td>2016-09-09</td><td>3</td><td>2</td></tr>",
                            "<tr><td>zoltan4</td><td>Barna Zoltán</td><td>2016-05-12</td><td>2016-05-16</td><td>3</td><td>NULL</td></tr>",
                            "<tr><td>zoltan4</td><td>Barna Zoltán</td><td>2016-05-13</td><td>2016-05-16</td><td>3</td><td>3</td></tr>",
                            "<tr><td>zoltan4</td><td>Barna Zoltán</td><td>2016-06-03</td><td>2016-06-06</td><td>1</td><td>6</td></tr>",
                            "<tr><td>zoltan4</td><td>Barna Zoltán</td><td>2016-08-15</td><td>2016-08-21</td><td>1</td><td>7</td></tr>",
                            "<tr><td>zoltan4</td><td>Barna Zoltán</td><td>2016-08-16</td><td>2016-08-23</td><td>2</td><td>5</td></tr>",
                            "<tr><td>zoltan4</td><td>Barna Zoltán</td><td>2016-09-30</td><td>2016-10-07</td><td>3</td><td>4</td></tr>",
                            "<tr><td>zoltan4</td><td>Barna Zoltán</td><td>2016-10-21</td><td>2016-10-24</td><td>5</td><td>6</td></tr>",
                            "<tr><td>zoltan4</td><td>Barna Zoltán</td><td>2016-10-26</td><td>2016-10-30</td><td>2</td><td>10</td></tr>",
                            "<tr><td>zoltan4</td><td>Barna Zoltán</td><td>2016-10-30</td><td>2016-11-06</td><td>1</td><td>10</td></tr>",
                            "<tr><td>zoltan4</td><td>Barna Zoltán</td><td>2016-11-19</td><td>2016-11-21</td><td>2</td><td>8</td></tr>",
                            "<tr><td>zoltan4</td><td>Barna Zoltán</td><td>2016-12-29</td><td>2017-01-04</td><td>1</td><td>5</td></tr>",
                            "<tr><td>zoltan4</td><td>Barna Zoltán</td><td>2017-01-01</td><td>2017-01-02</td><td>3</td><td>4</td></tr>",
                            "<tr><td>ZOLTANP</td><td>Pintér Zoltán</td><td>2016-06-05</td><td>2016-06-08</td><td>2</td><td>NULL</td></tr>",
                            "<tr><td>ZOLTANP</td><td>Pintér Zoltán</td><td>2016-06-06</td><td>2016-06-08</td><td>2</td><td>2</td></tr>",
                            "<tr><td>ZOLTANP</td><td>Pintér Zoltán</td><td>2016-07-20</td><td>2016-07-25</td><td>3</td><td>4</td></tr>",
                            "<tr><td>ZOLTANP</td><td>Pintér Zoltán</td><td>2016-10-19</td><td>2016-10-25</td><td>2</td><td>7</td></tr>",
                            "<tr><td>ZOLTANP</td><td>Pintér Zoltán</td><td>2016-12-07</td><td>2016-12-10</td><td>3</td><td>7</td></tr>",
                            "<tr><td>ZOLTANP</td><td>Pintér Zoltán</td><td>2016-12-25</td><td>2016-12-29</td><td>2</td><td>8</td></tr>",
                            "<tr><td>ZOLTANT</td><td>Tóth Zoltán</td><td>2016-05-01</td><td>2016-05-04</td><td>3</td><td>NULL</td></tr>",
                            "<tr><td>ZOLTANT</td><td>Tóth Zoltán</td><td>2016-07-14</td><td>2016-07-15</td><td>3</td><td>3</td></tr>",
                            "<tr><td>ZOLTANT</td><td>Tóth Zoltán</td><td>2017-01-16</td><td>2017-01-20</td><td>2</td><td>6</td></tr>",
                            "<tr><td>zsofi1</td><td>Molnár Zsófi</td><td>2016-06-16</td><td>2016-06-17</td><td>2</td><td>NULL</td></tr>",
                            "<tr><td>zsofi1</td><td>Molnár Zsófi</td><td>2017-02-18</td><td>2017-02-19</td><td>3</td><td>2</td></tr>",
                            "<tr><td>zsolt1</td><td>Pulai Zsolt</td><td>2016-04-14</td><td>2016-04-17</td><td>2</td><td>NULL</td></tr>",
                            "<tr><td>zsolt1</td><td>Pulai Zsolt</td><td>2016-06-06</td><td>2016-06-08</td><td>2</td><td>2</td></tr>",
                            "<tr><td>zsolt1</td><td>Pulai Zsolt</td><td>2016-06-07</td><td>2016-06-10</td><td>4</td><td>4</td></tr>",
                            "<tr><td>zsolt1</td><td>Pulai Zsolt</td><td>2016-07-31</td><td>2016-08-02</td><td>2</td><td>8</td></tr>",
                            "<tr><td>ZSOLTJ</td><td>Józsa Zsolt</td><td>2016-04-24</td><td>2016-04-26</td><td>4</td><td>NULL</td></tr>",
                            "<tr><td>ZSOLTJ</td><td>Józsa Zsolt</td><td>2016-05-09</td><td>2016-05-11</td><td>2</td><td>4</td></tr>",
                            "<tr><td>ZSOLTJ</td><td>Józsa Zsolt</td><td>2016-05-28</td><td>2016-06-03</td><td>1</td><td>6</td></tr>",
                            "<tr><td>ZSOLTJ</td><td>Józsa Zsolt</td><td>2016-06-17</td><td>2016-06-19</td><td>2</td><td>7</td></tr>",
                            "<tr><td>ZSOLTJ</td><td>Józsa Zsolt</td><td>2016-07-18</td><td>2016-07-19</td><td>2</td><td>5</td></tr>",
                            "<tr><td>ZSOLTJ</td><td>Józsa Zsolt</td><td>2016-10-01</td><td>2016-10-06</td><td>2</td><td>5</td></tr>",
                            "<tr><td>zsuzsa</td><td>Pusztai Zsuzsanna</td><td>2016-07-24</td><td>2016-07-25</td><td>3</td><td>NULL</td></tr>",
                            "<tr><td>zsuzsa</td><td>Pusztai Zsuzsanna</td><td>2016-08-28</td><td>2016-08-30</td><td>2</td><td>3</td></tr>",
                            "<tr><td>zsuzsa</td><td>Pusztai Zsuzsanna</td><td>2016-11-28</td><td>2016-12-04</td><td>3</td><td>5</td></tr>",
                            "<tr><td>zsuzsa3</td><td>Varsányi Zsuzsa</td><td>2016-07-30</td><td>2016-08-02</td><td>2</td><td>NULL</td></tr>",
                            "<tr><td>zsuzsa3</td><td>Varsányi Zsuzsa</td><td>2016-09-09</td><td>2016-09-10</td><td>2</td><td>2</td></tr>",
                            "<tr><td>zsuzsa3</td><td>Varsányi Zsuzsa</td><td>2016-09-28</td><td>2016-10-03</td><td>2</td><td>4</td></tr>",
                            "<tr><td>zsuzsa3</td><td>Varsányi Zsuzsa</td><td>2016-10-27</td><td>2016-11-03</td><td>4</td><td>6</td></tr>",
                            "<tr><td>zsuzsanna</td><td>Barta Zsuzsanna</td><td>2016-05-17</td><td>2016-05-23</td><td>2</td><td>NULL</td></tr>",
                            "<tr><td>zsuzsanna</td><td>Barta Zsuzsanna</td><td>2016-07-12</td><td>2016-07-15</td><td>2</td><td>2</td></tr>",
                            "<tr><td>zsuzsanna</td><td>Barta Zsuzsanna</td><td>2017-01-09</td><td>2017-01-16</td><td>1</td><td>4</td></tr>",
                            "<tr><td>zsuzsanna</td><td>Barta Zsuzsanna</td><td>2017-01-16</td><td>2017-01-22</td><td>2</td><td>5</td></tr>",
                            "<tr><td>ZSUZSAV</td><td>Vajda Zsuzsa</td><td>2016-04-14</td><td>2016-04-16</td><td>2</td><td>NULL</td></tr>",
                            "<tr><td>ZSUZSAV</td><td>Vajda Zsuzsa</td><td>2016-05-28</td><td>2016-06-01</td><td>4</td><td>2</td></tr>",
                            "<tr><td>ZSUZSAV</td><td>Vajda Zsuzsa</td><td>2016-06-15</td><td>2016-06-21</td><td>3</td><td>6</td></tr>",
                            "<tr><td>ZSUZSAV</td><td>Vajda Zsuzsa</td><td>2016-09-18</td><td>2016-09-20</td><td>2</td><td>9</td></tr>",
                            "<tr><td>ZSUZSAV</td><td>Vajda Zsuzsa</td><td>2016-10-26</td><td>2016-10-28</td><td>1</td><td>9</td></tr>",
                            "<tr><td>ZSUZSAV</td><td>Vajda Zsuzsa</td><td>2016-11-21</td><td>2016-11-24</td><td>3</td><td>6</td></tr>",
                            "</table>"
                        ]
                    }
                }
            ],
            "execution_count": 5
        },
        {
            "cell_type": "code",
            "source": [
                "SELECT v.USERNEV, v.NEV, f.METTOL, f.MEDDIG,\r\n",
                "       f.FELNOTT_SZAM + f.GYERMEK_SZAM AS 'Személyek száma',\r\n",
                "\t   SUM(f.FELNOTT_SZAM+f.GYERMEK_SZAM)\r\n",
                "\t   OVER(PARTITION BY f.UGYFEL_FK ORDER BY FOGLALAS_PK\r\n",
                "\t   ROWS BETWEEN 3 PRECEDING AND 1 PRECEDING) \r\n",
                "\t   AS 'Személyek száma összesen az előző 3 foglalás alapján'\r\n",
                "FROM Vendeg v JOIN Foglalas f ON f.UGYFEL_FK = v.USERNEV"
            ],
            "metadata": {
                "azdata_cell_guid": "56ec19ce-e249-4551-b2a8-f17569765acc",
                "language": "sql",
                "tags": []
            },
            "outputs": [],
            "execution_count": null
        },
        {
            "cell_type": "markdown",
            "source": [
                "4. <span style=\"background-color: rgb(255, 255, 255); color: rgb(0, 0, 0); font-family: &quot;Open Sans&quot;, sans-serif; font-size: 14.44px;\">Készítsünk listát arról, hogy az egyes szálláshelyeken évente hány foglalás történt!&nbsp;</span> \n",
                "\n",
                "a. A lista jelenítse meg a szálláshely azonosítóját, nevét, az évet, és a foglalások számát!\n",
                "\n",
                "b. Egy új oszlopban jelenítsük meg a szálláshely eddigi éves foglalásainak számát is (az aktuálisat is beleértve). \n",
                "\n",
                "c. Az évnél a METTOL dátumot vegyük figyelembe! \n",
                "\n",
                "d. A lista ne tartalmazzon duplikált sorokat!"
            ],
            "metadata": {
                "azdata_cell_guid": "8e7fef82-8022-49a0-8255-fc2846c2134b"
            },
            "attachments": {}
        },
        {
            "cell_type": "code",
            "source": [
                "SELECT DISTINCT szh.SZALLAS_ID,\r\n",
                "szh.SZALLAS_NEV,\r\n",
                "YEAR(f.METTOL),\r\n",
                "COUNT(FOGLALAS_PK) OVER (PARTITION BY szh.SZALLAS_ID, YEAR(f.METTOL)),\r\n",
                "COUNT(FOGLALAS_PK) OVER (PARTITION BY szh.SZALLAS_ID ORDER BY YEAR(METTOL) RANGE BETWEEN UNBOUNDED PRECEDING AND CURRENT ROW)\r\n",
                "FROM Szoba sz JOIN Szallashely szh ON szh.SZALLAS_ID=sz.SZALLAS_FK\r\n",
                "                JOIN Foglalas f ON f.SZOBA_FK=sz.SZOBA_ID\r\n",
                ""
            ],
            "metadata": {
                "azdata_cell_guid": "cfe85eda-13b0-4400-84f1-ba6834aedbcc",
                "language": "sql"
            },
            "outputs": [
                {
                    "output_type": "display_data",
                    "data": {
                        "text/html": "(24 rows affected)"
                    },
                    "metadata": {}
                },
                {
                    "output_type": "display_data",
                    "data": {
                        "text/html": "Total execution time: 00:00:00.047"
                    },
                    "metadata": {}
                },
                {
                    "output_type": "execute_result",
                    "metadata": {},
                    "execution_count": 11,
                    "data": {
                        "application/vnd.dataresource+json": {
                            "schema": {
                                "fields": [
                                    {
                                        "name": "SZALLAS_ID"
                                    },
                                    {
                                        "name": "SZALLAS_NEV"
                                    },
                                    {
                                        "name": "(No column name)"
                                    },
                                    {
                                        "name": "(No column name)"
                                    },
                                    {
                                        "name": "(No column name)"
                                    }
                                ]
                            },
                            "data": [
                                {
                                    "SZALLAS_ID": "1",
                                    "SZALLAS_NEV": "Sába-Ház",
                                    "(No column name)": "63"
                                },
                                {
                                    "SZALLAS_ID": "1",
                                    "SZALLAS_NEV": "Sába-Ház",
                                    "(No column name)": "70"
                                },
                                {
                                    "SZALLAS_ID": "2",
                                    "SZALLAS_NEV": "Családi Ház",
                                    "(No column name)": "13"
                                },
                                {
                                    "SZALLAS_ID": "2",
                                    "SZALLAS_NEV": "Családi Ház",
                                    "(No column name)": "18"
                                },
                                {
                                    "SZALLAS_ID": "3",
                                    "SZALLAS_NEV": "Fortuna Apartman",
                                    "(No column name)": "35"
                                },
                                {
                                    "SZALLAS_ID": "3",
                                    "SZALLAS_NEV": "Fortuna Apartman",
                                    "(No column name)": "39"
                                },
                                {
                                    "SZALLAS_ID": "4",
                                    "SZALLAS_NEV": "Fortuna panzió",
                                    "(No column name)": "61"
                                },
                                {
                                    "SZALLAS_ID": "4",
                                    "SZALLAS_NEV": "Fortuna panzió",
                                    "(No column name)": "73"
                                },
                                {
                                    "SZALLAS_ID": "5",
                                    "SZALLAS_NEV": "Fortuna Panzió",
                                    "(No column name)": "43"
                                },
                                {
                                    "SZALLAS_ID": "5",
                                    "SZALLAS_NEV": "Fortuna Panzió",
                                    "(No column name)": "53"
                                },
                                {
                                    "SZALLAS_ID": "6",
                                    "SZALLAS_NEV": "Kentaur Hotel",
                                    "(No column name)": "150"
                                },
                                {
                                    "SZALLAS_ID": "6",
                                    "SZALLAS_NEV": "Kentaur Hotel",
                                    "(No column name)": "179"
                                },
                                {
                                    "SZALLAS_ID": "7",
                                    "SZALLAS_NEV": "Szieszta Apartmanház",
                                    "(No column name)": "28"
                                },
                                {
                                    "SZALLAS_ID": "7",
                                    "SZALLAS_NEV": "Szieszta Apartmanház",
                                    "(No column name)": "34"
                                },
                                {
                                    "SZALLAS_ID": "8",
                                    "SZALLAS_NEV": "Hotel Három Hattyú",
                                    "(No column name)": "157"
                                },
                                {
                                    "SZALLAS_ID": "8",
                                    "SZALLAS_NEV": "Hotel Három Hattyú",
                                    "(No column name)": "204"
                                },
                                {
                                    "SZALLAS_ID": "9",
                                    "SZALLAS_NEV": "Jáde panzió",
                                    "(No column name)": "24"
                                },
                                {
                                    "SZALLAS_ID": "9",
                                    "SZALLAS_NEV": "Jáde panzió",
                                    "(No column name)": "29"
                                },
                                {
                                    "SZALLAS_ID": "10",
                                    "SZALLAS_NEV": "Lagúna Hotel",
                                    "(No column name)": "103"
                                },
                                {
                                    "SZALLAS_ID": "10",
                                    "SZALLAS_NEV": "Lagúna Hotel",
                                    "(No column name)": "123"
                                },
                                {
                                    "SZALLAS_ID": "11",
                                    "SZALLAS_NEV": "Partiszél Vendégház",
                                    "(No column name)": "23"
                                },
                                {
                                    "SZALLAS_ID": "11",
                                    "SZALLAS_NEV": "Partiszél Vendégház",
                                    "(No column name)": "26"
                                },
                                {
                                    "SZALLAS_ID": "12",
                                    "SZALLAS_NEV": "Gold Hotel",
                                    "(No column name)": "152"
                                },
                                {
                                    "SZALLAS_ID": "12",
                                    "SZALLAS_NEV": "Gold Hotel",
                                    "(No column name)": "179"
                                }
                            ]
                        },
                        "text/html": [
                            "<table>",
                            "<tr><th>SZALLAS_ID</th><th>SZALLAS_NEV</th><th>(No column name)</th><th>(No column name)</th><th>(No column name)</th></tr>",
                            "<tr><td>1</td><td>Sába-Ház</td><td>2016</td><td>63</td><td>63</td></tr>",
                            "<tr><td>1</td><td>Sába-Ház</td><td>2017</td><td>7</td><td>70</td></tr>",
                            "<tr><td>2</td><td>Családi Ház</td><td>2016</td><td>13</td><td>13</td></tr>",
                            "<tr><td>2</td><td>Családi Ház</td><td>2017</td><td>5</td><td>18</td></tr>",
                            "<tr><td>3</td><td>Fortuna Apartman</td><td>2016</td><td>35</td><td>35</td></tr>",
                            "<tr><td>3</td><td>Fortuna Apartman</td><td>2017</td><td>4</td><td>39</td></tr>",
                            "<tr><td>4</td><td>Fortuna panzió</td><td>2016</td><td>61</td><td>61</td></tr>",
                            "<tr><td>4</td><td>Fortuna panzió</td><td>2017</td><td>12</td><td>73</td></tr>",
                            "<tr><td>5</td><td>Fortuna Panzió</td><td>2016</td><td>43</td><td>43</td></tr>",
                            "<tr><td>5</td><td>Fortuna Panzió</td><td>2017</td><td>10</td><td>53</td></tr>",
                            "<tr><td>6</td><td>Kentaur Hotel</td><td>2016</td><td>150</td><td>150</td></tr>",
                            "<tr><td>6</td><td>Kentaur Hotel</td><td>2017</td><td>29</td><td>179</td></tr>",
                            "<tr><td>7</td><td>Szieszta Apartmanház</td><td>2016</td><td>28</td><td>28</td></tr>",
                            "<tr><td>7</td><td>Szieszta Apartmanház</td><td>2017</td><td>6</td><td>34</td></tr>",
                            "<tr><td>8</td><td>Hotel Három Hattyú</td><td>2016</td><td>157</td><td>157</td></tr>",
                            "<tr><td>8</td><td>Hotel Három Hattyú</td><td>2017</td><td>47</td><td>204</td></tr>",
                            "<tr><td>9</td><td>Jáde panzió</td><td>2016</td><td>24</td><td>24</td></tr>",
                            "<tr><td>9</td><td>Jáde panzió</td><td>2017</td><td>5</td><td>29</td></tr>",
                            "<tr><td>10</td><td>Lagúna Hotel</td><td>2016</td><td>103</td><td>103</td></tr>",
                            "<tr><td>10</td><td>Lagúna Hotel</td><td>2017</td><td>20</td><td>123</td></tr>",
                            "<tr><td>11</td><td>Partiszél Vendégház</td><td>2016</td><td>23</td><td>23</td></tr>",
                            "<tr><td>11</td><td>Partiszél Vendégház</td><td>2017</td><td>3</td><td>26</td></tr>",
                            "<tr><td>12</td><td>Gold Hotel</td><td>2016</td><td>152</td><td>152</td></tr>",
                            "<tr><td>12</td><td>Gold Hotel</td><td>2017</td><td>27</td><td>179</td></tr>",
                            "</table>"
                        ]
                    }
                }
            ],
            "execution_count": 11
        },
        {
            "cell_type": "code",
            "source": [
                "SELECT \r\n",
                "DISTINCT sz.SZALLAS_ID, sz.SZALLAS_NEV, YEAR(f.METTOL) AS 'ÉV',\r\n",
                "       COUNT(*) OVER(PARTITION BY sz.SZALLAS_ID, YEAR(f.METTOL)) \r\n",
                "\t   AS 'Éves foglalásszám',\r\n",
                "\t   COUNT(*) OVER(PARTITION BY sz.SZALLAS_ID ORDER BY YEAR(f.METTOL) \r\n",
                "\t   RANGE BETWEEN UNBOUNDED PRECEDING AND CURRENT ROW)\r\n",
                "\t   AS 'Eddigi éves foglalásszám összesen'\r\n",
                "FROM Foglalas f JOIN Szallashely sz ON f.SZOBA_FK = sz.SZALLAS_ID"
            ],
            "metadata": {
                "azdata_cell_guid": "36f7b396-4a1f-45e5-8720-2302537c91bc",
                "language": "sql",
                "tags": []
            },
            "outputs": [],
            "execution_count": null
        },
        {
            "cell_type": "markdown",
            "source": [
                "5. <span style=\"background-color: rgb(255, 255, 255); color: rgb(0, 0, 0); font-family: &quot;Open Sans&quot;, sans-serif; font-size: 14.44px;\">Készítsük listát a szálláshelyekről! A lista tartalmazza a szálláshely azonosítóját, nevét, és a csillagok számát csillagszám szerint csökkenő, azon belül szállásnév szerint növekvő sorrendben!&nbsp;</span> \n",
                "\n",
                "a. Vegyünk fel két új oszlopot, amely a sorrend szerint előző szálláshely nevét, illetve azonosítóját is megjeleníti!"
            ],
            "metadata": {
                "azdata_cell_guid": "84239ca2-6b5e-49f5-9860-d44c11d6de32"
            },
            "attachments": {}
        },
        {
            "cell_type": "code",
            "source": [
                "SELECT  SZALLAS_ID, SZALLAS_NEV, CSILLAGOK_SZAMA, \r\n",
                "        LAG(szallas_nev) OVER (ORDER BY CSILLAGOK_SZAMA DESC, \r\n",
                "\t\tszallas_nev) \r\n",
                "\t\tAS 'Előző szállás neve',\r\n",
                "\t\tLAG(szallas_id) OVER (ORDER BY CSILLAGOK_SZAMA DESC, \r\n",
                "\t\tszallas_nev) \r\n",
                "\t\tAS 'Előző szállás azonosítója'\t\t\r\n",
                "FROM Szallashely \r\n",
                "--ORDER BY CSILLAGOK_SZAMA DESC, SZALLAS_NEV"
            ],
            "metadata": {
                "azdata_cell_guid": "06d9a62b-9430-424b-a135-d80e675f0eb3",
                "language": "sql"
            },
            "outputs": [],
            "execution_count": null
        },
        {
            "cell_type": "markdown",
            "source": [
                "6. <span style=\"background-color: rgb(255, 255, 255); color: rgb(0, 0, 0); font-family: &quot;Open Sans&quot;, sans-serif; font-size: 14.44px;\">Listázzuk azon termékeket, amelyekből az átlagosnál kevesebb van raktáron!&nbsp;</span> \n",
                "\n",
                "a. Csak a termék kódja és megnevezése jelenjen meg!"
            ],
            "metadata": {
                "azdata_cell_guid": "b0d15045-3c43-4f3a-b8d4-76b4f24e5546"
            },
            "attachments": {}
        },
        {
            "cell_type": "code",
            "source": [
                "SELECT TERMEKKOD, MEGNEVEZES\r\n",
                "FROM Termek\r\n",
                "WHERE KESZLET < (\r\n",
                "\r\n",
                "SELECT AVG(KESZLET)\r\n",
                "FROM Termek\r\n",
                ")"
            ],
            "metadata": {
                "azdata_cell_guid": "1d757334-19a8-41a3-bb55-616ab898b930",
                "language": "sql"
            },
            "outputs": [
                {
                    "output_type": "display_data",
                    "data": {
                        "text/html": "(437 rows affected)"
                    },
                    "metadata": {}
                },
                {
                    "output_type": "display_data",
                    "data": {
                        "text/html": "Total execution time: 00:00:00.102"
                    },
                    "metadata": {}
                },
                {
                    "output_type": "execute_result",
                    "metadata": {},
                    "execution_count": 14,
                    "data": {
                        "application/vnd.dataresource+json": {
                            "schema": {
                                "fields": [
                                    {
                                        "name": "TERMEKKOD"
                                    },
                                    {
                                        "name": "MEGNEVEZES"
                                    }
                                ]
                            },
                            "data": [
                                {
                                    "TERMEKKOD": "01010110T",
                                    "MEGNEVEZES": "Fotópapír A/4 fényes"
                                },
                                {
                                    "TERMEKKOD": "01010304T",
                                    "MEGNEVEZES": "Öntapadós hologramos papír A/4"
                                },
                                {
                                    "TERMEKKOD": "01020300T",
                                    "MEGNEVEZES": "Oklevél A/4 színes"
                                },
                                {
                                    "TERMEKKOD": "01030091T",
                                    "MEGNEVEZES": "Emléklap A/5"
                                },
                                {
                                    "TERMEKKOD": "01030092T",
                                    "MEGNEVEZES": "Esküvői meghívó"
                                },
                                {
                                    "TERMEKKOD": "01040307T",
                                    "MEGNEVEZES": "Pausz papír A/4"
                                },
                                {
                                    "TERMEKKOD": "01040502T",
                                    "MEGNEVEZES": "Előlap spirálhoz"
                                },
                                {
                                    "TERMEKKOD": "01080093T",
                                    "MEGNEVEZES": "Fax papír 15 m"
                                },
                                {
                                    "TERMEKKOD": "01080512T",
                                    "MEGNEVEZES": "Öntapadó A/4"
                                },
                                {
                                    "TERMEKKOD": "01080513T",
                                    "MEGNEVEZES": "Selyemfényű karton A/4"
                                },
                                {
                                    "TERMEKKOD": "01090499T",
                                    "MEGNEVEZES": "Color Copy A/4 250 g"
                                },
                                {
                                    "TERMEKKOD": "01090500T",
                                    "MEGNEVEZES": "Color Copy A4 200 g"
                                },
                                {
                                    "TERMEKKOD": "01090501T",
                                    "MEGNEVEZES": "Kreatív A/4 300g "
                                },
                                {
                                    "TERMEKKOD": "01090515T",
                                    "MEGNEVEZES": "Színes A/3 160 gr IQ"
                                },
                                {
                                    "TERMEKKOD": "01090516T",
                                    "MEGNEVEZES": "Színes karton A4"
                                },
                                {
                                    "TERMEKKOD": "01090517T",
                                    "MEGNEVEZES": "Színes ofszet B/4"
                                },
                                {
                                    "TERMEKKOD": "01100070T",
                                    "MEGNEVEZES": "Dekorációs karton"
                                },
                                {
                                    "TERMEKKOD": "01100072T",
                                    "MEGNEVEZES": "Dipa A/4 keretezett"
                                },
                                {
                                    "TERMEKKOD": "01100094T",
                                    "MEGNEVEZES": "Fénymásoló papír DataCopy"
                                },
                                {
                                    "TERMEKKOD": "01100095T",
                                    "MEGNEVEZES": "Fénymásoló papír GetCopy"
                                },
                                {
                                    "TERMEKKOD": "01100096T",
                                    "MEGNEVEZES": "Fénymásoló papír Qconnect"
                                },
                                {
                                    "TERMEKKOD": "01100496T",
                                    "MEGNEVEZES": "Színes másoló a/4 80g"
                                },
                                {
                                    "TERMEKKOD": "01100497T",
                                    "MEGNEVEZES": "Color Copy 160 g-os "
                                },
                                {
                                    "TERMEKKOD": "01100503T",
                                    "MEGNEVEZES": "Color Copy A4 120 g"
                                },
                                {
                                    "TERMEKKOD": "01100504T",
                                    "MEGNEVEZES": "Fehér másoló A/3"
                                },
                                {
                                    "TERMEKKOD": "01100505T",
                                    "MEGNEVEZES": "Fehér másoló A/4"
                                },
                                {
                                    "TERMEKKOD": "01100509T",
                                    "MEGNEVEZES": "Márványos A/4"
                                },
                                {
                                    "TERMEKKOD": "01100510T",
                                    "MEGNEVEZES": "Kreatív A/4 120g "
                                },
                                {
                                    "TERMEKKOD": "02010028T",
                                    "MEGNEVEZES": "Árazószalag "
                                },
                                {
                                    "TERMEKKOD": "02020029T",
                                    "MEGNEVEZES": "Átírótömb A/6"
                                },
                                {
                                    "TERMEKKOD": "02020032T",
                                    "MEGNEVEZES": "Beírókönyv A5 "
                                },
                                {
                                    "TERMEKKOD": "02020033T",
                                    "MEGNEVEZES": "Beírókönyv A4"
                                },
                                {
                                    "TERMEKKOD": "02020037T",
                                    "MEGNEVEZES": "Bevételi pénztárbizonylat 3×25"
                                },
                                {
                                    "TERMEKKOD": "02020245T",
                                    "MEGNEVEZES": "Kiadási pénztárbizonylat 2×25"
                                },
                                {
                                    "TERMEKKOD": "02030040T",
                                    "MEGNEVEZES": "Boríték LA 4 francia"
                                },
                                {
                                    "TERMEKKOD": "02040025T",
                                    "MEGNEVEZES": "Álló irattartó karton"
                                },
                                {
                                    "TERMEKKOD": "02040145T",
                                    "MEGNEVEZES": "Gemkapocs 28 mm"
                                },
                                {
                                    "TERMEKKOD": "02040147T",
                                    "MEGNEVEZES": "Genotherm lefűzhető A/5"
                                },
                                {
                                    "TERMEKKOD": "02040148T",
                                    "MEGNEVEZES": "Genotherm lefűzhető A4 10db-os"
                                },
                                {
                                    "TERMEKKOD": "02040176T",
                                    "MEGNEVEZES": "Gyorsfűző dosszié fehér"
                                },
                                {
                                    "TERMEKKOD": "02040177T",
                                    "MEGNEVEZES": "Gyorsfűző műa."
                                },
                                {
                                    "TERMEKKOD": "02040178T",
                                    "MEGNEVEZES": "Gyorsfűző műa."
                                },
                                {
                                    "TERMEKKOD": "02040194T",
                                    "MEGNEVEZES": "Hibajav.roll.Pritt 4,2mm"
                                },
                                {
                                    "TERMEKKOD": "02040195T",
                                    "MEGNEVEZES": "Hibajavító ecsetes Aqua"
                                },
                                {
                                    "TERMEKKOD": "02040196T",
                                    "MEGNEVEZES": "Hibajavító készlet Blanco"
                                },
                                {
                                    "TERMEKKOD": "02040197T",
                                    "MEGNEVEZES": "Hibajavító lap "
                                },
                                {
                                    "TERMEKKOD": "02040198T",
                                    "MEGNEVEZES": "Hibajavító roller 5 mm"
                                },
                                {
                                    "TERMEKKOD": "02040199T",
                                    "MEGNEVEZES": "Hibajavító roller Pax"
                                },
                                {
                                    "TERMEKKOD": "02040200T",
                                    "MEGNEVEZES": "Hibajavító Kores mini pen"
                                },
                                {
                                    "TERMEKKOD": "02040206T",
                                    "MEGNEVEZES": "Írásvetítő fólia"
                                },
                                {
                                    "TERMEKKOD": "02040207T",
                                    "MEGNEVEZES": "Iratgyűjtő ESSELTE ablakos"
                                },
                                {
                                    "TERMEKKOD": "02040208T",
                                    "MEGNEVEZES": "Iratgyűjtő fehér"
                                },
                                {
                                    "TERMEKKOD": "02040209T",
                                    "MEGNEVEZES": "Iratsín fehér"
                                },
                                {
                                    "TERMEKKOD": "02040211T",
                                    "MEGNEVEZES": "Iratrendező ESSELTE"
                                },
                                {
                                    "TERMEKKOD": "02040214T",
                                    "MEGNEVEZES": "Iromány fedél feles"
                                },
                                {
                                    "TERMEKKOD": "02040290T",
                                    "MEGNEVEZES": "Naptár 24-es"
                                },
                                {
                                    "TERMEKKOD": "02040291T",
                                    "MEGNEVEZES": "Naptárhát kicsi"
                                },
                                {
                                    "TERMEKKOD": "02040294T",
                                    "MEGNEVEZES": "Notesz A/5 sima"
                                },
                                {
                                    "TERMEKKOD": "02040298T",
                                    "MEGNEVEZES": "Notesz mintás"
                                },
                                {
                                    "TERMEKKOD": "02040308T",
                                    "MEGNEVEZES": "Pénztárgépsz. 2 pl. nem öníró"
                                },
                                {
                                    "TERMEKKOD": "02040309T",
                                    "MEGNEVEZES": "Pénztárgépszalag 2pl SC 57.5/60"
                                },
                                {
                                    "TERMEKKOD": "02040401T",
                                    "MEGNEVEZES": "Tűzőgép Boxer 10"
                                },
                                {
                                    "TERMEKKOD": "02040402T",
                                    "MEGNEVEZES": "Tűzőgép Boxer "
                                },
                                {
                                    "TERMEKKOD": "02040403T",
                                    "MEGNEVEZES": "Tűzőgép SAX 239"
                                },
                                {
                                    "TERMEKKOD": "02040404T",
                                    "MEGNEVEZES": "Tűzőgép EAGLE"
                                },
                                {
                                    "TERMEKKOD": "02040405T",
                                    "MEGNEVEZES": "Tűzőkapocs 10-es"
                                },
                                {
                                    "TERMEKKOD": "02040506T",
                                    "MEGNEVEZES": "Fólia tasakos A4 125 mik."
                                },
                                {
                                    "TERMEKKOD": "02040507T",
                                    "MEGNEVEZES": "Fólia tasakos A4 80 mik."
                                },
                                {
                                    "TERMEKKOD": "02040508T",
                                    "MEGNEVEZES": "Fólia tasakos A4100 mik."
                                },
                                {
                                    "TERMEKKOD": "02050460T",
                                    "MEGNEVEZES": "Boríték C/4-es"
                                },
                                {
                                    "TERMEKKOD": "02050461T",
                                    "MEGNEVEZES": "Boríték B/4-es"
                                },
                                {
                                    "TERMEKKOD": "02060034T",
                                    "MEGNEVEZES": "Bélyegzőfesték "
                                },
                                {
                                    "TERMEKKOD": "02060038T",
                                    "MEGNEVEZES": "Bélyegző IDEAL 50"
                                },
                                {
                                    "TERMEKKOD": "02060039T",
                                    "MEGNEVEZES": "Bélyegző párna"
                                },
                                {
                                    "TERMEKKOD": "02060447T",
                                    "MEGNEVEZES": "Bélyegző pocket"
                                },
                                {
                                    "TERMEKKOD": "02060448T",
                                    "MEGNEVEZES": "Bélyegző RP 18-47"
                                },
                                {
                                    "TERMEKKOD": "02080069T",
                                    "MEGNEVEZES": "CD tartó tok"
                                },
                                {
                                    "TERMEKKOD": "02080081T",
                                    "MEGNEVEZES": "Dvd"
                                },
                                {
                                    "TERMEKKOD": "02080109T",
                                    "MEGNEVEZES": "Floppy lemez"
                                },
                                {
                                    "TERMEKKOD": "02080226T",
                                    "MEGNEVEZES": "Kapocskiszedő"
                                },
                                {
                                    "TERMEKKOD": "02080431T",
                                    "MEGNEVEZES": "Álló irattartó"
                                },
                                {
                                    "TERMEKKOD": "02080432T",
                                    "MEGNEVEZES": "Tokos iratrendező"
                                },
                                {
                                    "TERMEKKOD": "02080433T",
                                    "MEGNEVEZES": "Ragasztószalag 19 mm-es"
                                },
                                {
                                    "TERMEKKOD": "02080434T",
                                    "MEGNEVEZES": "Mappa müa A/4"
                                },
                                {
                                    "TERMEKKOD": "02080436T",
                                    "MEGNEVEZES": "Irattartó müa. boríték A/4"
                                },
                                {
                                    "TERMEKKOD": "02080449T",
                                    "MEGNEVEZES": "Térképtű színes"
                                },
                                {
                                    "TERMEKKOD": "02080450T",
                                    "MEGNEVEZES": "Gémkapocs 28-as színes"
                                },
                                {
                                    "TERMEKKOD": "02080451T",
                                    "MEGNEVEZES": "Gémkapocs 50-es"
                                },
                                {
                                    "TERMEKKOD": "02080452T",
                                    "MEGNEVEZES": "Tűzőgép mini"
                                },
                                {
                                    "TERMEKKOD": "02080453T",
                                    "MEGNEVEZES": "Lyukasztó EAGLE"
                                },
                                {
                                    "TERMEKKOD": "02080454T",
                                    "MEGNEVEZES": "Lyukasztó BOXER"
                                },
                                {
                                    "TERMEKKOD": "02080455T",
                                    "MEGNEVEZES": "Festékpatron BCI-3BK"
                                },
                                {
                                    "TERMEKKOD": "02080456T",
                                    "MEGNEVEZES": "Genoterm HERLITZ 10-es"
                                },
                                {
                                    "TERMEKKOD": "02080511T",
                                    "MEGNEVEZES": "Oki toner C"
                                },
                                {
                                    "TERMEKKOD": "02080514T",
                                    "MEGNEVEZES": "Spirál 1/4 "
                                },
                                {
                                    "TERMEKKOD": "03010342T",
                                    "MEGNEVEZES": "Ragasztószalag  TIXO"
                                },
                                {
                                    "TERMEKKOD": "03010344T",
                                    "MEGNEVEZES": "Ragasztószalag nagy 12 mm"
                                },
                                {
                                    "TERMEKKOD": "03010345T",
                                    "MEGNEVEZES": "Ragasztószalag széles barna"
                                },
                                {
                                    "TERMEKKOD": "03050076T",
                                    "MEGNEVEZES": "Díszkötöző szalag metál nagy"
                                },
                                {
                                    "TERMEKKOD": "03050077T",
                                    "MEGNEVEZES": "Diszkötöző szalag arany"
                                },
                                {
                                    "TERMEKKOD": "03050078T",
                                    "MEGNEVEZES": "Díszkötöző szalag metál kicsi"
                                },
                                {
                                    "TERMEKKOD": "03080003T",
                                    "MEGNEVEZES": "Ajándék cs. tasak italos"
                                },
                                {
                                    "TERMEKKOD": "03080004T",
                                    "MEGNEVEZES": "Ajándék cs. tasak italos, fólia"
                                },
                                {
                                    "TERMEKKOD": "03080006T",
                                    "MEGNEVEZES": "Ajándék cs. tasak mintás kicsi"
                                },
                                {
                                    "TERMEKKOD": "03080009T",
                                    "MEGNEVEZES": "Ajándék csom. 100x70 metál"
                                },
                                {
                                    "TERMEKKOD": "03080012T",
                                    "MEGNEVEZES": "Ajándék csom. 200x70"
                                },
                                {
                                    "TERMEKKOD": "03080013T",
                                    "MEGNEVEZES": "Ajándék csom. 50x70 húsvéti"
                                },
                                {
                                    "TERMEKKOD": "03080014T",
                                    "MEGNEVEZES": "Ajándék csom. 70x50 metál"
                                },
                                {
                                    "TERMEKKOD": "03080015T",
                                    "MEGNEVEZES": "Ajándék csom. gyűrt"
                                },
                                {
                                    "TERMEKKOD": "03080016T",
                                    "MEGNEVEZES": "házt.csom.  5 ív"
                                },
                                {
                                    "TERMEKKOD": "03080017T",
                                    "MEGNEVEZES": "iskolai csomagoló papír"
                                },
                                {
                                    "TERMEKKOD": "03080019T",
                                    "MEGNEVEZES": "Ajándék csom. Krepp"
                                },
                                {
                                    "TERMEKKOD": "03080020T",
                                    "MEGNEVEZES": "Ajándék csom. nagy  "
                                },
                                {
                                    "TERMEKKOD": "03080021T",
                                    "MEGNEVEZES": "Ajándék csom. vékony"
                                },
                                {
                                    "TERMEKKOD": "03080030T",
                                    "MEGNEVEZES": "Ajándék cs. húsvéti 200x70"
                                },
                                {
                                    "TERMEKKOD": "03080439T",
                                    "MEGNEVEZES": "Italtartó doboz"
                                },
                                {
                                    "TERMEKKOD": "04020445T",
                                    "MEGNEVEZES": "Határidő napló 2010-s"
                                },
                                {
                                    "TERMEKKOD": "04030235T",
                                    "MEGNEVEZES": "Képeslap karácsonyi borítékos"
                                },
                                {
                                    "TERMEKKOD": "04030237T",
                                    "MEGNEVEZES": "Képeslap kerek"
                                },
                                {
                                    "TERMEKKOD": "04030238T",
                                    "MEGNEVEZES": "Képeslap stancolt"
                                },
                                {
                                    "TERMEKKOD": "04030239T",
                                    "MEGNEVEZES": "Képeslap stancolt szív"
                                },
                                {
                                    "TERMEKKOD": "04030243T",
                                    "MEGNEVEZES": "Képkirakó Dirib-darab"
                                },
                                {
                                    "TERMEKKOD": "04030261T",
                                    "MEGNEVEZES": "Levélpapír állatos"
                                },
                                {
                                    "TERMEKKOD": "04030262T",
                                    "MEGNEVEZES": "Levélpapír sima"
                                },
                                {
                                    "TERMEKKOD": "04030263T",
                                    "MEGNEVEZES": "Levélpapír szett"
                                },
                                {
                                    "TERMEKKOD": "04030264T",
                                    "MEGNEVEZES": "Levélpapír szett "
                                },
                                {
                                    "TERMEKKOD": "04030265T",
                                    "MEGNEVEZES": "Levélpapír szett natur, mintás"
                                },
                                {
                                    "TERMEKKOD": "04030266T",
                                    "MEGNEVEZES": "Levélpapír szett virágos"
                                },
                                {
                                    "TERMEKKOD": "04030285T",
                                    "MEGNEVEZES": "Mikulás zacskó"
                                },
                                {
                                    "TERMEKKOD": "04030286T",
                                    "MEGNEVEZES": "Műanyag állatok"
                                },
                                {
                                    "TERMEKKOD": "04030288T",
                                    "MEGNEVEZES": "Műanyag pohár 1 dl-es"
                                },
                                {
                                    "TERMEKKOD": "04040387T",
                                    "MEGNEVEZES": "Tenisz labda"
                                },
                                {
                                    "TERMEKKOD": "04050022T",
                                    "MEGNEVEZES": "Álarc"
                                },
                                {
                                    "TERMEKKOD": "04050023T",
                                    "MEGNEVEZES": "Álarc fejdísz"
                                },
                                {
                                    "TERMEKKOD": "04050024T",
                                    "MEGNEVEZES": "Álarc szemüveg"
                                },
                                {
                                    "TERMEKKOD": "04050035T",
                                    "MEGNEVEZES": "Bérlet tok"
                                },
                                {
                                    "TERMEKKOD": "04050073T",
                                    "MEGNEVEZES": "Díszdoboz kar."
                                },
                                {
                                    "TERMEKKOD": "04050074T",
                                    "MEGNEVEZES": "Díszdoboz tollnak 2 db-os"
                                },
                                {
                                    "TERMEKKOD": "04050075T",
                                    "MEGNEVEZES": "Díszdoboz tollnak 2 db-os keskeny"
                                },
                                {
                                    "TERMEKKOD": "04050171T",
                                    "MEGNEVEZES": "Gumilabda közepes"
                                },
                                {
                                    "TERMEKKOD": "04050187T",
                                    "MEGNEVEZES": "Hajgumi macis"
                                },
                                {
                                    "TERMEKKOD": "04050203T",
                                    "MEGNEVEZES": "Hűtőmágnes"
                                },
                                {
                                    "TERMEKKOD": "04050204T",
                                    "MEGNEVEZES": "Hűtőmágnes WD"
                                },
                                {
                                    "TERMEKKOD": "04050220T",
                                    "MEGNEVEZES": "Játék autó"
                                },
                                {
                                    "TERMEKKOD": "04050221T",
                                    "MEGNEVEZES": "Játékautó Blisteres"
                                },
                                {
                                    "TERMEKKOD": "04050222T",
                                    "MEGNEVEZES": "Játékautó elemes"
                                },
                                {
                                    "TERMEKKOD": "04050223T",
                                    "MEGNEVEZES": "Játékautó mini"
                                },
                                {
                                    "TERMEKKOD": "04050224T",
                                    "MEGNEVEZES": "Jelzőkréta"
                                },
                                {
                                    "TERMEKKOD": "04050252T",
                                    "MEGNEVEZES": "Kulcstartó Csőrikés"
                                },
                                {
                                    "TERMEKKOD": "04050253T",
                                    "MEGNEVEZES": "Kulcstartó figurás"
                                },
                                {
                                    "TERMEKKOD": "04050254T",
                                    "MEGNEVEZES": "Kulcstartó intarziás állatos"
                                },
                                {
                                    "TERMEKKOD": "04050269T",
                                    "MEGNEVEZES": "Lufi hullámos"
                                },
                                {
                                    "TERMEKKOD": "04050320T",
                                    "MEGNEVEZES": "Plüss  QX állatok"
                                },
                                {
                                    "TERMEKKOD": "04050322T",
                                    "MEGNEVEZES": "Plüss sárkány"
                                },
                                {
                                    "TERMEKKOD": "04050358T",
                                    "MEGNEVEZES": "Strandlabda "
                                },
                                {
                                    "TERMEKKOD": "04080270T",
                                    "MEGNEVEZES": "Mappa bőr A5"
                                },
                                {
                                    "TERMEKKOD": "04080271T",
                                    "MEGNEVEZES": "Mappa PVC villámzáras"
                                },
                                {
                                    "TERMEKKOD": "04080272T",
                                    "MEGNEVEZES": "Mappa PVC villámzáras  képes"
                                },
                                {
                                    "TERMEKKOD": "04080443T",
                                    "MEGNEVEZES": "Emlékkönyv lakatos"
                                },
                                {
                                    "TERMEKKOD": "04110066T",
                                    "MEGNEVEZES": "Címke 8 db-os"
                                },
                                {
                                    "TERMEKKOD": "04110067T",
                                    "MEGNEVEZES": "Címke WD. állat"
                                },
                                {
                                    "TERMEKKOD": "04110068T",
                                    "MEGNEVEZES": "Címke egyszínű"
                                },
                                {
                                    "TERMEKKOD": "04110227T",
                                    "MEGNEVEZES": "Képeslap  borítékos"
                                },
                                {
                                    "TERMEKKOD": "04110228T",
                                    "MEGNEVEZES": "Képeslap \"Nászajándék\""
                                },
                                {
                                    "TERMEKKOD": "04110229T",
                                    "MEGNEVEZES": "Képeslap \"Részvét\""
                                },
                                {
                                    "TERMEKKOD": "04110230T",
                                    "MEGNEVEZES": "Képeslap humoros "
                                },
                                {
                                    "TERMEKKOD": "04110231T",
                                    "MEGNEVEZES": "Képeslap humoros borítékos"
                                },
                                {
                                    "TERMEKKOD": "04110232T",
                                    "MEGNEVEZES": "Képeslap humoros kaparós"
                                },
                                {
                                    "TERMEKKOD": "04110233T",
                                    "MEGNEVEZES": "Képeslap humoros"
                                },
                                {
                                    "TERMEKKOD": "04110258T",
                                    "MEGNEVEZES": "Lampion"
                                },
                                {
                                    "TERMEKKOD": "04110274T",
                                    "MEGNEVEZES": "Matrica autóra H"
                                },
                                {
                                    "TERMEKKOD": "04110275T",
                                    "MEGNEVEZES": "Matrica motoros kicsi"
                                },
                                {
                                    "TERMEKKOD": "04110276T",
                                    "MEGNEVEZES": "Matrica Stickers nagy állatos"
                                },
                                {
                                    "TERMEKKOD": "04110277T",
                                    "MEGNEVEZES": "Matrica Stickers szíves"
                                },
                                {
                                    "TERMEKKOD": "04110278T",
                                    "MEGNEVEZES": "Matrica Test ékszer tattoo"
                                },
                                {
                                    "TERMEKKOD": "04110279T",
                                    "MEGNEVEZES": "Matrica tetoválás"
                                },
                                {
                                    "TERMEKKOD": "04110280T",
                                    "MEGNEVEZES": "Matrica tetoválós kicsi"
                                },
                                {
                                    "TERMEKKOD": "04110281T",
                                    "MEGNEVEZES": "Matrica világítós "
                                },
                                {
                                    "TERMEKKOD": "04110282T",
                                    "MEGNEVEZES": "Matrica WD kicsi"
                                },
                                {
                                    "TERMEKKOD": "04110283T",
                                    "MEGNEVEZES": "Meghívó állatos"
                                },
                                {
                                    "TERMEKKOD": "04110284T",
                                    "MEGNEVEZES": "Meghívó borítékos"
                                },
                                {
                                    "TERMEKKOD": "04110362T",
                                    "MEGNEVEZES": "Szalvéta gyűjtőknek"
                                },
                                {
                                    "TERMEKKOD": "05010026T",
                                    "MEGNEVEZES": "Alufólia 10 m-es"
                                },
                                {
                                    "TERMEKKOD": "05010369T",
                                    "MEGNEVEZES": "Szemetes zsák 60 literes"
                                },
                                {
                                    "TERMEKKOD": "05010370T",
                                    "MEGNEVEZES": "Szilvia csomagoló"
                                },
                                {
                                    "TERMEKKOD": "05040310T",
                                    "MEGNEVEZES": "Pill.ragasztó"
                                },
                                {
                                    "TERMEKKOD": "05040348T",
                                    "MEGNEVEZES": "Rajzszeg színes"
                                },
                                {
                                    "TERMEKKOD": "05040349T",
                                    "MEGNEVEZES": "Rajzszeg"
                                },
                                {
                                    "TERMEKKOD": "05050045T",
                                    "MEGNEVEZES": "Celofán"
                                },
                                {
                                    "TERMEKKOD": "05050046T",
                                    "MEGNEVEZES": "Celofán 50 db-os"
                                },
                                {
                                    "TERMEKKOD": "05050170T",
                                    "MEGNEVEZES": "Gumigyűrű"
                                },
                                {
                                    "TERMEKKOD": "05050346T",
                                    "MEGNEVEZES": "Rágógumi Orbit"
                                },
                                {
                                    "TERMEKKOD": "05080340T",
                                    "MEGNEVEZES": "Ragasztó, Technokol 35g kék"
                                },
                                {
                                    "TERMEKKOD": "05080341T",
                                    "MEGNEVEZES": "Ragasztó, Technokol 35g piros"
                                },
                                {
                                    "TERMEKKOD": "05110359T",
                                    "MEGNEVEZES": "Szalvéta "
                                },
                                {
                                    "TERMEKKOD": "05110360T",
                                    "MEGNEVEZES": "Szalvéta egyszínű"
                                },
                                {
                                    "TERMEKKOD": "05110361T",
                                    "MEGNEVEZES": "Szalvéta Goma húsvéti"
                                },
                                {
                                    "TERMEKKOD": "05110363T",
                                    "MEGNEVEZES": "Szalvéta dekor"
                                },
                                {
                                    "TERMEKKOD": "05110364T",
                                    "MEGNEVEZES": "Szalvéta kicsi virágos"
                                },
                                {
                                    "TERMEKKOD": "06010036T",
                                    "MEGNEVEZES": "Betűtartó sin"
                                },
                                {
                                    "TERMEKKOD": "06010082T",
                                    "MEGNEVEZES": "Ecset Centrum 10,11,12"
                                },
                                {
                                    "TERMEKKOD": "06010083T",
                                    "MEGNEVEZES": "Ecset Centrum 7,8,9"
                                },
                                {
                                    "TERMEKKOD": "06010084T",
                                    "MEGNEVEZES": "Ecset Deák 2-es"
                                },
                                {
                                    "TERMEKKOD": "06010085T",
                                    "MEGNEVEZES": "Ecset Lizzy 10-es"
                                },
                                {
                                    "TERMEKKOD": "06010111T",
                                    "MEGNEVEZES": "Füzet  A/4 "
                                },
                                {
                                    "TERMEKKOD": "06010112T",
                                    "MEGNEVEZES": "Füzet  A4 mintás"
                                },
                                {
                                    "TERMEKKOD": "06010114T",
                                    "MEGNEVEZES": "Füzet A/5 hangjegy 36/16"
                                },
                                {
                                    "TERMEKKOD": "06010115T",
                                    "MEGNEVEZES": "Füzet A/5, mintás"
                                },
                                {
                                    "TERMEKKOD": "06010201T",
                                    "MEGNEVEZES": "Hőmérő, műa."
                                },
                                {
                                    "TERMEKKOD": "06010202T",
                                    "MEGNEVEZES": "Hurkapálca 10 db-os"
                                },
                                {
                                    "TERMEKKOD": "06010305T",
                                    "MEGNEVEZES": "Papírcenti 100 cm-es"
                                },
                                {
                                    "TERMEKKOD": "06010365T",
                                    "MEGNEVEZES": "Számegyenes"
                                },
                                {
                                    "TERMEKKOD": "06010366T",
                                    "MEGNEVEZES": "Számológép Roxin"
                                },
                                {
                                    "TERMEKKOD": "06010367T",
                                    "MEGNEVEZES": "Számolókorong"
                                },
                                {
                                    "TERMEKKOD": "06010368T",
                                    "MEGNEVEZES": "Számolópálca"
                                },
                                {
                                    "TERMEKKOD": "06010375T",
                                    "MEGNEVEZES": "Szögmérő 180 fokos műa."
                                },
                                {
                                    "TERMEKKOD": "06010376T",
                                    "MEGNEVEZES": "Szögmérő papír"
                                },
                                {
                                    "TERMEKKOD": "06010377T",
                                    "MEGNEVEZES": "Szögmérő színes"
                                },
                                {
                                    "TERMEKKOD": "06040089T",
                                    "MEGNEVEZES": "Ellenőrzőborító"
                                },
                                {
                                    "TERMEKKOD": "06040175T",
                                    "MEGNEVEZES": "Gumis mappa Köbüki"
                                },
                                {
                                    "TERMEKKOD": "06040179T",
                                    "MEGNEVEZES": "Gyurma színes 200 g-os"
                                },
                                {
                                    "TERMEKKOD": "06040180T",
                                    "MEGNEVEZES": "Gyurma színes natúr"
                                },
                                {
                                    "TERMEKKOD": "06040183T",
                                    "MEGNEVEZES": "Gyűrűskönyv bet. A/5"
                                },
                                {
                                    "TERMEKKOD": "06040184T",
                                    "MEGNEVEZES": "Gyűrűskönyv betét A/5"
                                },
                                {
                                    "TERMEKKOD": "06040186T",
                                    "MEGNEVEZES": "Gyűrűskönyv színes"
                                },
                                {
                                    "TERMEKKOD": "06040205T",
                                    "MEGNEVEZES": "Indigó Pelikán"
                                },
                                {
                                    "TERMEKKOD": "06040206T",
                                    "MEGNEVEZES": "kék indigó"
                                },
                                {
                                    "TERMEKKOD": "06040212T",
                                    "MEGNEVEZES": "Írólap 10-50 ffam."
                                },
                                {
                                    "TERMEKKOD": "06040213T",
                                    "MEGNEVEZES": "Írólap 20-50 "
                                },
                                {
                                    "TERMEKKOD": "06040246T",
                                    "MEGNEVEZES": "Körző"
                                },
                                {
                                    "TERMEKKOD": "06040248T",
                                    "MEGNEVEZES": "Körző maped"
                                },
                                {
                                    "TERMEKKOD": "06040323T",
                                    "MEGNEVEZES": "Post-it 51×38 100 lapos"
                                },
                                {
                                    "TERMEKKOD": "06040324T",
                                    "MEGNEVEZES": "Post-it 75×75 100 lapos"
                                },
                                {
                                    "TERMEKKOD": "06040326T",
                                    "MEGNEVEZES": "Radír KOH-I-NOR 80"
                                },
                                {
                                    "TERMEKKOD": "06040330T",
                                    "MEGNEVEZES": "Radír Tikky 30 "
                                },
                                {
                                    "TERMEKKOD": "06040331T",
                                    "MEGNEVEZES": "Radír Tikky 40 "
                                },
                                {
                                    "TERMEKKOD": "06040347T",
                                    "MEGNEVEZES": "Rajzlap A/4 10db ffam."
                                },
                                {
                                    "TERMEKKOD": "06040350T",
                                    "MEGNEVEZES": "Regiszteres füzet A4"
                                },
                                {
                                    "TERMEKKOD": "06040351T",
                                    "MEGNEVEZES": "Regiszteres füzet A5 Hightech"
                                },
                                {
                                    "TERMEKKOD": "06040352T",
                                    "MEGNEVEZES": "Rovatolt papír 20 íves"
                                },
                                {
                                    "TERMEKKOD": "06040353T",
                                    "MEGNEVEZES": "Sorvezető"
                                },
                                {
                                    "TERMEKKOD": "06040354T",
                                    "MEGNEVEZES": "Sp.Füzet A/4  perforált, lyuk."
                                },
                                {
                                    "TERMEKKOD": "06040355T",
                                    "MEGNEVEZES": "Sp.Füzet A/4 70-as"
                                },
                                {
                                    "TERMEKKOD": "06040356T",
                                    "MEGNEVEZES": "Sp.Füzet A/4  70es"
                                },
                                {
                                    "TERMEKKOD": "06040378T",
                                    "MEGNEVEZES": "Szövegkiemelő vékony"
                                },
                                {
                                    "TERMEKKOD": "06040379T",
                                    "MEGNEVEZES": "Szövegkiemelő "
                                },
                                {
                                    "TERMEKKOD": "06040380T",
                                    "MEGNEVEZES": "Szövegkiemelő"
                                },
                                {
                                    "TERMEKKOD": "06040381T",
                                    "MEGNEVEZES": "Szövegkiemelő Videotip"
                                },
                                {
                                    "TERMEKKOD": "06040382T",
                                    "MEGNEVEZES": "Táblafilc"
                                },
                                {
                                    "TERMEKKOD": "06040383T",
                                    "MEGNEVEZES": "Taffet papír"
                                },
                                {
                                    "TERMEKKOD": "06040384T",
                                    "MEGNEVEZES": "Technika cs. I-II-III-IV"
                                },
                                {
                                    "TERMEKKOD": "06040385T",
                                    "MEGNEVEZES": "Tempera szóló ezüst"
                                },
                                {
                                    "TERMEKKOD": "06040386T",
                                    "MEGNEVEZES": "Tempera szóló színes"
                                },
                                {
                                    "TERMEKKOD": "06040392T",
                                    "MEGNEVEZES": "Tolltartó 1 zipzáros"
                                },
                                {
                                    "TERMEKKOD": "06040393T",
                                    "MEGNEVEZES": "Tolltartó 2 részes NG."
                                },
                                {
                                    "TERMEKKOD": "06040394T",
                                    "MEGNEVEZES": "Tolltartó zipzáras"
                                },
                                {
                                    "TERMEKKOD": "06040395T",
                                    "MEGNEVEZES": "Tolltartó 2 zipzáros töltött"
                                },
                                {
                                    "TERMEKKOD": "06040397T",
                                    "MEGNEVEZES": "Tolltartó asztali"
                                },
                                {
                                    "TERMEKKOD": "06040398T",
                                    "MEGNEVEZES": "Tolltartó hengeres "
                                },
                                {
                                    "TERMEKKOD": "06040399T",
                                    "MEGNEVEZES": "Tombola tömb"
                                },
                                {
                                    "TERMEKKOD": "06040400T",
                                    "MEGNEVEZES": "Tornazsák"
                                },
                                {
                                    "TERMEKKOD": "06040446T",
                                    "MEGNEVEZES": "Számológép tudományos"
                                },
                                {
                                    "TERMEKKOD": "06050249T",
                                    "MEGNEVEZES": "Krepp papír"
                                },
                                {
                                    "TERMEKKOD": "06050301T",
                                    "MEGNEVEZES": "Olló gyerek "
                                },
                                {
                                    "TERMEKKOD": "06050302T",
                                    "MEGNEVEZES": "Olló Tagit 18 cm-es"
                                },
                                {
                                    "TERMEKKOD": "06050303T",
                                    "MEGNEVEZES": "Olló, iskolai"
                                },
                                {
                                    "TERMEKKOD": "06080116T",
                                    "MEGNEVEZES": "Füzet A5 1-8 osz.-ig"
                                },
                                {
                                    "TERMEKKOD": "06080117T",
                                    "MEGNEVEZES": "Füzetborító A/4 átlátszó"
                                },
                                {
                                    "TERMEKKOD": "06080118T",
                                    "MEGNEVEZES": "Füzetborító átlátszó A5"
                                },
                                {
                                    "TERMEKKOD": "06080119T",
                                    "MEGNEVEZES": "Füzetborító mesefig."
                                },
                                {
                                    "TERMEKKOD": "06080120T",
                                    "MEGNEVEZES": "Füzetborító öntapadó kicsi"
                                },
                                {
                                    "TERMEKKOD": "06080121T",
                                    "MEGNEVEZES": "Füzetborító öntapadó tekercses"
                                },
                                {
                                    "TERMEKKOD": "06080122T",
                                    "MEGNEVEZES": "Füzetborító öntapadós nagy"
                                },
                                {
                                    "TERMEKKOD": "06080124T",
                                    "MEGNEVEZES": "Füzettartó A/4 keménytáblás"
                                },
                                {
                                    "TERMEKKOD": "06080125T",
                                    "MEGNEVEZES": "Füzettartó A/5 vastag"
                                },
                                {
                                    "TERMEKKOD": "06080126T",
                                    "MEGNEVEZES": "Füzettartó A/5  "
                                },
                                {
                                    "TERMEKKOD": "06080188T",
                                    "MEGNEVEZES": "Hegyező gép"
                                },
                                {
                                    "TERMEKKOD": "06080189T",
                                    "MEGNEVEZES": "Hegyező műanyag dupla"
                                },
                                {
                                    "TERMEKKOD": "06080190T",
                                    "MEGNEVEZES": "Hegyező műanyag egyes"
                                },
                                {
                                    "TERMEKKOD": "06080191T",
                                    "MEGNEVEZES": "Hegyező tartályos egyes"
                                },
                                {
                                    "TERMEKKOD": "06080192T",
                                    "MEGNEVEZES": "Hegyző fém 1 lyukú"
                                },
                                {
                                    "TERMEKKOD": "06080193T",
                                    "MEGNEVEZES": "Hegyző fém 2 lyukú"
                                },
                                {
                                    "TERMEKKOD": "06080259T",
                                    "MEGNEVEZES": "Leckefüzet"
                                },
                                {
                                    "TERMEKKOD": "06080332T",
                                    "MEGNEVEZES": "Radírtoll betét ER100"
                                },
                                {
                                    "TERMEKKOD": "06080333T",
                                    "MEGNEVEZES": "Radírtoll betét vastag"
                                },
                                {
                                    "TERMEKKOD": "06080335T",
                                    "MEGNEVEZES": "Ragasztó 9 g Pax"
                                },
                                {
                                    "TERMEKKOD": "06080337T",
                                    "MEGNEVEZES": "Ragasztó Gyurma"
                                },
                                {
                                    "TERMEKKOD": "06080339T",
                                    "MEGNEVEZES": "Ragasztó kores"
                                },
                                {
                                    "TERMEKKOD": "06080407T",
                                    "MEGNEVEZES": "Vízfesték  12 színű nagy"
                                },
                                {
                                    "TERMEKKOD": "06080408T",
                                    "MEGNEVEZES": "Vízfesték 12 db-os "
                                },
                                {
                                    "TERMEKKOD": "06080409T",
                                    "MEGNEVEZES": "Vízfesték 12 színű kerek"
                                },
                                {
                                    "TERMEKKOD": "06080410T",
                                    "MEGNEVEZES": "Vízfesték 12db-os kínai"
                                },
                                {
                                    "TERMEKKOD": "06080411T",
                                    "MEGNEVEZES": "Vonalzó 15 cm-es ESSELTE"
                                },
                                {
                                    "TERMEKKOD": "06080412T",
                                    "MEGNEVEZES": "Vonalzó 16 cm-es LIZZY"
                                },
                                {
                                    "TERMEKKOD": "06080413T",
                                    "MEGNEVEZES": "Vonalzó 30 cm"
                                },
                                {
                                    "TERMEKKOD": "06080415T",
                                    "MEGNEVEZES": "Vonalzó 45 fokos"
                                },
                                {
                                    "TERMEKKOD": "06080416T",
                                    "MEGNEVEZES": "Vonalzó 60 fokos"
                                },
                                {
                                    "TERMEKKOD": "06080417T",
                                    "MEGNEVEZES": "Zászló papír"
                                },
                                {
                                    "TERMEKKOD": "06080422T",
                                    "MEGNEVEZES": "Füzettartó A/4"
                                },
                                {
                                    "TERMEKKOD": "06080423T",
                                    "MEGNEVEZES": "Beíró A/5 kockás"
                                },
                                {
                                    "TERMEKKOD": "06080424T",
                                    "MEGNEVEZES": "Füzetborító A/4 mintás"
                                },
                                {
                                    "TERMEKKOD": "06080425T",
                                    "MEGNEVEZES": "Miliméterpapír"
                                },
                                {
                                    "TERMEKKOD": "06080426T",
                                    "MEGNEVEZES": "Szótárfüzet Lizzy"
                                },
                                {
                                    "TERMEKKOD": "06080427T",
                                    "MEGNEVEZES": "Ablakkréta"
                                },
                                {
                                    "TERMEKKOD": "06080428T",
                                    "MEGNEVEZES": "Ecsetkészlet"
                                },
                                {
                                    "TERMEKKOD": "06080429T",
                                    "MEGNEVEZES": "Meghívó ballagási"
                                },
                                {
                                    "TERMEKKOD": "06080430T",
                                    "MEGNEVEZES": "Öntapadős betűk"
                                },
                                {
                                    "TERMEKKOD": "06080441T",
                                    "MEGNEVEZES": "Gyurmakés"
                                },
                                {
                                    "TERMEKKOD": "07010137T",
                                    "MEGNEVEZES": "G.toll betét PAX tip."
                                },
                                {
                                    "TERMEKKOD": "07010139T",
                                    "MEGNEVEZES": "G.toll betét S7L "
                                },
                                {
                                    "TERMEKKOD": "07010140T",
                                    "MEGNEVEZES": "G.toll betét Stabilo"
                                },
                                {
                                    "TERMEKKOD": "07010141T",
                                    "MEGNEVEZES": "G.toll betét X20"
                                },
                                {
                                    "TERMEKKOD": "07010142T",
                                    "MEGNEVEZES": "G.toll betét Zebra F-0.7"
                                },
                                {
                                    "TERMEKKOD": "07010143T",
                                    "MEGNEVEZES": "G.toll betét Zebra H-0,7"
                                },
                                {
                                    "TERMEKKOD": "07010144T",
                                    "MEGNEVEZES": "G.toll betét Zebra K-0,7"
                                },
                                {
                                    "TERMEKKOD": "07010244T",
                                    "MEGNEVEZES": "Kerámiatoll"
                                },
                                {
                                    "TERMEKKOD": "07030103T",
                                    "MEGNEVEZES": "Filctoll TINTEN PEN"
                                },
                                {
                                    "TERMEKKOD": "07030104T",
                                    "MEGNEVEZES": "Filctoll vastag ARTIP"
                                },
                                {
                                    "TERMEKKOD": "07030105T",
                                    "MEGNEVEZES": "Filctoll, alkoholos Centropen"
                                },
                                {
                                    "TERMEKKOD": "07030106T",
                                    "MEGNEVEZES": "Filctoll, alkoholosOHP F-M-C"
                                },
                                {
                                    "TERMEKKOD": "07030107T",
                                    "MEGNEVEZES": "Filctoll, textil Edding 4500"
                                },
                                {
                                    "TERMEKKOD": "07030108T",
                                    "MEGNEVEZES": "Filctoll CD író"
                                },
                                {
                                    "TERMEKKOD": "07040047T",
                                    "MEGNEVEZES": "Ceruza 2H-4B"
                                },
                                {
                                    "TERMEKKOD": "07040049T",
                                    "MEGNEVEZES": "Ceruza Conté zöld"
                                },
                                {
                                    "TERMEKKOD": "07040050T",
                                    "MEGNEVEZES": "Ceruza Cseh"
                                },
                                {
                                    "TERMEKKOD": "07040051T",
                                    "MEGNEVEZES": "Ceruza háromszög "
                                },
                                {
                                    "TERMEKKOD": "07040052T",
                                    "MEGNEVEZES": "Ceruza 2H-3B Koh-i-nor"
                                },
                                {
                                    "TERMEKKOD": "07040053T",
                                    "MEGNEVEZES": "Ceruza HB radiros"
                                },
                                {
                                    "TERMEKKOD": "07040054T",
                                    "MEGNEVEZES": "Ceruza kártyás"
                                },
                                {
                                    "TERMEKKOD": "07040055T",
                                    "MEGNEVEZES": "Ceruza piros-kék"
                                },
                                {
                                    "TERMEKKOD": "07040056T",
                                    "MEGNEVEZES": "Ceruza piros-kék vékony"
                                },
                                {
                                    "TERMEKKOD": "07040057T",
                                    "MEGNEVEZES": "Ceruza Progresso"
                                },
                                {
                                    "TERMEKKOD": "07040058T",
                                    "MEGNEVEZES": "Ceruza radíros kínai"
                                },
                                {
                                    "TERMEKKOD": "07040059T",
                                    "MEGNEVEZES": "Ceruza smaragd"
                                },
                                {
                                    "TERMEKKOD": "07040060T",
                                    "MEGNEVEZES": "Ceruza stabilo swano"
                                },
                                {
                                    "TERMEKKOD": "07040061T",
                                    "MEGNEVEZES": "Ceruza stabilo opera"
                                },
                                {
                                    "TERMEKKOD": "07040097T",
                                    "MEGNEVEZES": "Filctoll "
                                },
                                {
                                    "TERMEKKOD": "07040098T",
                                    "MEGNEVEZES": "Filctoll document pen"
                                },
                                {
                                    "TERMEKKOD": "07040099T",
                                    "MEGNEVEZES": "Filctoll Edding 750"
                                },
                                {
                                    "TERMEKKOD": "07040100T",
                                    "MEGNEVEZES": "Filctoll Marvy alkoholos"
                                },
                                {
                                    "TERMEKKOD": "07040101T",
                                    "MEGNEVEZES": "Filctoll permanent vastag"
                                },
                                {
                                    "TERMEKKOD": "07040102T",
                                    "MEGNEVEZES": "Filctoll supra fine"
                                },
                                {
                                    "TERMEKKOD": "07040127T",
                                    "MEGNEVEZES": "G. toll betét mini"
                                },
                                {
                                    "TERMEKKOD": "07040128T",
                                    "MEGNEVEZES": "G. toll betét mini fém"
                                },
                                {
                                    "TERMEKKOD": "07040129T",
                                    "MEGNEVEZES": "G. toll betét réz"
                                },
                                {
                                    "TERMEKKOD": "07040130T",
                                    "MEGNEVEZES": "G. toll betét S7S"
                                },
                                {
                                    "TERMEKKOD": "07040132T",
                                    "MEGNEVEZES": "G.toll betét csavaros"
                                },
                                {
                                    "TERMEKKOD": "07040133T",
                                    "MEGNEVEZES": "G.toll betét görbe hegyű"
                                },
                                {
                                    "TERMEKKOD": "07040165T",
                                    "MEGNEVEZES": "Golyóstoll UNI laknock"
                                },
                                {
                                    "TERMEKKOD": "07040166T",
                                    "MEGNEVEZES": "Golyóstoll Zebra 301"
                                },
                                {
                                    "TERMEKKOD": "07040167T",
                                    "MEGNEVEZES": "Golyóstoll Zebra mini"
                                },
                                {
                                    "TERMEKKOD": "07040168T",
                                    "MEGNEVEZES": "Golyóstoll Zebra new hard"
                                },
                                {
                                    "TERMEKKOD": "07040169T",
                                    "MEGNEVEZES": "Golyóstoll Zodiák"
                                },
                                {
                                    "TERMEKKOD": "07040215T",
                                    "MEGNEVEZES": "Ironbél  2B ICO"
                                },
                                {
                                    "TERMEKKOD": "07040216T",
                                    "MEGNEVEZES": "Ironbél B 0,5"
                                },
                                {
                                    "TERMEKKOD": "07040217T",
                                    "MEGNEVEZES": "Ironbél H 0,5"
                                },
                                {
                                    "TERMEKKOD": "07040218T",
                                    "MEGNEVEZES": "Ironbél HB 0,5"
                                },
                                {
                                    "TERMEKKOD": "07040219T",
                                    "MEGNEVEZES": "Ironbél HI-POLIMER HB 0,7"
                                },
                                {
                                    "TERMEKKOD": "07040257T",
                                    "MEGNEVEZES": "Lakk filc Edding 750"
                                },
                                {
                                    "TERMEKKOD": "07040388T",
                                    "MEGNEVEZES": "Tintapatron /kék/"
                                },
                                {
                                    "TERMEKKOD": "07040389T",
                                    "MEGNEVEZES": "Tintapatron 30 db-os kék"
                                },
                                {
                                    "TERMEKKOD": "07040390T",
                                    "MEGNEVEZES": "Tintapatron színes"
                                },
                                {
                                    "TERMEKKOD": "07040391T",
                                    "MEGNEVEZES": "Toll Centropen roller"
                                },
                                {
                                    "TERMEKKOD": "07050462T",
                                    "MEGNEVEZES": "Töltőtoll tinta "
                                },
                                {
                                    "TERMEKKOD": "07050463T",
                                    "MEGNEVEZES": "Ceruzafogó"
                                },
                                {
                                    "TERMEKKOD": "07050464T",
                                    "MEGNEVEZES": "Szövegkiemelő Staedtler"
                                },
                                {
                                    "TERMEKKOD": "07080062T",
                                    "MEGNEVEZES": "Ceruza szén"
                                },
                                {
                                    "TERMEKKOD": "07080063T",
                                    "MEGNEVEZES": "Ceruza szorzótáblás"
                                },
                                {
                                    "TERMEKKOD": "07080064T",
                                    "MEGNEVEZES": "Ceruza zöld színű"
                                },
                                {
                                    "TERMEKKOD": "07080065T",
                                    "MEGNEVEZES": "Ceruza kínai"
                                },
                                {
                                    "TERMEKKOD": "07080150T",
                                    "MEGNEVEZES": "Golyóstoll"
                                },
                                {
                                    "TERMEKKOD": "07080151T",
                                    "MEGNEVEZES": "Golyóstoll + ceruza Twister 2in1"
                                },
                                {
                                    "TERMEKKOD": "07080152T",
                                    "MEGNEVEZES": "Golyóstoll 3 funkciós "
                                },
                                {
                                    "TERMEKKOD": "07080153T",
                                    "MEGNEVEZES": "Golyóstoll illatos ICO"
                                },
                                {
                                    "TERMEKKOD": "07080154T",
                                    "MEGNEVEZES": "Golyóstoll INOXCROM"
                                },
                                {
                                    "TERMEKKOD": "07080155T",
                                    "MEGNEVEZES": "Golyóstoll"
                                },
                                {
                                    "TERMEKKOD": "07080156T",
                                    "MEGNEVEZES": "Golyóstoll kupakos piros"
                                },
                                {
                                    "TERMEKKOD": "07080157T",
                                    "MEGNEVEZES": "Golyóstoll Montex Hytone"
                                },
                                {
                                    "TERMEKKOD": "07080159T",
                                    "MEGNEVEZES": "Golyóstoll Pax tip."
                                },
                                {
                                    "TERMEKKOD": "07080160T",
                                    "MEGNEVEZES": "Golyóstoll penac"
                                },
                                {
                                    "TERMEKKOD": "07080161T",
                                    "MEGNEVEZES": "Golyóstoll kétszínű"
                                },
                                {
                                    "TERMEKKOD": "07080162T",
                                    "MEGNEVEZES": "Golyóstoll Stabilo piros"
                                },
                                {
                                    "TERMEKKOD": "07080316T",
                                    "MEGNEVEZES": "Pixiron KOH-I-NOOR"
                                },
                                {
                                    "TERMEKKOD": "07080421T",
                                    "MEGNEVEZES": "Zseléstoll Lizzy Card"
                                },
                                {
                                    "TERMEKKOD": "07080466T",
                                    "MEGNEVEZES": "Golyóstoll Stabiló 308"
                                },
                                {
                                    "TERMEKKOD": "08070472T",
                                    "MEGNEVEZES": "A föld amelyen élünk - Európa földrajza"
                                },
                                {
                                    "TERMEKKOD": "08070473T",
                                    "MEGNEVEZES": "A föld amelyen élünk - Távoli földrészek"
                                },
                                {
                                    "TERMEKKOD": "08070474T",
                                    "MEGNEVEZES": "A föld amelyen élünk - Hazánk földrajza"
                                },
                                {
                                    "TERMEKKOD": "08070477T",
                                    "MEGNEVEZES": "Anyanyelvi gyakorló 3"
                                },
                                {
                                    "TERMEKKOD": "08070478T",
                                    "MEGNEVEZES": "Összefoglaló feladatgyüjtemény számtech."
                                },
                                {
                                    "TERMEKKOD": "08070479T",
                                    "MEGNEVEZES": "Fizika"
                                },
                                {
                                    "TERMEKKOD": "08070481T",
                                    "MEGNEVEZES": "Fizika munkafüzet 13 év."
                                },
                                {
                                    "TERMEKKOD": "08070482T",
                                    "MEGNEVEZES": "Fizika munkafüzet 14 év."
                                },
                                {
                                    "TERMEKKOD": "08070483T",
                                    "MEGNEVEZES": "Fizikai feladatok és tévedések"
                                },
                                {
                                    "TERMEKKOD": "08070484T",
                                    "MEGNEVEZES": "Fogalmazás lépésről lépésre"
                                },
                                {
                                    "TERMEKKOD": "08070485T",
                                    "MEGNEVEZES": "Jól felkészültem-e - Fizika"
                                },
                                {
                                    "TERMEKKOD": "08070486T",
                                    "MEGNEVEZES": "Matematika gyakorló 2"
                                },
                                {
                                    "TERMEKKOD": "08070487T",
                                    "MEGNEVEZES": "Matematika gyakorló 3"
                                },
                                {
                                    "TERMEKKOD": "08070490T",
                                    "MEGNEVEZES": "Szövegszerkesztés"
                                },
                                {
                                    "TERMEKKOD": "08070491T",
                                    "MEGNEVEZES": "Szám.tech. kicsiknek"
                                },
                                {
                                    "TERMEKKOD": "08070492T",
                                    "MEGNEVEZES": "Informatika"
                                },
                                {
                                    "TERMEKKOD": "08070493T",
                                    "MEGNEVEZES": "Érettségi felv. fel. Matematika"
                                },
                                {
                                    "TERMEKKOD": "08070494T",
                                    "MEGNEVEZES": "Érettségi felv. fel. Fizika"
                                },
                                {
                                    "TERMEKKOD": "08070495T",
                                    "MEGNEVEZES": "Érettségi felv. fel. Biológia"
                                },
                                {
                                    "TERMEKKOD": "F001-KB101",
                                    "MEGNEVEZES": "férfi szövet kabát"
                                },
                                {
                                    "TERMEKKOD": "F007-NA201",
                                    "MEGNEVEZES": "férfi farmer nadrág"
                                },
                                {
                                    "TERMEKKOD": "F013-NA207",
                                    "MEGNEVEZES": "férfi szövet nadrág"
                                },
                                {
                                    "TERMEKKOD": "F021-IN215",
                                    "MEGNEVEZES": "férfi ing"
                                },
                                {
                                    "TERMEKKOD": "G001-KB101",
                                    "MEGNEVEZES": "gyermek kabát (fiú)"
                                },
                                {
                                    "TERMEKKOD": "G013-NA201",
                                    "MEGNEVEZES": "gyermek farmer nadrág (fiú)"
                                },
                                {
                                    "TERMEKKOD": "G019-NA207",
                                    "MEGNEVEZES": "gyermek pamut nadrág (fiú)"
                                },
                                {
                                    "TERMEKKOD": "G023-FE301",
                                    "MEGNEVEZES": "fiú alsó"
                                },
                                {
                                    "TERMEKKOD": "G029-FE307",
                                    "MEGNEVEZES": "fiú zokni"
                                },
                                {
                                    "TERMEKKOD": "G038-FE316",
                                    "MEGNEVEZES": "fiú harisnya"
                                },
                                {
                                    "TERMEKKOD": "G041-AL211",
                                    "MEGNEVEZES": "fiú ünneplős ruha"
                                },
                                {
                                    "TERMEKKOD": "G048-PO218",
                                    "MEGNEVEZES": "gyermek póló (fiú)"
                                },
                                {
                                    "TERMEKKOD": "G064-CI401",
                                    "MEGNEVEZES": "gyermek szandál (fiú)"
                                },
                                {
                                    "TERMEKKOD": "G073-CI410",
                                    "MEGNEVEZES": "gyermek cipő (fiú)"
                                },
                                {
                                    "TERMEKKOD": "G082-CI419",
                                    "MEGNEVEZES": "gyermek csizma (fiú)"
                                },
                                {
                                    "TERMEKKOD": "L001-KB101",
                                    "MEGNEVEZES": "gyermek kabát (lány)"
                                },
                                {
                                    "TERMEKKOD": "L013-NA201",
                                    "MEGNEVEZES": "gyermek farmer nadrág (lány)"
                                },
                                {
                                    "TERMEKKOD": "L019-NA207",
                                    "MEGNEVEZES": "gyermek pamut nadrág (lány)"
                                },
                                {
                                    "TERMEKKOD": "L023-FE301",
                                    "MEGNEVEZES": "lány alsó"
                                },
                                {
                                    "TERMEKKOD": "L029-FE307",
                                    "MEGNEVEZES": "lány zokni"
                                },
                                {
                                    "TERMEKKOD": "L033-FE311",
                                    "MEGNEVEZES": "lány harisnya"
                                },
                                {
                                    "TERMEKKOD": "L041-AL211",
                                    "MEGNEVEZES": "lány ünneplős ruha"
                                },
                                {
                                    "TERMEKKOD": "L048-PO218",
                                    "MEGNEVEZES": "gyermek póló (lány)"
                                },
                                {
                                    "TERMEKKOD": "L064-CI401",
                                    "MEGNEVEZES": "gyermek szandál (lány)"
                                },
                                {
                                    "TERMEKKOD": "L073-CI410",
                                    "MEGNEVEZES": "gyermek cipő (lány)"
                                },
                                {
                                    "TERMEKKOD": "L082-CI419",
                                    "MEGNEVEZES": "gyermek csizma (lány)"
                                },
                                {
                                    "TERMEKKOD": "N001-KB101",
                                    "MEGNEVEZES": "női szövet kabát"
                                },
                                {
                                    "TERMEKKOD": "N008-NA201",
                                    "MEGNEVEZES": "női farmer nadrág"
                                },
                                {
                                    "TERMEKKOD": "N019-FE301",
                                    "MEGNEVEZES": "női alsó"
                                },
                                {
                                    "TERMEKKOD": "N029-AL212",
                                    "MEGNEVEZES": "női koktélruha"
                                },
                                {
                                    "TERMEKKOD": "N035-AL218",
                                    "MEGNEVEZES": "kosztüm (rövid)"
                                },
                                {
                                    "TERMEKKOD": "N039-AL222",
                                    "MEGNEVEZES": "kosztüm (hosszú)"
                                },
                                {
                                    "TERMEKKOD": "U001-KI501",
                                    "MEGNEVEZES": "sál"
                                }
                            ]
                        },
                        "text/html": [
                            "<table>",
                            "<tr><th>TERMEKKOD</th><th>MEGNEVEZES</th></tr>",
                            "<tr><td>01010110T</td><td>Fotópapír A/4 fényes</td></tr>",
                            "<tr><td>01010304T</td><td>Öntapadós hologramos papír A/4</td></tr>",
                            "<tr><td>01020300T</td><td>Oklevél A/4 színes</td></tr>",
                            "<tr><td>01030091T</td><td>Emléklap A/5</td></tr>",
                            "<tr><td>01030092T</td><td>Esküvői meghívó</td></tr>",
                            "<tr><td>01040307T</td><td>Pausz papír A/4</td></tr>",
                            "<tr><td>01040502T</td><td>Előlap spirálhoz</td></tr>",
                            "<tr><td>01080093T</td><td>Fax papír 15 m</td></tr>",
                            "<tr><td>01080512T</td><td>Öntapadó A/4</td></tr>",
                            "<tr><td>01080513T</td><td>Selyemfényű karton A/4</td></tr>",
                            "<tr><td>01090499T</td><td>Color Copy A/4 250 g</td></tr>",
                            "<tr><td>01090500T</td><td>Color Copy A4 200 g</td></tr>",
                            "<tr><td>01090501T</td><td>Kreatív A/4 300g </td></tr>",
                            "<tr><td>01090515T</td><td>Színes A/3 160 gr IQ</td></tr>",
                            "<tr><td>01090516T</td><td>Színes karton A4</td></tr>",
                            "<tr><td>01090517T</td><td>Színes ofszet B/4</td></tr>",
                            "<tr><td>01100070T</td><td>Dekorációs karton</td></tr>",
                            "<tr><td>01100072T</td><td>Dipa A/4 keretezett</td></tr>",
                            "<tr><td>01100094T</td><td>Fénymásoló papír DataCopy</td></tr>",
                            "<tr><td>01100095T</td><td>Fénymásoló papír GetCopy</td></tr>",
                            "<tr><td>01100096T</td><td>Fénymásoló papír Qconnect</td></tr>",
                            "<tr><td>01100496T</td><td>Színes másoló a/4 80g</td></tr>",
                            "<tr><td>01100497T</td><td>Color Copy 160 g-os </td></tr>",
                            "<tr><td>01100503T</td><td>Color Copy A4 120 g</td></tr>",
                            "<tr><td>01100504T</td><td>Fehér másoló A/3</td></tr>",
                            "<tr><td>01100505T</td><td>Fehér másoló A/4</td></tr>",
                            "<tr><td>01100509T</td><td>Márványos A/4</td></tr>",
                            "<tr><td>01100510T</td><td>Kreatív A/4 120g </td></tr>",
                            "<tr><td>02010028T</td><td>Árazószalag </td></tr>",
                            "<tr><td>02020029T</td><td>Átírótömb A/6</td></tr>",
                            "<tr><td>02020032T</td><td>Beírókönyv A5 </td></tr>",
                            "<tr><td>02020033T</td><td>Beírókönyv A4</td></tr>",
                            "<tr><td>02020037T</td><td>Bevételi pénztárbizonylat 3×25</td></tr>",
                            "<tr><td>02020245T</td><td>Kiadási pénztárbizonylat 2×25</td></tr>",
                            "<tr><td>02030040T</td><td>Boríték LA 4 francia</td></tr>",
                            "<tr><td>02040025T</td><td>Álló irattartó karton</td></tr>",
                            "<tr><td>02040145T</td><td>Gemkapocs 28 mm</td></tr>",
                            "<tr><td>02040147T</td><td>Genotherm lefűzhető A/5</td></tr>",
                            "<tr><td>02040148T</td><td>Genotherm lefűzhető A4 10db-os</td></tr>",
                            "<tr><td>02040176T</td><td>Gyorsfűző dosszié fehér</td></tr>",
                            "<tr><td>02040177T</td><td>Gyorsfűző műa.</td></tr>",
                            "<tr><td>02040178T</td><td>Gyorsfűző műa.</td></tr>",
                            "<tr><td>02040194T</td><td>Hibajav.roll.Pritt 4,2mm</td></tr>",
                            "<tr><td>02040195T</td><td>Hibajavító ecsetes Aqua</td></tr>",
                            "<tr><td>02040196T</td><td>Hibajavító készlet Blanco</td></tr>",
                            "<tr><td>02040197T</td><td>Hibajavító lap </td></tr>",
                            "<tr><td>02040198T</td><td>Hibajavító roller 5 mm</td></tr>",
                            "<tr><td>02040199T</td><td>Hibajavító roller Pax</td></tr>",
                            "<tr><td>02040200T</td><td>Hibajavító Kores mini pen</td></tr>",
                            "<tr><td>02040206T</td><td>Írásvetítő fólia</td></tr>",
                            "<tr><td>02040207T</td><td>Iratgyűjtő ESSELTE ablakos</td></tr>",
                            "<tr><td>02040208T</td><td>Iratgyűjtő fehér</td></tr>",
                            "<tr><td>02040209T</td><td>Iratsín fehér</td></tr>",
                            "<tr><td>02040211T</td><td>Iratrendező ESSELTE</td></tr>",
                            "<tr><td>02040214T</td><td>Iromány fedél feles</td></tr>",
                            "<tr><td>02040290T</td><td>Naptár 24-es</td></tr>",
                            "<tr><td>02040291T</td><td>Naptárhát kicsi</td></tr>",
                            "<tr><td>02040294T</td><td>Notesz A/5 sima</td></tr>",
                            "<tr><td>02040298T</td><td>Notesz mintás</td></tr>",
                            "<tr><td>02040308T</td><td>Pénztárgépsz. 2 pl. nem öníró</td></tr>",
                            "<tr><td>02040309T</td><td>Pénztárgépszalag 2pl SC 57.5/60</td></tr>",
                            "<tr><td>02040401T</td><td>Tűzőgép Boxer 10</td></tr>",
                            "<tr><td>02040402T</td><td>Tűzőgép Boxer </td></tr>",
                            "<tr><td>02040403T</td><td>Tűzőgép SAX 239</td></tr>",
                            "<tr><td>02040404T</td><td>Tűzőgép EAGLE</td></tr>",
                            "<tr><td>02040405T</td><td>Tűzőkapocs 10-es</td></tr>",
                            "<tr><td>02040506T</td><td>Fólia tasakos A4 125 mik.</td></tr>",
                            "<tr><td>02040507T</td><td>Fólia tasakos A4 80 mik.</td></tr>",
                            "<tr><td>02040508T</td><td>Fólia tasakos A4100 mik.</td></tr>",
                            "<tr><td>02050460T</td><td>Boríték C/4-es</td></tr>",
                            "<tr><td>02050461T</td><td>Boríték B/4-es</td></tr>",
                            "<tr><td>02060034T</td><td>Bélyegzőfesték </td></tr>",
                            "<tr><td>02060038T</td><td>Bélyegző IDEAL 50</td></tr>",
                            "<tr><td>02060039T</td><td>Bélyegző párna</td></tr>",
                            "<tr><td>02060447T</td><td>Bélyegző pocket</td></tr>",
                            "<tr><td>02060448T</td><td>Bélyegző RP 18-47</td></tr>",
                            "<tr><td>02080069T</td><td>CD tartó tok</td></tr>",
                            "<tr><td>02080081T</td><td>Dvd</td></tr>",
                            "<tr><td>02080109T</td><td>Floppy lemez</td></tr>",
                            "<tr><td>02080226T</td><td>Kapocskiszedő</td></tr>",
                            "<tr><td>02080431T</td><td>Álló irattartó</td></tr>",
                            "<tr><td>02080432T</td><td>Tokos iratrendező</td></tr>",
                            "<tr><td>02080433T</td><td>Ragasztószalag 19 mm-es</td></tr>",
                            "<tr><td>02080434T</td><td>Mappa müa A/4</td></tr>",
                            "<tr><td>02080436T</td><td>Irattartó müa. boríték A/4</td></tr>",
                            "<tr><td>02080449T</td><td>Térképtű színes</td></tr>",
                            "<tr><td>02080450T</td><td>Gémkapocs 28-as színes</td></tr>",
                            "<tr><td>02080451T</td><td>Gémkapocs 50-es</td></tr>",
                            "<tr><td>02080452T</td><td>Tűzőgép mini</td></tr>",
                            "<tr><td>02080453T</td><td>Lyukasztó EAGLE</td></tr>",
                            "<tr><td>02080454T</td><td>Lyukasztó BOXER</td></tr>",
                            "<tr><td>02080455T</td><td>Festékpatron BCI-3BK</td></tr>",
                            "<tr><td>02080456T</td><td>Genoterm HERLITZ 10-es</td></tr>",
                            "<tr><td>02080511T</td><td>Oki toner C</td></tr>",
                            "<tr><td>02080514T</td><td>Spirál 1/4 </td></tr>",
                            "<tr><td>03010342T</td><td>Ragasztószalag  TIXO</td></tr>",
                            "<tr><td>03010344T</td><td>Ragasztószalag nagy 12 mm</td></tr>",
                            "<tr><td>03010345T</td><td>Ragasztószalag széles barna</td></tr>",
                            "<tr><td>03050076T</td><td>Díszkötöző szalag metál nagy</td></tr>",
                            "<tr><td>03050077T</td><td>Diszkötöző szalag arany</td></tr>",
                            "<tr><td>03050078T</td><td>Díszkötöző szalag metál kicsi</td></tr>",
                            "<tr><td>03080003T</td><td>Ajándék cs. tasak italos</td></tr>",
                            "<tr><td>03080004T</td><td>Ajándék cs. tasak italos, fólia</td></tr>",
                            "<tr><td>03080006T</td><td>Ajándék cs. tasak mintás kicsi</td></tr>",
                            "<tr><td>03080009T</td><td>Ajándék csom. 100x70 metál</td></tr>",
                            "<tr><td>03080012T</td><td>Ajándék csom. 200x70</td></tr>",
                            "<tr><td>03080013T</td><td>Ajándék csom. 50x70 húsvéti</td></tr>",
                            "<tr><td>03080014T</td><td>Ajándék csom. 70x50 metál</td></tr>",
                            "<tr><td>03080015T</td><td>Ajándék csom. gyűrt</td></tr>",
                            "<tr><td>03080016T</td><td>házt.csom.  5 ív</td></tr>",
                            "<tr><td>03080017T</td><td>iskolai csomagoló papír</td></tr>",
                            "<tr><td>03080019T</td><td>Ajándék csom. Krepp</td></tr>",
                            "<tr><td>03080020T</td><td>Ajándék csom. nagy  </td></tr>",
                            "<tr><td>03080021T</td><td>Ajándék csom. vékony</td></tr>",
                            "<tr><td>03080030T</td><td>Ajándék cs. húsvéti 200x70</td></tr>",
                            "<tr><td>03080439T</td><td>Italtartó doboz</td></tr>",
                            "<tr><td>04020445T</td><td>Határidő napló 2010-s</td></tr>",
                            "<tr><td>04030235T</td><td>Képeslap karácsonyi borítékos</td></tr>",
                            "<tr><td>04030237T</td><td>Képeslap kerek</td></tr>",
                            "<tr><td>04030238T</td><td>Képeslap stancolt</td></tr>",
                            "<tr><td>04030239T</td><td>Képeslap stancolt szív</td></tr>",
                            "<tr><td>04030243T</td><td>Képkirakó Dirib-darab</td></tr>",
                            "<tr><td>04030261T</td><td>Levélpapír állatos</td></tr>",
                            "<tr><td>04030262T</td><td>Levélpapír sima</td></tr>",
                            "<tr><td>04030263T</td><td>Levélpapír szett</td></tr>",
                            "<tr><td>04030264T</td><td>Levélpapír szett </td></tr>",
                            "<tr><td>04030265T</td><td>Levélpapír szett natur, mintás</td></tr>",
                            "<tr><td>04030266T</td><td>Levélpapír szett virágos</td></tr>",
                            "<tr><td>04030285T</td><td>Mikulás zacskó</td></tr>",
                            "<tr><td>04030286T</td><td>Műanyag állatok</td></tr>",
                            "<tr><td>04030288T</td><td>Műanyag pohár 1 dl-es</td></tr>",
                            "<tr><td>04040387T</td><td>Tenisz labda</td></tr>",
                            "<tr><td>04050022T</td><td>Álarc</td></tr>",
                            "<tr><td>04050023T</td><td>Álarc fejdísz</td></tr>",
                            "<tr><td>04050024T</td><td>Álarc szemüveg</td></tr>",
                            "<tr><td>04050035T</td><td>Bérlet tok</td></tr>",
                            "<tr><td>04050073T</td><td>Díszdoboz kar.</td></tr>",
                            "<tr><td>04050074T</td><td>Díszdoboz tollnak 2 db-os</td></tr>",
                            "<tr><td>04050075T</td><td>Díszdoboz tollnak 2 db-os keskeny</td></tr>",
                            "<tr><td>04050171T</td><td>Gumilabda közepes</td></tr>",
                            "<tr><td>04050187T</td><td>Hajgumi macis</td></tr>",
                            "<tr><td>04050203T</td><td>Hűtőmágnes</td></tr>",
                            "<tr><td>04050204T</td><td>Hűtőmágnes WD</td></tr>",
                            "<tr><td>04050220T</td><td>Játék autó</td></tr>",
                            "<tr><td>04050221T</td><td>Játékautó Blisteres</td></tr>",
                            "<tr><td>04050222T</td><td>Játékautó elemes</td></tr>",
                            "<tr><td>04050223T</td><td>Játékautó mini</td></tr>",
                            "<tr><td>04050224T</td><td>Jelzőkréta</td></tr>",
                            "<tr><td>04050252T</td><td>Kulcstartó Csőrikés</td></tr>",
                            "<tr><td>04050253T</td><td>Kulcstartó figurás</td></tr>",
                            "<tr><td>04050254T</td><td>Kulcstartó intarziás állatos</td></tr>",
                            "<tr><td>04050269T</td><td>Lufi hullámos</td></tr>",
                            "<tr><td>04050320T</td><td>Plüss  QX állatok</td></tr>",
                            "<tr><td>04050322T</td><td>Plüss sárkány</td></tr>",
                            "<tr><td>04050358T</td><td>Strandlabda </td></tr>",
                            "<tr><td>04080270T</td><td>Mappa bőr A5</td></tr>",
                            "<tr><td>04080271T</td><td>Mappa PVC villámzáras</td></tr>",
                            "<tr><td>04080272T</td><td>Mappa PVC villámzáras  képes</td></tr>",
                            "<tr><td>04080443T</td><td>Emlékkönyv lakatos</td></tr>",
                            "<tr><td>04110066T</td><td>Címke 8 db-os</td></tr>",
                            "<tr><td>04110067T</td><td>Címke WD. állat</td></tr>",
                            "<tr><td>04110068T</td><td>Címke egyszínű</td></tr>",
                            "<tr><td>04110227T</td><td>Képeslap  borítékos</td></tr>",
                            "<tr><td>04110228T</td><td>Képeslap &quot;Nászajándék&quot;</td></tr>",
                            "<tr><td>04110229T</td><td>Képeslap &quot;Részvét&quot;</td></tr>",
                            "<tr><td>04110230T</td><td>Képeslap humoros </td></tr>",
                            "<tr><td>04110231T</td><td>Képeslap humoros borítékos</td></tr>",
                            "<tr><td>04110232T</td><td>Képeslap humoros kaparós</td></tr>",
                            "<tr><td>04110233T</td><td>Képeslap humoros</td></tr>",
                            "<tr><td>04110258T</td><td>Lampion</td></tr>",
                            "<tr><td>04110274T</td><td>Matrica autóra H</td></tr>",
                            "<tr><td>04110275T</td><td>Matrica motoros kicsi</td></tr>",
                            "<tr><td>04110276T</td><td>Matrica Stickers nagy állatos</td></tr>",
                            "<tr><td>04110277T</td><td>Matrica Stickers szíves</td></tr>",
                            "<tr><td>04110278T</td><td>Matrica Test ékszer tattoo</td></tr>",
                            "<tr><td>04110279T</td><td>Matrica tetoválás</td></tr>",
                            "<tr><td>04110280T</td><td>Matrica tetoválós kicsi</td></tr>",
                            "<tr><td>04110281T</td><td>Matrica világítós </td></tr>",
                            "<tr><td>04110282T</td><td>Matrica WD kicsi</td></tr>",
                            "<tr><td>04110283T</td><td>Meghívó állatos</td></tr>",
                            "<tr><td>04110284T</td><td>Meghívó borítékos</td></tr>",
                            "<tr><td>04110362T</td><td>Szalvéta gyűjtőknek</td></tr>",
                            "<tr><td>05010026T</td><td>Alufólia 10 m-es</td></tr>",
                            "<tr><td>05010369T</td><td>Szemetes zsák 60 literes</td></tr>",
                            "<tr><td>05010370T</td><td>Szilvia csomagoló</td></tr>",
                            "<tr><td>05040310T</td><td>Pill.ragasztó</td></tr>",
                            "<tr><td>05040348T</td><td>Rajzszeg színes</td></tr>",
                            "<tr><td>05040349T</td><td>Rajzszeg</td></tr>",
                            "<tr><td>05050045T</td><td>Celofán</td></tr>",
                            "<tr><td>05050046T</td><td>Celofán 50 db-os</td></tr>",
                            "<tr><td>05050170T</td><td>Gumigyűrű</td></tr>",
                            "<tr><td>05050346T</td><td>Rágógumi Orbit</td></tr>",
                            "<tr><td>05080340T</td><td>Ragasztó, Technokol 35g kék</td></tr>",
                            "<tr><td>05080341T</td><td>Ragasztó, Technokol 35g piros</td></tr>",
                            "<tr><td>05110359T</td><td>Szalvéta </td></tr>",
                            "<tr><td>05110360T</td><td>Szalvéta egyszínű</td></tr>",
                            "<tr><td>05110361T</td><td>Szalvéta Goma húsvéti</td></tr>",
                            "<tr><td>05110363T</td><td>Szalvéta dekor</td></tr>",
                            "<tr><td>05110364T</td><td>Szalvéta kicsi virágos</td></tr>",
                            "<tr><td>06010036T</td><td>Betűtartó sin</td></tr>",
                            "<tr><td>06010082T</td><td>Ecset Centrum 10,11,12</td></tr>",
                            "<tr><td>06010083T</td><td>Ecset Centrum 7,8,9</td></tr>",
                            "<tr><td>06010084T</td><td>Ecset Deák 2-es</td></tr>",
                            "<tr><td>06010085T</td><td>Ecset Lizzy 10-es</td></tr>",
                            "<tr><td>06010111T</td><td>Füzet  A/4 </td></tr>",
                            "<tr><td>06010112T</td><td>Füzet  A4 mintás</td></tr>",
                            "<tr><td>06010114T</td><td>Füzet A/5 hangjegy 36/16</td></tr>",
                            "<tr><td>06010115T</td><td>Füzet A/5, mintás</td></tr>",
                            "<tr><td>06010201T</td><td>Hőmérő, műa.</td></tr>",
                            "<tr><td>06010202T</td><td>Hurkapálca 10 db-os</td></tr>",
                            "<tr><td>06010305T</td><td>Papírcenti 100 cm-es</td></tr>",
                            "<tr><td>06010365T</td><td>Számegyenes</td></tr>",
                            "<tr><td>06010366T</td><td>Számológép Roxin</td></tr>",
                            "<tr><td>06010367T</td><td>Számolókorong</td></tr>",
                            "<tr><td>06010368T</td><td>Számolópálca</td></tr>",
                            "<tr><td>06010375T</td><td>Szögmérő 180 fokos műa.</td></tr>",
                            "<tr><td>06010376T</td><td>Szögmérő papír</td></tr>",
                            "<tr><td>06010377T</td><td>Szögmérő színes</td></tr>",
                            "<tr><td>06040089T</td><td>Ellenőrzőborító</td></tr>",
                            "<tr><td>06040175T</td><td>Gumis mappa Köbüki</td></tr>",
                            "<tr><td>06040179T</td><td>Gyurma színes 200 g-os</td></tr>",
                            "<tr><td>06040180T</td><td>Gyurma színes natúr</td></tr>",
                            "<tr><td>06040183T</td><td>Gyűrűskönyv bet. A/5</td></tr>",
                            "<tr><td>06040184T</td><td>Gyűrűskönyv betét A/5</td></tr>",
                            "<tr><td>06040186T</td><td>Gyűrűskönyv színes</td></tr>",
                            "<tr><td>06040205T</td><td>Indigó Pelikán</td></tr>",
                            "<tr><td>06040206T</td><td>kék indigó</td></tr>",
                            "<tr><td>06040212T</td><td>Írólap 10-50 ffam.</td></tr>",
                            "<tr><td>06040213T</td><td>Írólap 20-50 </td></tr>",
                            "<tr><td>06040246T</td><td>Körző</td></tr>",
                            "<tr><td>06040248T</td><td>Körző maped</td></tr>",
                            "<tr><td>06040323T</td><td>Post-it 51×38 100 lapos</td></tr>",
                            "<tr><td>06040324T</td><td>Post-it 75×75 100 lapos</td></tr>",
                            "<tr><td>06040326T</td><td>Radír KOH-I-NOR 80</td></tr>",
                            "<tr><td>06040330T</td><td>Radír Tikky 30 </td></tr>",
                            "<tr><td>06040331T</td><td>Radír Tikky 40 </td></tr>",
                            "<tr><td>06040347T</td><td>Rajzlap A/4 10db ffam.</td></tr>",
                            "<tr><td>06040350T</td><td>Regiszteres füzet A4</td></tr>",
                            "<tr><td>06040351T</td><td>Regiszteres füzet A5 Hightech</td></tr>",
                            "<tr><td>06040352T</td><td>Rovatolt papír 20 íves</td></tr>",
                            "<tr><td>06040353T</td><td>Sorvezető</td></tr>",
                            "<tr><td>06040354T</td><td>Sp.Füzet A/4  perforált, lyuk.</td></tr>",
                            "<tr><td>06040355T</td><td>Sp.Füzet A/4 70-as</td></tr>",
                            "<tr><td>06040356T</td><td>Sp.Füzet A/4  70es</td></tr>",
                            "<tr><td>06040378T</td><td>Szövegkiemelő vékony</td></tr>",
                            "<tr><td>06040379T</td><td>Szövegkiemelő </td></tr>",
                            "<tr><td>06040380T</td><td>Szövegkiemelő</td></tr>",
                            "<tr><td>06040381T</td><td>Szövegkiemelő Videotip</td></tr>",
                            "<tr><td>06040382T</td><td>Táblafilc</td></tr>",
                            "<tr><td>06040383T</td><td>Taffet papír</td></tr>",
                            "<tr><td>06040384T</td><td>Technika cs. I-II-III-IV</td></tr>",
                            "<tr><td>06040385T</td><td>Tempera szóló ezüst</td></tr>",
                            "<tr><td>06040386T</td><td>Tempera szóló színes</td></tr>",
                            "<tr><td>06040392T</td><td>Tolltartó 1 zipzáros</td></tr>",
                            "<tr><td>06040393T</td><td>Tolltartó 2 részes NG.</td></tr>",
                            "<tr><td>06040394T</td><td>Tolltartó zipzáras</td></tr>",
                            "<tr><td>06040395T</td><td>Tolltartó 2 zipzáros töltött</td></tr>",
                            "<tr><td>06040397T</td><td>Tolltartó asztali</td></tr>",
                            "<tr><td>06040398T</td><td>Tolltartó hengeres </td></tr>",
                            "<tr><td>06040399T</td><td>Tombola tömb</td></tr>",
                            "<tr><td>06040400T</td><td>Tornazsák</td></tr>",
                            "<tr><td>06040446T</td><td>Számológép tudományos</td></tr>",
                            "<tr><td>06050249T</td><td>Krepp papír</td></tr>",
                            "<tr><td>06050301T</td><td>Olló gyerek </td></tr>",
                            "<tr><td>06050302T</td><td>Olló Tagit 18 cm-es</td></tr>",
                            "<tr><td>06050303T</td><td>Olló, iskolai</td></tr>",
                            "<tr><td>06080116T</td><td>Füzet A5 1-8 osz.-ig</td></tr>",
                            "<tr><td>06080117T</td><td>Füzetborító A/4 átlátszó</td></tr>",
                            "<tr><td>06080118T</td><td>Füzetborító átlátszó A5</td></tr>",
                            "<tr><td>06080119T</td><td>Füzetborító mesefig.</td></tr>",
                            "<tr><td>06080120T</td><td>Füzetborító öntapadó kicsi</td></tr>",
                            "<tr><td>06080121T</td><td>Füzetborító öntapadó tekercses</td></tr>",
                            "<tr><td>06080122T</td><td>Füzetborító öntapadós nagy</td></tr>",
                            "<tr><td>06080124T</td><td>Füzettartó A/4 keménytáblás</td></tr>",
                            "<tr><td>06080125T</td><td>Füzettartó A/5 vastag</td></tr>",
                            "<tr><td>06080126T</td><td>Füzettartó A/5  </td></tr>",
                            "<tr><td>06080188T</td><td>Hegyező gép</td></tr>",
                            "<tr><td>06080189T</td><td>Hegyező műanyag dupla</td></tr>",
                            "<tr><td>06080190T</td><td>Hegyező műanyag egyes</td></tr>",
                            "<tr><td>06080191T</td><td>Hegyező tartályos egyes</td></tr>",
                            "<tr><td>06080192T</td><td>Hegyző fém 1 lyukú</td></tr>",
                            "<tr><td>06080193T</td><td>Hegyző fém 2 lyukú</td></tr>",
                            "<tr><td>06080259T</td><td>Leckefüzet</td></tr>",
                            "<tr><td>06080332T</td><td>Radírtoll betét ER100</td></tr>",
                            "<tr><td>06080333T</td><td>Radírtoll betét vastag</td></tr>",
                            "<tr><td>06080335T</td><td>Ragasztó 9 g Pax</td></tr>",
                            "<tr><td>06080337T</td><td>Ragasztó Gyurma</td></tr>",
                            "<tr><td>06080339T</td><td>Ragasztó kores</td></tr>",
                            "<tr><td>06080407T</td><td>Vízfesték  12 színű nagy</td></tr>",
                            "<tr><td>06080408T</td><td>Vízfesték 12 db-os </td></tr>",
                            "<tr><td>06080409T</td><td>Vízfesték 12 színű kerek</td></tr>",
                            "<tr><td>06080410T</td><td>Vízfesték 12db-os kínai</td></tr>",
                            "<tr><td>06080411T</td><td>Vonalzó 15 cm-es ESSELTE</td></tr>",
                            "<tr><td>06080412T</td><td>Vonalzó 16 cm-es LIZZY</td></tr>",
                            "<tr><td>06080413T</td><td>Vonalzó 30 cm</td></tr>",
                            "<tr><td>06080415T</td><td>Vonalzó 45 fokos</td></tr>",
                            "<tr><td>06080416T</td><td>Vonalzó 60 fokos</td></tr>",
                            "<tr><td>06080417T</td><td>Zászló papír</td></tr>",
                            "<tr><td>06080422T</td><td>Füzettartó A/4</td></tr>",
                            "<tr><td>06080423T</td><td>Beíró A/5 kockás</td></tr>",
                            "<tr><td>06080424T</td><td>Füzetborító A/4 mintás</td></tr>",
                            "<tr><td>06080425T</td><td>Miliméterpapír</td></tr>",
                            "<tr><td>06080426T</td><td>Szótárfüzet Lizzy</td></tr>",
                            "<tr><td>06080427T</td><td>Ablakkréta</td></tr>",
                            "<tr><td>06080428T</td><td>Ecsetkészlet</td></tr>",
                            "<tr><td>06080429T</td><td>Meghívó ballagási</td></tr>",
                            "<tr><td>06080430T</td><td>Öntapadős betűk</td></tr>",
                            "<tr><td>06080441T</td><td>Gyurmakés</td></tr>",
                            "<tr><td>07010137T</td><td>G.toll betét PAX tip.</td></tr>",
                            "<tr><td>07010139T</td><td>G.toll betét S7L </td></tr>",
                            "<tr><td>07010140T</td><td>G.toll betét Stabilo</td></tr>",
                            "<tr><td>07010141T</td><td>G.toll betét X20</td></tr>",
                            "<tr><td>07010142T</td><td>G.toll betét Zebra F-0.7</td></tr>",
                            "<tr><td>07010143T</td><td>G.toll betét Zebra H-0,7</td></tr>",
                            "<tr><td>07010144T</td><td>G.toll betét Zebra K-0,7</td></tr>",
                            "<tr><td>07010244T</td><td>Kerámiatoll</td></tr>",
                            "<tr><td>07030103T</td><td>Filctoll TINTEN PEN</td></tr>",
                            "<tr><td>07030104T</td><td>Filctoll vastag ARTIP</td></tr>",
                            "<tr><td>07030105T</td><td>Filctoll, alkoholos Centropen</td></tr>",
                            "<tr><td>07030106T</td><td>Filctoll, alkoholosOHP F-M-C</td></tr>",
                            "<tr><td>07030107T</td><td>Filctoll, textil Edding 4500</td></tr>",
                            "<tr><td>07030108T</td><td>Filctoll CD író</td></tr>",
                            "<tr><td>07040047T</td><td>Ceruza 2H-4B</td></tr>",
                            "<tr><td>07040049T</td><td>Ceruza Conté zöld</td></tr>",
                            "<tr><td>07040050T</td><td>Ceruza Cseh</td></tr>",
                            "<tr><td>07040051T</td><td>Ceruza háromszög </td></tr>",
                            "<tr><td>07040052T</td><td>Ceruza 2H-3B Koh-i-nor</td></tr>",
                            "<tr><td>07040053T</td><td>Ceruza HB radiros</td></tr>",
                            "<tr><td>07040054T</td><td>Ceruza kártyás</td></tr>",
                            "<tr><td>07040055T</td><td>Ceruza piros-kék</td></tr>",
                            "<tr><td>07040056T</td><td>Ceruza piros-kék vékony</td></tr>",
                            "<tr><td>07040057T</td><td>Ceruza Progresso</td></tr>",
                            "<tr><td>07040058T</td><td>Ceruza radíros kínai</td></tr>",
                            "<tr><td>07040059T</td><td>Ceruza smaragd</td></tr>",
                            "<tr><td>07040060T</td><td>Ceruza stabilo swano</td></tr>",
                            "<tr><td>07040061T</td><td>Ceruza stabilo opera</td></tr>",
                            "<tr><td>07040097T</td><td>Filctoll </td></tr>",
                            "<tr><td>07040098T</td><td>Filctoll document pen</td></tr>",
                            "<tr><td>07040099T</td><td>Filctoll Edding 750</td></tr>",
                            "<tr><td>07040100T</td><td>Filctoll Marvy alkoholos</td></tr>",
                            "<tr><td>07040101T</td><td>Filctoll permanent vastag</td></tr>",
                            "<tr><td>07040102T</td><td>Filctoll supra fine</td></tr>",
                            "<tr><td>07040127T</td><td>G. toll betét mini</td></tr>",
                            "<tr><td>07040128T</td><td>G. toll betét mini fém</td></tr>",
                            "<tr><td>07040129T</td><td>G. toll betét réz</td></tr>",
                            "<tr><td>07040130T</td><td>G. toll betét S7S</td></tr>",
                            "<tr><td>07040132T</td><td>G.toll betét csavaros</td></tr>",
                            "<tr><td>07040133T</td><td>G.toll betét görbe hegyű</td></tr>",
                            "<tr><td>07040165T</td><td>Golyóstoll UNI laknock</td></tr>",
                            "<tr><td>07040166T</td><td>Golyóstoll Zebra 301</td></tr>",
                            "<tr><td>07040167T</td><td>Golyóstoll Zebra mini</td></tr>",
                            "<tr><td>07040168T</td><td>Golyóstoll Zebra new hard</td></tr>",
                            "<tr><td>07040169T</td><td>Golyóstoll Zodiák</td></tr>",
                            "<tr><td>07040215T</td><td>Ironbél  2B ICO</td></tr>",
                            "<tr><td>07040216T</td><td>Ironbél B 0,5</td></tr>",
                            "<tr><td>07040217T</td><td>Ironbél H 0,5</td></tr>",
                            "<tr><td>07040218T</td><td>Ironbél HB 0,5</td></tr>",
                            "<tr><td>07040219T</td><td>Ironbél HI-POLIMER HB 0,7</td></tr>",
                            "<tr><td>07040257T</td><td>Lakk filc Edding 750</td></tr>",
                            "<tr><td>07040388T</td><td>Tintapatron /kék/</td></tr>",
                            "<tr><td>07040389T</td><td>Tintapatron 30 db-os kék</td></tr>",
                            "<tr><td>07040390T</td><td>Tintapatron színes</td></tr>",
                            "<tr><td>07040391T</td><td>Toll Centropen roller</td></tr>",
                            "<tr><td>07050462T</td><td>Töltőtoll tinta </td></tr>",
                            "<tr><td>07050463T</td><td>Ceruzafogó</td></tr>",
                            "<tr><td>07050464T</td><td>Szövegkiemelő Staedtler</td></tr>",
                            "<tr><td>07080062T</td><td>Ceruza szén</td></tr>",
                            "<tr><td>07080063T</td><td>Ceruza szorzótáblás</td></tr>",
                            "<tr><td>07080064T</td><td>Ceruza zöld színű</td></tr>",
                            "<tr><td>07080065T</td><td>Ceruza kínai</td></tr>",
                            "<tr><td>07080150T</td><td>Golyóstoll</td></tr>",
                            "<tr><td>07080151T</td><td>Golyóstoll + ceruza Twister 2in1</td></tr>",
                            "<tr><td>07080152T</td><td>Golyóstoll 3 funkciós </td></tr>",
                            "<tr><td>07080153T</td><td>Golyóstoll illatos ICO</td></tr>",
                            "<tr><td>07080154T</td><td>Golyóstoll INOXCROM</td></tr>",
                            "<tr><td>07080155T</td><td>Golyóstoll</td></tr>",
                            "<tr><td>07080156T</td><td>Golyóstoll kupakos piros</td></tr>",
                            "<tr><td>07080157T</td><td>Golyóstoll Montex Hytone</td></tr>",
                            "<tr><td>07080159T</td><td>Golyóstoll Pax tip.</td></tr>",
                            "<tr><td>07080160T</td><td>Golyóstoll penac</td></tr>",
                            "<tr><td>07080161T</td><td>Golyóstoll kétszínű</td></tr>",
                            "<tr><td>07080162T</td><td>Golyóstoll Stabilo piros</td></tr>",
                            "<tr><td>07080316T</td><td>Pixiron KOH-I-NOOR</td></tr>",
                            "<tr><td>07080421T</td><td>Zseléstoll Lizzy Card</td></tr>",
                            "<tr><td>07080466T</td><td>Golyóstoll Stabiló 308</td></tr>",
                            "<tr><td>08070472T</td><td>A föld amelyen élünk - Európa földrajza</td></tr>",
                            "<tr><td>08070473T</td><td>A föld amelyen élünk - Távoli földrészek</td></tr>",
                            "<tr><td>08070474T</td><td>A föld amelyen élünk - Hazánk földrajza</td></tr>",
                            "<tr><td>08070477T</td><td>Anyanyelvi gyakorló 3</td></tr>",
                            "<tr><td>08070478T</td><td>Összefoglaló feladatgyüjtemény számtech.</td></tr>",
                            "<tr><td>08070479T</td><td>Fizika</td></tr>",
                            "<tr><td>08070481T</td><td>Fizika munkafüzet 13 év.</td></tr>",
                            "<tr><td>08070482T</td><td>Fizika munkafüzet 14 év.</td></tr>",
                            "<tr><td>08070483T</td><td>Fizikai feladatok és tévedések</td></tr>",
                            "<tr><td>08070484T</td><td>Fogalmazás lépésről lépésre</td></tr>",
                            "<tr><td>08070485T</td><td>Jól felkészültem-e - Fizika</td></tr>",
                            "<tr><td>08070486T</td><td>Matematika gyakorló 2</td></tr>",
                            "<tr><td>08070487T</td><td>Matematika gyakorló 3</td></tr>",
                            "<tr><td>08070490T</td><td>Szövegszerkesztés</td></tr>",
                            "<tr><td>08070491T</td><td>Szám.tech. kicsiknek</td></tr>",
                            "<tr><td>08070492T</td><td>Informatika</td></tr>",
                            "<tr><td>08070493T</td><td>Érettségi felv. fel. Matematika</td></tr>",
                            "<tr><td>08070494T</td><td>Érettségi felv. fel. Fizika</td></tr>",
                            "<tr><td>08070495T</td><td>Érettségi felv. fel. Biológia</td></tr>",
                            "<tr><td>F001-KB101</td><td>férfi szövet kabát</td></tr>",
                            "<tr><td>F007-NA201</td><td>férfi farmer nadrág</td></tr>",
                            "<tr><td>F013-NA207</td><td>férfi szövet nadrág</td></tr>",
                            "<tr><td>F021-IN215</td><td>férfi ing</td></tr>",
                            "<tr><td>G001-KB101</td><td>gyermek kabát (fiú)</td></tr>",
                            "<tr><td>G013-NA201</td><td>gyermek farmer nadrág (fiú)</td></tr>",
                            "<tr><td>G019-NA207</td><td>gyermek pamut nadrág (fiú)</td></tr>",
                            "<tr><td>G023-FE301</td><td>fiú alsó</td></tr>",
                            "<tr><td>G029-FE307</td><td>fiú zokni</td></tr>",
                            "<tr><td>G038-FE316</td><td>fiú harisnya</td></tr>",
                            "<tr><td>G041-AL211</td><td>fiú ünneplős ruha</td></tr>",
                            "<tr><td>G048-PO218</td><td>gyermek póló (fiú)</td></tr>",
                            "<tr><td>G064-CI401</td><td>gyermek szandál (fiú)</td></tr>",
                            "<tr><td>G073-CI410</td><td>gyermek cipő (fiú)</td></tr>",
                            "<tr><td>G082-CI419</td><td>gyermek csizma (fiú)</td></tr>",
                            "<tr><td>L001-KB101</td><td>gyermek kabát (lány)</td></tr>",
                            "<tr><td>L013-NA201</td><td>gyermek farmer nadrág (lány)</td></tr>",
                            "<tr><td>L019-NA207</td><td>gyermek pamut nadrág (lány)</td></tr>",
                            "<tr><td>L023-FE301</td><td>lány alsó</td></tr>",
                            "<tr><td>L029-FE307</td><td>lány zokni</td></tr>",
                            "<tr><td>L033-FE311</td><td>lány harisnya</td></tr>",
                            "<tr><td>L041-AL211</td><td>lány ünneplős ruha</td></tr>",
                            "<tr><td>L048-PO218</td><td>gyermek póló (lány)</td></tr>",
                            "<tr><td>L064-CI401</td><td>gyermek szandál (lány)</td></tr>",
                            "<tr><td>L073-CI410</td><td>gyermek cipő (lány)</td></tr>",
                            "<tr><td>L082-CI419</td><td>gyermek csizma (lány)</td></tr>",
                            "<tr><td>N001-KB101</td><td>női szövet kabát</td></tr>",
                            "<tr><td>N008-NA201</td><td>női farmer nadrág</td></tr>",
                            "<tr><td>N019-FE301</td><td>női alsó</td></tr>",
                            "<tr><td>N029-AL212</td><td>női koktélruha</td></tr>",
                            "<tr><td>N035-AL218</td><td>kosztüm (rövid)</td></tr>",
                            "<tr><td>N039-AL222</td><td>kosztüm (hosszú)</td></tr>",
                            "<tr><td>U001-KI501</td><td>sál</td></tr>",
                            "</table>"
                        ]
                    }
                }
            ],
            "execution_count": 14
        },
        {
            "cell_type": "code",
            "source": [
                "SELECT termekkod, megnevezes\r\n",
                "FROM Termek\r\n",
                "WHERE keszlet <\r\n",
                "(\r\n",
                " SELECT AVG(keszlet)\r\n",
                " FROM Termek\r\n",
                ")"
            ],
            "metadata": {
                "azdata_cell_guid": "f2b7400d-1255-40ac-9250-4d57f9da5357",
                "language": "sql",
                "tags": []
            },
            "outputs": [],
            "execution_count": null
        },
        {
            "cell_type": "markdown",
            "source": [
                "7. <span style=\"background-color: rgb(255, 255, 255); color: rgb(0, 0, 0); font-family: &quot;Open Sans&quot;, sans-serif; font-size: 14.44px;\">Listázzuk azon ügyfeleket, akik még nem fizettek bankkártyával!&nbsp;</span> \n",
                "\n",
                "a. Csak az ügyfelek neve jelenjen meg!"
            ],
            "metadata": {
                "azdata_cell_guid": "7ebf7ddd-1bd2-4246-815a-be8ae37e3b5b"
            },
            "attachments": {}
        },
        {
            "cell_type": "code",
            "source": [
                "SELECT NEV\r\n",
                "FROM Ugyfel\r\n",
                "WHERE LOGIN NOT IN(\r\n",
                "\r\n",
                "SELECT LOGIN \r\n",
                "FROM Rendeles\r\n",
                "WHERE FIZ_MOD = 'bankkártya')"
            ],
            "metadata": {
                "azdata_cell_guid": "eb162052-5a61-4bb2-b262-49c34bc53892",
                "language": "sql"
            },
            "outputs": [
                {
                    "output_type": "display_data",
                    "data": {
                        "text/html": "(9 rows affected)"
                    },
                    "metadata": {}
                },
                {
                    "output_type": "display_data",
                    "data": {
                        "text/html": "Total execution time: 00:00:00.055"
                    },
                    "metadata": {}
                },
                {
                    "output_type": "execute_result",
                    "metadata": {},
                    "execution_count": 18,
                    "data": {
                        "application/vnd.dataresource+json": {
                            "schema": {
                                "fields": [
                                    {
                                        "name": "NEV"
                                    }
                                ]
                            },
                            "data": [
                                {
                                    "NEV": "Biró Alexander"
                                },
                                {
                                    "NEV": "Csóti Attila"
                                },
                                {
                                    "NEV": "Bagi Beáta"
                                },
                                {
                                    "NEV": "Mór Ottó"
                                },
                                {
                                    "NEV": "Molnár Eszter"
                                },
                                {
                                    "NEV": "Kiss Anita"
                                },
                                {
                                    "NEV": "Kispál Márk"
                                },
                                {
                                    "NEV": "Nagy Péter"
                                },
                                {
                                    "NEV": "Szűcs Norbert"
                                }
                            ]
                        },
                        "text/html": [
                            "<table>",
                            "<tr><th>NEV</th></tr>",
                            "<tr><td>Biró Alexander</td></tr>",
                            "<tr><td>Csóti Attila</td></tr>",
                            "<tr><td>Bagi Beáta</td></tr>",
                            "<tr><td>Mór Ottó</td></tr>",
                            "<tr><td>Molnár Eszter</td></tr>",
                            "<tr><td>Kiss Anita</td></tr>",
                            "<tr><td>Kispál Márk</td></tr>",
                            "<tr><td>Nagy Péter</td></tr>",
                            "<tr><td>Szűcs Norbert</td></tr>",
                            "</table>"
                        ]
                    }
                }
            ],
            "execution_count": 18
        },
        {
            "cell_type": "code",
            "source": [
                "SELECT u.nev\r\n",
                "FROM Ugyfel u\r\n",
                "WHERE NOT EXISTS\r\n",
                "(\r\n",
                " SELECT *\r\n",
                " FROM Rendeles r JOIN Ugyfel u2 ON r.LOGIN = u2.LOGIN\r\n",
                " WHERE u.LOGIN = u2.LOGIN AND r.FIZ_MOD ='Bankkártya'\r\n",
                ")"
            ],
            "metadata": {
                "azdata_cell_guid": "84b7e896-f36e-4985-88f5-e0f706494fef",
                "language": "sql",
                "tags": []
            },
            "outputs": [
                {
                    "output_type": "display_data",
                    "data": {
                        "text/html": "(9 rows affected)"
                    },
                    "metadata": {}
                },
                {
                    "output_type": "display_data",
                    "data": {
                        "text/html": "Total execution time: 00:00:00.086"
                    },
                    "metadata": {}
                },
                {
                    "output_type": "execute_result",
                    "metadata": {},
                    "execution_count": 17,
                    "data": {
                        "application/vnd.dataresource+json": {
                            "schema": {
                                "fields": [
                                    {
                                        "name": "nev"
                                    }
                                ]
                            },
                            "data": [
                                {
                                    "nev": "Biró Alexander"
                                },
                                {
                                    "nev": "Csóti Attila"
                                },
                                {
                                    "nev": "Bagi Beáta"
                                },
                                {
                                    "nev": "Mór Ottó"
                                },
                                {
                                    "nev": "Molnár Eszter"
                                },
                                {
                                    "nev": "Kiss Anita"
                                },
                                {
                                    "nev": "Kispál Márk"
                                },
                                {
                                    "nev": "Nagy Péter"
                                },
                                {
                                    "nev": "Szűcs Norbert"
                                }
                            ]
                        },
                        "text/html": [
                            "<table>",
                            "<tr><th>nev</th></tr>",
                            "<tr><td>Biró Alexander</td></tr>",
                            "<tr><td>Csóti Attila</td></tr>",
                            "<tr><td>Bagi Beáta</td></tr>",
                            "<tr><td>Mór Ottó</td></tr>",
                            "<tr><td>Molnár Eszter</td></tr>",
                            "<tr><td>Kiss Anita</td></tr>",
                            "<tr><td>Kispál Márk</td></tr>",
                            "<tr><td>Nagy Péter</td></tr>",
                            "<tr><td>Szűcs Norbert</td></tr>",
                            "</table>"
                        ]
                    }
                }
            ],
            "execution_count": 17
        },
        {
            "cell_type": "markdown",
            "source": [
                "8. <span style=\"background-color: rgb(255, 255, 255); color: rgb(0, 0, 0); font-family: &quot;Open Sans&quot;, sans-serif; font-size: 14.44px;\">Mennyibe kerül a második legnagyobb listaárú termék?</span>"
            ],
            "metadata": {
                "azdata_cell_guid": "27a3d3dc-eafb-4a5e-b103-9f465b9eda8f"
            },
            "attachments": {}
        },
        {
            "cell_type": "code",
            "source": [
                "SELECT max(listaar)\r\n",
                "FROM Termek \r\n",
                "WHERE listaar <\r\n",
                "(\r\n",
                " SELECT max(LISTAAR)\r\n",
                " FROM Termek\r\n",
                ")"
            ],
            "metadata": {
                "azdata_cell_guid": "f09edb3f-649b-4a96-958e-9e12774ae8b7",
                "language": "sql"
            },
            "outputs": [],
            "execution_count": null
        },
        {
            "cell_type": "markdown",
            "source": [
                "9. <span style=\"background-color: rgb(255, 255, 255); color: rgb(0, 0, 0); font-family: &quot;Open Sans&quot;, sans-serif; font-size: 14.44px;\">Melyik raktár(ak)ban van az a termék, amelyből a legnagyobb készlet van?&nbsp;</span> \n",
                "\n",
                "a. Csak a raktár(ak) neve jelenjen meg!"
            ],
            "metadata": {
                "azdata_cell_guid": "f12a331a-0e26-4d3d-9c68-812316286577"
            },
            "attachments": {}
        },
        {
            "cell_type": "code",
            "source": [
                "SELECT TERMEKKOD\r\n",
                "FROM Termek\r\n",
                "WHERE keszlet = MAX(keszlet)"
            ],
            "metadata": {
                "azdata_cell_guid": "e9657149-1d5f-4d08-a279-e37c6573172f",
                "language": "sql"
            },
            "outputs": [
{
    "output_type": "display_data",
    "data": {
        "text/html": "Query was canceled by user"
    },
    "metadata": {}
}, {
    "output_type": "display_data",
    "data": {
        "text/html": "Total execution time: 00:01:04.317"
    },
    "metadata": {}
}
],
            "execution_count": 19
        },
        {
            "cell_type": "code",
            "source": [
                "SELECT r.RAKTAR_NEV\r\n",
                "FROM Raktar r JOIN Termek t ON r.RAKTAR_KOD = t.RAKTAR_KOD\r\n",
                "WHERE t.keszlet =\r\n",
                "(\r\n",
                "  SELECT MAX(keszlet)\r\n",
                "  FROM Termek\r\n",
                ")"
            ],
            "metadata": {
                "azdata_cell_guid": "10a77fc9-e61a-46fc-a401-59720d82bc50",
                "language": "sql",
                "tags": []
            },
            "outputs": [],
            "execution_count": null
        },
        {
            "cell_type": "markdown",
            "source": [
                "10. <span style=\"background-color: rgb(255, 255, 255); color: rgb(0, 0, 0); font-family: &quot;Open Sans&quot;, sans-serif; font-size: 14.44px;\">Melyek azok a termékek, amelyek listaára nagyobb, mint bármelyik olyan terméké, amelynek nevében az Ajándék szó szerepel?&nbsp;</span> \n",
                "\n",
                "a. A termékek kódját és nevét is jelenítsük meg!"
            ],
            "metadata": {
                "azdata_cell_guid": "9229e2b6-e200-4499-b95b-2d0222149831"
            },
            "attachments": {}
        },
        {
            "cell_type": "code",
            "source": [
                "SELECT MEGNEVEZES\r\n",
                "FROM Termek \r\n",
                "WHERE LISTAAR > ALL\r\n",
                "(\r\n",
                " SELECT LISTAAR\r\n",
                " FROM Termek\r\n",
                " WHERE MEGNEVEZES LIKE '%Ajándék%'\r\n",
                ")"
            ],
            "metadata": {
                "azdata_cell_guid": "8b49ed67-28c6-4880-82a8-cd369e5bba99",
                "language": "sql"
            },
            "outputs": [],
            "execution_count": null
        },
        {
            "cell_type": "markdown",
            "source": [
                "11. <span style=\"background-color: rgb(255, 255, 255); color: rgb(0, 0, 0); font-family: &quot;Open Sans&quot;, sans-serif; font-size: 14.44px;\">Melyik hónapokban adtak le az ügyfelek több rendelést, mint januárban?&nbsp;</span> \n",
                "\n",
                "a. Elég a hónapok sorszámait megjeleníteni. \n",
                "\n",
                "b. A listát rendezzük a hónapok száma szerint növekvő sorrendbe!"
            ],
            "metadata": {
                "azdata_cell_guid": "7f5fc7a7-3b6a-4d89-b292-490830afb0c6"
            },
            "attachments": {}
        },
        {
            "cell_type": "code",
            "source": [
                "SELECT MONTH(rend_datum)\r\n",
                "FROM Rendeles\r\n",
                "GROUP BY MONTH(rend_datum)\r\n",
                "HAVING COUNT(*)>\r\n",
                "(\r\n",
                " SELECT COUNT(*)\r\n",
                " FROM Rendeles\r\n",
                " WHERE MONTH(rend_datum)=1\r\n",
                ")\r\n",
                "ORDER BY 1"
            ],
            "metadata": {
                "azdata_cell_guid": "4a9ece40-f782-4c0d-92cd-9c21969067ed",
                "language": "sql"
            },
            "outputs": [],
            "execution_count": null
        },
        {
            "cell_type": "markdown",
            "source": [
                "12. <span style=\"background-color: rgb(255, 255, 255); color: rgb(0, 0, 0); font-family: &quot;Open Sans&quot;, sans-serif; font-size: 14.44px;\">Melyek azok a termékek, amelyek listaára az átlagostól max. 20%-kal tér el?&nbsp;</span> \n",
                "\n",
                "a. A termék kódját és nevét is jelenítsük meg!"
            ],
            "metadata": {
                "azdata_cell_guid": "5a483c52-bb98-44bb-bd03-1146d4b0abfa"
            },
            "attachments": {}
        },
        {
            "cell_type": "code",
            "source": [
                "SELECT termekkod, megnevezes\r\n",
                "FROM Termek \r\n",
                "WHERE LISTAAR >=\r\n",
                "(\r\n",
                " SELECT 0.8*AVG(listaar)\r\n",
                " FROM Termek\r\n",
                ")\r\n",
                "\r\n",
                "AND LISTAAR <=\r\n",
                "(\r\n",
                " SELECT 1.2*AVG(listaar)\r\n",
                " FROM Termek\r\n",
                ")"
            ],
            "metadata": {
                "azdata_cell_guid": "dd6e89bd-08f9-4b18-8460-03c45b503df0",
                "language": "sql"
            },
            "outputs": [],
            "execution_count": null
        },
        {
            "cell_type": "markdown",
            "source": [
                "13. <span style=\"background-color: rgb(255, 255, 255); color: rgb(0, 0, 0); font-family: &quot;Open Sans&quot;, sans-serif; font-size: 14.44px;\">Készítsünk listát (sorszámonként) az egyes rendelések teljes összegéről!&nbsp;</span> \n",
                "\n",
                "a. Szűrjünk azon tételekre, ahol ez az érték nagyobb, mint Viktor Éva rendeléseinek teljes összege! \n",
                "\n",
                "b. A teljes összeg oszlopot nevezzük el értelemszerűen!"
            ],
            "metadata": {
                "azdata_cell_guid": "85d5cb66-96c6-42de-99cf-85ab22d08548"
            },
            "attachments": {}
        },
        {
            "cell_type": "code",
            "source": [
                "SELECT r.SORSZAM, SUM(rt.MENNYISEG*rt.EGYSEGAR) AS 'Rendelés összege'\r\n",
                "FROM Rendeles r JOIN Rendeles_tetel rt ON r.SORSZAM = rt.SORSZAM\r\n",
                "GROUP BY r.SORSZAM\r\n",
                "HAVING SUM(rt.MENNYISEG*rt.EGYSEGAR)>\r\n",
                "(\r\n",
                " SELECT SUM(rt.MENNYISEG*rt.EGYSEGAR)\r\n",
                " FROM Rendeles r JOIN Rendeles_tetel rt ON r.SORSZAM = rt.SORSZAM\r\n",
                "      JOIN Ugyfel u ON r.LOGIN = u.LOGIN\r\n",
                " WHERE u.NEV='Viktor Éva'\r\n",
                ")\r\n",
                ""
            ],
            "metadata": {
                "azdata_cell_guid": "cb07d64b-0eaa-498b-b4d2-0b46971e95ce",
                "language": "sql"
            },
            "outputs": [],
            "execution_count": null
        },
        {
            "cell_type": "markdown",
            "source": [
                "14. <span style=\"background-color: rgb(255, 255, 255); color: rgb(0, 0, 0); font-family: &quot;Open Sans&quot;, sans-serif; font-size: 14.44px;\">Listázzuk azokat a termékkategóriákat, amelyből 2017 januárban nem történt rendelés!&nbsp;</span> \n",
                "\n",
                "a. Elég a kategóriák nevét megjeleníteni!"
            ],
            "metadata": {
                "azdata_cell_guid": "f95ad665-a807-4099-bf06-64ed974f866f"
            },
            "attachments": {}
        },
        {
            "cell_type": "code",
            "source": [
                "SELECT tk.KAT_NEV\r\n",
                "FROM Termekkategoria tk \r\n",
                "WHERE tk.KAT_ID NOT IN\r\n",
                "(\r\n",
                " SELECT t.KAT_ID\r\n",
                " FROM Rendeles r JOIN Rendeles_tetel rt ON r.SORSZAM = rt.SORSZAM\r\n",
                "      JOIN Termek t ON rt.TERMEKKOD = t.TERMEKKOD\r\n",
                " WHERE tk.KAT_ID = t.KAT_ID \r\n",
                "       AND r.REND_DATUM BETWEEN '2017.01.01' AND '2017.01.31'\r\n",
                ")"
            ],
            "metadata": {
                "azdata_cell_guid": "74c7ec8a-ae4a-4d03-b1c4-e8f6bb1be12c",
                "language": "sql"
            },
            "outputs": [],
            "execution_count": null
        },
        {
            "cell_type": "markdown",
            "source": [
                "15. <span style=\"background-color: rgb(255, 255, 255); color: rgb(0, 0, 0); font-family: &quot;Open Sans&quot;, sans-serif; font-size: 14.44px;\">Listázzuk azon rendelési tételeket, amelynek értéke nagyobb, mint a legdrágább termék listaára azon termékek közül, amelyek szülő kategóriája a ruha!</span>"
            ],
            "metadata": {
                "azdata_cell_guid": "93552388-ffec-49ff-99e5-ae8dc8072601"
            },
            "attachments": {}
        },
        {
            "cell_type": "code",
            "source": [
                "SELECT rt.*\r\n",
                "FROM Rendeles_tetel rt\r\n",
                "WHERE rt.MENNYISEG * rt.EGYSEGAR >\r\n",
                "(\r\n",
                "  SELECT max(t.listaar)\r\n",
                "  FROM Termek t\r\n",
                "  WHERE t.KAT_ID IN\r\n",
                "  (\r\n",
                "    SELECT tk.kat_id\r\n",
                "\tFROM Termekkategoria tk\r\n",
                "\t     JOIN Termekkategoria tk2 ON tk.SZULO_KAT = tk2.KAT_ID\r\n",
                "\tWHERE tk2.KAT_NEV='ruha'\r\n",
                "  )\r\n",
                ")"
            ],
            "metadata": {
                "azdata_cell_guid": "0e7f547f-7d96-4611-b1c2-0fa84a581e79",
                "language": "sql"
            },
            "outputs": [],
            "execution_count": null
        }
    ]
}