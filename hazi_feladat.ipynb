{
    "metadata": {
        "kernelspec": {
            "name": "SQL",
            "display_name": "SQL",
            "language": "sql"
        },
        "language_info": {
            "name": "sql",
            "version": ""
        }
    },
    "nbformat_minor": 2,
    "nbformat": 4,
    "cells": [
        {
            "cell_type": "markdown",
            "source": [
                "Vizsgáljuk meg a Login-ek min., max., és átlagos hosszát!"
            ],
            "metadata": {
                "azdata_cell_guid": "4ee8a000-f2a6-4e87-b430-7400de36bb8c"
            },
            "attachments": {}
        },
        {
            "cell_type": "code",
            "source": [
                "SELECT MIN(LEN(LOGIN)) AS Legrövidebb_login, \r\n",
                "       MAX(LEN(LOGIN)) AS Leghosszabb_login, \r\n",
                "       AVG(LEN(LOGIN)) AS Átlagos_login_hossz\r\n",
                "\r\n",
                "FROM Rendeles\r\n",
                "WHERE LOGIN IS NOT NULL\r\n",
                "AND LEN(LOGIN) > 0"
            ],
            "metadata": {
                "azdata_cell_guid": "5385ada0-d16f-4403-a7d0-898732b72588",
                "language": "sql"
            },
            "outputs": [
                {
                    "output_type": "display_data",
                    "data": {
                        "text/html": "(1 row affected)"
                    },
                    "metadata": {}
                },
                {
                    "output_type": "display_data",
                    "data": {
                        "text/html": "Total execution time: 00:00:00.024"
                    },
                    "metadata": {}
                },
                {
                    "output_type": "execute_result",
                    "metadata": {},
                    "execution_count": 21,
                    "data": {
                        "application/vnd.dataresource+json": {
                            "schema": {
                                "fields": [
                                    {
                                        "name": "Legrövidebb_login"
                                    },
                                    {
                                        "name": "Leghosszabb_login"
                                    },
                                    {
                                        "name": "Átlagos_login_hossz"
                                    }
                                ]
                            },
                            "data": [
                                {
                                    "Legrövidebb_login": "3",
                                    "Leghosszabb_login": "11",
                                    "Átlagos_login_hossz": "6"
                                }
                            ]
                        },
                        "text/html": [
                            "<table>",
                            "<tr><th>Legrövidebb_login</th><th>Leghosszabb_login</th><th>Átlagos_login_hossz</th></tr>",
                            "<tr><td>3</td><td>11</td><td>6</td></tr>",
                            "</table>"
                        ]
                    }
                }
            ],
            "execution_count": 21
        },
        {
            "cell_type": "markdown",
            "source": [
                "Vizsgáljuk a megrendelés és a kiszállítás közötti reakcióidőt!"
            ],
            "metadata": {
                "azdata_cell_guid": "f3ad1bd8-9ab4-4e87-bf50-0e8a9700eaba"
            },
            "attachments": {}
        },
        {
            "cell_type": "code",
            "source": [
                "DECLARE \r\n",
                "@min int = 3,\r\n",
                "@max int = 7;   \r\n",
                "\r\n",
                "SELECT \r\n",
                "    SUM(CASE WHEN DATEDIFF(day, rend_datum, szall_datum) < @min THEN 1 ELSE 0 end) AS '3 nap alatt',\r\n",
                "    SUM(CASE WHEN DATEDIFF(day, rend_datum, szall_datum) BETWEEN @min and @max THEN 1 ELSE 0 end) AS '3 és 7 nap között',\r\n",
                "    SUM(CASE WHEN DATEDIFF(day, rend_datum, szall_datum) > @max THEN 1 ELSE 0 end) AS '7 nap felett'\r\n",
                "FROM Rendeles"
            ],
            "metadata": {
                "azdata_cell_guid": "fddbcf3d-e602-4fa4-b67f-a44f638d5dba",
                "language": "sql"
            },
            "outputs": [
                {
                    "output_type": "display_data",
                    "data": {
                        "text/html": "(1 row affected)"
                    },
                    "metadata": {}
                },
                {
                    "output_type": "display_data",
                    "data": {
                        "text/html": "Total execution time: 00:00:00.029"
                    },
                    "metadata": {}
                },
                {
                    "output_type": "execute_result",
                    "metadata": {},
                    "execution_count": 22,
                    "data": {
                        "application/vnd.dataresource+json": {
                            "schema": {
                                "fields": [
                                    {
                                        "name": "3 nap alatt"
                                    },
                                    {
                                        "name": "3 és 7 nap között"
                                    },
                                    {
                                        "name": "7 nap felett"
                                    }
                                ]
                            },
                            "data": [
                                {
                                    "3 nap alatt": "3110",
                                    "3 és 7 nap között": "15648",
                                    "7 nap felett": "9327"
                                }
                            ]
                        },
                        "text/html": [
                            "<table>",
                            "<tr><th>3 nap alatt</th><th>3 és 7 nap között</th><th>7 nap felett</th></tr>",
                            "<tr><td>3110</td><td>15648</td><td>9327</td></tr>",
                            "</table>"
                        ]
                    }
                }
            ],
            "execution_count": 22
        },
        {
            "cell_type": "markdown",
            "source": [
                "Hány helyen nincs megadva a szállítási cím?"
            ],
            "metadata": {
                "azdata_cell_guid": "62e92c1f-47f2-4903-860c-d6c971900e9e"
            },
            "attachments": {}
        },
        {
            "cell_type": "code",
            "source": [
                "SELECT [kitöltötték-e?], COUNT(*) AS \"mennyi\"\r\n",
                "FROM \r\n",
                "(SELECT CASE WHEN SZALL_CIM IS NULL THEN 'kitöltetlen'\r\n",
                "            WHEN LEN(SZALL_CIM) = 0 THEN 'üres'\r\n",
                "            ELSE 'kitöltött'\r\n",
                "            END AS 'kitöltötték-e?'\r\n",
                "FROM Rendeles) rows\r\n",
                "GROUP BY [kitöltötték-e?]\r\n",
                ""
            ],
            "metadata": {
                "azdata_cell_guid": "b2f10ca4-3ec6-42df-9a67-96d8ba2ffa6a",
                "language": "sql",
                "tags": []
            },
            "outputs": [
                {
                    "output_type": "display_data",
                    "data": {
                        "text/html": "(2 rows affected)"
                    },
                    "metadata": {}
                },
                {
                    "output_type": "display_data",
                    "data": {
                        "text/html": "Total execution time: 00:00:00.053"
                    },
                    "metadata": {}
                },
                {
                    "output_type": "execute_result",
                    "metadata": {},
                    "execution_count": 23,
                    "data": {
                        "application/vnd.dataresource+json": {
                            "schema": {
                                "fields": [
                                    {
                                        "name": "kitöltötték-e?"
                                    },
                                    {
                                        "name": "mennyi"
                                    }
                                ]
                            },
                            "data": [
                                {
                                    "kitöltötték-e?": "kitöltött",
                                    "mennyi": "6396"
                                },
                                {
                                    "kitöltötték-e?": "kitöltetlen",
                                    "mennyi": "21689"
                                }
                            ]
                        },
                        "text/html": [
                            "<table>",
                            "<tr><th>kitöltötték-e?</th><th>mennyi</th></tr>",
                            "<tr><td>kitöltött</td><td>6396</td></tr>",
                            "<tr><td>kitöltetlen</td><td>21689</td></tr>",
                            "</table>"
                        ]
                    }
                }
            ],
            "execution_count": 23
        },
        {
            "cell_type": "markdown",
            "source": [
                "![](data:image/png;base64,iVBORw0KGgoAAAANSUhEUgAABkAAAAIfCAYAAAAomxCWAAAgAElEQVR4nOzdf3DlZ33Y+8/zPZLW1m69/ChW2Gh3zzkS67BthgG3NzfAXESG8OPWqck0oQONSU2uTZraw9TXwCZc8JK4eGlMCuOMW18TSkzTQqDDj5LQUMcjF8MNSfb6EsDGZvfoSGtk1ia+rH9o0eqc8/SPaJ1lV1pr0ZFkP3q9ZnaMv+fzPN9H8vmD8dvnfCMAAAAAAAAAAAAAAAAAAAAAAAAAAAAAAAAAAAAAAAAAAAAAAAAAAAAAAAAAAAAAAAAAAAAAAAAAAAAAAAAAAAAAAAAAAAAAAAAAAAAAAAAAAAAAAAAAAAAAAAAAAABWJG30AQAAeObJb7l+X0Q0Nvoc66bKB9KH3z210cd4JvuHH3v42sjxgo0+x3qpuvnGr15+4bc3+hwAALCZVRt9AAAAKEWz2XxLo9Fo7969+4UrnRkfH9/SbDYvr9frP3Xq3J49e/5uo9H4s2azeWBx3YFGo/Fne/bs+bun7fXktdXstdTa5fajf56u75mVWGrt6fsDAMBGEkAAAGADLSwsNHPO10XEeRu511Jr+3k2+ufp/J4BAICnk4GNPgAAAGwmrVbrIxHxkaeau//++78XEf/rKev2/aj37OderL+NeM8AAEAJBBAAAFgjExMTA+12+zdSSv8y53xlu93+XLPZvDzn/J5er/e6lNKFKaXJiIiU0mSj0fjq4ODgJffff//3Go3GSET8y4i4IiJ+LOd8MCJurNfrn5qcnOycfq96vf6KH3WvpdZGxPsi4rNL7bf2v7nN6+nynhkZGdm6devWq3POb1tqr+XWdjpn3Caeaq+Iv/nqrJzzlSmlqyLi/8w5vz4ijqeUfn9+fv7673znO3+9Br9uAAAK5yuwAABgbaSZmZnLUkrXRsTb2+325yIinzowMDBwT0rpVyLioZTSNSmla3u93mO7d+9+fkR8IiLenFL6zZTSJVVVfT2ldNvMzMy7JyYmzvgPmVaz11JrBwcHDy6131r/0ja5p8V7Zmxs7MLh4eFP5Zx/Jee8P+f82qqq/jSl9B/O9p5Z6v2xkr1OGd+Tc/7PETGTUvqFlNKtOedfHRoa+o2lzg8AAE/F/4kEAIA+yzmnRqNxWc75Qymlt7VarY/Faf8iOyLi0KFDD+/evfv/qarqeK/X+3/b7fZdEZEajcZbIqJeVdUlhw8f/sbi+Bfq9frXIuLt09PT/yUi/qpfe01NTf3VEmtjqWusjafReyaazeYvRMRIzvln2+12e3H8T5rN5v/IOf+7s71nms3m6T/XU+51yrmeHRFvX/zKrxwRf1yv17sppZ+ZnZ19VkT49BEAAOfEJ0AAAKDParXa6yLigznnd7RarY/GEv8iezn1en17RLwiIj63c+fOb53yUm9gYOC/RsTjOedXrvderK2ny3tmZGRka875f4uI2Yj4iWaz+aqTfyJiJCK2pJT+wRrtdaRWq/1Z/O3PnquqOhQRPzY/P/+8ldwTAABO5RMgAADQX7sj4saIiKqqfmrHjh23zc7Ozq108dDQ0MDCwsIFOefDpz+3oaqqY91u9/+vqur5670Xa+pp857Zvn37+QsLC/WI+KmU0j/K+cwOk3NurNFevYWFhd5K9gYAgJUQQAAAoL8Wcs7X55y/XlXVf9yyZcsfR8QnN/pQPK097d4zKaX3t1qtfU+3vQAA4Fz4CiwAAOiv2ZzzJxcWFv4kpfSHEfHrY2NjO1e6+MSJE52IeDSlNHb6g597vd72iHh2zvnweu/FmnravGdSSvMR8d2c809cdNFFf+dcfoi13AsAAH4UAggAAKyB2dnZuZTSByLiOd1u91+c/i+ml9Nut49FxJ0R8Y+PHDnyE6e8VHU6nZ+LiOellO5e771Ye0+H98x99933WErpixHxM/Pz8y899bV6vf6aer3+QLPZ/N/Xey8AAPhR+AosAABYI4cPH/5ms9n89xHxjna7/SfxN/+S+nQ/iIi5qqr+eb1ej4GBgT9bWFj4SFVVP9vr9T7fbDbfHxEzEfELOed/llK6YdeuXf9fq9Va6par2WuptWdcO3To0Pwa/KpY9DR5z3y6qqo3pJQ+02g0fjvn/OWqql6ac74yIr543nnn/Y/l1vZ6P/wIj263u9K9AACg73wCBAAA1k5OKX0k53x3Suk3RkdHn3P6QKPROJJz/r9zzpdGxO/1er3d09PTD0bEP42I23LO78k5f77X6/1kzvkXd+3a9VunP+i6H3sttXapa2v1i+JJT4v3zIkTJ/5JRPx2RFyRUvpvOefLUkofmpub+7V77rnn8eXWnr7/SvcCAIC1kDb6AAAAPPPkt1y/LyIaG32OdVPlA+nD757a6GM8k/3Djz18beR4wUafY71U3XzjVy+/8NsbfQ4AANjMfAIEAAAAAAAojgACAAAAAAAURwABAAAAAAAAAAAAAAAAAAAAAAAAAAAAAAAAAAAAAAAAAAAAAAAAAAAAAAAAAAAAAAAAYCOl5V4YGRnZunXr1qtzzldGRCMivptS+tATTzxx09GjR584OddsNl+ec74jIgZP22K61+u9bnp6+t7l7jExMTEwPT39poh4V0TsyTkfrKrqhlar9emI6K3VHAAAAAAAULbaUhf37t27LaV0c0T8s4j49ymlAxHxnYh4++Dg4At27Nhx+8MPP3wiIuLZz372qyLipyLilpTS7SmlOxf/fLXb7X710UcffWyZe6eqqt4RETemlH4/Iv5NVVXPyTn/X89+9rOPfP/73//aGs0BAAAAAACbUb1ef22j0XikXq+/5tTrzWbzHzUajSfq9fprFy+lRqPx241G4+MjIyNbz+Ue4+PjY41G475Go3F1LH4SZWJiYqBer7+v0Wj8xc6dO3esxRwAAAAAAFC+aqmLKaW/HxHfqtVqd592/a8i4nBVVTsiIkZGRoYjYmdKqX3q12KtRLfbfXFEbOn1erdHRI6ImJyc7ETEZyNirFarvWAt5gAAAAAAgPItGUCmpqZunJqaeunhw4cfOu2lnRFRzzk/GhGxbdu2rRExlnP+62az+cFGo3G80Wg82Gw2963gEyEviojvbtmy5eFTL3Y6nQciYjqltGeN5gAAAAAAgMItGUCWsnfv3m29Xu+tEXFfp9P5SkREp9P58YjYFRHX5Jwfyjm/PqV0W875uuHh4Zv37t27bbn9UkqDEdE+duzY8VOvDw8Pz0fEfEppbC3mAAAAAACA8g2sZGh0dPT848ePvycifi6l9ItHjhyZjYhIKV2Qc36sqqq3tlqtP10c/2K9Xv9KSumTc3NzX4iIjy+xZS0izss5d2u1Wj7Lrfs9BwAAAAAAbAJPGUDGx8cv6HQ6H4yI1+ecL5+amrrj5GvtdvvOiBg/bUkeGBj4Srfb/cuU0ksnJiY+tfgsjlN1I+IHKaVat9tNZ7l9v+fOMLbvpmMRccFKZg8fuPrHd131W1cNbnvWr5/LPQAAAAAAgPV11gAyNja2s9vtfjildFFEXNput790+szFF188ePDgwU4sPng8IuKxxx6bGx4ensk5P/f+++8fiojTA0jknBcior59+/bzT32A+tzc3JbBwcEtOefDazF3xjkifudsv4NT7b7q+u9UA4NfyhH7V7oGAAAAAABYf8sGkEajcVGv17tt8W9fMzU1dd/pM81m88AjjzzymtHR0UseeOCB75y8Pjg4+KyIuCil9PnZ2dm5ZW7xtYi4bH5+/nkR8b0nDzQwMBoRYyml1hrN/ZDWgavfu9zv4HS7r7p+f7dz4q6ZA+9c8RoAAAAAAGD9LfkQ9N27dz8/Im6JiOO9Xu/1S8WPiIherzcZEXuGhoZeHREnv3oqDQ4OvjYixqqq+sJyN67VandHxHxVVa86uXZiYmIgIi6NiPsWFhbuXYs5AAAAAACgfEt9AiTVarVfzjm/Iuf8n2q12q82m83TZ/57q9W6a3h4+K7jx49/Kud8c6PRaOScv5xSenVEXJ1SumHnzp1/fvjw4dixY8fw0NDQrRERJ06cuGJ2dnZudHR0ut1u/0FK6QONRqMeEXfOzMz8fErpDSmlq44cOfJgRES/5wAAAAAAgPKdEUDq9fr2nPPPRESklN6Ucz5jUUppOiLuuueeex4fGRn5ta1bt96bc35bSundOeeDEfHm3bt3L/Xw8ydNTk52xsfH39/pdGZSSr8eEdf0er2DVVW9udVqfToWnynS7zkAAAAAAIC+GRsbu7DRaPybHTt2DG/0WX5Uu6+6Pu+66rfet9HnAAAAAAAAzm7JZ4CsgdTtdn86Iqo9e/acWKd7AgAAAAAAm9S6BJDx8fGhqqpeEhG3nu1rsQAAAAAAAPphqYeg992hQ4fmI+K69bgXAAAAAADAen0FFgAAAAAAwLoRQAAAAAAAgOIIIAAAAAAAQHEEEAAAAAAAoDgCCAAAAAAAUBwBBAAAAAAAKI4AAgAAAAAAFEcAAQAAAAAAiiOAAAAAAAAAxRFAAAAAAACA4gggAAAAAABAcQQQAAAAAACgOAIIAAAAAABQHAEEAAAAAAAojgACAAAAAAAURwABAAAAAACKI4AAAAAAAADFEUAAAAAAAIDiCCAAAAAAAEBxBBAAAAAAAKA4AggAAAAAAFAcAQQAAAAAACiOAAIAAAAAABRHAAEAAAAAAIojgAAAAAAAAMURQAAAAAAAgOIIIAAAAAAAQHEEEAAAAAAAoDgCCAAAAAAAUBwBBAAAAAAAKI4AAgAAAAAAFEcAAQAAAAAAiiOAAAAAAAAAxRFAAAAAAACA4gggAAAAAABAcQQQAAAAAACgOAIIAAAAAABQHAEEAAAAAAAojgACAAAAAAAURwABAAAAAACKI4AAAAAAAADFEUAAAAAAAIDiCCAAAAAAAEBxBBAAAAAAAKA4AggAAAAAAFAcAQQAAAAAACiOAAIAAAAAABRHAAEAAAAAAIojgAAAAAAAAMURQAAAAAAAgOIMbPQBAAAANquX/d7Df2ejzwAAEBHx5V953mMbfQboNwEEAABggxwfyiO1nN6+0ecAADa5nO+IiE9s9DGg33wFFgAAAAAAUBwBBAAAAAAAKI4AAgAAAAAAFEcAAQAAAAAAiiOAAAAAAAAAxRFAAAAAAACA4gggAAAAAABAcQQQAAAAAACgOAIIAAAAAABQHAEEAAAAAAAojgACAAAAAAAURwABAAAAAACKI4AAAAAAAADFEUAAAAAAAIDiCCAAAAAAAEBxBBAAAAAAAKA4AggAAAAAAFAcAQQAAAAAACiOAAIAAAAAABRHAAEAAAAAAIojgAAAAAAAAMUZWO6FkZGRrVu3br0653xlRDQi4rsppQ898cQTNx09evSJk3MTExMD09PTb4qId0XEnpzzwaqqbmi1Wp+OiN7Zbr7Stf2eAwAAAAAAyrbkJ0D27t27bXh4+Oac89si4sMppZ+NiJtyzu8YHh6+ee/evdsWR9PMzMy1EXFLSukzEXFpVVVfzznf1mg0fukp7r3Stf2eAwAAAAAACrdkAJmbm3t5RPxczvmfT01Nva/Vat0+NTX1vpTSZRHxC4uvx/j4eDPnfHlEvKPVau2bmpr63K5du67IOX8oIq7euXPnjuVuvNK1/Z4DAAAAAADKt2QASSn9/Yj4Vq1Wu/u0638VEYerqtoREdHtdl8cEVt6vd7tEZEjIiYnJzsR8dmIGKvVai9Y7sYrXdvvOQAAAAAAoHxLBpCpqakbp6amXnr48OGHTntpZ0TUc86PLv79iyLiu1u2bHn41KFOp/NAREynlPac5d4rXdvvOQAAAAAAoHBLBpCl7N27d1uv13trRNzX6XS+EhGRUhqMiPaxY8eOnzo7PDw8HxHzKaWx5fZb6dp+zwEAAAAAAOUbWMnQ6Ojo+cePH39PRPxcSukXjxw5MhsRtYg4L+fcrdVq+Rzvu9K1/Z4DAAAAAAA2gacMIOPj4xd0Op0PRsTrc86XT01N3bH4UjcifpBSqnW73XSO913p2n7PAQAAAAAAm8BZA8jY2NjObrf74ZTSRRFxabvd/tKpr+ecFyKivn379vOPHj36xMnrc3NzWwYHB7fknA8vt/dK1/Z77oyfcd9NxyLigrP9Hk7qPH4sagNDLx/bd5NPmQAAAKv2+Lf/KM577gs3+hgAwCa38MTRK8f23fTxjT4H9NuyAaTRaFzU6/VuW/zb10xNTd23xNjXIuKy+fn550XE957cdGBgNCLGUkqts9x7pWv7PfdDcvT+7VnOeLrrFte8928vVTmil87864/KfmXut9w+pe73VPtulv1Wa7Ps90z752o/+9lv/fZbLfv1Z5/NtN/6SwPDz6kNbXvZRtwbAOCkbvf4VH40vrHR54B+WzKA7N69+/kRcUtEHO/1em+cnp5+cKm5Wq12d7fbna+q6lUR8a2IyBMTEwPtdvvSiLhvYWHh3uVuvNK1/Z47XevA2/av5BcVEbH7quuv63ZO3DVz4J0rXgMAALCcl3zsofFaTudt9DkAgM1tYPjCO755zSs/sdHngH5bKoCkWq32yznnV+Sc/1OtVvvVZrN5+sx/b7Vad42Ojk632+0/SCl9oNFo1CPizpmZmZ9PKb0hpXTVkSNHHoyI2LFjx/DQ0NCtEREnTpy4YnZ2dm6la/s9BwAAAAAAlO+MAFKv17fnnH8mIiKl9Kacz/wkeEppOiLumpyc7IyPj7+/0+nMpJR+PSKu6fV6B6uqenOr1fp0RCz7MfKVru33HAAAAAAAUL4zAki73f5+RLx6pRscOnRoPiI+uvhnSbOzs3NjY2P/qtfrXXuua9diDgAAAAAAKFu1TvdJ3W73pyOi2rNnz4l1uicAAAAAALBJrUsAGR8fH6qq6iURcevk5GRnPe4JAAAAAABsXks9BL3vFr+a6rr1uBcAAAAAAMB6fQUWAAAAAADAuhFAAAAAAACA4gggAAAAAABAcQQQAAAAAACgOAIIAAAAAABQHAEEAAAAAAAojgACAAAAAAAURwABAAAAAACKI4AAAAAAAADFEUAAAAAAAIDiCCAAAAAAAEBxBBAAAAAAAKA4AggAAAAAAFAcAQQAAAAAACiOAAIAAAAAABRHAAEAAAAAAIojgAAAAAAAAMURQAAAAAAAgOIIIAAAAAAAQHEEEAAAAAAAoDgCCAAAAAAAUBwBBAAAAAAAKI4AAgAAAAAAFEcAAQAAAAAAiiOAAAAAAAAAxRFAAAAAAACA4gggAAAAAABAcQQQAAAAAACgOAIIAAAAAABQHAEEAAAAAAAojgACAAAAAAAURwABAAAAAACKI4AAAAAAAADFEUAAAAAAAIDiCCAAAAAAAEBxBBAAAAAAAKA4AggAAAAAAFAcAQQAAAAAACiOAAIAAAAAABRHAAEAAAAAAIojgAAAAAAAAMURQAAAAAAAgOIIIAAAAAAAQHEEEAAAAAAAoDgCCAAAAAAAUBwBBAAAAAAAKI4AAgAAAAAAFEcAAQAAAAAAiiOAAAAAAAAAxRFAAAAAAACA4gggAAAAAABAcQQQAAAAAACgOAIIAAAAAABQHAEEAAAAAAAojgACAAAAAAAURwABAAAAAACKI4AAAAAAAADFEUAAAAAAAIDiCCAAAAAAAEBxBBAAAAAAAKA4AggAAAAAAFAcAQQAAAAAACiOAAIAAAAAABRHAAEAAAAAAIojgAAAAAAAAMURQAAAAAAAgOIIIAAAAAAAQHEEEAAAAAAAoDgCCAAAAAAAUBwBBAAAAAAAKI4AAgAAAAAAFEcAAQAAAAAAiiOAAAAAAAAAxRFAAAAAAACA4gysZGh8fPzvdbvdW3q93hXT09P3nvpas9l8ec75jogYPG3ZdK/Xe93p86eamJgYmJ6eflNEvCsi9uScD1ZVdUOr1fp0RPTWag4AAAAAACjbU34CZDF+fCQiRpcZ2RMRD0fEjSml3zzlzy29Xu/YWbZOMzMz10bELSmlz0TEpVVVfT3nfFuj0filNZwDAAAAAAAKt+wnQEZHR88fGhp6Y7fb/dcR8WMRMb3EWMo5vzAivjQ3N7f/6NGjT6z0xuPj481ut3t5RLyj1Wr9bkTkiYmJP2632w+mlK7euXPn7UeOHJnt99y5/HIAAAAAAIBnpmU/ATI0NPTGnPPvRcSXcs5vXGpmZGRkOCJ2ppTa5xI/IiK63e6LI2JLr9e7PSJyRMTk5GQnIj4bEWO1Wu0FazEHAAAAAACUb9kAknN+POd8ea1WuywiHlxqZtu2bVsjYizn/NfNZvODjUbjeKPReLDZbO4bGRnZ+hT3flFEfHfLli0Pn3qx0+k8EBHTKaU9azQHAAAAAAAUbtkAMjU19Yftdvujhw4dml9uptPp/HhE7IqIa3LOD+WcX59Sui3nfN3w8PDNe/fu3bbc2pTSYES0jx07dvzU68PDw/MRMZ9SGluLOQAAAAAAoHzLPgNkJVJKF+ScH6uq6q2tVutPFy9/sV6vfyWl9Mm5ubkvRMTHl1hai4jzcs7dWq2Wz3KLfs8BAAAAAACbwKoCSLvdvjMixk+7nAcGBr7S7Xb/MqX00omJiU8tPovjVN2I+EFKqdbtdtNZbtHvuTOM7bvpWERcsJLZzuPHojYw9PKxfTeJLAAAwKo9/u0/ivOe+8KNPgYAsMktPHH0yrF9Ny31H7LDM9qqAkhExMUXXzx48ODBTiw+eDwi4rHHHpsbHh6eyTk/9/777x+KiNMDSOScFyKivn379vNPfYD63NzclsHBwS0558NrMXfGOaL3b8/hx71ucc17//ZSlSN66cy//qjsV+Z+y+1T6n5Pte9m2W+1Nst+z7R/rvazn/3Wb7/Vsl9/9tlM+62/NDD8nNrQtpdtxL0BAE7qdo9P5UfjGxt9Dui3VQWQZrN54JFHHnnN6OjoJQ888MB3Tl4fHBx8VkRclFL6/Ozs7Nwyy78WEZfNz88/LyK+9+SBBgZGI2IspdRao7kf0jrwtv0r/Xl3X3X9dd3OibtmDrxzxWsAAACW85KPPTRey+m8jT4HALC5DQxfeMc3r3nlJzb6HNBvyz4EfSV6vd5kROwZGhp6dUSc/K+u0uDg4GsjYqyqqi8st7ZWq90dEfNVVb3q5NqJiYmBiLg0Iu5bWFi4dy3mAAAAAACA8q3qEyDDw8N3HT9+/FM555sbjUYj5/zllNKrI+LqlNINO3fu/PPDhw/Hjh07hoeGhm6NiDhx4sQVs7Ozc6Ojo9PtdvsPUkofaDQa9Yi4c2Zm5udTSm9IKV115MiRByMi+j0HAAAAAACUb1WfALnnnnsen5ub+7WU0nsj4oqU0n/LOb8i5/zmXbt2/dYSDz9/0uTkZGdgYOD9OecrI+KSiPhsr9f7yZTSm1ut1u/H4jNF+j0HAAAAAACUrw8PW1yZsbGxC3u93rXz8/P7z/JckKe13Vddn3PkG2Z+992/sdFnAQAAnvkWnwHy9o0+BwCwyeV8x1/88oWeAUJxVvUJkHOQut3uT0dEtWfPnhPrdE8AAAAAAGCTWpcAMj4+PlRV1Usi4tazfS0WAAAAAABAP6zqIegrdejQofmIuG497gUAAAAAALBeX4EFAAAAAACwbgQQAAAAAACgOAIIAAAAAABQHAEEAAAAAAAojgACAAAAAAAURwABAAAAAACKI4AAAAAAAADFEUAAAAAAAIDiCCAAAAAAAEBxBBAAAAAAAKA4AggAAAAAAFAcAQQAAAAAACiOAAIAAAAAABRHAAEAAAAAAIojgAAAAAAAAMURQAAAAAAAgOIIIAAAAAAAQHEEEAAAAAAAoDgCCAAAAAAAUBwBBAAAAAAAKI4AAgAAAAAAFEcAAQAAAAAAiiOAAAAAAAAAxRFAAAAAAACA4gggAAAAAABAcQQQAAAAAACgOAIIAAAAAABQHAEEAAAAAAAojgACAAAAAAAURwABAAAAAACKI4AAAAAAAADFEUAAAAAAAIDiCCAAAAAAAEBxBBAAAAAAAKA4AggAAAAAAFAcAQQAAAAAACiOAAIAAAAAABRHAAEAAAAAAIojgAAAAAAAAMURQAAAAAAAgOIIIAAAAAAAQHEEEAAAAAAAoDgCCAAAAAAAUBwBBAAAAAAAKI4AAgAAAAAAFEcAAQAAAAAAiiOAAAAAAAAAxRFAAAAAAACA4gggAAAAAABAcQQQAAAAAACgOAIIAAAAAABQHAEEAAAAAAAojgACAAAAAAAURwABAAAAAACKI4AAAAAAAADFEUAAAAAAAIDiCCAAAAAAAEBxBBAAAAAAAKA4AggAAAAAAFAcAQQAAAAAACiOAAIAAAAAABRHAAEAAAAAAIojgAAAAAAAAMURQAAAAAAAgOIIIAAAAAAAQHEEEAAAAAAAoDgCCAAAAAAAUBwBBAAAAAAAKI4AAgAAAAAAFEcAAQAAAAAAiiOAAAAAAAAAxRFAAAAAAACA4gggAAAAAABAcQZWMjQ+Pv73ut3uLb1e74rp6el7T31tYmJiYHp6+k0R8a6I2JNzPlhV1Q2tVuvTEdE7274rXdvvOQAAAAAAoGxP+QmQxfjxkYgYXeLlNDMzc21E3JJS+kxEXFpV1ddzzrc1Go1feoqtV7q233MAAAAAAEDhlg0go6Oj5zebzbd0u93bI+J/WWpmfHy8mXO+PCLe0Wq19k1NTX1u165dV+ScPxQRV+/cuXPHcvuvdG2/5wAAAAAAgPItG0CGhobemHP+vYj4Us75jUvNdLvdF0fEll6vd3tE5IiIycnJTkR8NiLGarXaC5bbf6Vr+z0HAAAAAACUb9kAknN+POd8ea1WuywiHlxm7EUR8d0tW7Y8fOrFTqfzQERMp5T2nOXeK13b7zkAAAAAAKBwyz4EfWpq6g9P/u96vb7kTEppMOfcPnbs2PFTrw8PD88vLCzMp5TGltt/pWv7PQcAAAAAAJTvKR+Cfha1iDgv59yt1Wp5jdb2ew4AAAAAANgEVhNAuhHxg5RSrdvtpjVa2+85AAAAAABgE1j2K7BWIue8EBH17du3nzbqSckAABPWSURBVH/06NEnTl6fm5vbMjg4uCXnfHi1a/s9d7qxfTcdi4gLVvLzdh4/FrWBoZeP7bvJp0wAAIBVe/zbfxTnPfeFG30MAGCTW3ji6JVj+276+EafA/ptVQEkIr4WEZfNz88/LyK+9+SmAwOjETGWUmr1YW2/535IjvidFf+0EfsX1+w/hzUAAABLSgPDz6kNbXvZRp8DANjcut3jU/nR+MZGnwP6bVUBpFar3d3tduerqnpVRHwrIvLExMRAu92+NCLuW1hYuHe1a/s9d7rWgavfu9Kfd/dV1+/vdk7cNXPgnSteAwAAsJyXfOyh8VpO5230OQCAzW1g+MI7vnnNKz+x0eeAfltVABkdHZ1ut9t/kFL6QKPRqEfEnTMzMz+fUnpDSumqI0eOPBgRsWPHjuGhoaFbIyJOnDhxxezs7NxK1/Z7DgAAAAAAKN9qHoIek5OTnYGBgffnnK+MiEsi4rO9Xu8nU0pvbrVavx8Ryz4rY6Vr+z0HAAAAAACUb0WfAGm323dGRH2p1w4dOjQfER9d/LOk2dnZubGxsX/V6/WuPde1azEHAAAAAACUbVWfADkHqdvt/nREVHv27DmxTvcEAAAAAAA2qXUJIOPj40NVVb0kIm6dnJzsrMc9AQAAAACAzWtVD0FfqcWvprpuPe4FAAAAAACwXl+BBQAAAAAAsG4EEAAAAAAAoDgCCAAAAAAAUBwBBAAAAAAAKI4AAgAAAAAAFEcAAQAAAAAAiiOAAAAAAAAAxRFAAAAAAACA4gggAAAAAABAcQQQAAAAAACgOAIIAAAAAABQHAEEAAAAAAAojgACAAAAAAAURwABAAAAAACKI4AAAAAAAADFEUAAAAAAAIDiCCAAAAAAAEBxBBAAAAAAAKA4AggAAAAAAFAcAQQAAAAAACiOAAIAAAAAABRHAAEAAAAAAIojgAAAAAAAAMURQAAAAAAAgOIIIAAAAAAAQHEEEAAAAAAAoDgCCAAAAAAAUBwBBAAAAAAAKI4AAgAAAAAAFEcAAQAAAAAAiiOAAAAAAAAAxRFAAAAAAACA4gggAAAAAABAcQQQAAAAAACgOAIIAAAAAABQHAEEAAAAAAAojgACAAAAAAAURwABAAAAAACKI4AAAAAAAADFEUAAAAAAAIDiCCAAAAAAAEBxBBAAAAAAAKA4AggAAAAAAFAcAQQAAAAAACiOAAIAAAAAABRHAAEAAAAAAIojgAAAAAAAAMURQAAAAAAAgOIIIAAAAAAAQHEEEAAAAAAAoDgCCAAAAAAAUBwBBAAAAAAAKI4AAgAAAAAAFEcAAQAAAAAAiiOAAAAAAAAAxRFAAAAAAACA4gxs9AGAjZf376+iXV280ecAAEgffc9fbPQZAACAMgggwN+oqv9jo48AAGxyKbcjQgABAAD6wldgAQAAAAAAxRFAAAAAAACA4gggAAAAAABAcQQQAAAAAACgOAIIAAAAAABQHAEEAAAAAAAojgACAAAAAAAURwABAAAAAACKI4AAAAAAAADFEUAAAAAAAIDiCCAAAAAAAEBxBBAAAAAAAKA4AggAAAAAAFAcAQQAAAAAACiOAAIAAAAAABRHAAEAAAAAAIozsNoNms3my3POd0TE4GkvTfd6vddNT0/fu9zaiYmJgenp6TdFxLsiYk/O+WBVVTe0Wq1PR0RvreYAAAAAAICy9eMTIHsi4uGIuDGl9Jun/Lml1+sdO8u6NDMzc21E3JJS+kxEXFpV1ddzzrc1Go1fWsM5AAAAAACgcKv9BEjKOb8wIr40Nze3/+jRo0+sdOH4+Hiz2+1eHhHvaLVavxsReWJi4o/b7faDKaWrd+7cefuRI0dm+z23yp8XAAAAAAB4BljVJ0BGRkaGI2JnSql9LvEjIqLb7b44Irb0er3bIyJHRExOTnYi4rMRMVar1V6wFnMAAAAAAED5VhVAtm3btjUixnLOf91sNj/YaDSONxqNB5vN5r6RkZGtT7H8RRHx3S1btjx86sVOp/NAREynlPas0RwAAAAAAFC4VQWQTqfz4xGxKyKuyTk/lHN+fUrptpzzdcPDwzfv3bt323JrU0qDEdE+duzY8VOvDw8Pz0fEfEppbC3mAAAAAACA8q3qGSAppQtyzo9VVfXWVqv1p4uXv1iv17+SUvrk3NzcFyLi40ssrUXEeTnnbq1Wy2e5Rb/nAAAAAACATWBVAaTdbt8ZEeOnXc4DAwNf6Xa7f5lSeunExMSnFp/FcapuRPwgpVTrdrvpLLfo99wZxvbddCwiLljJbOfxY1EbGHr52L6bRBaKsucHEb95/vGnHgQAWEMP1KoY23fT+zb6HOvp8W//UZz33Bdu9DEAgE1u4YmjV47tu2mp/5AdntFWFUAiIi6++OLBgwcPdmLxweMREY899tjc8PDwTM75uffff/9QRJweQCLnvBAR9e3bt59/6gPU5+bmtgwODm7JOR9ei7kzzhHxO+fw4+5fXLP/HNbA016KXmp0u5ds9DkAgM3t/Jy/nyO+tNHnWE9pYPg5taFtL9vocwAAm1u3e3wqPxrf2OhzQL+tKoA0m80DjzzyyGtGR0cveeCBB75z8vrg4OCzIuKilNLnZ2dn55ZZ/rWIuGx+fv55EfG9Jw80MDAaEWMppdYazf2Q1oGr37vSn3f3Vdfv73ZO3DVz4J0rXgPPBHn//ipODDx/o88BAGxyqdN+/YF33rDRx1hPL/nYQ+O1nM7b6HMAAJvbwPCFd3zzmld+YqPPAf22qoeg93q9yYjYMzQ09OqIOPnVU2lwcPC1ETFWVdUXlltbq9Xujoj5qqpedXLtxMTEQERcGhH3LSws3LsWcwAAAAAAQPlW9QmQ4eHhu44fP/6pnPPNjUajkXP+ckrp1RFxdUrphp07d/754cOHY8eOHcNDQ0O3RkScOHHiiv/Z3v3HSH7WBRz/PN+Z3e3ticVgOVz27uY7u95hY/2BqIE/dG1DFKxAtTkiShOqrUp6NgYkF7QKQaUVAZsajSnR1oRICASKPwoFzJSgqE3/EM3hNdvZX9dtjdXYQJab25l5/IO94zxL75rbnSnPvl7JJJvZ57vPZ+evTd77fL/r6+sbs7OzK8vLyx9MKb23rutWRDy4urp6XUrpSErplrW1tccjIrZ7HQAAAAAAUL5LOgFy/Pjxr2xsbLw5pfTOiLgppfTJnPOP5pxvOHDgwLue5uHnZ3U6nX6z2bwj53xzRFwbEfcNh8OrUko3dLvde2PrmSLbvQ4AAAAAACjfJT8EfeuB47dvvc5aXl4++/X6+vrG3Nzcrw2Hw7eeu2ZxcbEXEfdsvb6h7V4HAAAAAACU7ZJOgDwLaTAYvDwiqkOHDp0e0Z4AAAAAAMAuNZIAMj8/P1lV1Usj4u5nui0WAAAAAADAdrjkW2BdjK1bU/32KPYCAAAAAAAY1S2wAAAAAAAARkYAAQAAAAAAiiOAAAAAAAAAxRFAAAAAAACA4gggAAAAAABAcQQQAAAAAACgOAIIAAAAAABQHAEEAAAAAAAojgACAAAAAAAURwABAAAAAACKI4AAAAAAAADFEUAAAAAAAIDiCCAAAAAAAEBxBBAAAAAAAKA4AggAAAAAAFAcAQQAAAAAACiOAAIAAAAAABRHAAEAAAAAAIojgAAAAAAAAMURQAAAAAAAgOIIIAAAAAAAQHEEEAAAAAAAoDgCCAAAAAAAUBwBBAAAAAAAKI4AAgAAAAAAFEcAAQAAAAAAiiOAAAAAAAAAxRFAAAAAAACA4gggAAAAAABAcQQQAAAAAACgOAIIAAAAAABQHAEEAAAAAAAojgACAAAAAAAURwABAAAAAACKI4AAAAAAAADFEUAAAAAAAIDiCCAAAAAAAEBxBBAAAAAAAKA4AggAAAAAAFAcAQQAAAAAACiOAAIAAAAAABRHAAEAAAAAAIojgAAAAAAAAMURQAAAAAAAgOIIIAAAAAAAQHEEEAAAAAAAoDgCCAAAAAAAUBwBBAAAAAAAKI4AAgAAAAAAFEcAAQAAAAAAiiOAAAAAAAAAxRFAAAAAAACA4gggAAAAAABAcQQQAAAAAACgOAIIAAAAAABQHAEEAAAAAAAojgACAAAAAAAURwABAAAAAACKI4AAAAAAAADFEUAAAAAAAIDiCCAAAAAAAEBxBBAAAAAAAKA4AggAAAAAAFAcAQQAAAAAACiOAAIAAAAAABRHAAEAAAAAAIojgAAAAAAAAMURQAAAAAAAgOIIIAAAAAAAQHEEEAAAAAAAoDgCCAAAAAAAUBwBBAAAAAAAKI4AAgAAAAAAFKc57gG208LCQnNlZeUNEfEbEXEo5/xwVVXv7na7H4uI4ZjHAwAAAAAARqSkEyBpdXX1rRHxpymlj0fEa6uq+tec81/Udf3z4x4OAAAAAAAYnWICyPz8fDvn/KaIeFu32z22tLT0iQMHDtyUc74zIo7u379/ZtwzAgAAAAAAo1FMABkMBt8fEVPD4fAzEZEjIjqdTj8i7ouIuUaj8Z3jnA8AAAAAABidYgJIRHxvRDwxNTX1n+e+2e/3T0bESkrp0HjGAgAAAAAARq2YAJJSmoiI5aeeeuqr574/PT3di4heSmluPJMBAAAAAACjVkoAaUTEZTnnQaPRyOMeBgAAAAAAGK/muAfYJoOIOJVSagwGgzTuYeCbU/7ncU8AAOxyu/RfmZK/wwCAMdulf4axCxQTC+q6fldEvHJiYuLaRx555Mkz78/Ozr54YmLiryPij5eWlu4+/7q5Y3c9FRHfejF7PHr70Ze+6Gd/9U1TL3jh0W0bHAAAAAAA2HalnACJiPiXiHhjr9e7IiLOBpBmszkbEXMppe7TXZRj+P6L3eDFN77t55pT0z+QI7/7kqcFAAAAAAC4kPn5+bm6rk/UdX00tk62LCwsNFut1u/Vdf3Q/v37Zy51j7ljd+X2sTvfccnDAgAAAAAAO6qYEyCzs7Mry8vLH0wpvbeu61ZEPLi6unpdSulISumWtbW1x8c9IwAAAAAAMBrVuAfYLp1Op99sNu/IOd8cEddGxH3D4fCqlNIN3W733vAsHwAAAAAA2DWKOQESEbG4uNiLiHu2XgAAAAAAwC5VzAkQAAAAAACAMwQQAAAAAACgOAIIAAAAAABQHAEEAAAAAAAojgACAAAAAAAURwABAAAAAACK0xz3AN9c0i+laIx7CAAAAAAAAAAAAAAAAAAAAAAAAAAAAAAAAAAAAAAAAAAAAAAAAAAAAAAAAAAAAAAAAAAAAAB41trt9o11XS8fPHjwu8Y9CwAAlK4a9wAAAAAAAAAAAAAAAABcQBr3AAAAAOdrt9s35pxvTindknM+FhGviYgnIuI39+zZ86GNjY2fTim9MyLqiPhERLxlaWlp5cz1+/bt27t3796jOedbI+JFOeeHI+IPWq3WRzqdTv/8PSLiLTnn10XEV1NK9/Z6vd957LHH/uti19V1/T0RcX9K6bZut/tn5/4urVbr1pTS6xuNxmuHw+FP5Zx/azgcvmplZeVLO/5BAgDALuYWWAAAwHPVoZzzX6aUHo2I6yPiwYj4o42NjXtSSr+SUnp7SunWiHhZzvl9V1555bdERMzNzb1wenr6IznnX8g5vyPn/BNVVX02pfTnq6urty0sLDTP3yMiVlNK16eU7s45//Lk5OTbn826Xq+3mHPuDIfDa2ZmZqbPXHT48OHnpZR+LCL+ZnFx8ckd/8QAAICzmhdeAgAAMBbfFhG/vnWiIs/Ozj48MTHx3SmlA/1+/8ja2tp6RESr1ZqMiKOnTp2aiYhHcs7XR8S+nPMrl5eXl7d+1qfa7fbncs5/srKy8tGI+OLT7RERf9tqtQYppavX19efHxFPXsy69fX1J1ut1l+llG6fmJg4GBFfiog4derUfFVV31dV1e9vXQcAAIyIAAIAADxXrTUajX+MrXAwPT3d29zc7EXEF9bW1h4/s6iqqn/LOTcHg0Fj3759e3POPxIR6xHxkna7PX/Oz9sXEVMppZfF1wPI/9kjInJVVYs55zf0er0r4usB5ILrms3mQ4PBoNdoNF4eWwGkqqpX5Zwf7fV6/77dHw4AAPDMBBAAAOC5ari5uTk8/82U0iDOOU0xHA77KX3t8YaXX375ns3NzVZE/HBK6Sdz/v+HLnLO9YX2uNhZznMy5/z5nPM1MzMzH5qcnJyMiIWU0mdPnjz53xexBwAAsI0EEAAAoDgppTu63e6xUe65uLjYq+v6/oj43enp6e/o9/vfHhFX5ZxvG+UcAADA13gIOgAAUIyUUi8insg5v+Tw4cPPG/X+m5ubX4iIjX6//4MppWsi4p+mpqaOj3oOAABAAAEAAApy4sSJL6eUHoiIq3u93ivO/V6r1frxVqt1st1uv3qn9p+fn/+PiPi7qqpeHxFXp5QeOHHixJd3aj8AAOAbcwssAACgKIPB4GNVVR1JKX28ruv35Jz/vqqqV+Scb46IBy677LLP7dTenU6n32q1Ph0RH46I/8k5f36n9gIAAJ6ZEyAAAEBRVlZWHj99+vTPRMR7IuKmlNInc85vTCndubGx8ebjx49/ZSf3HwwGX4yIEznnh/bs2dPdyb0AAAAAAABGYn5+/oq6rv+h3W7fOO5ZAABgN3MCBAAAYBsNh8MfiojnV1X14LhnAQCA3cwzQAAAALbBwYMHr6uqaiHnfCQiPjA7O7uyuLg47rEAAGDXcgIEAABgGzQajVZE/GLO+f7Tp0//YafT6Y97JgAAAAAAAAAAAAAAAAAAAAAAAAAAAAAAAAAAAAAAAAAAAAAAAAAAAKBU/wvuiUFMc+2EQQAAAABJRU5ErkJggg==)"
            ],
            "metadata": {
                "azdata_cell_guid": "e75ba50e-2be5-4fba-bf8d-e2bf42df07f5"
            },
            "attachments": {}
        },
        {
            "cell_type": "markdown",
            "source": [
                "Adjunk vissza 8 dbvéletlenül kiválasztott megrendelőt!"
            ],
            "metadata": {
                "azdata_cell_guid": "2de16ef8-5111-43b6-8dff-adfa0d5c5339"
            },
            "attachments": {}
        },
        {
            "cell_type": "code",
            "source": [
                "SELECT TOP (8) LOGIN\r\n",
                "FROM Rendeles\r\n",
                "GROUP BY LOGIn\r\n",
                "ORDER BY NEWID()"
            ],
            "metadata": {
                "azdata_cell_guid": "26be922c-a2e8-4e56-b0e8-c2a6f61bc15b",
                "language": "sql"
            },
            "outputs": [
                {
                    "output_type": "display_data",
                    "data": {
                        "text/html": "(8 rows affected)"
                    },
                    "metadata": {}
                },
                {
                    "output_type": "display_data",
                    "data": {
                        "text/html": "Total execution time: 00:00:01.366"
                    },
                    "metadata": {}
                },
                {
                    "output_type": "execute_result",
                    "metadata": {},
                    "execution_count": 24,
                    "data": {
                        "application/vnd.dataresource+json": {
                            "schema": {
                                "fields": [
                                    {
                                        "name": "LOGIN"
                                    }
                                ]
                            },
                            "data": [
                                {
                                    "LOGIN": "JOZSEFG"
                                },
                                {
                                    "LOGIN": "annamaria1"
                                },
                                {
                                    "LOGIN": "alexandra"
                                },
                                {
                                    "LOGIN": "istvan"
                                },
                                {
                                    "LOGIN": "tunde"
                                },
                                {
                                    "LOGIN": "SEBASTIANF"
                                },
                                {
                                    "LOGIN": "zsofi1"
                                },
                                {
                                    "LOGIN": "MARKH"
                                }
                            ]
                        },
                        "text/html": [
                            "<table>",
                            "<tr><th>LOGIN</th></tr>",
                            "<tr><td>JOZSEFG</td></tr>",
                            "<tr><td>annamaria1</td></tr>",
                            "<tr><td>alexandra</td></tr>",
                            "<tr><td>istvan</td></tr>",
                            "<tr><td>tunde</td></tr>",
                            "<tr><td>SEBASTIANF</td></tr>",
                            "<tr><td>zsofi1</td></tr>",
                            "<tr><td>MARKH</td></tr>",
                            "</table>"
                        ]
                    }
                }
            ],
            "execution_count": 24
        },
        {
            "cell_type": "markdown",
            "source": [
                "Jelenítsünk meg véletlenszerűen 5 db rendelést!"
            ],
            "metadata": {
                "azdata_cell_guid": "3add41af-9c36-4f08-a85d-3e9f696b0215"
            },
            "attachments": {}
        },
        {
            "cell_type": "code",
            "source": [
                "SELECT * \r\n",
                "FROM Rendeles\r\n",
                "WHERE SORSZAM IN (\r\n",
                "    SELECT TOP (10) SORSZAM\r\n",
                "    FROM Rendeles\r\n",
                "    ORDER BY NEWID())"
            ],
            "metadata": {
                "azdata_cell_guid": "ab911be3-0d2a-4cba-8f40-e2ed89695016",
                "language": "sql"
            },
            "outputs": [
                {
                    "output_type": "display_data",
                    "data": {
                        "text/html": "(10 rows affected)"
                    },
                    "metadata": {}
                },
                {
                    "output_type": "display_data",
                    "data": {
                        "text/html": "Total execution time: 00:00:00.033"
                    },
                    "metadata": {}
                },
                {
                    "output_type": "execute_result",
                    "metadata": {},
                    "execution_count": 25,
                    "data": {
                        "application/vnd.dataresource+json": {
                            "schema": {
                                "fields": [
                                    {
                                        "name": "SORSZAM"
                                    },
                                    {
                                        "name": "LOGIN"
                                    },
                                    {
                                        "name": "REND_DATUM"
                                    },
                                    {
                                        "name": "SZALL_DATUM"
                                    },
                                    {
                                        "name": "SZALL_CIM"
                                    },
                                    {
                                        "name": "SZALL_MOD"
                                    },
                                    {
                                        "name": "FIZ_MOD"
                                    },
                                    {
                                        "name": "SZAMLA_CIM"
                                    }
                                ]
                            },
                            "data": [
                                {
                                    "SORSZAM": "21458",
                                    "LOGIN": "tibor",
                                    "REND_DATUM": "2016-10-16",
                                    "SZALL_DATUM": "2016-10-19",
                                    "SZALL_CIM": "NULL",
                                    "SZALL_MOD": "Személyes átvétel",
                                    "FIZ_MOD": "Átutalás",
                                    "SZAMLA_CIM": "NULL"
                                },
                                {
                                    "SORSZAM": "23139",
                                    "LOGIN": "eva2",
                                    "REND_DATUM": "2016-11-27",
                                    "SZALL_DATUM": "2016-12-05",
                                    "SZALL_CIM": "Répcelak, Fő u. 2.",
                                    "SZALL_MOD": "Posta",
                                    "FIZ_MOD": "Bankkártya",
                                    "SZAMLA_CIM": "9653 Répcelak, Fő u. 2."
                                },
                                {
                                    "SORSZAM": "9320",
                                    "LOGIN": "LASZLOA",
                                    "REND_DATUM": "2015-12-21",
                                    "SZALL_DATUM": "2015-12-31",
                                    "SZALL_CIM": "NULL",
                                    "SZALL_MOD": "Posta",
                                    "FIZ_MOD": "Bankkártya",
                                    "SZAMLA_CIM": "NULL"
                                },
                                {
                                    "SORSZAM": "22316",
                                    "LOGIN": "RENATAK",
                                    "REND_DATUM": "2016-11-06",
                                    "SZALL_DATUM": "2016-11-08",
                                    "SZALL_CIM": "NULL",
                                    "SZALL_MOD": "Posta",
                                    "FIZ_MOD": "Bankkártya",
                                    "SZAMLA_CIM": "NULL"
                                },
                                {
                                    "SORSZAM": "15211",
                                    "LOGIN": "MONIKAM",
                                    "REND_DATUM": "2016-05-13",
                                    "SZALL_DATUM": "2016-05-23",
                                    "SZALL_CIM": "NULL",
                                    "SZALL_MOD": "GLS",
                                    "FIZ_MOD": "Átutalás",
                                    "SZAMLA_CIM": "NULL"
                                },
                                {
                                    "SORSZAM": "26818",
                                    "LOGIN": "emese",
                                    "REND_DATUM": "2017-03-01",
                                    "SZALL_DATUM": "2017-03-08",
                                    "SZALL_CIM": "NULL",
                                    "SZALL_MOD": "Személyes átvétel",
                                    "FIZ_MOD": "Bankkártya",
                                    "SZAMLA_CIM": "NULL"
                                },
                                {
                                    "SORSZAM": "14006",
                                    "LOGIN": "ANDRASE",
                                    "REND_DATUM": "2016-04-14",
                                    "SZALL_DATUM": "2016-04-19",
                                    "SZALL_CIM": "NULL",
                                    "SZALL_MOD": "Személyes átvétel",
                                    "FIZ_MOD": "Készpénz",
                                    "SZAMLA_CIM": "NULL"
                                },
                                {
                                    "SORSZAM": "14738",
                                    "LOGIN": "eva2",
                                    "REND_DATUM": "2016-05-01",
                                    "SZALL_DATUM": "2016-05-04",
                                    "SZALL_CIM": "NULL",
                                    "SZALL_MOD": "GLS",
                                    "FIZ_MOD": "Átutalás",
                                    "SZAMLA_CIM": "NULL"
                                },
                                {
                                    "SORSZAM": "357",
                                    "LOGIN": "istvan",
                                    "REND_DATUM": "2015-05-10",
                                    "SZALL_DATUM": "2015-05-15",
                                    "SZALL_CIM": "Dabas, Nagy u.14.",
                                    "SZALL_MOD": "Személyes átvétel",
                                    "FIZ_MOD": "Átutalás",
                                    "SZAMLA_CIM": "2370 Dabas, Nagy u.14."
                                },
                                {
                                    "SORSZAM": "9634",
                                    "LOGIN": "julia",
                                    "REND_DATUM": "2015-12-29",
                                    "SZALL_DATUM": "2016-01-01",
                                    "SZALL_CIM": "NULL",
                                    "SZALL_MOD": "Posta",
                                    "FIZ_MOD": "Átutalás",
                                    "SZAMLA_CIM": "NULL"
                                }
                            ]
                        },
                        "text/html": [
                            "<table>",
                            "<tr><th>SORSZAM</th><th>LOGIN</th><th>REND_DATUM</th><th>SZALL_DATUM</th><th>SZALL_CIM</th><th>SZALL_MOD</th><th>FIZ_MOD</th><th>SZAMLA_CIM</th></tr>",
                            "<tr><td>21458</td><td>tibor</td><td>2016-10-16</td><td>2016-10-19</td><td>NULL</td><td>Személyes átvétel</td><td>Átutalás</td><td>NULL</td></tr>",
                            "<tr><td>23139</td><td>eva2</td><td>2016-11-27</td><td>2016-12-05</td><td>Répcelak, Fő u. 2.</td><td>Posta</td><td>Bankkártya</td><td>9653 Répcelak, Fő u. 2.</td></tr>",
                            "<tr><td>9320</td><td>LASZLOA</td><td>2015-12-21</td><td>2015-12-31</td><td>NULL</td><td>Posta</td><td>Bankkártya</td><td>NULL</td></tr>",
                            "<tr><td>22316</td><td>RENATAK</td><td>2016-11-06</td><td>2016-11-08</td><td>NULL</td><td>Posta</td><td>Bankkártya</td><td>NULL</td></tr>",
                            "<tr><td>15211</td><td>MONIKAM</td><td>2016-05-13</td><td>2016-05-23</td><td>NULL</td><td>GLS</td><td>Átutalás</td><td>NULL</td></tr>",
                            "<tr><td>26818</td><td>emese</td><td>2017-03-01</td><td>2017-03-08</td><td>NULL</td><td>Személyes átvétel</td><td>Bankkártya</td><td>NULL</td></tr>",
                            "<tr><td>14006</td><td>ANDRASE</td><td>2016-04-14</td><td>2016-04-19</td><td>NULL</td><td>Személyes átvétel</td><td>Készpénz</td><td>NULL</td></tr>",
                            "<tr><td>14738</td><td>eva2</td><td>2016-05-01</td><td>2016-05-04</td><td>NULL</td><td>GLS</td><td>Átutalás</td><td>NULL</td></tr>",
                            "<tr><td>357</td><td>istvan</td><td>2015-05-10</td><td>2015-05-15</td><td>Dabas, Nagy u.14.</td><td>Személyes átvétel</td><td>Átutalás</td><td>2370 Dabas, Nagy u.14.</td></tr>",
                            "<tr><td>9634</td><td>julia</td><td>2015-12-29</td><td>2016-01-01</td><td>NULL</td><td>Posta</td><td>Átutalás</td><td>NULL</td></tr>",
                            "</table>"
                        ]
                    }
                }
            ],
            "execution_count": 25
        },
        {
            "cell_type": "markdown",
            "source": [
                "Nézzük meg, hogy a rendelés és a szállítás között eltelt idő minmumát, maximumát, átlagos idejét, szórását, és szórásnégyzetek átlagát!"
            ],
            "metadata": {
                "azdata_cell_guid": "2f316235-cb9e-43ae-a1e2-49e11d7ed9f2"
            },
            "attachments": {}
        },
        {
            "cell_type": "code",
            "source": [
                "SELECT MIN(DATEDIFF(day, rend_datum, szall_datum)) AS 'Minimum', \r\n",
                "       MAX(DATEDIFF(day, rend_datum, szall_datum)) AS 'Maximum', \r\n",
                "       AVG(DATEDIFF(day, rend_datum, szall_datum)) AS 'Átlag', \r\n",
                "       STDEV(DATEDIFF(day, rend_datum, szall_datum)) AS 'Szórás', \r\n",
                "       VAR(DATEDIFF(day, rend_datum, szall_datum)) AS 'Szórásnégyzet'\r\n",
                "FROM Rendeles\r\n",
                "WHERE rend_datum IS NOT NULL AND SZALL_DATUM IS NOT NULL"
            ],
            "metadata": {
                "azdata_cell_guid": "159c712f-48b4-4f30-b498-d10b04772609",
                "language": "sql"
            },
            "outputs": [
                {
                    "output_type": "display_data",
                    "data": {
                        "text/html": "(1 row affected)"
                    },
                    "metadata": {}
                },
                {
                    "output_type": "display_data",
                    "data": {
                        "text/html": "Total execution time: 00:00:00.079"
                    },
                    "metadata": {}
                },
                {
                    "output_type": "execute_result",
                    "metadata": {},
                    "execution_count": 38,
                    "data": {
                        "application/vnd.dataresource+json": {
                            "schema": {
                                "fields": [
                                    {
                                        "name": "Minimum"
                                    },
                                    {
                                        "name": "Maximum"
                                    },
                                    {
                                        "name": "Átlag"
                                    },
                                    {
                                        "name": "Szórás"
                                    },
                                    {
                                        "name": "Szórásnégyzet"
                                    }
                                ]
                            },
                            "data": [
                                {
                                    "Minimum": "2",
                                    "Maximum": "10",
                                    "Átlag": "5",
                                    "Szórás": "2,595976306864163",
                                    "Szórásnégyzet": "6,739092985800097"
                                }
                            ]
                        },
                        "text/html": [
                            "<table>",
                            "<tr><th>Minimum</th><th>Maximum</th><th>Átlag</th><th>Szórás</th><th>Szórásnégyzet</th></tr>",
                            "<tr><td>2</td><td>10</td><td>5</td><td>2,595976306864163</td><td>6,739092985800097</td></tr>",
                            "</table>"
                        ]
                    }
                }
            ],
            "execution_count": 38
        },
        {
            "cell_type": "markdown",
            "source": [
                "Nézzük meg az első napot és az utolsót ahol rendelést adtak le!"
            ],
            "metadata": {
                "azdata_cell_guid": "cd9a9bb5-f2a9-4796-badf-2f758717ab3e"
            },
            "attachments": {}
        },
        {
            "cell_type": "code",
            "source": [
                "SELECT MIN(REND_DATUM) as 'Legelső rendelés',\r\n",
                "        MAX(REND_DATUM) as 'Legkésőbbi rendelés'\r\n",
                "FROM Rendeles"
            ],
            "metadata": {
                "azdata_cell_guid": "2ef2df18-f6ef-4e7d-b5dc-852b388c3986",
                "language": "sql"
            },
            "outputs": [
                {
                    "output_type": "display_data",
                    "data": {
                        "text/html": "(1 row affected)"
                    },
                    "metadata": {}
                },
                {
                    "output_type": "display_data",
                    "data": {
                        "text/html": "Total execution time: 00:00:00.023"
                    },
                    "metadata": {}
                },
                {
                    "output_type": "execute_result",
                    "metadata": {},
                    "execution_count": 39,
                    "data": {
                        "application/vnd.dataresource+json": {
                            "schema": {
                                "fields": [
                                    {
                                        "name": "Legelső rendelés"
                                    },
                                    {
                                        "name": "Legkésőbbi rendelés"
                                    }
                                ]
                            },
                            "data": [
                                {
                                    "Legelső rendelés": "2015-05-01",
                                    "Legkésőbbi rendelés": "2017-04-01"
                                }
                            ]
                        },
                        "text/html": [
                            "<table>",
                            "<tr><th>Legelső rendelés</th><th>Legkésőbbi rendelés</th></tr>",
                            "<tr><td>2015-05-01</td><td>2017-04-01</td></tr>",
                            "</table>"
                        ]
                    }
                }
            ],
            "execution_count": 39
        },
        {
            "cell_type": "markdown",
            "source": [
                "Nézzük meg havi bontásban a leadott rendelések számát!"
            ],
            "metadata": {
                "azdata_cell_guid": "ca8013a6-4756-4ad6-88eb-07c19ef3d3c0"
            },
            "attachments": {}
        },
        {
            "cell_type": "code",
            "source": [
                "SELECT LEFT(REND_DATUM, 7) AS 'Rendeles honapja',\r\n",
                "    COUNT(SORSZAM) AS 'Eladott darabszam'\r\n",
                "    \r\n",
                "FROM Rendeles\r\n",
                "GROUP BY LEFT(REND_DATUM, 7)\r\n",
                "ORDER BY LEFT(REND_DATUM, 7)"
            ],
            "metadata": {
                "azdata_cell_guid": "55e7d4fc-e694-4bbd-b299-886f24a889c7",
                "language": "sql"
            },
            "outputs": [
                {
                    "output_type": "display_data",
                    "data": {
                        "text/html": "(24 rows affected)"
                    },
                    "metadata": {}
                },
                {
                    "output_type": "display_data",
                    "data": {
                        "text/html": "Total execution time: 00:00:00.065"
                    },
                    "metadata": {}
                },
                {
                    "output_type": "execute_result",
                    "metadata": {},
                    "execution_count": 41,
                    "data": {
                        "application/vnd.dataresource+json": {
                            "schema": {
                                "fields": [
                                    {
                                        "name": "Rendeles honapja"
                                    },
                                    {
                                        "name": "Eladott darabszam"
                                    }
                                ]
                            },
                            "data": [
                                {
                                    "Rendeles honapja": "2015-05",
                                    "Eladott darabszam": "1203"
                                },
                                {
                                    "Rendeles honapja": "2015-06",
                                    "Eladott darabszam": "1155"
                                },
                                {
                                    "Rendeles honapja": "2015-07",
                                    "Eladott darabszam": "1235"
                                },
                                {
                                    "Rendeles honapja": "2015-08",
                                    "Eladott darabszam": "1276"
                                },
                                {
                                    "Rendeles honapja": "2015-09",
                                    "Eladott darabszam": "1207"
                                },
                                {
                                    "Rendeles honapja": "2015-10",
                                    "Eladott darabszam": "1233"
                                },
                                {
                                    "Rendeles honapja": "2015-11",
                                    "Eladott darabszam": "1178"
                                },
                                {
                                    "Rendeles honapja": "2015-12",
                                    "Eladott darabszam": "1260"
                                },
                                {
                                    "Rendeles honapja": "2016-01",
                                    "Eladott darabszam": "1226"
                                },
                                {
                                    "Rendeles honapja": "2016-02",
                                    "Eladott darabszam": "1193"
                                },
                                {
                                    "Rendeles honapja": "2016-03",
                                    "Eladott darabszam": "1274"
                                },
                                {
                                    "Rendeles honapja": "2016-04",
                                    "Eladott darabszam": "1259"
                                },
                                {
                                    "Rendeles honapja": "2016-05",
                                    "Eladott darabszam": "1218"
                                },
                                {
                                    "Rendeles honapja": "2016-06",
                                    "Eladott darabszam": "1214"
                                },
                                {
                                    "Rendeles honapja": "2016-07",
                                    "Eladott darabszam": "1209"
                                },
                                {
                                    "Rendeles honapja": "2016-08",
                                    "Eladott darabszam": "1274"
                                },
                                {
                                    "Rendeles honapja": "2016-09",
                                    "Eladott darabszam": "1192"
                                },
                                {
                                    "Rendeles honapja": "2016-10",
                                    "Eladott darabszam": "1277"
                                },
                                {
                                    "Rendeles honapja": "2016-11",
                                    "Eladott darabszam": "1210"
                                },
                                {
                                    "Rendeles honapja": "2016-12",
                                    "Eladott darabszam": "1227"
                                },
                                {
                                    "Rendeles honapja": "2017-01",
                                    "Eladott darabszam": "1204"
                                },
                                {
                                    "Rendeles honapja": "2017-02",
                                    "Eladott darabszam": "1081"
                                },
                                {
                                    "Rendeles honapja": "2017-03",
                                    "Eladott darabszam": "1242"
                                },
                                {
                                    "Rendeles honapja": "2017-04",
                                    "Eladott darabszam": "38"
                                }
                            ]
                        },
                        "text/html": [
                            "<table>",
                            "<tr><th>Rendeles honapja</th><th>Eladott darabszam</th></tr>",
                            "<tr><td>2015-05</td><td>1203</td></tr>",
                            "<tr><td>2015-06</td><td>1155</td></tr>",
                            "<tr><td>2015-07</td><td>1235</td></tr>",
                            "<tr><td>2015-08</td><td>1276</td></tr>",
                            "<tr><td>2015-09</td><td>1207</td></tr>",
                            "<tr><td>2015-10</td><td>1233</td></tr>",
                            "<tr><td>2015-11</td><td>1178</td></tr>",
                            "<tr><td>2015-12</td><td>1260</td></tr>",
                            "<tr><td>2016-01</td><td>1226</td></tr>",
                            "<tr><td>2016-02</td><td>1193</td></tr>",
                            "<tr><td>2016-03</td><td>1274</td></tr>",
                            "<tr><td>2016-04</td><td>1259</td></tr>",
                            "<tr><td>2016-05</td><td>1218</td></tr>",
                            "<tr><td>2016-06</td><td>1214</td></tr>",
                            "<tr><td>2016-07</td><td>1209</td></tr>",
                            "<tr><td>2016-08</td><td>1274</td></tr>",
                            "<tr><td>2016-09</td><td>1192</td></tr>",
                            "<tr><td>2016-10</td><td>1277</td></tr>",
                            "<tr><td>2016-11</td><td>1210</td></tr>",
                            "<tr><td>2016-12</td><td>1227</td></tr>",
                            "<tr><td>2017-01</td><td>1204</td></tr>",
                            "<tr><td>2017-02</td><td>1081</td></tr>",
                            "<tr><td>2017-03</td><td>1242</td></tr>",
                            "<tr><td>2017-04</td><td>38</td></tr>",
                            "</table>"
                        ]
                    }
                }
            ],
            "execution_count": 41
        },
        {
            "cell_type": "markdown",
            "source": [
                "Nézzük meg, milyen arányban vannak a kis/közepes/nagy megrendelőink!"
            ],
            "metadata": {
                "azdata_cell_guid": "64389adf-1829-4cd7-9a60-58f358bacc63"
            },
            "attachments": {}
        },
        {
            "cell_type": "code",
            "source": [
                "SELECT COUNT(megrendelo) AS 'megrendelo', [megrendelo tipus]\r\n",
                "FROM (SELECT LOGIN AS 'megrendelo', COUNT(SORSZAM) AS 'darab',\r\n",
                "        CASE WHEN COUNT(SORSZAM) < 100 THEN 'kis megrendelő'\r\n",
                "        WHEN COUNT(SORSZAM) < 500 THEN 'közepes megrendelő'\r\n",
                "        ELSE 'nagy megrendelő'\r\n",
                "        END AS 'megrendelo tipus'\r\n",
                "        FROM Rendeles\r\n",
                "        GROUP BY LOGIN) ROWS\r\n",
                "\r\n",
                "GROUP BY [megrendelo tipus]        \r\n",
                "\r\n",
                "\r\n",
                ""
            ],
            "metadata": {
                "azdata_cell_guid": "8a971627-a8d3-4595-a9be-ceab11358376",
                "language": "sql",
                "tags": []
            },
            "outputs": [
                {
                    "output_type": "display_data",
                    "data": {
                        "text/html": "(3 rows affected)"
                    },
                    "metadata": {}
                },
                {
                    "output_type": "display_data",
                    "data": {
                        "text/html": "Total execution time: 00:00:00.051"
                    },
                    "metadata": {}
                },
                {
                    "output_type": "execute_result",
                    "metadata": {},
                    "execution_count": 26,
                    "data": {
                        "application/vnd.dataresource+json": {
                            "schema": {
                                "fields": [
                                    {
                                        "name": "megrendelo"
                                    },
                                    {
                                        "name": "megrendelo tipus"
                                    }
                                ]
                            },
                            "data": [
                                {
                                    "megrendelo": "130",
                                    "megrendelo tipus": "kis megrendelő"
                                },
                                {
                                    "megrendelo": "60",
                                    "megrendelo tipus": "közepes megrendelő"
                                },
                                {
                                    "megrendelo": "1",
                                    "megrendelo tipus": "nagy megrendelő"
                                }
                            ]
                        },
                        "text/html": [
                            "<table>",
                            "<tr><th>megrendelo</th><th>megrendelo tipus</th></tr>",
                            "<tr><td>130</td><td>kis megrendelő</td></tr>",
                            "<tr><td>60</td><td>közepes megrendelő</td></tr>",
                            "<tr><td>1</td><td>nagy megrendelő</td></tr>",
                            "</table>"
                        ]
                    }
                }
            ],
            "execution_count": 26
        },
        {
            "cell_type": "markdown",
            "source": [
                "![](data:image/png;base64,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)"
            ],
            "metadata": {
                "azdata_cell_guid": "52f9b7a3-b242-477e-bd83-f914bfe20920"
            },
            "attachments": {}
        },
        {
            "cell_type": "markdown",
            "source": [
                "Itt azt vizsáljuk meg, hogy amennyiben kitöltötték a szállítási címet, hova kellett kiszállítani. Tehát a megrendeléseink milyen arányban megyeszékhelyről, és mennyien kisebb településekről érkezik be."
            ],
            "metadata": {
                "azdata_cell_guid": "d1e5d133-8d6c-4ea2-bb1f-96d02089792f"
            },
            "attachments": {}
        },
        {
            "cell_type": "code",
            "source": [
                "SELECT  [település típus], COUNT(SORSZAM) AS 'darabszám'\r\n",
                "FROM(\r\n",
                "SELECT  (IIF(LEFT( SZALL_CIM, CHARINDEX(',', SZALL_CIM)-1 ) \r\n",
                "            IN ('Győr', 'Szombathely', 'Zalaegerszeg', 'Tatabánya', 'Veszprém', 'Kaposvár', 'Pécs', 'Szekszárd', 'Budapest', 'Salgótarján', 'Eger', 'Miskolc', 'Nyíregyháza', 'Debrecen', 'Szolnok', 'Kecskemét', 'Szeged', 'Békéscsaba'),\r\n",
                "             'megyeszékhely', 'település')) AS 'település típus', SORSZAM  FROM Rendeles WHERE SZALL_CIM IS NOT NULL)  rows\r\n",
                "GROUP BY [település típus]"
            ],
            "metadata": {
                "azdata_cell_guid": "5ade4410-00d6-4b58-b535-5a2999d1813b",
                "language": "sql"
            },
            "outputs": [
                {
                    "output_type": "display_data",
                    "data": {
                        "text/html": "(2 rows affected)"
                    },
                    "metadata": {}
                },
                {
                    "output_type": "display_data",
                    "data": {
                        "text/html": "Total execution time: 00:00:00.109"
                    },
                    "metadata": {}
                },
                {
                    "output_type": "execute_result",
                    "metadata": {},
                    "execution_count": 27,
                    "data": {
                        "application/vnd.dataresource+json": {
                            "schema": {
                                "fields": [
                                    {
                                        "name": "település típus"
                                    },
                                    {
                                        "name": "darabszám"
                                    }
                                ]
                            },
                            "data": [
                                {
                                    "település típus": "település",
                                    "darabszám": "5075"
                                },
                                {
                                    "település típus": "megyeszékhely",
                                    "darabszám": "1321"
                                }
                            ]
                        },
                        "text/html": [
                            "<table>",
                            "<tr><th>település típus</th><th>darabszám</th></tr>",
                            "<tr><td>település</td><td>5075</td></tr>",
                            "<tr><td>megyeszékhely</td><td>1321</td></tr>",
                            "</table>"
                        ]
                    }
                }
            ],
            "execution_count": 27
        },
        {
            "cell_type": "markdown",
            "source": [
                "![](data:image/png;base64,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)"
            ],
            "metadata": {
                "azdata_cell_guid": "65f0fddc-43d6-4f07-864d-ff5e38bc8f10"
            },
            "attachments": {}
        },
        {
            "cell_type": "markdown",
            "source": [
                "Most nézzük meg, hogy kik a legtöbb rendelést leadó vevőink! (látszik, hogy van egy vásárló aki kiemelkedik)"
            ],
            "metadata": {
                "azdata_cell_guid": "c69d25dc-b2b9-4d14-a345-ebfcb7ce6d73"
            },
            "attachments": {}
        },
        {
            "cell_type": "code",
            "source": [
                "\r\n",
                "SELECT TOP 10 LOGIN, COUNT(SORSZAM)  AS 'darab'\r\n",
                "FRom Rendeles\r\n",
                "GROUP BY [LOGIN], SZALL_CIM\r\n",
                "ORDER BY COUNT(SORSZAM) DESC;\r\n",
                ""
            ],
            "metadata": {
                "azdata_cell_guid": "eeca3516-d4d3-49f9-bef7-50996a183b9b",
                "language": "sql"
            },
            "outputs": [
                {
                    "output_type": "display_data",
                    "data": {
                        "text/html": "(10 rows affected)"
                    },
                    "metadata": {}
                },
                {
                    "output_type": "display_data",
                    "data": {
                        "text/html": "Total execution time: 00:00:00.112"
                    },
                    "metadata": {}
                },
                {
                    "output_type": "execute_result",
                    "metadata": {},
                    "execution_count": 28,
                    "data": {
                        "application/vnd.dataresource+json": {
                            "schema": {
                                "fields": [
                                    {
                                        "name": "LOGIN"
                                    },
                                    {
                                        "name": "darab"
                                    }
                                ]
                            },
                            "data": [
                                {
                                    "LOGIN": "peter4",
                                    "darab": "678"
                                },
                                {
                                    "LOGIN": "szabolcs",
                                    "darab": "367"
                                },
                                {
                                    "LOGIN": "balint1",
                                    "darab": "363"
                                },
                                {
                                    "LOGIN": "eva2",
                                    "darab": "356"
                                },
                                {
                                    "LOGIN": "TAMASF",
                                    "darab": "353"
                                },
                                {
                                    "LOGIN": "david",
                                    "darab": "346"
                                },
                                {
                                    "LOGIN": "BEATRIXK",
                                    "darab": "345"
                                },
                                {
                                    "LOGIN": "ferenc1",
                                    "darab": "345"
                                },
                                {
                                    "LOGIN": "LASZLOA",
                                    "darab": "343"
                                },
                                {
                                    "LOGIN": "szilvia1",
                                    "darab": "343"
                                }
                            ]
                        },
                        "text/html": [
                            "<table>",
                            "<tr><th>LOGIN</th><th>darab</th></tr>",
                            "<tr><td>peter4</td><td>678</td></tr>",
                            "<tr><td>szabolcs</td><td>367</td></tr>",
                            "<tr><td>balint1</td><td>363</td></tr>",
                            "<tr><td>eva2</td><td>356</td></tr>",
                            "<tr><td>TAMASF</td><td>353</td></tr>",
                            "<tr><td>david</td><td>346</td></tr>",
                            "<tr><td>BEATRIXK</td><td>345</td></tr>",
                            "<tr><td>ferenc1</td><td>345</td></tr>",
                            "<tr><td>LASZLOA</td><td>343</td></tr>",
                            "<tr><td>szilvia1</td><td>343</td></tr>",
                            "</table>"
                        ]
                    }
                }
            ],
            "execution_count": 28
        },
        {
            "cell_type": "markdown",
            "source": [
                "![](data:image/png;base64,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)"
            ],
            "metadata": {
                "azdata_cell_guid": "9d6b0d2e-94e8-4c18-a7eb-9c998bb95deb"
            },
            "attachments": {}
        },
        {
            "cell_type": "markdown",
            "source": [
                "Nézzük meg az egyes fizetési módszerek mennyire népszerűek!"
            ],
            "metadata": {
                "azdata_cell_guid": "491d70cb-5747-466c-9ee3-9b9d83813ce6"
            },
            "attachments": {}
        },
        {
            "cell_type": "code",
            "source": [
                "SELECT FIZ_MOD, COUNT(SORSZAM) 'darab'\r\n",
                "FROM Rendeles\r\n",
                "GROUP BY FIZ_MOD"
            ],
            "metadata": {
                "azdata_cell_guid": "96b469e9-dc64-4236-b23e-ba683ef55c8c",
                "language": "sql"
            },
            "outputs": [
                {
                    "output_type": "display_data",
                    "data": {
                        "text/html": "(3 rows affected)"
                    },
                    "metadata": {}
                },
                {
                    "output_type": "display_data",
                    "data": {
                        "text/html": "Total execution time: 00:00:00.101"
                    },
                    "metadata": {}
                },
                {
                    "output_type": "execute_result",
                    "metadata": {},
                    "execution_count": 29,
                    "data": {
                        "application/vnd.dataresource+json": {
                            "schema": {
                                "fields": [
                                    {
                                        "name": "FIZ_MOD"
                                    },
                                    {
                                        "name": "darab"
                                    }
                                ]
                            },
                            "data": [
                                {
                                    "FIZ_MOD": "Bankkártya",
                                    "darab": "14003"
                                },
                                {
                                    "FIZ_MOD": "Átutalás",
                                    "darab": "11284"
                                },
                                {
                                    "FIZ_MOD": "Készpénz",
                                    "darab": "2798"
                                }
                            ]
                        },
                        "text/html": [
                            "<table>",
                            "<tr><th>FIZ_MOD</th><th>darab</th></tr>",
                            "<tr><td>Bankkártya</td><td>14003</td></tr>",
                            "<tr><td>Átutalás</td><td>11284</td></tr>",
                            "<tr><td>Készpénz</td><td>2798</td></tr>",
                            "</table>"
                        ]
                    }
                }
            ],
            "execution_count": 29
        },
        {
            "cell_type": "markdown",
            "source": [
                "![](data:image/png;base64,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)"
            ],
            "metadata": {
                "azdata_cell_guid": "945a893b-e6f3-407d-a07c-775ea1a2c9d2"
            },
            "attachments": {}
        },
        {
            "cell_type": "markdown",
            "source": [
                "Nézzük meg a szállítási módbeli és a fizetési módbeli bontásban a beérkezett rendeléseket!"
            ],
            "metadata": {
                "azdata_cell_guid": "a9d5daa9-8eb3-4633-871c-526629ad3884"
            },
            "attachments": {}
        },
        {
            "cell_type": "code",
            "source": [
                "SELECT FIZ_MOD, SZALL_MOD, COUNT(SORSZAM) AS 'darab'\r\n",
                "FROM Rendeles\r\n",
                "GROUP BY GROUPING SETS (FIZ_MOD), (SZALL_MOD)\r\n",
                "ORDER BY FIZ_MOD, COUNT(SORSZAM)"
            ],
            "metadata": {
                "azdata_cell_guid": "a1582541-13d9-480a-bcd5-ccba097205b3",
                "language": "sql"
            },
            "outputs": [
                {
                    "output_type": "display_data",
                    "data": {
                        "text/html": "(9 rows affected)"
                    },
                    "metadata": {}
                },
                {
                    "output_type": "display_data",
                    "data": {
                        "text/html": "Total execution time: 00:00:00.048"
                    },
                    "metadata": {}
                },
                {
                    "output_type": "execute_result",
                    "metadata": {},
                    "execution_count": 30,
                    "data": {
                        "application/vnd.dataresource+json": {
                            "schema": {
                                "fields": [
                                    {
                                        "name": "FIZ_MOD"
                                    },
                                    {
                                        "name": "SZALL_MOD"
                                    },
                                    {
                                        "name": "darab"
                                    }
                                ]
                            },
                            "data": [
                                {
                                    "FIZ_MOD": "Átutalás",
                                    "SZALL_MOD": "Posta",
                                    "darab": "3709"
                                },
                                {
                                    "FIZ_MOD": "Átutalás",
                                    "SZALL_MOD": "GLS",
                                    "darab": "3777"
                                },
                                {
                                    "FIZ_MOD": "Átutalás",
                                    "SZALL_MOD": "Személyes átvétel",
                                    "darab": "3798"
                                },
                                {
                                    "FIZ_MOD": "Bankkártya",
                                    "SZALL_MOD": "Posta",
                                    "darab": "4607"
                                },
                                {
                                    "FIZ_MOD": "Bankkártya",
                                    "SZALL_MOD": "Személyes átvétel",
                                    "darab": "4695"
                                },
                                {
                                    "FIZ_MOD": "Bankkártya",
                                    "SZALL_MOD": "GLS",
                                    "darab": "4701"
                                },
                                {
                                    "FIZ_MOD": "Készpénz",
                                    "SZALL_MOD": "Posta",
                                    "darab": "875"
                                },
                                {
                                    "FIZ_MOD": "Készpénz",
                                    "SZALL_MOD": "GLS",
                                    "darab": "948"
                                },
                                {
                                    "FIZ_MOD": "Készpénz",
                                    "SZALL_MOD": "Személyes átvétel",
                                    "darab": "975"
                                }
                            ]
                        },
                        "text/html": [
                            "<table>",
                            "<tr><th>FIZ_MOD</th><th>SZALL_MOD</th><th>darab</th></tr>",
                            "<tr><td>Átutalás</td><td>Posta</td><td>3709</td></tr>",
                            "<tr><td>Átutalás</td><td>GLS</td><td>3777</td></tr>",
                            "<tr><td>Átutalás</td><td>Személyes átvétel</td><td>3798</td></tr>",
                            "<tr><td>Bankkártya</td><td>Posta</td><td>4607</td></tr>",
                            "<tr><td>Bankkártya</td><td>Személyes átvétel</td><td>4695</td></tr>",
                            "<tr><td>Bankkártya</td><td>GLS</td><td>4701</td></tr>",
                            "<tr><td>Készpénz</td><td>Posta</td><td>875</td></tr>",
                            "<tr><td>Készpénz</td><td>GLS</td><td>948</td></tr>",
                            "<tr><td>Készpénz</td><td>Személyes átvétel</td><td>975</td></tr>",
                            "</table>"
                        ]
                    }
                }
            ],
            "execution_count": 30
        },
        {
            "cell_type": "markdown",
            "source": [
                "![](data:image/png;base64,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)"
            ],
            "metadata": {
                "azdata_cell_guid": "6e36d797-645f-423d-b0e4-70f1a8a61e91"
            },
            "attachments": {}
        },
        {
            "cell_type": "markdown",
            "source": [
                "Nézzük meg hány darab rendelést dolgoztak fel gyorsan (\\<5), átlagosan(5), és lassan (\\>5)!"
            ],
            "metadata": {
                "azdata_cell_guid": "827fca69-63bc-45b8-a4b1-a42802913ccf"
            },
            "attachments": {}
        },
        {
            "cell_type": "code",
            "source": [
                "SELECT IDO, COUNT(ID) AS 'darab'\r\n",
                "FROM (SELECT CASE WHEN DATEDIFF(day, rend_datum, szall_datum) < 5 THEN 'gyors'\r\n",
                "                    WHEN  DATEDIFF(day, rend_datum, szall_datum) = 5 THEN 'átlagos'\r\n",
                "                    ELSE 'lassú'\r\n",
                "                    END AS 'IDO', SORSZAM AS 'ID'\r\n",
                "                    FROM Rendeles) ROWS\r\n",
                "GROUP BY IDO\r\n",
                ""
            ],
            "metadata": {
                "azdata_cell_guid": "959dc201-d2b0-46ef-922d-0fec15a7da21",
                "language": "sql"
            },
            "outputs": [
                {
                    "output_type": "display_data",
                    "data": {
                        "text/html": "(3 rows affected)"
                    },
                    "metadata": {}
                },
                {
                    "output_type": "display_data",
                    "data": {
                        "text/html": "Total execution time: 00:00:00.058"
                    },
                    "metadata": {}
                },
                {
                    "output_type": "execute_result",
                    "metadata": {},
                    "execution_count": 33,
                    "data": {
                        "application/vnd.dataresource+json": {
                            "schema": {
                                "fields": [
                                    {
                                        "name": "IDO"
                                    },
                                    {
                                        "name": "darab"
                                    }
                                ]
                            },
                            "data": [
                                {
                                    "IDO": "gyors",
                                    "darab": "9438"
                                },
                                {
                                    "IDO": "lassú",
                                    "darab": "15512"
                                },
                                {
                                    "IDO": "átlagos",
                                    "darab": "3135"
                                }
                            ]
                        },
                        "text/html": [
                            "<table>",
                            "<tr><th>IDO</th><th>darab</th></tr>",
                            "<tr><td>gyors</td><td>9438</td></tr>",
                            "<tr><td>lassú</td><td>15512</td></tr>",
                            "<tr><td>átlagos</td><td>3135</td></tr>",
                            "</table>"
                        ]
                    }
                }
            ],
            "execution_count": 33
        },
        {
            "cell_type": "markdown",
            "source": [
                "![](data:image/png;base64,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)"
            ],
            "metadata": {
                "azdata_cell_guid": "0c951385-371f-4ab4-9fef-10ab9caa7d38"
            },
            "attachments": {}
        },
        {
            "cell_type": "markdown",
            "source": [
                "Nézzük meg hány féle számlázási cím van! (azt is hány helyen nincs kitöltve)"
            ],
            "metadata": {
                "azdata_cell_guid": "f8de893c-82cf-4c5c-80f4-826994b9916b"
            },
            "attachments": {}
        },
        {
            "cell_type": "code",
            "source": [
                "SELECT ISNULL(SZAMLA_CIM, 'N/A') AS 'Számlázási címek', COUNT(SORSZAM) 'ide számolt rendelések'\r\n",
                "FROM Rendeles\r\n",
                "\r\n",
                "GROUP BY ISNULL(SZAMLA_CIM, 'N/A')\r\n",
                "ORDER BY COUNT(SORSZAM) DESC"
            ],
            "metadata": {
                "azdata_cell_guid": "f160ffb2-d841-4b25-be7a-612aa5d33003",
                "language": "sql",
                "tags": []
            },
            "outputs": [
                {
                    "output_type": "display_data",
                    "data": {
                        "text/html": "(274 rows affected)"
                    },
                    "metadata": {}
                },
                {
                    "output_type": "display_data",
                    "data": {
                        "text/html": "Total execution time: 00:00:02.116"
                    },
                    "metadata": {}
                },
                {
                    "output_type": "execute_result",
                    "metadata": {},
                    "execution_count": 34,
                    "data": {
                        "application/vnd.dataresource+json": {
                            "schema": {
                                "fields": [
                                    {
                                        "name": "Számlázási címek"
                                    },
                                    {
                                        "name": "ide számolt rendelések"
                                    }
                                ]
                            },
                            "data": [
                                {
                                    "Számlázási címek": "N/A",
                                    "ide számolt rendelések": "25535"
                                },
                                {
                                    "Számlázási címek": "9023 Győr, Fő u. 2.",
                                    "ide számolt rendelések": "61"
                                },
                                {
                                    "Számlázási címek": "5137 Jászkisér, Fő u. 2.",
                                    "ide számolt rendelések": "54"
                                },
                                {
                                    "Számlázási címek": "9023 Győr, Kiss u. 32.",
                                    "ide számolt rendelések": "41"
                                },
                                {
                                    "Számlázási címek": "5137 Jászkisér, Kiss u. 32.",
                                    "ide számolt rendelések": "40"
                                },
                                {
                                    "Számlázási címek": "5200 Törökszentmiklós, Fő u. 2.",
                                    "ide számolt rendelések": "39"
                                },
                                {
                                    "Számlázási címek": "5071 Besenyszög, Fő u. 2.",
                                    "ide számolt rendelések": "29"
                                },
                                {
                                    "Számlázási címek": "6786 Ruzsa, Fő u. 2.",
                                    "ide számolt rendelések": "28"
                                },
                                {
                                    "Számlázási címek": "2484 Agárd, Fő u. 2.",
                                    "ide számolt rendelések": "28"
                                },
                                {
                                    "Számlázási címek": "6646 Tömörkény, Fő u. 2.",
                                    "ide számolt rendelések": "27"
                                },
                                {
                                    "Számlázási címek": "6786 Ruzsa, Kiss u. 32.",
                                    "ide számolt rendelések": "27"
                                },
                                {
                                    "Számlázási címek": "7960 Sellye, Fő u. 2.",
                                    "ide számolt rendelések": "27"
                                },
                                {
                                    "Számlázási címek": "2100 Gödöllő, Fő u. 2.",
                                    "ide számolt rendelések": "27"
                                },
                                {
                                    "Számlázási címek": "9181 Kimle, Fő u. 2.",
                                    "ide számolt rendelések": "26"
                                },
                                {
                                    "Számlázási címek": "5200 Törökszentmiklós, Kiss u. 32.",
                                    "ide számolt rendelések": "25"
                                },
                                {
                                    "Számlázási címek": "5920 Csorvás, Fő u. 2.",
                                    "ide számolt rendelések": "25"
                                },
                                {
                                    "Számlázási címek": "5310 Kisújszállás, Fő u. 2.",
                                    "ide számolt rendelések": "23"
                                },
                                {
                                    "Számlázási címek": "7900 Szigetvár, Fő u. 2.",
                                    "ide számolt rendelések": "23"
                                },
                                {
                                    "Számlázási címek": "1102 Budapest, Fő u. 2.",
                                    "ide számolt rendelések": "23"
                                },
                                {
                                    "Számlázási címek": "6700 Szeged, Fő u. 2.",
                                    "ide számolt rendelések": "23"
                                },
                                {
                                    "Számlázási címek": "6760 Kistelek, Fő u. 2.",
                                    "ide számolt rendelések": "23"
                                },
                                {
                                    "Számlázási címek": "2100 Gödöllő, Kiss u. 32.",
                                    "ide számolt rendelések": "22"
                                },
                                {
                                    "Számlázási címek": "3580 Tiszaújváros, Fő u. 2.",
                                    "ide számolt rendelések": "22"
                                },
                                {
                                    "Számlázási címek": "5065 Nagykörű, Fő u. 2.",
                                    "ide számolt rendelések": "22"
                                },
                                {
                                    "Számlázási címek": "2300 Ráckeve, Fő u. 2.",
                                    "ide számolt rendelések": "22"
                                },
                                {
                                    "Számlázási címek": "6700 Szeged, Kiss u. 32.",
                                    "ide számolt rendelések": "22"
                                },
                                {
                                    "Számlázási címek": "8200 Veszprém, Fő u. 2.",
                                    "ide számolt rendelések": "22"
                                },
                                {
                                    "Számlázási címek": "5537 Zsadány, Fő u. 2.",
                                    "ide számolt rendelések": "22"
                                },
                                {
                                    "Számlázási címek": "4400 Nyíregyháza, Kiss u. 32.",
                                    "ide számolt rendelések": "21"
                                },
                                {
                                    "Számlázási címek": "7396 Magyarszék, Fő u. 2.",
                                    "ide számolt rendelések": "21"
                                },
                                {
                                    "Számlázási címek": "8313 Balatongyörök, Fő u. 2.",
                                    "ide számolt rendelések": "21"
                                },
                                {
                                    "Számlázási címek": "9653 Répcelak, Fő u. 2.",
                                    "ide számolt rendelések": "21"
                                },
                                {
                                    "Számlázási címek": "2424 Előszállás, Fő u. 2.",
                                    "ide számolt rendelések": "21"
                                },
                                {
                                    "Számlázási címek": "5137 Jászkisér, Nagy u.14.",
                                    "ide számolt rendelések": "20"
                                },
                                {
                                    "Számlázási címek": "3643 Dédestapolcsány, Kiss u. 32.",
                                    "ide számolt rendelések": "20"
                                },
                                {
                                    "Számlázási címek": "1192 Budapest, Kiss u. 32.",
                                    "ide számolt rendelések": "20"
                                },
                                {
                                    "Számlázási címek": "7086 Ozora, Kiss u. 32.",
                                    "ide számolt rendelések": "20"
                                },
                                {
                                    "Számlázási címek": "7149 Báta, Fő u. 2.",
                                    "ide számolt rendelések": "19"
                                },
                                {
                                    "Számlázási címek": "5630 Békés, Kiss u. 32.",
                                    "ide számolt rendelések": "19"
                                },
                                {
                                    "Számlázási címek": "1102 Budapest, Kiss u. 32.",
                                    "ide számolt rendelések": "19"
                                },
                                {
                                    "Számlázási címek": "4440 Tiszavasvári, Fő u. 2.",
                                    "ide számolt rendelések": "19"
                                },
                                {
                                    "Számlázási címek": "5310 Kisújszállás, Kiss u. 32.",
                                    "ide számolt rendelések": "19"
                                },
                                {
                                    "Számlázási címek": "8200 Veszprém, Kiss u. 32.",
                                    "ide számolt rendelések": "19"
                                },
                                {
                                    "Számlázási címek": "6913 Csanádpalota, Fő u. 2.",
                                    "ide számolt rendelések": "19"
                                },
                                {
                                    "Számlázási címek": "1173 Budapest, Fő u. 2.",
                                    "ide számolt rendelések": "19"
                                },
                                {
                                    "Számlázási címek": "2855 Bokod, Fő u. 2.",
                                    "ide számolt rendelések": "18"
                                },
                                {
                                    "Számlázási címek": "2462 Martonvásár, Fő u. 2.",
                                    "ide számolt rendelések": "18"
                                },
                                {
                                    "Számlázási címek": "5931 Nagyszénás, Fő u. 2.",
                                    "ide számolt rendelések": "18"
                                },
                                {
                                    "Számlázási címek": "2855 Bokod, Kiss u. 32.",
                                    "ide számolt rendelések": "18"
                                },
                                {
                                    "Számlázási címek": "3643 Dédestapolcsány, Fő u. 2.",
                                    "ide számolt rendelések": "18"
                                },
                                {
                                    "Számlázási címek": "1149 Budapest, Fő u. 2.",
                                    "ide számolt rendelések": "18"
                                },
                                {
                                    "Számlázási címek": "6430 Bácsalmás, Fő u. 2.",
                                    "ide számolt rendelések": "17"
                                },
                                {
                                    "Számlázási címek": "2730 Albertirsa, Fő u. 2.",
                                    "ide számolt rendelések": "17"
                                },
                                {
                                    "Számlázási címek": "1077 Budapest, Kiss u. 32.",
                                    "ide számolt rendelések": "17"
                                },
                                {
                                    "Számlázási címek": "2700 Cegléd, Fő u. 2.",
                                    "ide számolt rendelések": "17"
                                },
                                {
                                    "Számlázási címek": "1183 Budapest, Kiss u. 32.",
                                    "ide számolt rendelések": "17"
                                },
                                {
                                    "Számlázási címek": "2730 Albertirsa, Kiss u. 32.",
                                    "ide számolt rendelések": "17"
                                },
                                {
                                    "Számlázási címek": "6913 Csanádpalota, Kiss u. 32.",
                                    "ide számolt rendelések": "17"
                                },
                                {
                                    "Számlázási címek": "9155 Lébény, Kiss u. 32.",
                                    "ide számolt rendelések": "17"
                                },
                                {
                                    "Számlázási címek": "4400 Nyíregyháza, Fő u. 2.",
                                    "ide számolt rendelések": "17"
                                },
                                {
                                    "Számlázási címek": "7149 Báta, Kiss u. 32.",
                                    "ide számolt rendelések": "16"
                                },
                                {
                                    "Számlázási címek": "2000 Szentendre, Kiss u. 32.",
                                    "ide számolt rendelések": "16"
                                },
                                {
                                    "Számlázási címek": "4231 Bököny, Kiss u. 32.",
                                    "ide számolt rendelések": "16"
                                },
                                {
                                    "Számlázási címek": "8313 Balatongyörök, Kiss u. 32.",
                                    "ide számolt rendelések": "16"
                                },
                                {
                                    "Számlázási címek": "2484 Agárd, Kiss u. 32.",
                                    "ide számolt rendelések": "16"
                                },
                                {
                                    "Számlázási címek": "6050 Lajosmizse, Fő u. 2.",
                                    "ide számolt rendelések": "16"
                                },
                                {
                                    "Számlázási címek": "4060 Balmazújváros, Fő u. 2.",
                                    "ide számolt rendelések": "16"
                                },
                                {
                                    "Számlázási címek": "9181 Kimle, Kiss u. 32.",
                                    "ide számolt rendelések": "16"
                                },
                                {
                                    "Számlázási címek": "9653 Répcelak, Kiss u. 32.",
                                    "ide számolt rendelések": "16"
                                },
                                {
                                    "Számlázási címek": "1183 Budapest, Fő u. 2.",
                                    "ide számolt rendelések": "16"
                                },
                                {
                                    "Számlázási címek": "1149 Budapest, Kiss u. 32.",
                                    "ide számolt rendelések": "15"
                                },
                                {
                                    "Számlázási címek": "3973 Cigánd, Fő u. 2.",
                                    "ide számolt rendelések": "15"
                                },
                                {
                                    "Számlázási címek": "7396 Magyarszék, Kiss u. 32.",
                                    "ide számolt rendelések": "15"
                                },
                                {
                                    "Számlázási címek": "5920 Csorvás, Kiss u. 32.",
                                    "ide számolt rendelések": "15"
                                },
                                {
                                    "Számlázási címek": "4231 Bököny, Fő u. 2.",
                                    "ide számolt rendelések": "15"
                                },
                                {
                                    "Számlázási címek": "9155 Lébény, Fő u. 2.",
                                    "ide számolt rendelések": "15"
                                },
                                {
                                    "Számlázási címek": "2241 Sülysáp, Fő u. 2.",
                                    "ide számolt rendelések": "15"
                                },
                                {
                                    "Számlázási címek": "1077 Budapest, Fő u. 2.",
                                    "ide számolt rendelések": "15"
                                },
                                {
                                    "Számlázási címek": "7133 Fadd, Fő u. 2.",
                                    "ide számolt rendelések": "15"
                                },
                                {
                                    "Számlázási címek": "3973 Cigánd, Kiss u. 32.",
                                    "ide számolt rendelések": "15"
                                },
                                {
                                    "Számlázási címek": "4440 Tiszavasvári, Kiss u. 32.",
                                    "ide számolt rendelések": "15"
                                },
                                {
                                    "Számlázási címek": "7086 Ozora, Fő u. 2.",
                                    "ide számolt rendelések": "15"
                                },
                                {
                                    "Számlázási címek": "5071 Besenyszög, Kiss u. 32.",
                                    "ide számolt rendelések": "14"
                                },
                                {
                                    "Számlázási címek": "6050 Lajosmizse, Kiss u. 32.",
                                    "ide számolt rendelések": "14"
                                },
                                {
                                    "Számlázási címek": "7100 Szekszárd, Fő u. 2.",
                                    "ide számolt rendelések": "14"
                                },
                                {
                                    "Számlázási címek": "2241 Sülysáp, Kiss u. 32.",
                                    "ide számolt rendelések": "14"
                                },
                                {
                                    "Számlázási címek": "2700 Cegléd, Kiss u. 32.",
                                    "ide számolt rendelések": "14"
                                },
                                {
                                    "Számlázási címek": "4244 Újfehértó, Fő u. 2.",
                                    "ide számolt rendelések": "14"
                                },
                                {
                                    "Számlázási címek": "5630 Békés, Fő u. 2.",
                                    "ide számolt rendelések": "13"
                                },
                                {
                                    "Számlázási címek": "7133 Fadd, Kiss u. 32.",
                                    "ide számolt rendelések": "13"
                                },
                                {
                                    "Számlázási címek": "2462 Martonvásár, Kiss u. 32.",
                                    "ide számolt rendelések": "13"
                                },
                                {
                                    "Számlázási címek": "6080 Szabadszállás, Fő u. 2.",
                                    "ide számolt rendelések": "13"
                                },
                                {
                                    "Számlázási címek": "5931 Nagyszénás, Kiss u. 32.",
                                    "ide számolt rendelések": "13"
                                },
                                {
                                    "Számlázási címek": "2000 Szentendre, Fő u. 2.",
                                    "ide számolt rendelések": "13"
                                },
                                {
                                    "Számlázási címek": "6646 Tömörkény, Kiss u. 32.",
                                    "ide számolt rendelések": "13"
                                },
                                {
                                    "Számlázási címek": "2085 Pilisvörösvár, Fő u. 2.",
                                    "ide számolt rendelések": "13"
                                },
                                {
                                    "Számlázási címek": "7900 Szigetvár, Kiss u. 32.",
                                    "ide számolt rendelések": "13"
                                },
                                {
                                    "Számlázási címek": "2300 Ráckeve, Kiss u. 32.",
                                    "ide számolt rendelések": "13"
                                },
                                {
                                    "Számlázási címek": "2424 Előszállás, Kiss u. 32.",
                                    "ide számolt rendelések": "13"
                                },
                                {
                                    "Számlázási címek": "5061 Tiszasüly, Fő u. 2.",
                                    "ide számolt rendelések": "13"
                                },
                                {
                                    "Számlázási címek": "1173 Budapest, Kiss u. 32.",
                                    "ide számolt rendelések": "12"
                                },
                                {
                                    "Számlázási címek": "5537 Zsadány, Kiss u. 32.",
                                    "ide számolt rendelések": "12"
                                },
                                {
                                    "Számlázási címek": "6760 Kistelek, Kiss u. 32.",
                                    "ide számolt rendelések": "12"
                                },
                                {
                                    "Számlázási címek": "2085 Pilisvörösvár, Kiss u. 32.",
                                    "ide számolt rendelések": "12"
                                },
                                {
                                    "Számlázási címek": "7100 Szekszárd, Kiss u. 32.",
                                    "ide számolt rendelések": "12"
                                },
                                {
                                    "Számlázási címek": "6786 Ruzsa, Nagy u.14.",
                                    "ide számolt rendelések": "12"
                                },
                                {
                                    "Számlázási címek": "5061 Tiszasüly, Kiss u. 32.",
                                    "ide számolt rendelések": "12"
                                },
                                {
                                    "Számlázási címek": "5065 Nagykörű, Kiss u. 32.",
                                    "ide számolt rendelések": "12"
                                },
                                {
                                    "Számlázási címek": "6430 Bácsalmás, Kiss u. 32.",
                                    "ide számolt rendelések": "11"
                                },
                                {
                                    "Számlázási címek": "6080 Szabadszállás, Kiss u. 32.",
                                    "ide számolt rendelések": "11"
                                },
                                {
                                    "Számlázási címek": "4060 Balmazújváros, Kiss u. 32.",
                                    "ide számolt rendelések": "11"
                                },
                                {
                                    "Számlázási címek": "7960 Sellye, Kiss u. 32.",
                                    "ide számolt rendelések": "11"
                                },
                                {
                                    "Számlázási címek": "5200 Törökszentmiklós, Nagy u.14.",
                                    "ide számolt rendelések": "10"
                                },
                                {
                                    "Számlázási címek": "2462 Martonvásár, Nagy u.14.",
                                    "ide számolt rendelések": "9"
                                },
                                {
                                    "Számlázási címek": "7086 Ozora, Nagy u.14.",
                                    "ide számolt rendelések": "9"
                                },
                                {
                                    "Számlázási címek": "6646 Tömörkény, Nagy u.14.",
                                    "ide számolt rendelések": "9"
                                },
                                {
                                    "Számlázási címek": "6430 Bácsalmás, Nagy u.14.",
                                    "ide számolt rendelések": "9"
                                },
                                {
                                    "Számlázási címek": "6080 Szabadszállás, Nagy u.14.",
                                    "ide számolt rendelések": "8"
                                },
                                {
                                    "Számlázási címek": "1192 Budapest, Fő u. 2.",
                                    "ide számolt rendelések": "8"
                                },
                                {
                                    "Számlázási címek": "3580 Tiszaújváros, Kiss u. 32.",
                                    "ide számolt rendelések": "8"
                                },
                                {
                                    "Számlázási címek": "6050 Lajosmizse, Nagy u.14.",
                                    "ide számolt rendelések": "8"
                                },
                                {
                                    "Számlázási címek": "7100 Szekszárd, Nagy u.14.",
                                    "ide számolt rendelések": "8"
                                },
                                {
                                    "Számlázási címek": "4244 Újfehértó, Kiss u. 32.",
                                    "ide számolt rendelések": "8"
                                },
                                {
                                    "Számlázási címek": "9023 Győr, Nagy u.14.",
                                    "ide számolt rendelések": "8"
                                },
                                {
                                    "Számlázási címek": "1149 Budapest, Nagy u.14.",
                                    "ide számolt rendelések": "7"
                                },
                                {
                                    "Számlázási címek": "4060 Balmazújváros, Nagy u.14.",
                                    "ide számolt rendelések": "7"
                                },
                                {
                                    "Számlázási címek": "2730 Albertirsa, Nagy u.14.",
                                    "ide számolt rendelések": "7"
                                },
                                {
                                    "Számlázási címek": "7900 Szigetvár, Nagy u.14.",
                                    "ide számolt rendelések": "7"
                                },
                                {
                                    "Számlázási címek": "5630 Békés, Nagy u.14.",
                                    "ide számolt rendelések": "7"
                                },
                                {
                                    "Számlázási címek": "7396 Magyarszék, Nagy u.14.",
                                    "ide számolt rendelések": "7"
                                },
                                {
                                    "Számlázási címek": "6913 Csanádpalota, Nagy u.14.",
                                    "ide számolt rendelések": "7"
                                },
                                {
                                    "Számlázási címek": "5071 Besenyszög, Nagy u.14.",
                                    "ide számolt rendelések": "7"
                                },
                                {
                                    "Számlázási címek": "9155 Lébény, Nagy u.14.",
                                    "ide számolt rendelések": "7"
                                },
                                {
                                    "Számlázási címek": "4244 Újfehértó, Nagy u.14.",
                                    "ide számolt rendelések": "6"
                                },
                                {
                                    "Számlázási címek": "1077 Budapest, Nagy u.14.",
                                    "ide számolt rendelések": "6"
                                },
                                {
                                    "Számlázási címek": "5920 Csorvás, Nagy u.14.",
                                    "ide számolt rendelések": "6"
                                },
                                {
                                    "Számlázási címek": "4440 Tiszavasvári, Nagy u.14.",
                                    "ide számolt rendelések": "6"
                                },
                                {
                                    "Számlázási címek": "2085 Pilisvörösvár, Nagy u.14.",
                                    "ide számolt rendelések": "5"
                                },
                                {
                                    "Számlázási címek": "5931 Nagyszénás, Nagy u.14.",
                                    "ide számolt rendelések": "5"
                                },
                                {
                                    "Számlázási címek": "2700 Cegléd, Nagy u.14.",
                                    "ide számolt rendelések": "5"
                                },
                                {
                                    "Számlázási címek": "6700 Szeged, Nagy u.14.",
                                    "ide számolt rendelések": "5"
                                },
                                {
                                    "Számlázási címek": "1173 Budapest, Nagy u.14.",
                                    "ide számolt rendelések": "5"
                                },
                                {
                                    "Számlázási címek": "5537 Zsadány, Nagy u.14.",
                                    "ide számolt rendelések": "5"
                                },
                                {
                                    "Számlázási címek": "2855 Bokod, Nagy u.14.",
                                    "ide számolt rendelések": "5"
                                },
                                {
                                    "Számlázási címek": "3580 Tiszaújváros, Nagy u.14.",
                                    "ide számolt rendelések": "5"
                                },
                                {
                                    "Számlázási címek": "5065 Nagykörű, Nagy u.14.",
                                    "ide számolt rendelések": "5"
                                },
                                {
                                    "Számlázási címek": "7960 Sellye, Nagy u.14.",
                                    "ide számolt rendelések": "5"
                                },
                                {
                                    "Számlázási címek": "9181 Kimle, Nagy u.14.",
                                    "ide számolt rendelések": "5"
                                },
                                {
                                    "Számlázási címek": "4400 Nyíregyháza, Nagy u.14.",
                                    "ide számolt rendelések": "4"
                                },
                                {
                                    "Számlázási címek": "8254 Kővágóörs, Fő u. 2.",
                                    "ide számolt rendelések": "4"
                                },
                                {
                                    "Számlázási címek": "5310 Kisújszállás, Nagy u.14.",
                                    "ide számolt rendelések": "4"
                                },
                                {
                                    "Számlázási címek": "3643 Dédestapolcsány, Nagy u.14.",
                                    "ide számolt rendelések": "4"
                                },
                                {
                                    "Számlázási címek": "2100 Gödöllő, Nagy u.14.",
                                    "ide számolt rendelések": "4"
                                },
                                {
                                    "Számlázási címek": "1183 Budapest, Nagy u.14.",
                                    "ide számolt rendelések": "4"
                                },
                                {
                                    "Számlázási címek": "9653 Répcelak, Nagy u.14.",
                                    "ide számolt rendelések": "4"
                                },
                                {
                                    "Számlázási címek": "2000 Szentendre, Nagy u.14.",
                                    "ide számolt rendelések": "4"
                                },
                                {
                                    "Számlázási címek": "2241 Sülysáp, Nagy u.14.",
                                    "ide számolt rendelések": "4"
                                },
                                {
                                    "Számlázási címek": "7149 Báta, Nagy u.14.",
                                    "ide számolt rendelések": "4"
                                },
                                {
                                    "Számlázási címek": "2115 Vácszentlászló, Fő u. 2.",
                                    "ide számolt rendelések": "3"
                                },
                                {
                                    "Számlázási címek": "1011 Budapest, Kiss u. 32.",
                                    "ide számolt rendelések": "3"
                                },
                                {
                                    "Számlázási címek": "3973 Cigánd, Nagy u.14.",
                                    "ide számolt rendelések": "3"
                                },
                                {
                                    "Számlázási címek": "1192 Budapest, Nagy u.14.",
                                    "ide számolt rendelések": "3"
                                },
                                {
                                    "Számlázási címek": "2484 Agárd, Nagy u.14.",
                                    "ide számolt rendelések": "3"
                                },
                                {
                                    "Számlázási címek": "8313 Balatongyörök, Nagy u.14.",
                                    "ide számolt rendelések": "3"
                                },
                                {
                                    "Számlázási címek": "2424 Előszállás, Nagy u.14.",
                                    "ide számolt rendelések": "3"
                                },
                                {
                                    "Számlázási címek": "2117 Isaszeg, Fő u. 2.",
                                    "ide számolt rendelések": "3"
                                },
                                {
                                    "Számlázási címek": "1035 Budapest, Kiss u. 32.",
                                    "ide számolt rendelések": "3"
                                },
                                {
                                    "Számlázási címek": "4071 Egyek, Kiss u. 32.",
                                    "ide számolt rendelések": "3"
                                },
                                {
                                    "Számlázási címek": "4231 Bököny, Nagy u.14.",
                                    "ide számolt rendelések": "3"
                                },
                                {
                                    "Számlázási címek": "6760 Kistelek, Nagy u.14.",
                                    "ide számolt rendelések": "3"
                                },
                                {
                                    "Számlázási címek": "6412 Balotaszállás, Fő u. 2.",
                                    "ide számolt rendelések": "3"
                                },
                                {
                                    "Számlázási címek": "5061 Tiszasüly, Nagy u.14.",
                                    "ide számolt rendelések": "3"
                                },
                                {
                                    "Számlázási címek": "8391 Sármellék, Fő u. 2.",
                                    "ide számolt rendelések": "3"
                                },
                                {
                                    "Számlázási címek": "2300 Ráckeve, Nagy u.14.",
                                    "ide számolt rendelések": "3"
                                },
                                {
                                    "Számlázási címek": "8283 Káptalantóti, Kiss u. 32.",
                                    "ide számolt rendelések": "3"
                                },
                                {
                                    "Számlázási címek": "1072 Budapest, Fő u. 2.",
                                    "ide számolt rendelések": "2"
                                },
                                {
                                    "Számlázási címek": "7130 Tolna, Kiss u. 32.",
                                    "ide számolt rendelések": "2"
                                },
                                {
                                    "Számlázási címek": "1107 Budapest, Kiss u. 32.",
                                    "ide számolt rendelések": "2"
                                },
                                {
                                    "Számlázási címek": "7220 Sarkad, Fő u. 2.",
                                    "ide számolt rendelések": "2"
                                },
                                {
                                    "Számlázási címek": "5530 Vésztő, Fő u. 2.",
                                    "ide számolt rendelések": "2"
                                },
                                {
                                    "Számlázási címek": "4172 Biharnagybajom, Kiss u. 32.",
                                    "ide számolt rendelések": "2"
                                },
                                {
                                    "Számlázási címek": "3910 Tokaj, Fő u. 2.",
                                    "ide számolt rendelések": "2"
                                },
                                {
                                    "Számlázási címek": "2377 Örkény, Fő u. 2.",
                                    "ide számolt rendelések": "2"
                                },
                                {
                                    "Számlázási címek": "2370 Dabas, Fő u. 2.",
                                    "ide számolt rendelések": "2"
                                },
                                {
                                    "Számlázási címek": "8200 Veszprém, Nagy u.14.",
                                    "ide számolt rendelések": "2"
                                },
                                {
                                    "Számlázási címek": "4800 Vásárosnamény, Kiss u. 32.",
                                    "ide számolt rendelések": "2"
                                },
                                {
                                    "Számlázási címek": "1102 Budapest, Nagy u.14.",
                                    "ide számolt rendelések": "2"
                                },
                                {
                                    "Számlázási címek": "9071 Görbeháza, Fő u. 2.",
                                    "ide számolt rendelések": "2"
                                },
                                {
                                    "Számlázási címek": "7130 Tolna, Fő u. 2.",
                                    "ide számolt rendelések": "2"
                                },
                                {
                                    "Számlázási címek": "6060 Tiszakécske, Fő u. 2.",
                                    "ide számolt rendelések": "2"
                                },
                                {
                                    "Számlázási címek": "1067 Budapest, Fő u. 2.",
                                    "ide számolt rendelések": "2"
                                },
                                {
                                    "Számlázási címek": "2370 Dabas, Nagy u.14.",
                                    "ide számolt rendelések": "2"
                                },
                                {
                                    "Számlázási címek": "2532 Tokodaltáró, Kiss u. 32.",
                                    "ide számolt rendelések": "2"
                                },
                                {
                                    "Számlázási címek": "2330 Dunaharaszti, Fő u. 2.",
                                    "ide számolt rendelések": "2"
                                },
                                {
                                    "Számlázási címek": "2115 Vácszentlászló, Nagy u.14.",
                                    "ide számolt rendelések": "2"
                                },
                                {
                                    "Számlázási címek": "7150 Bonyhád, Fő u. 2.",
                                    "ide számolt rendelések": "2"
                                },
                                {
                                    "Számlázási címek": "2600 Vác, Kiss u. 32.",
                                    "ide számolt rendelések": "2"
                                },
                                {
                                    "Számlázási címek": "2115 Vácszentlászló, Kiss u. 32.",
                                    "ide számolt rendelések": "2"
                                },
                                {
                                    "Számlázási címek": "7133 Fadd, Nagy u.14.",
                                    "ide számolt rendelések": "2"
                                },
                                {
                                    "Számlázási címek": "1035 Budapest, Fő u. 2.",
                                    "ide számolt rendelések": "2"
                                },
                                {
                                    "Számlázási címek": "4600 Kisvárda, Fő u. 2.",
                                    "ide számolt rendelések": "1"
                                },
                                {
                                    "Számlázási címek": "4200 Hajdúszoboszló, Fő u. 2.",
                                    "ide számolt rendelések": "1"
                                },
                                {
                                    "Számlázási címek": "7349 Szászvár, Kiss u. 32.",
                                    "ide számolt rendelések": "1"
                                },
                                {
                                    "Számlázási címek": "8800 Nagykanizsa, Fő u. 2.",
                                    "ide számolt rendelések": "1"
                                },
                                {
                                    "Számlázási címek": "3630 Putnok, Fő u. 2.",
                                    "ide számolt rendelések": "1"
                                },
                                {
                                    "Számlázási címek": "2117 Isaszeg, Kiss u. 32.",
                                    "ide számolt rendelések": "1"
                                },
                                {
                                    "Számlázási címek": "4071 Egyek, Fő u. 2.",
                                    "ide számolt rendelések": "1"
                                },
                                {
                                    "Számlázási címek": "8638 Balatonlelle, Kiss u. 32.",
                                    "ide számolt rendelések": "1"
                                },
                                {
                                    "Számlázási címek": "7511 Ötvöskónyi, Kiss u. 32.",
                                    "ide számolt rendelések": "1"
                                },
                                {
                                    "Számlázási címek": "8800 Nagykanizsa, Kiss u. 32.",
                                    "ide számolt rendelések": "1"
                                },
                                {
                                    "Számlázási címek": "7349 Szászvár, Fő u. 2.",
                                    "ide számolt rendelések": "1"
                                },
                                {
                                    "Számlázási címek": "6762 Sándorfalva, Kiss u. 32.",
                                    "ide számolt rendelések": "1"
                                },
                                {
                                    "Számlázási címek": "1067 Budapest, Nagy u.14.",
                                    "ide számolt rendelések": "1"
                                },
                                {
                                    "Számlázási címek": "6762 Sándorfalva, Fő u. 2.",
                                    "ide számolt rendelések": "1"
                                },
                                {
                                    "Számlázási címek": "2370 Dabas, Kiss u. 32.",
                                    "ide számolt rendelések": "1"
                                },
                                {
                                    "Számlázási címek": "1124 Budapest, Kiss u. 32.",
                                    "ide számolt rendelések": "1"
                                },
                                {
                                    "Számlázási címek": "2330 Dunaharaszti, Kiss u. 32.",
                                    "ide számolt rendelések": "1"
                                },
                                {
                                    "Számlázási címek": "7150 Bonyhád, Kiss u. 32.",
                                    "ide számolt rendelések": "1"
                                },
                                {
                                    "Számlázási címek": "5465 Cserkeszőlő, Fő u. 2.",
                                    "ide számolt rendelések": "1"
                                },
                                {
                                    "Számlázási címek": "2800 Tatabánya, Nagy u.14.",
                                    "ide számolt rendelések": "1"
                                },
                                {
                                    "Számlázási címek": "2053 Herceghalom, Fő u. 2.",
                                    "ide számolt rendelések": "1"
                                },
                                {
                                    "Számlázási címek": "2381 Táborfalva, Kiss u. 32.",
                                    "ide számolt rendelések": "1"
                                },
                                {
                                    "Számlázási címek": "3783 Edelény, Fő u. 2.",
                                    "ide számolt rendelések": "1"
                                },
                                {
                                    "Számlázási címek": "4200 Hajdúszoboszló, Kiss u. 32.",
                                    "ide számolt rendelések": "1"
                                },
                                {
                                    "Számlázási címek": "1124 Budapest, Fő u. 2.",
                                    "ide számolt rendelések": "1"
                                },
                                {
                                    "Számlázási címek": "3895 Gönc, Fő u. 2.",
                                    "ide számolt rendelések": "1"
                                },
                                {
                                    "Számlázási címek": "6500 Baja, Kiss u. 32.",
                                    "ide számolt rendelések": "1"
                                },
                                {
                                    "Számlázási címek": "1047 Budapest, Nagy u.14.",
                                    "ide számolt rendelések": "1"
                                },
                                {
                                    "Számlázási címek": "1047 Budapest, Fő u. 2.",
                                    "ide számolt rendelések": "1"
                                },
                                {
                                    "Számlázási címek": "5940 Tótkomlós, Nagy u.14.",
                                    "ide számolt rendelések": "1"
                                },
                                {
                                    "Számlázási címek": "3630 Putnok, Kiss u. 32.",
                                    "ide számolt rendelések": "1"
                                },
                                {
                                    "Számlázási címek": "8237 Tihany, Kiss u. 32.",
                                    "ide számolt rendelések": "1"
                                },
                                {
                                    "Számlázási címek": "1035 Budapest, Nagy u.14.",
                                    "ide számolt rendelések": "1"
                                },
                                {
                                    "Számlázási címek": "8630 Balatonboglár, Fő u. 2.",
                                    "ide számolt rendelések": "1"
                                },
                                {
                                    "Számlázási címek": "7220 Sarkad, Kiss u. 32.",
                                    "ide számolt rendelések": "1"
                                },
                                {
                                    "Számlázási címek": "3300 Eger, Nagy u.14.",
                                    "ide számolt rendelések": "1"
                                },
                                {
                                    "Számlázási címek": "6131 Szank, Kiss u. 32.",
                                    "ide számolt rendelések": "1"
                                },
                                {
                                    "Számlázási címek": "3500 Miskolc, Kiss u. 32.",
                                    "ide számolt rendelések": "1"
                                },
                                {
                                    "Számlázási címek": "7511 Ötvöskónyi, Nagy u.14.",
                                    "ide számolt rendelések": "1"
                                },
                                {
                                    "Számlázási címek": "2053 Herceghalom, Kiss u. 32.",
                                    "ide számolt rendelések": "1"
                                },
                                {
                                    "Számlázási címek": "6131 Szank, Fő u. 2.",
                                    "ide számolt rendelések": "1"
                                },
                                {
                                    "Számlázási címek": "1067 Budapest, Kiss u. 32.",
                                    "ide számolt rendelések": "1"
                                },
                                {
                                    "Számlázási címek": "8640 Fonyód, Kiss u. 32.",
                                    "ide számolt rendelések": "1"
                                },
                                {
                                    "Számlázási címek": "9970 Szentgotthárd, Nagy u.14.",
                                    "ide számolt rendelések": "1"
                                },
                                {
                                    "Számlázási címek": "8237 Tihany, Fő u. 2.",
                                    "ide számolt rendelések": "1"
                                },
                                {
                                    "Számlázási címek": "6900 Makó, Kiss u. 32.",
                                    "ide számolt rendelések": "1"
                                },
                                {
                                    "Számlázási címek": "7000 Sárbogárd, Fő u. 2.",
                                    "ide számolt rendelések": "1"
                                },
                                {
                                    "Számlázási címek": "2800 Tatabánya, Fő u. 2.",
                                    "ide számolt rendelések": "1"
                                },
                                {
                                    "Számlázási címek": "6500 Baja, Fő u. 2.",
                                    "ide számolt rendelések": "1"
                                },
                                {
                                    "Számlázási címek": "8315 Gyenesdiás, Fő u. 2.",
                                    "ide számolt rendelések": "1"
                                },
                                {
                                    "Számlázási címek": "7000 Sárbogárd, Kiss u. 32.",
                                    "ide számolt rendelések": "1"
                                },
                                {
                                    "Számlázási címek": "8237 Tihany, Nagy u.14.",
                                    "ide számolt rendelések": "1"
                                },
                                {
                                    "Számlázási címek": "2131 Göd, Fő u. 2.",
                                    "ide számolt rendelések": "1"
                                },
                                {
                                    "Számlázási címek": "5083 Kengyel, Nagy u.14.",
                                    "ide számolt rendelések": "1"
                                },
                                {
                                    "Számlázási címek": "8640 Fonyód, Fő u. 2.",
                                    "ide számolt rendelések": "1"
                                },
                                {
                                    "Számlázási címek": "8220 Balatonalmádi, Kiss u. 32.",
                                    "ide számolt rendelések": "1"
                                },
                                {
                                    "Számlázási címek": "1155 Budapest, Nagy u.14.",
                                    "ide számolt rendelések": "1"
                                },
                                {
                                    "Számlázási címek": "3910 Tokaj, Kiss u. 32.",
                                    "ide számolt rendelések": "1"
                                },
                                {
                                    "Számlázási címek": "1084 Budapest, Nagy u.14.",
                                    "ide számolt rendelések": "1"
                                },
                                {
                                    "Számlázási címek": "1047 Budapest, Kiss u. 32.",
                                    "ide számolt rendelések": "1"
                                },
                                {
                                    "Számlázási címek": "8254 Kővágóörs, Kiss u. 32.",
                                    "ide számolt rendelések": "1"
                                },
                                {
                                    "Számlázási címek": "8391 Sármellék, Kiss u. 32.",
                                    "ide számolt rendelések": "1"
                                },
                                {
                                    "Számlázási címek": "5940 Tótkomlós, Fő u. 2.",
                                    "ide számolt rendelések": "1"
                                },
                                {
                                    "Számlázási címek": "8220 Balatonalmádi, Fő u. 2.",
                                    "ide számolt rendelések": "1"
                                },
                                {
                                    "Számlázási címek": "3980 Sátoraljaújhely, Fő u. 2.",
                                    "ide számolt rendelések": "1"
                                },
                                {
                                    "Számlázási címek": "9970 Szentgotthárd, Kiss u. 32.",
                                    "ide számolt rendelések": "1"
                                },
                                {
                                    "Számlázási címek": "5530 Vésztő, Nagy u.14.",
                                    "ide számolt rendelések": "1"
                                },
                                {
                                    "Számlázási címek": "5085 Rákóczifalva, Kiss u. 32.",
                                    "ide számolt rendelések": "1"
                                },
                                {
                                    "Számlázási címek": "3895 Gönc, Kiss u. 32.",
                                    "ide számolt rendelések": "1"
                                },
                                {
                                    "Számlázási címek": "5940 Tótkomlós, Kiss u. 32.",
                                    "ide számolt rendelések": "1"
                                },
                                {
                                    "Számlázási címek": "3860 Encs, Nagy u.14.",
                                    "ide számolt rendelések": "1"
                                },
                                {
                                    "Számlázási címek": "4800 Vásárosnamény, Fő u. 2.",
                                    "ide számolt rendelések": "1"
                                },
                                {
                                    "Számlázási címek": "8283 Káptalantóti, Fő u. 2.",
                                    "ide számolt rendelések": "1"
                                },
                                {
                                    "Számlázási címek": "2131 Göd, Kiss u. 32.",
                                    "ide számolt rendelések": "1"
                                }
                            ]
                        },
                        "text/html": [
                            "<table>",
                            "<tr><th>Számlázási címek</th><th>ide számolt rendelések</th></tr>",
                            "<tr><td>N/A</td><td>25535</td></tr>",
                            "<tr><td>9023 Győr, Fő u. 2.</td><td>61</td></tr>",
                            "<tr><td>5137 Jászkisér, Fő u. 2.</td><td>54</td></tr>",
                            "<tr><td>9023 Győr, Kiss u. 32.</td><td>41</td></tr>",
                            "<tr><td>5137 Jászkisér, Kiss u. 32.</td><td>40</td></tr>",
                            "<tr><td>5200 Törökszentmiklós, Fő u. 2.</td><td>39</td></tr>",
                            "<tr><td>5071 Besenyszög, Fő u. 2.</td><td>29</td></tr>",
                            "<tr><td>6786 Ruzsa, Fő u. 2.</td><td>28</td></tr>",
                            "<tr><td>2484 Agárd, Fő u. 2.</td><td>28</td></tr>",
                            "<tr><td>6646 Tömörkény, Fő u. 2.</td><td>27</td></tr>",
                            "<tr><td>6786 Ruzsa, Kiss u. 32.</td><td>27</td></tr>",
                            "<tr><td>7960 Sellye, Fő u. 2.</td><td>27</td></tr>",
                            "<tr><td>2100 Gödöllő, Fő u. 2.</td><td>27</td></tr>",
                            "<tr><td>9181 Kimle, Fő u. 2.</td><td>26</td></tr>",
                            "<tr><td>5200 Törökszentmiklós, Kiss u. 32.</td><td>25</td></tr>",
                            "<tr><td>5920 Csorvás, Fő u. 2.</td><td>25</td></tr>",
                            "<tr><td>5310 Kisújszállás, Fő u. 2.</td><td>23</td></tr>",
                            "<tr><td>7900 Szigetvár, Fő u. 2.</td><td>23</td></tr>",
                            "<tr><td>1102 Budapest, Fő u. 2.</td><td>23</td></tr>",
                            "<tr><td>6700 Szeged, Fő u. 2.</td><td>23</td></tr>",
                            "<tr><td>6760 Kistelek, Fő u. 2.</td><td>23</td></tr>",
                            "<tr><td>2100 Gödöllő, Kiss u. 32.</td><td>22</td></tr>",
                            "<tr><td>3580 Tiszaújváros, Fő u. 2.</td><td>22</td></tr>",
                            "<tr><td>5065 Nagykörű, Fő u. 2.</td><td>22</td></tr>",
                            "<tr><td>2300 Ráckeve, Fő u. 2.</td><td>22</td></tr>",
                            "<tr><td>6700 Szeged, Kiss u. 32.</td><td>22</td></tr>",
                            "<tr><td>8200 Veszprém, Fő u. 2.</td><td>22</td></tr>",
                            "<tr><td>5537 Zsadány, Fő u. 2.</td><td>22</td></tr>",
                            "<tr><td>4400 Nyíregyháza, Kiss u. 32.</td><td>21</td></tr>",
                            "<tr><td>7396 Magyarszék, Fő u. 2.</td><td>21</td></tr>",
                            "<tr><td>8313 Balatongyörök, Fő u. 2.</td><td>21</td></tr>",
                            "<tr><td>9653 Répcelak, Fő u. 2.</td><td>21</td></tr>",
                            "<tr><td>2424 Előszállás, Fő u. 2.</td><td>21</td></tr>",
                            "<tr><td>5137 Jászkisér, Nagy u.14.</td><td>20</td></tr>",
                            "<tr><td>3643 Dédestapolcsány, Kiss u. 32.</td><td>20</td></tr>",
                            "<tr><td>1192 Budapest, Kiss u. 32.</td><td>20</td></tr>",
                            "<tr><td>7086 Ozora, Kiss u. 32.</td><td>20</td></tr>",
                            "<tr><td>7149 Báta, Fő u. 2.</td><td>19</td></tr>",
                            "<tr><td>5630 Békés, Kiss u. 32.</td><td>19</td></tr>",
                            "<tr><td>1102 Budapest, Kiss u. 32.</td><td>19</td></tr>",
                            "<tr><td>4440 Tiszavasvári, Fő u. 2.</td><td>19</td></tr>",
                            "<tr><td>5310 Kisújszállás, Kiss u. 32.</td><td>19</td></tr>",
                            "<tr><td>8200 Veszprém, Kiss u. 32.</td><td>19</td></tr>",
                            "<tr><td>6913 Csanádpalota, Fő u. 2.</td><td>19</td></tr>",
                            "<tr><td>1173 Budapest, Fő u. 2.</td><td>19</td></tr>",
                            "<tr><td>2855 Bokod, Fő u. 2.</td><td>18</td></tr>",
                            "<tr><td>2462 Martonvásár, Fő u. 2.</td><td>18</td></tr>",
                            "<tr><td>5931 Nagyszénás, Fő u. 2.</td><td>18</td></tr>",
                            "<tr><td>2855 Bokod, Kiss u. 32.</td><td>18</td></tr>",
                            "<tr><td>3643 Dédestapolcsány, Fő u. 2.</td><td>18</td></tr>",
                            "<tr><td>1149 Budapest, Fő u. 2.</td><td>18</td></tr>",
                            "<tr><td>6430 Bácsalmás, Fő u. 2.</td><td>17</td></tr>",
                            "<tr><td>2730 Albertirsa, Fő u. 2.</td><td>17</td></tr>",
                            "<tr><td>1077 Budapest, Kiss u. 32.</td><td>17</td></tr>",
                            "<tr><td>2700 Cegléd, Fő u. 2.</td><td>17</td></tr>",
                            "<tr><td>1183 Budapest, Kiss u. 32.</td><td>17</td></tr>",
                            "<tr><td>2730 Albertirsa, Kiss u. 32.</td><td>17</td></tr>",
                            "<tr><td>6913 Csanádpalota, Kiss u. 32.</td><td>17</td></tr>",
                            "<tr><td>9155 Lébény, Kiss u. 32.</td><td>17</td></tr>",
                            "<tr><td>4400 Nyíregyháza, Fő u. 2.</td><td>17</td></tr>",
                            "<tr><td>7149 Báta, Kiss u. 32.</td><td>16</td></tr>",
                            "<tr><td>2000 Szentendre, Kiss u. 32.</td><td>16</td></tr>",
                            "<tr><td>4231 Bököny, Kiss u. 32.</td><td>16</td></tr>",
                            "<tr><td>8313 Balatongyörök, Kiss u. 32.</td><td>16</td></tr>",
                            "<tr><td>2484 Agárd, Kiss u. 32.</td><td>16</td></tr>",
                            "<tr><td>6050 Lajosmizse, Fő u. 2.</td><td>16</td></tr>",
                            "<tr><td>4060 Balmazújváros, Fő u. 2.</td><td>16</td></tr>",
                            "<tr><td>9181 Kimle, Kiss u. 32.</td><td>16</td></tr>",
                            "<tr><td>9653 Répcelak, Kiss u. 32.</td><td>16</td></tr>",
                            "<tr><td>1183 Budapest, Fő u. 2.</td><td>16</td></tr>",
                            "<tr><td>1149 Budapest, Kiss u. 32.</td><td>15</td></tr>",
                            "<tr><td>3973 Cigánd, Fő u. 2.</td><td>15</td></tr>",
                            "<tr><td>7396 Magyarszék, Kiss u. 32.</td><td>15</td></tr>",
                            "<tr><td>5920 Csorvás, Kiss u. 32.</td><td>15</td></tr>",
                            "<tr><td>4231 Bököny, Fő u. 2.</td><td>15</td></tr>",
                            "<tr><td>9155 Lébény, Fő u. 2.</td><td>15</td></tr>",
                            "<tr><td>2241 Sülysáp, Fő u. 2.</td><td>15</td></tr>",
                            "<tr><td>1077 Budapest, Fő u. 2.</td><td>15</td></tr>",
                            "<tr><td>7133 Fadd, Fő u. 2.</td><td>15</td></tr>",
                            "<tr><td>3973 Cigánd, Kiss u. 32.</td><td>15</td></tr>",
                            "<tr><td>4440 Tiszavasvári, Kiss u. 32.</td><td>15</td></tr>",
                            "<tr><td>7086 Ozora, Fő u. 2.</td><td>15</td></tr>",
                            "<tr><td>5071 Besenyszög, Kiss u. 32.</td><td>14</td></tr>",
                            "<tr><td>6050 Lajosmizse, Kiss u. 32.</td><td>14</td></tr>",
                            "<tr><td>7100 Szekszárd, Fő u. 2.</td><td>14</td></tr>",
                            "<tr><td>2241 Sülysáp, Kiss u. 32.</td><td>14</td></tr>",
                            "<tr><td>2700 Cegléd, Kiss u. 32.</td><td>14</td></tr>",
                            "<tr><td>4244 Újfehértó, Fő u. 2.</td><td>14</td></tr>",
                            "<tr><td>5630 Békés, Fő u. 2.</td><td>13</td></tr>",
                            "<tr><td>7133 Fadd, Kiss u. 32.</td><td>13</td></tr>",
                            "<tr><td>2462 Martonvásár, Kiss u. 32.</td><td>13</td></tr>",
                            "<tr><td>6080 Szabadszállás, Fő u. 2.</td><td>13</td></tr>",
                            "<tr><td>5931 Nagyszénás, Kiss u. 32.</td><td>13</td></tr>",
                            "<tr><td>2000 Szentendre, Fő u. 2.</td><td>13</td></tr>",
                            "<tr><td>6646 Tömörkény, Kiss u. 32.</td><td>13</td></tr>",
                            "<tr><td>2085 Pilisvörösvár, Fő u. 2.</td><td>13</td></tr>",
                            "<tr><td>7900 Szigetvár, Kiss u. 32.</td><td>13</td></tr>",
                            "<tr><td>2300 Ráckeve, Kiss u. 32.</td><td>13</td></tr>",
                            "<tr><td>2424 Előszállás, Kiss u. 32.</td><td>13</td></tr>",
                            "<tr><td>5061 Tiszasüly, Fő u. 2.</td><td>13</td></tr>",
                            "<tr><td>1173 Budapest, Kiss u. 32.</td><td>12</td></tr>",
                            "<tr><td>5537 Zsadány, Kiss u. 32.</td><td>12</td></tr>",
                            "<tr><td>6760 Kistelek, Kiss u. 32.</td><td>12</td></tr>",
                            "<tr><td>2085 Pilisvörösvár, Kiss u. 32.</td><td>12</td></tr>",
                            "<tr><td>7100 Szekszárd, Kiss u. 32.</td><td>12</td></tr>",
                            "<tr><td>6786 Ruzsa, Nagy u.14.</td><td>12</td></tr>",
                            "<tr><td>5061 Tiszasüly, Kiss u. 32.</td><td>12</td></tr>",
                            "<tr><td>5065 Nagykörű, Kiss u. 32.</td><td>12</td></tr>",
                            "<tr><td>6430 Bácsalmás, Kiss u. 32.</td><td>11</td></tr>",
                            "<tr><td>6080 Szabadszállás, Kiss u. 32.</td><td>11</td></tr>",
                            "<tr><td>4060 Balmazújváros, Kiss u. 32.</td><td>11</td></tr>",
                            "<tr><td>7960 Sellye, Kiss u. 32.</td><td>11</td></tr>",
                            "<tr><td>5200 Törökszentmiklós, Nagy u.14.</td><td>10</td></tr>",
                            "<tr><td>2462 Martonvásár, Nagy u.14.</td><td>9</td></tr>",
                            "<tr><td>7086 Ozora, Nagy u.14.</td><td>9</td></tr>",
                            "<tr><td>6646 Tömörkény, Nagy u.14.</td><td>9</td></tr>",
                            "<tr><td>6430 Bácsalmás, Nagy u.14.</td><td>9</td></tr>",
                            "<tr><td>6080 Szabadszállás, Nagy u.14.</td><td>8</td></tr>",
                            "<tr><td>1192 Budapest, Fő u. 2.</td><td>8</td></tr>",
                            "<tr><td>3580 Tiszaújváros, Kiss u. 32.</td><td>8</td></tr>",
                            "<tr><td>6050 Lajosmizse, Nagy u.14.</td><td>8</td></tr>",
                            "<tr><td>7100 Szekszárd, Nagy u.14.</td><td>8</td></tr>",
                            "<tr><td>4244 Újfehértó, Kiss u. 32.</td><td>8</td></tr>",
                            "<tr><td>9023 Győr, Nagy u.14.</td><td>8</td></tr>",
                            "<tr><td>1149 Budapest, Nagy u.14.</td><td>7</td></tr>",
                            "<tr><td>4060 Balmazújváros, Nagy u.14.</td><td>7</td></tr>",
                            "<tr><td>2730 Albertirsa, Nagy u.14.</td><td>7</td></tr>",
                            "<tr><td>7900 Szigetvár, Nagy u.14.</td><td>7</td></tr>",
                            "<tr><td>5630 Békés, Nagy u.14.</td><td>7</td></tr>",
                            "<tr><td>7396 Magyarszék, Nagy u.14.</td><td>7</td></tr>",
                            "<tr><td>6913 Csanádpalota, Nagy u.14.</td><td>7</td></tr>",
                            "<tr><td>5071 Besenyszög, Nagy u.14.</td><td>7</td></tr>",
                            "<tr><td>9155 Lébény, Nagy u.14.</td><td>7</td></tr>",
                            "<tr><td>4244 Újfehértó, Nagy u.14.</td><td>6</td></tr>",
                            "<tr><td>1077 Budapest, Nagy u.14.</td><td>6</td></tr>",
                            "<tr><td>5920 Csorvás, Nagy u.14.</td><td>6</td></tr>",
                            "<tr><td>4440 Tiszavasvári, Nagy u.14.</td><td>6</td></tr>",
                            "<tr><td>2085 Pilisvörösvár, Nagy u.14.</td><td>5</td></tr>",
                            "<tr><td>5931 Nagyszénás, Nagy u.14.</td><td>5</td></tr>",
                            "<tr><td>2700 Cegléd, Nagy u.14.</td><td>5</td></tr>",
                            "<tr><td>6700 Szeged, Nagy u.14.</td><td>5</td></tr>",
                            "<tr><td>1173 Budapest, Nagy u.14.</td><td>5</td></tr>",
                            "<tr><td>5537 Zsadány, Nagy u.14.</td><td>5</td></tr>",
                            "<tr><td>2855 Bokod, Nagy u.14.</td><td>5</td></tr>",
                            "<tr><td>3580 Tiszaújváros, Nagy u.14.</td><td>5</td></tr>",
                            "<tr><td>5065 Nagykörű, Nagy u.14.</td><td>5</td></tr>",
                            "<tr><td>7960 Sellye, Nagy u.14.</td><td>5</td></tr>",
                            "<tr><td>9181 Kimle, Nagy u.14.</td><td>5</td></tr>",
                            "<tr><td>4400 Nyíregyháza, Nagy u.14.</td><td>4</td></tr>",
                            "<tr><td>8254 Kővágóörs, Fő u. 2.</td><td>4</td></tr>",
                            "<tr><td>5310 Kisújszállás, Nagy u.14.</td><td>4</td></tr>",
                            "<tr><td>3643 Dédestapolcsány, Nagy u.14.</td><td>4</td></tr>",
                            "<tr><td>2100 Gödöllő, Nagy u.14.</td><td>4</td></tr>",
                            "<tr><td>1183 Budapest, Nagy u.14.</td><td>4</td></tr>",
                            "<tr><td>9653 Répcelak, Nagy u.14.</td><td>4</td></tr>",
                            "<tr><td>2000 Szentendre, Nagy u.14.</td><td>4</td></tr>",
                            "<tr><td>2241 Sülysáp, Nagy u.14.</td><td>4</td></tr>",
                            "<tr><td>7149 Báta, Nagy u.14.</td><td>4</td></tr>",
                            "<tr><td>2115 Vácszentlászló, Fő u. 2.</td><td>3</td></tr>",
                            "<tr><td>1011 Budapest, Kiss u. 32.</td><td>3</td></tr>",
                            "<tr><td>3973 Cigánd, Nagy u.14.</td><td>3</td></tr>",
                            "<tr><td>1192 Budapest, Nagy u.14.</td><td>3</td></tr>",
                            "<tr><td>2484 Agárd, Nagy u.14.</td><td>3</td></tr>",
                            "<tr><td>8313 Balatongyörök, Nagy u.14.</td><td>3</td></tr>",
                            "<tr><td>2424 Előszállás, Nagy u.14.</td><td>3</td></tr>",
                            "<tr><td>2117 Isaszeg, Fő u. 2.</td><td>3</td></tr>",
                            "<tr><td>1035 Budapest, Kiss u. 32.</td><td>3</td></tr>",
                            "<tr><td>4071 Egyek, Kiss u. 32.</td><td>3</td></tr>",
                            "<tr><td>4231 Bököny, Nagy u.14.</td><td>3</td></tr>",
                            "<tr><td>6760 Kistelek, Nagy u.14.</td><td>3</td></tr>",
                            "<tr><td>6412 Balotaszállás, Fő u. 2.</td><td>3</td></tr>",
                            "<tr><td>5061 Tiszasüly, Nagy u.14.</td><td>3</td></tr>",
                            "<tr><td>8391 Sármellék, Fő u. 2.</td><td>3</td></tr>",
                            "<tr><td>2300 Ráckeve, Nagy u.14.</td><td>3</td></tr>",
                            "<tr><td>8283 Káptalantóti, Kiss u. 32.</td><td>3</td></tr>",
                            "<tr><td>1072 Budapest, Fő u. 2.</td><td>2</td></tr>",
                            "<tr><td>7130 Tolna, Kiss u. 32.</td><td>2</td></tr>",
                            "<tr><td>1107 Budapest, Kiss u. 32.</td><td>2</td></tr>",
                            "<tr><td>7220 Sarkad, Fő u. 2.</td><td>2</td></tr>",
                            "<tr><td>5530 Vésztő, Fő u. 2.</td><td>2</td></tr>",
                            "<tr><td>4172 Biharnagybajom, Kiss u. 32.</td><td>2</td></tr>",
                            "<tr><td>3910 Tokaj, Fő u. 2.</td><td>2</td></tr>",
                            "<tr><td>2377 Örkény, Fő u. 2.</td><td>2</td></tr>",
                            "<tr><td>2370 Dabas, Fő u. 2.</td><td>2</td></tr>",
                            "<tr><td>8200 Veszprém, Nagy u.14.</td><td>2</td></tr>",
                            "<tr><td>4800 Vásárosnamény, Kiss u. 32.</td><td>2</td></tr>",
                            "<tr><td>1102 Budapest, Nagy u.14.</td><td>2</td></tr>",
                            "<tr><td>9071 Görbeháza, Fő u. 2.</td><td>2</td></tr>",
                            "<tr><td>7130 Tolna, Fő u. 2.</td><td>2</td></tr>",
                            "<tr><td>6060 Tiszakécske, Fő u. 2.</td><td>2</td></tr>",
                            "<tr><td>1067 Budapest, Fő u. 2.</td><td>2</td></tr>",
                            "<tr><td>2370 Dabas, Nagy u.14.</td><td>2</td></tr>",
                            "<tr><td>2532 Tokodaltáró, Kiss u. 32.</td><td>2</td></tr>",
                            "<tr><td>2330 Dunaharaszti, Fő u. 2.</td><td>2</td></tr>",
                            "<tr><td>2115 Vácszentlászló, Nagy u.14.</td><td>2</td></tr>",
                            "<tr><td>7150 Bonyhád, Fő u. 2.</td><td>2</td></tr>",
                            "<tr><td>2600 Vác, Kiss u. 32.</td><td>2</td></tr>",
                            "<tr><td>2115 Vácszentlászló, Kiss u. 32.</td><td>2</td></tr>",
                            "<tr><td>7133 Fadd, Nagy u.14.</td><td>2</td></tr>",
                            "<tr><td>1035 Budapest, Fő u. 2.</td><td>2</td></tr>",
                            "<tr><td>4600 Kisvárda, Fő u. 2.</td><td>1</td></tr>",
                            "<tr><td>4200 Hajdúszoboszló, Fő u. 2.</td><td>1</td></tr>",
                            "<tr><td>7349 Szászvár, Kiss u. 32.</td><td>1</td></tr>",
                            "<tr><td>8800 Nagykanizsa, Fő u. 2.</td><td>1</td></tr>",
                            "<tr><td>3630 Putnok, Fő u. 2.</td><td>1</td></tr>",
                            "<tr><td>2117 Isaszeg, Kiss u. 32.</td><td>1</td></tr>",
                            "<tr><td>4071 Egyek, Fő u. 2.</td><td>1</td></tr>",
                            "<tr><td>8638 Balatonlelle, Kiss u. 32.</td><td>1</td></tr>",
                            "<tr><td>7511 Ötvöskónyi, Kiss u. 32.</td><td>1</td></tr>",
                            "<tr><td>8800 Nagykanizsa, Kiss u. 32.</td><td>1</td></tr>",
                            "<tr><td>7349 Szászvár, Fő u. 2.</td><td>1</td></tr>",
                            "<tr><td>6762 Sándorfalva, Kiss u. 32.</td><td>1</td></tr>",
                            "<tr><td>1067 Budapest, Nagy u.14.</td><td>1</td></tr>",
                            "<tr><td>6762 Sándorfalva, Fő u. 2.</td><td>1</td></tr>",
                            "<tr><td>2370 Dabas, Kiss u. 32.</td><td>1</td></tr>",
                            "<tr><td>1124 Budapest, Kiss u. 32.</td><td>1</td></tr>",
                            "<tr><td>2330 Dunaharaszti, Kiss u. 32.</td><td>1</td></tr>",
                            "<tr><td>7150 Bonyhád, Kiss u. 32.</td><td>1</td></tr>",
                            "<tr><td>5465 Cserkeszőlő, Fő u. 2.</td><td>1</td></tr>",
                            "<tr><td>2800 Tatabánya, Nagy u.14.</td><td>1</td></tr>",
                            "<tr><td>2053 Herceghalom, Fő u. 2.</td><td>1</td></tr>",
                            "<tr><td>2381 Táborfalva, Kiss u. 32.</td><td>1</td></tr>",
                            "<tr><td>3783 Edelény, Fő u. 2.</td><td>1</td></tr>",
                            "<tr><td>4200 Hajdúszoboszló, Kiss u. 32.</td><td>1</td></tr>",
                            "<tr><td>1124 Budapest, Fő u. 2.</td><td>1</td></tr>",
                            "<tr><td>3895 Gönc, Fő u. 2.</td><td>1</td></tr>",
                            "<tr><td>6500 Baja, Kiss u. 32.</td><td>1</td></tr>",
                            "<tr><td>1047 Budapest, Nagy u.14.</td><td>1</td></tr>",
                            "<tr><td>1047 Budapest, Fő u. 2.</td><td>1</td></tr>",
                            "<tr><td>5940 Tótkomlós, Nagy u.14.</td><td>1</td></tr>",
                            "<tr><td>3630 Putnok, Kiss u. 32.</td><td>1</td></tr>",
                            "<tr><td>8237 Tihany, Kiss u. 32.</td><td>1</td></tr>",
                            "<tr><td>1035 Budapest, Nagy u.14.</td><td>1</td></tr>",
                            "<tr><td>8630 Balatonboglár, Fő u. 2.</td><td>1</td></tr>",
                            "<tr><td>7220 Sarkad, Kiss u. 32.</td><td>1</td></tr>",
                            "<tr><td>3300 Eger, Nagy u.14.</td><td>1</td></tr>",
                            "<tr><td>6131 Szank, Kiss u. 32.</td><td>1</td></tr>",
                            "<tr><td>3500 Miskolc, Kiss u. 32.</td><td>1</td></tr>",
                            "<tr><td>7511 Ötvöskónyi, Nagy u.14.</td><td>1</td></tr>",
                            "<tr><td>2053 Herceghalom, Kiss u. 32.</td><td>1</td></tr>",
                            "<tr><td>6131 Szank, Fő u. 2.</td><td>1</td></tr>",
                            "<tr><td>1067 Budapest, Kiss u. 32.</td><td>1</td></tr>",
                            "<tr><td>8640 Fonyód, Kiss u. 32.</td><td>1</td></tr>",
                            "<tr><td>9970 Szentgotthárd, Nagy u.14.</td><td>1</td></tr>",
                            "<tr><td>8237 Tihany, Fő u. 2.</td><td>1</td></tr>",
                            "<tr><td>6900 Makó, Kiss u. 32.</td><td>1</td></tr>",
                            "<tr><td>7000 Sárbogárd, Fő u. 2.</td><td>1</td></tr>",
                            "<tr><td>2800 Tatabánya, Fő u. 2.</td><td>1</td></tr>",
                            "<tr><td>6500 Baja, Fő u. 2.</td><td>1</td></tr>",
                            "<tr><td>8315 Gyenesdiás, Fő u. 2.</td><td>1</td></tr>",
                            "<tr><td>7000 Sárbogárd, Kiss u. 32.</td><td>1</td></tr>",
                            "<tr><td>8237 Tihany, Nagy u.14.</td><td>1</td></tr>",
                            "<tr><td>2131 Göd, Fő u. 2.</td><td>1</td></tr>",
                            "<tr><td>5083 Kengyel, Nagy u.14.</td><td>1</td></tr>",
                            "<tr><td>8640 Fonyód, Fő u. 2.</td><td>1</td></tr>",
                            "<tr><td>8220 Balatonalmádi, Kiss u. 32.</td><td>1</td></tr>",
                            "<tr><td>1155 Budapest, Nagy u.14.</td><td>1</td></tr>",
                            "<tr><td>3910 Tokaj, Kiss u. 32.</td><td>1</td></tr>",
                            "<tr><td>1084 Budapest, Nagy u.14.</td><td>1</td></tr>",
                            "<tr><td>1047 Budapest, Kiss u. 32.</td><td>1</td></tr>",
                            "<tr><td>8254 Kővágóörs, Kiss u. 32.</td><td>1</td></tr>",
                            "<tr><td>8391 Sármellék, Kiss u. 32.</td><td>1</td></tr>",
                            "<tr><td>5940 Tótkomlós, Fő u. 2.</td><td>1</td></tr>",
                            "<tr><td>8220 Balatonalmádi, Fő u. 2.</td><td>1</td></tr>",
                            "<tr><td>3980 Sátoraljaújhely, Fő u. 2.</td><td>1</td></tr>",
                            "<tr><td>9970 Szentgotthárd, Kiss u. 32.</td><td>1</td></tr>",
                            "<tr><td>5530 Vésztő, Nagy u.14.</td><td>1</td></tr>",
                            "<tr><td>5085 Rákóczifalva, Kiss u. 32.</td><td>1</td></tr>",
                            "<tr><td>3895 Gönc, Kiss u. 32.</td><td>1</td></tr>",
                            "<tr><td>5940 Tótkomlós, Kiss u. 32.</td><td>1</td></tr>",
                            "<tr><td>3860 Encs, Nagy u.14.</td><td>1</td></tr>",
                            "<tr><td>4800 Vásárosnamény, Fő u. 2.</td><td>1</td></tr>",
                            "<tr><td>8283 Káptalantóti, Fő u. 2.</td><td>1</td></tr>",
                            "<tr><td>2131 Göd, Kiss u. 32.</td><td>1</td></tr>",
                            "</table>"
                        ]
                    }
                }
            ],
            "execution_count": 34
        }
    ]
}