{
    "metadata": {
        "kernelspec": {
            "name": "SQL",
            "display_name": "SQL",
            "language": "sql"
        },
        "language_info": {
            "name": "sql",
            "version": ""
        }
    },
    "nbformat_minor": 2,
    "nbformat": 4,
    "cells": [
        {
            "cell_type": "markdown",
            "source": [
                "Jelenítsük meg minden egyes szoba esetén, hogy hányszor foglalták le!\n",
                "\n",
                "- Csak a szoba azonosítója és a foglalások darabszáma jelenjen meg\n",
                "- Azok a szobák is jelenjenek meg, ahol nem történt foglalás"
            ],
            "metadata": {
                "azdata_cell_guid": "0629736a-d803-449a-84b7-6a36875416e0"
            },
            "attachments": {}
        },
        {
            "cell_type": "code",
            "source": [
                "SELECT sz.SZOBA_ID, COUNT(f.FOGLALAS_PK)\r\n",
                "FROM szoba sz LEFT JOIN Foglalas f ON sz.SZOBA_ID = f.SZOBA_FK\r\n",
                "GROUP BY sz.SZOBA_ID"
            ],
            "metadata": {
                "azdata_cell_guid": "96478d06-7cf1-45a9-9225-8a95184f00cb",
                "language": "sql"
            },
            "outputs": [
                {
                    "output_type": "display_data",
                    "data": {
                        "text/html": "(294 rows affected)"
                    },
                    "metadata": {}
                },
                {
                    "output_type": "display_data",
                    "data": {
                        "text/html": "Total execution time: 00:00:00.014"
                    },
                    "metadata": {}
                },
                {
                    "output_type": "execute_result",
                    "metadata": {},
                    "execution_count": 5,
                    "data": {
                        "application/vnd.dataresource+json": {
                            "schema": {
                                "fields": [
                                    {
                                        "name": "SZOBA_ID"
                                    },
                                    {
                                        "name": "(No column name)"
                                    }
                                ]
                            },
                            "data": [
                                {
                                    "SZOBA_ID": "1",
                                    "(No column name)": "8"
                                },
                                {
                                    "SZOBA_ID": "2",
                                    "(No column name)": "4"
                                },
                                {
                                    "SZOBA_ID": "3",
                                    "(No column name)": "8"
                                },
                                {
                                    "SZOBA_ID": "4",
                                    "(No column name)": "6"
                                },
                                {
                                    "SZOBA_ID": "5",
                                    "(No column name)": "4"
                                },
                                {
                                    "SZOBA_ID": "6",
                                    "(No column name)": "6"
                                },
                                {
                                    "SZOBA_ID": "7",
                                    "(No column name)": "6"
                                },
                                {
                                    "SZOBA_ID": "8",
                                    "(No column name)": "5"
                                },
                                {
                                    "SZOBA_ID": "9",
                                    "(No column name)": "6"
                                },
                                {
                                    "SZOBA_ID": "10",
                                    "(No column name)": "4"
                                },
                                {
                                    "SZOBA_ID": "11",
                                    "(No column name)": "4"
                                },
                                {
                                    "SZOBA_ID": "12",
                                    "(No column name)": "9"
                                },
                                {
                                    "SZOBA_ID": "13",
                                    "(No column name)": "4"
                                },
                                {
                                    "SZOBA_ID": "14",
                                    "(No column name)": "3"
                                },
                                {
                                    "SZOBA_ID": "15",
                                    "(No column name)": "6"
                                },
                                {
                                    "SZOBA_ID": "16",
                                    "(No column name)": "5"
                                },
                                {
                                    "SZOBA_ID": "17",
                                    "(No column name)": "6"
                                },
                                {
                                    "SZOBA_ID": "18",
                                    "(No column name)": "6"
                                },
                                {
                                    "SZOBA_ID": "19",
                                    "(No column name)": "6"
                                },
                                {
                                    "SZOBA_ID": "20",
                                    "(No column name)": "5"
                                },
                                {
                                    "SZOBA_ID": "21",
                                    "(No column name)": "4"
                                },
                                {
                                    "SZOBA_ID": "22",
                                    "(No column name)": "6"
                                },
                                {
                                    "SZOBA_ID": "23",
                                    "(No column name)": "3"
                                },
                                {
                                    "SZOBA_ID": "24",
                                    "(No column name)": "3"
                                },
                                {
                                    "SZOBA_ID": "25",
                                    "(No column name)": "2"
                                },
                                {
                                    "SZOBA_ID": "26",
                                    "(No column name)": "2"
                                },
                                {
                                    "SZOBA_ID": "27",
                                    "(No column name)": "7"
                                },
                                {
                                    "SZOBA_ID": "28",
                                    "(No column name)": "6"
                                },
                                {
                                    "SZOBA_ID": "29",
                                    "(No column name)": "6"
                                },
                                {
                                    "SZOBA_ID": "30",
                                    "(No column name)": "3"
                                },
                                {
                                    "SZOBA_ID": "31",
                                    "(No column name)": "3"
                                },
                                {
                                    "SZOBA_ID": "32",
                                    "(No column name)": "1"
                                },
                                {
                                    "SZOBA_ID": "33",
                                    "(No column name)": "6"
                                },
                                {
                                    "SZOBA_ID": "34",
                                    "(No column name)": "4"
                                },
                                {
                                    "SZOBA_ID": "35",
                                    "(No column name)": "9"
                                },
                                {
                                    "SZOBA_ID": "36",
                                    "(No column name)": "6"
                                },
                                {
                                    "SZOBA_ID": "37",
                                    "(No column name)": "3"
                                },
                                {
                                    "SZOBA_ID": "38",
                                    "(No column name)": "8"
                                },
                                {
                                    "SZOBA_ID": "39",
                                    "(No column name)": "7"
                                },
                                {
                                    "SZOBA_ID": "40",
                                    "(No column name)": "4"
                                },
                                {
                                    "SZOBA_ID": "41",
                                    "(No column name)": "2"
                                },
                                {
                                    "SZOBA_ID": "42",
                                    "(No column name)": "6"
                                },
                                {
                                    "SZOBA_ID": "43",
                                    "(No column name)": "8"
                                },
                                {
                                    "SZOBA_ID": "44",
                                    "(No column name)": "6"
                                },
                                {
                                    "SZOBA_ID": "45",
                                    "(No column name)": "5"
                                },
                                {
                                    "SZOBA_ID": "46",
                                    "(No column name)": "4"
                                },
                                {
                                    "SZOBA_ID": "47",
                                    "(No column name)": "2"
                                },
                                {
                                    "SZOBA_ID": "48",
                                    "(No column name)": "9"
                                },
                                {
                                    "SZOBA_ID": "49",
                                    "(No column name)": "7"
                                },
                                {
                                    "SZOBA_ID": "50",
                                    "(No column name)": "4"
                                },
                                {
                                    "SZOBA_ID": "51",
                                    "(No column name)": "5"
                                },
                                {
                                    "SZOBA_ID": "52",
                                    "(No column name)": "5"
                                },
                                {
                                    "SZOBA_ID": "53",
                                    "(No column name)": "2"
                                },
                                {
                                    "SZOBA_ID": "54",
                                    "(No column name)": "6"
                                },
                                {
                                    "SZOBA_ID": "55",
                                    "(No column name)": "8"
                                },
                                {
                                    "SZOBA_ID": "56",
                                    "(No column name)": "2"
                                },
                                {
                                    "SZOBA_ID": "57",
                                    "(No column name)": "4"
                                },
                                {
                                    "SZOBA_ID": "58",
                                    "(No column name)": "13"
                                },
                                {
                                    "SZOBA_ID": "59",
                                    "(No column name)": "7"
                                },
                                {
                                    "SZOBA_ID": "60",
                                    "(No column name)": "1"
                                },
                                {
                                    "SZOBA_ID": "61",
                                    "(No column name)": "5"
                                },
                                {
                                    "SZOBA_ID": "62",
                                    "(No column name)": "5"
                                },
                                {
                                    "SZOBA_ID": "63",
                                    "(No column name)": "4"
                                },
                                {
                                    "SZOBA_ID": "64",
                                    "(No column name)": "6"
                                },
                                {
                                    "SZOBA_ID": "65",
                                    "(No column name)": "1"
                                },
                                {
                                    "SZOBA_ID": "66",
                                    "(No column name)": "4"
                                },
                                {
                                    "SZOBA_ID": "67",
                                    "(No column name)": "6"
                                },
                                {
                                    "SZOBA_ID": "68",
                                    "(No column name)": "3"
                                },
                                {
                                    "SZOBA_ID": "69",
                                    "(No column name)": "4"
                                },
                                {
                                    "SZOBA_ID": "70",
                                    "(No column name)": "11"
                                },
                                {
                                    "SZOBA_ID": "71",
                                    "(No column name)": "3"
                                },
                                {
                                    "SZOBA_ID": "72",
                                    "(No column name)": "4"
                                },
                                {
                                    "SZOBA_ID": "73",
                                    "(No column name)": "4"
                                },
                                {
                                    "SZOBA_ID": "74",
                                    "(No column name)": "9"
                                },
                                {
                                    "SZOBA_ID": "75",
                                    "(No column name)": "3"
                                },
                                {
                                    "SZOBA_ID": "76",
                                    "(No column name)": "3"
                                },
                                {
                                    "SZOBA_ID": "77",
                                    "(No column name)": "6"
                                },
                                {
                                    "SZOBA_ID": "78",
                                    "(No column name)": "6"
                                },
                                {
                                    "SZOBA_ID": "79",
                                    "(No column name)": "5"
                                },
                                {
                                    "SZOBA_ID": "80",
                                    "(No column name)": "7"
                                },
                                {
                                    "SZOBA_ID": "81",
                                    "(No column name)": "5"
                                },
                                {
                                    "SZOBA_ID": "82",
                                    "(No column name)": "6"
                                },
                                {
                                    "SZOBA_ID": "83",
                                    "(No column name)": "8"
                                },
                                {
                                    "SZOBA_ID": "84",
                                    "(No column name)": "4"
                                },
                                {
                                    "SZOBA_ID": "85",
                                    "(No column name)": "4"
                                },
                                {
                                    "SZOBA_ID": "86",
                                    "(No column name)": "5"
                                },
                                {
                                    "SZOBA_ID": "87",
                                    "(No column name)": "5"
                                },
                                {
                                    "SZOBA_ID": "88",
                                    "(No column name)": "8"
                                },
                                {
                                    "SZOBA_ID": "89",
                                    "(No column name)": "8"
                                },
                                {
                                    "SZOBA_ID": "90",
                                    "(No column name)": "4"
                                },
                                {
                                    "SZOBA_ID": "91",
                                    "(No column name)": "4"
                                },
                                {
                                    "SZOBA_ID": "92",
                                    "(No column name)": "6"
                                },
                                {
                                    "SZOBA_ID": "93",
                                    "(No column name)": "5"
                                },
                                {
                                    "SZOBA_ID": "94",
                                    "(No column name)": "10"
                                },
                                {
                                    "SZOBA_ID": "95",
                                    "(No column name)": "4"
                                },
                                {
                                    "SZOBA_ID": "96",
                                    "(No column name)": "7"
                                },
                                {
                                    "SZOBA_ID": "97",
                                    "(No column name)": "7"
                                },
                                {
                                    "SZOBA_ID": "98",
                                    "(No column name)": "4"
                                },
                                {
                                    "SZOBA_ID": "99",
                                    "(No column name)": "5"
                                },
                                {
                                    "SZOBA_ID": "100",
                                    "(No column name)": "4"
                                },
                                {
                                    "SZOBA_ID": "101",
                                    "(No column name)": "3"
                                },
                                {
                                    "SZOBA_ID": "102",
                                    "(No column name)": "2"
                                },
                                {
                                    "SZOBA_ID": "103",
                                    "(No column name)": "4"
                                },
                                {
                                    "SZOBA_ID": "104",
                                    "(No column name)": "4"
                                },
                                {
                                    "SZOBA_ID": "105",
                                    "(No column name)": "2"
                                },
                                {
                                    "SZOBA_ID": "106",
                                    "(No column name)": "6"
                                },
                                {
                                    "SZOBA_ID": "107",
                                    "(No column name)": "5"
                                },
                                {
                                    "SZOBA_ID": "108",
                                    "(No column name)": "2"
                                },
                                {
                                    "SZOBA_ID": "109",
                                    "(No column name)": "7"
                                },
                                {
                                    "SZOBA_ID": "110",
                                    "(No column name)": "8"
                                },
                                {
                                    "SZOBA_ID": "111",
                                    "(No column name)": "5"
                                },
                                {
                                    "SZOBA_ID": "112",
                                    "(No column name)": "5"
                                },
                                {
                                    "SZOBA_ID": "113",
                                    "(No column name)": "5"
                                },
                                {
                                    "SZOBA_ID": "114",
                                    "(No column name)": "4"
                                },
                                {
                                    "SZOBA_ID": "115",
                                    "(No column name)": "7"
                                },
                                {
                                    "SZOBA_ID": "116",
                                    "(No column name)": "2"
                                },
                                {
                                    "SZOBA_ID": "117",
                                    "(No column name)": "8"
                                },
                                {
                                    "SZOBA_ID": "118",
                                    "(No column name)": "7"
                                },
                                {
                                    "SZOBA_ID": "119",
                                    "(No column name)": "5"
                                },
                                {
                                    "SZOBA_ID": "120",
                                    "(No column name)": "6"
                                },
                                {
                                    "SZOBA_ID": "121",
                                    "(No column name)": "8"
                                },
                                {
                                    "SZOBA_ID": "122",
                                    "(No column name)": "9"
                                },
                                {
                                    "SZOBA_ID": "123",
                                    "(No column name)": "5"
                                },
                                {
                                    "SZOBA_ID": "124",
                                    "(No column name)": "6"
                                },
                                {
                                    "SZOBA_ID": "125",
                                    "(No column name)": "1"
                                },
                                {
                                    "SZOBA_ID": "126",
                                    "(No column name)": "6"
                                },
                                {
                                    "SZOBA_ID": "127",
                                    "(No column name)": "7"
                                },
                                {
                                    "SZOBA_ID": "128",
                                    "(No column name)": "5"
                                },
                                {
                                    "SZOBA_ID": "129",
                                    "(No column name)": "4"
                                },
                                {
                                    "SZOBA_ID": "130",
                                    "(No column name)": "6"
                                },
                                {
                                    "SZOBA_ID": "131",
                                    "(No column name)": "5"
                                },
                                {
                                    "SZOBA_ID": "132",
                                    "(No column name)": "6"
                                },
                                {
                                    "SZOBA_ID": "133",
                                    "(No column name)": "6"
                                },
                                {
                                    "SZOBA_ID": "134",
                                    "(No column name)": "6"
                                },
                                {
                                    "SZOBA_ID": "135",
                                    "(No column name)": "3"
                                },
                                {
                                    "SZOBA_ID": "136",
                                    "(No column name)": "3"
                                },
                                {
                                    "SZOBA_ID": "137",
                                    "(No column name)": "6"
                                },
                                {
                                    "SZOBA_ID": "138",
                                    "(No column name)": "7"
                                },
                                {
                                    "SZOBA_ID": "139",
                                    "(No column name)": "7"
                                },
                                {
                                    "SZOBA_ID": "140",
                                    "(No column name)": "8"
                                },
                                {
                                    "SZOBA_ID": "141",
                                    "(No column name)": "6"
                                },
                                {
                                    "SZOBA_ID": "142",
                                    "(No column name)": "2"
                                },
                                {
                                    "SZOBA_ID": "143",
                                    "(No column name)": "7"
                                },
                                {
                                    "SZOBA_ID": "144",
                                    "(No column name)": "5"
                                },
                                {
                                    "SZOBA_ID": "145",
                                    "(No column name)": "6"
                                },
                                {
                                    "SZOBA_ID": "146",
                                    "(No column name)": "6"
                                },
                                {
                                    "SZOBA_ID": "147",
                                    "(No column name)": "1"
                                },
                                {
                                    "SZOBA_ID": "148",
                                    "(No column name)": "6"
                                },
                                {
                                    "SZOBA_ID": "149",
                                    "(No column name)": "7"
                                },
                                {
                                    "SZOBA_ID": "150",
                                    "(No column name)": "6"
                                },
                                {
                                    "SZOBA_ID": "151",
                                    "(No column name)": "3"
                                },
                                {
                                    "SZOBA_ID": "152",
                                    "(No column name)": "4"
                                },
                                {
                                    "SZOBA_ID": "153",
                                    "(No column name)": "5"
                                },
                                {
                                    "SZOBA_ID": "154",
                                    "(No column name)": "5"
                                },
                                {
                                    "SZOBA_ID": "155",
                                    "(No column name)": "5"
                                },
                                {
                                    "SZOBA_ID": "156",
                                    "(No column name)": "7"
                                },
                                {
                                    "SZOBA_ID": "157",
                                    "(No column name)": "5"
                                },
                                {
                                    "SZOBA_ID": "158",
                                    "(No column name)": "3"
                                },
                                {
                                    "SZOBA_ID": "159",
                                    "(No column name)": "0"
                                },
                                {
                                    "SZOBA_ID": "160",
                                    "(No column name)": "5"
                                },
                                {
                                    "SZOBA_ID": "161",
                                    "(No column name)": "6"
                                },
                                {
                                    "SZOBA_ID": "162",
                                    "(No column name)": "3"
                                },
                                {
                                    "SZOBA_ID": "163",
                                    "(No column name)": "7"
                                },
                                {
                                    "SZOBA_ID": "164",
                                    "(No column name)": "5"
                                },
                                {
                                    "SZOBA_ID": "165",
                                    "(No column name)": "7"
                                },
                                {
                                    "SZOBA_ID": "166",
                                    "(No column name)": "3"
                                },
                                {
                                    "SZOBA_ID": "167",
                                    "(No column name)": "2"
                                },
                                {
                                    "SZOBA_ID": "168",
                                    "(No column name)": "5"
                                },
                                {
                                    "SZOBA_ID": "169",
                                    "(No column name)": "6"
                                },
                                {
                                    "SZOBA_ID": "170",
                                    "(No column name)": "5"
                                },
                                {
                                    "SZOBA_ID": "171",
                                    "(No column name)": "5"
                                },
                                {
                                    "SZOBA_ID": "172",
                                    "(No column name)": "9"
                                },
                                {
                                    "SZOBA_ID": "173",
                                    "(No column name)": "4"
                                },
                                {
                                    "SZOBA_ID": "174",
                                    "(No column name)": "4"
                                },
                                {
                                    "SZOBA_ID": "175",
                                    "(No column name)": "5"
                                },
                                {
                                    "SZOBA_ID": "176",
                                    "(No column name)": "6"
                                },
                                {
                                    "SZOBA_ID": "177",
                                    "(No column name)": "4"
                                },
                                {
                                    "SZOBA_ID": "178",
                                    "(No column name)": "4"
                                },
                                {
                                    "SZOBA_ID": "179",
                                    "(No column name)": "3"
                                },
                                {
                                    "SZOBA_ID": "180",
                                    "(No column name)": "3"
                                },
                                {
                                    "SZOBA_ID": "181",
                                    "(No column name)": "6"
                                },
                                {
                                    "SZOBA_ID": "182",
                                    "(No column name)": "12"
                                },
                                {
                                    "SZOBA_ID": "183",
                                    "(No column name)": "4"
                                },
                                {
                                    "SZOBA_ID": "184",
                                    "(No column name)": "4"
                                },
                                {
                                    "SZOBA_ID": "185",
                                    "(No column name)": "12"
                                },
                                {
                                    "SZOBA_ID": "186",
                                    "(No column name)": "4"
                                },
                                {
                                    "SZOBA_ID": "187",
                                    "(No column name)": "7"
                                },
                                {
                                    "SZOBA_ID": "188",
                                    "(No column name)": "6"
                                },
                                {
                                    "SZOBA_ID": "189",
                                    "(No column name)": "5"
                                },
                                {
                                    "SZOBA_ID": "190",
                                    "(No column name)": "5"
                                },
                                {
                                    "SZOBA_ID": "191",
                                    "(No column name)": "5"
                                },
                                {
                                    "SZOBA_ID": "192",
                                    "(No column name)": "2"
                                },
                                {
                                    "SZOBA_ID": "193",
                                    "(No column name)": "7"
                                },
                                {
                                    "SZOBA_ID": "194",
                                    "(No column name)": "1"
                                },
                                {
                                    "SZOBA_ID": "195",
                                    "(No column name)": "6"
                                },
                                {
                                    "SZOBA_ID": "196",
                                    "(No column name)": "4"
                                },
                                {
                                    "SZOBA_ID": "197",
                                    "(No column name)": "6"
                                },
                                {
                                    "SZOBA_ID": "198",
                                    "(No column name)": "8"
                                },
                                {
                                    "SZOBA_ID": "199",
                                    "(No column name)": "0"
                                },
                                {
                                    "SZOBA_ID": "200",
                                    "(No column name)": "0"
                                },
                                {
                                    "SZOBA_ID": "201",
                                    "(No column name)": "0"
                                },
                                {
                                    "SZOBA_ID": "202",
                                    "(No column name)": "0"
                                },
                                {
                                    "SZOBA_ID": "203",
                                    "(No column name)": "0"
                                },
                                {
                                    "SZOBA_ID": "204",
                                    "(No column name)": "0"
                                },
                                {
                                    "SZOBA_ID": "205",
                                    "(No column name)": "0"
                                },
                                {
                                    "SZOBA_ID": "206",
                                    "(No column name)": "0"
                                },
                                {
                                    "SZOBA_ID": "207",
                                    "(No column name)": "0"
                                },
                                {
                                    "SZOBA_ID": "208",
                                    "(No column name)": "0"
                                },
                                {
                                    "SZOBA_ID": "209",
                                    "(No column name)": "0"
                                },
                                {
                                    "SZOBA_ID": "210",
                                    "(No column name)": "0"
                                },
                                {
                                    "SZOBA_ID": "211",
                                    "(No column name)": "0"
                                },
                                {
                                    "SZOBA_ID": "212",
                                    "(No column name)": "0"
                                },
                                {
                                    "SZOBA_ID": "213",
                                    "(No column name)": "0"
                                },
                                {
                                    "SZOBA_ID": "214",
                                    "(No column name)": "0"
                                },
                                {
                                    "SZOBA_ID": "215",
                                    "(No column name)": "0"
                                },
                                {
                                    "SZOBA_ID": "216",
                                    "(No column name)": "0"
                                },
                                {
                                    "SZOBA_ID": "217",
                                    "(No column name)": "0"
                                },
                                {
                                    "SZOBA_ID": "218",
                                    "(No column name)": "0"
                                },
                                {
                                    "SZOBA_ID": "219",
                                    "(No column name)": "0"
                                },
                                {
                                    "SZOBA_ID": "220",
                                    "(No column name)": "0"
                                },
                                {
                                    "SZOBA_ID": "221",
                                    "(No column name)": "0"
                                },
                                {
                                    "SZOBA_ID": "222",
                                    "(No column name)": "0"
                                },
                                {
                                    "SZOBA_ID": "223",
                                    "(No column name)": "0"
                                },
                                {
                                    "SZOBA_ID": "224",
                                    "(No column name)": "0"
                                },
                                {
                                    "SZOBA_ID": "225",
                                    "(No column name)": "0"
                                },
                                {
                                    "SZOBA_ID": "226",
                                    "(No column name)": "0"
                                },
                                {
                                    "SZOBA_ID": "227",
                                    "(No column name)": "0"
                                },
                                {
                                    "SZOBA_ID": "228",
                                    "(No column name)": "0"
                                },
                                {
                                    "SZOBA_ID": "229",
                                    "(No column name)": "0"
                                },
                                {
                                    "SZOBA_ID": "230",
                                    "(No column name)": "0"
                                },
                                {
                                    "SZOBA_ID": "231",
                                    "(No column name)": "0"
                                },
                                {
                                    "SZOBA_ID": "232",
                                    "(No column name)": "0"
                                },
                                {
                                    "SZOBA_ID": "233",
                                    "(No column name)": "0"
                                },
                                {
                                    "SZOBA_ID": "234",
                                    "(No column name)": "0"
                                },
                                {
                                    "SZOBA_ID": "235",
                                    "(No column name)": "0"
                                },
                                {
                                    "SZOBA_ID": "236",
                                    "(No column name)": "0"
                                },
                                {
                                    "SZOBA_ID": "237",
                                    "(No column name)": "0"
                                },
                                {
                                    "SZOBA_ID": "238",
                                    "(No column name)": "0"
                                },
                                {
                                    "SZOBA_ID": "239",
                                    "(No column name)": "0"
                                },
                                {
                                    "SZOBA_ID": "240",
                                    "(No column name)": "0"
                                },
                                {
                                    "SZOBA_ID": "241",
                                    "(No column name)": "0"
                                },
                                {
                                    "SZOBA_ID": "242",
                                    "(No column name)": "0"
                                },
                                {
                                    "SZOBA_ID": "243",
                                    "(No column name)": "0"
                                },
                                {
                                    "SZOBA_ID": "244",
                                    "(No column name)": "0"
                                },
                                {
                                    "SZOBA_ID": "245",
                                    "(No column name)": "0"
                                },
                                {
                                    "SZOBA_ID": "246",
                                    "(No column name)": "0"
                                },
                                {
                                    "SZOBA_ID": "247",
                                    "(No column name)": "0"
                                },
                                {
                                    "SZOBA_ID": "248",
                                    "(No column name)": "0"
                                },
                                {
                                    "SZOBA_ID": "249",
                                    "(No column name)": "0"
                                },
                                {
                                    "SZOBA_ID": "250",
                                    "(No column name)": "0"
                                },
                                {
                                    "SZOBA_ID": "251",
                                    "(No column name)": "0"
                                },
                                {
                                    "SZOBA_ID": "252",
                                    "(No column name)": "0"
                                },
                                {
                                    "SZOBA_ID": "253",
                                    "(No column name)": "0"
                                },
                                {
                                    "SZOBA_ID": "254",
                                    "(No column name)": "0"
                                },
                                {
                                    "SZOBA_ID": "255",
                                    "(No column name)": "0"
                                },
                                {
                                    "SZOBA_ID": "256",
                                    "(No column name)": "0"
                                },
                                {
                                    "SZOBA_ID": "257",
                                    "(No column name)": "0"
                                },
                                {
                                    "SZOBA_ID": "258",
                                    "(No column name)": "0"
                                },
                                {
                                    "SZOBA_ID": "259",
                                    "(No column name)": "0"
                                },
                                {
                                    "SZOBA_ID": "260",
                                    "(No column name)": "0"
                                },
                                {
                                    "SZOBA_ID": "261",
                                    "(No column name)": "0"
                                },
                                {
                                    "SZOBA_ID": "262",
                                    "(No column name)": "0"
                                },
                                {
                                    "SZOBA_ID": "263",
                                    "(No column name)": "0"
                                },
                                {
                                    "SZOBA_ID": "264",
                                    "(No column name)": "0"
                                },
                                {
                                    "SZOBA_ID": "265",
                                    "(No column name)": "0"
                                },
                                {
                                    "SZOBA_ID": "266",
                                    "(No column name)": "0"
                                },
                                {
                                    "SZOBA_ID": "267",
                                    "(No column name)": "0"
                                },
                                {
                                    "SZOBA_ID": "268",
                                    "(No column name)": "0"
                                },
                                {
                                    "SZOBA_ID": "269",
                                    "(No column name)": "0"
                                },
                                {
                                    "SZOBA_ID": "270",
                                    "(No column name)": "0"
                                },
                                {
                                    "SZOBA_ID": "271",
                                    "(No column name)": "0"
                                },
                                {
                                    "SZOBA_ID": "272",
                                    "(No column name)": "0"
                                },
                                {
                                    "SZOBA_ID": "273",
                                    "(No column name)": "0"
                                },
                                {
                                    "SZOBA_ID": "274",
                                    "(No column name)": "0"
                                },
                                {
                                    "SZOBA_ID": "275",
                                    "(No column name)": "0"
                                },
                                {
                                    "SZOBA_ID": "276",
                                    "(No column name)": "0"
                                },
                                {
                                    "SZOBA_ID": "277",
                                    "(No column name)": "0"
                                },
                                {
                                    "SZOBA_ID": "278",
                                    "(No column name)": "0"
                                },
                                {
                                    "SZOBA_ID": "279",
                                    "(No column name)": "0"
                                },
                                {
                                    "SZOBA_ID": "280",
                                    "(No column name)": "0"
                                },
                                {
                                    "SZOBA_ID": "281",
                                    "(No column name)": "0"
                                },
                                {
                                    "SZOBA_ID": "282",
                                    "(No column name)": "0"
                                },
                                {
                                    "SZOBA_ID": "283",
                                    "(No column name)": "0"
                                },
                                {
                                    "SZOBA_ID": "284",
                                    "(No column name)": "0"
                                },
                                {
                                    "SZOBA_ID": "285",
                                    "(No column name)": "0"
                                },
                                {
                                    "SZOBA_ID": "286",
                                    "(No column name)": "0"
                                },
                                {
                                    "SZOBA_ID": "287",
                                    "(No column name)": "0"
                                },
                                {
                                    "SZOBA_ID": "288",
                                    "(No column name)": "0"
                                },
                                {
                                    "SZOBA_ID": "289",
                                    "(No column name)": "0"
                                },
                                {
                                    "SZOBA_ID": "290",
                                    "(No column name)": "0"
                                },
                                {
                                    "SZOBA_ID": "291",
                                    "(No column name)": "0"
                                },
                                {
                                    "SZOBA_ID": "292",
                                    "(No column name)": "0"
                                },
                                {
                                    "SZOBA_ID": "293",
                                    "(No column name)": "0"
                                },
                                {
                                    "SZOBA_ID": "294",
                                    "(No column name)": "0"
                                }
                            ]
                        },
                        "text/html": [
                            "<table>",
                            "<tr><th>SZOBA_ID</th><th>(No column name)</th></tr>",
                            "<tr><td>1</td><td>8</td></tr>",
                            "<tr><td>2</td><td>4</td></tr>",
                            "<tr><td>3</td><td>8</td></tr>",
                            "<tr><td>4</td><td>6</td></tr>",
                            "<tr><td>5</td><td>4</td></tr>",
                            "<tr><td>6</td><td>6</td></tr>",
                            "<tr><td>7</td><td>6</td></tr>",
                            "<tr><td>8</td><td>5</td></tr>",
                            "<tr><td>9</td><td>6</td></tr>",
                            "<tr><td>10</td><td>4</td></tr>",
                            "<tr><td>11</td><td>4</td></tr>",
                            "<tr><td>12</td><td>9</td></tr>",
                            "<tr><td>13</td><td>4</td></tr>",
                            "<tr><td>14</td><td>3</td></tr>",
                            "<tr><td>15</td><td>6</td></tr>",
                            "<tr><td>16</td><td>5</td></tr>",
                            "<tr><td>17</td><td>6</td></tr>",
                            "<tr><td>18</td><td>6</td></tr>",
                            "<tr><td>19</td><td>6</td></tr>",
                            "<tr><td>20</td><td>5</td></tr>",
                            "<tr><td>21</td><td>4</td></tr>",
                            "<tr><td>22</td><td>6</td></tr>",
                            "<tr><td>23</td><td>3</td></tr>",
                            "<tr><td>24</td><td>3</td></tr>",
                            "<tr><td>25</td><td>2</td></tr>",
                            "<tr><td>26</td><td>2</td></tr>",
                            "<tr><td>27</td><td>7</td></tr>",
                            "<tr><td>28</td><td>6</td></tr>",
                            "<tr><td>29</td><td>6</td></tr>",
                            "<tr><td>30</td><td>3</td></tr>",
                            "<tr><td>31</td><td>3</td></tr>",
                            "<tr><td>32</td><td>1</td></tr>",
                            "<tr><td>33</td><td>6</td></tr>",
                            "<tr><td>34</td><td>4</td></tr>",
                            "<tr><td>35</td><td>9</td></tr>",
                            "<tr><td>36</td><td>6</td></tr>",
                            "<tr><td>37</td><td>3</td></tr>",
                            "<tr><td>38</td><td>8</td></tr>",
                            "<tr><td>39</td><td>7</td></tr>",
                            "<tr><td>40</td><td>4</td></tr>",
                            "<tr><td>41</td><td>2</td></tr>",
                            "<tr><td>42</td><td>6</td></tr>",
                            "<tr><td>43</td><td>8</td></tr>",
                            "<tr><td>44</td><td>6</td></tr>",
                            "<tr><td>45</td><td>5</td></tr>",
                            "<tr><td>46</td><td>4</td></tr>",
                            "<tr><td>47</td><td>2</td></tr>",
                            "<tr><td>48</td><td>9</td></tr>",
                            "<tr><td>49</td><td>7</td></tr>",
                            "<tr><td>50</td><td>4</td></tr>",
                            "<tr><td>51</td><td>5</td></tr>",
                            "<tr><td>52</td><td>5</td></tr>",
                            "<tr><td>53</td><td>2</td></tr>",
                            "<tr><td>54</td><td>6</td></tr>",
                            "<tr><td>55</td><td>8</td></tr>",
                            "<tr><td>56</td><td>2</td></tr>",
                            "<tr><td>57</td><td>4</td></tr>",
                            "<tr><td>58</td><td>13</td></tr>",
                            "<tr><td>59</td><td>7</td></tr>",
                            "<tr><td>60</td><td>1</td></tr>",
                            "<tr><td>61</td><td>5</td></tr>",
                            "<tr><td>62</td><td>5</td></tr>",
                            "<tr><td>63</td><td>4</td></tr>",
                            "<tr><td>64</td><td>6</td></tr>",
                            "<tr><td>65</td><td>1</td></tr>",
                            "<tr><td>66</td><td>4</td></tr>",
                            "<tr><td>67</td><td>6</td></tr>",
                            "<tr><td>68</td><td>3</td></tr>",
                            "<tr><td>69</td><td>4</td></tr>",
                            "<tr><td>70</td><td>11</td></tr>",
                            "<tr><td>71</td><td>3</td></tr>",
                            "<tr><td>72</td><td>4</td></tr>",
                            "<tr><td>73</td><td>4</td></tr>",
                            "<tr><td>74</td><td>9</td></tr>",
                            "<tr><td>75</td><td>3</td></tr>",
                            "<tr><td>76</td><td>3</td></tr>",
                            "<tr><td>77</td><td>6</td></tr>",
                            "<tr><td>78</td><td>6</td></tr>",
                            "<tr><td>79</td><td>5</td></tr>",
                            "<tr><td>80</td><td>7</td></tr>",
                            "<tr><td>81</td><td>5</td></tr>",
                            "<tr><td>82</td><td>6</td></tr>",
                            "<tr><td>83</td><td>8</td></tr>",
                            "<tr><td>84</td><td>4</td></tr>",
                            "<tr><td>85</td><td>4</td></tr>",
                            "<tr><td>86</td><td>5</td></tr>",
                            "<tr><td>87</td><td>5</td></tr>",
                            "<tr><td>88</td><td>8</td></tr>",
                            "<tr><td>89</td><td>8</td></tr>",
                            "<tr><td>90</td><td>4</td></tr>",
                            "<tr><td>91</td><td>4</td></tr>",
                            "<tr><td>92</td><td>6</td></tr>",
                            "<tr><td>93</td><td>5</td></tr>",
                            "<tr><td>94</td><td>10</td></tr>",
                            "<tr><td>95</td><td>4</td></tr>",
                            "<tr><td>96</td><td>7</td></tr>",
                            "<tr><td>97</td><td>7</td></tr>",
                            "<tr><td>98</td><td>4</td></tr>",
                            "<tr><td>99</td><td>5</td></tr>",
                            "<tr><td>100</td><td>4</td></tr>",
                            "<tr><td>101</td><td>3</td></tr>",
                            "<tr><td>102</td><td>2</td></tr>",
                            "<tr><td>103</td><td>4</td></tr>",
                            "<tr><td>104</td><td>4</td></tr>",
                            "<tr><td>105</td><td>2</td></tr>",
                            "<tr><td>106</td><td>6</td></tr>",
                            "<tr><td>107</td><td>5</td></tr>",
                            "<tr><td>108</td><td>2</td></tr>",
                            "<tr><td>109</td><td>7</td></tr>",
                            "<tr><td>110</td><td>8</td></tr>",
                            "<tr><td>111</td><td>5</td></tr>",
                            "<tr><td>112</td><td>5</td></tr>",
                            "<tr><td>113</td><td>5</td></tr>",
                            "<tr><td>114</td><td>4</td></tr>",
                            "<tr><td>115</td><td>7</td></tr>",
                            "<tr><td>116</td><td>2</td></tr>",
                            "<tr><td>117</td><td>8</td></tr>",
                            "<tr><td>118</td><td>7</td></tr>",
                            "<tr><td>119</td><td>5</td></tr>",
                            "<tr><td>120</td><td>6</td></tr>",
                            "<tr><td>121</td><td>8</td></tr>",
                            "<tr><td>122</td><td>9</td></tr>",
                            "<tr><td>123</td><td>5</td></tr>",
                            "<tr><td>124</td><td>6</td></tr>",
                            "<tr><td>125</td><td>1</td></tr>",
                            "<tr><td>126</td><td>6</td></tr>",
                            "<tr><td>127</td><td>7</td></tr>",
                            "<tr><td>128</td><td>5</td></tr>",
                            "<tr><td>129</td><td>4</td></tr>",
                            "<tr><td>130</td><td>6</td></tr>",
                            "<tr><td>131</td><td>5</td></tr>",
                            "<tr><td>132</td><td>6</td></tr>",
                            "<tr><td>133</td><td>6</td></tr>",
                            "<tr><td>134</td><td>6</td></tr>",
                            "<tr><td>135</td><td>3</td></tr>",
                            "<tr><td>136</td><td>3</td></tr>",
                            "<tr><td>137</td><td>6</td></tr>",
                            "<tr><td>138</td><td>7</td></tr>",
                            "<tr><td>139</td><td>7</td></tr>",
                            "<tr><td>140</td><td>8</td></tr>",
                            "<tr><td>141</td><td>6</td></tr>",
                            "<tr><td>142</td><td>2</td></tr>",
                            "<tr><td>143</td><td>7</td></tr>",
                            "<tr><td>144</td><td>5</td></tr>",
                            "<tr><td>145</td><td>6</td></tr>",
                            "<tr><td>146</td><td>6</td></tr>",
                            "<tr><td>147</td><td>1</td></tr>",
                            "<tr><td>148</td><td>6</td></tr>",
                            "<tr><td>149</td><td>7</td></tr>",
                            "<tr><td>150</td><td>6</td></tr>",
                            "<tr><td>151</td><td>3</td></tr>",
                            "<tr><td>152</td><td>4</td></tr>",
                            "<tr><td>153</td><td>5</td></tr>",
                            "<tr><td>154</td><td>5</td></tr>",
                            "<tr><td>155</td><td>5</td></tr>",
                            "<tr><td>156</td><td>7</td></tr>",
                            "<tr><td>157</td><td>5</td></tr>",
                            "<tr><td>158</td><td>3</td></tr>",
                            "<tr><td>159</td><td>0</td></tr>",
                            "<tr><td>160</td><td>5</td></tr>",
                            "<tr><td>161</td><td>6</td></tr>",
                            "<tr><td>162</td><td>3</td></tr>",
                            "<tr><td>163</td><td>7</td></tr>",
                            "<tr><td>164</td><td>5</td></tr>",
                            "<tr><td>165</td><td>7</td></tr>",
                            "<tr><td>166</td><td>3</td></tr>",
                            "<tr><td>167</td><td>2</td></tr>",
                            "<tr><td>168</td><td>5</td></tr>",
                            "<tr><td>169</td><td>6</td></tr>",
                            "<tr><td>170</td><td>5</td></tr>",
                            "<tr><td>171</td><td>5</td></tr>",
                            "<tr><td>172</td><td>9</td></tr>",
                            "<tr><td>173</td><td>4</td></tr>",
                            "<tr><td>174</td><td>4</td></tr>",
                            "<tr><td>175</td><td>5</td></tr>",
                            "<tr><td>176</td><td>6</td></tr>",
                            "<tr><td>177</td><td>4</td></tr>",
                            "<tr><td>178</td><td>4</td></tr>",
                            "<tr><td>179</td><td>3</td></tr>",
                            "<tr><td>180</td><td>3</td></tr>",
                            "<tr><td>181</td><td>6</td></tr>",
                            "<tr><td>182</td><td>12</td></tr>",
                            "<tr><td>183</td><td>4</td></tr>",
                            "<tr><td>184</td><td>4</td></tr>",
                            "<tr><td>185</td><td>12</td></tr>",
                            "<tr><td>186</td><td>4</td></tr>",
                            "<tr><td>187</td><td>7</td></tr>",
                            "<tr><td>188</td><td>6</td></tr>",
                            "<tr><td>189</td><td>5</td></tr>",
                            "<tr><td>190</td><td>5</td></tr>",
                            "<tr><td>191</td><td>5</td></tr>",
                            "<tr><td>192</td><td>2</td></tr>",
                            "<tr><td>193</td><td>7</td></tr>",
                            "<tr><td>194</td><td>1</td></tr>",
                            "<tr><td>195</td><td>6</td></tr>",
                            "<tr><td>196</td><td>4</td></tr>",
                            "<tr><td>197</td><td>6</td></tr>",
                            "<tr><td>198</td><td>8</td></tr>",
                            "<tr><td>199</td><td>0</td></tr>",
                            "<tr><td>200</td><td>0</td></tr>",
                            "<tr><td>201</td><td>0</td></tr>",
                            "<tr><td>202</td><td>0</td></tr>",
                            "<tr><td>203</td><td>0</td></tr>",
                            "<tr><td>204</td><td>0</td></tr>",
                            "<tr><td>205</td><td>0</td></tr>",
                            "<tr><td>206</td><td>0</td></tr>",
                            "<tr><td>207</td><td>0</td></tr>",
                            "<tr><td>208</td><td>0</td></tr>",
                            "<tr><td>209</td><td>0</td></tr>",
                            "<tr><td>210</td><td>0</td></tr>",
                            "<tr><td>211</td><td>0</td></tr>",
                            "<tr><td>212</td><td>0</td></tr>",
                            "<tr><td>213</td><td>0</td></tr>",
                            "<tr><td>214</td><td>0</td></tr>",
                            "<tr><td>215</td><td>0</td></tr>",
                            "<tr><td>216</td><td>0</td></tr>",
                            "<tr><td>217</td><td>0</td></tr>",
                            "<tr><td>218</td><td>0</td></tr>",
                            "<tr><td>219</td><td>0</td></tr>",
                            "<tr><td>220</td><td>0</td></tr>",
                            "<tr><td>221</td><td>0</td></tr>",
                            "<tr><td>222</td><td>0</td></tr>",
                            "<tr><td>223</td><td>0</td></tr>",
                            "<tr><td>224</td><td>0</td></tr>",
                            "<tr><td>225</td><td>0</td></tr>",
                            "<tr><td>226</td><td>0</td></tr>",
                            "<tr><td>227</td><td>0</td></tr>",
                            "<tr><td>228</td><td>0</td></tr>",
                            "<tr><td>229</td><td>0</td></tr>",
                            "<tr><td>230</td><td>0</td></tr>",
                            "<tr><td>231</td><td>0</td></tr>",
                            "<tr><td>232</td><td>0</td></tr>",
                            "<tr><td>233</td><td>0</td></tr>",
                            "<tr><td>234</td><td>0</td></tr>",
                            "<tr><td>235</td><td>0</td></tr>",
                            "<tr><td>236</td><td>0</td></tr>",
                            "<tr><td>237</td><td>0</td></tr>",
                            "<tr><td>238</td><td>0</td></tr>",
                            "<tr><td>239</td><td>0</td></tr>",
                            "<tr><td>240</td><td>0</td></tr>",
                            "<tr><td>241</td><td>0</td></tr>",
                            "<tr><td>242</td><td>0</td></tr>",
                            "<tr><td>243</td><td>0</td></tr>",
                            "<tr><td>244</td><td>0</td></tr>",
                            "<tr><td>245</td><td>0</td></tr>",
                            "<tr><td>246</td><td>0</td></tr>",
                            "<tr><td>247</td><td>0</td></tr>",
                            "<tr><td>248</td><td>0</td></tr>",
                            "<tr><td>249</td><td>0</td></tr>",
                            "<tr><td>250</td><td>0</td></tr>",
                            "<tr><td>251</td><td>0</td></tr>",
                            "<tr><td>252</td><td>0</td></tr>",
                            "<tr><td>253</td><td>0</td></tr>",
                            "<tr><td>254</td><td>0</td></tr>",
                            "<tr><td>255</td><td>0</td></tr>",
                            "<tr><td>256</td><td>0</td></tr>",
                            "<tr><td>257</td><td>0</td></tr>",
                            "<tr><td>258</td><td>0</td></tr>",
                            "<tr><td>259</td><td>0</td></tr>",
                            "<tr><td>260</td><td>0</td></tr>",
                            "<tr><td>261</td><td>0</td></tr>",
                            "<tr><td>262</td><td>0</td></tr>",
                            "<tr><td>263</td><td>0</td></tr>",
                            "<tr><td>264</td><td>0</td></tr>",
                            "<tr><td>265</td><td>0</td></tr>",
                            "<tr><td>266</td><td>0</td></tr>",
                            "<tr><td>267</td><td>0</td></tr>",
                            "<tr><td>268</td><td>0</td></tr>",
                            "<tr><td>269</td><td>0</td></tr>",
                            "<tr><td>270</td><td>0</td></tr>",
                            "<tr><td>271</td><td>0</td></tr>",
                            "<tr><td>272</td><td>0</td></tr>",
                            "<tr><td>273</td><td>0</td></tr>",
                            "<tr><td>274</td><td>0</td></tr>",
                            "<tr><td>275</td><td>0</td></tr>",
                            "<tr><td>276</td><td>0</td></tr>",
                            "<tr><td>277</td><td>0</td></tr>",
                            "<tr><td>278</td><td>0</td></tr>",
                            "<tr><td>279</td><td>0</td></tr>",
                            "<tr><td>280</td><td>0</td></tr>",
                            "<tr><td>281</td><td>0</td></tr>",
                            "<tr><td>282</td><td>0</td></tr>",
                            "<tr><td>283</td><td>0</td></tr>",
                            "<tr><td>284</td><td>0</td></tr>",
                            "<tr><td>285</td><td>0</td></tr>",
                            "<tr><td>286</td><td>0</td></tr>",
                            "<tr><td>287</td><td>0</td></tr>",
                            "<tr><td>288</td><td>0</td></tr>",
                            "<tr><td>289</td><td>0</td></tr>",
                            "<tr><td>290</td><td>0</td></tr>",
                            "<tr><td>291</td><td>0</td></tr>",
                            "<tr><td>292</td><td>0</td></tr>",
                            "<tr><td>293</td><td>0</td></tr>",
                            "<tr><td>294</td><td>0</td></tr>",
                            "</table>"
                        ]
                    }
                }
            ],
            "execution_count": 5
        },
        {
            "cell_type": "markdown",
            "source": [
                "<span style=\"color: rgb(0, 0, 0); font-family: &quot;Open Sans&quot;, sans-serif; font-size: 14.44px; background-color: rgb(255, 255, 255);\">Listázzuk azon szálláshelyek azonosítóját és nevét, amelyek a saját helyükön (HELY) a legtöbb csillaggal rendelkeznek!</span>"
            ],
            "metadata": {
                "azdata_cell_guid": "f7356c02-d0a2-4c2c-9743-e0163774e634"
            },
            "attachments": {}
        },
        {
            "cell_type": "code",
            "source": [
                "SELECT szall.szallas_id, szall.szallas_nev\r\n",
                "FROM szallashely szall\r\n",
                "WHERE szall.csillagok_szama = (\r\n",
                "    SELECT MAX(sz2.csillagok_szama)\r\n",
                "    FROM szallashely sz2\r\n",
                "    WHERE sz2.hely = szall.hely\r\n",
                ");\r\n",
                "SELECT  szall.szallas_id, szall.szallas_nev PARTITION OVER LAG(METTOL)\r\n",
                "FROM szallashely\r\n",
                ""
            ],
            "metadata": {
                "azdata_cell_guid": "2134f16a-8152-4fcb-9f84-89e185930294",
                "language": "sql"
            },
            "outputs": [
                {
                    "output_type": "display_data",
                    "data": {
                        "text/html": "(11 rows affected)"
                    },
                    "metadata": {}
                },
                {
                    "output_type": "display_data",
                    "data": {
                        "text/html": "Total execution time: 00:00:00.009"
                    },
                    "metadata": {}
                },
                {
                    "output_type": "execute_result",
                    "metadata": {},
                    "execution_count": 6,
                    "data": {
                        "application/vnd.dataresource+json": {
                            "schema": {
                                "fields": [
                                    {
                                        "name": "szallas_id"
                                    },
                                    {
                                        "name": "szallas_nev"
                                    }
                                ]
                            },
                            "data": [
                                {
                                    "szallas_id": "17",
                                    "szallas_nev": "Szarvas Hotel"
                                },
                                {
                                    "szallas_id": "16",
                                    "szallas_nev": "Bagoly Hotel"
                                },
                                {
                                    "szallas_id": "3",
                                    "szallas_nev": "Fortuna Apartman"
                                },
                                {
                                    "szallas_id": "18",
                                    "szallas_nev": "Fortuna Apartman"
                                },
                                {
                                    "szallas_id": "19",
                                    "szallas_nev": "Nyárfás Vendégház"
                                },
                                {
                                    "szallas_id": "21",
                                    "szallas_nev": "Müller Vendégház"
                                },
                                {
                                    "szallas_id": "13",
                                    "szallas_nev": "Riviéra Panzió"
                                },
                                {
                                    "szallas_id": "10",
                                    "szallas_nev": "Lagúna Hotel"
                                },
                                {
                                    "szallas_id": "5",
                                    "szallas_nev": "Fortuna Panzió"
                                },
                                {
                                    "szallas_id": "11",
                                    "szallas_nev": "Partiszél Vendégház"
                                },
                                {
                                    "szallas_id": "8",
                                    "szallas_nev": "Hotel Három Hattyú"
                                }
                            ]
                        },
                        "text/html": [
                            "<table>",
                            "<tr><th>szallas_id</th><th>szallas_nev</th></tr>",
                            "<tr><td>17</td><td>Szarvas Hotel</td></tr>",
                            "<tr><td>16</td><td>Bagoly Hotel</td></tr>",
                            "<tr><td>3</td><td>Fortuna Apartman</td></tr>",
                            "<tr><td>18</td><td>Fortuna Apartman</td></tr>",
                            "<tr><td>19</td><td>Nyárfás Vendégház</td></tr>",
                            "<tr><td>21</td><td>Müller Vendégház</td></tr>",
                            "<tr><td>13</td><td>Riviéra Panzió</td></tr>",
                            "<tr><td>10</td><td>Lagúna Hotel</td></tr>",
                            "<tr><td>5</td><td>Fortuna Panzió</td></tr>",
                            "<tr><td>11</td><td>Partiszél Vendégház</td></tr>",
                            "<tr><td>8</td><td>Hotel Három Hattyú</td></tr>",
                            "</table>"
                        ]
                    }
                }
            ],
            "execution_count": 6
        },
        {
            "cell_type": "code",
            "source": [
                "SELECT szall.szallas_id, szall.szallas_nev\r\n",
                "FROM szallashely szall\r\n",
                "WHERE szall.HELY + CAST(szall.CSILLAGOK_SZAMA AS nvarchar(10)) IN (\r\n",
                "SELECT HELY + CAST(MAX(CSILLAGOK_SZAMA) AS nvarchar(10))\r\n",
                "FROM szallashely \r\n",
                "GROUP BY HELY)\r\n",
                ""
            ],
            "metadata": {
                "azdata_cell_guid": "56149e81-15db-4bf0-adde-40a76f37c4be",
                "language": "sql"
            },
            "outputs": [
                {
                    "output_type": "display_data",
                    "data": {
                        "text/html": "(11 rows affected)"
                    },
                    "metadata": {}
                },
                {
                    "output_type": "display_data",
                    "data": {
                        "text/html": "Total execution time: 00:00:00.009"
                    },
                    "metadata": {}
                },
                {
                    "output_type": "execute_result",
                    "metadata": {},
                    "execution_count": 24,
                    "data": {
                        "application/vnd.dataresource+json": {
                            "schema": {
                                "fields": [
                                    {
                                        "name": "szallas_id"
                                    },
                                    {
                                        "name": "szallas_nev"
                                    }
                                ]
                            },
                            "data": [
                                {
                                    "szallas_id": "3",
                                    "szallas_nev": "Fortuna Apartman"
                                },
                                {
                                    "szallas_id": "5",
                                    "szallas_nev": "Fortuna Panzió"
                                },
                                {
                                    "szallas_id": "8",
                                    "szallas_nev": "Hotel Három Hattyú"
                                },
                                {
                                    "szallas_id": "10",
                                    "szallas_nev": "Lagúna Hotel"
                                },
                                {
                                    "szallas_id": "11",
                                    "szallas_nev": "Partiszél Vendégház"
                                },
                                {
                                    "szallas_id": "13",
                                    "szallas_nev": "Riviéra Panzió"
                                },
                                {
                                    "szallas_id": "16",
                                    "szallas_nev": "Bagoly Hotel"
                                },
                                {
                                    "szallas_id": "17",
                                    "szallas_nev": "Szarvas Hotel"
                                },
                                {
                                    "szallas_id": "18",
                                    "szallas_nev": "Fortuna Apartman"
                                },
                                {
                                    "szallas_id": "19",
                                    "szallas_nev": "Nyárfás Vendégház"
                                },
                                {
                                    "szallas_id": "21",
                                    "szallas_nev": "Müller Vendégház"
                                }
                            ]
                        },
                        "text/html": [
                            "<table>",
                            "<tr><th>szallas_id</th><th>szallas_nev</th></tr>",
                            "<tr><td>3</td><td>Fortuna Apartman</td></tr>",
                            "<tr><td>5</td><td>Fortuna Panzió</td></tr>",
                            "<tr><td>8</td><td>Hotel Három Hattyú</td></tr>",
                            "<tr><td>10</td><td>Lagúna Hotel</td></tr>",
                            "<tr><td>11</td><td>Partiszél Vendégház</td></tr>",
                            "<tr><td>13</td><td>Riviéra Panzió</td></tr>",
                            "<tr><td>16</td><td>Bagoly Hotel</td></tr>",
                            "<tr><td>17</td><td>Szarvas Hotel</td></tr>",
                            "<tr><td>18</td><td>Fortuna Apartman</td></tr>",
                            "<tr><td>19</td><td>Nyárfás Vendégház</td></tr>",
                            "<tr><td>21</td><td>Müller Vendégház</td></tr>",
                            "</table>"
                        ]
                    }
                }
            ],
            "execution_count": 24
        },
        {
            "cell_type": "markdown",
            "source": [
                "Listázzuk a vendégek azonosítóját, nevét és születési dátumát!\n",
                "\n",
                "- Vegyünk fel két új oszlopot, amelyben a vendég legelső, illetve legutolsó foglalásának dátuma szerepel\n",
                "- A foglalás dátumánál a METTOL oszlopot használjuk"
            ],
            "metadata": {
                "azdata_cell_guid": "530aef05-c940-44cc-88ea-7c8afacd4f01"
            },
            "attachments": {}
        },
        {
            "cell_type": "code",
            "source": [
                "SELECT v.USERNEV, \r\n",
                "v.nev,\r\n",
                "v.SZUL_DAT, \r\n",
                "MIN(METTOL) AS legelső,\r\n",
                "MAX(METTOL) AS legutolsó\r\n",
                "FROM Vendeg v JOIN Foglalas f ON f.UGYFEL_FK=v.USERNEV\r\n",
                "GROUP BY v.USERNEV, v.nev, v.SZUL_DAT"
            ],
            "metadata": {
                "azdata_cell_guid": "2d1c3cae-5349-4623-af00-75707b783052",
                "language": "sql"
            },
            "outputs": [
                {
                    "output_type": "display_data",
                    "data": {
                        "text/html": "(195 rows affected)"
                    },
                    "metadata": {}
                },
                {
                    "output_type": "display_data",
                    "data": {
                        "text/html": "Total execution time: 00:00:00.065"
                    },
                    "metadata": {}
                },
                {
                    "output_type": "execute_result",
                    "metadata": {},
                    "execution_count": 16,
                    "data": {
                        "application/vnd.dataresource+json": {
                            "schema": {
                                "fields": [
                                    {
                                        "name": "USERNEV"
                                    },
                                    {
                                        "name": "nev"
                                    },
                                    {
                                        "name": "SZUL_DAT"
                                    },
                                    {
                                        "name": "(No column name)"
                                    },
                                    {
                                        "name": "(No column name)"
                                    }
                                ]
                            },
                            "data": [
                                {
                                    "USERNEV": "adam1",
                                    "nev": "Kiss Ádám",
                                    "SZUL_DAT": "1991-12-28",
                                    "(No column name)": "2016-10-19"
                                },
                                {
                                    "USERNEV": "adam3",
                                    "nev": "Barkóci Ádám",
                                    "SZUL_DAT": "1970-06-07",
                                    "(No column name)": "2017-02-06"
                                },
                                {
                                    "USERNEV": "adam4",
                                    "nev": "Bieniek Ádám",
                                    "SZUL_DAT": "1976-08-01",
                                    "(No column name)": "2017-02-23"
                                },
                                {
                                    "USERNEV": "agnes",
                                    "nev": "Lengyel Ágnes",
                                    "SZUL_DAT": "1979-12-10",
                                    "(No column name)": "2016-11-07"
                                },
                                {
                                    "USERNEV": "agnes3",
                                    "nev": "Hartyánszky Ágnes",
                                    "SZUL_DAT": "1967-04-11",
                                    "(No column name)": "2017-02-16"
                                },
                                {
                                    "USERNEV": "AGNESH",
                                    "nev": "Horváth Ágnes",
                                    "SZUL_DAT": "1981-12-24",
                                    "(No column name)": "2017-01-16"
                                },
                                {
                                    "USERNEV": "AGNESK",
                                    "nev": "Kovács Ágnes",
                                    "SZUL_DAT": "1988-10-02",
                                    "(No column name)": "2016-12-17"
                                },
                                {
                                    "USERNEV": "akos",
                                    "nev": "Bíró Ákos",
                                    "SZUL_DAT": "1982-04-24",
                                    "(No column name)": "2016-12-29"
                                },
                                {
                                    "USERNEV": "aladar",
                                    "nev": "Dunai Aladár",
                                    "SZUL_DAT": "1980-11-01",
                                    "(No column name)": "2016-11-22"
                                },
                                {
                                    "USERNEV": "alexandra",
                                    "nev": "Bagóczki Alexandra",
                                    "SZUL_DAT": "1992-03-25",
                                    "(No column name)": "2017-01-19"
                                },
                                {
                                    "USERNEV": "andi",
                                    "nev": "Maródi Andrea",
                                    "SZUL_DAT": "1968-05-07",
                                    "(No column name)": "2017-01-13"
                                },
                                {
                                    "USERNEV": "andras2",
                                    "nev": "Tóth András",
                                    "SZUL_DAT": "1997-10-31",
                                    "(No column name)": "2017-02-08"
                                },
                                {
                                    "USERNEV": "andras21",
                                    "nev": "Molnár András",
                                    "SZUL_DAT": "1977-11-16",
                                    "(No column name)": "2017-01-28"
                                },
                                {
                                    "USERNEV": "andras3",
                                    "nev": "Vígh András",
                                    "SZUL_DAT": "1971-04-02",
                                    "(No column name)": "2017-02-02"
                                },
                                {
                                    "USERNEV": "andras4",
                                    "nev": "Back András",
                                    "SZUL_DAT": "1984-04-07",
                                    "(No column name)": "2017-01-09"
                                },
                                {
                                    "USERNEV": "andras41",
                                    "nev": "Komjáti András",
                                    "SZUL_DAT": "1997-10-25",
                                    "(No column name)": "2016-11-23"
                                },
                                {
                                    "USERNEV": "ANDRASE",
                                    "nev": "Erdei András",
                                    "SZUL_DAT": "1997-05-29",
                                    "(No column name)": "2016-11-29"
                                },
                                {
                                    "USERNEV": "ANDRASN",
                                    "nev": "Nagy András",
                                    "SZUL_DAT": "1980-09-05",
                                    "(No column name)": "2016-11-25"
                                },
                                {
                                    "USERNEV": "andrea",
                                    "nev": "Kiss Andrea",
                                    "SZUL_DAT": "1993-03-25",
                                    "(No column name)": "2017-02-09"
                                },
                                {
                                    "USERNEV": "andrea3",
                                    "nev": "Szomor Andrea",
                                    "SZUL_DAT": "1996-05-10",
                                    "(No column name)": "2016-11-19"
                                },
                                {
                                    "USERNEV": "andrea4",
                                    "nev": "Neizer Andrea",
                                    "SZUL_DAT": "1981-05-17",
                                    "(No column name)": "2017-01-22"
                                },
                                {
                                    "USERNEV": "ANDREAT",
                                    "nev": "Tornyos Andrea",
                                    "SZUL_DAT": "1986-11-14",
                                    "(No column name)": "2016-10-08"
                                },
                                {
                                    "USERNEV": "anett3",
                                    "nev": "Pivarcsi Anett",
                                    "SZUL_DAT": "1967-01-03",
                                    "(No column name)": "2016-10-16"
                                },
                                {
                                    "USERNEV": "aniko",
                                    "nev": "Tóth Anikó",
                                    "SZUL_DAT": "1973-06-03",
                                    "(No column name)": "2017-02-23"
                                },
                                {
                                    "USERNEV": "aniko4",
                                    "nev": "Böröcz Anikó",
                                    "SZUL_DAT": "1978-03-26",
                                    "(No column name)": "2016-10-16"
                                },
                                {
                                    "USERNEV": "ANIKOS",
                                    "nev": "Simon Anikó",
                                    "SZUL_DAT": "1988-12-14",
                                    "(No column name)": "2016-11-10"
                                },
                                {
                                    "USERNEV": "anita",
                                    "nev": "Hamvay-Kovács Anita",
                                    "SZUL_DAT": "1971-03-20",
                                    "(No column name)": "2017-02-20"
                                },
                                {
                                    "USERNEV": "annamaria1",
                                    "nev": "Szűcs Annamária",
                                    "SZUL_DAT": "1990-04-27",
                                    "(No column name)": "2017-01-30"
                                },
                                {
                                    "USERNEV": "ANNAMARIAR",
                                    "nev": "Regős Annamária",
                                    "SZUL_DAT": "1977-09-26",
                                    "(No column name)": "2017-02-16"
                                },
                                {
                                    "USERNEV": "aron2",
                                    "nev": "Jakab Áron",
                                    "SZUL_DAT": "1971-04-26",
                                    "(No column name)": "2017-02-26"
                                },
                                {
                                    "USERNEV": "ARONK",
                                    "nev": "Kelemen Áron",
                                    "SZUL_DAT": "1989-08-10",
                                    "(No column name)": "2017-02-21"
                                },
                                {
                                    "USERNEV": "arpad2",
                                    "nev": "Ötvös Árpád",
                                    "SZUL_DAT": "1990-06-08",
                                    "(No column name)": "2017-02-18"
                                },
                                {
                                    "USERNEV": "ARPADH",
                                    "nev": "Horváth Árpád",
                                    "SZUL_DAT": "1990-05-18",
                                    "(No column name)": "2017-02-16"
                                },
                                {
                                    "USERNEV": "ARPADM",
                                    "nev": "Móricz Árpád",
                                    "SZUL_DAT": "1986-04-20",
                                    "(No column name)": "2017-02-12"
                                },
                                {
                                    "USERNEV": "attila",
                                    "nev": "Csóti Attila",
                                    "SZUL_DAT": "1979-12-25",
                                    "(No column name)": "2016-12-22"
                                },
                                {
                                    "USERNEV": "attila1",
                                    "nev": "Gulyás Attila",
                                    "SZUL_DAT": "1982-08-16",
                                    "(No column name)": "2017-01-23"
                                },
                                {
                                    "USERNEV": "attila4",
                                    "nev": "Baróti Attila",
                                    "SZUL_DAT": "1975-11-06",
                                    "(No column name)": "2017-02-15"
                                },
                                {
                                    "USERNEV": "ATTILAO",
                                    "nev": "Opra Attila",
                                    "SZUL_DAT": "1995-05-08",
                                    "(No column name)": "2017-02-22"
                                },
                                {
                                    "USERNEV": "balazs1",
                                    "nev": "Bozsik Balázs",
                                    "SZUL_DAT": "1992-11-03",
                                    "(No column name)": "2017-02-12"
                                },
                                {
                                    "USERNEV": "balazs2",
                                    "nev": "Szűcs Balázs",
                                    "SZUL_DAT": "1984-10-31",
                                    "(No column name)": "2017-02-27"
                                },
                                {
                                    "USERNEV": "balazs3",
                                    "nev": "Bakódy Balázs",
                                    "SZUL_DAT": "1986-09-09",
                                    "(No column name)": "2017-01-20"
                                },
                                {
                                    "USERNEV": "balint",
                                    "nev": "Horváth Bálint",
                                    "SZUL_DAT": "1996-03-17",
                                    "(No column name)": "2016-11-24"
                                },
                                {
                                    "USERNEV": "balint1",
                                    "nev": "Molnár Bálint",
                                    "SZUL_DAT": "1989-08-24",
                                    "(No column name)": "2017-01-03"
                                },
                                {
                                    "USERNEV": "balint2",
                                    "nev": "Vukasinovity Bálint",
                                    "SZUL_DAT": "1997-09-03",
                                    "(No column name)": "2016-12-04"
                                },
                                {
                                    "USERNEV": "balu",
                                    "nev": "Endresz Bálint",
                                    "SZUL_DAT": "1976-08-01",
                                    "(No column name)": "2016-12-22"
                                },
                                {
                                    "USERNEV": "beata4",
                                    "nev": "Bagi Beáta",
                                    "SZUL_DAT": "1994-03-19",
                                    "(No column name)": "2016-10-03"
                                },
                                {
                                    "USERNEV": "BEATRIXK",
                                    "nev": "Kerényi Beatrix",
                                    "SZUL_DAT": "1972-04-06",
                                    "(No column name)": "2017-02-08"
                                },
                                {
                                    "USERNEV": "BEATRIXS",
                                    "nev": "Szekendi Beatrix",
                                    "SZUL_DAT": "1981-04-06",
                                    "(No column name)": "2017-02-03"
                                },
                                {
                                    "USERNEV": "BELAF",
                                    "nev": "Farkas Béla",
                                    "SZUL_DAT": "1995-02-24",
                                    "(No column name)": "2016-12-06"
                                },
                                {
                                    "USERNEV": "bence",
                                    "nev": "Győrffy Bence",
                                    "SZUL_DAT": "1987-07-09",
                                    "(No column name)": "2017-02-05"
                                },
                                {
                                    "USERNEV": "BENCEB",
                                    "nev": "Bajusz Bence",
                                    "SZUL_DAT": "1973-06-21",
                                    "(No column name)": "2017-02-12"
                                },
                                {
                                    "USERNEV": "bernadett1",
                                    "nev": "Simon Bernadett",
                                    "SZUL_DAT": "1984-10-13",
                                    "(No column name)": "2017-02-24"
                                },
                                {
                                    "USERNEV": "bernadett2",
                                    "nev": "Kovács Bernadett",
                                    "SZUL_DAT": "1996-08-20",
                                    "(No column name)": "2017-01-24"
                                },
                                {
                                    "USERNEV": "BERNADETTO",
                                    "nev": "Orbán Bernadett",
                                    "SZUL_DAT": "1987-12-07",
                                    "(No column name)": "2017-01-28"
                                },
                                {
                                    "USERNEV": "bertalan",
                                    "nev": "Csiger Bertalan",
                                    "SZUL_DAT": "1977-10-15",
                                    "(No column name)": "2017-02-20"
                                },
                                {
                                    "USERNEV": "brigitta",
                                    "nev": "Székely Brigitta",
                                    "SZUL_DAT": "1978-09-13",
                                    "(No column name)": "2017-01-23"
                                },
                                {
                                    "USERNEV": "brigitta3",
                                    "nev": "Pataki Brigitta",
                                    "SZUL_DAT": "1991-05-23",
                                    "(No column name)": "2017-02-09"
                                },
                                {
                                    "USERNEV": "csongor3",
                                    "nev": "Nagymihály Csongor",
                                    "SZUL_DAT": "1984-03-05",
                                    "(No column name)": "2017-02-13"
                                },
                                {
                                    "USERNEV": "dani",
                                    "nev": "Vörös Dániel",
                                    "SZUL_DAT": "1986-10-14",
                                    "(No column name)": "2017-02-25"
                                },
                                {
                                    "USERNEV": "daniel",
                                    "nev": "Rácz Dániel",
                                    "SZUL_DAT": "1978-11-28",
                                    "(No column name)": "2017-02-20"
                                },
                                {
                                    "USERNEV": "daniel1",
                                    "nev": "Keszler Dániel",
                                    "SZUL_DAT": "1969-07-16",
                                    "(No column name)": "2017-03-01"
                                },
                                {
                                    "USERNEV": "david",
                                    "nev": "Ambrus Dávid",
                                    "SZUL_DAT": "1974-02-11",
                                    "(No column name)": "2017-01-18"
                                },
                                {
                                    "USERNEV": "david1",
                                    "nev": "Sobják Dávid",
                                    "SZUL_DAT": "1970-08-16",
                                    "(No column name)": "2017-02-25"
                                },
                                {
                                    "USERNEV": "david4",
                                    "nev": "Berta Dávid",
                                    "SZUL_DAT": "1990-10-08",
                                    "(No column name)": "2017-02-16"
                                },
                                {
                                    "USERNEV": "debora",
                                    "nev": "Barna Debóra",
                                    "SZUL_DAT": "1976-10-14",
                                    "(No column name)": "2017-02-04"
                                },
                                {
                                    "USERNEV": "denes",
                                    "nev": "Tömböly Dénes",
                                    "SZUL_DAT": "1975-03-14",
                                    "(No column name)": "2016-11-06"
                                },
                                {
                                    "USERNEV": "dora3",
                                    "nev": "Sarodi Dóra",
                                    "SZUL_DAT": "1995-05-18",
                                    "(No column name)": "2016-11-22"
                                },
                                {
                                    "USERNEV": "edit",
                                    "nev": "Bittmann Edit",
                                    "SZUL_DAT": "1984-04-20",
                                    "(No column name)": "2017-02-08"
                                },
                                {
                                    "USERNEV": "emese",
                                    "nev": "Kuruc Emese",
                                    "SZUL_DAT": "1989-08-10",
                                    "(No column name)": "2017-01-30"
                                },
                                {
                                    "USERNEV": "eszter",
                                    "nev": "Molnár Eszter",
                                    "SZUL_DAT": "1987-05-10",
                                    "(No column name)": "2016-12-23"
                                },
                                {
                                    "USERNEV": "eszter2",
                                    "nev": "Balogh Eszter",
                                    "SZUL_DAT": "1998-01-31",
                                    "(No column name)": "2016-12-29"
                                },
                                {
                                    "USERNEV": "eszter4",
                                    "nev": "Fülöp Eszter",
                                    "SZUL_DAT": "1993-06-28",
                                    "(No column name)": "2017-02-26"
                                },
                                {
                                    "USERNEV": "ESZTERE",
                                    "nev": "Érsek Eszter",
                                    "SZUL_DAT": "1978-08-28",
                                    "(No column name)": "2017-02-10"
                                },
                                {
                                    "USERNEV": "eva",
                                    "nev": "Enyedi Éva",
                                    "SZUL_DAT": "1967-06-30",
                                    "(No column name)": "2017-01-14"
                                },
                                {
                                    "USERNEV": "eva2",
                                    "nev": "Perlinger Éva",
                                    "SZUL_DAT": "1971-08-19",
                                    "(No column name)": "2017-01-06"
                                },
                                {
                                    "USERNEV": "EVAV",
                                    "nev": "Viktor Éva",
                                    "SZUL_DAT": "1980-12-26",
                                    "(No column name)": "2017-02-04"
                                },
                                {
                                    "USERNEV": "ferenc1",
                                    "nev": "Orosz Ferenc",
                                    "SZUL_DAT": "1983-10-08",
                                    "(No column name)": "2016-11-07"
                                },
                                {
                                    "USERNEV": "fruzsina4",
                                    "nev": "Frank Fruzsina",
                                    "SZUL_DAT": "1996-08-16",
                                    "(No column name)": "2017-01-22"
                                },
                                {
                                    "USERNEV": "gabor1",
                                    "nev": "Köves Gábor",
                                    "SZUL_DAT": "1973-07-15",
                                    "(No column name)": "2016-11-19"
                                },
                                {
                                    "USERNEV": "gabor4",
                                    "nev": "Telek Gábor",
                                    "SZUL_DAT": "1987-03-15",
                                    "(No column name)": "2016-11-07"
                                },
                                {
                                    "USERNEV": "gabriella1",
                                    "nev": "Nagy Gabriella",
                                    "SZUL_DAT": "1982-11-01",
                                    "(No column name)": "2017-02-21"
                                },
                                {
                                    "USERNEV": "gabriella10",
                                    "nev": "Vida Gabriella",
                                    "SZUL_DAT": "1969-06-18",
                                    "(No column name)": "2016-10-01"
                                },
                                {
                                    "USERNEV": "georgij",
                                    "nev": "Nyíri Georgij",
                                    "SZUL_DAT": "1983-02-23",
                                    "(No column name)": "2016-09-18"
                                },
                                {
                                    "USERNEV": "gusztav",
                                    "nev": "Bárci Gusztáv",
                                    "SZUL_DAT": "1967-02-25",
                                    "(No column name)": "2017-02-23"
                                },
                                {
                                    "USERNEV": "GYONGYIK",
                                    "nev": "Kornseé Gyöngyi",
                                    "SZUL_DAT": "1974-06-07",
                                    "(No column name)": "2017-01-22"
                                },
                                {
                                    "USERNEV": "GYORGYO",
                                    "nev": "Oroszi György",
                                    "SZUL_DAT": "1980-03-23",
                                    "(No column name)": "2017-02-24"
                                },
                                {
                                    "USERNEV": "henrik3",
                                    "nev": "Nádudvari Henrik",
                                    "SZUL_DAT": "1986-12-05",
                                    "(No column name)": "2017-01-27"
                                },
                                {
                                    "USERNEV": "IBOLYAA",
                                    "nev": "Andor Ibolya",
                                    "SZUL_DAT": "1983-11-27",
                                    "(No column name)": "2017-01-17"
                                },
                                {
                                    "USERNEV": "ilona3",
                                    "nev": "Bosnyák Ilona",
                                    "SZUL_DAT": "1990-08-06",
                                    "(No column name)": "2016-12-25"
                                },
                                {
                                    "USERNEV": "imre",
                                    "nev": "Búza Imre",
                                    "SZUL_DAT": "1988-09-30",
                                    "(No column name)": "2016-10-28"
                                },
                                {
                                    "USERNEV": "imre1",
                                    "nev": "Papp Imre",
                                    "SZUL_DAT": "1976-06-25",
                                    "(No column name)": "2017-02-05"
                                },
                                {
                                    "USERNEV": "istvan",
                                    "nev": "Soós István",
                                    "SZUL_DAT": "1986-06-28",
                                    "(No column name)": "2017-01-02"
                                },
                                {
                                    "USERNEV": "istvan1",
                                    "nev": "Vizi István",
                                    "SZUL_DAT": "1997-12-01",
                                    "(No column name)": "2017-02-07"
                                },
                                {
                                    "USERNEV": "ISTVANV",
                                    "nev": "Varga István",
                                    "SZUL_DAT": "1989-04-09",
                                    "(No column name)": "2016-09-29"
                                },
                                {
                                    "USERNEV": "janos3",
                                    "nev": "Harangozó János",
                                    "SZUL_DAT": "1967-11-02",
                                    "(No column name)": "2017-02-12"
                                },
                                {
                                    "USERNEV": "JANOSG",
                                    "nev": "Giliga János",
                                    "SZUL_DAT": "1975-01-03",
                                    "(No column name)": "2017-01-31"
                                },
                                {
                                    "USERNEV": "JANOSP",
                                    "nev": "Pálinkás János",
                                    "SZUL_DAT": "1984-10-12",
                                    "(No column name)": "2016-12-18"
                                },
                                {
                                    "USERNEV": "jozsef",
                                    "nev": "Gergely József",
                                    "SZUL_DAT": "1985-11-01",
                                    "(No column name)": "2016-12-06"
                                },
                                {
                                    "USERNEV": "jozsef2",
                                    "nev": "Vajda József",
                                    "SZUL_DAT": "1978-09-04",
                                    "(No column name)": "2016-11-25"
                                },
                                {
                                    "USERNEV": "JOZSEFG",
                                    "nev": "Gyuris József",
                                    "SZUL_DAT": "1975-05-26",
                                    "(No column name)": "2017-02-24"
                                },
                                {
                                    "USERNEV": "JUDITH",
                                    "nev": "Hídasi Judit",
                                    "SZUL_DAT": "1997-07-12",
                                    "(No column name)": "2016-12-19"
                                },
                                {
                                    "USERNEV": "julia",
                                    "nev": "Tóth Júlia",
                                    "SZUL_DAT": "1993-03-02",
                                    "(No column name)": "2017-02-27"
                                },
                                {
                                    "USERNEV": "julia4",
                                    "nev": "Nagy Júlia",
                                    "SZUL_DAT": "1985-08-11",
                                    "(No column name)": "2017-02-04"
                                },
                                {
                                    "USERNEV": "julianna4",
                                    "nev": "Szabó Julianna",
                                    "SZUL_DAT": "1990-09-29",
                                    "(No column name)": "2016-11-27"
                                },
                                {
                                    "USERNEV": "kata",
                                    "nev": "Gondos Katalin",
                                    "SZUL_DAT": "1968-06-22",
                                    "(No column name)": "2017-01-15"
                                },
                                {
                                    "USERNEV": "katalin",
                                    "nev": "Horváth Katalin",
                                    "SZUL_DAT": "1968-01-01",
                                    "(No column name)": "2017-02-24"
                                },
                                {
                                    "USERNEV": "katalin4",
                                    "nev": "Kertész Katalin",
                                    "SZUL_DAT": "1986-04-13",
                                    "(No column name)": "2017-01-24"
                                },
                                {
                                    "USERNEV": "kati",
                                    "nev": "Zatykó Katalin",
                                    "SZUL_DAT": "1995-05-01",
                                    "(No column name)": "2016-10-30"
                                },
                                {
                                    "USERNEV": "katka",
                                    "nev": "Kovács Katalin",
                                    "SZUL_DAT": "1975-03-31",
                                    "(No column name)": "2017-01-19"
                                },
                                {
                                    "USERNEV": "klaudia2",
                                    "nev": "Bakó Klaudia",
                                    "SZUL_DAT": "1982-04-16",
                                    "(No column name)": "2016-10-02"
                                },
                                {
                                    "USERNEV": "kornel4",
                                    "nev": "Lukács Kornél",
                                    "SZUL_DAT": "1975-09-30",
                                    "(No column name)": "2016-09-23"
                                },
                                {
                                    "USERNEV": "kristof4",
                                    "nev": "Poprádi Kristóf",
                                    "SZUL_DAT": "1984-01-15",
                                    "(No column name)": "2016-09-30"
                                },
                                {
                                    "USERNEV": "kriszti",
                                    "nev": "Horváth Krisztina",
                                    "SZUL_DAT": "1978-06-12",
                                    "(No column name)": "2017-03-03"
                                },
                                {
                                    "USERNEV": "krisztian4",
                                    "nev": "Czérna Krisztián",
                                    "SZUL_DAT": "1970-08-01",
                                    "(No column name)": "2017-02-23"
                                },
                                {
                                    "USERNEV": "KRISZTIANM",
                                    "nev": "Mogyródi Krisztián",
                                    "SZUL_DAT": "1968-05-27",
                                    "(No column name)": "2017-01-16"
                                },
                                {
                                    "USERNEV": "krisztina",
                                    "nev": "Szedlár Krisztina",
                                    "SZUL_DAT": "1979-05-10",
                                    "(No column name)": "2017-02-16"
                                },
                                {
                                    "USERNEV": "krisztina1",
                                    "nev": "Bori Krisztina",
                                    "SZUL_DAT": "1969-10-13",
                                    "(No column name)": "2017-01-21"
                                },
                                {
                                    "USERNEV": "KRISZTINAG",
                                    "nev": "Gyárfás Krisztina",
                                    "SZUL_DAT": "1987-09-19",
                                    "(No column name)": "2017-01-25"
                                },
                                {
                                    "USERNEV": "lajos",
                                    "nev": "Kiss Lajos",
                                    "SZUL_DAT": "1978-10-31",
                                    "(No column name)": "2017-02-12"
                                },
                                {
                                    "USERNEV": "lala",
                                    "nev": "Nagymihály Lajos",
                                    "SZUL_DAT": "1997-02-24",
                                    "(No column name)": "2017-01-17"
                                },
                                {
                                    "USERNEV": "laszlo1",
                                    "nev": "Farkas László",
                                    "SZUL_DAT": "1967-10-30",
                                    "(No column name)": "2016-09-23"
                                },
                                {
                                    "USERNEV": "laszlo2",
                                    "nev": "Móra László",
                                    "SZUL_DAT": "1975-02-19",
                                    "(No column name)": "2016-11-25"
                                },
                                {
                                    "USERNEV": "LASZLOA",
                                    "nev": "Antal László",
                                    "SZUL_DAT": "1969-06-29",
                                    "(No column name)": "2017-02-08"
                                },
                                {
                                    "USERNEV": "LASZLON",
                                    "nev": "Nagy László",
                                    "SZUL_DAT": "1969-04-12",
                                    "(No column name)": "2017-02-18"
                                },
                                {
                                    "USERNEV": "maria1",
                                    "nev": "Baráth Mária",
                                    "SZUL_DAT": "1995-11-19",
                                    "(No column name)": "2017-02-24"
                                },
                                {
                                    "USERNEV": "mark",
                                    "nev": "Kispál Márk",
                                    "SZUL_DAT": "1996-01-23",
                                    "(No column name)": "2016-11-19"
                                },
                                {
                                    "USERNEV": "MARKH",
                                    "nev": "Horváth Márk",
                                    "SZUL_DAT": "1997-09-23",
                                    "(No column name)": "2017-01-22"
                                },
                                {
                                    "USERNEV": "marton",
                                    "nev": "Kalacsi Márton",
                                    "SZUL_DAT": "1989-06-24",
                                    "(No column name)": "2017-03-02"
                                },
                                {
                                    "USERNEV": "MATEK",
                                    "nev": "Koza Máté",
                                    "SZUL_DAT": "1997-02-28",
                                    "(No column name)": "2017-01-16"
                                },
                                {
                                    "USERNEV": "matyas2",
                                    "nev": "Botka Mátyás",
                                    "SZUL_DAT": "1972-07-07",
                                    "(No column name)": "2016-12-09"
                                },
                                {
                                    "USERNEV": "MATYASS",
                                    "nev": "Szilágyi Mátyás",
                                    "SZUL_DAT": "1975-03-22",
                                    "(No column name)": "2017-01-09"
                                },
                                {
                                    "USERNEV": "MIHALYJ",
                                    "nev": "Juhász Mihály",
                                    "SZUL_DAT": "1979-10-12",
                                    "(No column name)": "2017-02-06"
                                },
                                {
                                    "USERNEV": "miklos2",
                                    "nev": "Gondos Miklós",
                                    "SZUL_DAT": "1995-10-07",
                                    "(No column name)": "2016-11-16"
                                },
                                {
                                    "USERNEV": "MIKLOSB",
                                    "nev": "Balla Miklós",
                                    "SZUL_DAT": "1979-02-16",
                                    "(No column name)": "2016-12-05"
                                },
                                {
                                    "USERNEV": "MONIKAM",
                                    "nev": "Mohos Mónika",
                                    "SZUL_DAT": "1974-10-01",
                                    "(No column name)": "2017-02-23"
                                },
                                {
                                    "USERNEV": "NANDORF",
                                    "nev": "Fő Nándor",
                                    "SZUL_DAT": "1968-11-12",
                                    "(No column name)": "2017-02-05"
                                },
                                {
                                    "USERNEV": "nikolett3",
                                    "nev": "Horváth Nikolett",
                                    "SZUL_DAT": "1981-09-29",
                                    "(No column name)": "2016-10-22"
                                },
                                {
                                    "USERNEV": "nikoletta4",
                                    "nev": "Kő Nikoletta",
                                    "SZUL_DAT": "1972-01-10",
                                    "(No column name)": "2017-02-01"
                                },
                                {
                                    "USERNEV": "NIKOLETTAT",
                                    "nev": "Tatár Nikoletta",
                                    "SZUL_DAT": "1997-10-19",
                                    "(No column name)": "2016-09-21"
                                },
                                {
                                    "USERNEV": "norbert",
                                    "nev": "Szűcs Norbert",
                                    "SZUL_DAT": "1969-07-17",
                                    "(No column name)": "2017-02-26"
                                },
                                {
                                    "USERNEV": "norbert2",
                                    "nev": "Hegedűs Norbert",
                                    "SZUL_DAT": "1991-07-17",
                                    "(No column name)": "2017-01-29"
                                },
                                {
                                    "USERNEV": "norbert4",
                                    "nev": "Mile Norbert",
                                    "SZUL_DAT": "1983-06-15",
                                    "(No column name)": "2017-03-03"
                                },
                                {
                                    "USERNEV": "norbert5",
                                    "nev": "Béres Norbert",
                                    "SZUL_DAT": "1975-07-27",
                                    "(No column name)": "2016-11-05"
                                },
                                {
                                    "USERNEV": "pal",
                                    "nev": "Barabás Pál",
                                    "SZUL_DAT": "1968-02-06",
                                    "(No column name)": "2017-02-20"
                                },
                                {
                                    "USERNEV": "peter1",
                                    "nev": "Kozma Péter",
                                    "SZUL_DAT": "1976-03-18",
                                    "(No column name)": "2017-02-28"
                                },
                                {
                                    "USERNEV": "peter2",
                                    "nev": "Bozsó Péter",
                                    "SZUL_DAT": "1976-01-26",
                                    "(No column name)": "2016-11-15"
                                },
                                {
                                    "USERNEV": "peter3",
                                    "nev": "Szalai Péter",
                                    "SZUL_DAT": "1983-07-18",
                                    "(No column name)": "2017-02-21"
                                },
                                {
                                    "USERNEV": "peter4",
                                    "nev": "Bíró Péter",
                                    "SZUL_DAT": "1985-09-01",
                                    "(No column name)": "2017-02-05"
                                },
                                {
                                    "USERNEV": "PETERB",
                                    "nev": "Berendi Péter",
                                    "SZUL_DAT": "1969-01-01",
                                    "(No column name)": "2016-11-17"
                                },
                                {
                                    "USERNEV": "polla",
                                    "nev": "Palágyi Polla",
                                    "SZUL_DAT": "1994-02-04",
                                    "(No column name)": "2017-02-11"
                                },
                                {
                                    "USERNEV": "rajmond4",
                                    "nev": "Rácz Rajmond",
                                    "SZUL_DAT": "1993-09-25",
                                    "(No column name)": "2016-11-16"
                                },
                                {
                                    "USERNEV": "reka4",
                                    "nev": "Szikszai Réka",
                                    "SZUL_DAT": "1969-11-27",
                                    "(No column name)": "2017-02-26"
                                },
                                {
                                    "USERNEV": "RENATAK",
                                    "nev": "Kardos Renáta",
                                    "SZUL_DAT": "1988-05-17",
                                    "(No column name)": "2017-03-01"
                                },
                                {
                                    "USERNEV": "RENATAS",
                                    "nev": "Szirmai Renáta",
                                    "SZUL_DAT": "1991-03-26",
                                    "(No column name)": "2017-02-14"
                                },
                                {
                                    "USERNEV": "robert2",
                                    "nev": "Patay Róbert",
                                    "SZUL_DAT": "1977-01-08",
                                    "(No column name)": "2016-12-17"
                                },
                                {
                                    "USERNEV": "ROBERTI",
                                    "nev": "Iván Róbert",
                                    "SZUL_DAT": "1967-07-02",
                                    "(No column name)": "2017-02-17"
                                },
                                {
                                    "USERNEV": "ROBERTP",
                                    "nev": "Pásztor Róbert",
                                    "SZUL_DAT": "1972-05-16",
                                    "(No column name)": "2016-09-08"
                                },
                                {
                                    "USERNEV": "roland",
                                    "nev": "Tóth Roland",
                                    "SZUL_DAT": "1968-03-21",
                                    "(No column name)": "2016-11-19"
                                },
                                {
                                    "USERNEV": "roland1",
                                    "nev": "Ferencz Roland",
                                    "SZUL_DAT": "1985-12-31",
                                    "(No column name)": "2017-01-16"
                                },
                                {
                                    "USERNEV": "roza2",
                                    "nev": "Bucskó Róza",
                                    "SZUL_DAT": "1988-12-26",
                                    "(No column name)": "2017-02-18"
                                },
                                {
                                    "USERNEV": "sandor",
                                    "nev": "Karasz Sándor",
                                    "SZUL_DAT": "1970-01-27",
                                    "(No column name)": "2016-09-19"
                                },
                                {
                                    "USERNEV": "sandor3",
                                    "nev": "Farkas Sándor",
                                    "SZUL_DAT": "1989-01-27",
                                    "(No column name)": "2016-11-10"
                                },
                                {
                                    "USERNEV": "sandor4",
                                    "nev": "Nagy Sándor",
                                    "SZUL_DAT": "1997-06-11",
                                    "(No column name)": "2017-01-22"
                                },
                                {
                                    "USERNEV": "sara",
                                    "nev": "Farkas Sára",
                                    "SZUL_DAT": "1973-04-05",
                                    "(No column name)": "2016-12-25"
                                },
                                {
                                    "USERNEV": "SEBASTIANF",
                                    "nev": "Foltényi Sebastián",
                                    "SZUL_DAT": "1992-09-09",
                                    "(No column name)": "2016-09-17"
                                },
                                {
                                    "USERNEV": "sebestyen",
                                    "nev": "Rab Sebestyén",
                                    "SZUL_DAT": "1992-03-03",
                                    "(No column name)": "2016-10-26"
                                },
                                {
                                    "USERNEV": "szabolcs",
                                    "nev": "Bodor Szabolcs",
                                    "SZUL_DAT": "1990-07-16",
                                    "(No column name)": "2016-12-05"
                                },
                                {
                                    "USERNEV": "SZABOLCSM",
                                    "nev": "Miklós Szabolcs",
                                    "SZUL_DAT": "1980-08-11",
                                    "(No column name)": "2017-02-04"
                                },
                                {
                                    "USERNEV": "SZILARDS",
                                    "nev": "Szalai Szilárd",
                                    "SZUL_DAT": "1967-09-28",
                                    "(No column name)": "2017-02-08"
                                },
                                {
                                    "USERNEV": "szilvia1",
                                    "nev": "Tari Szilvia",
                                    "SZUL_DAT": "1971-03-09",
                                    "(No column name)": "2017-01-28"
                                },
                                {
                                    "USERNEV": "tamara2",
                                    "nev": "Miklós Tamara",
                                    "SZUL_DAT": "1980-08-11",
                                    "(No column name)": "2016-11-15"
                                },
                                {
                                    "USERNEV": "tamas",
                                    "nev": "Antal Tamás",
                                    "SZUL_DAT": "1984-09-05",
                                    "(No column name)": "2017-02-14"
                                },
                                {
                                    "USERNEV": "TAMASF",
                                    "nev": "Fényes Tamás",
                                    "SZUL_DAT": "1997-11-06",
                                    "(No column name)": "2017-02-16"
                                },
                                {
                                    "USERNEV": "tibor",
                                    "nev": "Gombos Tibor",
                                    "SZUL_DAT": "1993-11-28",
                                    "(No column name)": "2016-11-05"
                                },
                                {
                                    "USERNEV": "tibor2",
                                    "nev": "Dániel Tibor",
                                    "SZUL_DAT": "1985-02-02",
                                    "(No column name)": "2016-10-20"
                                },
                                {
                                    "USERNEV": "tihamer",
                                    "nev": "Kazy Tihamér",
                                    "SZUL_DAT": "1991-07-05",
                                    "(No column name)": "2016-12-25"
                                },
                                {
                                    "USERNEV": "timea",
                                    "nev": "Papós Tímea",
                                    "SZUL_DAT": "1996-01-08",
                                    "(No column name)": "2016-12-26"
                                },
                                {
                                    "USERNEV": "timea2",
                                    "nev": "Dusha Tímea",
                                    "SZUL_DAT": "1975-08-22",
                                    "(No column name)": "2016-12-14"
                                },
                                {
                                    "USERNEV": "tunde",
                                    "nev": "Turcsik Tünde",
                                    "SZUL_DAT": "1974-02-12",
                                    "(No column name)": "2017-01-03"
                                },
                                {
                                    "USERNEV": "valentin",
                                    "nev": "Feró Valentin",
                                    "SZUL_DAT": "1986-01-09",
                                    "(No column name)": "2016-12-01"
                                },
                                {
                                    "USERNEV": "veronika4",
                                    "nev": "Tankó Veronika",
                                    "SZUL_DAT": "1983-08-28",
                                    "(No column name)": "2017-02-03"
                                },
                                {
                                    "USERNEV": "VIKTORIAU",
                                    "nev": "Urbán Viktoria",
                                    "SZUL_DAT": "1996-05-03",
                                    "(No column name)": "2016-10-26"
                                },
                                {
                                    "USERNEV": "VIKTORK",
                                    "nev": "Keresztúri Viktor",
                                    "SZUL_DAT": "1989-05-05",
                                    "(No column name)": "2016-06-06"
                                },
                                {
                                    "USERNEV": "vivien3",
                                    "nev": "Boros Vivien",
                                    "SZUL_DAT": "1991-07-01",
                                    "(No column name)": "2016-12-24"
                                },
                                {
                                    "USERNEV": "zoltan",
                                    "nev": "Fodor Zoltán",
                                    "SZUL_DAT": "1979-11-25",
                                    "(No column name)": "2016-09-05"
                                },
                                {
                                    "USERNEV": "zoltan4",
                                    "nev": "Barna Zoltán",
                                    "SZUL_DAT": "1986-05-20",
                                    "(No column name)": "2017-01-01"
                                },
                                {
                                    "USERNEV": "ZOLTANP",
                                    "nev": "Pintér Zoltán",
                                    "SZUL_DAT": "1977-06-07",
                                    "(No column name)": "2016-12-25"
                                },
                                {
                                    "USERNEV": "ZOLTANT",
                                    "nev": "Tóth Zoltán",
                                    "SZUL_DAT": "1985-12-14",
                                    "(No column name)": "2017-01-16"
                                },
                                {
                                    "USERNEV": "zsofi1",
                                    "nev": "Molnár Zsófi",
                                    "SZUL_DAT": "1983-11-17",
                                    "(No column name)": "2017-02-18"
                                },
                                {
                                    "USERNEV": "zsolt1",
                                    "nev": "Pulai Zsolt",
                                    "SZUL_DAT": "1988-05-27",
                                    "(No column name)": "2016-07-31"
                                },
                                {
                                    "USERNEV": "ZSOLTJ",
                                    "nev": "Józsa Zsolt",
                                    "SZUL_DAT": "1983-09-29",
                                    "(No column name)": "2016-10-01"
                                },
                                {
                                    "USERNEV": "zsuzsa",
                                    "nev": "Pusztai Zsuzsanna",
                                    "SZUL_DAT": "1980-09-17",
                                    "(No column name)": "2016-11-28"
                                },
                                {
                                    "USERNEV": "zsuzsa3",
                                    "nev": "Varsányi Zsuzsa",
                                    "SZUL_DAT": "1979-03-06",
                                    "(No column name)": "2016-10-27"
                                },
                                {
                                    "USERNEV": "zsuzsanna",
                                    "nev": "Barta Zsuzsanna",
                                    "SZUL_DAT": "1994-10-07",
                                    "(No column name)": "2017-01-16"
                                },
                                {
                                    "USERNEV": "ZSUZSAV",
                                    "nev": "Vajda Zsuzsa",
                                    "SZUL_DAT": "1976-12-11",
                                    "(No column name)": "2016-11-21"
                                }
                            ]
                        },
                        "text/html": [
                            "<table>",
                            "<tr><th>USERNEV</th><th>nev</th><th>SZUL_DAT</th><th>(No column name)</th><th>(No column name)</th></tr>",
                            "<tr><td>adam1</td><td>Kiss Ádám</td><td>1991-12-28</td><td>2016-05-28</td><td>2016-10-19</td></tr>",
                            "<tr><td>adam3</td><td>Barkóci Ádám</td><td>1970-06-07</td><td>2016-09-12</td><td>2017-02-06</td></tr>",
                            "<tr><td>adam4</td><td>Bieniek Ádám</td><td>1976-08-01</td><td>2016-08-28</td><td>2017-02-23</td></tr>",
                            "<tr><td>agnes</td><td>Lengyel Ágnes</td><td>1979-12-10</td><td>2016-05-09</td><td>2016-11-07</td></tr>",
                            "<tr><td>agnes3</td><td>Hartyánszky Ágnes</td><td>1967-04-11</td><td>2016-08-04</td><td>2017-02-16</td></tr>",
                            "<tr><td>AGNESH</td><td>Horváth Ágnes</td><td>1981-12-24</td><td>2016-04-10</td><td>2017-01-16</td></tr>",
                            "<tr><td>AGNESK</td><td>Kovács Ágnes</td><td>1988-10-02</td><td>2016-07-29</td><td>2016-12-17</td></tr>",
                            "<tr><td>akos</td><td>Bíró Ákos</td><td>1982-04-24</td><td>2016-05-18</td><td>2016-12-29</td></tr>",
                            "<tr><td>aladar</td><td>Dunai Aladár</td><td>1980-11-01</td><td>2016-05-17</td><td>2016-11-22</td></tr>",
                            "<tr><td>alexandra</td><td>Bagóczki Alexandra</td><td>1992-03-25</td><td>2016-05-21</td><td>2017-01-19</td></tr>",
                            "<tr><td>andi</td><td>Maródi Andrea</td><td>1968-05-07</td><td>2016-05-08</td><td>2017-01-13</td></tr>",
                            "<tr><td>andras2</td><td>Tóth András</td><td>1997-10-31</td><td>2016-05-30</td><td>2017-02-08</td></tr>",
                            "<tr><td>andras21</td><td>Molnár András</td><td>1977-11-16</td><td>2016-06-21</td><td>2017-01-28</td></tr>",
                            "<tr><td>andras3</td><td>Vígh András</td><td>1971-04-02</td><td>2016-05-01</td><td>2017-02-02</td></tr>",
                            "<tr><td>andras4</td><td>Back András</td><td>1984-04-07</td><td>2016-09-17</td><td>2017-01-09</td></tr>",
                            "<tr><td>andras41</td><td>Komjáti András</td><td>1997-10-25</td><td>2016-05-14</td><td>2016-11-23</td></tr>",
                            "<tr><td>ANDRASE</td><td>Erdei András</td><td>1997-05-29</td><td>2016-04-24</td><td>2016-11-29</td></tr>",
                            "<tr><td>ANDRASN</td><td>Nagy András</td><td>1980-09-05</td><td>2016-11-25</td><td>2016-11-25</td></tr>",
                            "<tr><td>andrea</td><td>Kiss Andrea</td><td>1993-03-25</td><td>2016-07-27</td><td>2017-02-09</td></tr>",
                            "<tr><td>andrea3</td><td>Szomor Andrea</td><td>1996-05-10</td><td>2016-11-19</td><td>2016-11-19</td></tr>",
                            "<tr><td>andrea4</td><td>Neizer Andrea</td><td>1981-05-17</td><td>2016-05-27</td><td>2017-01-22</td></tr>",
                            "<tr><td>ANDREAT</td><td>Tornyos Andrea</td><td>1986-11-14</td><td>2016-07-27</td><td>2016-10-08</td></tr>",
                            "<tr><td>anett3</td><td>Pivarcsi Anett</td><td>1967-01-03</td><td>2016-04-10</td><td>2016-10-16</td></tr>",
                            "<tr><td>aniko</td><td>Tóth Anikó</td><td>1973-06-03</td><td>2016-06-25</td><td>2017-02-23</td></tr>",
                            "<tr><td>aniko4</td><td>Böröcz Anikó</td><td>1978-03-26</td><td>2016-07-02</td><td>2016-10-16</td></tr>",
                            "<tr><td>ANIKOS</td><td>Simon Anikó</td><td>1988-12-14</td><td>2016-04-19</td><td>2016-11-10</td></tr>",
                            "<tr><td>anita</td><td>Hamvay-Kovács Anita</td><td>1971-03-20</td><td>2016-09-28</td><td>2017-02-20</td></tr>",
                            "<tr><td>annamaria1</td><td>Szűcs Annamária</td><td>1990-04-27</td><td>2016-06-06</td><td>2017-01-30</td></tr>",
                            "<tr><td>ANNAMARIAR</td><td>Regős Annamária</td><td>1977-09-26</td><td>2016-06-08</td><td>2017-02-16</td></tr>",
                            "<tr><td>aron2</td><td>Jakab Áron</td><td>1971-04-26</td><td>2016-04-11</td><td>2017-02-26</td></tr>",
                            "<tr><td>ARONK</td><td>Kelemen Áron</td><td>1989-08-10</td><td>2016-04-06</td><td>2017-02-21</td></tr>",
                            "<tr><td>arpad2</td><td>Ötvös Árpád</td><td>1990-06-08</td><td>2016-06-05</td><td>2017-02-18</td></tr>",
                            "<tr><td>ARPADH</td><td>Horváth Árpád</td><td>1990-05-18</td><td>2016-06-06</td><td>2017-02-16</td></tr>",
                            "<tr><td>ARPADM</td><td>Móricz Árpád</td><td>1986-04-20</td><td>2016-05-29</td><td>2017-02-12</td></tr>",
                            "<tr><td>attila</td><td>Csóti Attila</td><td>1979-12-25</td><td>2016-09-30</td><td>2016-12-22</td></tr>",
                            "<tr><td>attila1</td><td>Gulyás Attila</td><td>1982-08-16</td><td>2016-05-20</td><td>2017-01-23</td></tr>",
                            "<tr><td>attila4</td><td>Baróti Attila</td><td>1975-11-06</td><td>2016-08-18</td><td>2017-02-15</td></tr>",
                            "<tr><td>ATTILAO</td><td>Opra Attila</td><td>1995-05-08</td><td>2016-05-21</td><td>2017-02-22</td></tr>",
                            "<tr><td>balazs1</td><td>Bozsik Balázs</td><td>1992-11-03</td><td>2016-05-07</td><td>2017-02-12</td></tr>",
                            "<tr><td>balazs2</td><td>Szűcs Balázs</td><td>1984-10-31</td><td>2016-04-16</td><td>2017-02-27</td></tr>",
                            "<tr><td>balazs3</td><td>Bakódy Balázs</td><td>1986-09-09</td><td>2016-07-17</td><td>2017-01-20</td></tr>",
                            "<tr><td>balint</td><td>Horváth Bálint</td><td>1996-03-17</td><td>2016-04-22</td><td>2016-11-24</td></tr>",
                            "<tr><td>balint1</td><td>Molnár Bálint</td><td>1989-08-24</td><td>2016-06-07</td><td>2017-01-03</td></tr>",
                            "<tr><td>balint2</td><td>Vukasinovity Bálint</td><td>1997-09-03</td><td>2016-07-21</td><td>2016-12-04</td></tr>",
                            "<tr><td>balu</td><td>Endresz Bálint</td><td>1976-08-01</td><td>2016-08-06</td><td>2016-12-22</td></tr>",
                            "<tr><td>beata4</td><td>Bagi Beáta</td><td>1994-03-19</td><td>2016-04-20</td><td>2016-10-03</td></tr>",
                            "<tr><td>BEATRIXK</td><td>Kerényi Beatrix</td><td>1972-04-06</td><td>2016-06-10</td><td>2017-02-08</td></tr>",
                            "<tr><td>BEATRIXS</td><td>Szekendi Beatrix</td><td>1981-04-06</td><td>2016-04-18</td><td>2017-02-03</td></tr>",
                            "<tr><td>BELAF</td><td>Farkas Béla</td><td>1995-02-24</td><td>2016-07-27</td><td>2016-12-06</td></tr>",
                            "<tr><td>bence</td><td>Győrffy Bence</td><td>1987-07-09</td><td>2016-05-08</td><td>2017-02-05</td></tr>",
                            "<tr><td>BENCEB</td><td>Bajusz Bence</td><td>1973-06-21</td><td>2016-05-14</td><td>2017-02-12</td></tr>",
                            "<tr><td>bernadett1</td><td>Simon Bernadett</td><td>1984-10-13</td><td>2016-06-12</td><td>2017-02-24</td></tr>",
                            "<tr><td>bernadett2</td><td>Kovács Bernadett</td><td>1996-08-20</td><td>2016-05-01</td><td>2017-01-24</td></tr>",
                            "<tr><td>BERNADETTO</td><td>Orbán Bernadett</td><td>1987-12-07</td><td>2016-04-10</td><td>2017-01-28</td></tr>",
                            "<tr><td>bertalan</td><td>Csiger Bertalan</td><td>1977-10-15</td><td>2016-05-18</td><td>2017-02-20</td></tr>",
                            "<tr><td>brigitta</td><td>Székely Brigitta</td><td>1978-09-13</td><td>2016-05-30</td><td>2017-01-23</td></tr>",
                            "<tr><td>brigitta3</td><td>Pataki Brigitta</td><td>1991-05-23</td><td>2016-06-01</td><td>2017-02-09</td></tr>",
                            "<tr><td>csongor3</td><td>Nagymihály Csongor</td><td>1984-03-05</td><td>2016-05-01</td><td>2017-02-13</td></tr>",
                            "<tr><td>dani</td><td>Vörös Dániel</td><td>1986-10-14</td><td>2016-06-06</td><td>2017-02-25</td></tr>",
                            "<tr><td>daniel</td><td>Rácz Dániel</td><td>1978-11-28</td><td>2016-04-10</td><td>2017-02-20</td></tr>",
                            "<tr><td>daniel1</td><td>Keszler Dániel</td><td>1969-07-16</td><td>2016-04-10</td><td>2017-03-01</td></tr>",
                            "<tr><td>david</td><td>Ambrus Dávid</td><td>1974-02-11</td><td>2016-05-18</td><td>2017-01-18</td></tr>",
                            "<tr><td>david1</td><td>Sobják Dávid</td><td>1970-08-16</td><td>2016-09-20</td><td>2017-02-25</td></tr>",
                            "<tr><td>david4</td><td>Berta Dávid</td><td>1990-10-08</td><td>2017-02-16</td><td>2017-02-16</td></tr>",
                            "<tr><td>debora</td><td>Barna Debóra</td><td>1976-10-14</td><td>2016-06-22</td><td>2017-02-04</td></tr>",
                            "<tr><td>denes</td><td>Tömböly Dénes</td><td>1975-03-14</td><td>2016-05-27</td><td>2016-11-06</td></tr>",
                            "<tr><td>dora3</td><td>Sarodi Dóra</td><td>1995-05-18</td><td>2016-08-16</td><td>2016-11-22</td></tr>",
                            "<tr><td>edit</td><td>Bittmann Edit</td><td>1984-04-20</td><td>2016-07-14</td><td>2017-02-08</td></tr>",
                            "<tr><td>emese</td><td>Kuruc Emese</td><td>1989-08-10</td><td>2016-07-22</td><td>2017-01-30</td></tr>",
                            "<tr><td>eszter</td><td>Molnár Eszter</td><td>1987-05-10</td><td>2016-08-12</td><td>2016-12-23</td></tr>",
                            "<tr><td>eszter2</td><td>Balogh Eszter</td><td>1998-01-31</td><td>2016-06-30</td><td>2016-12-29</td></tr>",
                            "<tr><td>eszter4</td><td>Fülöp Eszter</td><td>1993-06-28</td><td>2017-01-05</td><td>2017-02-26</td></tr>",
                            "<tr><td>ESZTERE</td><td>Érsek Eszter</td><td>1978-08-28</td><td>2016-05-30</td><td>2017-02-10</td></tr>",
                            "<tr><td>eva</td><td>Enyedi Éva</td><td>1967-06-30</td><td>2016-10-06</td><td>2017-01-14</td></tr>",
                            "<tr><td>eva2</td><td>Perlinger Éva</td><td>1971-08-19</td><td>2016-09-02</td><td>2017-01-06</td></tr>",
                            "<tr><td>EVAV</td><td>Viktor Éva</td><td>1980-12-26</td><td>2016-05-01</td><td>2017-02-04</td></tr>",
                            "<tr><td>ferenc1</td><td>Orosz Ferenc</td><td>1983-10-08</td><td>2016-05-08</td><td>2016-11-07</td></tr>",
                            "<tr><td>fruzsina4</td><td>Frank Fruzsina</td><td>1996-08-16</td><td>2016-06-02</td><td>2017-01-22</td></tr>",
                            "<tr><td>gabor1</td><td>Köves Gábor</td><td>1973-07-15</td><td>2016-06-20</td><td>2016-11-19</td></tr>",
                            "<tr><td>gabor4</td><td>Telek Gábor</td><td>1987-03-15</td><td>2016-04-26</td><td>2016-11-07</td></tr>",
                            "<tr><td>gabriella1</td><td>Nagy Gabriella</td><td>1982-11-01</td><td>2016-04-21</td><td>2017-02-21</td></tr>",
                            "<tr><td>gabriella10</td><td>Vida Gabriella</td><td>1969-06-18</td><td>2016-10-01</td><td>2016-10-01</td></tr>",
                            "<tr><td>georgij</td><td>Nyíri Georgij</td><td>1983-02-23</td><td>2016-06-16</td><td>2016-09-18</td></tr>",
                            "<tr><td>gusztav</td><td>Bárci Gusztáv</td><td>1967-02-25</td><td>2016-05-06</td><td>2017-02-23</td></tr>",
                            "<tr><td>GYONGYIK</td><td>Kornseé Gyöngyi</td><td>1974-06-07</td><td>2016-06-02</td><td>2017-01-22</td></tr>",
                            "<tr><td>GYORGYO</td><td>Oroszi György</td><td>1980-03-23</td><td>2016-05-27</td><td>2017-02-24</td></tr>",
                            "<tr><td>henrik3</td><td>Nádudvari Henrik</td><td>1986-12-05</td><td>2016-08-24</td><td>2017-01-27</td></tr>",
                            "<tr><td>IBOLYAA</td><td>Andor Ibolya</td><td>1983-11-27</td><td>2016-08-29</td><td>2017-01-17</td></tr>",
                            "<tr><td>ilona3</td><td>Bosnyák Ilona</td><td>1990-08-06</td><td>2016-07-31</td><td>2016-12-25</td></tr>",
                            "<tr><td>imre</td><td>Búza Imre</td><td>1988-09-30</td><td>2016-09-17</td><td>2016-10-28</td></tr>",
                            "<tr><td>imre1</td><td>Papp Imre</td><td>1976-06-25</td><td>2016-06-23</td><td>2017-02-05</td></tr>",
                            "<tr><td>istvan</td><td>Soós István</td><td>1986-06-28</td><td>2016-10-07</td><td>2017-01-02</td></tr>",
                            "<tr><td>istvan1</td><td>Vizi István</td><td>1997-12-01</td><td>2016-04-16</td><td>2017-02-07</td></tr>",
                            "<tr><td>ISTVANV</td><td>Varga István</td><td>1989-04-09</td><td>2016-07-01</td><td>2016-09-29</td></tr>",
                            "<tr><td>janos3</td><td>Harangozó János</td><td>1967-11-02</td><td>2016-06-04</td><td>2017-02-12</td></tr>",
                            "<tr><td>JANOSG</td><td>Giliga János</td><td>1975-01-03</td><td>2016-05-09</td><td>2017-01-31</td></tr>",
                            "<tr><td>JANOSP</td><td>Pálinkás János</td><td>1984-10-12</td><td>2016-07-04</td><td>2016-12-18</td></tr>",
                            "<tr><td>jozsef</td><td>Gergely József</td><td>1985-11-01</td><td>2016-09-13</td><td>2016-12-06</td></tr>",
                            "<tr><td>jozsef2</td><td>Vajda József</td><td>1978-09-04</td><td>2016-07-06</td><td>2016-11-25</td></tr>",
                            "<tr><td>JOZSEFG</td><td>Gyuris József</td><td>1975-05-26</td><td>2016-05-02</td><td>2017-02-24</td></tr>",
                            "<tr><td>JUDITH</td><td>Hídasi Judit</td><td>1997-07-12</td><td>2016-06-06</td><td>2016-12-19</td></tr>",
                            "<tr><td>julia</td><td>Tóth Júlia</td><td>1993-03-02</td><td>2016-04-21</td><td>2017-02-27</td></tr>",
                            "<tr><td>julia4</td><td>Nagy Júlia</td><td>1985-08-11</td><td>2016-11-07</td><td>2017-02-04</td></tr>",
                            "<tr><td>julianna4</td><td>Szabó Julianna</td><td>1990-09-29</td><td>2016-07-20</td><td>2016-11-27</td></tr>",
                            "<tr><td>kata</td><td>Gondos Katalin</td><td>1968-06-22</td><td>2016-04-10</td><td>2017-01-15</td></tr>",
                            "<tr><td>katalin</td><td>Horváth Katalin</td><td>1968-01-01</td><td>2016-04-10</td><td>2017-02-24</td></tr>",
                            "<tr><td>katalin4</td><td>Kertész Katalin</td><td>1986-04-13</td><td>2016-07-01</td><td>2017-01-24</td></tr>",
                            "<tr><td>kati</td><td>Zatykó Katalin</td><td>1995-05-01</td><td>2016-06-06</td><td>2016-10-30</td></tr>",
                            "<tr><td>katka</td><td>Kovács Katalin</td><td>1975-03-31</td><td>2016-04-10</td><td>2017-01-19</td></tr>",
                            "<tr><td>klaudia2</td><td>Bakó Klaudia</td><td>1982-04-16</td><td>2016-06-06</td><td>2016-10-02</td></tr>",
                            "<tr><td>kornel4</td><td>Lukács Kornél</td><td>1975-09-30</td><td>2016-05-08</td><td>2016-09-23</td></tr>",
                            "<tr><td>kristof4</td><td>Poprádi Kristóf</td><td>1984-01-15</td><td>2016-04-08</td><td>2016-09-30</td></tr>",
                            "<tr><td>kriszti</td><td>Horváth Krisztina</td><td>1978-06-12</td><td>2016-05-19</td><td>2017-03-03</td></tr>",
                            "<tr><td>krisztian4</td><td>Czérna Krisztián</td><td>1970-08-01</td><td>2016-06-03</td><td>2017-02-23</td></tr>",
                            "<tr><td>KRISZTIANM</td><td>Mogyródi Krisztián</td><td>1968-05-27</td><td>2016-04-09</td><td>2017-01-16</td></tr>",
                            "<tr><td>krisztina</td><td>Szedlár Krisztina</td><td>1979-05-10</td><td>2016-05-21</td><td>2017-02-16</td></tr>",
                            "<tr><td>krisztina1</td><td>Bori Krisztina</td><td>1969-10-13</td><td>2016-04-28</td><td>2017-01-21</td></tr>",
                            "<tr><td>KRISZTINAG</td><td>Gyárfás Krisztina</td><td>1987-09-19</td><td>2016-04-23</td><td>2017-01-25</td></tr>",
                            "<tr><td>lajos</td><td>Kiss Lajos</td><td>1978-10-31</td><td>2016-07-18</td><td>2017-02-12</td></tr>",
                            "<tr><td>lala</td><td>Nagymihály Lajos</td><td>1997-02-24</td><td>2016-06-16</td><td>2017-01-17</td></tr>",
                            "<tr><td>laszlo1</td><td>Farkas László</td><td>1967-10-30</td><td>2016-09-23</td><td>2016-09-23</td></tr>",
                            "<tr><td>laszlo2</td><td>Móra László</td><td>1975-02-19</td><td>2016-04-06</td><td>2016-11-25</td></tr>",
                            "<tr><td>LASZLOA</td><td>Antal László</td><td>1969-06-29</td><td>2016-06-03</td><td>2017-02-08</td></tr>",
                            "<tr><td>LASZLON</td><td>Nagy László</td><td>1969-04-12</td><td>2016-06-03</td><td>2017-02-18</td></tr>",
                            "<tr><td>maria1</td><td>Baráth Mária</td><td>1995-11-19</td><td>2016-05-13</td><td>2017-02-24</td></tr>",
                            "<tr><td>mark</td><td>Kispál Márk</td><td>1996-01-23</td><td>2016-04-19</td><td>2016-11-19</td></tr>",
                            "<tr><td>MARKH</td><td>Horváth Márk</td><td>1997-09-23</td><td>2016-09-14</td><td>2017-01-22</td></tr>",
                            "<tr><td>marton</td><td>Kalacsi Márton</td><td>1989-06-24</td><td>2016-04-27</td><td>2017-03-02</td></tr>",
                            "<tr><td>MATEK</td><td>Koza Máté</td><td>1997-02-28</td><td>2016-08-17</td><td>2017-01-16</td></tr>",
                            "<tr><td>matyas2</td><td>Botka Mátyás</td><td>1972-07-07</td><td>2016-07-13</td><td>2016-12-09</td></tr>",
                            "<tr><td>MATYASS</td><td>Szilágyi Mátyás</td><td>1975-03-22</td><td>2016-05-10</td><td>2017-01-09</td></tr>",
                            "<tr><td>MIHALYJ</td><td>Juhász Mihály</td><td>1979-10-12</td><td>2016-05-30</td><td>2017-02-06</td></tr>",
                            "<tr><td>miklos2</td><td>Gondos Miklós</td><td>1995-10-07</td><td>2016-04-19</td><td>2016-11-16</td></tr>",
                            "<tr><td>MIKLOSB</td><td>Balla Miklós</td><td>1979-02-16</td><td>2016-06-26</td><td>2016-12-05</td></tr>",
                            "<tr><td>MONIKAM</td><td>Mohos Mónika</td><td>1974-10-01</td><td>2016-04-29</td><td>2017-02-23</td></tr>",
                            "<tr><td>NANDORF</td><td>Fő Nándor</td><td>1968-11-12</td><td>2016-04-06</td><td>2017-02-05</td></tr>",
                            "<tr><td>nikolett3</td><td>Horváth Nikolett</td><td>1981-09-29</td><td>2016-05-24</td><td>2016-10-22</td></tr>",
                            "<tr><td>nikoletta4</td><td>Kő Nikoletta</td><td>1972-01-10</td><td>2016-04-08</td><td>2017-02-01</td></tr>",
                            "<tr><td>NIKOLETTAT</td><td>Tatár Nikoletta</td><td>1997-10-19</td><td>2016-05-22</td><td>2016-09-21</td></tr>",
                            "<tr><td>norbert</td><td>Szűcs Norbert</td><td>1969-07-17</td><td>2016-07-08</td><td>2017-02-26</td></tr>",
                            "<tr><td>norbert2</td><td>Hegedűs Norbert</td><td>1991-07-17</td><td>2016-04-19</td><td>2017-01-29</td></tr>",
                            "<tr><td>norbert4</td><td>Mile Norbert</td><td>1983-06-15</td><td>2016-04-10</td><td>2017-03-03</td></tr>",
                            "<tr><td>norbert5</td><td>Béres Norbert</td><td>1975-07-27</td><td>2016-06-24</td><td>2016-11-05</td></tr>",
                            "<tr><td>pal</td><td>Barabás Pál</td><td>1968-02-06</td><td>2016-08-14</td><td>2017-02-20</td></tr>",
                            "<tr><td>peter1</td><td>Kozma Péter</td><td>1976-03-18</td><td>2016-07-14</td><td>2017-02-28</td></tr>",
                            "<tr><td>peter2</td><td>Bozsó Péter</td><td>1976-01-26</td><td>2016-07-03</td><td>2016-11-15</td></tr>",
                            "<tr><td>peter3</td><td>Szalai Péter</td><td>1983-07-18</td><td>2016-06-30</td><td>2017-02-21</td></tr>",
                            "<tr><td>peter4</td><td>Bíró Péter</td><td>1985-09-01</td><td>2016-04-12</td><td>2017-02-05</td></tr>",
                            "<tr><td>PETERB</td><td>Berendi Péter</td><td>1969-01-01</td><td>2016-04-06</td><td>2016-11-17</td></tr>",
                            "<tr><td>polla</td><td>Palágyi Polla</td><td>1994-02-04</td><td>2016-04-17</td><td>2017-02-11</td></tr>",
                            "<tr><td>rajmond4</td><td>Rácz Rajmond</td><td>1993-09-25</td><td>2016-09-05</td><td>2016-11-16</td></tr>",
                            "<tr><td>reka4</td><td>Szikszai Réka</td><td>1969-11-27</td><td>2016-07-27</td><td>2017-02-26</td></tr>",
                            "<tr><td>RENATAK</td><td>Kardos Renáta</td><td>1988-05-17</td><td>2016-10-27</td><td>2017-03-01</td></tr>",
                            "<tr><td>RENATAS</td><td>Szirmai Renáta</td><td>1991-03-26</td><td>2016-05-04</td><td>2017-02-14</td></tr>",
                            "<tr><td>robert2</td><td>Patay Róbert</td><td>1977-01-08</td><td>2016-05-15</td><td>2016-12-17</td></tr>",
                            "<tr><td>ROBERTI</td><td>Iván Róbert</td><td>1967-07-02</td><td>2016-07-12</td><td>2017-02-17</td></tr>",
                            "<tr><td>ROBERTP</td><td>Pásztor Róbert</td><td>1972-05-16</td><td>2016-07-30</td><td>2016-09-08</td></tr>",
                            "<tr><td>roland</td><td>Tóth Roland</td><td>1968-03-21</td><td>2016-06-09</td><td>2016-11-19</td></tr>",
                            "<tr><td>roland1</td><td>Ferencz Roland</td><td>1985-12-31</td><td>2016-11-05</td><td>2017-01-16</td></tr>",
                            "<tr><td>roza2</td><td>Bucskó Róza</td><td>1988-12-26</td><td>2016-09-10</td><td>2017-02-18</td></tr>",
                            "<tr><td>sandor</td><td>Karasz Sándor</td><td>1970-01-27</td><td>2016-07-04</td><td>2016-09-19</td></tr>",
                            "<tr><td>sandor3</td><td>Farkas Sándor</td><td>1989-01-27</td><td>2016-05-12</td><td>2016-11-10</td></tr>",
                            "<tr><td>sandor4</td><td>Nagy Sándor</td><td>1997-06-11</td><td>2016-10-15</td><td>2017-01-22</td></tr>",
                            "<tr><td>sara</td><td>Farkas Sára</td><td>1973-04-05</td><td>2016-05-28</td><td>2016-12-25</td></tr>",
                            "<tr><td>SEBASTIANF</td><td>Foltényi Sebastián</td><td>1992-09-09</td><td>2016-04-06</td><td>2016-09-17</td></tr>",
                            "<tr><td>sebestyen</td><td>Rab Sebestyén</td><td>1992-03-03</td><td>2016-04-07</td><td>2016-10-26</td></tr>",
                            "<tr><td>szabolcs</td><td>Bodor Szabolcs</td><td>1990-07-16</td><td>2016-12-05</td><td>2016-12-05</td></tr>",
                            "<tr><td>SZABOLCSM</td><td>Miklós Szabolcs</td><td>1980-08-11</td><td>2016-06-18</td><td>2017-02-04</td></tr>",
                            "<tr><td>SZILARDS</td><td>Szalai Szilárd</td><td>1967-09-28</td><td>2016-04-23</td><td>2017-02-08</td></tr>",
                            "<tr><td>szilvia1</td><td>Tari Szilvia</td><td>1971-03-09</td><td>2016-05-14</td><td>2017-01-28</td></tr>",
                            "<tr><td>tamara2</td><td>Miklós Tamara</td><td>1980-08-11</td><td>2016-08-12</td><td>2016-11-15</td></tr>",
                            "<tr><td>tamas</td><td>Antal Tamás</td><td>1984-09-05</td><td>2016-05-17</td><td>2017-02-14</td></tr>",
                            "<tr><td>TAMASF</td><td>Fényes Tamás</td><td>1997-11-06</td><td>2016-05-03</td><td>2017-02-16</td></tr>",
                            "<tr><td>tibor</td><td>Gombos Tibor</td><td>1993-11-28</td><td>2016-10-09</td><td>2016-11-05</td></tr>",
                            "<tr><td>tibor2</td><td>Dániel Tibor</td><td>1985-02-02</td><td>2016-10-20</td><td>2016-10-20</td></tr>",
                            "<tr><td>tihamer</td><td>Kazy Tihamér</td><td>1991-07-05</td><td>2016-05-30</td><td>2016-12-25</td></tr>",
                            "<tr><td>timea</td><td>Papós Tímea</td><td>1996-01-08</td><td>2016-12-26</td><td>2016-12-26</td></tr>",
                            "<tr><td>timea2</td><td>Dusha Tímea</td><td>1975-08-22</td><td>2016-06-06</td><td>2016-12-14</td></tr>",
                            "<tr><td>tunde</td><td>Turcsik Tünde</td><td>1974-02-12</td><td>2016-06-03</td><td>2017-01-03</td></tr>",
                            "<tr><td>valentin</td><td>Feró Valentin</td><td>1986-01-09</td><td>2016-05-24</td><td>2016-12-01</td></tr>",
                            "<tr><td>veronika4</td><td>Tankó Veronika</td><td>1983-08-28</td><td>2016-05-30</td><td>2017-02-03</td></tr>",
                            "<tr><td>VIKTORIAU</td><td>Urbán Viktoria</td><td>1996-05-03</td><td>2016-04-30</td><td>2016-10-26</td></tr>",
                            "<tr><td>VIKTORK</td><td>Keresztúri Viktor</td><td>1989-05-05</td><td>2016-05-30</td><td>2016-06-06</td></tr>",
                            "<tr><td>vivien3</td><td>Boros Vivien</td><td>1991-07-01</td><td>2016-05-02</td><td>2016-12-24</td></tr>",
                            "<tr><td>zoltan</td><td>Fodor Zoltán</td><td>1979-11-25</td><td>2016-08-24</td><td>2016-09-05</td></tr>",
                            "<tr><td>zoltan4</td><td>Barna Zoltán</td><td>1986-05-20</td><td>2016-05-12</td><td>2017-01-01</td></tr>",
                            "<tr><td>ZOLTANP</td><td>Pintér Zoltán</td><td>1977-06-07</td><td>2016-06-05</td><td>2016-12-25</td></tr>",
                            "<tr><td>ZOLTANT</td><td>Tóth Zoltán</td><td>1985-12-14</td><td>2016-05-01</td><td>2017-01-16</td></tr>",
                            "<tr><td>zsofi1</td><td>Molnár Zsófi</td><td>1983-11-17</td><td>2016-06-16</td><td>2017-02-18</td></tr>",
                            "<tr><td>zsolt1</td><td>Pulai Zsolt</td><td>1988-05-27</td><td>2016-04-14</td><td>2016-07-31</td></tr>",
                            "<tr><td>ZSOLTJ</td><td>Józsa Zsolt</td><td>1983-09-29</td><td>2016-04-24</td><td>2016-10-01</td></tr>",
                            "<tr><td>zsuzsa</td><td>Pusztai Zsuzsanna</td><td>1980-09-17</td><td>2016-07-24</td><td>2016-11-28</td></tr>",
                            "<tr><td>zsuzsa3</td><td>Varsányi Zsuzsa</td><td>1979-03-06</td><td>2016-07-30</td><td>2016-10-27</td></tr>",
                            "<tr><td>zsuzsanna</td><td>Barta Zsuzsanna</td><td>1994-10-07</td><td>2016-05-17</td><td>2017-01-16</td></tr>",
                            "<tr><td>ZSUZSAV</td><td>Vajda Zsuzsa</td><td>1976-12-11</td><td>2016-04-14</td><td>2016-11-21</td></tr>",
                            "</table>"
                        ]
                    }
                }
            ],
            "execution_count": 16
        },
        {
            "cell_type": "markdown",
            "source": [
                "Készítsen lekérdezést, amely megjeleníti, hogy szálláshelyenként, azon belül a pótágyak száma szerint hány főre foglaltak összesen (felnőtt + gyermek)!\n",
                "\n",
                "- Jelenjenek meg a részösszegek és a végösszeg is!"
            ],
            "metadata": {
                "azdata_cell_guid": "e430074c-371f-4b6c-ac26-720d8fdbe399"
            },
            "attachments": {}
        },
        {
            "cell_type": "code",
            "source": [
                "SELECT IIF(szall.SZALLAS_ID IS NULL, 'Vegosszeg', CAST((szall.SZALLAS_ID) AS NVARCHAR(10)) ),\r\n",
                "IIF(POTAGY IS NULL, 'Részösszeg', CAST(POTAGY AS NVARCHAR(10))), SUM(f.FELNOTT_SZAM+f.GYERMEK_SZAM)\r\n",
                "\r\n",
                "FROM szallashely szall JOIN Szoba sz ON szall.SZALLAS_ID = sz.SZALLAS_FK\r\n",
                "JOIN Foglalas f ON f.SZOBA_FK= sz.SZOBA_ID\r\n",
                "GROUP BY ROLLUP (szall.SZALLAS_ID, POTAGY)"
            ],
            "metadata": {
                "azdata_cell_guid": "49c508c6-cde0-41ed-b0a8-e1f2181ea230",
                "language": "sql"
            },
            "outputs": [
                {
                    "output_type": "display_data",
                    "data": {
                        "text/html": "(44 rows affected)"
                    },
                    "metadata": {}
                },
                {
                    "output_type": "display_data",
                    "data": {
                        "text/html": "Total execution time: 00:00:00.012"
                    },
                    "metadata": {}
                },
                {
                    "output_type": "execute_result",
                    "metadata": {},
                    "execution_count": 11,
                    "data": {
                        "application/vnd.dataresource+json": {
                            "schema": {
                                "fields": [
                                    {
                                        "name": "(No column name)"
                                    },
                                    {
                                        "name": "(No column name)"
                                    },
                                    {
                                        "name": "(No column name)"
                                    }
                                ]
                            },
                            "data": [
                                {
                                    "(No column name)": "67"
                                },
                                {
                                    "(No column name)": "99"
                                },
                                {
                                    "(No column name)": "166"
                                },
                                {
                                    "(No column name)": "10"
                                },
                                {
                                    "(No column name)": "31"
                                },
                                {
                                    "(No column name)": "11"
                                },
                                {
                                    "(No column name)": "52"
                                },
                                {
                                    "(No column name)": "18"
                                },
                                {
                                    "(No column name)": "52"
                                },
                                {
                                    "(No column name)": "36"
                                },
                                {
                                    "(No column name)": "106"
                                },
                                {
                                    "(No column name)": "45"
                                },
                                {
                                    "(No column name)": "99"
                                },
                                {
                                    "(No column name)": "40"
                                },
                                {
                                    "(No column name)": "184"
                                },
                                {
                                    "(No column name)": "113"
                                },
                                {
                                    "(No column name)": "14"
                                },
                                {
                                    "(No column name)": "127"
                                },
                                {
                                    "(No column name)": "168"
                                },
                                {
                                    "(No column name)": "224"
                                },
                                {
                                    "(No column name)": "28"
                                },
                                {
                                    "(No column name)": "420"
                                },
                                {
                                    "(No column name)": "64"
                                },
                                {
                                    "(No column name)": "19"
                                },
                                {
                                    "(No column name)": "83"
                                },
                                {
                                    "(No column name)": "183"
                                },
                                {
                                    "(No column name)": "258"
                                },
                                {
                                    "(No column name)": "63"
                                },
                                {
                                    "(No column name)": "504"
                                },
                                {
                                    "(No column name)": "66"
                                },
                                {
                                    "(No column name)": "66"
                                },
                                {
                                    "(No column name)": "105"
                                },
                                {
                                    "(No column name)": "150"
                                },
                                {
                                    "(No column name)": "36"
                                },
                                {
                                    "(No column name)": "291"
                                },
                                {
                                    "(No column name)": "31"
                                },
                                {
                                    "(No column name)": "17"
                                },
                                {
                                    "(No column name)": "15"
                                },
                                {
                                    "(No column name)": "63"
                                },
                                {
                                    "(No column name)": "216"
                                },
                                {
                                    "(No column name)": "93"
                                },
                                {
                                    "(No column name)": "119"
                                },
                                {
                                    "(No column name)": "428"
                                },
                                {
                                    "(No column name)": "2490"
                                }
                            ]
                        },
                        "text/html": [
                            "<table>",
                            "<tr><th>(No column name)</th><th>(No column name)</th><th>(No column name)</th></tr>",
                            "<tr><td>1</td><td>0</td><td>67</td></tr>",
                            "<tr><td>1</td><td>1</td><td>99</td></tr>",
                            "<tr><td>1</td><td>Részösszeg</td><td>166</td></tr>",
                            "<tr><td>2</td><td>0</td><td>10</td></tr>",
                            "<tr><td>2</td><td>1</td><td>31</td></tr>",
                            "<tr><td>2</td><td>2</td><td>11</td></tr>",
                            "<tr><td>2</td><td>Részösszeg</td><td>52</td></tr>",
                            "<tr><td>3</td><td>0</td><td>18</td></tr>",
                            "<tr><td>3</td><td>1</td><td>52</td></tr>",
                            "<tr><td>3</td><td>2</td><td>36</td></tr>",
                            "<tr><td>3</td><td>Részösszeg</td><td>106</td></tr>",
                            "<tr><td>4</td><td>0</td><td>45</td></tr>",
                            "<tr><td>4</td><td>1</td><td>99</td></tr>",
                            "<tr><td>4</td><td>2</td><td>40</td></tr>",
                            "<tr><td>4</td><td>Részösszeg</td><td>184</td></tr>",
                            "<tr><td>5</td><td>0</td><td>113</td></tr>",
                            "<tr><td>5</td><td>1</td><td>14</td></tr>",
                            "<tr><td>5</td><td>Részösszeg</td><td>127</td></tr>",
                            "<tr><td>6</td><td>0</td><td>168</td></tr>",
                            "<tr><td>6</td><td>1</td><td>224</td></tr>",
                            "<tr><td>6</td><td>2</td><td>28</td></tr>",
                            "<tr><td>6</td><td>Részösszeg</td><td>420</td></tr>",
                            "<tr><td>7</td><td>0</td><td>64</td></tr>",
                            "<tr><td>7</td><td>1</td><td>19</td></tr>",
                            "<tr><td>7</td><td>Részösszeg</td><td>83</td></tr>",
                            "<tr><td>8</td><td>0</td><td>183</td></tr>",
                            "<tr><td>8</td><td>1</td><td>258</td></tr>",
                            "<tr><td>8</td><td>2</td><td>63</td></tr>",
                            "<tr><td>8</td><td>Részösszeg</td><td>504</td></tr>",
                            "<tr><td>9</td><td>0</td><td>66</td></tr>",
                            "<tr><td>9</td><td>Részösszeg</td><td>66</td></tr>",
                            "<tr><td>10</td><td>0</td><td>105</td></tr>",
                            "<tr><td>10</td><td>1</td><td>150</td></tr>",
                            "<tr><td>10</td><td>2</td><td>36</td></tr>",
                            "<tr><td>10</td><td>Részösszeg</td><td>291</td></tr>",
                            "<tr><td>11</td><td>0</td><td>31</td></tr>",
                            "<tr><td>11</td><td>1</td><td>17</td></tr>",
                            "<tr><td>11</td><td>2</td><td>15</td></tr>",
                            "<tr><td>11</td><td>Részösszeg</td><td>63</td></tr>",
                            "<tr><td>12</td><td>0</td><td>216</td></tr>",
                            "<tr><td>12</td><td>1</td><td>93</td></tr>",
                            "<tr><td>12</td><td>2</td><td>119</td></tr>",
                            "<tr><td>12</td><td>Részösszeg</td><td>428</td></tr>",
                            "<tr><td>Vegosszeg</td><td>Részösszeg</td><td>2490</td></tr>",
                            "</table>"
                        ]
                    }
                }
            ],
            "execution_count": 11
        },
        {
            "cell_type": "markdown",
            "source": [
                "Készítsünk ideiglenes táblát #MASKED\\_GUEST néven, ahol \n",
                "\n",
                "- a tábla felépítése megegyezik a vendég tábláéval, DE\n",
                "- a vendégek nevének csak az első 2, és az utolsó 3 karaktere jelenjen meg, közötte X-ek legyenek!"
            ],
            "metadata": {
                "azdata_cell_guid": "e33ee5a2-1b5f-4173-b4ed-da18d6d721f0"
            },
            "attachments": {}
        },
        {
            "cell_type": "code",
            "source": [
                "CREATE TABLE #MASKED_GUEST(\r\n",
                "\t[USERNEV] [nvarchar](20) PRIMARY KEY,\r\n",
                "\t[NEV] [nvarchar](50) MASKED WITH (FUNCTION = 'partial(2, \"XXXX\", 3)'),\r\n",
                "\t[EMAIL] [nvarchar](60),\r\n",
                "\t[SZAML_CIM] [nvarchar](100),\r\n",
                "\t[SZUL_DAT] [date] \r\n",
                ")"
            ],
            "metadata": {
                "azdata_cell_guid": "2fa2545c-bd2f-46b0-8fd9-7d3b1a8d84c2",
                "language": "sql"
            },
            "outputs": [
                {
                    "output_type": "display_data",
                    "data": {
                        "text/html": "Commands completed successfully."
                    },
                    "metadata": {}
                },
                {
                    "output_type": "display_data",
                    "data": {
                        "text/html": "Total execution time: 00:00:00.006"
                    },
                    "metadata": {}
                }
            ],
            "execution_count": 17
        },
        {
            "cell_type": "markdown",
            "source": [
                "Valósítsa meg REDIS-ben a következő táblákat:\n",
                "\n",
                "- <span style=\"box-sizing: border-box; font-size: 0.9375rem;\">IRO(ID, nev, nemzetiseg)</span>\n",
                "- KONYV(ID, cim, mufaj, IRO\\_ID)\n",
                "\n",
                "Vigyen fel táblánként legalább 2-2 sornyi adatot!"
            ],
            "metadata": {
                "azdata_cell_guid": "44bd35ef-72b4-4455-a052-12c41f633160"
            },
            "attachments": {}
        },
        {
            "cell_type": "code",
            "source": [
                " hset IRO:1 ID 1 nev \"Janos Bacsi\" nemzetiseg \"Magyar\"\r\n",
                "hset IRO:2 ID 2 nev \"John Smith\" nemzetiseg \"Amerikai\"\r\n",
                "hset KONYV:1 ID 1 cim \"Jo konyv\" mufaj \"romanikus\" IRO_ID 1\r\n",
                "hset KONYV:2 ID 1 cim \"Konyvmoly\" mufaj \"krimi\" IRO_ID 2"
            ],
            "metadata": {
                "azdata_cell_guid": "ef0c5186-aab8-46e6-8d5b-a28ec591fddd",
                "language": "sql"
            },
            "outputs": [],
            "execution_count": null
        },
        {
            "cell_type": "markdown",
            "source": [
                "Cassandra CQL Shellben hozza létre a következő táblát:\n",
                "\n",
                "STUDENT(ID, Nev, Teljesitett\\_felevek, Eredmenyek, Nyelvtudas)\n",
                "\n",
                "- Az ID legyen az elsődleges kulcs\n",
                "- A Teljesitett félévek legyen LIST, tartalma egész számok, pl: 1, 2, 3\n",
                "- Az Eredmenyek legyen MAP, tartalma, hogy melyik félévben mennyi volt az átlag, pl: 1: 3,00, 2: 4.55, 3: 4,10\n",
                "- A Nyelvtudas legyen SET, tartalma a nyelvek megnevezése\n",
                "\n",
                "Vigyen fel legalább 2 rekordot!"
            ],
            "metadata": {
                "azdata_cell_guid": "3e357405-620c-4ba7-8712-acb7bec0ffe0"
            },
            "attachments": {}
        },
        {
            "cell_type": "code",
            "source": [
                "Create table Student (\r\n",
                "       ... id int PRIMARY KEY,\r\n",
                "       ... Nev text,\r\n",
                "       ... Teljesitett_felevek list<int>,\r\n",
                "       ... Eredmenyek map<int, float>,\r\n",
                "       ... Nyelvtudas set<text>)\r\n",
                "       ... ;\r\n",
                "INSERT INTO STUDENT (id, Nev, Teljesitett_felevek, Eredmenyek, Nyelvtudas)  VALUES (1, 'Kis Mari', [1, 2, 3],      {1: 3.00, 2: 4.55, 3: 4.10},      {'angol', 'német'});\r\n",
                "INSERT INTO STUDENT (id, Nev, Teljesitett_felevek, Eredmenyek, Nyelvtudas)  VALUES (2, 'Nagy Anna', [1],      {1: 5.00, 2: 4.05, 3: 4.00},      {'francia', 'finn'});\r\n",
                ""
            ],
            "metadata": {
                "azdata_cell_guid": "d487cdf5-0b90-458a-9cce-647e02b19989",
                "language": "sql"
            },
            "outputs": [],
            "execution_count": null
        },
        {
            "cell_type": "markdown",
            "source": [
                "A Neo4j Sandbox-ban vagy a Desktopban jelenítsük meg azon személyeket, akik egy filmben szerepeltek Tom Hanks-sel.\n",
                "\n",
                "- Egy szereplő neve csak egyszer jelenjen meg\n",
                "- Tom Hanks ne legyen benne a listában"
            ],
            "metadata": {
                "azdata_cell_guid": "44700ca7-82d1-4731-b184-65e86efce5c2"
            },
            "attachments": {}
        },
        {
            "cell_type": "code",
            "source": [
                "MATCH (p:Person)-[:ACTED_IN]->(m:Movie)<-[:ACTED_IN]-(coactor:Person)\r\n",
                "WHERE p.name = 'Tom Hanks' AND coactor.name <> 'Tom Hanks'\r\n",
                "RETURN DISTINCT coactor.name AS Coactors\r\n",
                "ORDER BY coactor.name"
            ],
            "metadata": {
                "azdata_cell_guid": "1cfba4ec-75f4-402f-b0b0-38561cc418e1",
                "language": "sql"
            },
            "outputs": [],
            "execution_count": null
        }
    ]
}