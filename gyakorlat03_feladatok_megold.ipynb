{
    "metadata": {
        "kernelspec": {
            "name": "SQL",
            "display_name": "SQL",
            "language": "sql"
        },
        "language_info": {
            "name": "sql",
            "version": ""
        },
        "extensions": {
            "azuredatastudio": {
                "version": 1,
                "views": []
            }
        }
    },
    "nbformat_minor": 2,
    "nbformat": 4,
    "cells": [
        {
            "cell_type": "markdown",
            "source": [
                "**Az első 5 feladat ismétlés (többtáblás lekérdezések) a tanulmányi adatbázisból**\n",
                "1. Készítsünk listát arról, hogy melyik óra melyik teremben van!\n",
                "    \n",
                "    1. Jelenítsük meg az óra azonosítóját és a terem nevét!\n",
                "    2. A listát szűrjük a 3 karakter hosszú, \\[100;199\\] zárt intervallumba eső termekre!(Feltesszük, hogy a 3 karakter hosszú terem nevek csak számjegyeket tartalmaznak)"
            ],
            "metadata": {
                "azdata_cell_guid": "77f2d5b3-38e9-41cc-893f-f5afd02b97ef"
            },
            "attachments": {}
        },
        {
            "cell_type": "code",
            "source": [
                "SELECT ora_id, t.Terem\r\n",
                "FROM Orak o JOIN Termek t ON t.Tkód = o.terem\r\n",
                "WHERE LEN(t.terem) = 3 AND t.terem BETWEEN 100 AND 199"
            ],
            "metadata": {
                "azdata_cell_guid": "e9ce19b7-a176-4852-9019-76dfacc86c00",
                "language": "sql"
            },
            "outputs": [
                {
                    "output_type": "display_data",
                    "data": {
                        "text/html": "(30 rows affected)"
                    },
                    "metadata": {}
                },
                {
                    "output_type": "display_data",
                    "data": {
                        "text/html": "Total execution time: 00:00:00.037"
                    },
                    "metadata": {}
                },
                {
                    "output_type": "execute_result",
                    "execution_count": 2,
                    "data": {
                        "application/vnd.dataresource+json": {
                            "schema": {
                                "fields": [
                                    {
                                        "name": "ora_id"
                                    },
                                    {
                                        "name": "Terem"
                                    }
                                ]
                            },
                            "data": [
                                {
                                    "ora_id": "159",
                                    "Terem": "117"
                                },
                                {
                                    "ora_id": "160",
                                    "Terem": "118"
                                },
                                {
                                    "ora_id": "161",
                                    "Terem": "118"
                                },
                                {
                                    "ora_id": "162",
                                    "Terem": "119"
                                },
                                {
                                    "ora_id": "163",
                                    "Terem": "120"
                                },
                                {
                                    "ora_id": "164",
                                    "Terem": "119"
                                },
                                {
                                    "ora_id": "165",
                                    "Terem": "119"
                                },
                                {
                                    "ora_id": "166",
                                    "Terem": "119"
                                },
                                {
                                    "ora_id": "167",
                                    "Terem": "120"
                                },
                                {
                                    "ora_id": "170",
                                    "Terem": "120"
                                },
                                {
                                    "ora_id": "172",
                                    "Terem": "119"
                                },
                                {
                                    "ora_id": "173",
                                    "Terem": "119"
                                },
                                {
                                    "ora_id": "175",
                                    "Terem": "120"
                                },
                                {
                                    "ora_id": "176",
                                    "Terem": "118"
                                },
                                {
                                    "ora_id": "177",
                                    "Terem": "119"
                                },
                                {
                                    "ora_id": "179",
                                    "Terem": "120"
                                },
                                {
                                    "ora_id": "180",
                                    "Terem": "119"
                                },
                                {
                                    "ora_id": "181",
                                    "Terem": "118"
                                },
                                {
                                    "ora_id": "185",
                                    "Terem": "120"
                                },
                                {
                                    "ora_id": "192",
                                    "Terem": "119"
                                },
                                {
                                    "ora_id": "195",
                                    "Terem": "116"
                                },
                                {
                                    "ora_id": "197",
                                    "Terem": "116"
                                },
                                {
                                    "ora_id": "198",
                                    "Terem": "119"
                                },
                                {
                                    "ora_id": "204",
                                    "Terem": "120"
                                },
                                {
                                    "ora_id": "212",
                                    "Terem": "120"
                                },
                                {
                                    "ora_id": "218",
                                    "Terem": "118"
                                },
                                {
                                    "ora_id": "220",
                                    "Terem": "119"
                                },
                                {
                                    "ora_id": "222",
                                    "Terem": "116"
                                },
                                {
                                    "ora_id": "226",
                                    "Terem": "117"
                                },
                                {
                                    "ora_id": "227",
                                    "Terem": "116"
                                }
                            ]
                        },
                        "text/html": "<table><tr><th>ora_id</th><th>Terem</th></tr><tr><td>159</td><td>117</td></tr><tr><td>160</td><td>118</td></tr><tr><td>161</td><td>118</td></tr><tr><td>162</td><td>119</td></tr><tr><td>163</td><td>120</td></tr><tr><td>164</td><td>119</td></tr><tr><td>165</td><td>119</td></tr><tr><td>166</td><td>119</td></tr><tr><td>167</td><td>120</td></tr><tr><td>170</td><td>120</td></tr><tr><td>172</td><td>119</td></tr><tr><td>173</td><td>119</td></tr><tr><td>175</td><td>120</td></tr><tr><td>176</td><td>118</td></tr><tr><td>177</td><td>119</td></tr><tr><td>179</td><td>120</td></tr><tr><td>180</td><td>119</td></tr><tr><td>181</td><td>118</td></tr><tr><td>185</td><td>120</td></tr><tr><td>192</td><td>119</td></tr><tr><td>195</td><td>116</td></tr><tr><td>197</td><td>116</td></tr><tr><td>198</td><td>119</td></tr><tr><td>204</td><td>120</td></tr><tr><td>212</td><td>120</td></tr><tr><td>218</td><td>118</td></tr><tr><td>220</td><td>119</td></tr><tr><td>222</td><td>116</td></tr><tr><td>226</td><td>117</td></tr><tr><td>227</td><td>116</td></tr></table>"
                    },
                    "metadata": {}
                }
            ],
            "execution_count": 2
        },
        {
            "cell_type": "code",
            "source": [
                "SELECT o.ora_id,\r\n",
                "       t.Terem\r\n",
                "FROM Orak o JOIN Termek t ON o.terem = t.Tkód\r\n",
                "WHERE len(t.Terem) = 3 AND t.Terem BETWEEN '100' and '199'\r\n",
                ""
            ],
            "metadata": {
                "azdata_cell_guid": "bd3cef1a-4e6e-4ece-9dc3-aaa9d2b5d66d",
                "language": "sql",
                "tags": []
            },
            "outputs": [],
            "execution_count": null
        },
        {
            "cell_type": "markdown",
            "source": [
                "2. <span style=\"font-weight: 600; color: rgb(36, 41, 47); font-family: -apple-system, BlinkMacSystemFont, &quot;Segoe UI&quot;, Helvetica, Arial, sans-serif, &quot;Apple Color Emoji&quot;, &quot;Segoe UI Emoji&quot;; font-size: 16px;\">Hány óra van összesen az egyes napokon?</span>\n",
                "\n",
                "1. Jelenítsük meg a napok nevét és az órák számát az adott napon!\n",
                "2. Az oszlopokat nevezzük el értelemszerűen!\n",
                "3. A listát rendezzük óraszám szerint növekvő sorrendbe!"
            ],
            "metadata": {
                "azdata_cell_guid": "88f5b4bb-f4c1-4bad-a0c7-b2592687b422"
            },
            "attachments": {}
        },
        {
            "cell_type": "code",
            "source": [
                "SELECT n.nap, COUNT(ora_id)\r\n",
                "FROM Orak o JOIN Napok n ON n.nap_id = o.nap\r\n",
                "GROUP BY n.nap\r\n",
                "order by count(ora_id)"
            ],
            "metadata": {
                "azdata_cell_guid": "a7bd2a77-c132-4c4c-b10e-e1eff1f287bc",
                "language": "sql",
                "tags": []
            },
            "outputs": [
                {
                    "output_type": "display_data",
                    "data": {
                        "text/html": "(5 rows affected)"
                    },
                    "metadata": {}
                },
                {
                    "output_type": "display_data",
                    "data": {
                        "text/html": "Total execution time: 00:00:00.035"
                    },
                    "metadata": {}
                },
                {
                    "output_type": "execute_result",
                    "execution_count": 4,
                    "data": {
                        "application/vnd.dataresource+json": {
                            "schema": {
                                "fields": [
                                    {
                                        "name": "nap"
                                    },
                                    {
                                        "name": "(No column name)"
                                    }
                                ]
                            },
                            "data": [
                                {
                                    "nap": "Péntek",
                                    "(No column name)": "6"
                                },
                                {
                                    "nap": "Szerda",
                                    "(No column name)": "6"
                                },
                                {
                                    "nap": "Kedd",
                                    "(No column name)": "13"
                                },
                                {
                                    "nap": "Csütörtök",
                                    "(No column name)": "19"
                                },
                                {
                                    "nap": "Hétfő",
                                    "(No column name)": "23"
                                }
                            ]
                        },
                        "text/html": "<table><tr><th>nap</th><th>(No column name)</th></tr><tr><td>Péntek</td><td>6</td></tr><tr><td>Szerda</td><td>6</td></tr><tr><td>Kedd</td><td>13</td></tr><tr><td>Csütörtök</td><td>19</td></tr><tr><td>Hétfő</td><td>23</td></tr></table>"
                    },
                    "metadata": {}
                }
            ],
            "execution_count": 4
        },
        {
            "cell_type": "code",
            "source": [
                "SELECT n.nap,\r\n",
                "       count(*) AS 'Óraszám'\r\n",
                "from orak o join Napok n on o.nap = n.nap_id\r\n",
                "GROUP by n.nap\r\n",
                "order by count(*)"
            ],
            "metadata": {
                "azdata_cell_guid": "e9de5726-f036-4fb9-8c33-a873955ed886",
                "language": "sql",
                "tags": []
            },
            "outputs": [],
            "execution_count": null
        },
        {
            "cell_type": "markdown",
            "source": [
                "3. <span style=\"font-weight: 600; color: rgb(36, 41, 47); font-family: -apple-system, BlinkMacSystemFont, &quot;Segoe UI&quot;, Helvetica, Arial, sans-serif, &quot;Apple Color Emoji&quot;, &quot;Segoe UI Emoji&quot;; font-size: 16px;\">Készítsünk listát arról, hogy melyik oktatónak hány órája van az Órák táblában!</span>\n",
                "\n",
                "1. A lista jelenítse meg az oktatók nevét, és az órák számát!\n",
                "2. Az oszlopokat nevezzük el értelemszerűen!\n",
                "3. A listából hagyjuk ki az óraadókat!"
            ],
            "metadata": {
                "azdata_cell_guid": "9e7249de-1b59-43d8-84b1-26fa7d81fc5a"
            },
            "attachments": {}
        },
        {
            "cell_type": "code",
            "source": [
                "SELECT okt.nev, COUNT(ora_id)\r\n",
                "FROM Orak o LEFT JOIN Oktatok okt ON o.tanar=okt.oktato_id\r\n",
                "            JOIN Beosztasok b ON b.beosztas_id=okt.beosztás\r\n",
                "WHERE beosztasnev <> 'Óraadó'\r\n",
                "GROUP BY okt.nev\r\n",
                ""
            ],
            "metadata": {
                "azdata_cell_guid": "aa75834f-725a-4b0c-85d9-0e2f3d1f0345",
                "language": "sql"
            },
            "outputs": [
                {
                    "output_type": "display_data",
                    "data": {
                        "text/html": "(15 rows affected)"
                    },
                    "metadata": {}
                },
                {
                    "output_type": "display_data",
                    "data": {
                        "text/html": "Total execution time: 00:00:00.047"
                    },
                    "metadata": {}
                },
                {
                    "output_type": "execute_result",
                    "execution_count": 7,
                    "data": {
                        "application/vnd.dataresource+json": {
                            "schema": {
                                "fields": [
                                    {
                                        "name": "nev"
                                    },
                                    {
                                        "name": "(No column name)"
                                    }
                                ]
                            },
                            "data": [
                                {
                                    "nev": "Balkán András",
                                    "(No column name)": "3"
                                },
                                {
                                    "nev": "Farkasos Piroska",
                                    "(No column name)": "7"
                                },
                                {
                                    "nev": "Jogrerős Pál",
                                    "(No column name)": "2"
                                },
                                {
                                    "nev": "Juhász András",
                                    "(No column name)": "2"
                                },
                                {
                                    "nev": "Kiss János",
                                    "(No column name)": "4"
                                },
                                {
                                    "nev": "Kovács László",
                                    "(No column name)": "4"
                                },
                                {
                                    "nev": "Pelikán József",
                                    "(No column name)": "6"
                                },
                                {
                                    "nev": "Róbert Gida",
                                    "(No column name)": "1"
                                },
                                {
                                    "nev": "Szénási ászló",
                                    "(No column name)": "2"
                                },
                                {
                                    "nev": "Szentágotai Istvás",
                                    "(No column name)": "8"
                                },
                                {
                                    "nev": "Szép llonka",
                                    "(No column name)": "4"
                                },
                                {
                                    "nev": "Szerb László",
                                    "(No column name)": "3"
                                },
                                {
                                    "nev": "Ujfalussi István",
                                    "(No column name)": "3"
                                },
                                {
                                    "nev": "Varga Kata",
                                    "(No column name)": "4"
                                },
                                {
                                    "nev": "Vitéz János",
                                    "(No column name)": "4"
                                }
                            ]
                        },
                        "text/html": "<table><tr><th>nev</th><th>(No column name)</th></tr><tr><td>Balkán András</td><td>3</td></tr><tr><td>Farkasos Piroska</td><td>7</td></tr><tr><td>Jogrerős Pál</td><td>2</td></tr><tr><td>Juhász András</td><td>2</td></tr><tr><td>Kiss János</td><td>4</td></tr><tr><td>Kovács László</td><td>4</td></tr><tr><td>Pelikán József</td><td>6</td></tr><tr><td>Róbert Gida</td><td>1</td></tr><tr><td>Szénási ászló</td><td>2</td></tr><tr><td>Szentágotai Istvás</td><td>8</td></tr><tr><td>Szép llonka</td><td>4</td></tr><tr><td>Szerb László</td><td>3</td></tr><tr><td>Ujfalussi István</td><td>3</td></tr><tr><td>Varga Kata</td><td>4</td></tr><tr><td>Vitéz János</td><td>4</td></tr></table>"
                    },
                    "metadata": {}
                }
            ],
            "execution_count": 7
        },
        {
            "cell_type": "code",
            "source": [
                "select okt.nev AS 'Név', \r\n",
                "       count(*) AS 'Óraszám'\r\n",
                "from Orak o JOIN Oktatok okt on o.tanar = okt.oktato_id\r\n",
                "            join Beosztasok b on okt.beosztás = b.beosztas_id\r\n",
                "where b.beosztasnev <> 'Óraadó'\r\n",
                "group by okt.nev"
            ],
            "metadata": {
                "azdata_cell_guid": "6405d3e8-a9b1-45d7-aa76-3b1e785ef6cc",
                "language": "sql",
                "tags": []
            },
            "outputs": [],
            "execution_count": null
        },
        {
            "cell_type": "markdown",
            "source": [
                "4. <span style=\"color: rgb(36, 41, 47); font-family: -apple-system, BlinkMacSystemFont, &quot;Segoe UI&quot;, Helvetica, Arial, sans-serif, &quot;Apple Color Emoji&quot;, &quot;Segoe UI Emoji&quot;; font-size: 16px;\">Van-e olyan tantárgy, amelyből nincs óra?</span>\n",
                "\n",
                "1. Jelentsük meg a tantárgy nevét és a tantárgyfelelős nevét!"
            ],
            "metadata": {
                "azdata_cell_guid": "6478e469-c094-472c-a772-ccd5b5c61516"
            },
            "attachments": {}
        },
        {
            "cell_type": "code",
            "source": [
                "SELECT t.Tantárgynév, okt.nev\r\n",
                "FROM Tantárgyak t LEFT JOIN ORak o ON t.Tkód=o.targy\r\n",
                "                        JOIN Oktatok okt ON okt.oktato_id=t.Tantárgyfelelős\r\n",
                "WHERE o.targy IS NULL\r\n",
                ""
            ],
            "metadata": {
                "azdata_cell_guid": "ed6bedbb-a210-4148-b725-bb7aaf4c1bc0",
                "language": "sql"
            },
            "outputs": [
                {
                    "output_type": "display_data",
                    "data": {
                        "text/html": "(1 row affected)"
                    },
                    "metadata": {}
                },
                {
                    "output_type": "display_data",
                    "data": {
                        "text/html": "Total execution time: 00:00:00.029"
                    },
                    "metadata": {}
                },
                {
                    "output_type": "execute_result",
                    "execution_count": 14,
                    "data": {
                        "application/vnd.dataresource+json": {
                            "schema": {
                                "fields": [
                                    {
                                        "name": "Tantárgynév"
                                    },
                                    {
                                        "name": "nev"
                                    },
                                    {
                                        "name": "targy"
                                    }
                                ]
                            },
                            "data": [
                                {
                                    "Tantárgynév": "Folyami gáttan",
                                    "nev": "Varga Kata",
                                    "targy": "NULL"
                                }
                            ]
                        },
                        "text/html": "<table><tr><th>Tantárgynév</th><th>nev</th><th>targy</th></tr><tr><td>Folyami gáttan</td><td>Varga Kata</td><td>NULL</td></tr></table>"
                    },
                    "metadata": {}
                }
            ],
            "execution_count": 14
        },
        {
            "cell_type": "code",
            "source": [
                "select t.Tantárgynév, \r\n",
                "       okt.nev\r\n",
                "from Tantárgyak t left join Orak o on t.Tkód = o.targy\r\n",
                "                  join Oktatok okt on t.Tantárgyfelelős = okt.oktato_id\r\n",
                "where o.targy is null"
            ],
            "metadata": {
                "azdata_cell_guid": "02031ea2-3838-458d-839c-228e3b362b61",
                "language": "sql",
                "tags": []
            },
            "outputs": [
                {
                    "output_type": "display_data",
                    "data": {
                        "text/html": "(1 row affected)"
                    },
                    "metadata": {}
                },
                {
                    "output_type": "display_data",
                    "data": {
                        "text/html": "Total execution time: 00:00:00.244"
                    },
                    "metadata": {}
                },
                {
                    "output_type": "execute_result",
                    "execution_count": 13,
                    "data": {
                        "application/vnd.dataresource+json": {
                            "schema": {
                                "fields": [
                                    {
                                        "name": "Tantárgynév"
                                    },
                                    {
                                        "name": "nev"
                                    }
                                ]
                            },
                            "data": [
                                {
                                    "Tantárgynév": "Folyami gáttan",
                                    "nev": "Varga Kata"
                                }
                            ]
                        },
                        "text/html": "<table><tr><th>Tantárgynév</th><th>nev</th></tr><tr><td>Folyami gáttan</td><td>Varga Kata</td></tr></table>"
                    },
                    "metadata": {}
                }
            ],
            "execution_count": 13
        },
        {
            "cell_type": "markdown",
            "source": [
                "5. <span style=\"background-color: rgb(255, 255, 255); color: rgb(36, 41, 47); font-family: -apple-system, BlinkMacSystemFont, &quot;Segoe UI&quot;, Helvetica, Arial, sans-serif, &quot;Apple Color Emoji&quot;, &quot;Segoe UI Emoji&quot;; font-size: 16px;\">Hány óra van összesen a 120-as teremben?</span>"
            ],
            "metadata": {
                "azdata_cell_guid": "9edbbaf9-c276-4898-9a01-e1b2993c089f"
            },
            "attachments": {}
        },
        {
            "cell_type": "code",
            "source": [
                "SELECT COUNT(ora_id)\r\n",
                "FROM Orak o JOIN Termek t ON t.Tkód=o.terem\r\n",
                "WHERE t.Terem = '120'"
            ],
            "metadata": {
                "azdata_cell_guid": "f6570f23-6c1a-4621-baaf-8775d8c21e06",
                "language": "sql"
            },
            "outputs": [
                {
                    "output_type": "display_data",
                    "data": {
                        "text/html": "(1 row affected)"
                    },
                    "metadata": {}
                },
                {
                    "output_type": "display_data",
                    "data": {
                        "text/html": "Total execution time: 00:00:00.023"
                    },
                    "metadata": {}
                },
                {
                    "output_type": "execute_result",
                    "execution_count": 26,
                    "data": {
                        "application/vnd.dataresource+json": {
                            "schema": {
                                "fields": [
                                    {
                                        "name": "(No column name)"
                                    }
                                ]
                            },
                            "data": [
                                {
                                    "(No column name)": "8"
                                }
                            ]
                        },
                        "text/html": "<table><tr><th>(No column name)</th></tr><tr><td>8</td></tr></table>"
                    },
                    "metadata": {}
                }
            ],
            "execution_count": 26
        },
        {
            "cell_type": "code",
            "source": [
                "SELECT count(*) AS 'Órák száma'\r\n",
                "FROM Orak o join Termek t on o.terem = t.Tkód\r\n",
                "WHERE t.Terem = '120'"
            ],
            "metadata": {
                "azdata_cell_guid": "5ad5fdcb-2878-4111-861a-833bcd50e935",
                "language": "sql",
                "tags": []
            },
            "outputs": [
                {
                    "output_type": "display_data",
                    "data": {
                        "text/html": "(1 row affected)"
                    },
                    "metadata": {}
                },
                {
                    "output_type": "display_data",
                    "data": {
                        "text/html": "Total execution time: 00:00:00.022"
                    },
                    "metadata": {}
                },
                {
                    "output_type": "execute_result",
                    "execution_count": 24,
                    "data": {
                        "application/vnd.dataresource+json": {
                            "schema": {
                                "fields": [
                                    {
                                        "name": "Órák száma"
                                    }
                                ]
                            },
                            "data": [
                                {
                                    "Órák száma": "8"
                                }
                            ]
                        },
                        "text/html": "<table><tr><th>Órák száma</th></tr><tr><td>8</td></tr></table>"
                    },
                    "metadata": {}
                }
            ],
            "execution_count": 24
        },
        {
            "cell_type": "markdown",
            "source": [
                "**A 6-10 feladatokat halmazműveletek segítségével oldjuk meg, szintén a tanulmányi adatbázison**\n",
                "\n",
                "6. <span style=\"background-color:rgb(255, 255, 255);color:rgb(36, 41, 47);font-family:-apple-system, BlinkMacSystemFont, &quot;Segoe UI&quot;, Helvetica, Arial, sans-serif, &quot;Apple Color Emoji&quot;, &quot;Segoe UI Emoji&quot;;font-size:16px;font-weight:600;\">Jelenítsük meg azon tanárok azonosítóját és nevét, akik hétfői vagy keddi napokon tanítanak!</span>"
            ],
            "metadata": {
                "azdata_cell_guid": "5fe65c1c-2479-45ac-ad03-ec99d12eae21"
            },
            "attachments": {}
        },
        {
            "cell_type": "code",
            "source": [
                "SELECT okt.oktato_id, okt.nev\r\n",
                "FROM Orak o JOIN Napok n ON n.nap_id=o.nap\r\n",
                "            JOIN Oktatok okt On okt.oktato_id = o.tanar\r\n",
                "WHERE n.nap = N'hétfő'\r\n",
                "\r\n",
                "UNION\r\n",
                "\r\n",
                "SELECT okt.oktato_id, okt.nev\r\n",
                "FROM Orak o JOIN Napok n ON n.nap_id=o.nap\r\n",
                "            JOIN Oktatok okt On okt.oktato_id = o.tanar\r\n",
                "WHERE n.nap = N'kedd'"
            ],
            "metadata": {
                "azdata_cell_guid": "e566c581-ace0-46fa-ad79-ca6d9afc43cc",
                "language": "sql"
            },
            "outputs": [
                {
                    "output_type": "display_data",
                    "data": {
                        "text/html": "(17 rows affected)"
                    },
                    "metadata": {}
                },
                {
                    "output_type": "display_data",
                    "data": {
                        "text/html": "Total execution time: 00:00:00.038"
                    },
                    "metadata": {}
                },
                {
                    "output_type": "execute_result",
                    "execution_count": 29,
                    "data": {
                        "application/vnd.dataresource+json": {
                            "schema": {
                                "fields": [
                                    {
                                        "name": "oktato_id"
                                    },
                                    {
                                        "name": "nev"
                                    }
                                ]
                            },
                            "data": [
                                {
                                    "oktato_id": "1",
                                    "nev": "Kovács László"
                                },
                                {
                                    "oktato_id": "2",
                                    "nev": "Szentágotai Istvás"
                                },
                                {
                                    "oktato_id": "3",
                                    "nev": "Szerb László"
                                },
                                {
                                    "oktato_id": "4",
                                    "nev": "Ujfalussi István"
                                },
                                {
                                    "oktato_id": "5",
                                    "nev": "Balkán András"
                                },
                                {
                                    "oktato_id": "6",
                                    "nev": "Szép llonka"
                                },
                                {
                                    "oktato_id": "7",
                                    "nev": "Kiss János"
                                },
                                {
                                    "oktato_id": "8",
                                    "nev": "Pelikán József"
                                },
                                {
                                    "oktato_id": "9",
                                    "nev": "Farkasos Piroska"
                                },
                                {
                                    "oktato_id": "10",
                                    "nev": "Jogrerős Pál"
                                },
                                {
                                    "oktato_id": "12",
                                    "nev": "Varga Kata"
                                },
                                {
                                    "oktato_id": "14",
                                    "nev": "Szénási ászló"
                                },
                                {
                                    "oktato_id": "18",
                                    "nev": "Nógrádi Kata"
                                },
                                {
                                    "oktato_id": "20",
                                    "nev": "Kovács András"
                                },
                                {
                                    "oktato_id": "104",
                                    "nev": "Ludas Mátyás"
                                },
                                {
                                    "oktato_id": "108",
                                    "nev": "Róbert Gida"
                                },
                                {
                                    "oktato_id": "200",
                                    "nev": "Aranyi Mária"
                                }
                            ]
                        },
                        "text/html": "<table><tr><th>oktato_id</th><th>nev</th></tr><tr><td>1</td><td>Kovács László</td></tr><tr><td>2</td><td>Szentágotai Istvás</td></tr><tr><td>3</td><td>Szerb László</td></tr><tr><td>4</td><td>Ujfalussi István</td></tr><tr><td>5</td><td>Balkán András</td></tr><tr><td>6</td><td>Szép llonka</td></tr><tr><td>7</td><td>Kiss János</td></tr><tr><td>8</td><td>Pelikán József</td></tr><tr><td>9</td><td>Farkasos Piroska</td></tr><tr><td>10</td><td>Jogrerős Pál</td></tr><tr><td>12</td><td>Varga Kata</td></tr><tr><td>14</td><td>Szénási ászló</td></tr><tr><td>18</td><td>Nógrádi Kata</td></tr><tr><td>20</td><td>Kovács András</td></tr><tr><td>104</td><td>Ludas Mátyás</td></tr><tr><td>108</td><td>Róbert Gida</td></tr><tr><td>200</td><td>Aranyi Mária</td></tr></table>"
                    },
                    "metadata": {}
                }
            ],
            "execution_count": 29
        },
        {
            "cell_type": "code",
            "source": [
                "SELECT okt.oktato_id AS 'Azonosító',\r\n",
                "       okt.nev AS 'Név'\r\n",
                "FROM Oktatok okt JOIN Orak o ON okt.oktato_id = o.tanar\r\n",
                "                 JOIN Napok n ON o.nap = n.nap_id\r\n",
                "WHERE n.nap = N'Hétfő'\r\n",
                "\r\n",
                "UNION\r\n",
                "\r\n",
                "SELECT okt.oktato_id,\r\n",
                "       okt.nev\r\n",
                "FROM Oktatok okt JOIN Orak o ON okt.oktato_id = o.tanar\r\n",
                "                 JOIN Napok n ON o.nap = n.nap_id\r\n",
                "WHERE n.nap = N'Kedd'\r\n",
                ""
            ],
            "metadata": {
                "azdata_cell_guid": "924f2dde-f1c2-4def-a7f9-dbf4bace7735",
                "language": "sql",
                "tags": []
            },
            "outputs": [
                {
                    "output_type": "display_data",
                    "data": {
                        "text/html": "(17 rows affected)"
                    },
                    "metadata": {}
                },
                {
                    "output_type": "display_data",
                    "data": {
                        "text/html": "Total execution time: 00:00:00.037"
                    },
                    "metadata": {}
                },
                {
                    "output_type": "execute_result",
                    "execution_count": 28,
                    "data": {
                        "application/vnd.dataresource+json": {
                            "schema": {
                                "fields": [
                                    {
                                        "name": "Azonosító"
                                    },
                                    {
                                        "name": "Név"
                                    }
                                ]
                            },
                            "data": [
                                {
                                    "Azonosító": "1",
                                    "Név": "Kovács László"
                                },
                                {
                                    "Azonosító": "2",
                                    "Név": "Szentágotai Istvás"
                                },
                                {
                                    "Azonosító": "3",
                                    "Név": "Szerb László"
                                },
                                {
                                    "Azonosító": "4",
                                    "Név": "Ujfalussi István"
                                },
                                {
                                    "Azonosító": "5",
                                    "Név": "Balkán András"
                                },
                                {
                                    "Azonosító": "6",
                                    "Név": "Szép llonka"
                                },
                                {
                                    "Azonosító": "7",
                                    "Név": "Kiss János"
                                },
                                {
                                    "Azonosító": "8",
                                    "Név": "Pelikán József"
                                },
                                {
                                    "Azonosító": "9",
                                    "Név": "Farkasos Piroska"
                                },
                                {
                                    "Azonosító": "10",
                                    "Név": "Jogrerős Pál"
                                },
                                {
                                    "Azonosító": "12",
                                    "Név": "Varga Kata"
                                },
                                {
                                    "Azonosító": "14",
                                    "Név": "Szénási ászló"
                                },
                                {
                                    "Azonosító": "18",
                                    "Név": "Nógrádi Kata"
                                },
                                {
                                    "Azonosító": "20",
                                    "Név": "Kovács András"
                                },
                                {
                                    "Azonosító": "104",
                                    "Név": "Ludas Mátyás"
                                },
                                {
                                    "Azonosító": "108",
                                    "Név": "Róbert Gida"
                                },
                                {
                                    "Azonosító": "200",
                                    "Név": "Aranyi Mária"
                                }
                            ]
                        },
                        "text/html": "<table><tr><th>Azonosító</th><th>Név</th></tr><tr><td>1</td><td>Kovács László</td></tr><tr><td>2</td><td>Szentágotai Istvás</td></tr><tr><td>3</td><td>Szerb László</td></tr><tr><td>4</td><td>Ujfalussi István</td></tr><tr><td>5</td><td>Balkán András</td></tr><tr><td>6</td><td>Szép llonka</td></tr><tr><td>7</td><td>Kiss János</td></tr><tr><td>8</td><td>Pelikán József</td></tr><tr><td>9</td><td>Farkasos Piroska</td></tr><tr><td>10</td><td>Jogrerős Pál</td></tr><tr><td>12</td><td>Varga Kata</td></tr><tr><td>14</td><td>Szénási ászló</td></tr><tr><td>18</td><td>Nógrádi Kata</td></tr><tr><td>20</td><td>Kovács András</td></tr><tr><td>104</td><td>Ludas Mátyás</td></tr><tr><td>108</td><td>Róbert Gida</td></tr><tr><td>200</td><td>Aranyi Mária</td></tr></table>"
                    },
                    "metadata": {}
                }
            ],
            "execution_count": 28
        },
        {
            "cell_type": "markdown",
            "source": [
                "7. <span style=\"background-color: rgb(255, 255, 255); color: rgb(36, 41, 47); font-family: -apple-system, BlinkMacSystemFont, &quot;Segoe UI&quot;, Helvetica, Arial, sans-serif, &quot;Apple Color Emoji&quot;, &quot;Segoe UI Emoji&quot;; font-size: 16px; font-weight: 600;\">Melyek azok a tantárgyak, amelyek esetén van óra a 8.00-kor kezdődő sávban, de nincs a 12.30-kor kezdődő sávban?</span>"
            ],
            "metadata": {
                "azdata_cell_guid": "3aeb6bf5-b111-40d5-92b2-9712ce335696"
            },
            "attachments": {}
        },
        {
            "cell_type": "code",
            "source": [
                "SELECT t.Tkód, t.Tantárgynév\r\n",
                "FROM Tantárgyak t JOIN Orak o ON t.Tkód = o.targy\r\n",
                "                  JOIN Savok s ON o.Sav = s.Sav_id\r\n",
                "Where s.Időpont = '8.00'\r\n",
                "\r\n",
                "EXCEPT\r\n",
                "\r\n",
                "SELECT t.Tkód, t.Tantárgynév\r\n",
                "FROM Tantárgyak t JOIN Orak o ON t.Tkód = o.targy\r\n",
                "                  JOIN Savok s ON o.Sav = s.Sav_id\r\n",
                "Where s.Időpont = '12.30'"
            ],
            "metadata": {
                "azdata_cell_guid": "2df9f665-7136-4fd0-aa56-2dc5d3b110a9",
                "language": "sql"
            },
            "outputs": [
                {
                    "output_type": "display_data",
                    "data": {
                        "text/html": "(3 rows affected)"
                    },
                    "metadata": {}
                },
                {
                    "output_type": "display_data",
                    "data": {
                        "text/html": "Total execution time: 00:00:00.039"
                    },
                    "metadata": {}
                },
                {
                    "output_type": "execute_result",
                    "execution_count": 46,
                    "data": {
                        "application/vnd.dataresource+json": {
                            "schema": {
                                "fields": [
                                    {
                                        "name": "Tkód"
                                    },
                                    {
                                        "name": "Tantárgynév"
                                    }
                                ]
                            },
                            "data": [
                                {
                                    "Tkód": "5",
                                    "Tantárgynév": "Az ürgeöntés hydrológiai alapjai II."
                                },
                                {
                                    "Tkód": "10",
                                    "Tantárgynév": "Fejezetek az ürgék jogaiból"
                                },
                                {
                                    "Tkód": "13",
                                    "Tantárgynév": "Ürgevitel"
                                }
                            ]
                        },
                        "text/html": "<table><tr><th>Tkód</th><th>Tantárgynév</th></tr><tr><td>5</td><td>Az ürgeöntés hydrológiai alapjai II.</td></tr><tr><td>10</td><td>Fejezetek az ürgék jogaiból</td></tr><tr><td>13</td><td>Ürgevitel</td></tr></table>"
                    },
                    "metadata": {}
                }
            ],
            "execution_count": 46
        },
        {
            "cell_type": "code",
            "source": [
                "SELECT t.Tkód,\r\n",
                "       t.Tantárgynév\r\n",
                "FROM Tantárgyak t JOIN Orak o ON t.Tkód = o.targy\r\n",
                "                  JOIN Savok s ON o.Sav = s.Sav_id\r\n",
                "WHERE s.Időpont = '8.00'\r\n",
                "\r\n",
                "EXCEPT\r\n",
                "\r\n",
                "SELECT t.Tkód,\r\n",
                "       t.Tantárgynév\r\n",
                "FROM Tantárgyak t JOIN Orak o ON t.Tkód = o.targy\r\n",
                "                  JOIN Savok s ON o.Sav = s.Sav_id\r\n",
                "WHERE s.Időpont = '12.30'"
            ],
            "metadata": {
                "azdata_cell_guid": "3e89b651-f56f-4102-af52-30eb2bbe360d",
                "language": "sql",
                "tags": []
            },
            "outputs": [
                {
                    "output_type": "display_data",
                    "data": {
                        "text/html": "(3 rows affected)"
                    },
                    "metadata": {}
                },
                {
                    "output_type": "display_data",
                    "data": {
                        "text/html": "Total execution time: 00:00:00.046"
                    },
                    "metadata": {}
                },
                {
                    "output_type": "execute_result",
                    "execution_count": 39,
                    "data": {
                        "application/vnd.dataresource+json": {
                            "schema": {
                                "fields": [
                                    {
                                        "name": "Tkód"
                                    },
                                    {
                                        "name": "Tantárgynév"
                                    }
                                ]
                            },
                            "data": [
                                {
                                    "Tkód": "5",
                                    "Tantárgynév": "Az ürgeöntés hydrológiai alapjai II."
                                },
                                {
                                    "Tkód": "10",
                                    "Tantárgynév": "Fejezetek az ürgék jogaiból"
                                },
                                {
                                    "Tkód": "13",
                                    "Tantárgynév": "Ürgevitel"
                                }
                            ]
                        },
                        "text/html": "<table><tr><th>Tkód</th><th>Tantárgynév</th></tr><tr><td>5</td><td>Az ürgeöntés hydrológiai alapjai II.</td></tr><tr><td>10</td><td>Fejezetek az ürgék jogaiból</td></tr><tr><td>13</td><td>Ürgevitel</td></tr></table>"
                    },
                    "metadata": {}
                }
            ],
            "execution_count": 39
        },
        {
            "cell_type": "markdown",
            "source": [
                "8. <span style=\"background-color: rgb(255, 255, 255); color: rgb(36, 41, 47); font-family: -apple-system, BlinkMacSystemFont, &quot;Segoe UI&quot;, Helvetica, Arial, sans-serif, &quot;Apple Color Emoji&quot;, &quot;Segoe UI Emoji&quot;; font-size: 16px; font-weight: 600;\">Listázzuk azokat a termeket, amelyekben oktat Kovács László és van olyan tanóra a teremben, ahol a tantárgy nevében nem szerepel az 'ürge' szó!</span>"
            ],
            "metadata": {
                "azdata_cell_guid": "26a504dc-ff6a-439f-94c0-4580eca3eacf"
            },
            "attachments": {}
        },
        {
            "cell_type": "code",
            "source": [
                "SELECT t.Terem\r\n",
                "FROM Orak o JOIN Oktatok okt ON okt.oktato_id=o.tanar\r\n",
                "            JOIN Termek t  ON t.Tkód=o.terem\r\n",
                "            JOIN Tantárgyak tan ON tan.Tkód=o.targy\r\n",
                "WHERE okt.nev = 'Kovács László'\r\n",
                "\r\n",
                "INTERSECT\r\n",
                "\r\n",
                "SELECT t.Terem\r\n",
                "FROM Orak o JOIN Termek t  ON t.Tkód=o.terem\r\n",
                "            JOIN Tantárgyak tan ON tan.Tkód=o.targy\r\n",
                "            JOIN Oktatok okt ON okt.oktato_id=o.tanar\r\n",
                "WHERE tan.Tantárgynév <> '%ürge%'"
            ],
            "metadata": {
                "azdata_cell_guid": "480043eb-9363-4eee-8cd1-821de3464778",
                "language": "sql"
            },
            "outputs": [
                {
                    "output_type": "display_data",
                    "data": {
                        "text/html": "Total execution time: 00:00:00.048"
                    },
                    "metadata": {}
                },
                {
                    "output_type": "execute_result",
                    "execution_count": 60,
                    "data": {
                        "application/vnd.dataresource+json": {
                            "schema": {
                                "fields": [
                                    {
                                        "name": "Terem"
                                    }
                                ]
                            },
                            "data": []
                        },
                        "text/html": "<table><tr><th>Terem</th></tr></table>"
                    },
                    "metadata": {}
                },
                {
                    "output_type": "error",
                    "ename": "",
                    "evalue": "Msg 245, Level 16, State 1, Line 1\r\nConversion failed when converting the nvarchar value 'VP 203.' to data type int.",
                    "traceback": []
                }
            ],
            "execution_count": 60
        },
        {
            "cell_type": "code",
            "source": [
                "SELECT t.Terem\r\n",
                "FROM Orak o JOIN Oktatok okt on o.tanar = okt.oktato_id\r\n",
                "            JOIN Termek t ON o.terem = t.Tkód\r\n",
                "WHERE okt.nev = 'Kovács László'\r\n",
                "\r\n",
                "INTERSECT\r\n",
                "\r\n",
                "SELECT tm.Terem\r\n",
                "FROM Orak o JOIN Tantárgyak t ON o.targy = t.Tkód\r\n",
                "            JOIN Termek tm ON o.terem = tm.Tkód\r\n",
                "WHERE t.Tantárgynév NOT LIKE '%ürge%'"
            ],
            "metadata": {
                "azdata_cell_guid": "1cbb8aeb-78b5-4350-aa45-e3202fdab85b",
                "language": "sql",
                "tags": []
            },
            "outputs": [
                {
                    "output_type": "display_data",
                    "data": {
                        "text/html": "(4 rows affected)"
                    },
                    "metadata": {}
                },
                {
                    "output_type": "display_data",
                    "data": {
                        "text/html": "Total execution time: 00:00:00.046"
                    },
                    "metadata": {}
                },
                {
                    "output_type": "execute_result",
                    "execution_count": 52,
                    "data": {
                        "application/vnd.dataresource+json": {
                            "schema": {
                                "fields": [
                                    {
                                        "name": "Terem"
                                    }
                                ]
                            },
                            "data": [
                                {
                                    "Terem": "116"
                                },
                                {
                                    "Terem": "119"
                                },
                                {
                                    "Terem": "S.Asor.S3"
                                },
                                {
                                    "Terem": "VP 203."
                                }
                            ]
                        },
                        "text/html": "<table><tr><th>Terem</th></tr><tr><td>116</td></tr><tr><td>119</td></tr><tr><td>S.Asor.S3</td></tr><tr><td>VP 203.</td></tr></table>"
                    },
                    "metadata": {}
                }
            ],
            "execution_count": 52
        },
        {
            "cell_type": "markdown",
            "source": [
                "9. <span style=\"font-weight: 600; color: rgb(36, 41, 47); font-family: -apple-system, BlinkMacSystemFont, &quot;Segoe UI&quot;, Helvetica, Arial, sans-serif, &quot;Apple Color Emoji&quot;, &quot;Segoe UI Emoji&quot;; font-size: 16px;\">Készítsünk listát arról, hogy melyik tanárnak hány órája van a (munka) hét elején (hétfőn), hét közben (kedd, szerda és csütörtök), illetve a hét végén (péntek)!</span>\n",
                "\n",
                "1. Jelenítsük meg a tanár azonosítóját, nevét, az időszakot (hét eleje - hét közben - hét vége), valamint az óraszámot!\n",
                "2. A három megjelölt időszakot külön kérdezzük le, majd fűzzük össze a lekérdezések eredményeit!\n",
                "3. Rendezzük a listát az oktató neve, azon belül időszak szerint!"
            ],
            "metadata": {
                "azdata_cell_guid": "435e2860-2dd5-4877-90f4-34a43baeb53c"
            },
            "attachments": {}
        },
        {
            "cell_type": "code",
            "source": [
                "SELECT okt.oktato_id, okt.nev,  CASE \r\n",
                "                                WHEN n.nap = N'hétfő' THEN 'hét eleje'\r\n",
                "                                WHEN n.nap = N'péntek' THEN 'hét vége'\r\n",
                "                                WHEN n.nap = N'kedd' OR n.nap = N'szerda' OR n.nap = N'csütörtök' THEN 'hét közben'\r\n",
                "                                END AS 'óratípus', COUNT(ora_id) AS 'óraszám'\r\n",
                "FROM Orak o JOIN Napok n On n.nap_id=o.nap\r\n",
                "            JOIn Oktatok okt ON okt.oktato_id=o.tanar\r\n",
                "\r\n",
                "GROUP BY okt.oktato_id, okt.nev, CASE \r\n",
                "                                WHEN n.nap = N'hétfő' THEN 'hét eleje'\r\n",
                "                                WHEN n.nap = N'péntek' THEN 'hét vége'\r\n",
                "                                WHEN n.nap = N'kedd' OR n.nap = N'szerda' OR n.nap = N'csütörtök' THEN 'hét közben'\r\n",
                "                                END\r\n",
                "ORDER BY 1, 2, 3"
            ],
            "metadata": {
                "azdata_cell_guid": "6b0e4a45-ec47-49f2-a9eb-09d37fa4a899",
                "language": "sql",
                "tags": []
            },
            "outputs": [
                {
                    "output_type": "display_data",
                    "data": {
                        "text/html": "(33 rows affected)"
                    },
                    "metadata": {}
                },
                {
                    "output_type": "display_data",
                    "data": {
                        "text/html": "Total execution time: 00:00:00.030"
                    },
                    "metadata": {}
                },
                {
                    "output_type": "execute_result",
                    "execution_count": 76,
                    "data": {
                        "application/vnd.dataresource+json": {
                            "schema": {
                                "fields": [
                                    {
                                        "name": "oktato_id"
                                    },
                                    {
                                        "name": "nev"
                                    },
                                    {
                                        "name": "óratípus"
                                    },
                                    {
                                        "name": "óraszám"
                                    }
                                ]
                            },
                            "data": [
                                {
                                    "oktato_id": "1",
                                    "nev": "Kovács László",
                                    "óratípus": "hét közben",
                                    "óraszám": "3"
                                },
                                {
                                    "oktato_id": "1",
                                    "nev": "Kovács László",
                                    "óratípus": "hét vége",
                                    "óraszám": "1"
                                },
                                {
                                    "oktato_id": "2",
                                    "nev": "Szentágotai Istvás",
                                    "óratípus": "hét eleje",
                                    "óraszám": "1"
                                },
                                {
                                    "oktato_id": "2",
                                    "nev": "Szentágotai Istvás",
                                    "óratípus": "hét közben",
                                    "óraszám": "5"
                                },
                                {
                                    "oktato_id": "2",
                                    "nev": "Szentágotai Istvás",
                                    "óratípus": "hét vége",
                                    "óraszám": "2"
                                },
                                {
                                    "oktato_id": "3",
                                    "nev": "Szerb László",
                                    "óratípus": "hét közben",
                                    "óraszám": "3"
                                },
                                {
                                    "oktato_id": "4",
                                    "nev": "Ujfalussi István",
                                    "óratípus": "hét eleje",
                                    "óraszám": "1"
                                },
                                {
                                    "oktato_id": "4",
                                    "nev": "Ujfalussi István",
                                    "óratípus": "hét közben",
                                    "óraszám": "2"
                                },
                                {
                                    "oktato_id": "5",
                                    "nev": "Balkán András",
                                    "óratípus": "hét eleje",
                                    "óraszám": "2"
                                },
                                {
                                    "oktato_id": "5",
                                    "nev": "Balkán András",
                                    "óratípus": "hét közben",
                                    "óraszám": "1"
                                },
                                {
                                    "oktato_id": "6",
                                    "nev": "Szép llonka",
                                    "óratípus": "hét eleje",
                                    "óraszám": "4"
                                },
                                {
                                    "oktato_id": "7",
                                    "nev": "Kiss János",
                                    "óratípus": "hét eleje",
                                    "óraszám": "2"
                                },
                                {
                                    "oktato_id": "7",
                                    "nev": "Kiss János",
                                    "óratípus": "hét közben",
                                    "óraszám": "2"
                                },
                                {
                                    "oktato_id": "8",
                                    "nev": "Pelikán József",
                                    "óratípus": "hét eleje",
                                    "óraszám": "3"
                                },
                                {
                                    "oktato_id": "8",
                                    "nev": "Pelikán József",
                                    "óratípus": "hét közben",
                                    "óraszám": "3"
                                },
                                {
                                    "oktato_id": "9",
                                    "nev": "Farkasos Piroska",
                                    "óratípus": "hét eleje",
                                    "óraszám": "2"
                                },
                                {
                                    "oktato_id": "9",
                                    "nev": "Farkasos Piroska",
                                    "óratípus": "hét közben",
                                    "óraszám": "4"
                                },
                                {
                                    "oktato_id": "9",
                                    "nev": "Farkasos Piroska",
                                    "óratípus": "hét vége",
                                    "óraszám": "1"
                                },
                                {
                                    "oktato_id": "10",
                                    "nev": "Jogrerős Pál",
                                    "óratípus": "hét eleje",
                                    "óraszám": "2"
                                },
                                {
                                    "oktato_id": "12",
                                    "nev": "Varga Kata",
                                    "óratípus": "hét eleje",
                                    "óraszám": "2"
                                },
                                {
                                    "oktato_id": "12",
                                    "nev": "Varga Kata",
                                    "óratípus": "hét közben",
                                    "óraszám": "2"
                                },
                                {
                                    "oktato_id": "14",
                                    "nev": "Szénási ászló",
                                    "óratípus": "hét közben",
                                    "óraszám": "2"
                                },
                                {
                                    "oktato_id": "18",
                                    "nev": "Nógrádi Kata",
                                    "óratípus": "hét közben",
                                    "óraszám": "1"
                                },
                                {
                                    "oktato_id": "20",
                                    "nev": "Kovács András",
                                    "óratípus": "hét eleje",
                                    "óraszám": "2"
                                },
                                {
                                    "oktato_id": "20",
                                    "nev": "Kovács András",
                                    "óratípus": "hét közben",
                                    "óraszám": "2"
                                },
                                {
                                    "oktato_id": "104",
                                    "nev": "Ludas Mátyás",
                                    "óratípus": "hét eleje",
                                    "óraszám": "1"
                                },
                                {
                                    "oktato_id": "104",
                                    "nev": "Ludas Mátyás",
                                    "óratípus": "hét közben",
                                    "óraszám": "1"
                                },
                                {
                                    "oktato_id": "108",
                                    "nev": "Róbert Gida",
                                    "óratípus": "hét közben",
                                    "óraszám": "1"
                                },
                                {
                                    "oktato_id": "111",
                                    "nev": "Vitéz János",
                                    "óratípus": "hét közben",
                                    "óraszám": "2"
                                },
                                {
                                    "oktato_id": "111",
                                    "nev": "Vitéz János",
                                    "óratípus": "hét vége",
                                    "óraszám": "2"
                                },
                                {
                                    "oktato_id": "200",
                                    "nev": "Aranyi Mária",
                                    "óratípus": "hét eleje",
                                    "óraszám": "1"
                                },
                                {
                                    "oktato_id": "300",
                                    "nev": "Szabó Andrera",
                                    "óratípus": "hét közben",
                                    "óraszám": "2"
                                },
                                {
                                    "oktato_id": "301",
                                    "nev": "Juhász András",
                                    "óratípus": "hét közben",
                                    "óraszám": "2"
                                }
                            ]
                        },
                        "text/html": "<table><tr><th>oktato_id</th><th>nev</th><th>óratípus</th><th>óraszám</th></tr><tr><td>1</td><td>Kovács László</td><td>hét közben</td><td>3</td></tr><tr><td>1</td><td>Kovács László</td><td>hét vége</td><td>1</td></tr><tr><td>2</td><td>Szentágotai Istvás</td><td>hét eleje</td><td>1</td></tr><tr><td>2</td><td>Szentágotai Istvás</td><td>hét közben</td><td>5</td></tr><tr><td>2</td><td>Szentágotai Istvás</td><td>hét vége</td><td>2</td></tr><tr><td>3</td><td>Szerb László</td><td>hét közben</td><td>3</td></tr><tr><td>4</td><td>Ujfalussi István</td><td>hét eleje</td><td>1</td></tr><tr><td>4</td><td>Ujfalussi István</td><td>hét közben</td><td>2</td></tr><tr><td>5</td><td>Balkán András</td><td>hét eleje</td><td>2</td></tr><tr><td>5</td><td>Balkán András</td><td>hét közben</td><td>1</td></tr><tr><td>6</td><td>Szép llonka</td><td>hét eleje</td><td>4</td></tr><tr><td>7</td><td>Kiss János</td><td>hét eleje</td><td>2</td></tr><tr><td>7</td><td>Kiss János</td><td>hét közben</td><td>2</td></tr><tr><td>8</td><td>Pelikán József</td><td>hét eleje</td><td>3</td></tr><tr><td>8</td><td>Pelikán József</td><td>hét közben</td><td>3</td></tr><tr><td>9</td><td>Farkasos Piroska</td><td>hét eleje</td><td>2</td></tr><tr><td>9</td><td>Farkasos Piroska</td><td>hét közben</td><td>4</td></tr><tr><td>9</td><td>Farkasos Piroska</td><td>hét vége</td><td>1</td></tr><tr><td>10</td><td>Jogrerős Pál</td><td>hét eleje</td><td>2</td></tr><tr><td>12</td><td>Varga Kata</td><td>hét eleje</td><td>2</td></tr><tr><td>12</td><td>Varga Kata</td><td>hét közben</td><td>2</td></tr><tr><td>14</td><td>Szénási ászló</td><td>hét közben</td><td>2</td></tr><tr><td>18</td><td>Nógrádi Kata</td><td>hét közben</td><td>1</td></tr><tr><td>20</td><td>Kovács András</td><td>hét eleje</td><td>2</td></tr><tr><td>20</td><td>Kovács András</td><td>hét közben</td><td>2</td></tr><tr><td>104</td><td>Ludas Mátyás</td><td>hét eleje</td><td>1</td></tr><tr><td>104</td><td>Ludas Mátyás</td><td>hét közben</td><td>1</td></tr><tr><td>108</td><td>Róbert Gida</td><td>hét közben</td><td>1</td></tr><tr><td>111</td><td>Vitéz János</td><td>hét közben</td><td>2</td></tr><tr><td>111</td><td>Vitéz János</td><td>hét vége</td><td>2</td></tr><tr><td>200</td><td>Aranyi Mária</td><td>hét eleje</td><td>1</td></tr><tr><td>300</td><td>Szabó Andrera</td><td>hét közben</td><td>2</td></tr><tr><td>301</td><td>Juhász András</td><td>hét közben</td><td>2</td></tr></table>"
                    },
                    "metadata": {}
                }
            ],
            "execution_count": 76
        },
        {
            "cell_type": "code",
            "source": [
                "SELECT okt.oktato_id, okt.nev, 'hét eleje', COUNT(o.ora_id)\r\n",
                "FROM Orak o JOIN Napok n On n.nap_id=o.nap\r\n",
                "            JOIn Oktatok okt ON okt.oktato_id=o.tanar\r\n",
                "WHERE n.nap = N'hétfő'\r\n",
                "GROUP BY okt.oktato_id, okt.nev, n.nap\r\n",
                "\r\n",
                "UNION \r\n",
                "\r\n",
                "SELECT okt.oktato_id, okt.nev, 'hét vége', COUNT(o.ora_id)\r\n",
                "FROM Orak o JOIN Napok n On n.nap_id=o.nap\r\n",
                "            JOIn Oktatok okt ON okt.oktato_id=o.tanar\r\n",
                "WHERE n.nap = N'péntek'\r\n",
                "GROUP BY okt.oktato_id, okt.nev\r\n",
                "\r\n",
                "UNION\r\n",
                "\r\n",
                "SELECT okt.oktato_id, okt.nev, 'hét közben', COUNT(o.ora_id)\r\n",
                "FROM Orak o JOIN Napok n On n.nap_id=o.nap\r\n",
                "            JOIn Oktatok okt ON okt.oktato_id=o.tanar\r\n",
                "WHERE (n.nap = N'kedd' OR n.nap = N'szerda' OR n.nap = N'csütörtök')\r\n",
                "GROUP BY okt.oktato_id, okt.nev"
            ],
            "metadata": {
                "azdata_cell_guid": "a380fc9f-ffc4-4423-872d-787fb53a33a1",
                "language": "sql"
            },
            "outputs": [
                {
                    "output_type": "display_data",
                    "data": {
                        "text/html": "(33 rows affected)"
                    },
                    "metadata": {}
                },
                {
                    "output_type": "display_data",
                    "data": {
                        "text/html": "Total execution time: 00:00:00.046"
                    },
                    "metadata": {}
                },
                {
                    "output_type": "execute_result",
                    "execution_count": 74,
                    "data": {
                        "application/vnd.dataresource+json": {
                            "schema": {
                                "fields": [
                                    {
                                        "name": "oktato_id"
                                    },
                                    {
                                        "name": "nev"
                                    },
                                    {
                                        "name": "(No column name)"
                                    },
                                    {
                                        "name": "(No column name)"
                                    }
                                ]
                            },
                            "data": [
                                {
                                    "oktato_id": "1",
                                    "nev": "Kovács László",
                                    "(No column name)": "3"
                                },
                                {
                                    "oktato_id": "1",
                                    "nev": "Kovács László",
                                    "(No column name)": "1"
                                },
                                {
                                    "oktato_id": "2",
                                    "nev": "Szentágotai Istvás",
                                    "(No column name)": "1"
                                },
                                {
                                    "oktato_id": "2",
                                    "nev": "Szentágotai Istvás",
                                    "(No column name)": "5"
                                },
                                {
                                    "oktato_id": "2",
                                    "nev": "Szentágotai Istvás",
                                    "(No column name)": "2"
                                },
                                {
                                    "oktato_id": "3",
                                    "nev": "Szerb László",
                                    "(No column name)": "3"
                                },
                                {
                                    "oktato_id": "4",
                                    "nev": "Ujfalussi István",
                                    "(No column name)": "1"
                                },
                                {
                                    "oktato_id": "4",
                                    "nev": "Ujfalussi István",
                                    "(No column name)": "2"
                                },
                                {
                                    "oktato_id": "5",
                                    "nev": "Balkán András",
                                    "(No column name)": "2"
                                },
                                {
                                    "oktato_id": "5",
                                    "nev": "Balkán András",
                                    "(No column name)": "1"
                                },
                                {
                                    "oktato_id": "6",
                                    "nev": "Szép llonka",
                                    "(No column name)": "4"
                                },
                                {
                                    "oktato_id": "7",
                                    "nev": "Kiss János",
                                    "(No column name)": "2"
                                },
                                {
                                    "oktato_id": "7",
                                    "nev": "Kiss János",
                                    "(No column name)": "2"
                                },
                                {
                                    "oktato_id": "8",
                                    "nev": "Pelikán József",
                                    "(No column name)": "3"
                                },
                                {
                                    "oktato_id": "8",
                                    "nev": "Pelikán József",
                                    "(No column name)": "3"
                                },
                                {
                                    "oktato_id": "9",
                                    "nev": "Farkasos Piroska",
                                    "(No column name)": "2"
                                },
                                {
                                    "oktato_id": "9",
                                    "nev": "Farkasos Piroska",
                                    "(No column name)": "4"
                                },
                                {
                                    "oktato_id": "9",
                                    "nev": "Farkasos Piroska",
                                    "(No column name)": "1"
                                },
                                {
                                    "oktato_id": "10",
                                    "nev": "Jogrerős Pál",
                                    "(No column name)": "2"
                                },
                                {
                                    "oktato_id": "12",
                                    "nev": "Varga Kata",
                                    "(No column name)": "2"
                                },
                                {
                                    "oktato_id": "12",
                                    "nev": "Varga Kata",
                                    "(No column name)": "2"
                                },
                                {
                                    "oktato_id": "14",
                                    "nev": "Szénási ászló",
                                    "(No column name)": "2"
                                },
                                {
                                    "oktato_id": "18",
                                    "nev": "Nógrádi Kata",
                                    "(No column name)": "1"
                                },
                                {
                                    "oktato_id": "20",
                                    "nev": "Kovács András",
                                    "(No column name)": "2"
                                },
                                {
                                    "oktato_id": "20",
                                    "nev": "Kovács András",
                                    "(No column name)": "2"
                                },
                                {
                                    "oktato_id": "104",
                                    "nev": "Ludas Mátyás",
                                    "(No column name)": "1"
                                },
                                {
                                    "oktato_id": "104",
                                    "nev": "Ludas Mátyás",
                                    "(No column name)": "1"
                                },
                                {
                                    "oktato_id": "108",
                                    "nev": "Róbert Gida",
                                    "(No column name)": "1"
                                },
                                {
                                    "oktato_id": "111",
                                    "nev": "Vitéz János",
                                    "(No column name)": "2"
                                },
                                {
                                    "oktato_id": "111",
                                    "nev": "Vitéz János",
                                    "(No column name)": "2"
                                },
                                {
                                    "oktato_id": "200",
                                    "nev": "Aranyi Mária",
                                    "(No column name)": "1"
                                },
                                {
                                    "oktato_id": "300",
                                    "nev": "Szabó Andrera",
                                    "(No column name)": "2"
                                },
                                {
                                    "oktato_id": "301",
                                    "nev": "Juhász András",
                                    "(No column name)": "2"
                                }
                            ]
                        },
                        "text/html": "<table><tr><th>oktato_id</th><th>nev</th><th>(No column name)</th><th>(No column name)</th></tr><tr><td>1</td><td>Kovács László</td><td>hét közben</td><td>3</td></tr><tr><td>1</td><td>Kovács László</td><td>hét vége</td><td>1</td></tr><tr><td>2</td><td>Szentágotai Istvás</td><td>hét eleje</td><td>1</td></tr><tr><td>2</td><td>Szentágotai Istvás</td><td>hét közben</td><td>5</td></tr><tr><td>2</td><td>Szentágotai Istvás</td><td>hét vége</td><td>2</td></tr><tr><td>3</td><td>Szerb László</td><td>hét közben</td><td>3</td></tr><tr><td>4</td><td>Ujfalussi István</td><td>hét eleje</td><td>1</td></tr><tr><td>4</td><td>Ujfalussi István</td><td>hét közben</td><td>2</td></tr><tr><td>5</td><td>Balkán András</td><td>hét eleje</td><td>2</td></tr><tr><td>5</td><td>Balkán András</td><td>hét közben</td><td>1</td></tr><tr><td>6</td><td>Szép llonka</td><td>hét eleje</td><td>4</td></tr><tr><td>7</td><td>Kiss János</td><td>hét eleje</td><td>2</td></tr><tr><td>7</td><td>Kiss János</td><td>hét közben</td><td>2</td></tr><tr><td>8</td><td>Pelikán József</td><td>hét eleje</td><td>3</td></tr><tr><td>8</td><td>Pelikán József</td><td>hét közben</td><td>3</td></tr><tr><td>9</td><td>Farkasos Piroska</td><td>hét eleje</td><td>2</td></tr><tr><td>9</td><td>Farkasos Piroska</td><td>hét közben</td><td>4</td></tr><tr><td>9</td><td>Farkasos Piroska</td><td>hét vége</td><td>1</td></tr><tr><td>10</td><td>Jogrerős Pál</td><td>hét eleje</td><td>2</td></tr><tr><td>12</td><td>Varga Kata</td><td>hét eleje</td><td>2</td></tr><tr><td>12</td><td>Varga Kata</td><td>hét közben</td><td>2</td></tr><tr><td>14</td><td>Szénási ászló</td><td>hét közben</td><td>2</td></tr><tr><td>18</td><td>Nógrádi Kata</td><td>hét közben</td><td>1</td></tr><tr><td>20</td><td>Kovács András</td><td>hét eleje</td><td>2</td></tr><tr><td>20</td><td>Kovács András</td><td>hét közben</td><td>2</td></tr><tr><td>104</td><td>Ludas Mátyás</td><td>hét eleje</td><td>1</td></tr><tr><td>104</td><td>Ludas Mátyás</td><td>hét közben</td><td>1</td></tr><tr><td>108</td><td>Róbert Gida</td><td>hét közben</td><td>1</td></tr><tr><td>111</td><td>Vitéz János</td><td>hét közben</td><td>2</td></tr><tr><td>111</td><td>Vitéz János</td><td>hét vége</td><td>2</td></tr><tr><td>200</td><td>Aranyi Mária</td><td>hét eleje</td><td>1</td></tr><tr><td>300</td><td>Szabó Andrera</td><td>hét közben</td><td>2</td></tr><tr><td>301</td><td>Juhász András</td><td>hét közben</td><td>2</td></tr></table>"
                    },
                    "metadata": {}
                }
            ],
            "execution_count": 74
        },
        {
            "cell_type": "code",
            "source": [
                "SELECT okt.oktato_id,\r\n",
                "       okt.nev,\r\n",
                "       CASE \r\n",
                "            WHEN n.nap = N'Hétfő' THEN 'Hét eleje'\r\n",
                "            WHEN n.nap IN ('Kedd', 'Szerda', 'Csütörtök') THEN 'hét közepe'\r\n",
                "            ELSE 'hét vége'\r\n",
                "       END AS 'Időszak',\r\n",
                "       COUNT(*)\r\n",
                "FROM Oktatok okt JOIN Orak o ON okt.oktato_id = o.tanar\r\n",
                "                 JOIN Napok n ON o.nap = n.nap_id\r\n",
                "GROUP BY okt.oktato_id, \r\n",
                "         okt.nev,\r\n",
                "         CASE \r\n",
                "            WHEN n.nap = N'Hétfő' THEN 'Hét eleje'\r\n",
                "            WHEN n.nap IN ('Kedd', 'Szerda', 'Csütörtök') THEN 'hét közepe'\r\n",
                "            ELSE 'hét vége'\r\n",
                "         END\r\n",
                "ORDER BY okt.oktato_id, okt.nev, 'Időszak'"
            ],
            "metadata": {
                "azdata_cell_guid": "ce846351-ddbe-4d8e-b8fb-2a92c73ac80b",
                "language": "sql",
                "tags": []
            },
            "outputs": [
                {
                    "output_type": "display_data",
                    "data": {
                        "text/html": "(33 rows affected)"
                    },
                    "metadata": {}
                },
                {
                    "output_type": "display_data",
                    "data": {
                        "text/html": "Total execution time: 00:00:00.044"
                    },
                    "metadata": {}
                },
                {
                    "output_type": "execute_result",
                    "execution_count": 71,
                    "data": {
                        "application/vnd.dataresource+json": {
                            "schema": {
                                "fields": [
                                    {
                                        "name": "oktato_id"
                                    },
                                    {
                                        "name": "nev"
                                    },
                                    {
                                        "name": "Időszak"
                                    },
                                    {
                                        "name": "(No column name)"
                                    }
                                ]
                            },
                            "data": [
                                {
                                    "oktato_id": "1",
                                    "nev": "Kovács László",
                                    "Időszak": "hét közepe",
                                    "(No column name)": "3"
                                },
                                {
                                    "oktato_id": "1",
                                    "nev": "Kovács László",
                                    "Időszak": "hét vége",
                                    "(No column name)": "1"
                                },
                                {
                                    "oktato_id": "2",
                                    "nev": "Szentágotai Istvás",
                                    "Időszak": "Hét eleje",
                                    "(No column name)": "1"
                                },
                                {
                                    "oktato_id": "2",
                                    "nev": "Szentágotai Istvás",
                                    "Időszak": "hét közepe",
                                    "(No column name)": "5"
                                },
                                {
                                    "oktato_id": "2",
                                    "nev": "Szentágotai Istvás",
                                    "Időszak": "hét vége",
                                    "(No column name)": "2"
                                },
                                {
                                    "oktato_id": "3",
                                    "nev": "Szerb László",
                                    "Időszak": "hét közepe",
                                    "(No column name)": "3"
                                },
                                {
                                    "oktato_id": "4",
                                    "nev": "Ujfalussi István",
                                    "Időszak": "Hét eleje",
                                    "(No column name)": "1"
                                },
                                {
                                    "oktato_id": "4",
                                    "nev": "Ujfalussi István",
                                    "Időszak": "hét közepe",
                                    "(No column name)": "2"
                                },
                                {
                                    "oktato_id": "5",
                                    "nev": "Balkán András",
                                    "Időszak": "Hét eleje",
                                    "(No column name)": "2"
                                },
                                {
                                    "oktato_id": "5",
                                    "nev": "Balkán András",
                                    "Időszak": "hét közepe",
                                    "(No column name)": "1"
                                },
                                {
                                    "oktato_id": "6",
                                    "nev": "Szép llonka",
                                    "Időszak": "Hét eleje",
                                    "(No column name)": "4"
                                },
                                {
                                    "oktato_id": "7",
                                    "nev": "Kiss János",
                                    "Időszak": "Hét eleje",
                                    "(No column name)": "2"
                                },
                                {
                                    "oktato_id": "7",
                                    "nev": "Kiss János",
                                    "Időszak": "hét közepe",
                                    "(No column name)": "2"
                                },
                                {
                                    "oktato_id": "8",
                                    "nev": "Pelikán József",
                                    "Időszak": "Hét eleje",
                                    "(No column name)": "3"
                                },
                                {
                                    "oktato_id": "8",
                                    "nev": "Pelikán József",
                                    "Időszak": "hét közepe",
                                    "(No column name)": "3"
                                },
                                {
                                    "oktato_id": "9",
                                    "nev": "Farkasos Piroska",
                                    "Időszak": "Hét eleje",
                                    "(No column name)": "2"
                                },
                                {
                                    "oktato_id": "9",
                                    "nev": "Farkasos Piroska",
                                    "Időszak": "hét közepe",
                                    "(No column name)": "4"
                                },
                                {
                                    "oktato_id": "9",
                                    "nev": "Farkasos Piroska",
                                    "Időszak": "hét vége",
                                    "(No column name)": "1"
                                },
                                {
                                    "oktato_id": "10",
                                    "nev": "Jogrerős Pál",
                                    "Időszak": "Hét eleje",
                                    "(No column name)": "2"
                                },
                                {
                                    "oktato_id": "12",
                                    "nev": "Varga Kata",
                                    "Időszak": "Hét eleje",
                                    "(No column name)": "2"
                                },
                                {
                                    "oktato_id": "12",
                                    "nev": "Varga Kata",
                                    "Időszak": "hét közepe",
                                    "(No column name)": "2"
                                },
                                {
                                    "oktato_id": "14",
                                    "nev": "Szénási ászló",
                                    "Időszak": "hét közepe",
                                    "(No column name)": "2"
                                },
                                {
                                    "oktato_id": "18",
                                    "nev": "Nógrádi Kata",
                                    "Időszak": "hét közepe",
                                    "(No column name)": "1"
                                },
                                {
                                    "oktato_id": "20",
                                    "nev": "Kovács András",
                                    "Időszak": "Hét eleje",
                                    "(No column name)": "2"
                                },
                                {
                                    "oktato_id": "20",
                                    "nev": "Kovács András",
                                    "Időszak": "hét közepe",
                                    "(No column name)": "2"
                                },
                                {
                                    "oktato_id": "104",
                                    "nev": "Ludas Mátyás",
                                    "Időszak": "Hét eleje",
                                    "(No column name)": "1"
                                },
                                {
                                    "oktato_id": "104",
                                    "nev": "Ludas Mátyás",
                                    "Időszak": "hét közepe",
                                    "(No column name)": "1"
                                },
                                {
                                    "oktato_id": "108",
                                    "nev": "Róbert Gida",
                                    "Időszak": "hét közepe",
                                    "(No column name)": "1"
                                },
                                {
                                    "oktato_id": "111",
                                    "nev": "Vitéz János",
                                    "Időszak": "hét közepe",
                                    "(No column name)": "2"
                                },
                                {
                                    "oktato_id": "111",
                                    "nev": "Vitéz János",
                                    "Időszak": "hét vége",
                                    "(No column name)": "2"
                                },
                                {
                                    "oktato_id": "200",
                                    "nev": "Aranyi Mária",
                                    "Időszak": "Hét eleje",
                                    "(No column name)": "1"
                                },
                                {
                                    "oktato_id": "300",
                                    "nev": "Szabó Andrera",
                                    "Időszak": "hét közepe",
                                    "(No column name)": "2"
                                },
                                {
                                    "oktato_id": "301",
                                    "nev": "Juhász András",
                                    "Időszak": "hét közepe",
                                    "(No column name)": "2"
                                }
                            ]
                        },
                        "text/html": "<table><tr><th>oktato_id</th><th>nev</th><th>Időszak</th><th>(No column name)</th></tr><tr><td>1</td><td>Kovács László</td><td>hét közepe</td><td>3</td></tr><tr><td>1</td><td>Kovács László</td><td>hét vége</td><td>1</td></tr><tr><td>2</td><td>Szentágotai Istvás</td><td>Hét eleje</td><td>1</td></tr><tr><td>2</td><td>Szentágotai Istvás</td><td>hét közepe</td><td>5</td></tr><tr><td>2</td><td>Szentágotai Istvás</td><td>hét vége</td><td>2</td></tr><tr><td>3</td><td>Szerb László</td><td>hét közepe</td><td>3</td></tr><tr><td>4</td><td>Ujfalussi István</td><td>Hét eleje</td><td>1</td></tr><tr><td>4</td><td>Ujfalussi István</td><td>hét közepe</td><td>2</td></tr><tr><td>5</td><td>Balkán András</td><td>Hét eleje</td><td>2</td></tr><tr><td>5</td><td>Balkán András</td><td>hét közepe</td><td>1</td></tr><tr><td>6</td><td>Szép llonka</td><td>Hét eleje</td><td>4</td></tr><tr><td>7</td><td>Kiss János</td><td>Hét eleje</td><td>2</td></tr><tr><td>7</td><td>Kiss János</td><td>hét közepe</td><td>2</td></tr><tr><td>8</td><td>Pelikán József</td><td>Hét eleje</td><td>3</td></tr><tr><td>8</td><td>Pelikán József</td><td>hét közepe</td><td>3</td></tr><tr><td>9</td><td>Farkasos Piroska</td><td>Hét eleje</td><td>2</td></tr><tr><td>9</td><td>Farkasos Piroska</td><td>hét közepe</td><td>4</td></tr><tr><td>9</td><td>Farkasos Piroska</td><td>hét vége</td><td>1</td></tr><tr><td>10</td><td>Jogrerős Pál</td><td>Hét eleje</td><td>2</td></tr><tr><td>12</td><td>Varga Kata</td><td>Hét eleje</td><td>2</td></tr><tr><td>12</td><td>Varga Kata</td><td>hét közepe</td><td>2</td></tr><tr><td>14</td><td>Szénási ászló</td><td>hét közepe</td><td>2</td></tr><tr><td>18</td><td>Nógrádi Kata</td><td>hét közepe</td><td>1</td></tr><tr><td>20</td><td>Kovács András</td><td>Hét eleje</td><td>2</td></tr><tr><td>20</td><td>Kovács András</td><td>hét közepe</td><td>2</td></tr><tr><td>104</td><td>Ludas Mátyás</td><td>Hét eleje</td><td>1</td></tr><tr><td>104</td><td>Ludas Mátyás</td><td>hét közepe</td><td>1</td></tr><tr><td>108</td><td>Róbert Gida</td><td>hét közepe</td><td>1</td></tr><tr><td>111</td><td>Vitéz János</td><td>hét közepe</td><td>2</td></tr><tr><td>111</td><td>Vitéz János</td><td>hét vége</td><td>2</td></tr><tr><td>200</td><td>Aranyi Mária</td><td>Hét eleje</td><td>1</td></tr><tr><td>300</td><td>Szabó Andrera</td><td>hét közepe</td><td>2</td></tr><tr><td>301</td><td>Juhász András</td><td>hét közepe</td><td>2</td></tr></table>"
                    },
                    "metadata": {}
                }
            ],
            "execution_count": 71
        },
        {
            "cell_type": "markdown",
            "source": [
                "10. <span style=\"background-color: rgb(255, 255, 255); color: rgb(36, 41, 47); font-family: -apple-system, BlinkMacSystemFont, &quot;Segoe UI&quot;, Helvetica, Arial, sans-serif, &quot;Apple Color Emoji&quot;, &quot;Segoe UI Emoji&quot;; font-size: 16px; font-weight: 600;\">Melyik napokon nincs órája Pelikán Józsefnek?</span>"
            ],
            "metadata": {
                "azdata_cell_guid": "217c5772-afe2-4a7c-b913-e3a3e09d6411"
            },
            "attachments": {}
        },
        {
            "cell_type": "code",
            "source": [
                "SELECT nap\r\n",
                "FROM napok\r\n",
                "\r\n",
                "EXCEPT\r\n",
                "\r\n",
                "SELECT n.nap\r\n",
                "FROM Orak o JOIN Oktatok okt On okt.oktato_id=o.tanar\r\n",
                "            JOIN Napok n ON n.nap_id = o.nap\r\n",
                "WHERE okt.nev = N'Pelikán József'"
            ],
            "metadata": {
                "azdata_cell_guid": "1fd52ce6-53c4-481e-9ec9-15480dd8be50",
                "language": "sql"
            },
            "outputs": [
                {
                    "output_type": "display_data",
                    "data": {
                        "text/html": "(3 rows affected)"
                    },
                    "metadata": {}
                },
                {
                    "output_type": "display_data",
                    "data": {
                        "text/html": "Total execution time: 00:00:00.039"
                    },
                    "metadata": {}
                },
                {
                    "output_type": "execute_result",
                    "metadata": {},
                    "execution_count": 1,
                    "data": {
                        "application/vnd.dataresource+json": {
                            "schema": {
                                "fields": [
                                    {
                                        "name": "nap"
                                    }
                                ]
                            },
                            "data": [
                                {
                                    "nap": "Csütörtök"
                                },
                                {
                                    "nap": "Péntek"
                                },
                                {
                                    "nap": "Szerda"
                                }
                            ]
                        },
                        "text/html": [
                            "<table>",
                            "<tr><th>nap</th></tr>",
                            "<tr><td>Csütörtök</td></tr>",
                            "<tr><td>Péntek</td></tr>",
                            "<tr><td>Szerda</td></tr>",
                            "</table>"
                        ]
                    }
                }
            ],
            "execution_count": 1
        },
        {
            "cell_type": "code",
            "source": [
                "SELECT nap\r\n",
                "FROM Napok \r\n",
                "\r\n",
                "\r\n",
                "EXCEPT\r\n",
                "\r\n",
                "SELECT n.nap\r\n",
                "FROM Orak ora JOIN Oktatok o ON ora.tanar = o.oktato_id\r\n",
                "              JOIN Napok N on ora.nap = n.nap_id\r\n",
                "WHERE o.nev='Pelikán József'"
            ],
            "metadata": {
                "azdata_cell_guid": "a9cc0926-3dbd-4ed8-8179-1c39d64a0762",
                "language": "sql",
                "tags": []
            },
            "outputs": [
                {
                    "output_type": "display_data",
                    "data": {
                        "text/html": "(3 rows affected)"
                    },
                    "metadata": {}
                },
                {
                    "output_type": "display_data",
                    "data": {
                        "text/html": "Total execution time: 00:00:00.269"
                    },
                    "metadata": {}
                },
                {
                    "output_type": "execute_result",
                    "metadata": {},
                    "execution_count": 2,
                    "data": {
                        "application/vnd.dataresource+json": {
                            "schema": {
                                "fields": [
                                    {
                                        "name": "nap"
                                    }
                                ]
                            },
                            "data": [
                                {
                                    "nap": "Csütörtök"
                                },
                                {
                                    "nap": "Péntek"
                                },
                                {
                                    "nap": "Szerda"
                                }
                            ]
                        },
                        "text/html": [
                            "<table>",
                            "<tr><th>nap</th></tr>",
                            "<tr><td>Csütörtök</td></tr>",
                            "<tr><td>Péntek</td></tr>",
                            "<tr><td>Szerda</td></tr>",
                            "</table>"
                        ]
                    }
                }
            ],
            "execution_count": 2
        },
        {
            "cell_type": "markdown",
            "source": [
                "**A 11-15 feladatok gyakorlásra szolgálnak a közelgő zh-ra :-)**\n",
                "\n",
                "11. _Készítsünk listát az oktatók adatairól!_\n",
                "\n",
                "1. Az oktatók titulusa és neve összefűzve jelenjen meg, közöttük szóközzel!\n",
                "2. Ha valakinek nincs titulusa, akkor csak a neve jelenjen meg, szóköz nélkül!\n",
                "3. A listát rendezzük a beosztás kódja, azon belül a státusz kódja szerint növekvő sorrendbe!\n",
                "4. Az oszlopokat nevezzük el értelemszerűen!"
            ],
            "metadata": {
                "azdata_cell_guid": "d2340f5f-1614-473c-b937-85740d67f7c1"
            },
            "attachments": {}
        },
        {
            "cell_type": "code",
            "source": [
                "SELECT CASE \r\n",
                "WHEN titulus IS NULL THEN nev\r\n",
                "ELSE titulus+' '+nev\r\n",
                "END AS 'név', beosztás, [status]\r\n",
                "FROM Oktatok\r\n",
                "ORDER BY 2,3"
            ],
            "metadata": {
                "azdata_cell_guid": "bab6cc1f-3a48-45d5-bf69-7109fed82880",
                "language": "sql"
            },
            "outputs": [
                {
                    "output_type": "display_data",
                    "data": {
                        "text/html": "(25 rows affected)"
                    },
                    "metadata": {}
                },
                {
                    "output_type": "display_data",
                    "data": {
                        "text/html": "Total execution time: 00:00:00.058"
                    },
                    "metadata": {}
                },
                {
                    "output_type": "execute_result",
                    "metadata": {},
                    "execution_count": 4,
                    "data": {
                        "application/vnd.dataresource+json": {
                            "schema": {
                                "fields": [
                                    {
                                        "name": "név"
                                    },
                                    {
                                        "name": "beosztás"
                                    },
                                    {
                                        "name": "status"
                                    }
                                ]
                            },
                            "data": [
                                {
                                    "név": "Nógrádi Kata",
                                    "beosztás": "1",
                                    "status": "1"
                                },
                                {
                                    "név": "Rácz András",
                                    "beosztás": "1",
                                    "status": "1"
                                },
                                {
                                    "név": "Kovács András",
                                    "beosztás": "1",
                                    "status": "1"
                                },
                                {
                                    "név": "Ludas Mátyás",
                                    "beosztás": "1",
                                    "status": "1"
                                },
                                {
                                    "név": "Aranyi Mária",
                                    "beosztás": "1",
                                    "status": "1"
                                },
                                {
                                    "név": "Szabó Andrera",
                                    "beosztás": "1",
                                    "status": "1"
                                },
                                {
                                    "név": "Kiss István",
                                    "beosztás": "1",
                                    "status": "2"
                                },
                                {
                                    "név": "Mészáros Kriszta",
                                    "beosztás": "1",
                                    "status": "2"
                                },
                                {
                                    "név": "Róbert Gida",
                                    "beosztás": "2",
                                    "status": "1"
                                },
                                {
                                    "név": "Vitéz János",
                                    "beosztás": "2",
                                    "status": "1"
                                },
                                {
                                    "név": "Kiss János",
                                    "beosztás": "2",
                                    "status": "1"
                                },
                                {
                                    "név": "Pelikán József",
                                    "beosztás": "2",
                                    "status": "3"
                                },
                                {
                                    "név": "Farkasos Piroska",
                                    "beosztás": "2",
                                    "status": "3"
                                },
                                {
                                    "név": "Dr. Szép llonka",
                                    "beosztás": "3",
                                    "status": "1"
                                },
                                {
                                    "név": "Szénási ászló",
                                    "beosztás": "3",
                                    "status": "1"
                                },
                                {
                                    "név": "Dr. Szentágotai Istvás",
                                    "beosztás": "3",
                                    "status": "2"
                                },
                                {
                                    "név": "Szerb László",
                                    "beosztás": "4",
                                    "status": "1"
                                },
                                {
                                    "név": "Dr. Józsa Gábor",
                                    "beosztás": "4",
                                    "status": "1"
                                },
                                {
                                    "név": "Dr. Varga Kata",
                                    "beosztás": "4",
                                    "status": "1"
                                },
                                {
                                    "név": "Dr. Balkán András",
                                    "beosztás": "4",
                                    "status": "2"
                                },
                                {
                                    "név": "Dr. Kovacs Istvan",
                                    "beosztás": "5",
                                    "status": "1"
                                },
                                {
                                    "név": "Dr. Juhász András",
                                    "beosztás": "6",
                                    "status": "1"
                                },
                                {
                                    "név": "Prof. Jogrerős Pál",
                                    "beosztás": "6",
                                    "status": "1"
                                },
                                {
                                    "név": "Dr. Kovács László",
                                    "beosztás": "6",
                                    "status": "2"
                                },
                                {
                                    "név": "Prof, tanszékvezető Ujfalussi István",
                                    "beosztás": "6",
                                    "status": "2"
                                }
                            ]
                        },
                        "text/html": [
                            "<table>",
                            "<tr><th>név</th><th>beosztás</th><th>status</th></tr>",
                            "<tr><td>Nógrádi Kata</td><td>1</td><td>1</td></tr>",
                            "<tr><td>Rácz András</td><td>1</td><td>1</td></tr>",
                            "<tr><td>Kovács András</td><td>1</td><td>1</td></tr>",
                            "<tr><td>Ludas Mátyás</td><td>1</td><td>1</td></tr>",
                            "<tr><td>Aranyi Mária</td><td>1</td><td>1</td></tr>",
                            "<tr><td>Szabó Andrera</td><td>1</td><td>1</td></tr>",
                            "<tr><td>Kiss István</td><td>1</td><td>2</td></tr>",
                            "<tr><td>Mészáros Kriszta</td><td>1</td><td>2</td></tr>",
                            "<tr><td>Róbert Gida</td><td>2</td><td>1</td></tr>",
                            "<tr><td>Vitéz János</td><td>2</td><td>1</td></tr>",
                            "<tr><td>Kiss János</td><td>2</td><td>1</td></tr>",
                            "<tr><td>Pelikán József</td><td>2</td><td>3</td></tr>",
                            "<tr><td>Farkasos Piroska</td><td>2</td><td>3</td></tr>",
                            "<tr><td>Dr. Szép llonka</td><td>3</td><td>1</td></tr>",
                            "<tr><td>Szénási ászló</td><td>3</td><td>1</td></tr>",
                            "<tr><td>Dr. Szentágotai Istvás</td><td>3</td><td>2</td></tr>",
                            "<tr><td>Szerb László</td><td>4</td><td>1</td></tr>",
                            "<tr><td>Dr. Józsa Gábor</td><td>4</td><td>1</td></tr>",
                            "<tr><td>Dr. Varga Kata</td><td>4</td><td>1</td></tr>",
                            "<tr><td>Dr. Balkán András</td><td>4</td><td>2</td></tr>",
                            "<tr><td>Dr. Kovacs Istvan</td><td>5</td><td>1</td></tr>",
                            "<tr><td>Dr. Juhász András</td><td>6</td><td>1</td></tr>",
                            "<tr><td>Prof. Jogrerős Pál</td><td>6</td><td>1</td></tr>",
                            "<tr><td>Dr. Kovács László</td><td>6</td><td>2</td></tr>",
                            "<tr><td>Prof, tanszékvezető Ujfalussi István</td><td>6</td><td>2</td></tr>",
                            "</table>"
                        ]
                    }
                }
            ],
            "execution_count": 4
        },
        {
            "cell_type": "code",
            "source": [
                "SELECT oktato_id,\r\n",
                "       IIF(titulus  IS NULL, nev, titulus + ' ' + nev) AS 'Oktató neve',\r\n",
                "       beosztás AS 'Beosztás kódja',\r\n",
                "       [status]  AS'Státusz kódja'\r\n",
                "FROM Oktatok\r\n",
                "ORDER BY beosztás, [status]"
            ],
            "metadata": {
                "azdata_cell_guid": "e99c2c53-898f-4787-b0e6-182d106dc16f",
                "language": "sql",
                "tags": []
            },
            "outputs": [],
            "execution_count": null
        },
        {
            "cell_type": "markdown",
            "source": [
                "<span style=\"color: #09885a;\">12</span>. Készítsünk listát, amely megmutatja, hogy összesen hány tantárgy van kreditenkénti csoportosításban!\n",
                "\n",
                "  \n",
                "\n",
                "A listából hagyjuk ki azokat a tételeket, ahol ez a darabszám <span style=\"color: #09885a;\">1</span>!\n",
                "\n",
                "A Folyami gáttan tantárgyat ne vegyük figyelembe!\n",
                "\n",
                "A listát rendezzük darabszám szerint csökkenő sorrendbe!\n",
                "\n",
                "Az oszlopokat nevezzük el értelemszerűen!"
            ],
            "metadata": {
                "azdata_cell_guid": "a765e9d6-58b3-4171-872a-78f3118fd6e3"
            },
            "attachments": {}
        },
        {
            "cell_type": "code",
            "source": [
                "SELECT Kredit, COUNT(Tkód) as db\r\n",
                "FROM Tantárgyak\r\n",
                "WHERE Tantárgynév <> N'Folyami gáttan'\r\n",
                "GROUP BY Kredit\r\n",
                "HAVING COUNT(Tkód) <> 1\r\n",
                "ORDER BY COUNT(Tkód) DESC"
            ],
            "metadata": {
                "azdata_cell_guid": "81714231-4139-41cc-8131-6639490d9b35",
                "language": "sql"
            },
            "outputs": [
                {
                    "output_type": "display_data",
                    "data": {
                        "text/html": "(4 rows affected)"
                    },
                    "metadata": {}
                },
                {
                    "output_type": "display_data",
                    "data": {
                        "text/html": "Total execution time: 00:00:00.019"
                    },
                    "metadata": {}
                },
                {
                    "output_type": "execute_result",
                    "metadata": {},
                    "execution_count": 10,
                    "data": {
                        "application/vnd.dataresource+json": {
                            "schema": {
                                "fields": [
                                    {
                                        "name": "Kredit"
                                    },
                                    {
                                        "name": "db"
                                    }
                                ]
                            },
                            "data": [
                                {
                                    "Kredit": "1",
                                    "db": "2"
                                },
                                {
                                    "Kredit": "4",
                                    "db": "2"
                                },
                                {
                                    "Kredit": "2",
                                    "db": "3"
                                },
                                {
                                    "Kredit": "3",
                                    "db": "3"
                                }
                            ]
                        },
                        "text/html": [
                            "<table>",
                            "<tr><th>Kredit</th><th>db</th></tr>",
                            "<tr><td>1</td><td>2</td></tr>",
                            "<tr><td>4</td><td>2</td></tr>",
                            "<tr><td>2</td><td>3</td></tr>",
                            "<tr><td>3</td><td>3</td></tr>",
                            "</table>"
                        ]
                    }
                }
            ],
            "execution_count": 10
        },
        {
            "cell_type": "code",
            "source": [
                "SELECT kredit AS 'Kreditek száma', \r\n",
                "       COUNT(*) AS 'DB'\r\n",
                "FROM Tantárgyak\r\n",
                "WHERE Tantárgynév <> 'Folyami gáttan'\r\n",
                "GROUP BY kredit\r\n",
                "HAVING COUNT(*)<>1\r\n",
                "ORDER BY DB DESC"
            ],
            "metadata": {
                "azdata_cell_guid": "422e8127-b652-4d3a-bfd7-9b1637b5781e",
                "language": "sql",
                "tags": []
            },
            "outputs": [],
            "execution_count": null
        },
        {
            "cell_type": "markdown",
            "source": [
                "13. _Készítsünk listát az oktatók nevéről, a beosztásuk alapján elvárt és a tényleges óraszámukról!_\n",
                "\n",
                "1. Az oszlopok neve legyen 'Oktató neve', 'Elvárt óraszám' és 'Tényleges óraszám'\n",
                "2. Szűrjük a listát azokra az oktatókra, ahol az elvárt és a tényleges óraszám azonos"
            ],
            "metadata": {
                "azdata_cell_guid": "3f9237ae-f109-401c-acb9-31d75e73331b"
            },
            "attachments": {}
        },
        {
            "cell_type": "code",
            "source": [
                "SELECT okt.nev, b.elvart, COUNT(ora_id) AS 'tényleges'\r\n",
                "FROM Oktatok okt JOIN Orak o ON o.tanar = okt.oktato_id\r\n",
                "                JOIN Beosztasok b ON b.beosztas_id=okt.beosztás\r\n",
                "GROUP BY okt.nev, b.elvart\r\n",
                "HAVING b.elvart = COUNT(ora_id)\r\n",
                ""
            ],
            "metadata": {
                "azdata_cell_guid": "67b5c2d9-117d-4516-b5f8-9650d55cf380",
                "language": "sql"
            },
            "outputs": [
                {
                    "output_type": "display_data",
                    "data": {
                        "text/html": "(4 rows affected)"
                    },
                    "metadata": {}
                },
                {
                    "output_type": "display_data",
                    "data": {
                        "text/html": "Total execution time: 00:00:00.065"
                    },
                    "metadata": {}
                },
                {
                    "output_type": "execute_result",
                    "metadata": {},
                    "execution_count": 12,
                    "data": {
                        "application/vnd.dataresource+json": {
                            "schema": {
                                "fields": [
                                    {
                                        "name": "nev"
                                    },
                                    {
                                        "name": "elvart"
                                    },
                                    {
                                        "name": "tényleges"
                                    }
                                ]
                            },
                            "data": [
                                {
                                    "nev": "Jogrerős Pál",
                                    "elvart": "2",
                                    "tényleges": "2"
                                },
                                {
                                    "nev": "Juhász András",
                                    "elvart": "2",
                                    "tényleges": "2"
                                },
                                {
                                    "nev": "Varga Kata",
                                    "elvart": "4",
                                    "tényleges": "4"
                                },
                                {
                                    "nev": "Pelikán József",
                                    "elvart": "6",
                                    "tényleges": "6"
                                }
                            ]
                        },
                        "text/html": [
                            "<table>",
                            "<tr><th>nev</th><th>elvart</th><th>tényleges</th></tr>",
                            "<tr><td>Jogrerős Pál</td><td>2</td><td>2</td></tr>",
                            "<tr><td>Juhász András</td><td>2</td><td>2</td></tr>",
                            "<tr><td>Varga Kata</td><td>4</td><td>4</td></tr>",
                            "<tr><td>Pelikán József</td><td>6</td><td>6</td></tr>",
                            "</table>"
                        ]
                    }
                }
            ],
            "execution_count": 12
        },
        {
            "cell_type": "code",
            "source": [
                "SELECT o.nev AS 'Oktató neve', \r\n",
                "                 b.elvart AS 'Elvárt óraszám', \r\n",
                "                 COUNT(*) AS 'Tényleges óraszám'\r\n",
                "FROM Orak ora JOIN Oktatok o ON ora.tanar = o.oktato_id\r\n",
                "\t\t\t  JOIN Beosztasok b ON o.beosztás = b.beosztas_id\r\n",
                "GROUP BY o.nev, b.elvart\r\n",
                "HAVING COUNT(*) = b.elvart"
            ],
            "metadata": {
                "azdata_cell_guid": "4b31bb89-cfbc-46b1-8639-85c462877786",
                "language": "sql",
                "tags": []
            },
            "outputs": [
                {
                    "output_type": "display_data",
                    "data": {
                        "text/html": "(4 rows affected)"
                    },
                    "metadata": {}
                },
                {
                    "output_type": "display_data",
                    "data": {
                        "text/html": "Total execution time: 00:00:00.055"
                    },
                    "metadata": {}
                },
                {
                    "output_type": "execute_result",
                    "metadata": {},
                    "execution_count": 13,
                    "data": {
                        "application/vnd.dataresource+json": {
                            "schema": {
                                "fields": [
                                    {
                                        "name": "Oktató neve"
                                    },
                                    {
                                        "name": "Elvárt óraszám"
                                    },
                                    {
                                        "name": "Tényleges óraszám"
                                    }
                                ]
                            },
                            "data": [
                                {
                                    "Oktató neve": "Jogrerős Pál",
                                    "Elvárt óraszám": "2",
                                    "Tényleges óraszám": "2"
                                },
                                {
                                    "Oktató neve": "Juhász András",
                                    "Elvárt óraszám": "2",
                                    "Tényleges óraszám": "2"
                                },
                                {
                                    "Oktató neve": "Varga Kata",
                                    "Elvárt óraszám": "4",
                                    "Tényleges óraszám": "4"
                                },
                                {
                                    "Oktató neve": "Pelikán József",
                                    "Elvárt óraszám": "6",
                                    "Tényleges óraszám": "6"
                                }
                            ]
                        },
                        "text/html": [
                            "<table>",
                            "<tr><th>Oktató neve</th><th>Elvárt óraszám</th><th>Tényleges óraszám</th></tr>",
                            "<tr><td>Jogrerős Pál</td><td>2</td><td>2</td></tr>",
                            "<tr><td>Juhász András</td><td>2</td><td>2</td></tr>",
                            "<tr><td>Varga Kata</td><td>4</td><td>4</td></tr>",
                            "<tr><td>Pelikán József</td><td>6</td><td>6</td></tr>",
                            "</table>"
                        ]
                    }
                }
            ],
            "execution_count": 13
        },
        {
            "cell_type": "markdown",
            "source": [
                "14. _Készítsünk listát, amely megmutatja, hogy mely tantárgyból nincs óra egyáltalán!_\n",
                "\n",
                "1. Csak a tantárgy neve jelenjen meg!"
            ],
            "metadata": {
                "azdata_cell_guid": "f634e09a-85ef-4e70-8ec6-ef355dfddaa7"
            },
            "attachments": {}
        },
        {
            "cell_type": "code",
            "source": [
                "SELECT t.Tantárgynév\r\n",
                "FROM Orak o  RIGHT JOIN Tantárgyak t ON t.Tkód=o.targy\r\n",
                "WHERE ora_id IS NULL"
            ],
            "metadata": {
                "azdata_cell_guid": "fab16a7f-fe05-491a-89e0-f9850eabfd40",
                "language": "sql"
            },
            "outputs": [
                {
                    "output_type": "display_data",
                    "data": {
                        "text/html": "(1 row affected)"
                    },
                    "metadata": {}
                },
                {
                    "output_type": "display_data",
                    "data": {
                        "text/html": "Total execution time: 00:00:00.029"
                    },
                    "metadata": {}
                },
                {
                    "output_type": "execute_result",
                    "metadata": {},
                    "execution_count": 18,
                    "data": {
                        "application/vnd.dataresource+json": {
                            "schema": {
                                "fields": [
                                    {
                                        "name": "Tantárgynév"
                                    }
                                ]
                            },
                            "data": [
                                {
                                    "Tantárgynév": "Folyami gáttan"
                                }
                            ]
                        },
                        "text/html": [
                            "<table>",
                            "<tr><th>Tantárgynév</th></tr>",
                            "<tr><td>Folyami gáttan</td></tr>",
                            "</table>"
                        ]
                    }
                }
            ],
            "execution_count": 18
        },
        {
            "cell_type": "code",
            "source": [
                "SELECT t.Tantárgynév AS 'Tantárgynév'\r\n",
                "FROM Tantárgyak t LEFT JOIN Orak o ON t.Tkód = o.targy\r\n",
                "WHERE o.targy IS NULL"
            ],
            "metadata": {
                "azdata_cell_guid": "88abc55b-2c78-495b-a72f-3f8f4eb5fe70",
                "language": "sql",
                "tags": []
            },
            "outputs": [
                {
                    "output_type": "display_data",
                    "data": {
                        "text/html": "(1 row affected)"
                    },
                    "metadata": {}
                },
                {
                    "output_type": "display_data",
                    "data": {
                        "text/html": "Total execution time: 00:00:00.025"
                    },
                    "metadata": {}
                },
                {
                    "output_type": "execute_result",
                    "metadata": {},
                    "execution_count": 19,
                    "data": {
                        "application/vnd.dataresource+json": {
                            "schema": {
                                "fields": [
                                    {
                                        "name": "Tantárgynév"
                                    }
                                ]
                            },
                            "data": [
                                {
                                    "Tantárgynév": "Folyami gáttan"
                                }
                            ]
                        },
                        "text/html": [
                            "<table>",
                            "<tr><th>Tantárgynév</th></tr>",
                            "<tr><td>Folyami gáttan</td></tr>",
                            "</table>"
                        ]
                    }
                }
            ],
            "execution_count": 19
        },
        {
            "cell_type": "markdown",
            "source": [
                "15. _Hány órájuk van az óraadóknak napi bontásban?_\n",
                "\n",
                "1. Csak a napok nevét és az óraszámot jelenítsük meg!\n",
                "2. Rendezzük a listát óraszám szerint növekvő sorrendbe!"
            ],
            "metadata": {
                "azdata_cell_guid": "4cbf2f0d-a65d-480a-8186-ccdb24498443"
            },
            "attachments": {}
        },
        {
            "cell_type": "code",
            "source": [
                "SELECT n.nap, Count(ora_id)\r\n",
                "\r\n",
                "FROM Oktatok okt JOIN Beosztasok b ON b.beosztas_id=okt.beosztás\r\n",
                "                JOIN Orak o ON o.tanar=okt.oktato_id\r\n",
                "                JOIN Napok n ON n.nap_id=o.nap\r\n",
                "WHERE beosztasnev='Óraadó'\r\n",
                "GROUP BY n.nap\r\n",
                "ORDER BY "
            ],
            "metadata": {
                "azdata_cell_guid": "2e3a729e-ba2d-4216-ba2f-25a0441e5e64",
                "language": "sql"
            },
            "outputs": [
                {
                    "output_type": "display_data",
                    "data": {
                        "text/html": "(3 rows affected)"
                    },
                    "metadata": {}
                },
                {
                    "output_type": "display_data",
                    "data": {
                        "text/html": "Total execution time: 00:00:00.237"
                    },
                    "metadata": {}
                },
                {
                    "output_type": "execute_result",
                    "metadata": {},
                    "execution_count": 20,
                    "data": {
                        "application/vnd.dataresource+json": {
                            "schema": {
                                "fields": [
                                    {
                                        "name": "nap"
                                    },
                                    {
                                        "name": "(No column name)"
                                    }
                                ]
                            },
                            "data": [
                                {
                                    "nap": "Csütörtök",
                                    "(No column name)": "5"
                                },
                                {
                                    "nap": "Hétfő",
                                    "(No column name)": "4"
                                },
                                {
                                    "nap": "Kedd",
                                    "(No column name)": "1"
                                }
                            ]
                        },
                        "text/html": [
                            "<table>",
                            "<tr><th>nap</th><th>(No column name)</th></tr>",
                            "<tr><td>Csütörtök</td><td>5</td></tr>",
                            "<tr><td>Hétfő</td><td>4</td></tr>",
                            "<tr><td>Kedd</td><td>1</td></tr>",
                            "</table>"
                        ]
                    }
                }
            ],
            "execution_count": 20
        },
        {
            "cell_type": "code",
            "source": [
                "--A feladat a Beosztások táblát használva is megoldható\r\n",
                "SELECT n.nap , \r\n",
                "       COUNT(*) AS 'Óraszám'\r\n",
                "FROM Orak ora JOIN Oktatok o ON ora.tanar = o.oktato_id\r\n",
                "              JOIN Napok n ON ora.nap = n.nap_id\r\n",
                "\t\t\t  JOIN statusok s on o.status = s.Skod\r\n",
                "WHERE s.Status = 'Óraadó'\r\n",
                "GROUP BY n.nap\r\n",
                "ORDER BY 2"
            ],
            "metadata": {
                "azdata_cell_guid": "c148aee8-bc85-40bf-b80a-a4898a6c05cb",
                "language": "sql",
                "tags": []
            },
            "outputs": [
                {
                    "output_type": "display_data",
                    "data": {
                        "text/html": "(5 rows affected)"
                    },
                    "metadata": {}
                },
                {
                    "output_type": "display_data",
                    "data": {
                        "text/html": "Total execution time: 00:00:01.006"
                    },
                    "metadata": {}
                },
                {
                    "output_type": "execute_result",
                    "metadata": {},
                    "execution_count": 21,
                    "data": {
                        "application/vnd.dataresource+json": {
                            "schema": {
                                "fields": [
                                    {
                                        "name": "nap"
                                    },
                                    {
                                        "name": "Óraszám"
                                    }
                                ]
                            },
                            "data": [
                                {
                                    "nap": "Péntek",
                                    "Óraszám": "1"
                                },
                                {
                                    "nap": "Szerda",
                                    "Óraszám": "1"
                                },
                                {
                                    "nap": "Csütörtök",
                                    "Óraszám": "3"
                                },
                                {
                                    "nap": "Kedd",
                                    "Óraszám": "3"
                                },
                                {
                                    "nap": "Hétfő",
                                    "Óraszám": "5"
                                }
                            ]
                        },
                        "text/html": [
                            "<table>",
                            "<tr><th>nap</th><th>Óraszám</th></tr>",
                            "<tr><td>Péntek</td><td>1</td></tr>",
                            "<tr><td>Szerda</td><td>1</td></tr>",
                            "<tr><td>Csütörtök</td><td>3</td></tr>",
                            "<tr><td>Kedd</td><td>3</td></tr>",
                            "<tr><td>Hétfő</td><td>5</td></tr>",
                            "</table>"
                        ]
                    }
                }
            ],
            "execution_count": 21
        },
        {
            "cell_type": "code",
            "source": [
                "SELECT *\r\n",
                "FROM Beosztasok"
            ],
            "metadata": {
                "azdata_cell_guid": "876374c6-2356-4906-a3cf-a261f196fbe6",
                "language": "sql"
            },
            "outputs": [
                {
                    "output_type": "display_data",
                    "data": {
                        "text/html": "(7 rows affected)"
                    },
                    "metadata": {}
                },
                {
                    "output_type": "display_data",
                    "data": {
                        "text/html": "Total execution time: 00:00:00.028"
                    },
                    "metadata": {}
                },
                {
                    "output_type": "execute_result",
                    "metadata": {},
                    "execution_count": 23,
                    "data": {
                        "application/vnd.dataresource+json": {
                            "schema": {
                                "fields": [
                                    {
                                        "name": "beosztas_id"
                                    },
                                    {
                                        "name": "beosztasnev"
                                    },
                                    {
                                        "name": "elvart"
                                    }
                                ]
                            },
                            "data": [
                                {
                                    "beosztas_id": "1",
                                    "beosztasnev": "Óraadó",
                                    "elvart": "6"
                                },
                                {
                                    "beosztas_id": "2",
                                    "beosztasnev": "Tanársegéd",
                                    "elvart": "6"
                                },
                                {
                                    "beosztas_id": "3",
                                    "beosztasnev": "Adjunktus",
                                    "elvart": "5"
                                },
                                {
                                    "beosztas_id": "4",
                                    "beosztasnev": "Docens",
                                    "elvart": "4"
                                },
                                {
                                    "beosztas_id": "5",
                                    "beosztasnev": "Professzor",
                                    "elvart": "3"
                                },
                                {
                                    "beosztas_id": "6",
                                    "beosztasnev": "Egyetemi tanár",
                                    "elvart": "2"
                                },
                                {
                                    "beosztas_id": "7",
                                    "beosztasnev": "Tudományos munkatárs",
                                    "elvart": "4"
                                }
                            ]
                        },
                        "text/html": [
                            "<table>",
                            "<tr><th>beosztas_id</th><th>beosztasnev</th><th>elvart</th></tr>",
                            "<tr><td>1</td><td>Óraadó</td><td>6</td></tr>",
                            "<tr><td>2</td><td>Tanársegéd</td><td>6</td></tr>",
                            "<tr><td>3</td><td>Adjunktus</td><td>5</td></tr>",
                            "<tr><td>4</td><td>Docens</td><td>4</td></tr>",
                            "<tr><td>5</td><td>Professzor</td><td>3</td></tr>",
                            "<tr><td>6</td><td>Egyetemi tanár</td><td>2</td></tr>",
                            "<tr><td>7</td><td>Tudományos munkatárs</td><td>4</td></tr>",
                            "</table>"
                        ]
                    }
                }
            ],
            "execution_count": 23
        }
    ]
}