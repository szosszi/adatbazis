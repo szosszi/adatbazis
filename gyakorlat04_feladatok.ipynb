{
    "metadata": {
        "kernelspec": {
            "name": "SQL",
            "display_name": "SQL",
            "language": "sql"
        },
        "language_info": {
            "name": "sql",
            "version": ""
        }
    },
    "nbformat_minor": 2,
    "nbformat": 4,
    "cells": [
        {
            "cell_type": "markdown",
            "source": [
                "1. <span style=\"background-color: rgb(255, 255, 255); color: rgb(0, 0, 0); font-family: &quot;Open Sans&quot;, sans-serif; font-size: 14.44px;\">Készítsünk listát arról, hogy ügyfelenként (LOGIN), azon belül szállítási módonként hány megrendelés történt!&nbsp;</span> \n",
                "\n",
                "a. A lista tartalmazza a részösszegeket és a végösszeget is!  \n",
                "b. Használjuk a ROLLUP záradékot!"
            ],
            "metadata": {
                "azdata_cell_guid": "363cd270-6577-449b-9c89-d4b7c7972d52"
            },
            "attachments": {}
        },
        {
            "cell_type": "code",
            "source": [
                "SELECT LOGIN, szall_mod, COUNT(*)\r\n",
                "FROM Rendeles\r\n",
                "CUBE GROUP BY LOGIN, szall_mod"
            ],
            "metadata": {
                "azdata_cell_guid": "6ab9f633-a3b5-48c9-a1dc-4fb8235ae85b",
                "language": "sql"
            },
            "outputs": [
                {
                    "output_type": "display_data",
                    "data": {
                        "text/html": "(571 rows affected)"
                    },
                    "metadata": {}
                },
                {
                    "output_type": "display_data",
                    "data": {
                        "text/html": "Total execution time: 00:00:00.079"
                    },
                    "metadata": {}
                },
                {
                    "output_type": "execute_result",
                    "metadata": {},
                    "execution_count": 7,
                    "data": {
                        "application/vnd.dataresource+json": {
                            "schema": {
                                "fields": [
                                    {
                                        "name": "LOGIN"
                                    },
                                    {
                                        "name": "szall_mod"
                                    },
                                    {
                                        "name": "(No column name)"
                                    }
                                ]
                            },
                            "data": [
                                {
                                    "LOGIN": "NIKOLETTAT",
                                    "szall_mod": "Posta",
                                    "(No column name)": "7"
                                },
                                {
                                    "LOGIN": "tihamer",
                                    "szall_mod": "Személyes átvétel",
                                    "(No column name)": "5"
                                },
                                {
                                    "LOGIN": "IBOLYAA",
                                    "szall_mod": "Személyes átvétel",
                                    "(No column name)": "157"
                                },
                                {
                                    "LOGIN": "anita",
                                    "szall_mod": "GLS",
                                    "(No column name)": "5"
                                },
                                {
                                    "LOGIN": "krisztina1",
                                    "szall_mod": "Személyes átvétel",
                                    "(No column name)": "8"
                                },
                                {
                                    "LOGIN": "BEATRIXS",
                                    "szall_mod": "Személyes átvétel",
                                    "(No column name)": "133"
                                },
                                {
                                    "LOGIN": "szilvia1",
                                    "szall_mod": "Személyes átvétel",
                                    "(No column name)": "138"
                                },
                                {
                                    "LOGIN": "sandor3",
                                    "szall_mod": "Posta",
                                    "(No column name)": "4"
                                },
                                {
                                    "LOGIN": "david1",
                                    "szall_mod": "Személyes átvétel",
                                    "(No column name)": "8"
                                },
                                {
                                    "LOGIN": "emese",
                                    "szall_mod": "Személyes átvétel",
                                    "(No column name)": "142"
                                },
                                {
                                    "LOGIN": "gabriella10",
                                    "szall_mod": "Személyes átvétel",
                                    "(No column name)": "7"
                                },
                                {
                                    "LOGIN": "julianna4",
                                    "szall_mod": "Posta",
                                    "(No column name)": "12"
                                },
                                {
                                    "LOGIN": "agnes3",
                                    "szall_mod": "Posta",
                                    "(No column name)": "146"
                                },
                                {
                                    "LOGIN": "ARPADH",
                                    "szall_mod": "Személyes átvétel",
                                    "(No column name)": "5"
                                },
                                {
                                    "LOGIN": "daniel",
                                    "szall_mod": "GLS",
                                    "(No column name)": "7"
                                },
                                {
                                    "LOGIN": "anett3",
                                    "szall_mod": "Személyes átvétel",
                                    "(No column name)": "9"
                                },
                                {
                                    "LOGIN": "eva",
                                    "szall_mod": "Személyes átvétel",
                                    "(No column name)": "139"
                                },
                                {
                                    "LOGIN": "katalin4",
                                    "szall_mod": "Személyes átvétel",
                                    "(No column name)": "11"
                                },
                                {
                                    "LOGIN": "andras2",
                                    "szall_mod": "GLS",
                                    "(No column name)": "4"
                                },
                                {
                                    "LOGIN": "JOZSEFG",
                                    "szall_mod": "Posta",
                                    "(No column name)": "1"
                                },
                                {
                                    "LOGIN": "ROBERTP",
                                    "szall_mod": "Személyes átvétel",
                                    "(No column name)": "10"
                                },
                                {
                                    "LOGIN": "arpad2",
                                    "szall_mod": "GLS",
                                    "(No column name)": "6"
                                },
                                {
                                    "LOGIN": "zsofi1",
                                    "szall_mod": "Személyes átvétel",
                                    "(No column name)": "6"
                                },
                                {
                                    "LOGIN": "imre1",
                                    "szall_mod": "GLS",
                                    "(No column name)": "8"
                                },
                                {
                                    "LOGIN": "ferenc1",
                                    "szall_mod": "Posta",
                                    "(No column name)": "158"
                                },
                                {
                                    "LOGIN": "bence",
                                    "szall_mod": "Személyes átvétel",
                                    "(No column name)": "8"
                                },
                                {
                                    "LOGIN": "sara",
                                    "szall_mod": "Személyes átvétel",
                                    "(No column name)": "9"
                                },
                                {
                                    "LOGIN": "GYORGYO",
                                    "szall_mod": "Személyes átvétel",
                                    "(No column name)": "5"
                                },
                                {
                                    "LOGIN": "AGNESK",
                                    "szall_mod": "Posta",
                                    "(No column name)": "7"
                                },
                                {
                                    "LOGIN": "krisztina",
                                    "szall_mod": "Posta",
                                    "(No column name)": "150"
                                },
                                {
                                    "LOGIN": "ISTVANV",
                                    "szall_mod": "GLS",
                                    "(No column name)": "4"
                                },
                                {
                                    "LOGIN": "TAMASF",
                                    "szall_mod": "Személyes átvétel",
                                    "(No column name)": "129"
                                },
                                {
                                    "LOGIN": "SZABOLCSM",
                                    "szall_mod": "GLS",
                                    "(No column name)": "126"
                                },
                                {
                                    "LOGIN": "andras4",
                                    "szall_mod": "Személyes átvétel",
                                    "(No column name)": "4"
                                },
                                {
                                    "LOGIN": "andi",
                                    "szall_mod": "Személyes átvétel",
                                    "(No column name)": "7"
                                },
                                {
                                    "LOGIN": "brigitta",
                                    "szall_mod": "GLS",
                                    "(No column name)": "137"
                                },
                                {
                                    "LOGIN": "zsuzsa3",
                                    "szall_mod": "GLS",
                                    "(No column name)": "5"
                                },
                                {
                                    "LOGIN": "janos3",
                                    "szall_mod": "GLS",
                                    "(No column name)": "5"
                                },
                                {
                                    "LOGIN": "agnes",
                                    "szall_mod": "Személyes átvétel",
                                    "(No column name)": "144"
                                },
                                {
                                    "LOGIN": "MIHALYJ",
                                    "szall_mod": "GLS",
                                    "(No column name)": "3"
                                },
                                {
                                    "LOGIN": "KRISZTIANM",
                                    "szall_mod": "Posta",
                                    "(No column name)": "136"
                                },
                                {
                                    "LOGIN": "edit",
                                    "szall_mod": "Személyes átvétel",
                                    "(No column name)": "4"
                                },
                                {
                                    "LOGIN": "ANDRASE",
                                    "szall_mod": "Posta",
                                    "(No column name)": "141"
                                },
                                {
                                    "LOGIN": "ANDREAT",
                                    "szall_mod": "Posta",
                                    "(No column name)": "6"
                                },
                                {
                                    "LOGIN": "adam1",
                                    "szall_mod": "Személyes átvétel",
                                    "(No column name)": "131"
                                },
                                {
                                    "LOGIN": "attila1",
                                    "szall_mod": "Személyes átvétel",
                                    "(No column name)": "6"
                                },
                                {
                                    "LOGIN": "norbert2",
                                    "szall_mod": "Posta",
                                    "(No column name)": "4"
                                },
                                {
                                    "LOGIN": "david4",
                                    "szall_mod": "GLS",
                                    "(No column name)": "3"
                                },
                                {
                                    "LOGIN": "aniko",
                                    "szall_mod": "GLS",
                                    "(No column name)": "128"
                                },
                                {
                                    "LOGIN": "eszter4",
                                    "szall_mod": "Posta",
                                    "(No column name)": "134"
                                },
                                {
                                    "LOGIN": "ANDRASN",
                                    "szall_mod": "GLS",
                                    "(No column name)": "10"
                                },
                                {
                                    "LOGIN": "ARPADM",
                                    "szall_mod": "GLS",
                                    "(No column name)": "6"
                                },
                                {
                                    "LOGIN": "zsuzsa",
                                    "szall_mod": "Posta",
                                    "(No column name)": "5"
                                },
                                {
                                    "LOGIN": "EVAV",
                                    "szall_mod": "GLS",
                                    "(No column name)": "2"
                                },
                                {
                                    "LOGIN": "LASZLON",
                                    "szall_mod": "Posta",
                                    "(No column name)": "131"
                                },
                                {
                                    "LOGIN": "csongor3",
                                    "szall_mod": "GLS",
                                    "(No column name)": "5"
                                },
                                {
                                    "LOGIN": "andras21",
                                    "szall_mod": "GLS",
                                    "(No column name)": "140"
                                },
                                {
                                    "LOGIN": "roza2",
                                    "szall_mod": "Posta",
                                    "(No column name)": "2"
                                },
                                {
                                    "LOGIN": "maria1",
                                    "szall_mod": "GLS",
                                    "(No column name)": "4"
                                },
                                {
                                    "LOGIN": "adam4",
                                    "szall_mod": "Posta",
                                    "(No column name)": "6"
                                },
                                {
                                    "LOGIN": "brigitta3",
                                    "szall_mod": "Személyes átvétel",
                                    "(No column name)": "139"
                                },
                                {
                                    "LOGIN": "ANDRASN",
                                    "szall_mod": "Posta",
                                    "(No column name)": "9"
                                },
                                {
                                    "LOGIN": "imre",
                                    "szall_mod": "Személyes átvétel",
                                    "(No column name)": "6"
                                },
                                {
                                    "LOGIN": "MATEK",
                                    "szall_mod": "Posta",
                                    "(No column name)": "10"
                                },
                                {
                                    "LOGIN": "balazs3",
                                    "szall_mod": "GLS",
                                    "(No column name)": "6"
                                },
                                {
                                    "LOGIN": "SEBASTIANF",
                                    "szall_mod": "Személyes átvétel",
                                    "(No column name)": "6"
                                },
                                {
                                    "LOGIN": "valentin",
                                    "szall_mod": "Posta",
                                    "(No column name)": "5"
                                },
                                {
                                    "LOGIN": "rajmond4",
                                    "szall_mod": "Posta",
                                    "(No column name)": "5"
                                },
                                {
                                    "LOGIN": "balu",
                                    "szall_mod": "Posta",
                                    "(No column name)": "137"
                                },
                                {
                                    "LOGIN": "reka4",
                                    "szall_mod": "Posta",
                                    "(No column name)": "4"
                                },
                                {
                                    "LOGIN": "sandor",
                                    "szall_mod": "GLS",
                                    "(No column name)": "4"
                                },
                                {
                                    "LOGIN": "balazs1",
                                    "szall_mod": "GLS",
                                    "(No column name)": "128"
                                },
                                {
                                    "LOGIN": "aladar",
                                    "szall_mod": "GLS",
                                    "(No column name)": "156"
                                },
                                {
                                    "LOGIN": "zoltan4",
                                    "szall_mod": "Posta",
                                    "(No column name)": "124"
                                },
                                {
                                    "LOGIN": "reka4",
                                    "szall_mod": "Személyes átvétel",
                                    "(No column name)": "11"
                                },
                                {
                                    "LOGIN": "roland",
                                    "szall_mod": "GLS",
                                    "(No column name)": "132"
                                },
                                {
                                    "LOGIN": "kornel4",
                                    "szall_mod": "GLS",
                                    "(No column name)": "3"
                                },
                                {
                                    "LOGIN": "ARPADM",
                                    "szall_mod": "Személyes átvétel",
                                    "(No column name)": "7"
                                },
                                {
                                    "LOGIN": "marton",
                                    "szall_mod": "Posta",
                                    "(No column name)": "4"
                                },
                                {
                                    "LOGIN": "BERNADETTO",
                                    "szall_mod": "Posta",
                                    "(No column name)": "2"
                                },
                                {
                                    "LOGIN": "adam1",
                                    "szall_mod": "Posta",
                                    "(No column name)": "132"
                                },
                                {
                                    "LOGIN": "NIKOLETTAT",
                                    "szall_mod": "Személyes átvétel",
                                    "(No column name)": "5"
                                },
                                {
                                    "LOGIN": "LASZLOA",
                                    "szall_mod": "Posta",
                                    "(No column name)": "136"
                                },
                                {
                                    "LOGIN": "katka",
                                    "szall_mod": "Posta",
                                    "(No column name)": "6"
                                },
                                {
                                    "LOGIN": "IBOLYAA",
                                    "szall_mod": "Posta",
                                    "(No column name)": "125"
                                },
                                {
                                    "LOGIN": "tihamer",
                                    "szall_mod": "Posta",
                                    "(No column name)": "6"
                                },
                                {
                                    "LOGIN": "emese",
                                    "szall_mod": "Posta",
                                    "(No column name)": "136"
                                },
                                {
                                    "LOGIN": "szilvia1",
                                    "szall_mod": "Posta",
                                    "(No column name)": "151"
                                },
                                {
                                    "LOGIN": "ZOLTANT",
                                    "szall_mod": "GLS",
                                    "(No column name)": "127"
                                },
                                {
                                    "LOGIN": "imre",
                                    "szall_mod": "GLS",
                                    "(No column name)": "5"
                                },
                                {
                                    "LOGIN": "katalin4",
                                    "szall_mod": "Posta",
                                    "(No column name)": "5"
                                },
                                {
                                    "LOGIN": "MIKLOSB",
                                    "szall_mod": "GLS",
                                    "(No column name)": "6"
                                },
                                {
                                    "LOGIN": "julianna4",
                                    "szall_mod": "Személyes átvétel",
                                    "(No column name)": "7"
                                },
                                {
                                    "LOGIN": "jozsef",
                                    "szall_mod": "GLS",
                                    "(No column name)": "116"
                                },
                                {
                                    "LOGIN": "NANDORF",
                                    "szall_mod": "Posta",
                                    "(No column name)": "139"
                                },
                                {
                                    "LOGIN": "VIKTORK",
                                    "szall_mod": "Személyes átvétel",
                                    "(No column name)": "6"
                                },
                                {
                                    "LOGIN": "agnes3",
                                    "szall_mod": "Személyes átvétel",
                                    "(No column name)": "136"
                                },
                                {
                                    "LOGIN": "zsofi1",
                                    "szall_mod": "Posta",
                                    "(No column name)": "6"
                                },
                                {
                                    "LOGIN": "georgij",
                                    "szall_mod": "Posta",
                                    "(No column name)": "2"
                                },
                                {
                                    "LOGIN": "attila4",
                                    "szall_mod": "GLS",
                                    "(No column name)": "135"
                                },
                                {
                                    "LOGIN": "aladar",
                                    "szall_mod": "Személyes átvétel",
                                    "(No column name)": "118"
                                },
                                {
                                    "LOGIN": "BENCEB",
                                    "szall_mod": "Posta",
                                    "(No column name)": "7"
                                },
                                {
                                    "LOGIN": "ZSOLTJ",
                                    "szall_mod": "Posta",
                                    "(No column name)": "8"
                                },
                                {
                                    "LOGIN": "BENCEB",
                                    "szall_mod": "Személyes átvétel",
                                    "(No column name)": "5"
                                },
                                {
                                    "LOGIN": "PETERB",
                                    "szall_mod": "GLS",
                                    "(No column name)": "2"
                                },
                                {
                                    "LOGIN": "matyas2",
                                    "szall_mod": "Posta",
                                    "(No column name)": "131"
                                },
                                {
                                    "LOGIN": "tibor",
                                    "szall_mod": "Személyes átvétel",
                                    "(No column name)": "130"
                                },
                                {
                                    "LOGIN": "adam4",
                                    "szall_mod": "Személyes átvétel",
                                    "(No column name)": "11"
                                },
                                {
                                    "LOGIN": "ferenc1",
                                    "szall_mod": "Személyes átvétel",
                                    "(No column name)": "135"
                                },
                                {
                                    "LOGIN": "TAMASF",
                                    "szall_mod": "Posta",
                                    "(No column name)": "145"
                                },
                                {
                                    "LOGIN": "zsolt1",
                                    "szall_mod": "GLS",
                                    "(No column name)": "11"
                                },
                                {
                                    "LOGIN": "zsuzsanna",
                                    "szall_mod": "Személyes átvétel",
                                    "(No column name)": "3"
                                },
                                {
                                    "LOGIN": "katalin",
                                    "szall_mod": "GLS",
                                    "(No column name)": "7"
                                },
                                {
                                    "LOGIN": "krisztina",
                                    "szall_mod": "Személyes átvétel",
                                    "(No column name)": "157"
                                },
                                {
                                    "LOGIN": "BELAF",
                                    "szall_mod": "GLS",
                                    "(No column name)": "11"
                                },
                                {
                                    "LOGIN": "tibor",
                                    "szall_mod": "Posta",
                                    "(No column name)": "129"
                                },
                                {
                                    "LOGIN": "AGNESK",
                                    "szall_mod": "Személyes átvétel",
                                    "(No column name)": "7"
                                },
                                {
                                    "LOGIN": "MONIKAM",
                                    "szall_mod": "Posta",
                                    "(No column name)": "151"
                                },
                                {
                                    "LOGIN": "ROBERTI",
                                    "szall_mod": "GLS",
                                    "(No column name)": "5"
                                },
                                {
                                    "LOGIN": "ANNAMARIAR",
                                    "szall_mod": "Posta",
                                    "(No column name)": "2"
                                },
                                {
                                    "LOGIN": "timea2",
                                    "szall_mod": "GLS",
                                    "(No column name)": "1"
                                },
                                {
                                    "LOGIN": "eszter2",
                                    "szall_mod": "GLS",
                                    "(No column name)": "127"
                                },
                                {
                                    "LOGIN": "ilona3",
                                    "szall_mod": "Személyes átvétel",
                                    "(No column name)": "7"
                                },
                                {
                                    "LOGIN": "gabor4",
                                    "szall_mod": "GLS",
                                    "(No column name)": "7"
                                },
                                {
                                    "LOGIN": "robert2",
                                    "szall_mod": "Posta",
                                    "(No column name)": "1"
                                },
                                {
                                    "LOGIN": "MATEK",
                                    "szall_mod": "GLS",
                                    "(No column name)": "6"
                                },
                                {
                                    "LOGIN": "ZSUZSAV",
                                    "szall_mod": "GLS",
                                    "(No column name)": "139"
                                },
                                {
                                    "LOGIN": "tibor2",
                                    "szall_mod": "Posta",
                                    "(No column name)": "7"
                                },
                                {
                                    "LOGIN": "ANDRASE",
                                    "szall_mod": "Személyes átvétel",
                                    "(No column name)": "136"
                                },
                                {
                                    "LOGIN": "sara",
                                    "szall_mod": "GLS",
                                    "(No column name)": "4"
                                },
                                {
                                    "LOGIN": "ANDREAT",
                                    "szall_mod": "Személyes átvétel",
                                    "(No column name)": "12"
                                },
                                {
                                    "LOGIN": "ESZTERE",
                                    "szall_mod": "GLS",
                                    "(No column name)": "6"
                                },
                                {
                                    "LOGIN": "timea",
                                    "szall_mod": "GLS",
                                    "(No column name)": "14"
                                },
                                {
                                    "LOGIN": "GABORS",
                                    "szall_mod": "Posta",
                                    "(No column name)": "6"
                                },
                                {
                                    "LOGIN": "balint2",
                                    "szall_mod": "Személyes átvétel",
                                    "(No column name)": "3"
                                },
                                {
                                    "LOGIN": "kati",
                                    "szall_mod": "Személyes átvétel",
                                    "(No column name)": "4"
                                },
                                {
                                    "LOGIN": "veronika4",
                                    "szall_mod": "GLS",
                                    "(No column name)": "5"
                                },
                                {
                                    "LOGIN": "gabriella1",
                                    "szall_mod": "GLS",
                                    "(No column name)": "5"
                                },
                                {
                                    "LOGIN": "andras4",
                                    "szall_mod": "Posta",
                                    "(No column name)": "4"
                                },
                                {
                                    "LOGIN": "kata",
                                    "szall_mod": "Személyes átvétel",
                                    "(No column name)": "3"
                                },
                                {
                                    "LOGIN": "jozsef2",
                                    "szall_mod": "Személyes átvétel",
                                    "(No column name)": "4"
                                },
                                {
                                    "LOGIN": "balint2",
                                    "szall_mod": "Posta",
                                    "(No column name)": "6"
                                },
                                {
                                    "LOGIN": "annamaria1",
                                    "szall_mod": "Személyes átvétel",
                                    "(No column name)": "7"
                                },
                                {
                                    "LOGIN": "janos3",
                                    "szall_mod": "Személyes átvétel",
                                    "(No column name)": "6"
                                },
                                {
                                    "LOGIN": "kriszti",
                                    "szall_mod": "Személyes átvétel",
                                    "(No column name)": "5"
                                },
                                {
                                    "LOGIN": "ANDRASN",
                                    "szall_mod": "Személyes átvétel",
                                    "(No column name)": "5"
                                },
                                {
                                    "LOGIN": "imre",
                                    "szall_mod": "Posta",
                                    "(No column name)": "4"
                                },
                                {
                                    "LOGIN": "ANIKOS",
                                    "szall_mod": "Posta",
                                    "(No column name)": "126"
                                },
                                {
                                    "LOGIN": "szabolcs",
                                    "szall_mod": "Posta",
                                    "(No column name)": "157"
                                },
                                {
                                    "LOGIN": "ANDREAT",
                                    "szall_mod": "GLS",
                                    "(No column name)": "3"
                                },
                                {
                                    "LOGIN": "bertalan",
                                    "szall_mod": "Posta",
                                    "(No column name)": "124"
                                },
                                {
                                    "LOGIN": "daniel1",
                                    "szall_mod": "Posta",
                                    "(No column name)": "131"
                                },
                                {
                                    "LOGIN": "MATEK",
                                    "szall_mod": "Személyes átvétel",
                                    "(No column name)": "9"
                                },
                                {
                                    "LOGIN": "bertalan",
                                    "szall_mod": "Személyes átvétel",
                                    "(No column name)": "101"
                                },
                                {
                                    "LOGIN": "ZOLTANP",
                                    "szall_mod": "Posta",
                                    "(No column name)": "3"
                                },
                                {
                                    "LOGIN": "JANOSG",
                                    "szall_mod": "Posta",
                                    "(No column name)": "3"
                                },
                                {
                                    "LOGIN": "BEATRIXK",
                                    "szall_mod": "Posta",
                                    "(No column name)": "155"
                                },
                                {
                                    "LOGIN": "peter3",
                                    "szall_mod": "GLS",
                                    "(No column name)": "8"
                                },
                                {
                                    "LOGIN": "NANDORF",
                                    "szall_mod": "Személyes átvétel",
                                    "(No column name)": "134"
                                },
                                {
                                    "LOGIN": "balazs2",
                                    "szall_mod": "Posta",
                                    "(No column name)": "7"
                                },
                                {
                                    "LOGIN": "ZOLTANP",
                                    "szall_mod": "Személyes átvétel",
                                    "(No column name)": "4"
                                },
                                {
                                    "LOGIN": "AGNESH",
                                    "szall_mod": "GLS",
                                    "(No column name)": "2"
                                },
                                {
                                    "LOGIN": "akos",
                                    "szall_mod": "GLS",
                                    "(No column name)": "146"
                                },
                                {
                                    "LOGIN": "klaudia2",
                                    "szall_mod": "GLS",
                                    "(No column name)": "3"
                                },
                                {
                                    "LOGIN": "LASZLON",
                                    "szall_mod": "GLS",
                                    "(No column name)": "126"
                                },
                                {
                                    "LOGIN": "peter4",
                                    "szall_mod": "Személyes átvétel",
                                    "(No column name)": "293"
                                },
                                {
                                    "LOGIN": "balint2",
                                    "szall_mod": "GLS",
                                    "(No column name)": "8"
                                },
                                {
                                    "LOGIN": "eva",
                                    "szall_mod": "Posta",
                                    "(No column name)": "140"
                                },
                                {
                                    "LOGIN": "zoltan4",
                                    "szall_mod": "GLS",
                                    "(No column name)": "129"
                                },
                                {
                                    "LOGIN": "bernadett2",
                                    "szall_mod": "Személyes átvétel",
                                    "(No column name)": "7"
                                },
                                {
                                    "LOGIN": "lala",
                                    "szall_mod": "GLS",
                                    "(No column name)": "5"
                                },
                                {
                                    "LOGIN": "aladar",
                                    "szall_mod": "Posta",
                                    "(No column name)": "134"
                                },
                                {
                                    "LOGIN": "balint1",
                                    "szall_mod": "Személyes átvétel",
                                    "(No column name)": "152"
                                },
                                {
                                    "LOGIN": "daniel1",
                                    "szall_mod": "Személyes átvétel",
                                    "(No column name)": "132"
                                },
                                {
                                    "LOGIN": "SEBASTIANF",
                                    "szall_mod": "Posta",
                                    "(No column name)": "3"
                                },
                                {
                                    "LOGIN": "nikolett3",
                                    "szall_mod": "Posta",
                                    "(No column name)": "3"
                                },
                                {
                                    "LOGIN": "denes",
                                    "szall_mod": "GLS",
                                    "(No column name)": "3"
                                },
                                {
                                    "LOGIN": "adam1",
                                    "szall_mod": "GLS",
                                    "(No column name)": "129"
                                },
                                {
                                    "LOGIN": "matyas2",
                                    "szall_mod": "Személyes átvétel",
                                    "(No column name)": "164"
                                },
                                {
                                    "LOGIN": "GYORGYO",
                                    "szall_mod": "Posta",
                                    "(No column name)": "4"
                                },
                                {
                                    "LOGIN": "norbert5",
                                    "szall_mod": "Posta",
                                    "(No column name)": "6"
                                },
                                {
                                    "LOGIN": "sandor3",
                                    "szall_mod": "GLS",
                                    "(No column name)": "4"
                                },
                                {
                                    "LOGIN": "norbert5",
                                    "szall_mod": "Személyes átvétel",
                                    "(No column name)": "9"
                                },
                                {
                                    "LOGIN": "andrea4",
                                    "szall_mod": "Posta",
                                    "(No column name)": "4"
                                },
                                {
                                    "LOGIN": "jozsef2",
                                    "szall_mod": "Posta",
                                    "(No column name)": "2"
                                },
                                {
                                    "LOGIN": "zsuzsa",
                                    "szall_mod": "Személyes átvétel",
                                    "(No column name)": "3"
                                },
                                {
                                    "LOGIN": "JANOSP",
                                    "szall_mod": "GLS",
                                    "(No column name)": "7"
                                },
                                {
                                    "LOGIN": "julianna4",
                                    "szall_mod": "GLS",
                                    "(No column name)": "8"
                                },
                                {
                                    "LOGIN": "VIKTORIAU",
                                    "szall_mod": "GLS",
                                    "(No column name)": "5"
                                },
                                {
                                    "LOGIN": "andrea",
                                    "szall_mod": "Posta",
                                    "(No column name)": "4"
                                },
                                {
                                    "LOGIN": "andi",
                                    "szall_mod": "Posta",
                                    "(No column name)": "4"
                                },
                                {
                                    "LOGIN": "aniko4",
                                    "szall_mod": "GLS",
                                    "(No column name)": "6"
                                },
                                {
                                    "LOGIN": "ANNAMARIAR",
                                    "szall_mod": "Személyes átvétel",
                                    "(No column name)": "3"
                                },
                                {
                                    "LOGIN": "rajmond4",
                                    "szall_mod": "GLS",
                                    "(No column name)": "6"
                                },
                                {
                                    "LOGIN": "KRISZTIANM",
                                    "szall_mod": "Személyes átvétel",
                                    "(No column name)": "130"
                                },
                                {
                                    "LOGIN": "kati",
                                    "szall_mod": "Posta",
                                    "(No column name)": "5"
                                },
                                {
                                    "LOGIN": "GABORS",
                                    "szall_mod": "Személyes átvétel",
                                    "(No column name)": "4"
                                },
                                {
                                    "LOGIN": "julia4",
                                    "szall_mod": "GLS",
                                    "(No column name)": "2"
                                },
                                {
                                    "LOGIN": "gabor1",
                                    "szall_mod": "Posta",
                                    "(No column name)": "5"
                                },
                                {
                                    "LOGIN": "brigitta3",
                                    "szall_mod": "Posta",
                                    "(No column name)": "130"
                                },
                                {
                                    "LOGIN": "kata",
                                    "szall_mod": "Posta",
                                    "(No column name)": "4"
                                },
                                {
                                    "LOGIN": "ANIKOS",
                                    "szall_mod": "Személyes átvétel",
                                    "(No column name)": "150"
                                },
                                {
                                    "LOGIN": "norbert4",
                                    "szall_mod": "Posta",
                                    "(No column name)": "3"
                                },
                                {
                                    "LOGIN": "kriszti",
                                    "szall_mod": "Posta",
                                    "(No column name)": "5"
                                },
                                {
                                    "LOGIN": "andras4",
                                    "szall_mod": "GLS",
                                    "(No column name)": "4"
                                },
                                {
                                    "LOGIN": "bence",
                                    "szall_mod": "Posta",
                                    "(No column name)": "6"
                                },
                                {
                                    "LOGIN": "nikoletta4",
                                    "szall_mod": "GLS",
                                    "(No column name)": "137"
                                },
                                {
                                    "LOGIN": "bernadett1",
                                    "szall_mod": "Posta",
                                    "(No column name)": "5"
                                },
                                {
                                    "LOGIN": "marton",
                                    "szall_mod": "Személyes átvétel",
                                    "(No column name)": "5"
                                },
                                {
                                    "LOGIN": "KRISZTINAG",
                                    "szall_mod": "Személyes átvétel",
                                    "(No column name)": "10"
                                },
                                {
                                    "LOGIN": "balu",
                                    "szall_mod": "Személyes átvétel",
                                    "(No column name)": "123"
                                },
                                {
                                    "LOGIN": "bernadett1",
                                    "szall_mod": "Személyes átvétel",
                                    "(No column name)": "5"
                                },
                                {
                                    "LOGIN": "GYONGYIK",
                                    "szall_mod": "Személyes átvétel",
                                    "(No column name)": "3"
                                },
                                {
                                    "LOGIN": "balazs2",
                                    "szall_mod": "Személyes átvétel",
                                    "(No column name)": "5"
                                },
                                {
                                    "LOGIN": "robert2",
                                    "szall_mod": "GLS",
                                    "(No column name)": "5"
                                },
                                {
                                    "LOGIN": "GYONGYIK",
                                    "szall_mod": "Posta",
                                    "(No column name)": "6"
                                },
                                {
                                    "LOGIN": "BERNADETTO",
                                    "szall_mod": "Személyes átvétel",
                                    "(No column name)": "7"
                                },
                                {
                                    "LOGIN": "attila1",
                                    "szall_mod": "GLS",
                                    "(No column name)": "5"
                                },
                                {
                                    "LOGIN": "ARPADM",
                                    "szall_mod": "Posta",
                                    "(No column name)": "3"
                                },
                                {
                                    "LOGIN": "katka",
                                    "szall_mod": "Személyes átvétel",
                                    "(No column name)": "10"
                                },
                                {
                                    "LOGIN": "balint1",
                                    "szall_mod": "Posta",
                                    "(No column name)": "152"
                                },
                                {
                                    "LOGIN": "balint",
                                    "szall_mod": "GLS",
                                    "(No column name)": "10"
                                },
                                {
                                    "LOGIN": "JOZSEFG",
                                    "szall_mod": "Személyes átvétel",
                                    "(No column name)": "9"
                                },
                                {
                                    "LOGIN": "kristof4",
                                    "szall_mod": "GLS",
                                    "(No column name)": "9"
                                },
                                {
                                    "LOGIN": "LASZLOA",
                                    "szall_mod": "Személyes átvétel",
                                    "(No column name)": "154"
                                },
                                {
                                    "LOGIN": "andras41",
                                    "szall_mod": "Személyes átvétel",
                                    "(No column name)": "133"
                                },
                                {
                                    "LOGIN": "krisztina1",
                                    "szall_mod": "Posta",
                                    "(No column name)": "4"
                                },
                                {
                                    "LOGIN": "ARPADH",
                                    "szall_mod": "Posta",
                                    "(No column name)": "3"
                                },
                                {
                                    "LOGIN": "nikolett3",
                                    "szall_mod": "Személyes átvétel",
                                    "(No column name)": "10"
                                },
                                {
                                    "LOGIN": "peter4",
                                    "szall_mod": "Posta",
                                    "(No column name)": "293"
                                },
                                {
                                    "LOGIN": "VIKTORK",
                                    "szall_mod": "Posta",
                                    "(No column name)": "6"
                                },
                                {
                                    "LOGIN": "ROBERTP",
                                    "szall_mod": "Posta",
                                    "(No column name)": "8"
                                },
                                {
                                    "LOGIN": "RENATAK",
                                    "szall_mod": "Személyes átvétel",
                                    "(No column name)": "147"
                                },
                                {
                                    "LOGIN": "ZOLTANP",
                                    "szall_mod": "GLS",
                                    "(No column name)": "6"
                                },
                                {
                                    "LOGIN": "bertalan",
                                    "szall_mod": "GLS",
                                    "(No column name)": "128"
                                },
                                {
                                    "LOGIN": "bernadett2",
                                    "szall_mod": "Posta",
                                    "(No column name)": "2"
                                },
                                {
                                    "LOGIN": "ZSOLTJ",
                                    "szall_mod": "Személyes átvétel",
                                    "(No column name)": "9"
                                },
                                {
                                    "LOGIN": "BEATRIXS",
                                    "szall_mod": "Posta",
                                    "(No column name)": "141"
                                },
                                {
                                    "LOGIN": "RENATAK",
                                    "szall_mod": "Posta",
                                    "(No column name)": "140"
                                },
                                {
                                    "LOGIN": "GABORS",
                                    "szall_mod": "GLS",
                                    "(No column name)": "5"
                                },
                                {
                                    "LOGIN": "sara",
                                    "szall_mod": "Posta",
                                    "(No column name)": "7"
                                },
                                {
                                    "LOGIN": "vivien3",
                                    "szall_mod": "GLS",
                                    "(No column name)": "9"
                                },
                                {
                                    "LOGIN": "andras3",
                                    "szall_mod": "Posta",
                                    "(No column name)": "1"
                                },
                                {
                                    "LOGIN": "katka",
                                    "szall_mod": "GLS",
                                    "(No column name)": "6"
                                },
                                {
                                    "LOGIN": "MARKH",
                                    "szall_mod": "GLS",
                                    "(No column name)": "128"
                                },
                                {
                                    "LOGIN": "istvan1",
                                    "szall_mod": "GLS",
                                    "(No column name)": "8"
                                },
                                {
                                    "LOGIN": "fruzsina4",
                                    "szall_mod": "GLS",
                                    "(No column name)": "8"
                                },
                                {
                                    "LOGIN": "roza2",
                                    "szall_mod": "GLS",
                                    "(No column name)": "3"
                                },
                                {
                                    "LOGIN": "JUDITH",
                                    "szall_mod": "GLS",
                                    "(No column name)": "170"
                                },
                                {
                                    "LOGIN": "andrea3",
                                    "szall_mod": "GLS",
                                    "(No column name)": "131"
                                },
                                {
                                    "LOGIN": "gabriella10",
                                    "szall_mod": "Posta",
                                    "(No column name)": "5"
                                },
                                {
                                    "LOGIN": "katalin4",
                                    "szall_mod": "GLS",
                                    "(No column name)": "7"
                                },
                                {
                                    "LOGIN": "zsuzsanna",
                                    "szall_mod": "Posta",
                                    "(No column name)": "5"
                                },
                                {
                                    "LOGIN": "MONIKAM",
                                    "szall_mod": "Személyes átvétel",
                                    "(No column name)": "123"
                                },
                                {
                                    "LOGIN": "andrea4",
                                    "szall_mod": "Személyes átvétel",
                                    "(No column name)": "7"
                                },
                                {
                                    "LOGIN": "robert2",
                                    "szall_mod": "Személyes átvétel",
                                    "(No column name)": "7"
                                },
                                {
                                    "LOGIN": "agnes",
                                    "szall_mod": "Posta",
                                    "(No column name)": "130"
                                },
                                {
                                    "LOGIN": "reka4",
                                    "szall_mod": "GLS",
                                    "(No column name)": "5"
                                },
                                {
                                    "LOGIN": "dani",
                                    "szall_mod": "Személyes átvétel",
                                    "(No column name)": "8"
                                },
                                {
                                    "LOGIN": "david",
                                    "szall_mod": "GLS",
                                    "(No column name)": "161"
                                },
                                {
                                    "LOGIN": "david1",
                                    "szall_mod": "GLS",
                                    "(No column name)": "8"
                                },
                                {
                                    "LOGIN": "ilona3",
                                    "szall_mod": "Posta",
                                    "(No column name)": "2"
                                },
                                {
                                    "LOGIN": "edit",
                                    "szall_mod": "Posta",
                                    "(No column name)": "2"
                                },
                                {
                                    "LOGIN": "pal",
                                    "szall_mod": "GLS",
                                    "(No column name)": "152"
                                },
                                {
                                    "LOGIN": "eszter4",
                                    "szall_mod": "Személyes átvétel",
                                    "(No column name)": "149"
                                },
                                {
                                    "LOGIN": "sebestyen",
                                    "szall_mod": "GLS",
                                    "(No column name)": "4"
                                },
                                {
                                    "LOGIN": "andrea",
                                    "szall_mod": "Személyes átvétel",
                                    "(No column name)": "8"
                                },
                                {
                                    "LOGIN": "debora",
                                    "szall_mod": "Posta",
                                    "(No column name)": "6"
                                },
                                {
                                    "LOGIN": "gusztav",
                                    "szall_mod": "Posta",
                                    "(No column name)": "4"
                                },
                                {
                                    "LOGIN": "BEATRIXK",
                                    "szall_mod": "Személyes átvétel",
                                    "(No column name)": "145"
                                },
                                {
                                    "LOGIN": "gusztav",
                                    "szall_mod": "Személyes átvétel",
                                    "(No column name)": "5"
                                },
                                {
                                    "LOGIN": "norbert4",
                                    "szall_mod": "Személyes átvétel",
                                    "(No column name)": "9"
                                },
                                {
                                    "LOGIN": "alexandra",
                                    "szall_mod": "GLS",
                                    "(No column name)": "5"
                                },
                                {
                                    "LOGIN": "adam3",
                                    "szall_mod": "GLS",
                                    "(No column name)": "10"
                                },
                                {
                                    "LOGIN": "debora",
                                    "szall_mod": "Személyes átvétel",
                                    "(No column name)": "3"
                                },
                                {
                                    "LOGIN": "MONIKAM",
                                    "szall_mod": "GLS",
                                    "(No column name)": "133"
                                },
                                {
                                    "LOGIN": "gabor1",
                                    "szall_mod": "Személyes átvétel",
                                    "(No column name)": "5"
                                },
                                {
                                    "LOGIN": "AGNESK",
                                    "szall_mod": "GLS",
                                    "(No column name)": "1"
                                },
                                {
                                    "LOGIN": "NIKOLETTAT",
                                    "szall_mod": "GLS",
                                    "(No column name)": "13"
                                },
                                {
                                    "LOGIN": "lajos",
                                    "szall_mod": "GLS",
                                    "(No column name)": "5"
                                },
                                {
                                    "LOGIN": "istvan",
                                    "szall_mod": "GLS",
                                    "(No column name)": "3"
                                },
                                {
                                    "LOGIN": "andras41",
                                    "szall_mod": "GLS",
                                    "(No column name)": "149"
                                },
                                {
                                    "LOGIN": "LASZLON",
                                    "szall_mod": "Személyes átvétel",
                                    "(No column name)": "143"
                                },
                                {
                                    "LOGIN": "roza2",
                                    "szall_mod": "Személyes átvétel",
                                    "(No column name)": "3"
                                },
                                {
                                    "LOGIN": "annamaria1",
                                    "szall_mod": "Posta",
                                    "(No column name)": "4"
                                },
                                {
                                    "LOGIN": "szabolcs",
                                    "szall_mod": "Személyes átvétel",
                                    "(No column name)": "169"
                                },
                                {
                                    "LOGIN": "laszlo1",
                                    "szall_mod": "GLS",
                                    "(No column name)": "130"
                                },
                                {
                                    "LOGIN": "georgij",
                                    "szall_mod": "Személyes átvétel",
                                    "(No column name)": "10"
                                },
                                {
                                    "LOGIN": "rajmond4",
                                    "szall_mod": "Személyes átvétel",
                                    "(No column name)": "6"
                                },
                                {
                                    "LOGIN": "KRISZTINAG",
                                    "szall_mod": "Posta",
                                    "(No column name)": "6"
                                },
                                {
                                    "LOGIN": "valentin",
                                    "szall_mod": "Személyes átvétel",
                                    "(No column name)": "3"
                                },
                                {
                                    "LOGIN": "janos3",
                                    "szall_mod": "Posta",
                                    "(No column name)": "2"
                                },
                                {
                                    "LOGIN": "anett3",
                                    "szall_mod": "Posta",
                                    "(No column name)": "6"
                                },
                                {
                                    "LOGIN": "zoltan4",
                                    "szall_mod": "Személyes átvétel",
                                    "(No column name)": "171"
                                },
                                {
                                    "LOGIN": "JANOSG",
                                    "szall_mod": "Személyes átvétel",
                                    "(No column name)": "4"
                                },
                                {
                                    "LOGIN": "aron2",
                                    "szall_mod": "GLS",
                                    "(No column name)": "132"
                                },
                                {
                                    "LOGIN": "sandor3",
                                    "szall_mod": "Személyes átvétel",
                                    "(No column name)": "6"
                                },
                                {
                                    "LOGIN": "jozsef2",
                                    "szall_mod": "GLS",
                                    "(No column name)": "7"
                                },
                                {
                                    "LOGIN": "szilvia1",
                                    "szall_mod": "GLS",
                                    "(No column name)": "156"
                                },
                                {
                                    "LOGIN": "gabriella10",
                                    "szall_mod": "GLS",
                                    "(No column name)": "4"
                                },
                                {
                                    "LOGIN": "adam4",
                                    "szall_mod": "GLS",
                                    "(No column name)": "12"
                                },
                                {
                                    "LOGIN": "andras21",
                                    "szall_mod": "Posta",
                                    "(No column name)": "124"
                                },
                                {
                                    "LOGIN": "polla",
                                    "szall_mod": "Posta",
                                    "(No column name)": "6"
                                },
                                {
                                    "LOGIN": "SEBASTIANF",
                                    "szall_mod": "GLS",
                                    "(No column name)": "6"
                                },
                                {
                                    "LOGIN": "eva2",
                                    "szall_mod": "Posta",
                                    "(No column name)": "138"
                                },
                                {
                                    "LOGIN": "lajos",
                                    "szall_mod": "Személyes átvétel",
                                    "(No column name)": "9"
                                },
                                {
                                    "LOGIN": "peter2",
                                    "szall_mod": "Személyes átvétel",
                                    "(No column name)": "7"
                                },
                                {
                                    "LOGIN": "krisztian4",
                                    "szall_mod": "Személyes átvétel",
                                    "(No column name)": "6"
                                },
                                {
                                    "LOGIN": "roland1",
                                    "szall_mod": "GLS",
                                    "(No column name)": "142"
                                },
                                {
                                    "LOGIN": "laszlo2",
                                    "szall_mod": "Személyes átvétel",
                                    "(No column name)": "7"
                                },
                                {
                                    "LOGIN": "gabor1",
                                    "szall_mod": "GLS",
                                    "(No column name)": "9"
                                },
                                {
                                    "LOGIN": "ESZTERE",
                                    "szall_mod": "Posta",
                                    "(No column name)": "9"
                                },
                                {
                                    "LOGIN": "laszlo1",
                                    "szall_mod": "Személyes átvétel",
                                    "(No column name)": "135"
                                },
                                {
                                    "LOGIN": "eszter4",
                                    "szall_mod": "GLS",
                                    "(No column name)": "141"
                                },
                                {
                                    "LOGIN": "edit",
                                    "szall_mod": "GLS",
                                    "(No column name)": "7"
                                },
                                {
                                    "LOGIN": "KRISZTINAG",
                                    "szall_mod": "GLS",
                                    "(No column name)": "6"
                                },
                                {
                                    "LOGIN": "ESZTERE",
                                    "szall_mod": "Személyes átvétel",
                                    "(No column name)": "7"
                                },
                                {
                                    "LOGIN": "henrik3",
                                    "szall_mod": "GLS",
                                    "(No column name)": "7"
                                },
                                {
                                    "LOGIN": "pal",
                                    "szall_mod": "Személyes átvétel",
                                    "(No column name)": "154"
                                },
                                {
                                    "LOGIN": "RENATAK",
                                    "szall_mod": "GLS",
                                    "(No column name)": "135"
                                },
                                {
                                    "LOGIN": "daniel",
                                    "szall_mod": "Posta",
                                    "(No column name)": "2"
                                },
                                {
                                    "LOGIN": "julia",
                                    "szall_mod": "GLS",
                                    "(No column name)": "137"
                                },
                                {
                                    "LOGIN": "roland",
                                    "szall_mod": "Posta",
                                    "(No column name)": "157"
                                },
                                {
                                    "LOGIN": "balazs2",
                                    "szall_mod": "GLS",
                                    "(No column name)": "5"
                                },
                                {
                                    "LOGIN": "zoltan",
                                    "szall_mod": "Személyes átvétel",
                                    "(No column name)": "7"
                                },
                                {
                                    "LOGIN": "daniel1",
                                    "szall_mod": "GLS",
                                    "(No column name)": "156"
                                },
                                {
                                    "LOGIN": "attila1",
                                    "szall_mod": "Posta",
                                    "(No column name)": "7"
                                },
                                {
                                    "LOGIN": "fruzsina4",
                                    "szall_mod": "Személyes átvétel",
                                    "(No column name)": "7"
                                },
                                {
                                    "LOGIN": "zsolt1",
                                    "szall_mod": "Posta",
                                    "(No column name)": "6"
                                },
                                {
                                    "LOGIN": "matyas2",
                                    "szall_mod": "GLS",
                                    "(No column name)": "138"
                                },
                                {
                                    "LOGIN": "lala",
                                    "szall_mod": "Személyes átvétel",
                                    "(No column name)": "9"
                                },
                                {
                                    "LOGIN": "peter1",
                                    "szall_mod": "Posta",
                                    "(No column name)": "135"
                                },
                                {
                                    "LOGIN": "VIKTORIAU",
                                    "szall_mod": "Posta",
                                    "(No column name)": "4"
                                },
                                {
                                    "LOGIN": "SZABOLCSM",
                                    "szall_mod": "Posta",
                                    "(No column name)": "153"
                                },
                                {
                                    "LOGIN": "JOZSEFG",
                                    "szall_mod": "GLS",
                                    "(No column name)": "11"
                                },
                                {
                                    "LOGIN": "SZILARDS",
                                    "szall_mod": "Személyes átvétel",
                                    "(No column name)": "111"
                                },
                                {
                                    "LOGIN": "peter1",
                                    "szall_mod": "Személyes átvétel",
                                    "(No column name)": "126"
                                },
                                {
                                    "LOGIN": "sandor",
                                    "szall_mod": "Posta",
                                    "(No column name)": "6"
                                },
                                {
                                    "LOGIN": "david4",
                                    "szall_mod": "Személyes átvétel",
                                    "(No column name)": "10"
                                },
                                {
                                    "LOGIN": "david4",
                                    "szall_mod": "Posta",
                                    "(No column name)": "8"
                                },
                                {
                                    "LOGIN": "csongor3",
                                    "szall_mod": "Posta",
                                    "(No column name)": "2"
                                },
                                {
                                    "LOGIN": "tihamer",
                                    "szall_mod": "GLS",
                                    "(No column name)": "9"
                                },
                                {
                                    "LOGIN": "KRISZTIANM",
                                    "szall_mod": "GLS",
                                    "(No column name)": "118"
                                },
                                {
                                    "LOGIN": "kata",
                                    "szall_mod": "GLS",
                                    "(No column name)": "5"
                                },
                                {
                                    "LOGIN": "laszlo2",
                                    "szall_mod": "GLS",
                                    "(No column name)": "12"
                                },
                                {
                                    "LOGIN": "katalin",
                                    "szall_mod": "Posta",
                                    "(No column name)": "7"
                                },
                                {
                                    "LOGIN": "tunde",
                                    "szall_mod": "Személyes átvétel",
                                    "(No column name)": "4"
                                },
                                {
                                    "LOGIN": "ISTVANV",
                                    "szall_mod": "Posta",
                                    "(No column name)": "9"
                                },
                                {
                                    "LOGIN": "zsofi1",
                                    "szall_mod": "GLS",
                                    "(No column name)": "7"
                                },
                                {
                                    "LOGIN": "julia",
                                    "szall_mod": "Posta",
                                    "(No column name)": "160"
                                },
                                {
                                    "LOGIN": "brigitta3",
                                    "szall_mod": "GLS",
                                    "(No column name)": "144"
                                },
                                {
                                    "LOGIN": "tunde",
                                    "szall_mod": "Posta",
                                    "(No column name)": "6"
                                },
                                {
                                    "LOGIN": "eva",
                                    "szall_mod": "GLS",
                                    "(No column name)": "125"
                                },
                                {
                                    "LOGIN": "roland1",
                                    "szall_mod": "Személyes átvétel",
                                    "(No column name)": "135"
                                },
                                {
                                    "LOGIN": "agnes3",
                                    "szall_mod": "GLS",
                                    "(No column name)": "148"
                                },
                                {
                                    "LOGIN": "MIHALYJ",
                                    "szall_mod": "Posta",
                                    "(No column name)": "4"
                                },
                                {
                                    "LOGIN": "EVAV",
                                    "szall_mod": "Személyes átvétel",
                                    "(No column name)": "4"
                                },
                                {
                                    "LOGIN": "TAMASF",
                                    "szall_mod": "GLS",
                                    "(No column name)": "159"
                                },
                                {
                                    "LOGIN": "istvan1",
                                    "szall_mod": "Személyes átvétel",
                                    "(No column name)": "7"
                                },
                                {
                                    "LOGIN": "balazs1",
                                    "szall_mod": "Posta",
                                    "(No column name)": "136"
                                },
                                {
                                    "LOGIN": "marton",
                                    "szall_mod": "GLS",
                                    "(No column name)": "5"
                                },
                                {
                                    "LOGIN": "henrik3",
                                    "szall_mod": "Személyes átvétel",
                                    "(No column name)": "5"
                                },
                                {
                                    "LOGIN": "BELAF",
                                    "szall_mod": "Posta",
                                    "(No column name)": "2"
                                },
                                {
                                    "LOGIN": "zoltan",
                                    "szall_mod": "Posta",
                                    "(No column name)": "3"
                                },
                                {
                                    "LOGIN": "EVAV",
                                    "szall_mod": "Posta",
                                    "(No column name)": "1"
                                },
                                {
                                    "LOGIN": "MATYASS",
                                    "szall_mod": "Személyes átvétel",
                                    "(No column name)": "3"
                                },
                                {
                                    "LOGIN": "polla",
                                    "szall_mod": "Személyes átvétel",
                                    "(No column name)": "7"
                                },
                                {
                                    "LOGIN": "MIHALYJ",
                                    "szall_mod": "Személyes átvétel",
                                    "(No column name)": "6"
                                },
                                {
                                    "LOGIN": "ROBERTI",
                                    "szall_mod": "Posta",
                                    "(No column name)": "3"
                                },
                                {
                                    "LOGIN": "miklos2",
                                    "szall_mod": "Posta",
                                    "(No column name)": "4"
                                },
                                {
                                    "LOGIN": "georgij",
                                    "szall_mod": "GLS",
                                    "(No column name)": "9"
                                },
                                {
                                    "LOGIN": "ARONK",
                                    "szall_mod": "Személyes átvétel",
                                    "(No column name)": "155"
                                },
                                {
                                    "LOGIN": "vivien3",
                                    "szall_mod": "Személyes átvétel",
                                    "(No column name)": "7"
                                },
                                {
                                    "LOGIN": "PETERB",
                                    "szall_mod": "Posta",
                                    "(No column name)": "4"
                                },
                                {
                                    "LOGIN": "peter2",
                                    "szall_mod": "Posta",
                                    "(No column name)": "4"
                                },
                                {
                                    "LOGIN": "eva2",
                                    "szall_mod": "Személyes átvétel",
                                    "(No column name)": "170"
                                },
                                {
                                    "LOGIN": "alexandra",
                                    "szall_mod": "Posta",
                                    "(No column name)": "9"
                                },
                                {
                                    "LOGIN": "jozsef",
                                    "szall_mod": "Posta",
                                    "(No column name)": "132"
                                },
                                {
                                    "LOGIN": "kati",
                                    "szall_mod": "GLS",
                                    "(No column name)": "4"
                                },
                                {
                                    "LOGIN": "gabriella1",
                                    "szall_mod": "Személyes átvétel",
                                    "(No column name)": "5"
                                },
                                {
                                    "LOGIN": "emese",
                                    "szall_mod": "GLS",
                                    "(No column name)": "128"
                                },
                                {
                                    "LOGIN": "balint",
                                    "szall_mod": "Posta",
                                    "(No column name)": "4"
                                },
                                {
                                    "LOGIN": "aniko",
                                    "szall_mod": "Posta",
                                    "(No column name)": "137"
                                },
                                {
                                    "LOGIN": "anita",
                                    "szall_mod": "Személyes átvétel",
                                    "(No column name)": "5"
                                },
                                {
                                    "LOGIN": "IBOLYAA",
                                    "szall_mod": "GLS",
                                    "(No column name)": "140"
                                },
                                {
                                    "LOGIN": "RENATAS",
                                    "szall_mod": "Személyes átvétel",
                                    "(No column name)": "5"
                                },
                                {
                                    "LOGIN": "BENCEB",
                                    "szall_mod": "GLS",
                                    "(No column name)": "5"
                                },
                                {
                                    "LOGIN": "RENATAS",
                                    "szall_mod": "Posta",
                                    "(No column name)": "5"
                                },
                                {
                                    "LOGIN": "istvan",
                                    "szall_mod": "Személyes átvétel",
                                    "(No column name)": "4"
                                },
                                {
                                    "LOGIN": "ATTILAO",
                                    "szall_mod": "Posta",
                                    "(No column name)": "4"
                                },
                                {
                                    "LOGIN": "anett3",
                                    "szall_mod": "GLS",
                                    "(No column name)": "3"
                                },
                                {
                                    "LOGIN": "nikoletta4",
                                    "szall_mod": "Személyes átvétel",
                                    "(No column name)": "119"
                                },
                                {
                                    "LOGIN": "balu",
                                    "szall_mod": "GLS",
                                    "(No column name)": "127"
                                },
                                {
                                    "LOGIN": "valentin",
                                    "szall_mod": "GLS",
                                    "(No column name)": "5"
                                },
                                {
                                    "LOGIN": "szabolcs",
                                    "szall_mod": "GLS",
                                    "(No column name)": "145"
                                },
                                {
                                    "LOGIN": "roland",
                                    "szall_mod": "Személyes átvétel",
                                    "(No column name)": "125"
                                },
                                {
                                    "LOGIN": "sandor4",
                                    "szall_mod": "Posta",
                                    "(No column name)": "2"
                                },
                                {
                                    "LOGIN": "tibor2",
                                    "szall_mod": "Személyes átvétel",
                                    "(No column name)": "11"
                                },
                                {
                                    "LOGIN": "ferenc1",
                                    "szall_mod": "GLS",
                                    "(No column name)": "144"
                                },
                                {
                                    "LOGIN": "tamas",
                                    "szall_mod": "Posta",
                                    "(No column name)": "156"
                                },
                                {
                                    "LOGIN": "AGNESH",
                                    "szall_mod": "Posta",
                                    "(No column name)": "3"
                                },
                                {
                                    "LOGIN": "MIKLOSB",
                                    "szall_mod": "Posta",
                                    "(No column name)": "1"
                                },
                                {
                                    "LOGIN": "balazs3",
                                    "szall_mod": "Személyes átvétel",
                                    "(No column name)": "3"
                                },
                                {
                                    "LOGIN": "AGNESH",
                                    "szall_mod": "Személyes átvétel",
                                    "(No column name)": "6"
                                },
                                {
                                    "LOGIN": "dora3",
                                    "szall_mod": "Személyes átvétel",
                                    "(No column name)": "164"
                                },
                                {
                                    "LOGIN": "ANIKOS",
                                    "szall_mod": "GLS",
                                    "(No column name)": "128"
                                },
                                {
                                    "LOGIN": "dora3",
                                    "szall_mod": "Posta",
                                    "(No column name)": "124"
                                },
                                {
                                    "LOGIN": "tamara2",
                                    "szall_mod": "Személyes átvétel",
                                    "(No column name)": "3"
                                },
                                {
                                    "LOGIN": "imre1",
                                    "szall_mod": "Posta",
                                    "(No column name)": "4"
                                },
                                {
                                    "LOGIN": "sandor",
                                    "szall_mod": "Személyes átvétel",
                                    "(No column name)": "7"
                                },
                                {
                                    "LOGIN": "JANOSG",
                                    "szall_mod": "GLS",
                                    "(No column name)": "3"
                                },
                                {
                                    "LOGIN": "krisztina",
                                    "szall_mod": "GLS",
                                    "(No column name)": "149"
                                },
                                {
                                    "LOGIN": "NANDORF",
                                    "szall_mod": "GLS",
                                    "(No column name)": "147"
                                },
                                {
                                    "LOGIN": "RENATAS",
                                    "szall_mod": "GLS",
                                    "(No column name)": "6"
                                },
                                {
                                    "LOGIN": "tamara2",
                                    "szall_mod": "Posta",
                                    "(No column name)": "4"
                                },
                                {
                                    "LOGIN": "anita",
                                    "szall_mod": "Posta",
                                    "(No column name)": "2"
                                },
                                {
                                    "LOGIN": "timea2",
                                    "szall_mod": "Személyes átvétel",
                                    "(No column name)": "10"
                                },
                                {
                                    "LOGIN": "ZOLTANT",
                                    "szall_mod": "Személyes átvétel",
                                    "(No column name)": "123"
                                },
                                {
                                    "LOGIN": "andras3",
                                    "szall_mod": "Személyes átvétel",
                                    "(No column name)": "5"
                                },
                                {
                                    "LOGIN": "ZOLTANT",
                                    "szall_mod": "Posta",
                                    "(No column name)": "107"
                                },
                                {
                                    "LOGIN": "timea2",
                                    "szall_mod": "Posta",
                                    "(No column name)": "5"
                                },
                                {
                                    "LOGIN": "eszter2",
                                    "szall_mod": "Posta",
                                    "(No column name)": "136"
                                },
                                {
                                    "LOGIN": "attila4",
                                    "szall_mod": "Személyes átvétel",
                                    "(No column name)": "141"
                                },
                                {
                                    "LOGIN": "csongor3",
                                    "szall_mod": "Személyes átvétel",
                                    "(No column name)": "8"
                                },
                                {
                                    "LOGIN": "ZSOLTJ",
                                    "szall_mod": "GLS",
                                    "(No column name)": "1"
                                },
                                {
                                    "LOGIN": "timea",
                                    "szall_mod": "Posta",
                                    "(No column name)": "23"
                                },
                                {
                                    "LOGIN": "roland1",
                                    "szall_mod": "Posta",
                                    "(No column name)": "155"
                                },
                                {
                                    "LOGIN": "aniko4",
                                    "szall_mod": "Személyes átvétel",
                                    "(No column name)": "3"
                                },
                                {
                                    "LOGIN": "andrea",
                                    "szall_mod": "GLS",
                                    "(No column name)": "12"
                                },
                                {
                                    "LOGIN": "david",
                                    "szall_mod": "Posta",
                                    "(No column name)": "144"
                                },
                                {
                                    "LOGIN": "julia",
                                    "szall_mod": "Személyes átvétel",
                                    "(No column name)": "138"
                                },
                                {
                                    "LOGIN": "JANOSP",
                                    "szall_mod": "Posta",
                                    "(No column name)": "7"
                                },
                                {
                                    "LOGIN": "MATYASS",
                                    "szall_mod": "Posta",
                                    "(No column name)": "5"
                                },
                                {
                                    "LOGIN": "LASZLOA",
                                    "szall_mod": "GLS",
                                    "(No column name)": "156"
                                },
                                {
                                    "LOGIN": "zsuzsa3",
                                    "szall_mod": "Posta",
                                    "(No column name)": "5"
                                },
                                {
                                    "LOGIN": "ROBERTI",
                                    "szall_mod": "Személyes átvétel",
                                    "(No column name)": "5"
                                },
                                {
                                    "LOGIN": "henrik3",
                                    "szall_mod": "Posta",
                                    "(No column name)": "4"
                                },
                                {
                                    "LOGIN": "julia4",
                                    "szall_mod": "Posta",
                                    "(No column name)": "4"
                                },
                                {
                                    "LOGIN": "tamara2",
                                    "szall_mod": "GLS",
                                    "(No column name)": "6"
                                },
                                {
                                    "LOGIN": "andras2",
                                    "szall_mod": "Posta",
                                    "(No column name)": "7"
                                },
                                {
                                    "LOGIN": "aron2",
                                    "szall_mod": "Személyes átvétel",
                                    "(No column name)": "144"
                                },
                                {
                                    "LOGIN": "alexandra",
                                    "szall_mod": "Személyes átvétel",
                                    "(No column name)": "5"
                                },
                                {
                                    "LOGIN": "polla",
                                    "szall_mod": "GLS",
                                    "(No column name)": "9"
                                },
                                {
                                    "LOGIN": "kristof4",
                                    "szall_mod": "Személyes átvétel",
                                    "(No column name)": "8"
                                },
                                {
                                    "LOGIN": "balint",
                                    "szall_mod": "Személyes átvétel",
                                    "(No column name)": "2"
                                },
                                {
                                    "LOGIN": "daniel",
                                    "szall_mod": "Személyes átvétel",
                                    "(No column name)": "4"
                                },
                                {
                                    "LOGIN": "istvan",
                                    "szall_mod": "Posta",
                                    "(No column name)": "4"
                                },
                                {
                                    "LOGIN": "ZSUZSAV",
                                    "szall_mod": "Személyes átvétel",
                                    "(No column name)": "142"
                                },
                                {
                                    "LOGIN": "annamaria1",
                                    "szall_mod": "GLS",
                                    "(No column name)": "5"
                                },
                                {
                                    "LOGIN": "BERNADETTO",
                                    "szall_mod": "GLS",
                                    "(No column name)": "7"
                                },
                                {
                                    "LOGIN": "pal",
                                    "szall_mod": "Posta",
                                    "(No column name)": "132"
                                },
                                {
                                    "LOGIN": "ARONK",
                                    "szall_mod": "Posta",
                                    "(No column name)": "120"
                                },
                                {
                                    "LOGIN": "norbert4",
                                    "szall_mod": "GLS",
                                    "(No column name)": "1"
                                },
                                {
                                    "LOGIN": "kornel4",
                                    "szall_mod": "Posta",
                                    "(No column name)": "1"
                                },
                                {
                                    "LOGIN": "eva2",
                                    "szall_mod": "GLS",
                                    "(No column name)": "154"
                                },
                                {
                                    "LOGIN": "MATYASS",
                                    "szall_mod": "GLS",
                                    "(No column name)": "4"
                                },
                                {
                                    "LOGIN": "bernadett1",
                                    "szall_mod": "GLS",
                                    "(No column name)": "10"
                                },
                                {
                                    "LOGIN": "GYONGYIK",
                                    "szall_mod": "GLS",
                                    "(No column name)": "6"
                                },
                                {
                                    "LOGIN": "akos",
                                    "szall_mod": "Posta",
                                    "(No column name)": "143"
                                },
                                {
                                    "LOGIN": "peter3",
                                    "szall_mod": "Posta",
                                    "(No column name)": "7"
                                },
                                {
                                    "LOGIN": "sebestyen",
                                    "szall_mod": "Posta",
                                    "(No column name)": "6"
                                },
                                {
                                    "LOGIN": "BEATRIXK",
                                    "szall_mod": "GLS",
                                    "(No column name)": "135"
                                },
                                {
                                    "LOGIN": "dani",
                                    "szall_mod": "GLS",
                                    "(No column name)": "5"
                                },
                                {
                                    "LOGIN": "sandor4",
                                    "szall_mod": "Személyes átvétel",
                                    "(No column name)": "5"
                                },
                                {
                                    "LOGIN": "tamas",
                                    "szall_mod": "Személyes átvétel",
                                    "(No column name)": "122"
                                },
                                {
                                    "LOGIN": "VIKTORK",
                                    "szall_mod": "GLS",
                                    "(No column name)": "8"
                                },
                                {
                                    "LOGIN": "gabor4",
                                    "szall_mod": "Posta",
                                    "(No column name)": "9"
                                },
                                {
                                    "LOGIN": "maria1",
                                    "szall_mod": "Posta",
                                    "(No column name)": "5"
                                },
                                {
                                    "LOGIN": "balazs3",
                                    "szall_mod": "Posta",
                                    "(No column name)": "6"
                                },
                                {
                                    "LOGIN": "denes",
                                    "szall_mod": "Személyes átvétel",
                                    "(No column name)": "4"
                                },
                                {
                                    "LOGIN": "SZILARDS",
                                    "szall_mod": "Posta",
                                    "(No column name)": "131"
                                },
                                {
                                    "LOGIN": "ANNAMARIAR",
                                    "szall_mod": "GLS",
                                    "(No column name)": "8"
                                },
                                {
                                    "LOGIN": "miklos2",
                                    "szall_mod": "GLS",
                                    "(No column name)": "7"
                                },
                                {
                                    "LOGIN": "SZABOLCSM",
                                    "szall_mod": "Személyes átvétel",
                                    "(No column name)": "129"
                                },
                                {
                                    "LOGIN": "peter2",
                                    "szall_mod": "GLS",
                                    "(No column name)": "7"
                                },
                                {
                                    "LOGIN": "andrea4",
                                    "szall_mod": "GLS",
                                    "(No column name)": "7"
                                },
                                {
                                    "LOGIN": "tunde",
                                    "szall_mod": "GLS",
                                    "(No column name)": "6"
                                },
                                {
                                    "LOGIN": "VIKTORIAU",
                                    "szall_mod": "Személyes átvétel",
                                    "(No column name)": "5"
                                },
                                {
                                    "LOGIN": "ATTILAO",
                                    "szall_mod": "GLS",
                                    "(No column name)": "4"
                                },
                                {
                                    "LOGIN": "kriszti",
                                    "szall_mod": "GLS",
                                    "(No column name)": "3"
                                },
                                {
                                    "LOGIN": "ANDRASE",
                                    "szall_mod": "GLS",
                                    "(No column name)": "159"
                                },
                                {
                                    "LOGIN": "klaudia2",
                                    "szall_mod": "Személyes átvétel",
                                    "(No column name)": "5"
                                },
                                {
                                    "LOGIN": "klaudia2",
                                    "szall_mod": "Posta",
                                    "(No column name)": "9"
                                },
                                {
                                    "LOGIN": "jozsef",
                                    "szall_mod": "Személyes átvétel",
                                    "(No column name)": "134"
                                },
                                {
                                    "LOGIN": "PETERB",
                                    "szall_mod": "Személyes átvétel",
                                    "(No column name)": "9"
                                },
                                {
                                    "LOGIN": "eszter2",
                                    "szall_mod": "Személyes átvétel",
                                    "(No column name)": "152"
                                },
                                {
                                    "LOGIN": "ISTVANV",
                                    "szall_mod": "Személyes átvétel",
                                    "(No column name)": "8"
                                },
                                {
                                    "LOGIN": "ilona3",
                                    "szall_mod": "GLS",
                                    "(No column name)": "9"
                                },
                                {
                                    "LOGIN": "katalin",
                                    "szall_mod": "Személyes átvétel",
                                    "(No column name)": "5"
                                },
                                {
                                    "LOGIN": "ARONK",
                                    "szall_mod": "GLS",
                                    "(No column name)": "155"
                                },
                                {
                                    "LOGIN": "andras2",
                                    "szall_mod": "Személyes átvétel",
                                    "(No column name)": "11"
                                },
                                {
                                    "LOGIN": "brigitta",
                                    "szall_mod": "Posta",
                                    "(No column name)": "137"
                                },
                                {
                                    "LOGIN": "aniko4",
                                    "szall_mod": "Posta",
                                    "(No column name)": "6"
                                },
                                {
                                    "LOGIN": "MARKH",
                                    "szall_mod": "Személyes átvétel",
                                    "(No column name)": "142"
                                },
                                {
                                    "LOGIN": "david1",
                                    "szall_mod": "Posta",
                                    "(No column name)": "1"
                                },
                                {
                                    "LOGIN": "andrea3",
                                    "szall_mod": "Posta",
                                    "(No column name)": "136"
                                },
                                {
                                    "LOGIN": "zsuzsa3",
                                    "szall_mod": "Személyes átvétel",
                                    "(No column name)": "6"
                                },
                                {
                                    "LOGIN": "peter1",
                                    "szall_mod": "GLS",
                                    "(No column name)": "151"
                                },
                                {
                                    "LOGIN": "MARKH",
                                    "szall_mod": "Posta",
                                    "(No column name)": "142"
                                },
                                {
                                    "LOGIN": "andrea3",
                                    "szall_mod": "Személyes átvétel",
                                    "(No column name)": "146"
                                },
                                {
                                    "LOGIN": "andras21",
                                    "szall_mod": "Személyes átvétel",
                                    "(No column name)": "126"
                                },
                                {
                                    "LOGIN": "andras41",
                                    "szall_mod": "Posta",
                                    "(No column name)": "137"
                                },
                                {
                                    "LOGIN": "balazs1",
                                    "szall_mod": "Személyes átvétel",
                                    "(No column name)": "155"
                                },
                                {
                                    "LOGIN": "norbert5",
                                    "szall_mod": "GLS",
                                    "(No column name)": "1"
                                },
                                {
                                    "LOGIN": "lajos",
                                    "szall_mod": "Posta",
                                    "(No column name)": "2"
                                },
                                {
                                    "LOGIN": "miklos2",
                                    "szall_mod": "Személyes átvétel",
                                    "(No column name)": "2"
                                },
                                {
                                    "LOGIN": "vivien3",
                                    "szall_mod": "Posta",
                                    "(No column name)": "6"
                                },
                                {
                                    "LOGIN": "andras3",
                                    "szall_mod": "GLS",
                                    "(No column name)": "3"
                                },
                                {
                                    "LOGIN": "bence",
                                    "szall_mod": "GLS",
                                    "(No column name)": "4"
                                },
                                {
                                    "LOGIN": "julia4",
                                    "szall_mod": "Személyes átvétel",
                                    "(No column name)": "8"
                                },
                                {
                                    "LOGIN": "kornel4",
                                    "szall_mod": "Személyes átvétel",
                                    "(No column name)": "7"
                                },
                                {
                                    "LOGIN": "laszlo2",
                                    "szall_mod": "Posta",
                                    "(No column name)": "6"
                                },
                                {
                                    "LOGIN": "dora3",
                                    "szall_mod": "GLS",
                                    "(No column name)": "144"
                                },
                                {
                                    "LOGIN": "norbert2",
                                    "szall_mod": "GLS",
                                    "(No column name)": "7"
                                },
                                {
                                    "LOGIN": "gabriella1",
                                    "szall_mod": "Posta",
                                    "(No column name)": "4"
                                },
                                {
                                    "LOGIN": "aniko",
                                    "szall_mod": "Személyes átvétel",
                                    "(No column name)": "138"
                                },
                                {
                                    "LOGIN": "laszlo1",
                                    "szall_mod": "Posta",
                                    "(No column name)": "129"
                                },
                                {
                                    "LOGIN": "kristof4",
                                    "szall_mod": "Posta",
                                    "(No column name)": "4"
                                },
                                {
                                    "LOGIN": "krisztina1",
                                    "szall_mod": "GLS",
                                    "(No column name)": "10"
                                },
                                {
                                    "LOGIN": "ATTILAO",
                                    "szall_mod": "Személyes átvétel",
                                    "(No column name)": "6"
                                },
                                {
                                    "LOGIN": "BEATRIXS",
                                    "szall_mod": "GLS",
                                    "(No column name)": "146"
                                },
                                {
                                    "LOGIN": "peter3",
                                    "szall_mod": "Személyes átvétel",
                                    "(No column name)": "10"
                                },
                                {
                                    "LOGIN": "arpad2",
                                    "szall_mod": "Posta",
                                    "(No column name)": "1"
                                },
                                {
                                    "LOGIN": "ZSUZSAV",
                                    "szall_mod": "Posta",
                                    "(No column name)": "139"
                                },
                                {
                                    "LOGIN": "aron2",
                                    "szall_mod": "Posta",
                                    "(No column name)": "133"
                                },
                                {
                                    "LOGIN": "arpad2",
                                    "szall_mod": "Személyes átvétel",
                                    "(No column name)": "10"
                                },
                                {
                                    "LOGIN": "krisztian4",
                                    "szall_mod": "GLS",
                                    "(No column name)": "5"
                                },
                                {
                                    "LOGIN": "ROBERTP",
                                    "szall_mod": "GLS",
                                    "(No column name)": "8"
                                },
                                {
                                    "LOGIN": "SZILARDS",
                                    "szall_mod": "GLS",
                                    "(No column name)": "144"
                                },
                                {
                                    "LOGIN": "ARPADH",
                                    "szall_mod": "GLS",
                                    "(No column name)": "6"
                                },
                                {
                                    "LOGIN": "sebestyen",
                                    "szall_mod": "Személyes átvétel",
                                    "(No column name)": "6"
                                },
                                {
                                    "LOGIN": "debora",
                                    "szall_mod": "GLS",
                                    "(No column name)": "7"
                                },
                                {
                                    "LOGIN": "akos",
                                    "szall_mod": "Személyes átvétel",
                                    "(No column name)": "140"
                                },
                                {
                                    "LOGIN": "nikoletta4",
                                    "szall_mod": "Posta",
                                    "(No column name)": "158"
                                },
                                {
                                    "LOGIN": "lala",
                                    "szall_mod": "Posta",
                                    "(No column name)": "3"
                                },
                                {
                                    "LOGIN": "zsolt1",
                                    "szall_mod": "Személyes átvétel",
                                    "(No column name)": "3"
                                },
                                {
                                    "LOGIN": "GYORGYO",
                                    "szall_mod": "GLS",
                                    "(No column name)": "7"
                                },
                                {
                                    "LOGIN": "fruzsina4",
                                    "szall_mod": "Posta",
                                    "(No column name)": "3"
                                },
                                {
                                    "LOGIN": "MIKLOSB",
                                    "szall_mod": "Személyes átvétel",
                                    "(No column name)": "8"
                                },
                                {
                                    "LOGIN": "denes",
                                    "szall_mod": "Posta",
                                    "(No column name)": "2"
                                },
                                {
                                    "LOGIN": "imre1",
                                    "szall_mod": "Személyes átvétel",
                                    "(No column name)": "3"
                                },
                                {
                                    "LOGIN": "gabor4",
                                    "szall_mod": "Személyes átvétel",
                                    "(No column name)": "4"
                                },
                                {
                                    "LOGIN": "maria1",
                                    "szall_mod": "Személyes átvétel",
                                    "(No column name)": "1"
                                },
                                {
                                    "LOGIN": "nikolett3",
                                    "szall_mod": "GLS",
                                    "(No column name)": "4"
                                },
                                {
                                    "LOGIN": "peter4",
                                    "szall_mod": "GLS",
                                    "(No column name)": "266"
                                },
                                {
                                    "LOGIN": "zsuzsa",
                                    "szall_mod": "GLS",
                                    "(No column name)": "8"
                                },
                                {
                                    "LOGIN": "balint1",
                                    "szall_mod": "GLS",
                                    "(No column name)": "158"
                                },
                                {
                                    "LOGIN": "veronika4",
                                    "szall_mod": "Posta",
                                    "(No column name)": "6"
                                },
                                {
                                    "LOGIN": "andi",
                                    "szall_mod": "GLS",
                                    "(No column name)": "7"
                                },
                                {
                                    "LOGIN": "tamas",
                                    "szall_mod": "GLS",
                                    "(No column name)": "143"
                                },
                                {
                                    "LOGIN": "zoltan",
                                    "szall_mod": "GLS",
                                    "(No column name)": "5"
                                },
                                {
                                    "LOGIN": "sandor4",
                                    "szall_mod": "GLS",
                                    "(No column name)": "4"
                                },
                                {
                                    "LOGIN": "JANOSP",
                                    "szall_mod": "Személyes átvétel",
                                    "(No column name)": "3"
                                },
                                {
                                    "LOGIN": "attila4",
                                    "szall_mod": "Posta",
                                    "(No column name)": "125"
                                },
                                {
                                    "LOGIN": "bernadett2",
                                    "szall_mod": "GLS",
                                    "(No column name)": "6"
                                },
                                {
                                    "LOGIN": "david",
                                    "szall_mod": "Személyes átvétel",
                                    "(No column name)": "146"
                                },
                                {
                                    "LOGIN": "tibor2",
                                    "szall_mod": "GLS",
                                    "(No column name)": "7"
                                },
                                {
                                    "LOGIN": "adam3",
                                    "szall_mod": "Posta",
                                    "(No column name)": "3"
                                },
                                {
                                    "LOGIN": "agnes",
                                    "szall_mod": "GLS",
                                    "(No column name)": "144"
                                },
                                {
                                    "LOGIN": "timea",
                                    "szall_mod": "Személyes átvétel",
                                    "(No column name)": "18"
                                },
                                {
                                    "LOGIN": "zsuzsanna",
                                    "szall_mod": "GLS",
                                    "(No column name)": "7"
                                },
                                {
                                    "LOGIN": "istvan1",
                                    "szall_mod": "Posta",
                                    "(No column name)": "4"
                                },
                                {
                                    "LOGIN": "krisztian4",
                                    "szall_mod": "Posta",
                                    "(No column name)": "6"
                                },
                                {
                                    "LOGIN": "brigitta",
                                    "szall_mod": "Személyes átvétel",
                                    "(No column name)": "119"
                                },
                                {
                                    "LOGIN": "JUDITH",
                                    "szall_mod": "Posta",
                                    "(No column name)": "130"
                                },
                                {
                                    "LOGIN": "gusztav",
                                    "szall_mod": "GLS",
                                    "(No column name)": "5"
                                },
                                {
                                    "LOGIN": "adam3",
                                    "szall_mod": "Személyes átvétel",
                                    "(No column name)": "2"
                                },
                                {
                                    "LOGIN": "veronika4",
                                    "szall_mod": "Személyes átvétel",
                                    "(No column name)": "7"
                                },
                                {
                                    "LOGIN": "BELAF",
                                    "szall_mod": "Személyes átvétel",
                                    "(No column name)": "5"
                                },
                                {
                                    "LOGIN": "JUDITH",
                                    "szall_mod": "Személyes átvétel",
                                    "(No column name)": "150"
                                },
                                {
                                    "LOGIN": "tibor",
                                    "szall_mod": "GLS",
                                    "(No column name)": "115"
                                }
                            ]
                        },
                        "text/html": [
                            "<table>",
                            "<tr><th>LOGIN</th><th>szall_mod</th><th>(No column name)</th></tr>",
                            "<tr><td>NIKOLETTAT</td><td>Posta</td><td>7</td></tr>",
                            "<tr><td>tihamer</td><td>Személyes átvétel</td><td>5</td></tr>",
                            "<tr><td>IBOLYAA</td><td>Személyes átvétel</td><td>157</td></tr>",
                            "<tr><td>anita</td><td>GLS</td><td>5</td></tr>",
                            "<tr><td>krisztina1</td><td>Személyes átvétel</td><td>8</td></tr>",
                            "<tr><td>BEATRIXS</td><td>Személyes átvétel</td><td>133</td></tr>",
                            "<tr><td>szilvia1</td><td>Személyes átvétel</td><td>138</td></tr>",
                            "<tr><td>sandor3</td><td>Posta</td><td>4</td></tr>",
                            "<tr><td>david1</td><td>Személyes átvétel</td><td>8</td></tr>",
                            "<tr><td>emese</td><td>Személyes átvétel</td><td>142</td></tr>",
                            "<tr><td>gabriella10</td><td>Személyes átvétel</td><td>7</td></tr>",
                            "<tr><td>julianna4</td><td>Posta</td><td>12</td></tr>",
                            "<tr><td>agnes3</td><td>Posta</td><td>146</td></tr>",
                            "<tr><td>ARPADH</td><td>Személyes átvétel</td><td>5</td></tr>",
                            "<tr><td>daniel</td><td>GLS</td><td>7</td></tr>",
                            "<tr><td>anett3</td><td>Személyes átvétel</td><td>9</td></tr>",
                            "<tr><td>eva</td><td>Személyes átvétel</td><td>139</td></tr>",
                            "<tr><td>katalin4</td><td>Személyes átvétel</td><td>11</td></tr>",
                            "<tr><td>andras2</td><td>GLS</td><td>4</td></tr>",
                            "<tr><td>JOZSEFG</td><td>Posta</td><td>1</td></tr>",
                            "<tr><td>ROBERTP</td><td>Személyes átvétel</td><td>10</td></tr>",
                            "<tr><td>arpad2</td><td>GLS</td><td>6</td></tr>",
                            "<tr><td>zsofi1</td><td>Személyes átvétel</td><td>6</td></tr>",
                            "<tr><td>imre1</td><td>GLS</td><td>8</td></tr>",
                            "<tr><td>ferenc1</td><td>Posta</td><td>158</td></tr>",
                            "<tr><td>bence</td><td>Személyes átvétel</td><td>8</td></tr>",
                            "<tr><td>sara</td><td>Személyes átvétel</td><td>9</td></tr>",
                            "<tr><td>GYORGYO</td><td>Személyes átvétel</td><td>5</td></tr>",
                            "<tr><td>AGNESK</td><td>Posta</td><td>7</td></tr>",
                            "<tr><td>krisztina</td><td>Posta</td><td>150</td></tr>",
                            "<tr><td>ISTVANV</td><td>GLS</td><td>4</td></tr>",
                            "<tr><td>TAMASF</td><td>Személyes átvétel</td><td>129</td></tr>",
                            "<tr><td>SZABOLCSM</td><td>GLS</td><td>126</td></tr>",
                            "<tr><td>andras4</td><td>Személyes átvétel</td><td>4</td></tr>",
                            "<tr><td>andi</td><td>Személyes átvétel</td><td>7</td></tr>",
                            "<tr><td>brigitta</td><td>GLS</td><td>137</td></tr>",
                            "<tr><td>zsuzsa3</td><td>GLS</td><td>5</td></tr>",
                            "<tr><td>janos3</td><td>GLS</td><td>5</td></tr>",
                            "<tr><td>agnes</td><td>Személyes átvétel</td><td>144</td></tr>",
                            "<tr><td>MIHALYJ</td><td>GLS</td><td>3</td></tr>",
                            "<tr><td>KRISZTIANM</td><td>Posta</td><td>136</td></tr>",
                            "<tr><td>edit</td><td>Személyes átvétel</td><td>4</td></tr>",
                            "<tr><td>ANDRASE</td><td>Posta</td><td>141</td></tr>",
                            "<tr><td>ANDREAT</td><td>Posta</td><td>6</td></tr>",
                            "<tr><td>adam1</td><td>Személyes átvétel</td><td>131</td></tr>",
                            "<tr><td>attila1</td><td>Személyes átvétel</td><td>6</td></tr>",
                            "<tr><td>norbert2</td><td>Posta</td><td>4</td></tr>",
                            "<tr><td>david4</td><td>GLS</td><td>3</td></tr>",
                            "<tr><td>aniko</td><td>GLS</td><td>128</td></tr>",
                            "<tr><td>eszter4</td><td>Posta</td><td>134</td></tr>",
                            "<tr><td>ANDRASN</td><td>GLS</td><td>10</td></tr>",
                            "<tr><td>ARPADM</td><td>GLS</td><td>6</td></tr>",
                            "<tr><td>zsuzsa</td><td>Posta</td><td>5</td></tr>",
                            "<tr><td>EVAV</td><td>GLS</td><td>2</td></tr>",
                            "<tr><td>LASZLON</td><td>Posta</td><td>131</td></tr>",
                            "<tr><td>csongor3</td><td>GLS</td><td>5</td></tr>",
                            "<tr><td>andras21</td><td>GLS</td><td>140</td></tr>",
                            "<tr><td>roza2</td><td>Posta</td><td>2</td></tr>",
                            "<tr><td>maria1</td><td>GLS</td><td>4</td></tr>",
                            "<tr><td>adam4</td><td>Posta</td><td>6</td></tr>",
                            "<tr><td>brigitta3</td><td>Személyes átvétel</td><td>139</td></tr>",
                            "<tr><td>ANDRASN</td><td>Posta</td><td>9</td></tr>",
                            "<tr><td>imre</td><td>Személyes átvétel</td><td>6</td></tr>",
                            "<tr><td>MATEK</td><td>Posta</td><td>10</td></tr>",
                            "<tr><td>balazs3</td><td>GLS</td><td>6</td></tr>",
                            "<tr><td>SEBASTIANF</td><td>Személyes átvétel</td><td>6</td></tr>",
                            "<tr><td>valentin</td><td>Posta</td><td>5</td></tr>",
                            "<tr><td>rajmond4</td><td>Posta</td><td>5</td></tr>",
                            "<tr><td>balu</td><td>Posta</td><td>137</td></tr>",
                            "<tr><td>reka4</td><td>Posta</td><td>4</td></tr>",
                            "<tr><td>sandor</td><td>GLS</td><td>4</td></tr>",
                            "<tr><td>balazs1</td><td>GLS</td><td>128</td></tr>",
                            "<tr><td>aladar</td><td>GLS</td><td>156</td></tr>",
                            "<tr><td>zoltan4</td><td>Posta</td><td>124</td></tr>",
                            "<tr><td>reka4</td><td>Személyes átvétel</td><td>11</td></tr>",
                            "<tr><td>roland</td><td>GLS</td><td>132</td></tr>",
                            "<tr><td>kornel4</td><td>GLS</td><td>3</td></tr>",
                            "<tr><td>ARPADM</td><td>Személyes átvétel</td><td>7</td></tr>",
                            "<tr><td>marton</td><td>Posta</td><td>4</td></tr>",
                            "<tr><td>BERNADETTO</td><td>Posta</td><td>2</td></tr>",
                            "<tr><td>adam1</td><td>Posta</td><td>132</td></tr>",
                            "<tr><td>NIKOLETTAT</td><td>Személyes átvétel</td><td>5</td></tr>",
                            "<tr><td>LASZLOA</td><td>Posta</td><td>136</td></tr>",
                            "<tr><td>katka</td><td>Posta</td><td>6</td></tr>",
                            "<tr><td>IBOLYAA</td><td>Posta</td><td>125</td></tr>",
                            "<tr><td>tihamer</td><td>Posta</td><td>6</td></tr>",
                            "<tr><td>emese</td><td>Posta</td><td>136</td></tr>",
                            "<tr><td>szilvia1</td><td>Posta</td><td>151</td></tr>",
                            "<tr><td>ZOLTANT</td><td>GLS</td><td>127</td></tr>",
                            "<tr><td>imre</td><td>GLS</td><td>5</td></tr>",
                            "<tr><td>katalin4</td><td>Posta</td><td>5</td></tr>",
                            "<tr><td>MIKLOSB</td><td>GLS</td><td>6</td></tr>",
                            "<tr><td>julianna4</td><td>Személyes átvétel</td><td>7</td></tr>",
                            "<tr><td>jozsef</td><td>GLS</td><td>116</td></tr>",
                            "<tr><td>NANDORF</td><td>Posta</td><td>139</td></tr>",
                            "<tr><td>VIKTORK</td><td>Személyes átvétel</td><td>6</td></tr>",
                            "<tr><td>agnes3</td><td>Személyes átvétel</td><td>136</td></tr>",
                            "<tr><td>zsofi1</td><td>Posta</td><td>6</td></tr>",
                            "<tr><td>georgij</td><td>Posta</td><td>2</td></tr>",
                            "<tr><td>attila4</td><td>GLS</td><td>135</td></tr>",
                            "<tr><td>aladar</td><td>Személyes átvétel</td><td>118</td></tr>",
                            "<tr><td>BENCEB</td><td>Posta</td><td>7</td></tr>",
                            "<tr><td>ZSOLTJ</td><td>Posta</td><td>8</td></tr>",
                            "<tr><td>BENCEB</td><td>Személyes átvétel</td><td>5</td></tr>",
                            "<tr><td>PETERB</td><td>GLS</td><td>2</td></tr>",
                            "<tr><td>matyas2</td><td>Posta</td><td>131</td></tr>",
                            "<tr><td>tibor</td><td>Személyes átvétel</td><td>130</td></tr>",
                            "<tr><td>adam4</td><td>Személyes átvétel</td><td>11</td></tr>",
                            "<tr><td>ferenc1</td><td>Személyes átvétel</td><td>135</td></tr>",
                            "<tr><td>TAMASF</td><td>Posta</td><td>145</td></tr>",
                            "<tr><td>zsolt1</td><td>GLS</td><td>11</td></tr>",
                            "<tr><td>zsuzsanna</td><td>Személyes átvétel</td><td>3</td></tr>",
                            "<tr><td>katalin</td><td>GLS</td><td>7</td></tr>",
                            "<tr><td>krisztina</td><td>Személyes átvétel</td><td>157</td></tr>",
                            "<tr><td>BELAF</td><td>GLS</td><td>11</td></tr>",
                            "<tr><td>tibor</td><td>Posta</td><td>129</td></tr>",
                            "<tr><td>AGNESK</td><td>Személyes átvétel</td><td>7</td></tr>",
                            "<tr><td>MONIKAM</td><td>Posta</td><td>151</td></tr>",
                            "<tr><td>ROBERTI</td><td>GLS</td><td>5</td></tr>",
                            "<tr><td>ANNAMARIAR</td><td>Posta</td><td>2</td></tr>",
                            "<tr><td>timea2</td><td>GLS</td><td>1</td></tr>",
                            "<tr><td>eszter2</td><td>GLS</td><td>127</td></tr>",
                            "<tr><td>ilona3</td><td>Személyes átvétel</td><td>7</td></tr>",
                            "<tr><td>gabor4</td><td>GLS</td><td>7</td></tr>",
                            "<tr><td>robert2</td><td>Posta</td><td>1</td></tr>",
                            "<tr><td>MATEK</td><td>GLS</td><td>6</td></tr>",
                            "<tr><td>ZSUZSAV</td><td>GLS</td><td>139</td></tr>",
                            "<tr><td>tibor2</td><td>Posta</td><td>7</td></tr>",
                            "<tr><td>ANDRASE</td><td>Személyes átvétel</td><td>136</td></tr>",
                            "<tr><td>sara</td><td>GLS</td><td>4</td></tr>",
                            "<tr><td>ANDREAT</td><td>Személyes átvétel</td><td>12</td></tr>",
                            "<tr><td>ESZTERE</td><td>GLS</td><td>6</td></tr>",
                            "<tr><td>timea</td><td>GLS</td><td>14</td></tr>",
                            "<tr><td>GABORS</td><td>Posta</td><td>6</td></tr>",
                            "<tr><td>balint2</td><td>Személyes átvétel</td><td>3</td></tr>",
                            "<tr><td>kati</td><td>Személyes átvétel</td><td>4</td></tr>",
                            "<tr><td>veronika4</td><td>GLS</td><td>5</td></tr>",
                            "<tr><td>gabriella1</td><td>GLS</td><td>5</td></tr>",
                            "<tr><td>andras4</td><td>Posta</td><td>4</td></tr>",
                            "<tr><td>kata</td><td>Személyes átvétel</td><td>3</td></tr>",
                            "<tr><td>jozsef2</td><td>Személyes átvétel</td><td>4</td></tr>",
                            "<tr><td>balint2</td><td>Posta</td><td>6</td></tr>",
                            "<tr><td>annamaria1</td><td>Személyes átvétel</td><td>7</td></tr>",
                            "<tr><td>janos3</td><td>Személyes átvétel</td><td>6</td></tr>",
                            "<tr><td>kriszti</td><td>Személyes átvétel</td><td>5</td></tr>",
                            "<tr><td>ANDRASN</td><td>Személyes átvétel</td><td>5</td></tr>",
                            "<tr><td>imre</td><td>Posta</td><td>4</td></tr>",
                            "<tr><td>ANIKOS</td><td>Posta</td><td>126</td></tr>",
                            "<tr><td>szabolcs</td><td>Posta</td><td>157</td></tr>",
                            "<tr><td>ANDREAT</td><td>GLS</td><td>3</td></tr>",
                            "<tr><td>bertalan</td><td>Posta</td><td>124</td></tr>",
                            "<tr><td>daniel1</td><td>Posta</td><td>131</td></tr>",
                            "<tr><td>MATEK</td><td>Személyes átvétel</td><td>9</td></tr>",
                            "<tr><td>bertalan</td><td>Személyes átvétel</td><td>101</td></tr>",
                            "<tr><td>ZOLTANP</td><td>Posta</td><td>3</td></tr>",
                            "<tr><td>JANOSG</td><td>Posta</td><td>3</td></tr>",
                            "<tr><td>BEATRIXK</td><td>Posta</td><td>155</td></tr>",
                            "<tr><td>peter3</td><td>GLS</td><td>8</td></tr>",
                            "<tr><td>NANDORF</td><td>Személyes átvétel</td><td>134</td></tr>",
                            "<tr><td>balazs2</td><td>Posta</td><td>7</td></tr>",
                            "<tr><td>ZOLTANP</td><td>Személyes átvétel</td><td>4</td></tr>",
                            "<tr><td>AGNESH</td><td>GLS</td><td>2</td></tr>",
                            "<tr><td>akos</td><td>GLS</td><td>146</td></tr>",
                            "<tr><td>klaudia2</td><td>GLS</td><td>3</td></tr>",
                            "<tr><td>LASZLON</td><td>GLS</td><td>126</td></tr>",
                            "<tr><td>peter4</td><td>Személyes átvétel</td><td>293</td></tr>",
                            "<tr><td>balint2</td><td>GLS</td><td>8</td></tr>",
                            "<tr><td>eva</td><td>Posta</td><td>140</td></tr>",
                            "<tr><td>zoltan4</td><td>GLS</td><td>129</td></tr>",
                            "<tr><td>bernadett2</td><td>Személyes átvétel</td><td>7</td></tr>",
                            "<tr><td>lala</td><td>GLS</td><td>5</td></tr>",
                            "<tr><td>aladar</td><td>Posta</td><td>134</td></tr>",
                            "<tr><td>balint1</td><td>Személyes átvétel</td><td>152</td></tr>",
                            "<tr><td>daniel1</td><td>Személyes átvétel</td><td>132</td></tr>",
                            "<tr><td>SEBASTIANF</td><td>Posta</td><td>3</td></tr>",
                            "<tr><td>nikolett3</td><td>Posta</td><td>3</td></tr>",
                            "<tr><td>denes</td><td>GLS</td><td>3</td></tr>",
                            "<tr><td>adam1</td><td>GLS</td><td>129</td></tr>",
                            "<tr><td>matyas2</td><td>Személyes átvétel</td><td>164</td></tr>",
                            "<tr><td>GYORGYO</td><td>Posta</td><td>4</td></tr>",
                            "<tr><td>norbert5</td><td>Posta</td><td>6</td></tr>",
                            "<tr><td>sandor3</td><td>GLS</td><td>4</td></tr>",
                            "<tr><td>norbert5</td><td>Személyes átvétel</td><td>9</td></tr>",
                            "<tr><td>andrea4</td><td>Posta</td><td>4</td></tr>",
                            "<tr><td>jozsef2</td><td>Posta</td><td>2</td></tr>",
                            "<tr><td>zsuzsa</td><td>Személyes átvétel</td><td>3</td></tr>",
                            "<tr><td>JANOSP</td><td>GLS</td><td>7</td></tr>",
                            "<tr><td>julianna4</td><td>GLS</td><td>8</td></tr>",
                            "<tr><td>VIKTORIAU</td><td>GLS</td><td>5</td></tr>",
                            "<tr><td>andrea</td><td>Posta</td><td>4</td></tr>",
                            "<tr><td>andi</td><td>Posta</td><td>4</td></tr>",
                            "<tr><td>aniko4</td><td>GLS</td><td>6</td></tr>",
                            "<tr><td>ANNAMARIAR</td><td>Személyes átvétel</td><td>3</td></tr>",
                            "<tr><td>rajmond4</td><td>GLS</td><td>6</td></tr>",
                            "<tr><td>KRISZTIANM</td><td>Személyes átvétel</td><td>130</td></tr>",
                            "<tr><td>kati</td><td>Posta</td><td>5</td></tr>",
                            "<tr><td>GABORS</td><td>Személyes átvétel</td><td>4</td></tr>",
                            "<tr><td>julia4</td><td>GLS</td><td>2</td></tr>",
                            "<tr><td>gabor1</td><td>Posta</td><td>5</td></tr>",
                            "<tr><td>brigitta3</td><td>Posta</td><td>130</td></tr>",
                            "<tr><td>kata</td><td>Posta</td><td>4</td></tr>",
                            "<tr><td>ANIKOS</td><td>Személyes átvétel</td><td>150</td></tr>",
                            "<tr><td>norbert4</td><td>Posta</td><td>3</td></tr>",
                            "<tr><td>kriszti</td><td>Posta</td><td>5</td></tr>",
                            "<tr><td>andras4</td><td>GLS</td><td>4</td></tr>",
                            "<tr><td>bence</td><td>Posta</td><td>6</td></tr>",
                            "<tr><td>nikoletta4</td><td>GLS</td><td>137</td></tr>",
                            "<tr><td>bernadett1</td><td>Posta</td><td>5</td></tr>",
                            "<tr><td>marton</td><td>Személyes átvétel</td><td>5</td></tr>",
                            "<tr><td>KRISZTINAG</td><td>Személyes átvétel</td><td>10</td></tr>",
                            "<tr><td>balu</td><td>Személyes átvétel</td><td>123</td></tr>",
                            "<tr><td>bernadett1</td><td>Személyes átvétel</td><td>5</td></tr>",
                            "<tr><td>GYONGYIK</td><td>Személyes átvétel</td><td>3</td></tr>",
                            "<tr><td>balazs2</td><td>Személyes átvétel</td><td>5</td></tr>",
                            "<tr><td>robert2</td><td>GLS</td><td>5</td></tr>",
                            "<tr><td>GYONGYIK</td><td>Posta</td><td>6</td></tr>",
                            "<tr><td>BERNADETTO</td><td>Személyes átvétel</td><td>7</td></tr>",
                            "<tr><td>attila1</td><td>GLS</td><td>5</td></tr>",
                            "<tr><td>ARPADM</td><td>Posta</td><td>3</td></tr>",
                            "<tr><td>katka</td><td>Személyes átvétel</td><td>10</td></tr>",
                            "<tr><td>balint1</td><td>Posta</td><td>152</td></tr>",
                            "<tr><td>balint</td><td>GLS</td><td>10</td></tr>",
                            "<tr><td>JOZSEFG</td><td>Személyes átvétel</td><td>9</td></tr>",
                            "<tr><td>kristof4</td><td>GLS</td><td>9</td></tr>",
                            "<tr><td>LASZLOA</td><td>Személyes átvétel</td><td>154</td></tr>",
                            "<tr><td>andras41</td><td>Személyes átvétel</td><td>133</td></tr>",
                            "<tr><td>krisztina1</td><td>Posta</td><td>4</td></tr>",
                            "<tr><td>ARPADH</td><td>Posta</td><td>3</td></tr>",
                            "<tr><td>nikolett3</td><td>Személyes átvétel</td><td>10</td></tr>",
                            "<tr><td>peter4</td><td>Posta</td><td>293</td></tr>",
                            "<tr><td>VIKTORK</td><td>Posta</td><td>6</td></tr>",
                            "<tr><td>ROBERTP</td><td>Posta</td><td>8</td></tr>",
                            "<tr><td>RENATAK</td><td>Személyes átvétel</td><td>147</td></tr>",
                            "<tr><td>ZOLTANP</td><td>GLS</td><td>6</td></tr>",
                            "<tr><td>bertalan</td><td>GLS</td><td>128</td></tr>",
                            "<tr><td>bernadett2</td><td>Posta</td><td>2</td></tr>",
                            "<tr><td>ZSOLTJ</td><td>Személyes átvétel</td><td>9</td></tr>",
                            "<tr><td>BEATRIXS</td><td>Posta</td><td>141</td></tr>",
                            "<tr><td>RENATAK</td><td>Posta</td><td>140</td></tr>",
                            "<tr><td>GABORS</td><td>GLS</td><td>5</td></tr>",
                            "<tr><td>sara</td><td>Posta</td><td>7</td></tr>",
                            "<tr><td>vivien3</td><td>GLS</td><td>9</td></tr>",
                            "<tr><td>andras3</td><td>Posta</td><td>1</td></tr>",
                            "<tr><td>katka</td><td>GLS</td><td>6</td></tr>",
                            "<tr><td>MARKH</td><td>GLS</td><td>128</td></tr>",
                            "<tr><td>istvan1</td><td>GLS</td><td>8</td></tr>",
                            "<tr><td>fruzsina4</td><td>GLS</td><td>8</td></tr>",
                            "<tr><td>roza2</td><td>GLS</td><td>3</td></tr>",
                            "<tr><td>JUDITH</td><td>GLS</td><td>170</td></tr>",
                            "<tr><td>andrea3</td><td>GLS</td><td>131</td></tr>",
                            "<tr><td>gabriella10</td><td>Posta</td><td>5</td></tr>",
                            "<tr><td>katalin4</td><td>GLS</td><td>7</td></tr>",
                            "<tr><td>zsuzsanna</td><td>Posta</td><td>5</td></tr>",
                            "<tr><td>MONIKAM</td><td>Személyes átvétel</td><td>123</td></tr>",
                            "<tr><td>andrea4</td><td>Személyes átvétel</td><td>7</td></tr>",
                            "<tr><td>robert2</td><td>Személyes átvétel</td><td>7</td></tr>",
                            "<tr><td>agnes</td><td>Posta</td><td>130</td></tr>",
                            "<tr><td>reka4</td><td>GLS</td><td>5</td></tr>",
                            "<tr><td>dani</td><td>Személyes átvétel</td><td>8</td></tr>",
                            "<tr><td>david</td><td>GLS</td><td>161</td></tr>",
                            "<tr><td>david1</td><td>GLS</td><td>8</td></tr>",
                            "<tr><td>ilona3</td><td>Posta</td><td>2</td></tr>",
                            "<tr><td>edit</td><td>Posta</td><td>2</td></tr>",
                            "<tr><td>pal</td><td>GLS</td><td>152</td></tr>",
                            "<tr><td>eszter4</td><td>Személyes átvétel</td><td>149</td></tr>",
                            "<tr><td>sebestyen</td><td>GLS</td><td>4</td></tr>",
                            "<tr><td>andrea</td><td>Személyes átvétel</td><td>8</td></tr>",
                            "<tr><td>debora</td><td>Posta</td><td>6</td></tr>",
                            "<tr><td>gusztav</td><td>Posta</td><td>4</td></tr>",
                            "<tr><td>BEATRIXK</td><td>Személyes átvétel</td><td>145</td></tr>",
                            "<tr><td>gusztav</td><td>Személyes átvétel</td><td>5</td></tr>",
                            "<tr><td>norbert4</td><td>Személyes átvétel</td><td>9</td></tr>",
                            "<tr><td>alexandra</td><td>GLS</td><td>5</td></tr>",
                            "<tr><td>adam3</td><td>GLS</td><td>10</td></tr>",
                            "<tr><td>debora</td><td>Személyes átvétel</td><td>3</td></tr>",
                            "<tr><td>MONIKAM</td><td>GLS</td><td>133</td></tr>",
                            "<tr><td>gabor1</td><td>Személyes átvétel</td><td>5</td></tr>",
                            "<tr><td>AGNESK</td><td>GLS</td><td>1</td></tr>",
                            "<tr><td>NIKOLETTAT</td><td>GLS</td><td>13</td></tr>",
                            "<tr><td>lajos</td><td>GLS</td><td>5</td></tr>",
                            "<tr><td>istvan</td><td>GLS</td><td>3</td></tr>",
                            "<tr><td>andras41</td><td>GLS</td><td>149</td></tr>",
                            "<tr><td>LASZLON</td><td>Személyes átvétel</td><td>143</td></tr>",
                            "<tr><td>roza2</td><td>Személyes átvétel</td><td>3</td></tr>",
                            "<tr><td>annamaria1</td><td>Posta</td><td>4</td></tr>",
                            "<tr><td>szabolcs</td><td>Személyes átvétel</td><td>169</td></tr>",
                            "<tr><td>laszlo1</td><td>GLS</td><td>130</td></tr>",
                            "<tr><td>georgij</td><td>Személyes átvétel</td><td>10</td></tr>",
                            "<tr><td>rajmond4</td><td>Személyes átvétel</td><td>6</td></tr>",
                            "<tr><td>KRISZTINAG</td><td>Posta</td><td>6</td></tr>",
                            "<tr><td>valentin</td><td>Személyes átvétel</td><td>3</td></tr>",
                            "<tr><td>janos3</td><td>Posta</td><td>2</td></tr>",
                            "<tr><td>anett3</td><td>Posta</td><td>6</td></tr>",
                            "<tr><td>zoltan4</td><td>Személyes átvétel</td><td>171</td></tr>",
                            "<tr><td>JANOSG</td><td>Személyes átvétel</td><td>4</td></tr>",
                            "<tr><td>aron2</td><td>GLS</td><td>132</td></tr>",
                            "<tr><td>sandor3</td><td>Személyes átvétel</td><td>6</td></tr>",
                            "<tr><td>jozsef2</td><td>GLS</td><td>7</td></tr>",
                            "<tr><td>szilvia1</td><td>GLS</td><td>156</td></tr>",
                            "<tr><td>gabriella10</td><td>GLS</td><td>4</td></tr>",
                            "<tr><td>adam4</td><td>GLS</td><td>12</td></tr>",
                            "<tr><td>andras21</td><td>Posta</td><td>124</td></tr>",
                            "<tr><td>polla</td><td>Posta</td><td>6</td></tr>",
                            "<tr><td>SEBASTIANF</td><td>GLS</td><td>6</td></tr>",
                            "<tr><td>eva2</td><td>Posta</td><td>138</td></tr>",
                            "<tr><td>lajos</td><td>Személyes átvétel</td><td>9</td></tr>",
                            "<tr><td>peter2</td><td>Személyes átvétel</td><td>7</td></tr>",
                            "<tr><td>krisztian4</td><td>Személyes átvétel</td><td>6</td></tr>",
                            "<tr><td>roland1</td><td>GLS</td><td>142</td></tr>",
                            "<tr><td>laszlo2</td><td>Személyes átvétel</td><td>7</td></tr>",
                            "<tr><td>gabor1</td><td>GLS</td><td>9</td></tr>",
                            "<tr><td>ESZTERE</td><td>Posta</td><td>9</td></tr>",
                            "<tr><td>laszlo1</td><td>Személyes átvétel</td><td>135</td></tr>",
                            "<tr><td>eszter4</td><td>GLS</td><td>141</td></tr>",
                            "<tr><td>edit</td><td>GLS</td><td>7</td></tr>",
                            "<tr><td>KRISZTINAG</td><td>GLS</td><td>6</td></tr>",
                            "<tr><td>ESZTERE</td><td>Személyes átvétel</td><td>7</td></tr>",
                            "<tr><td>henrik3</td><td>GLS</td><td>7</td></tr>",
                            "<tr><td>pal</td><td>Személyes átvétel</td><td>154</td></tr>",
                            "<tr><td>RENATAK</td><td>GLS</td><td>135</td></tr>",
                            "<tr><td>daniel</td><td>Posta</td><td>2</td></tr>",
                            "<tr><td>julia</td><td>GLS</td><td>137</td></tr>",
                            "<tr><td>roland</td><td>Posta</td><td>157</td></tr>",
                            "<tr><td>balazs2</td><td>GLS</td><td>5</td></tr>",
                            "<tr><td>zoltan</td><td>Személyes átvétel</td><td>7</td></tr>",
                            "<tr><td>daniel1</td><td>GLS</td><td>156</td></tr>",
                            "<tr><td>attila1</td><td>Posta</td><td>7</td></tr>",
                            "<tr><td>fruzsina4</td><td>Személyes átvétel</td><td>7</td></tr>",
                            "<tr><td>zsolt1</td><td>Posta</td><td>6</td></tr>",
                            "<tr><td>matyas2</td><td>GLS</td><td>138</td></tr>",
                            "<tr><td>lala</td><td>Személyes átvétel</td><td>9</td></tr>",
                            "<tr><td>peter1</td><td>Posta</td><td>135</td></tr>",
                            "<tr><td>VIKTORIAU</td><td>Posta</td><td>4</td></tr>",
                            "<tr><td>SZABOLCSM</td><td>Posta</td><td>153</td></tr>",
                            "<tr><td>JOZSEFG</td><td>GLS</td><td>11</td></tr>",
                            "<tr><td>SZILARDS</td><td>Személyes átvétel</td><td>111</td></tr>",
                            "<tr><td>peter1</td><td>Személyes átvétel</td><td>126</td></tr>",
                            "<tr><td>sandor</td><td>Posta</td><td>6</td></tr>",
                            "<tr><td>david4</td><td>Személyes átvétel</td><td>10</td></tr>",
                            "<tr><td>david4</td><td>Posta</td><td>8</td></tr>",
                            "<tr><td>csongor3</td><td>Posta</td><td>2</td></tr>",
                            "<tr><td>tihamer</td><td>GLS</td><td>9</td></tr>",
                            "<tr><td>KRISZTIANM</td><td>GLS</td><td>118</td></tr>",
                            "<tr><td>kata</td><td>GLS</td><td>5</td></tr>",
                            "<tr><td>laszlo2</td><td>GLS</td><td>12</td></tr>",
                            "<tr><td>katalin</td><td>Posta</td><td>7</td></tr>",
                            "<tr><td>tunde</td><td>Személyes átvétel</td><td>4</td></tr>",
                            "<tr><td>ISTVANV</td><td>Posta</td><td>9</td></tr>",
                            "<tr><td>zsofi1</td><td>GLS</td><td>7</td></tr>",
                            "<tr><td>julia</td><td>Posta</td><td>160</td></tr>",
                            "<tr><td>brigitta3</td><td>GLS</td><td>144</td></tr>",
                            "<tr><td>tunde</td><td>Posta</td><td>6</td></tr>",
                            "<tr><td>eva</td><td>GLS</td><td>125</td></tr>",
                            "<tr><td>roland1</td><td>Személyes átvétel</td><td>135</td></tr>",
                            "<tr><td>agnes3</td><td>GLS</td><td>148</td></tr>",
                            "<tr><td>MIHALYJ</td><td>Posta</td><td>4</td></tr>",
                            "<tr><td>EVAV</td><td>Személyes átvétel</td><td>4</td></tr>",
                            "<tr><td>TAMASF</td><td>GLS</td><td>159</td></tr>",
                            "<tr><td>istvan1</td><td>Személyes átvétel</td><td>7</td></tr>",
                            "<tr><td>balazs1</td><td>Posta</td><td>136</td></tr>",
                            "<tr><td>marton</td><td>GLS</td><td>5</td></tr>",
                            "<tr><td>henrik3</td><td>Személyes átvétel</td><td>5</td></tr>",
                            "<tr><td>BELAF</td><td>Posta</td><td>2</td></tr>",
                            "<tr><td>zoltan</td><td>Posta</td><td>3</td></tr>",
                            "<tr><td>EVAV</td><td>Posta</td><td>1</td></tr>",
                            "<tr><td>MATYASS</td><td>Személyes átvétel</td><td>3</td></tr>",
                            "<tr><td>polla</td><td>Személyes átvétel</td><td>7</td></tr>",
                            "<tr><td>MIHALYJ</td><td>Személyes átvétel</td><td>6</td></tr>",
                            "<tr><td>ROBERTI</td><td>Posta</td><td>3</td></tr>",
                            "<tr><td>miklos2</td><td>Posta</td><td>4</td></tr>",
                            "<tr><td>georgij</td><td>GLS</td><td>9</td></tr>",
                            "<tr><td>ARONK</td><td>Személyes átvétel</td><td>155</td></tr>",
                            "<tr><td>vivien3</td><td>Személyes átvétel</td><td>7</td></tr>",
                            "<tr><td>PETERB</td><td>Posta</td><td>4</td></tr>",
                            "<tr><td>peter2</td><td>Posta</td><td>4</td></tr>",
                            "<tr><td>eva2</td><td>Személyes átvétel</td><td>170</td></tr>",
                            "<tr><td>alexandra</td><td>Posta</td><td>9</td></tr>",
                            "<tr><td>jozsef</td><td>Posta</td><td>132</td></tr>",
                            "<tr><td>kati</td><td>GLS</td><td>4</td></tr>",
                            "<tr><td>gabriella1</td><td>Személyes átvétel</td><td>5</td></tr>",
                            "<tr><td>emese</td><td>GLS</td><td>128</td></tr>",
                            "<tr><td>balint</td><td>Posta</td><td>4</td></tr>",
                            "<tr><td>aniko</td><td>Posta</td><td>137</td></tr>",
                            "<tr><td>anita</td><td>Személyes átvétel</td><td>5</td></tr>",
                            "<tr><td>IBOLYAA</td><td>GLS</td><td>140</td></tr>",
                            "<tr><td>RENATAS</td><td>Személyes átvétel</td><td>5</td></tr>",
                            "<tr><td>BENCEB</td><td>GLS</td><td>5</td></tr>",
                            "<tr><td>RENATAS</td><td>Posta</td><td>5</td></tr>",
                            "<tr><td>istvan</td><td>Személyes átvétel</td><td>4</td></tr>",
                            "<tr><td>ATTILAO</td><td>Posta</td><td>4</td></tr>",
                            "<tr><td>anett3</td><td>GLS</td><td>3</td></tr>",
                            "<tr><td>nikoletta4</td><td>Személyes átvétel</td><td>119</td></tr>",
                            "<tr><td>balu</td><td>GLS</td><td>127</td></tr>",
                            "<tr><td>valentin</td><td>GLS</td><td>5</td></tr>",
                            "<tr><td>szabolcs</td><td>GLS</td><td>145</td></tr>",
                            "<tr><td>roland</td><td>Személyes átvétel</td><td>125</td></tr>",
                            "<tr><td>sandor4</td><td>Posta</td><td>2</td></tr>",
                            "<tr><td>tibor2</td><td>Személyes átvétel</td><td>11</td></tr>",
                            "<tr><td>ferenc1</td><td>GLS</td><td>144</td></tr>",
                            "<tr><td>tamas</td><td>Posta</td><td>156</td></tr>",
                            "<tr><td>AGNESH</td><td>Posta</td><td>3</td></tr>",
                            "<tr><td>MIKLOSB</td><td>Posta</td><td>1</td></tr>",
                            "<tr><td>balazs3</td><td>Személyes átvétel</td><td>3</td></tr>",
                            "<tr><td>AGNESH</td><td>Személyes átvétel</td><td>6</td></tr>",
                            "<tr><td>dora3</td><td>Személyes átvétel</td><td>164</td></tr>",
                            "<tr><td>ANIKOS</td><td>GLS</td><td>128</td></tr>",
                            "<tr><td>dora3</td><td>Posta</td><td>124</td></tr>",
                            "<tr><td>tamara2</td><td>Személyes átvétel</td><td>3</td></tr>",
                            "<tr><td>imre1</td><td>Posta</td><td>4</td></tr>",
                            "<tr><td>sandor</td><td>Személyes átvétel</td><td>7</td></tr>",
                            "<tr><td>JANOSG</td><td>GLS</td><td>3</td></tr>",
                            "<tr><td>krisztina</td><td>GLS</td><td>149</td></tr>",
                            "<tr><td>NANDORF</td><td>GLS</td><td>147</td></tr>",
                            "<tr><td>RENATAS</td><td>GLS</td><td>6</td></tr>",
                            "<tr><td>tamara2</td><td>Posta</td><td>4</td></tr>",
                            "<tr><td>anita</td><td>Posta</td><td>2</td></tr>",
                            "<tr><td>timea2</td><td>Személyes átvétel</td><td>10</td></tr>",
                            "<tr><td>ZOLTANT</td><td>Személyes átvétel</td><td>123</td></tr>",
                            "<tr><td>andras3</td><td>Személyes átvétel</td><td>5</td></tr>",
                            "<tr><td>ZOLTANT</td><td>Posta</td><td>107</td></tr>",
                            "<tr><td>timea2</td><td>Posta</td><td>5</td></tr>",
                            "<tr><td>eszter2</td><td>Posta</td><td>136</td></tr>",
                            "<tr><td>attila4</td><td>Személyes átvétel</td><td>141</td></tr>",
                            "<tr><td>csongor3</td><td>Személyes átvétel</td><td>8</td></tr>",
                            "<tr><td>ZSOLTJ</td><td>GLS</td><td>1</td></tr>",
                            "<tr><td>timea</td><td>Posta</td><td>23</td></tr>",
                            "<tr><td>roland1</td><td>Posta</td><td>155</td></tr>",
                            "<tr><td>aniko4</td><td>Személyes átvétel</td><td>3</td></tr>",
                            "<tr><td>andrea</td><td>GLS</td><td>12</td></tr>",
                            "<tr><td>david</td><td>Posta</td><td>144</td></tr>",
                            "<tr><td>julia</td><td>Személyes átvétel</td><td>138</td></tr>",
                            "<tr><td>JANOSP</td><td>Posta</td><td>7</td></tr>",
                            "<tr><td>MATYASS</td><td>Posta</td><td>5</td></tr>",
                            "<tr><td>LASZLOA</td><td>GLS</td><td>156</td></tr>",
                            "<tr><td>zsuzsa3</td><td>Posta</td><td>5</td></tr>",
                            "<tr><td>ROBERTI</td><td>Személyes átvétel</td><td>5</td></tr>",
                            "<tr><td>henrik3</td><td>Posta</td><td>4</td></tr>",
                            "<tr><td>julia4</td><td>Posta</td><td>4</td></tr>",
                            "<tr><td>tamara2</td><td>GLS</td><td>6</td></tr>",
                            "<tr><td>andras2</td><td>Posta</td><td>7</td></tr>",
                            "<tr><td>aron2</td><td>Személyes átvétel</td><td>144</td></tr>",
                            "<tr><td>alexandra</td><td>Személyes átvétel</td><td>5</td></tr>",
                            "<tr><td>polla</td><td>GLS</td><td>9</td></tr>",
                            "<tr><td>kristof4</td><td>Személyes átvétel</td><td>8</td></tr>",
                            "<tr><td>balint</td><td>Személyes átvétel</td><td>2</td></tr>",
                            "<tr><td>daniel</td><td>Személyes átvétel</td><td>4</td></tr>",
                            "<tr><td>istvan</td><td>Posta</td><td>4</td></tr>",
                            "<tr><td>ZSUZSAV</td><td>Személyes átvétel</td><td>142</td></tr>",
                            "<tr><td>annamaria1</td><td>GLS</td><td>5</td></tr>",
                            "<tr><td>BERNADETTO</td><td>GLS</td><td>7</td></tr>",
                            "<tr><td>pal</td><td>Posta</td><td>132</td></tr>",
                            "<tr><td>ARONK</td><td>Posta</td><td>120</td></tr>",
                            "<tr><td>norbert4</td><td>GLS</td><td>1</td></tr>",
                            "<tr><td>kornel4</td><td>Posta</td><td>1</td></tr>",
                            "<tr><td>eva2</td><td>GLS</td><td>154</td></tr>",
                            "<tr><td>MATYASS</td><td>GLS</td><td>4</td></tr>",
                            "<tr><td>bernadett1</td><td>GLS</td><td>10</td></tr>",
                            "<tr><td>GYONGYIK</td><td>GLS</td><td>6</td></tr>",
                            "<tr><td>akos</td><td>Posta</td><td>143</td></tr>",
                            "<tr><td>peter3</td><td>Posta</td><td>7</td></tr>",
                            "<tr><td>sebestyen</td><td>Posta</td><td>6</td></tr>",
                            "<tr><td>BEATRIXK</td><td>GLS</td><td>135</td></tr>",
                            "<tr><td>dani</td><td>GLS</td><td>5</td></tr>",
                            "<tr><td>sandor4</td><td>Személyes átvétel</td><td>5</td></tr>",
                            "<tr><td>tamas</td><td>Személyes átvétel</td><td>122</td></tr>",
                            "<tr><td>VIKTORK</td><td>GLS</td><td>8</td></tr>",
                            "<tr><td>gabor4</td><td>Posta</td><td>9</td></tr>",
                            "<tr><td>maria1</td><td>Posta</td><td>5</td></tr>",
                            "<tr><td>balazs3</td><td>Posta</td><td>6</td></tr>",
                            "<tr><td>denes</td><td>Személyes átvétel</td><td>4</td></tr>",
                            "<tr><td>SZILARDS</td><td>Posta</td><td>131</td></tr>",
                            "<tr><td>ANNAMARIAR</td><td>GLS</td><td>8</td></tr>",
                            "<tr><td>miklos2</td><td>GLS</td><td>7</td></tr>",
                            "<tr><td>SZABOLCSM</td><td>Személyes átvétel</td><td>129</td></tr>",
                            "<tr><td>peter2</td><td>GLS</td><td>7</td></tr>",
                            "<tr><td>andrea4</td><td>GLS</td><td>7</td></tr>",
                            "<tr><td>tunde</td><td>GLS</td><td>6</td></tr>",
                            "<tr><td>VIKTORIAU</td><td>Személyes átvétel</td><td>5</td></tr>",
                            "<tr><td>ATTILAO</td><td>GLS</td><td>4</td></tr>",
                            "<tr><td>kriszti</td><td>GLS</td><td>3</td></tr>",
                            "<tr><td>ANDRASE</td><td>GLS</td><td>159</td></tr>",
                            "<tr><td>klaudia2</td><td>Személyes átvétel</td><td>5</td></tr>",
                            "<tr><td>klaudia2</td><td>Posta</td><td>9</td></tr>",
                            "<tr><td>jozsef</td><td>Személyes átvétel</td><td>134</td></tr>",
                            "<tr><td>PETERB</td><td>Személyes átvétel</td><td>9</td></tr>",
                            "<tr><td>eszter2</td><td>Személyes átvétel</td><td>152</td></tr>",
                            "<tr><td>ISTVANV</td><td>Személyes átvétel</td><td>8</td></tr>",
                            "<tr><td>ilona3</td><td>GLS</td><td>9</td></tr>",
                            "<tr><td>katalin</td><td>Személyes átvétel</td><td>5</td></tr>",
                            "<tr><td>ARONK</td><td>GLS</td><td>155</td></tr>",
                            "<tr><td>andras2</td><td>Személyes átvétel</td><td>11</td></tr>",
                            "<tr><td>brigitta</td><td>Posta</td><td>137</td></tr>",
                            "<tr><td>aniko4</td><td>Posta</td><td>6</td></tr>",
                            "<tr><td>MARKH</td><td>Személyes átvétel</td><td>142</td></tr>",
                            "<tr><td>david1</td><td>Posta</td><td>1</td></tr>",
                            "<tr><td>andrea3</td><td>Posta</td><td>136</td></tr>",
                            "<tr><td>zsuzsa3</td><td>Személyes átvétel</td><td>6</td></tr>",
                            "<tr><td>peter1</td><td>GLS</td><td>151</td></tr>",
                            "<tr><td>MARKH</td><td>Posta</td><td>142</td></tr>",
                            "<tr><td>andrea3</td><td>Személyes átvétel</td><td>146</td></tr>",
                            "<tr><td>andras21</td><td>Személyes átvétel</td><td>126</td></tr>",
                            "<tr><td>andras41</td><td>Posta</td><td>137</td></tr>",
                            "<tr><td>balazs1</td><td>Személyes átvétel</td><td>155</td></tr>",
                            "<tr><td>norbert5</td><td>GLS</td><td>1</td></tr>",
                            "<tr><td>lajos</td><td>Posta</td><td>2</td></tr>",
                            "<tr><td>miklos2</td><td>Személyes átvétel</td><td>2</td></tr>",
                            "<tr><td>vivien3</td><td>Posta</td><td>6</td></tr>",
                            "<tr><td>andras3</td><td>GLS</td><td>3</td></tr>",
                            "<tr><td>bence</td><td>GLS</td><td>4</td></tr>",
                            "<tr><td>julia4</td><td>Személyes átvétel</td><td>8</td></tr>",
                            "<tr><td>kornel4</td><td>Személyes átvétel</td><td>7</td></tr>",
                            "<tr><td>laszlo2</td><td>Posta</td><td>6</td></tr>",
                            "<tr><td>dora3</td><td>GLS</td><td>144</td></tr>",
                            "<tr><td>norbert2</td><td>GLS</td><td>7</td></tr>",
                            "<tr><td>gabriella1</td><td>Posta</td><td>4</td></tr>",
                            "<tr><td>aniko</td><td>Személyes átvétel</td><td>138</td></tr>",
                            "<tr><td>laszlo1</td><td>Posta</td><td>129</td></tr>",
                            "<tr><td>kristof4</td><td>Posta</td><td>4</td></tr>",
                            "<tr><td>krisztina1</td><td>GLS</td><td>10</td></tr>",
                            "<tr><td>ATTILAO</td><td>Személyes átvétel</td><td>6</td></tr>",
                            "<tr><td>BEATRIXS</td><td>GLS</td><td>146</td></tr>",
                            "<tr><td>peter3</td><td>Személyes átvétel</td><td>10</td></tr>",
                            "<tr><td>arpad2</td><td>Posta</td><td>1</td></tr>",
                            "<tr><td>ZSUZSAV</td><td>Posta</td><td>139</td></tr>",
                            "<tr><td>aron2</td><td>Posta</td><td>133</td></tr>",
                            "<tr><td>arpad2</td><td>Személyes átvétel</td><td>10</td></tr>",
                            "<tr><td>krisztian4</td><td>GLS</td><td>5</td></tr>",
                            "<tr><td>ROBERTP</td><td>GLS</td><td>8</td></tr>",
                            "<tr><td>SZILARDS</td><td>GLS</td><td>144</td></tr>",
                            "<tr><td>ARPADH</td><td>GLS</td><td>6</td></tr>",
                            "<tr><td>sebestyen</td><td>Személyes átvétel</td><td>6</td></tr>",
                            "<tr><td>debora</td><td>GLS</td><td>7</td></tr>",
                            "<tr><td>akos</td><td>Személyes átvétel</td><td>140</td></tr>",
                            "<tr><td>nikoletta4</td><td>Posta</td><td>158</td></tr>",
                            "<tr><td>lala</td><td>Posta</td><td>3</td></tr>",
                            "<tr><td>zsolt1</td><td>Személyes átvétel</td><td>3</td></tr>",
                            "<tr><td>GYORGYO</td><td>GLS</td><td>7</td></tr>",
                            "<tr><td>fruzsina4</td><td>Posta</td><td>3</td></tr>",
                            "<tr><td>MIKLOSB</td><td>Személyes átvétel</td><td>8</td></tr>",
                            "<tr><td>denes</td><td>Posta</td><td>2</td></tr>",
                            "<tr><td>imre1</td><td>Személyes átvétel</td><td>3</td></tr>",
                            "<tr><td>gabor4</td><td>Személyes átvétel</td><td>4</td></tr>",
                            "<tr><td>maria1</td><td>Személyes átvétel</td><td>1</td></tr>",
                            "<tr><td>nikolett3</td><td>GLS</td><td>4</td></tr>",
                            "<tr><td>peter4</td><td>GLS</td><td>266</td></tr>",
                            "<tr><td>zsuzsa</td><td>GLS</td><td>8</td></tr>",
                            "<tr><td>balint1</td><td>GLS</td><td>158</td></tr>",
                            "<tr><td>veronika4</td><td>Posta</td><td>6</td></tr>",
                            "<tr><td>andi</td><td>GLS</td><td>7</td></tr>",
                            "<tr><td>tamas</td><td>GLS</td><td>143</td></tr>",
                            "<tr><td>zoltan</td><td>GLS</td><td>5</td></tr>",
                            "<tr><td>sandor4</td><td>GLS</td><td>4</td></tr>",
                            "<tr><td>JANOSP</td><td>Személyes átvétel</td><td>3</td></tr>",
                            "<tr><td>attila4</td><td>Posta</td><td>125</td></tr>",
                            "<tr><td>bernadett2</td><td>GLS</td><td>6</td></tr>",
                            "<tr><td>david</td><td>Személyes átvétel</td><td>146</td></tr>",
                            "<tr><td>tibor2</td><td>GLS</td><td>7</td></tr>",
                            "<tr><td>adam3</td><td>Posta</td><td>3</td></tr>",
                            "<tr><td>agnes</td><td>GLS</td><td>144</td></tr>",
                            "<tr><td>timea</td><td>Személyes átvétel</td><td>18</td></tr>",
                            "<tr><td>zsuzsanna</td><td>GLS</td><td>7</td></tr>",
                            "<tr><td>istvan1</td><td>Posta</td><td>4</td></tr>",
                            "<tr><td>krisztian4</td><td>Posta</td><td>6</td></tr>",
                            "<tr><td>brigitta</td><td>Személyes átvétel</td><td>119</td></tr>",
                            "<tr><td>JUDITH</td><td>Posta</td><td>130</td></tr>",
                            "<tr><td>gusztav</td><td>GLS</td><td>5</td></tr>",
                            "<tr><td>adam3</td><td>Személyes átvétel</td><td>2</td></tr>",
                            "<tr><td>veronika4</td><td>Személyes átvétel</td><td>7</td></tr>",
                            "<tr><td>BELAF</td><td>Személyes átvétel</td><td>5</td></tr>",
                            "<tr><td>JUDITH</td><td>Személyes átvétel</td><td>150</td></tr>",
                            "<tr><td>tibor</td><td>GLS</td><td>115</td></tr>",
                            "</table>"
                        ]
                    }
                }
            ],
            "execution_count": 7
        },
        {
            "cell_type": "markdown",
            "source": [
                "2. <span style=\"background-color: rgb(255, 255, 255); color: rgb(0, 0, 0); font-family: &quot;Open Sans&quot;, sans-serif; font-size: 14.44px;\">Készítsünk listát a termékek számáról a következő csoportosítási szempontok szerint:<br>kategória azonosító, raktárkód, raktárkód+mennyiségi egység!</span>\n",
                "\n",
                "a. A listát szűrjük azokra a csoportokra, ahol a termékek száma legalább 6!"
            ],
            "metadata": {
                "azdata_cell_guid": "ea75c103-911f-41a3-a32c-3d40fb3e4e4a"
            },
            "attachments": {}
        },
        {
            "cell_type": "code",
            "source": [
                "SELECT KAT_ID,\r\n",
                "        RAKTAR_KOD,\r\n",
                "        MEGYS,\r\n",
                "        Count(*)\r\n",
                "FROM Termek\r\n",
                "GROUP BY GROUPING SETS(KAT_ID,  RAKTAR_KOD, (RAKTAR_KOD, MEGYS))\r\n",
                "HAVING COunt(*) >= 6"
            ],
            "metadata": {
                "azdata_cell_guid": "222b9618-a8e8-42b4-a8e8-d002257122b7",
                "language": "sql"
            },
            "outputs": [
                {
                    "output_type": "display_data",
                    "data": {
                        "text/html": "(49 rows affected)"
                    },
                    "metadata": {}
                },
                {
                    "output_type": "display_data",
                    "data": {
                        "text/html": "Total execution time: 00:00:00.016"
                    },
                    "metadata": {}
                },
                {
                    "output_type": "execute_result",
                    "metadata": {},
                    "execution_count": 6,
                    "data": {
                        "application/vnd.dataresource+json": {
                            "schema": {
                                "fields": [
                                    {
                                        "name": "KAT_ID"
                                    },
                                    {
                                        "name": "RAKTAR_KOD"
                                    },
                                    {
                                        "name": "MEGYS"
                                    },
                                    {
                                        "name": "(No column name)"
                                    }
                                ]
                            },
                            "data": [
                                {
                                    "KAT_ID": "NULL",
                                    "RAKTAR_KOD": "1",
                                    "MEGYS": "db",
                                    "(No column name)": "11"
                                },
                                {
                                    "KAT_ID": "NULL",
                                    "RAKTAR_KOD": "1",
                                    "MEGYS": "NULL",
                                    "(No column name)": "11"
                                },
                                {
                                    "KAT_ID": "NULL",
                                    "RAKTAR_KOD": "3",
                                    "MEGYS": "db",
                                    "(No column name)": "14"
                                },
                                {
                                    "KAT_ID": "NULL",
                                    "RAKTAR_KOD": "3",
                                    "MEGYS": "NULL",
                                    "(No column name)": "14"
                                },
                                {
                                    "KAT_ID": "NULL",
                                    "RAKTAR_KOD": "5",
                                    "MEGYS": "csomag",
                                    "(No column name)": "7"
                                },
                                {
                                    "KAT_ID": "NULL",
                                    "RAKTAR_KOD": "5",
                                    "MEGYS": "db",
                                    "(No column name)": "72"
                                },
                                {
                                    "KAT_ID": "NULL",
                                    "RAKTAR_KOD": "5",
                                    "MEGYS": "NULL",
                                    "(No column name)": "86"
                                },
                                {
                                    "KAT_ID": "NULL",
                                    "RAKTAR_KOD": "6",
                                    "MEGYS": "csomag",
                                    "(No column name)": "9"
                                },
                                {
                                    "KAT_ID": "NULL",
                                    "RAKTAR_KOD": "6",
                                    "MEGYS": "db",
                                    "(No column name)": "94"
                                },
                                {
                                    "KAT_ID": "NULL",
                                    "RAKTAR_KOD": "6",
                                    "MEGYS": "NULL",
                                    "(No column name)": "106"
                                },
                                {
                                    "KAT_ID": "NULL",
                                    "RAKTAR_KOD": "7",
                                    "MEGYS": "csomag",
                                    "(No column name)": "9"
                                },
                                {
                                    "KAT_ID": "NULL",
                                    "RAKTAR_KOD": "7",
                                    "MEGYS": "db",
                                    "(No column name)": "88"
                                },
                                {
                                    "KAT_ID": "NULL",
                                    "RAKTAR_KOD": "7",
                                    "MEGYS": "NULL",
                                    "(No column name)": "100"
                                },
                                {
                                    "KAT_ID": "NULL",
                                    "RAKTAR_KOD": "8",
                                    "MEGYS": "csomag",
                                    "(No column name)": "8"
                                },
                                {
                                    "KAT_ID": "NULL",
                                    "RAKTAR_KOD": "8",
                                    "MEGYS": "db",
                                    "(No column name)": "109"
                                },
                                {
                                    "KAT_ID": "NULL",
                                    "RAKTAR_KOD": "8",
                                    "MEGYS": "ív",
                                    "(No column name)": "6"
                                },
                                {
                                    "KAT_ID": "NULL",
                                    "RAKTAR_KOD": "8",
                                    "MEGYS": "NULL",
                                    "(No column name)": "123"
                                },
                                {
                                    "KAT_ID": "NULL",
                                    "RAKTAR_KOD": "9",
                                    "MEGYS": "csomag",
                                    "(No column name)": "11"
                                },
                                {
                                    "KAT_ID": "NULL",
                                    "RAKTAR_KOD": "9",
                                    "MEGYS": "db",
                                    "(No column name)": "86"
                                },
                                {
                                    "KAT_ID": "NULL",
                                    "RAKTAR_KOD": "9",
                                    "MEGYS": "NULL",
                                    "(No column name)": "102"
                                },
                                {
                                    "KAT_ID": "4",
                                    "RAKTAR_KOD": "NULL",
                                    "MEGYS": "NULL",
                                    "(No column name)": "15"
                                },
                                {
                                    "KAT_ID": "6",
                                    "RAKTAR_KOD": "NULL",
                                    "MEGYS": "NULL",
                                    "(No column name)": "20"
                                },
                                {
                                    "KAT_ID": "16",
                                    "RAKTAR_KOD": "NULL",
                                    "MEGYS": "NULL",
                                    "(No column name)": "7"
                                },
                                {
                                    "KAT_ID": "19",
                                    "RAKTAR_KOD": "NULL",
                                    "MEGYS": "NULL",
                                    "(No column name)": "19"
                                },
                                {
                                    "KAT_ID": "24",
                                    "RAKTAR_KOD": "NULL",
                                    "MEGYS": "NULL",
                                    "(No column name)": "7"
                                },
                                {
                                    "KAT_ID": "30",
                                    "RAKTAR_KOD": "NULL",
                                    "MEGYS": "NULL",
                                    "(No column name)": "7"
                                },
                                {
                                    "KAT_ID": "35",
                                    "RAKTAR_KOD": "NULL",
                                    "MEGYS": "NULL",
                                    "(No column name)": "7"
                                },
                                {
                                    "KAT_ID": "41",
                                    "RAKTAR_KOD": "NULL",
                                    "MEGYS": "NULL",
                                    "(No column name)": "13"
                                },
                                {
                                    "KAT_ID": "45",
                                    "RAKTAR_KOD": "NULL",
                                    "MEGYS": "NULL",
                                    "(No column name)": "11"
                                },
                                {
                                    "KAT_ID": "46",
                                    "RAKTAR_KOD": "NULL",
                                    "MEGYS": "NULL",
                                    "(No column name)": "7"
                                },
                                {
                                    "KAT_ID": "52",
                                    "RAKTAR_KOD": "NULL",
                                    "MEGYS": "NULL",
                                    "(No column name)": "26"
                                },
                                {
                                    "KAT_ID": "54",
                                    "RAKTAR_KOD": "NULL",
                                    "MEGYS": "NULL",
                                    "(No column name)": "6"
                                },
                                {
                                    "KAT_ID": "66",
                                    "RAKTAR_KOD": "NULL",
                                    "MEGYS": "NULL",
                                    "(No column name)": "7"
                                },
                                {
                                    "KAT_ID": "78",
                                    "RAKTAR_KOD": "NULL",
                                    "MEGYS": "NULL",
                                    "(No column name)": "24"
                                },
                                {
                                    "KAT_ID": "83",
                                    "RAKTAR_KOD": "NULL",
                                    "MEGYS": "NULL",
                                    "(No column name)": "6"
                                },
                                {
                                    "KAT_ID": "85",
                                    "RAKTAR_KOD": "NULL",
                                    "MEGYS": "NULL",
                                    "(No column name)": "16"
                                },
                                {
                                    "KAT_ID": "91",
                                    "RAKTAR_KOD": "NULL",
                                    "MEGYS": "NULL",
                                    "(No column name)": "7"
                                },
                                {
                                    "KAT_ID": "93",
                                    "RAKTAR_KOD": "NULL",
                                    "MEGYS": "NULL",
                                    "(No column name)": "7"
                                },
                                {
                                    "KAT_ID": "96",
                                    "RAKTAR_KOD": "NULL",
                                    "MEGYS": "NULL",
                                    "(No column name)": "9"
                                },
                                {
                                    "KAT_ID": "97",
                                    "RAKTAR_KOD": "NULL",
                                    "MEGYS": "NULL",
                                    "(No column name)": "10"
                                },
                                {
                                    "KAT_ID": "100",
                                    "RAKTAR_KOD": "NULL",
                                    "MEGYS": "NULL",
                                    "(No column name)": "9"
                                },
                                {
                                    "KAT_ID": "118",
                                    "RAKTAR_KOD": "NULL",
                                    "MEGYS": "NULL",
                                    "(No column name)": "9"
                                },
                                {
                                    "KAT_ID": "122",
                                    "RAKTAR_KOD": "NULL",
                                    "MEGYS": "NULL",
                                    "(No column name)": "7"
                                },
                                {
                                    "KAT_ID": "124",
                                    "RAKTAR_KOD": "NULL",
                                    "MEGYS": "NULL",
                                    "(No column name)": "10"
                                },
                                {
                                    "KAT_ID": "133",
                                    "RAKTAR_KOD": "NULL",
                                    "MEGYS": "NULL",
                                    "(No column name)": "6"
                                },
                                {
                                    "KAT_ID": "145",
                                    "RAKTAR_KOD": "NULL",
                                    "MEGYS": "NULL",
                                    "(No column name)": "18"
                                },
                                {
                                    "KAT_ID": "146",
                                    "RAKTAR_KOD": "NULL",
                                    "MEGYS": "NULL",
                                    "(No column name)": "7"
                                },
                                {
                                    "KAT_ID": "149",
                                    "RAKTAR_KOD": "NULL",
                                    "MEGYS": "NULL",
                                    "(No column name)": "6"
                                },
                                {
                                    "KAT_ID": "152",
                                    "RAKTAR_KOD": "NULL",
                                    "MEGYS": "NULL",
                                    "(No column name)": "6"
                                }
                            ]
                        },
                        "text/html": [
                            "<table>",
                            "<tr><th>KAT_ID</th><th>RAKTAR_KOD</th><th>MEGYS</th><th>(No column name)</th></tr>",
                            "<tr><td>NULL</td><td>1</td><td>db</td><td>11</td></tr>",
                            "<tr><td>NULL</td><td>1</td><td>NULL</td><td>11</td></tr>",
                            "<tr><td>NULL</td><td>3</td><td>db</td><td>14</td></tr>",
                            "<tr><td>NULL</td><td>3</td><td>NULL</td><td>14</td></tr>",
                            "<tr><td>NULL</td><td>5</td><td>csomag</td><td>7</td></tr>",
                            "<tr><td>NULL</td><td>5</td><td>db</td><td>72</td></tr>",
                            "<tr><td>NULL</td><td>5</td><td>NULL</td><td>86</td></tr>",
                            "<tr><td>NULL</td><td>6</td><td>csomag</td><td>9</td></tr>",
                            "<tr><td>NULL</td><td>6</td><td>db</td><td>94</td></tr>",
                            "<tr><td>NULL</td><td>6</td><td>NULL</td><td>106</td></tr>",
                            "<tr><td>NULL</td><td>7</td><td>csomag</td><td>9</td></tr>",
                            "<tr><td>NULL</td><td>7</td><td>db</td><td>88</td></tr>",
                            "<tr><td>NULL</td><td>7</td><td>NULL</td><td>100</td></tr>",
                            "<tr><td>NULL</td><td>8</td><td>csomag</td><td>8</td></tr>",
                            "<tr><td>NULL</td><td>8</td><td>db</td><td>109</td></tr>",
                            "<tr><td>NULL</td><td>8</td><td>ív</td><td>6</td></tr>",
                            "<tr><td>NULL</td><td>8</td><td>NULL</td><td>123</td></tr>",
                            "<tr><td>NULL</td><td>9</td><td>csomag</td><td>11</td></tr>",
                            "<tr><td>NULL</td><td>9</td><td>db</td><td>86</td></tr>",
                            "<tr><td>NULL</td><td>9</td><td>NULL</td><td>102</td></tr>",
                            "<tr><td>4</td><td>NULL</td><td>NULL</td><td>15</td></tr>",
                            "<tr><td>6</td><td>NULL</td><td>NULL</td><td>20</td></tr>",
                            "<tr><td>16</td><td>NULL</td><td>NULL</td><td>7</td></tr>",
                            "<tr><td>19</td><td>NULL</td><td>NULL</td><td>19</td></tr>",
                            "<tr><td>24</td><td>NULL</td><td>NULL</td><td>7</td></tr>",
                            "<tr><td>30</td><td>NULL</td><td>NULL</td><td>7</td></tr>",
                            "<tr><td>35</td><td>NULL</td><td>NULL</td><td>7</td></tr>",
                            "<tr><td>41</td><td>NULL</td><td>NULL</td><td>13</td></tr>",
                            "<tr><td>45</td><td>NULL</td><td>NULL</td><td>11</td></tr>",
                            "<tr><td>46</td><td>NULL</td><td>NULL</td><td>7</td></tr>",
                            "<tr><td>52</td><td>NULL</td><td>NULL</td><td>26</td></tr>",
                            "<tr><td>54</td><td>NULL</td><td>NULL</td><td>6</td></tr>",
                            "<tr><td>66</td><td>NULL</td><td>NULL</td><td>7</td></tr>",
                            "<tr><td>78</td><td>NULL</td><td>NULL</td><td>24</td></tr>",
                            "<tr><td>83</td><td>NULL</td><td>NULL</td><td>6</td></tr>",
                            "<tr><td>85</td><td>NULL</td><td>NULL</td><td>16</td></tr>",
                            "<tr><td>91</td><td>NULL</td><td>NULL</td><td>7</td></tr>",
                            "<tr><td>93</td><td>NULL</td><td>NULL</td><td>7</td></tr>",
                            "<tr><td>96</td><td>NULL</td><td>NULL</td><td>9</td></tr>",
                            "<tr><td>97</td><td>NULL</td><td>NULL</td><td>10</td></tr>",
                            "<tr><td>100</td><td>NULL</td><td>NULL</td><td>9</td></tr>",
                            "<tr><td>118</td><td>NULL</td><td>NULL</td><td>9</td></tr>",
                            "<tr><td>122</td><td>NULL</td><td>NULL</td><td>7</td></tr>",
                            "<tr><td>124</td><td>NULL</td><td>NULL</td><td>10</td></tr>",
                            "<tr><td>133</td><td>NULL</td><td>NULL</td><td>6</td></tr>",
                            "<tr><td>145</td><td>NULL</td><td>NULL</td><td>18</td></tr>",
                            "<tr><td>146</td><td>NULL</td><td>NULL</td><td>7</td></tr>",
                            "<tr><td>149</td><td>NULL</td><td>NULL</td><td>6</td></tr>",
                            "<tr><td>152</td><td>NULL</td><td>NULL</td><td>6</td></tr>",
                            "</table>"
                        ]
                    }
                }
            ],
            "execution_count": 6
        },
        {
            "cell_type": "markdown",
            "source": [
                "```\n",
                "3. Készítsünk listát az egyes termékkategóriákban lévő termékek számáról! \n",
                "\n",
                "```\n",
                "\n",
                "a. Elég megjeleníteni a kategóriák azonosítóit és a darabszámokat!   \n",
                "<span style=\"color: var(--vscode-foreground);\">b. A lista megfelelően jelölve tartalmazza a végösszeget is!&nbsp;<br></span> <span style=\"color: var(--vscode-foreground);\">c. Az oszlopokat nevezzük el értelemszerűen!&nbsp;<br></span> <span style=\"color: var(--vscode-foreground);\">d. A listát rendezzük a darabszám szerint növekvő sorrendbe!</span>\n",
                "\n",
                "  \n",
                "\n",
                "![](https://moodle.uni-corvinus.hu/theme/image.php/adaptable/atto_h5p/1709548862/icon)"
            ],
            "metadata": {
                "azdata_cell_guid": "d7876bb9-76d0-4d07-baed-3cb17b2f96c3"
            },
            "attachments": {}
        },
        {
            "cell_type": "code",
            "source": [
                ""
            ],
            "metadata": {
                "azdata_cell_guid": "56ec19ce-e249-4551-b2a8-f17569765acc",
                "language": "sql"
            },
            "outputs": [],
            "execution_count": null
        },
        {
            "cell_type": "markdown",
            "source": [
                "4. <span style=\"background-color: rgb(255, 255, 255); color: rgb(0, 0, 0); font-family: &quot;Open Sans&quot;, sans-serif; font-size: 14.44px;\">Készítsünk listát az ügyfelek számáról születési év szerint, azon belül nem szerinti bontásban!&nbsp;</span> \n",
                "\n",
                "a. A lista megfelelően jelölve tartalmazza a részösszegeket és a végösszeget is!  \n",
                "b. Az oszlopoknak adjunk nevet értelemszerűen!"
            ],
            "metadata": {
                "azdata_cell_guid": "8e7fef82-8022-49a0-8255-fc2846c2134b"
            },
            "attachments": {}
        },
        {
            "cell_type": "code",
            "source": [
                ""
            ],
            "metadata": {
                "azdata_cell_guid": "36f7b396-4a1f-45e5-8720-2302537c91bc",
                "language": "sql"
            },
            "outputs": [],
            "execution_count": null
        },
        {
            "cell_type": "markdown",
            "source": [
                "5. <span style=\"background-color: rgb(255, 255, 255); color: rgb(0, 0, 0); font-family: &quot;Open Sans&quot;, sans-serif; font-size: 14.44px;\">Készítsünk listát a termékek számáról a felvitel hónapja, azon belül napja szerint csoportosítva.&nbsp;</span> \n",
                "\n",
                "a. A lista csak a részösszegeket és a végösszeget tartalmazza!  \n",
                "b. Az oszlopoknak adjunk megfelelő nevet!  \n",
                "c. Ötlet: HAVING + GROUPING\\_ID fv együttes használata"
            ],
            "metadata": {
                "azdata_cell_guid": "84239ca2-6b5e-49f5-9860-d44c11d6de32"
            },
            "attachments": {}
        },
        {
            "cell_type": "code",
            "source": [
                ""
            ],
            "metadata": {
                "azdata_cell_guid": "06d9a62b-9430-424b-a135-d80e675f0eb3",
                "language": "sql"
            },
            "outputs": [],
            "execution_count": null
        }
    ]
}